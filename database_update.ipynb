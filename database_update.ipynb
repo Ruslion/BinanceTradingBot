{
 "cells": [
  {
   "cell_type": "code",
   "execution_count": 84,
   "metadata": {},
   "outputs": [],
   "source": [
    "import pandas as pd\n",
    "import database_connect as db_connect\n",
    "import time\n",
    "from datetime import timezone\n",
    "import stock_marker_binance\n",
    "\n"
   ]
  },
  {
   "cell_type": "code",
   "execution_count": 49,
   "metadata": {},
   "outputs": [],
   "source": [
    "def hours_to_milliseconds(hours):\n",
    "    return hours * 60 * 60 * 1000"
   ]
  },
  {
   "cell_type": "code",
   "execution_count": 59,
   "metadata": {},
   "outputs": [],
   "source": [
    "def insert_data_to_db(conn, df):\n",
    "    with conn.cursor() as cursor:\n",
    "        for row in df.itertuples():\n",
    "            query = f\"INSERT INTO trading_bot_historydataeth (timestamp, open, high, low, close, volume, \\\n",
    "            close_time, quote_asset_volume, num_trades) \\\n",
    "            VALUES ('{row.timestamp}', {row.open}, {row.high}, {row.low}, {row.close}, {row.volume}, \\\n",
    "            {row.close_time}, {row.quote_asset_volume}, {row.num_trades})\"\n",
    "            cursor.execute(query)\n",
    "            conn.commit()"
   ]
  },
  {
   "cell_type": "markdown",
   "metadata": {},
   "source": [
    "### Adding historical data to the database."
   ]
  },
  {
   "cell_type": "code",
   "execution_count": null,
   "metadata": {},
   "outputs": [],
   "source": [
    "df = pd.read_csv('ETH_1h_history as of 09-01-2024.csv', index_col=0)"
   ]
  },
  {
   "cell_type": "code",
   "execution_count": 25,
   "metadata": {},
   "outputs": [
    {
     "data": {
      "text/html": [
       "<div>\n",
       "<style scoped>\n",
       "    .dataframe tbody tr th:only-of-type {\n",
       "        vertical-align: middle;\n",
       "    }\n",
       "\n",
       "    .dataframe tbody tr th {\n",
       "        vertical-align: top;\n",
       "    }\n",
       "\n",
       "    .dataframe thead th {\n",
       "        text-align: right;\n",
       "    }\n",
       "</style>\n",
       "<table border=\"1\" class=\"dataframe\">\n",
       "  <thead>\n",
       "    <tr style=\"text-align: right;\">\n",
       "      <th></th>\n",
       "      <th>timestamp</th>\n",
       "      <th>open</th>\n",
       "      <th>high</th>\n",
       "      <th>low</th>\n",
       "      <th>close</th>\n",
       "      <th>volume</th>\n",
       "      <th>close_time</th>\n",
       "      <th>quote_asset_volume</th>\n",
       "      <th>num_trades</th>\n",
       "    </tr>\n",
       "  </thead>\n",
       "  <tbody>\n",
       "    <tr>\n",
       "      <th>0</th>\n",
       "      <td>01/01/2020 00:00</td>\n",
       "      <td>129.16</td>\n",
       "      <td>129.19</td>\n",
       "      <td>128.68</td>\n",
       "      <td>128.87</td>\n",
       "      <td>7769.17336</td>\n",
       "      <td>1.577840e+12</td>\n",
       "      <td>1.000930e+06</td>\n",
       "      <td>2504</td>\n",
       "    </tr>\n",
       "    <tr>\n",
       "      <th>1</th>\n",
       "      <td>01/01/2020 01:00</td>\n",
       "      <td>128.87</td>\n",
       "      <td>130.65</td>\n",
       "      <td>128.78</td>\n",
       "      <td>130.64</td>\n",
       "      <td>11344.65516</td>\n",
       "      <td>1.577840e+12</td>\n",
       "      <td>1.474278e+06</td>\n",
       "      <td>4885</td>\n",
       "    </tr>\n",
       "    <tr>\n",
       "      <th>2</th>\n",
       "      <td>01/01/2020 02:00</td>\n",
       "      <td>130.63</td>\n",
       "      <td>130.98</td>\n",
       "      <td>130.35</td>\n",
       "      <td>130.85</td>\n",
       "      <td>7603.35623</td>\n",
       "      <td>1.577850e+12</td>\n",
       "      <td>9.940256e+05</td>\n",
       "      <td>3046</td>\n",
       "    </tr>\n",
       "    <tr>\n",
       "      <th>3</th>\n",
       "      <td>01/01/2020 03:00</td>\n",
       "      <td>130.85</td>\n",
       "      <td>130.89</td>\n",
       "      <td>129.94</td>\n",
       "      <td>130.20</td>\n",
       "      <td>4968.55433</td>\n",
       "      <td>1.577850e+12</td>\n",
       "      <td>6.473610e+05</td>\n",
       "      <td>2818</td>\n",
       "    </tr>\n",
       "    <tr>\n",
       "      <th>4</th>\n",
       "      <td>01/01/2020 04:00</td>\n",
       "      <td>130.21</td>\n",
       "      <td>130.74</td>\n",
       "      <td>130.15</td>\n",
       "      <td>130.20</td>\n",
       "      <td>3397.90747</td>\n",
       "      <td>1.577850e+12</td>\n",
       "      <td>4.430067e+05</td>\n",
       "      <td>2264</td>\n",
       "    </tr>\n",
       "  </tbody>\n",
       "</table>\n",
       "</div>"
      ],
      "text/plain": [
       "          timestamp    open    high     low   close       volume  \\\n",
       "0  01/01/2020 00:00  129.16  129.19  128.68  128.87   7769.17336   \n",
       "1  01/01/2020 01:00  128.87  130.65  128.78  130.64  11344.65516   \n",
       "2  01/01/2020 02:00  130.63  130.98  130.35  130.85   7603.35623   \n",
       "3  01/01/2020 03:00  130.85  130.89  129.94  130.20   4968.55433   \n",
       "4  01/01/2020 04:00  130.21  130.74  130.15  130.20   3397.90747   \n",
       "\n",
       "     close_time  quote_asset_volume  num_trades  \n",
       "0  1.577840e+12        1.000930e+06        2504  \n",
       "1  1.577840e+12        1.474278e+06        4885  \n",
       "2  1.577850e+12        9.940256e+05        3046  \n",
       "3  1.577850e+12        6.473610e+05        2818  \n",
       "4  1.577850e+12        4.430067e+05        2264  "
      ]
     },
     "execution_count": 25,
     "metadata": {},
     "output_type": "execute_result"
    }
   ],
   "source": [
    "df.head()"
   ]
  },
  {
   "cell_type": "code",
   "execution_count": 27,
   "metadata": {},
   "outputs": [
    {
     "name": "stdout",
     "output_type": "stream",
     "text": [
      "Connected to the PostgreSQL server.\n"
     ]
    }
   ],
   "source": [
    "config = db_connect.load_config()\n",
    "conn = db_connect.connect(config)"
   ]
  },
  {
   "cell_type": "code",
   "execution_count": 28,
   "metadata": {},
   "outputs": [
    {
     "name": "stdout",
     "output_type": "stream",
     "text": [
      "(0, '01/01/2020 00:00', 129.16, 129.19, 128.68, 128.87, 7769.17336, 1577840000000.0, 1000929.742, 2504)\n"
     ]
    }
   ],
   "source": [
    "for row in df.itertuples():\n",
    "    print(tuple(row))\n",
    "    break"
   ]
  },
  {
   "cell_type": "code",
   "execution_count": 29,
   "metadata": {},
   "outputs": [],
   "source": [
    "# insert_data_to_db(conn, df) # Commented to avoid inserting data to db"
   ]
  },
  {
   "cell_type": "code",
   "execution_count": 32,
   "metadata": {},
   "outputs": [],
   "source": [
    "conn.close()"
   ]
  },
  {
   "cell_type": "markdown",
   "metadata": {},
   "source": [
    "### Update database with fresh data from Binance"
   ]
  },
  {
   "cell_type": "code",
   "execution_count": null,
   "metadata": {},
   "outputs": [],
   "source": [
    "# Every hour the script updates the database with the latest data from the API.\n",
    "# The script is run using a cron job.\n",
    "\n",
    "# Identifying the last timestamp in the database and using that as the starting point for the API call."
   ]
  },
  {
   "cell_type": "code",
   "execution_count": 81,
   "metadata": {},
   "outputs": [
    {
     "name": "stdout",
     "output_type": "stream",
     "text": [
      "Connected to the PostgreSQL server.\n"
     ]
    }
   ],
   "source": [
    "# Identifying the last timestamp in the database and using that as the starting point for the API call.\n",
    "config = db_connect.load_config()\n",
    "conn = db_connect.connect(config)"
   ]
  },
  {
   "cell_type": "code",
   "execution_count": 82,
   "metadata": {},
   "outputs": [
    {
     "name": "stdout",
     "output_type": "stream",
     "text": [
      "(datetime.datetime(2024, 1, 9, 7, 0, tzinfo=datetime.timezone(datetime.timedelta(seconds=18000))),)\n"
     ]
    }
   ],
   "source": [
    "with conn.cursor() as cursor:\n",
    "    cursor.execute(\"SELECT MAX(timestamp) FROM trading_bot_historydataeth\")\n",
    "    result = cursor.fetchone()\n",
    "    print(result)\n",
    "conn.close()"
   ]
  },
  {
   "cell_type": "code",
   "execution_count": 74,
   "metadata": {},
   "outputs": [
    {
     "data": {
      "text/plain": [
       "datetime.datetime"
      ]
     },
     "execution_count": 74,
     "metadata": {},
     "output_type": "execute_result"
    }
   ],
   "source": []
  },
  {
   "cell_type": "code",
   "execution_count": 91,
   "metadata": {},
   "outputs": [],
   "source": [
    "INTERVAL_START = result[0]\n",
    "\n",
    "# Adding 1 millisecond to avoid duplicates. Converted to UNIX time format.\n",
    "INTERVAL_START = int(INTERVAL_START.replace(tzinfo=timezone.utc).timestamp() * 1000) +1\n",
    "\n",
    "\n"
   ]
  },
  {
   "cell_type": "code",
   "execution_count": 93,
   "metadata": {},
   "outputs": [
    {
     "name": "stdout",
     "output_type": "stream",
     "text": [
      "1707232173000\n"
     ]
    }
   ],
   "source": [
    "url = 'https://api3.binance.com/api/v3/time'\n",
    "\n",
    "df_time_stop = pd.read_json(url, typ='series')\n",
    "\n",
    "TIME_STOP = df_time_stop.iloc[0]\n",
    "TIME_STOP = int ( time.mktime(TIME_STOP.timetuple())*1000)\n",
    "print(TIME_STOP)"
   ]
  },
  {
   "cell_type": "code",
   "execution_count": 94,
   "metadata": {},
   "outputs": [],
   "source": [
    "SYMBOL = 'ETHUSDT'\n",
    "INTERVAL = '1h'\n",
    "df_total = pd.DataFrame()"
   ]
  },
  {
   "cell_type": "code",
   "execution_count": 95,
   "metadata": {},
   "outputs": [
    {
     "name": "stdout",
     "output_type": "stream",
     "text": [
      "685\n"
     ]
    }
   ],
   "source": [
    "while INTERVAL_START < TIME_STOP:\n",
    "      df=stock_marker_binance.import_stock_data(SYMBOL, INTERVAL, startTime =INTERVAL_START, limit=984)\n",
    "      df.rename(\n",
    "          columns={0:'timestamp', 1:'open', 2:'high', 3:'low', 4:'close',5:'volume', 6:'close_time', 7:'quote_asset_volume',\n",
    "                8:'num_trades', 9:'taker_buy_base_asset_volume',10:'taker_buy_quote_asset_volume', 11:'unused_field'},\n",
    "         inplace=True)\n",
    "      df.drop(columns=['taker_buy_base_asset_volume', 'taker_buy_quote_asset_volume', 'unused_field'], inplace=True)\n",
    "      if len(df_total)>0:\n",
    "            df_total = pd.concat([df_total, df], ignore_index=True)\n",
    "      else:\n",
    "            df_total = df.copy()\n",
    "      INTERVAL_START = INTERVAL_START + hours_to_milliseconds(984)\n",
    "      print(len(df_total))"
   ]
  },
  {
   "cell_type": "code",
   "execution_count": 96,
   "metadata": {},
   "outputs": [
    {
     "data": {
      "text/html": [
       "<div>\n",
       "<style scoped>\n",
       "    .dataframe tbody tr th:only-of-type {\n",
       "        vertical-align: middle;\n",
       "    }\n",
       "\n",
       "    .dataframe tbody tr th {\n",
       "        vertical-align: top;\n",
       "    }\n",
       "\n",
       "    .dataframe thead th {\n",
       "        text-align: right;\n",
       "    }\n",
       "</style>\n",
       "<table border=\"1\" class=\"dataframe\">\n",
       "  <thead>\n",
       "    <tr style=\"text-align: right;\">\n",
       "      <th></th>\n",
       "      <th>timestamp</th>\n",
       "      <th>open</th>\n",
       "      <th>high</th>\n",
       "      <th>low</th>\n",
       "      <th>close</th>\n",
       "      <th>volume</th>\n",
       "      <th>close_time</th>\n",
       "      <th>quote_asset_volume</th>\n",
       "      <th>num_trades</th>\n",
       "    </tr>\n",
       "  </thead>\n",
       "  <tbody>\n",
       "    <tr>\n",
       "      <th>0</th>\n",
       "      <td>2024-01-09 08:00:00</td>\n",
       "      <td>2306.05</td>\n",
       "      <td>2311.30</td>\n",
       "      <td>2290.26</td>\n",
       "      <td>2291.28</td>\n",
       "      <td>11885.1589</td>\n",
       "      <td>1704790799999</td>\n",
       "      <td>2.734850e+07</td>\n",
       "      <td>29276</td>\n",
       "    </tr>\n",
       "    <tr>\n",
       "      <th>1</th>\n",
       "      <td>2024-01-09 09:00:00</td>\n",
       "      <td>2291.28</td>\n",
       "      <td>2297.22</td>\n",
       "      <td>2285.40</td>\n",
       "      <td>2291.37</td>\n",
       "      <td>14051.9445</td>\n",
       "      <td>1704794399999</td>\n",
       "      <td>3.220718e+07</td>\n",
       "      <td>34420</td>\n",
       "    </tr>\n",
       "    <tr>\n",
       "      <th>2</th>\n",
       "      <td>2024-01-09 10:00:00</td>\n",
       "      <td>2291.37</td>\n",
       "      <td>2301.73</td>\n",
       "      <td>2289.00</td>\n",
       "      <td>2292.40</td>\n",
       "      <td>9995.6604</td>\n",
       "      <td>1704797999999</td>\n",
       "      <td>2.294682e+07</td>\n",
       "      <td>23497</td>\n",
       "    </tr>\n",
       "    <tr>\n",
       "      <th>3</th>\n",
       "      <td>2024-01-09 11:00:00</td>\n",
       "      <td>2292.40</td>\n",
       "      <td>2303.09</td>\n",
       "      <td>2289.14</td>\n",
       "      <td>2298.76</td>\n",
       "      <td>9746.6547</td>\n",
       "      <td>1704801599999</td>\n",
       "      <td>2.238487e+07</td>\n",
       "      <td>25248</td>\n",
       "    </tr>\n",
       "    <tr>\n",
       "      <th>4</th>\n",
       "      <td>2024-01-09 12:00:00</td>\n",
       "      <td>2298.77</td>\n",
       "      <td>2304.21</td>\n",
       "      <td>2226.78</td>\n",
       "      <td>2264.20</td>\n",
       "      <td>28207.9071</td>\n",
       "      <td>1704805199999</td>\n",
       "      <td>6.415147e+07</td>\n",
       "      <td>67939</td>\n",
       "    </tr>\n",
       "  </tbody>\n",
       "</table>\n",
       "</div>"
      ],
      "text/plain": [
       "            timestamp     open     high      low    close      volume  \\\n",
       "0 2024-01-09 08:00:00  2306.05  2311.30  2290.26  2291.28  11885.1589   \n",
       "1 2024-01-09 09:00:00  2291.28  2297.22  2285.40  2291.37  14051.9445   \n",
       "2 2024-01-09 10:00:00  2291.37  2301.73  2289.00  2292.40   9995.6604   \n",
       "3 2024-01-09 11:00:00  2292.40  2303.09  2289.14  2298.76   9746.6547   \n",
       "4 2024-01-09 12:00:00  2298.77  2304.21  2226.78  2264.20  28207.9071   \n",
       "\n",
       "      close_time  quote_asset_volume  num_trades  \n",
       "0  1704790799999        2.734850e+07       29276  \n",
       "1  1704794399999        3.220718e+07       34420  \n",
       "2  1704797999999        2.294682e+07       23497  \n",
       "3  1704801599999        2.238487e+07       25248  \n",
       "4  1704805199999        6.415147e+07       67939  "
      ]
     },
     "execution_count": 96,
     "metadata": {},
     "output_type": "execute_result"
    }
   ],
   "source": [
    "df_total.head()"
   ]
  },
  {
   "cell_type": "code",
   "execution_count": 98,
   "metadata": {},
   "outputs": [
    {
     "name": "stdout",
     "output_type": "stream",
     "text": [
      "Connected to the PostgreSQL server.\n"
     ]
    }
   ],
   "source": [
    "conn = db_connect.connect(config)\n",
    "insert_data_to_db(conn, df_total)\n",
    "conn.close()"
   ]
  },
  {
   "cell_type": "code",
   "execution_count": null,
   "metadata": {},
   "outputs": [],
   "source": []
  },
  {
   "cell_type": "code",
   "execution_count": null,
   "metadata": {},
   "outputs": [],
   "source": []
  },
  {
   "cell_type": "code",
   "execution_count": null,
   "metadata": {},
   "outputs": [],
   "source": []
  },
  {
   "cell_type": "markdown",
   "metadata": {},
   "source": [
    "### Recalculate the additional columns"
   ]
  },
  {
   "cell_type": "markdown",
   "metadata": {},
   "source": []
  },
  {
   "cell_type": "markdown",
   "metadata": {},
   "source": []
  }
 ],
 "metadata": {
  "kernelspec": {
   "display_name": "base",
   "language": "python",
   "name": "python3"
  },
  "language_info": {
   "codemirror_mode": {
    "name": "ipython",
    "version": 3
   },
   "file_extension": ".py",
   "mimetype": "text/x-python",
   "name": "python",
   "nbconvert_exporter": "python",
   "pygments_lexer": "ipython3",
   "version": "3.11.5"
  }
 },
 "nbformat": 4,
 "nbformat_minor": 2
}
