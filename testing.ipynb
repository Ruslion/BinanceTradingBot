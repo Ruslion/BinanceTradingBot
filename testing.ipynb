{
 "cells": [
  {
   "cell_type": "code",
   "execution_count": 1,
   "metadata": {},
   "outputs": [],
   "source": [
    "import pandas as pd\n",
    "\n",
    "MAs=[3, 6, 12, 24, 48, 96, 192, 384]\n"
   ]
  },
  {
   "cell_type": "code",
   "execution_count": 19,
   "metadata": {},
   "outputs": [],
   "source": [
    "def rsi(df, MAs=MAs):\n",
    "    '''\n",
    "    This function adds different RSI values to the dataframe based on the list of periods.\n",
    "\n",
    "    '''\n",
    "    for period in MAs:\n",
    "        delta = df['close'].diff()\n",
    "        delta = delta[1:]\n",
    "        up, down = delta.copy(), delta.copy()\n",
    "        up[up < 0] = 0\n",
    "        down[down > 0] = 0\n",
    "        AVG_Gain = up.rolling(period, closed='both').mean()\n",
    "        AVG_Loss = abs(down.rolling(period, closed='both').mean())\n",
    "        RS = AVG_Gain/AVG_Loss\n",
    "        print(type(RS))\n",
    "        df['RSI_'+ str(period)] = 100.0 - (100.0 / (1.0 + RS))\n",
    "    return df"
   ]
  },
  {
   "cell_type": "code",
   "execution_count": 20,
   "metadata": {},
   "outputs": [],
   "source": [
    "df = pd.read_csv('ETH_1h_history as of 09-01-2024.csv', index_col=0)"
   ]
  },
  {
   "cell_type": "code",
   "execution_count": 21,
   "metadata": {},
   "outputs": [
    {
     "data": {
      "text/html": [
       "<div>\n",
       "<style scoped>\n",
       "    .dataframe tbody tr th:only-of-type {\n",
       "        vertical-align: middle;\n",
       "    }\n",
       "\n",
       "    .dataframe tbody tr th {\n",
       "        vertical-align: top;\n",
       "    }\n",
       "\n",
       "    .dataframe thead th {\n",
       "        text-align: right;\n",
       "    }\n",
       "</style>\n",
       "<table border=\"1\" class=\"dataframe\">\n",
       "  <thead>\n",
       "    <tr style=\"text-align: right;\">\n",
       "      <th></th>\n",
       "      <th>timestamp</th>\n",
       "      <th>open</th>\n",
       "      <th>high</th>\n",
       "      <th>low</th>\n",
       "      <th>close</th>\n",
       "      <th>volume</th>\n",
       "      <th>close_time</th>\n",
       "      <th>quote_asset_volume</th>\n",
       "      <th>num_trades</th>\n",
       "    </tr>\n",
       "  </thead>\n",
       "  <tbody>\n",
       "    <tr>\n",
       "      <th>0</th>\n",
       "      <td>2020-01-01 00:00:00</td>\n",
       "      <td>129.16</td>\n",
       "      <td>129.19</td>\n",
       "      <td>128.68</td>\n",
       "      <td>128.87</td>\n",
       "      <td>7769.17336</td>\n",
       "      <td>1577840399999</td>\n",
       "      <td>1.000930e+06</td>\n",
       "      <td>2504</td>\n",
       "    </tr>\n",
       "    <tr>\n",
       "      <th>1</th>\n",
       "      <td>2020-01-01 01:00:00</td>\n",
       "      <td>128.87</td>\n",
       "      <td>130.65</td>\n",
       "      <td>128.78</td>\n",
       "      <td>130.64</td>\n",
       "      <td>11344.65516</td>\n",
       "      <td>1577843999999</td>\n",
       "      <td>1.474278e+06</td>\n",
       "      <td>4885</td>\n",
       "    </tr>\n",
       "    <tr>\n",
       "      <th>2</th>\n",
       "      <td>2020-01-01 02:00:00</td>\n",
       "      <td>130.63</td>\n",
       "      <td>130.98</td>\n",
       "      <td>130.35</td>\n",
       "      <td>130.85</td>\n",
       "      <td>7603.35623</td>\n",
       "      <td>1577847599999</td>\n",
       "      <td>9.940256e+05</td>\n",
       "      <td>3046</td>\n",
       "    </tr>\n",
       "    <tr>\n",
       "      <th>3</th>\n",
       "      <td>2020-01-01 03:00:00</td>\n",
       "      <td>130.85</td>\n",
       "      <td>130.89</td>\n",
       "      <td>129.94</td>\n",
       "      <td>130.20</td>\n",
       "      <td>4968.55433</td>\n",
       "      <td>1577851199999</td>\n",
       "      <td>6.473610e+05</td>\n",
       "      <td>2818</td>\n",
       "    </tr>\n",
       "    <tr>\n",
       "      <th>4</th>\n",
       "      <td>2020-01-01 04:00:00</td>\n",
       "      <td>130.21</td>\n",
       "      <td>130.74</td>\n",
       "      <td>130.15</td>\n",
       "      <td>130.20</td>\n",
       "      <td>3397.90747</td>\n",
       "      <td>1577854799999</td>\n",
       "      <td>4.430067e+05</td>\n",
       "      <td>2264</td>\n",
       "    </tr>\n",
       "  </tbody>\n",
       "</table>\n",
       "</div>"
      ],
      "text/plain": [
       "             timestamp    open    high     low   close       volume  \\\n",
       "0  2020-01-01 00:00:00  129.16  129.19  128.68  128.87   7769.17336   \n",
       "1  2020-01-01 01:00:00  128.87  130.65  128.78  130.64  11344.65516   \n",
       "2  2020-01-01 02:00:00  130.63  130.98  130.35  130.85   7603.35623   \n",
       "3  2020-01-01 03:00:00  130.85  130.89  129.94  130.20   4968.55433   \n",
       "4  2020-01-01 04:00:00  130.21  130.74  130.15  130.20   3397.90747   \n",
       "\n",
       "      close_time  quote_asset_volume  num_trades  \n",
       "0  1577840399999        1.000930e+06        2504  \n",
       "1  1577843999999        1.474278e+06        4885  \n",
       "2  1577847599999        9.940256e+05        3046  \n",
       "3  1577851199999        6.473610e+05        2818  \n",
       "4  1577854799999        4.430067e+05        2264  "
      ]
     },
     "execution_count": 21,
     "metadata": {},
     "output_type": "execute_result"
    }
   ],
   "source": [
    "df.head()"
   ]
  },
  {
   "cell_type": "code",
   "execution_count": 22,
   "metadata": {},
   "outputs": [
    {
     "name": "stdout",
     "output_type": "stream",
     "text": [
      "<class 'pandas.core.series.Series'>\n",
      "<class 'pandas.core.series.Series'>\n",
      "<class 'pandas.core.series.Series'>\n",
      "<class 'pandas.core.series.Series'>\n",
      "<class 'pandas.core.series.Series'>\n",
      "<class 'pandas.core.series.Series'>\n",
      "<class 'pandas.core.series.Series'>\n",
      "<class 'pandas.core.series.Series'>\n"
     ]
    }
   ],
   "source": [
    "df = rsi(df)"
   ]
  },
  {
   "cell_type": "code",
   "execution_count": null,
   "metadata": {},
   "outputs": [],
   "source": []
  },
  {
   "cell_type": "code",
   "execution_count": 25,
   "metadata": {},
   "outputs": [
    {
     "data": {
      "text/html": [
       "<div>\n",
       "<style scoped>\n",
       "    .dataframe tbody tr th:only-of-type {\n",
       "        vertical-align: middle;\n",
       "    }\n",
       "\n",
       "    .dataframe tbody tr th {\n",
       "        vertical-align: top;\n",
       "    }\n",
       "\n",
       "    .dataframe thead th {\n",
       "        text-align: right;\n",
       "    }\n",
       "</style>\n",
       "<table border=\"1\" class=\"dataframe\">\n",
       "  <thead>\n",
       "    <tr style=\"text-align: right;\">\n",
       "      <th></th>\n",
       "      <th>timestamp</th>\n",
       "      <th>open</th>\n",
       "      <th>high</th>\n",
       "      <th>low</th>\n",
       "      <th>close</th>\n",
       "      <th>volume</th>\n",
       "      <th>close_time</th>\n",
       "      <th>quote_asset_volume</th>\n",
       "      <th>num_trades</th>\n",
       "      <th>RSI_3</th>\n",
       "      <th>RSI_6</th>\n",
       "      <th>RSI_12</th>\n",
       "      <th>RSI_24</th>\n",
       "      <th>RSI_48</th>\n",
       "      <th>RSI_96</th>\n",
       "      <th>RSI_192</th>\n",
       "      <th>RSI_384</th>\n",
       "    </tr>\n",
       "  </thead>\n",
       "  <tbody>\n",
       "    <tr>\n",
       "      <th>35259</th>\n",
       "      <td>2024-01-09 03:00:00</td>\n",
       "      <td>2312.09</td>\n",
       "      <td>2314.69</td>\n",
       "      <td>2307.02</td>\n",
       "      <td>2309.13</td>\n",
       "      <td>9382.4544</td>\n",
       "      <td>1704772799999</td>\n",
       "      <td>2.168060e+07</td>\n",
       "      <td>20175</td>\n",
       "      <td>16.398612</td>\n",
       "      <td>16.022925</td>\n",
       "      <td>64.655541</td>\n",
       "      <td>72.740467</td>\n",
       "      <td>57.264507</td>\n",
       "      <td>54.490455</td>\n",
       "      <td>50.460646</td>\n",
       "      <td>49.832741</td>\n",
       "    </tr>\n",
       "    <tr>\n",
       "      <th>35260</th>\n",
       "      <td>2024-01-09 04:00:00</td>\n",
       "      <td>2309.12</td>\n",
       "      <td>2318.00</td>\n",
       "      <td>2300.40</td>\n",
       "      <td>2315.20</td>\n",
       "      <td>8726.1326</td>\n",
       "      <td>1704776399999</td>\n",
       "      <td>2.015283e+07</td>\n",
       "      <td>21479</td>\n",
       "      <td>79.143258</td>\n",
       "      <td>25.966608</td>\n",
       "      <td>64.142636</td>\n",
       "      <td>72.639208</td>\n",
       "      <td>57.628004</td>\n",
       "      <td>54.738265</td>\n",
       "      <td>51.192459</td>\n",
       "      <td>49.977866</td>\n",
       "    </tr>\n",
       "    <tr>\n",
       "      <th>35261</th>\n",
       "      <td>2024-01-09 05:00:00</td>\n",
       "      <td>2315.20</td>\n",
       "      <td>2319.01</td>\n",
       "      <td>2301.40</td>\n",
       "      <td>2308.77</td>\n",
       "      <td>9108.7656</td>\n",
       "      <td>1704779999999</td>\n",
       "      <td>2.103808e+07</td>\n",
       "      <td>20845</td>\n",
       "      <td>48.380011</td>\n",
       "      <td>21.926070</td>\n",
       "      <td>63.956221</td>\n",
       "      <td>70.387045</td>\n",
       "      <td>56.278739</td>\n",
       "      <td>54.191957</td>\n",
       "      <td>50.841503</td>\n",
       "      <td>50.001657</td>\n",
       "    </tr>\n",
       "    <tr>\n",
       "      <th>35262</th>\n",
       "      <td>2024-01-09 06:00:00</td>\n",
       "      <td>2308.77</td>\n",
       "      <td>2309.08</td>\n",
       "      <td>2297.26</td>\n",
       "      <td>2302.00</td>\n",
       "      <td>8630.9460</td>\n",
       "      <td>1704783599999</td>\n",
       "      <td>1.988220e+07</td>\n",
       "      <td>21123</td>\n",
       "      <td>27.293165</td>\n",
       "      <td>22.106709</td>\n",
       "      <td>48.076616</td>\n",
       "      <td>68.685078</td>\n",
       "      <td>56.153156</td>\n",
       "      <td>53.567713</td>\n",
       "      <td>50.750594</td>\n",
       "      <td>50.245837</td>\n",
       "    </tr>\n",
       "    <tr>\n",
       "      <th>35263</th>\n",
       "      <td>2024-01-09 07:00:00</td>\n",
       "      <td>2302.00</td>\n",
       "      <td>2310.64</td>\n",
       "      <td>2298.58</td>\n",
       "      <td>2306.60</td>\n",
       "      <td>6331.7233</td>\n",
       "      <td>1704787199999</td>\n",
       "      <td>1.459177e+07</td>\n",
       "      <td>13559</td>\n",
       "      <td>44.700461</td>\n",
       "      <td>49.531835</td>\n",
       "      <td>35.411496</td>\n",
       "      <td>67.290031</td>\n",
       "      <td>55.969508</td>\n",
       "      <td>53.310429</td>\n",
       "      <td>50.710636</td>\n",
       "      <td>50.237400</td>\n",
       "    </tr>\n",
       "  </tbody>\n",
       "</table>\n",
       "</div>"
      ],
      "text/plain": [
       "                 timestamp     open     high      low    close     volume  \\\n",
       "35259  2024-01-09 03:00:00  2312.09  2314.69  2307.02  2309.13  9382.4544   \n",
       "35260  2024-01-09 04:00:00  2309.12  2318.00  2300.40  2315.20  8726.1326   \n",
       "35261  2024-01-09 05:00:00  2315.20  2319.01  2301.40  2308.77  9108.7656   \n",
       "35262  2024-01-09 06:00:00  2308.77  2309.08  2297.26  2302.00  8630.9460   \n",
       "35263  2024-01-09 07:00:00  2302.00  2310.64  2298.58  2306.60  6331.7233   \n",
       "\n",
       "          close_time  quote_asset_volume  num_trades      RSI_3      RSI_6  \\\n",
       "35259  1704772799999        2.168060e+07       20175  16.398612  16.022925   \n",
       "35260  1704776399999        2.015283e+07       21479  79.143258  25.966608   \n",
       "35261  1704779999999        2.103808e+07       20845  48.380011  21.926070   \n",
       "35262  1704783599999        1.988220e+07       21123  27.293165  22.106709   \n",
       "35263  1704787199999        1.459177e+07       13559  44.700461  49.531835   \n",
       "\n",
       "          RSI_12     RSI_24     RSI_48     RSI_96    RSI_192    RSI_384  \n",
       "35259  64.655541  72.740467  57.264507  54.490455  50.460646  49.832741  \n",
       "35260  64.142636  72.639208  57.628004  54.738265  51.192459  49.977866  \n",
       "35261  63.956221  70.387045  56.278739  54.191957  50.841503  50.001657  \n",
       "35262  48.076616  68.685078  56.153156  53.567713  50.750594  50.245837  \n",
       "35263  35.411496  67.290031  55.969508  53.310429  50.710636  50.237400  "
      ]
     },
     "execution_count": 25,
     "metadata": {},
     "output_type": "execute_result"
    }
   ],
   "source": [
    "df.tail()\n"
   ]
  },
  {
   "cell_type": "code",
   "execution_count": 8,
   "metadata": {},
   "outputs": [],
   "source": [
    "from tensorflow import keras"
   ]
  },
  {
   "cell_type": "code",
   "execution_count": 9,
   "metadata": {},
   "outputs": [
    {
     "name": "stdout",
     "output_type": "stream",
     "text": [
      "WARNING:tensorflow:From C:\\Users\\user\\AppData\\Roaming\\Python\\Python311\\site-packages\\keras\\src\\backend.py:1398: The name tf.executing_eagerly_outside_functions is deprecated. Please use tf.compat.v1.executing_eagerly_outside_functions instead.\n",
      "\n"
     ]
    }
   ],
   "source": [
    "model = keras.models.load_model('models/21-01-2024 13-18-26 val_PR 0.685 time frame 3.hd5')"
   ]
  },
  {
   "cell_type": "code",
   "execution_count": 10,
   "metadata": {},
   "outputs": [
    {
     "name": "stdout",
     "output_type": "stream",
     "text": [
      "Model: \"model_1\"\n",
      "_________________________________________________________________\n",
      " Layer (type)                Output Shape              Param #   \n",
      "=================================================================\n",
      " Input (InputLayer)          [(None, 3, 68)]           0         \n",
      "                                                                 \n",
      " normalization_1 (Normaliza  (None, 3, 68)             137       \n",
      " tion)                                                           \n",
      "                                                                 \n",
      " lstm_2 (LSTM)               (None, 3, 3)              864       \n",
      "                                                                 \n",
      " lstm_3 (LSTM)               (None, 3)                 84        \n",
      "                                                                 \n",
      " dense_1 (Dense)             (None, 1)                 4         \n",
      "                                                                 \n",
      " output (Dense)              (None, 4)                 8         \n",
      "                                                                 \n",
      "=================================================================\n",
      "Total params: 1097 (4.29 KB)\n",
      "Trainable params: 960 (3.75 KB)\n",
      "Non-trainable params: 137 (552.00 Byte)\n",
      "_________________________________________________________________\n"
     ]
    }
   ],
   "source": [
    "model.summary()"
   ]
  },
  {
   "cell_type": "code",
   "execution_count": 16,
   "metadata": {},
   "outputs": [
    {
     "name": "stdout",
     "output_type": "stream",
     "text": [
      "Input \t [(None, 3, 68)] \t [(None, 3, 68)]\n",
      "normalization_1 \t (None, 3, 68) \t (None, 3, 68)\n",
      "lstm_2 \t (None, 3, 68) \t (None, 3, 3)\n",
      "lstm_3 \t (None, 3, 3) \t (None, 3)\n",
      "dense_1 \t (None, 3) \t (None, 1)\n",
      "output \t (None, 1) \t (None, 4)\n"
     ]
    }
   ],
   "source": [
    "for lr in model.layers:\n",
    "    print(lr.name, \"\\t\",  lr.input_shape, \"\\t\", lr.output_shape)"
   ]
  },
  {
   "cell_type": "code",
   "execution_count": 4,
   "metadata": {},
   "outputs": [
    {
     "ename": "IndexError",
     "evalue": "list index out of range",
     "output_type": "error",
     "traceback": [
      "\u001b[1;31m---------------------------------------------------------------------------\u001b[0m",
      "\u001b[1;31mIndexError\u001b[0m                                Traceback (most recent call last)",
      "Cell \u001b[1;32mIn[4], line 3\u001b[0m\n\u001b[0;32m      1\u001b[0m \u001b[38;5;28;01mimport\u001b[39;00m \u001b[38;5;21;01mtensorflow\u001b[39;00m \u001b[38;5;28;01mas\u001b[39;00m \u001b[38;5;21;01mtf\u001b[39;00m\n\u001b[0;32m      2\u001b[0m physical_devices \u001b[38;5;241m=\u001b[39m tf\u001b[38;5;241m.\u001b[39mconfig\u001b[38;5;241m.\u001b[39mlist_physical_devices(\u001b[38;5;124m'\u001b[39m\u001b[38;5;124mGPU\u001b[39m\u001b[38;5;124m'\u001b[39m)\n\u001b[1;32m----> 3\u001b[0m tf\u001b[38;5;241m.\u001b[39mconfig\u001b[38;5;241m.\u001b[39mexperimental\u001b[38;5;241m.\u001b[39mset_memory_growth(physical_devices[\u001b[38;5;241m0\u001b[39m], enable\u001b[38;5;241m=\u001b[39m\u001b[38;5;28;01mTrue\u001b[39;00m)\n",
      "\u001b[1;31mIndexError\u001b[0m: list index out of range"
     ]
    }
   ],
   "source": [
    "import tensorflow as tf\n",
    "physical_devices = tf.config.list_physical_devices('GPU')\n",
    "tf.config.experimental.set_memory_growth(physical_devices[0], enable=True)"
   ]
  },
  {
   "cell_type": "code",
   "execution_count": 5,
   "metadata": {},
   "outputs": [],
   "source": [
    "device_name = tf.test.gpu_device_name()"
   ]
  },
  {
   "cell_type": "code",
   "execution_count": 6,
   "metadata": {},
   "outputs": [
    {
     "data": {
      "text/plain": [
       "''"
      ]
     },
     "execution_count": 6,
     "metadata": {},
     "output_type": "execute_result"
    }
   ],
   "source": [
    "device_name"
   ]
  },
  {
   "cell_type": "code",
   "execution_count": 1,
   "metadata": {},
   "outputs": [],
   "source": [
    "list_derived_columns = ['hour_sin', 'hour_cos', 'day_sin', 'day_cos', 'mon_sin', 'mon_cos',\n",
    "       'weekday_sin', 'weekday_cos', 'year', 'RATIO_close_and_MA3',\n",
    "       'RATIO_close_and_MA6', 'RATIO_close_and_MA12', 'RATIO_close_and_MA24',\n",
    "       'RATIO_close_and_MA48', 'RATIO_close_and_MA96', 'RATIO_close_and_MA192',\n",
    "       'RATIO_close_and_MA384', 'RATIO_quote_asset_volume_and_MA3',\n",
    "       'RATIO_quote_asset_volume_and_MA6', 'RATIO_quote_asset_volume_and_MA12',\n",
    "       'RATIO_quote_asset_volume_and_MA24',\n",
    "       'RATIO_quote_asset_volume_and_MA48',\n",
    "       'RATIO_quote_asset_volume_and_MA96',\n",
    "       'RATIO_quote_asset_volume_and_MA192',\n",
    "       'RATIO_quote_asset_volume_and_MA384', 'RATIO_num_trades_and_MA3',\n",
    "       'RATIO_num_trades_and_MA6', 'RATIO_num_trades_and_MA12',\n",
    "       'RATIO_num_trades_and_MA24', 'RATIO_num_trades_and_MA48',\n",
    "       'RATIO_num_trades_and_MA96', 'RATIO_num_trades_and_MA192',\n",
    "       'RATIO_num_trades_and_MA384', 'RATIO_close_and_STD3',\n",
    "       'RATIO_close_and_STD6', 'RATIO_close_and_STD12',\n",
    "       'RATIO_close_and_STD24', 'RATIO_close_and_STD48',\n",
    "       'RATIO_close_and_STD96', 'RATIO_close_and_STD192',\n",
    "       'RATIO_close_and_STD384', 'RSI_3_close', 'RSI_6_close', 'RSI_12_close',\n",
    "       'RSI_24_close', 'RSI_48_close', 'RSI_96_close', 'RSI_192_close',\n",
    "       'RSI_384_close']"
   ]
  },
  {
   "cell_type": "code",
   "execution_count": 2,
   "metadata": {},
   "outputs": [
    {
     "name": "stdout",
     "output_type": "stream",
     "text": [
      "hour_sin\n",
      "hour_cos\n",
      "day_sin\n",
      "day_cos\n",
      "mon_sin\n",
      "mon_cos\n",
      "weekday_sin\n",
      "weekday_cos\n",
      "year\n",
      "RATIO_close_and_MA3\n",
      "RATIO_close_and_MA6\n",
      "RATIO_close_and_MA12\n",
      "RATIO_close_and_MA24\n",
      "RATIO_close_and_MA48\n",
      "RATIO_close_and_MA96\n",
      "RATIO_close_and_MA192\n",
      "RATIO_close_and_MA384\n",
      "RATIO_quote_asset_volume_and_MA3\n",
      "RATIO_quote_asset_volume_and_MA6\n",
      "RATIO_quote_asset_volume_and_MA12\n",
      "RATIO_quote_asset_volume_and_MA24\n",
      "RATIO_quote_asset_volume_and_MA48\n",
      "RATIO_quote_asset_volume_and_MA96\n",
      "RATIO_quote_asset_volume_and_MA192\n",
      "RATIO_quote_asset_volume_and_MA384\n",
      "RATIO_num_trades_and_MA3\n",
      "RATIO_num_trades_and_MA6\n",
      "RATIO_num_trades_and_MA12\n",
      "RATIO_num_trades_and_MA24\n",
      "RATIO_num_trades_and_MA48\n",
      "RATIO_num_trades_and_MA96\n",
      "RATIO_num_trades_and_MA192\n",
      "RATIO_num_trades_and_MA384\n",
      "RATIO_close_and_STD3\n",
      "RATIO_close_and_STD6\n",
      "RATIO_close_and_STD12\n",
      "RATIO_close_and_STD24\n",
      "RATIO_close_and_STD48\n",
      "RATIO_close_and_STD96\n",
      "RATIO_close_and_STD192\n",
      "RATIO_close_and_STD384\n",
      "RSI_3_close\n",
      "RSI_6_close\n",
      "RSI_12_close\n",
      "RSI_24_close\n",
      "RSI_48_close\n",
      "RSI_96_close\n",
      "RSI_192_close\n",
      "RSI_384_close\n"
     ]
    }
   ],
   "source": [
    "for col in list_derived_columns:\n",
    "    print(col)"
   ]
  },
  {
   "cell_type": "code",
   "execution_count": 1,
   "metadata": {},
   "outputs": [
    {
     "name": "stdout",
     "output_type": "stream",
     "text": [
      "1e-08\n"
     ]
    }
   ],
   "source": [
    "print(0.00000001)"
   ]
  },
  {
   "cell_type": "code",
   "execution_count": null,
   "metadata": {},
   "outputs": [],
   "source": []
  }
 ],
 "metadata": {
  "kernelspec": {
   "display_name": "base",
   "language": "python",
   "name": "python3"
  },
  "language_info": {
   "codemirror_mode": {
    "name": "ipython",
    "version": 3
   },
   "file_extension": ".py",
   "mimetype": "text/x-python",
   "name": "python",
   "nbconvert_exporter": "python",
   "pygments_lexer": "ipython3",
   "version": "3.11.5"
  }
 },
 "nbformat": 4,
 "nbformat_minor": 2
}
