{
 "cells": [
  {
   "cell_type": "code",
   "execution_count": 6,
   "metadata": {},
   "outputs": [],
   "source": [
    "import pandas as pd\n",
    "import config\n",
    "from binance.spot import Spot"
   ]
  },
  {
   "cell_type": "code",
   "execution_count": 3,
   "metadata": {},
   "outputs": [
    {
     "name": "stdout",
     "output_type": "stream",
     "text": [
      "{'serverTime': 1707588520357}\n",
      "USDT 0.24452864\n",
      "ADA 1934.69354617\n",
      "FDUSD 0.03514103\n"
     ]
    }
   ],
   "source": [
    "client = Spot()\n",
    "\n",
    "# Get server timestamp\n",
    "print(client.time())\n",
    "# Get klines of BTCUSDT at 1m interval\n",
    "# print(client.klines(\"BTCUSDT\", \"1m\"))\n",
    "# Get last 10 klines of BNBUSDT at 1h interval\n",
    "# for i in (client.klines(\"ADAUSDT\", \"1h\", limit=2)):\n",
    "#     print (i)\n",
    "\n",
    "# API key/secret are required for user data endpoints\n",
    "client = Spot(api_key=config.KEY_VALUE, api_secret=config.KEY_SECRET)\n",
    "\n",
    "# Get account and balance information\n",
    "# print(client.account()['balances'])\n",
    "\n",
    "for currency in client.account()['balances']:\n",
    "    if float(currency['free']) > 0:\n",
    "        print(currency['asset'], currency['free'])\n",
    "\n",
    "# for i in (client.account()):\n",
    "#     print(i, \": \" , client.account()[i])\n",
    "\n",
    "# Post a new order\n",
    "# params = {\n",
    "#     'symbol': 'BTCUSDT',\n",
    "#     'side': 'SELL',\n",
    "#     'type': 'LIMIT',\n",
    "#     'timeInForce': 'GTC',\n",
    "#     'quantity': 0.002,\n",
    "#     'price': 9500\n",
    "# }\n",
    "\n",
    "# response = client.new_order(**params)\n",
    "# print(response)"
   ]
  },
  {
   "cell_type": "code",
   "execution_count": 10,
   "metadata": {},
   "outputs": [
    {
     "data": {
      "text/plain": [
       "{'code': 200,\n",
       " 'msg': '',\n",
       " 'snapshotVos': [{'type': 'spot',\n",
       "   'updateTime': 1707091199000,\n",
       "   'data': {'totalAssetOfBtc': '0.02242967',\n",
       "    'balances': [{'asset': 'ADA', 'free': '1934.69354617', 'locked': '0'},\n",
       "     {'asset': 'BNB', 'free': '0', 'locked': '0'},\n",
       "     {'asset': 'BUSD', 'free': '0', 'locked': '0'},\n",
       "     {'asset': 'FDUSD', 'free': '0.03514103', 'locked': '0'},\n",
       "     {'asset': 'KZT', 'free': '0', 'locked': '0'},\n",
       "     {'asset': 'USD', 'free': '0', 'locked': '0'},\n",
       "     {'asset': 'USDT', 'free': '0.24452864', 'locked': '0'}]}},\n",
       "  {'type': 'spot',\n",
       "   'updateTime': 1707177599000,\n",
       "   'data': {'totalAssetOfBtc': '0.0224103',\n",
       "    'balances': [{'asset': 'ADA', 'free': '1934.69354617', 'locked': '0'},\n",
       "     {'asset': 'BNB', 'free': '0', 'locked': '0'},\n",
       "     {'asset': 'BUSD', 'free': '0', 'locked': '0'},\n",
       "     {'asset': 'FDUSD', 'free': '0.03514103', 'locked': '0'},\n",
       "     {'asset': 'KZT', 'free': '0', 'locked': '0'},\n",
       "     {'asset': 'USD', 'free': '0', 'locked': '0'},\n",
       "     {'asset': 'USDT', 'free': '0.24452864', 'locked': '0'}]}},\n",
       "  {'type': 'spot',\n",
       "   'updateTime': 1707263999000,\n",
       "   'data': {'totalAssetOfBtc': '0.02237155',\n",
       "    'balances': [{'asset': 'ADA', 'free': '1934.69354617', 'locked': '0'},\n",
       "     {'asset': 'BNB', 'free': '0', 'locked': '0'},\n",
       "     {'asset': 'BUSD', 'free': '0', 'locked': '0'},\n",
       "     {'asset': 'FDUSD', 'free': '0.03514103', 'locked': '0'},\n",
       "     {'asset': 'KZT', 'free': '0', 'locked': '0'},\n",
       "     {'asset': 'USD', 'free': '0', 'locked': '0'},\n",
       "     {'asset': 'USDT', 'free': '0.24452864', 'locked': '0'}]}},\n",
       "  {'type': 'spot',\n",
       "   'updateTime': 1707350399000,\n",
       "   'data': {'totalAssetOfBtc': '0.02190704',\n",
       "    'balances': [{'asset': 'ADA', 'free': '1934.69354617', 'locked': '0'},\n",
       "     {'asset': 'BNB', 'free': '0', 'locked': '0'},\n",
       "     {'asset': 'BUSD', 'free': '0', 'locked': '0'},\n",
       "     {'asset': 'FDUSD', 'free': '0.03514103', 'locked': '0'},\n",
       "     {'asset': 'KZT', 'free': '0', 'locked': '0'},\n",
       "     {'asset': 'USD', 'free': '0', 'locked': '0'},\n",
       "     {'asset': 'USDT', 'free': '0.24452864', 'locked': '0'}]}},\n",
       "  {'type': 'spot',\n",
       "   'updateTime': 1707436799000,\n",
       "   'data': {'totalAssetOfBtc': '0.02266144',\n",
       "    'balances': [{'asset': 'ADA', 'free': '1934.69354617', 'locked': '0'},\n",
       "     {'asset': 'BNB', 'free': '0', 'locked': '0'},\n",
       "     {'asset': 'BUSD', 'free': '0', 'locked': '0'},\n",
       "     {'asset': 'FDUSD', 'free': '0.03514103', 'locked': '0'},\n",
       "     {'asset': 'KZT', 'free': '0', 'locked': '0'},\n",
       "     {'asset': 'USD', 'free': '0', 'locked': '0'},\n",
       "     {'asset': 'USDT', 'free': '0.24452864', 'locked': '0'}]}},\n",
       "  {'type': 'spot',\n",
       "   'updateTime': 1707523199000,\n",
       "   'data': {'totalAssetOfBtc': '0.02219687',\n",
       "    'balances': [{'asset': 'ADA', 'free': '1934.69354617', 'locked': '0'},\n",
       "     {'asset': 'BNB', 'free': '0', 'locked': '0'},\n",
       "     {'asset': 'BUSD', 'free': '0', 'locked': '0'},\n",
       "     {'asset': 'FDUSD', 'free': '0.03514103', 'locked': '0'},\n",
       "     {'asset': 'KZT', 'free': '0', 'locked': '0'},\n",
       "     {'asset': 'USD', 'free': '0', 'locked': '0'},\n",
       "     {'asset': 'USDT', 'free': '0.24452864', 'locked': '0'}]}},\n",
       "  {'type': 'spot',\n",
       "   'updateTime': 1707609599000,\n",
       "   'data': {'totalAssetOfBtc': '0.02233222',\n",
       "    'balances': [{'asset': 'ADA', 'free': '1934.69354617', 'locked': '0'},\n",
       "     {'asset': 'BNB', 'free': '0', 'locked': '0'},\n",
       "     {'asset': 'BUSD', 'free': '0', 'locked': '0'},\n",
       "     {'asset': 'FDUSD', 'free': '0.03514103', 'locked': '0'},\n",
       "     {'asset': 'USD', 'free': '0', 'locked': '0'},\n",
       "     {'asset': 'USDT', 'free': '0.24452864', 'locked': '0'}]}}]}"
      ]
     },
     "execution_count": 10,
     "metadata": {},
     "output_type": "execute_result"
    }
   ],
   "source": [
    "client.account_snapshot(type='SPOT', limit=5)"
   ]
  },
  {
   "cell_type": "code",
   "execution_count": 14,
   "metadata": {},
   "outputs": [
    {
     "data": {
      "text/plain": [
       "[{'symbol': 'ADAUSDT',\n",
       "  'orderId': 3993939014,\n",
       "  'orderListId': -1,\n",
       "  'clientOrderId': 'web_3cf6e5c9bf3241c18c16bfc703dde67a',\n",
       "  'price': '0.34860000',\n",
       "  'origQty': '1379.90000000',\n",
       "  'executedQty': '1379.90000000',\n",
       "  'cummulativeQuoteQty': '481.03314000',\n",
       "  'status': 'FILLED',\n",
       "  'timeInForce': 'GTC',\n",
       "  'type': 'LIMIT',\n",
       "  'side': 'BUY',\n",
       "  'stopPrice': '0.00000000',\n",
       "  'icebergQty': '0.00000000',\n",
       "  'time': 1686064607646,\n",
       "  'updateTime': 1686064652988,\n",
       "  'isWorking': True,\n",
       "  'workingTime': 1686064607646,\n",
       "  'origQuoteOrderQty': '0.00000000',\n",
       "  'selfTradePreventionMode': 'NONE'}]"
      ]
     },
     "execution_count": 14,
     "metadata": {},
     "output_type": "execute_result"
    }
   ],
   "source": [
    "client.get_orders(symbol='ADAUSDT')"
   ]
  },
  {
   "cell_type": "code",
   "execution_count": null,
   "metadata": {},
   "outputs": [],
   "source": []
  }
 ],
 "metadata": {
  "kernelspec": {
   "display_name": "base",
   "language": "python",
   "name": "python3"
  },
  "language_info": {
   "codemirror_mode": {
    "name": "ipython",
    "version": 3
   },
   "file_extension": ".py",
   "mimetype": "text/x-python",
   "name": "python",
   "nbconvert_exporter": "python",
   "pygments_lexer": "ipython3",
   "version": "3.11.5"
  },
  "orig_nbformat": 4,
  "vscode": {
   "interpreter": {
    "hash": "ad2bdc8ecc057115af97d19610ffacc2b4e99fae6737bb82f5d7fb13d2f2c186"
   }
  }
 },
 "nbformat": 4,
 "nbformat_minor": 2
}
