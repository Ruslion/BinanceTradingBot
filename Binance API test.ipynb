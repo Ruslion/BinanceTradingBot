{
 "cells": [
  {
   "cell_type": "code",
   "execution_count": 1,
   "metadata": {},
   "outputs": [],
   "source": [
    "import pandas as pd\n",
    "import config\n",
    "from binance.spot import Spot"
   ]
  },
  {
   "cell_type": "code",
   "execution_count": 7,
   "metadata": {},
   "outputs": [
    {
     "name": "stdout",
     "output_type": "stream",
     "text": [
      "{'serverTime': 1706970794311}\n",
      "USDT 0.24452864\n",
      "ADA 1934.69354617\n",
      "FDUSD 0.03514103\n"
     ]
    }
   ],
   "source": [
    "client = Spot()\n",
    "\n",
    "# Get server timestamp\n",
    "print(client.time())\n",
    "# Get klines of BTCUSDT at 1m interval\n",
    "# print(client.klines(\"BTCUSDT\", \"1m\"))\n",
    "# Get last 10 klines of BNBUSDT at 1h interval\n",
    "# for i in (client.klines(\"ADAUSDT\", \"1h\", limit=2)):\n",
    "#     print (i)\n",
    "\n",
    "# API key/secret are required for user data endpoints\n",
    "client = Spot(api_key=config.KEY_VALUE, api_secret=config.KEY_SECRET)\n",
    "\n",
    "# Get account and balance information\n",
    "# print(client.account()['balances'])\n",
    "\n",
    "for currency in client.account()['balances']:\n",
    "    if float(currency['free']) > 0:\n",
    "        print(currency['asset'], currency['free'])\n",
    "\n",
    "# for i in (client.account()):\n",
    "#     print(i, \": \" , client.account()[i])\n",
    "\n",
    "# Post a new order\n",
    "# params = {\n",
    "#     'symbol': 'BTCUSDT',\n",
    "#     'side': 'SELL',\n",
    "#     'type': 'LIMIT',\n",
    "#     'timeInForce': 'GTC',\n",
    "#     'quantity': 0.002,\n",
    "#     'price': 9500\n",
    "# }\n",
    "\n",
    "# response = client.new_order(**params)\n",
    "# print(response)"
   ]
  },
  {
   "cell_type": "code",
   "execution_count": null,
   "metadata": {},
   "outputs": [],
   "source": []
  },
  {
   "cell_type": "code",
   "execution_count": null,
   "metadata": {},
   "outputs": [],
   "source": []
  },
  {
   "cell_type": "code",
   "execution_count": null,
   "metadata": {},
   "outputs": [],
   "source": []
  }
 ],
 "metadata": {
  "kernelspec": {
   "display_name": "base",
   "language": "python",
   "name": "python3"
  },
  "language_info": {
   "codemirror_mode": {
    "name": "ipython",
    "version": 3
   },
   "file_extension": ".py",
   "mimetype": "text/x-python",
   "name": "python",
   "nbconvert_exporter": "python",
   "pygments_lexer": "ipython3",
   "version": "3.11.5"
  },
  "orig_nbformat": 4,
  "vscode": {
   "interpreter": {
    "hash": "ad2bdc8ecc057115af97d19610ffacc2b4e99fae6737bb82f5d7fb13d2f2c186"
   }
  }
 },
 "nbformat": 4,
 "nbformat_minor": 2
}
