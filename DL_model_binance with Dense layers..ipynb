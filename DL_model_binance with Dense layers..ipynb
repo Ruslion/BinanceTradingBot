{
 "cells": [
  {
   "cell_type": "code",
   "execution_count": 40,
   "metadata": {},
   "outputs": [],
   "source": [
    "import datetime\n",
    "import stock_marker_binance\n",
    "import model_design_dense_layers\n",
    "import pandas as pd\n",
    "from sklearn.utils import class_weight\n",
    "import numpy as np\n",
    "from sklearn.preprocessing import OneHotEncoder\n",
    "from imblearn.over_sampling import SMOTE\n",
    "import winsound\n",
    "import plotly.graph_objects as go"
   ]
  },
  {
   "cell_type": "code",
   "execution_count": null,
   "metadata": {},
   "outputs": [],
   "source": []
  },
  {
   "cell_type": "code",
   "execution_count": 41,
   "metadata": {},
   "outputs": [],
   "source": [
    "EPOCHS =  2000\n",
    "TRAIN_FRACTION = 0.8"
   ]
  },
  {
   "cell_type": "code",
   "execution_count": 132,
   "metadata": {},
   "outputs": [],
   "source": [
    "def plot_model_history(model_history, list_of_metrics):\n",
    "\n",
    "    fig = go.Figure()\n",
    "\n",
    "    # Add traces\n",
    "\n",
    "    for metric in list_of_metrics:\n",
    "        fig.add_trace(go.Scatter(y=model_history[metric],\n",
    "                            mode='lines',\n",
    "                            name=metric))\n",
    "        \n",
    "\n",
    "    fig.show()"
   ]
  },
  {
   "cell_type": "code",
   "execution_count": 43,
   "metadata": {},
   "outputs": [],
   "source": [
    "def dataframe_to_tensor(df, timestep_length: int):\n",
    "    \n",
    "    '''\n",
    "    Converts a pandas dataframe to a tensor\n",
    "    \n",
    "    Input: Pandas dataframe\n",
    "            timestep_length (int) - the length of the timestep\n",
    "    Output: Tensor\n",
    "    \n",
    "    '''\n",
    "    \n",
    "    # Convert the dataframe to a numpy array\n",
    "    df = np.array(df)\n",
    "\n",
    "    n_seq = len(df) - timestep_length + 1\n",
    "    return np.array([df[i:(i+timestep_length)] for i in range(n_seq)])"
   ]
  },
  {
   "cell_type": "code",
   "execution_count": 44,
   "metadata": {},
   "outputs": [],
   "source": [
    "def OneHotEncoding(df_result):\n",
    "    enc = OneHotEncoder()\n",
    "\n",
    "    OHE_array = enc.fit_transform(df_result[['action']]).toarray()\n",
    "\n",
    "    class_weights = class_weight.compute_class_weight(class_weight='balanced',\n",
    "                                                    classes=np.unique(df_result['action']),\n",
    "                                                    y=df_result['action'])\n",
    "\n",
    "\n",
    "\n",
    "    class_weights_dict = dict(zip(enc.categories_[0], class_weights))\n",
    "\n",
    "    print(class_weights)\n",
    "    print(enc.categories_[0])\n",
    "    print(class_weights_dict.keys())\n",
    "    print(np.unique(df_result['action']))\n",
    "\n",
    "    \n",
    "    OHE_df = pd.DataFrame(OHE_array, columns=enc.categories_[0])\n",
    "    df_result = pd.merge(df_result, OHE_df, left_index=True, right_index=True)\n",
    "    df_result.drop(columns=['action'], inplace=True)\n",
    "    return df_result, class_weights_dict"
   ]
  },
  {
   "cell_type": "code",
   "execution_count": 45,
   "metadata": {},
   "outputs": [],
   "source": [
    "def smote(df, train_frac):\n",
    "    '''\n",
    "    Oversample the minority class using SMOTE prior to OHE.\n",
    "    '''\n",
    "\n",
    "    n_train = int(df.shape[0] * train_frac)\n",
    "    n_test = df.shape[0] - n_train\n",
    "\n",
    "    train_data = df.iloc[:n_train, :]\n",
    "    test_data = df.iloc[n_train:, :]\n",
    "\n",
    "    x_train = train_data.drop(columns = ['action'])\n",
    "    y_train = train_data['action']\n",
    "\n",
    "    \n",
    "    smote_inst = SMOTE(sampling_strategy='auto', random_state=2611)\n",
    "      \n",
    "    x_train , y_train = smote_inst.fit_resample(x_train, y_train)\n",
    "    \n",
    "    \n",
    "    train_data = pd.concat([x_train, y_train], axis=1)\n",
    "    \n",
    "    print(train_data[['action', 'year']].groupby('action').count())\n",
    "    print(test_data[['action', 'year']].groupby('action').count())\n",
    "    \n",
    "    df = pd.concat([train_data, test_data], ignore_index=True)\n",
    "\n",
    "    return df, n_test"
   ]
  },
  {
   "cell_type": "code",
   "execution_count": 46,
   "metadata": {},
   "outputs": [],
   "source": [
    "def downsample_majority_classes(df, list_of_classes):\n",
    "    '''\n",
    "    Downsamples the majority classes to the size of the minority class\n",
    "    \n",
    "    Input: Pandas dataframe\n",
    "            list_of_classes (list) - list of classes to downsample\n",
    "            size (int) - the size of the minority class\n",
    "    Output: Pandas dataframe\n",
    "    '''\n",
    "\n",
    "    size = len(df[(df['B'] == 1) | (df['S'] == 1)]) // 2\n",
    "\n",
    "    print(\"Size of minority class: \", size)\n",
    "    \n",
    "    df = df.copy()\n",
    "    for class_ in list_of_classes:\n",
    "        df_class = df[df[class_] == 1]\n",
    "        df_class_downsampled = df_class.sample(size, random_state=2611)\n",
    "        df = df.drop(df_class.index)\n",
    "        df = pd.concat([df, df_class_downsampled])\n",
    "    return df"
   ]
  },
  {
   "cell_type": "code",
   "execution_count": 47,
   "metadata": {},
   "outputs": [],
   "source": [
    "def get_train_test_sets(data, n_test):\n",
    "    '''\n",
    "    Train and test sets to be split prior to reducing majority class.\n",
    "    '''\n",
    "    # n_train = int(data.shape[0] * train_frac)\n",
    "\n",
    "    train_data = data[:-n_test]\n",
    "    test_data = data[-n_test:]\n",
    "\n",
    "    # train_data = downsample_majority_classes(train_data, ['H', 'W'])\n",
    "\n",
    "    \n",
    "    \n",
    "    train_data = np.array(train_data)\n",
    "    test_data = np.array(test_data)\n",
    "\n",
    "    \n",
    "    x_train = train_data[:,  :-4]\n",
    "    y_train = train_data[:,  -4:]\n",
    "    x_test = test_data[:, :-4]\n",
    "    y_test = test_data[:, -4:]\n",
    "    return x_train, y_train, x_test, y_test"
   ]
  },
  {
   "cell_type": "code",
   "execution_count": 48,
   "metadata": {},
   "outputs": [],
   "source": [
    "# import tensorflow as tf\n",
    "# physical_devices = tf.config.list_physical_devices('GPU')\n",
    "# tf.config.experimental.set_memory_growth(physical_devices[0], enable=True)"
   ]
  },
  {
   "cell_type": "code",
   "execution_count": 49,
   "metadata": {},
   "outputs": [],
   "source": [
    "df = pd.read_csv('ETH_1h_history as of 09-01-2024.csv', index_col=0)"
   ]
  },
  {
   "cell_type": "code",
   "execution_count": 50,
   "metadata": {},
   "outputs": [
    {
     "data": {
      "text/html": [
       "<div>\n",
       "<style scoped>\n",
       "    .dataframe tbody tr th:only-of-type {\n",
       "        vertical-align: middle;\n",
       "    }\n",
       "\n",
       "    .dataframe tbody tr th {\n",
       "        vertical-align: top;\n",
       "    }\n",
       "\n",
       "    .dataframe thead th {\n",
       "        text-align: right;\n",
       "    }\n",
       "</style>\n",
       "<table border=\"1\" class=\"dataframe\">\n",
       "  <thead>\n",
       "    <tr style=\"text-align: right;\">\n",
       "      <th></th>\n",
       "      <th>timestamp</th>\n",
       "      <th>open</th>\n",
       "      <th>high</th>\n",
       "      <th>low</th>\n",
       "      <th>close</th>\n",
       "      <th>volume</th>\n",
       "      <th>close_time</th>\n",
       "      <th>quote_asset_volume</th>\n",
       "      <th>num_trades</th>\n",
       "    </tr>\n",
       "  </thead>\n",
       "  <tbody>\n",
       "    <tr>\n",
       "      <th>0</th>\n",
       "      <td>01/01/2020 00:00</td>\n",
       "      <td>129.16</td>\n",
       "      <td>129.19</td>\n",
       "      <td>128.68</td>\n",
       "      <td>128.87</td>\n",
       "      <td>7769.17336</td>\n",
       "      <td>1.577840e+12</td>\n",
       "      <td>1.000930e+06</td>\n",
       "      <td>2504</td>\n",
       "    </tr>\n",
       "    <tr>\n",
       "      <th>1</th>\n",
       "      <td>01/01/2020 01:00</td>\n",
       "      <td>128.87</td>\n",
       "      <td>130.65</td>\n",
       "      <td>128.78</td>\n",
       "      <td>130.64</td>\n",
       "      <td>11344.65516</td>\n",
       "      <td>1.577840e+12</td>\n",
       "      <td>1.474278e+06</td>\n",
       "      <td>4885</td>\n",
       "    </tr>\n",
       "    <tr>\n",
       "      <th>2</th>\n",
       "      <td>01/01/2020 02:00</td>\n",
       "      <td>130.63</td>\n",
       "      <td>130.98</td>\n",
       "      <td>130.35</td>\n",
       "      <td>130.85</td>\n",
       "      <td>7603.35623</td>\n",
       "      <td>1.577850e+12</td>\n",
       "      <td>9.940256e+05</td>\n",
       "      <td>3046</td>\n",
       "    </tr>\n",
       "    <tr>\n",
       "      <th>3</th>\n",
       "      <td>01/01/2020 03:00</td>\n",
       "      <td>130.85</td>\n",
       "      <td>130.89</td>\n",
       "      <td>129.94</td>\n",
       "      <td>130.20</td>\n",
       "      <td>4968.55433</td>\n",
       "      <td>1.577850e+12</td>\n",
       "      <td>6.473610e+05</td>\n",
       "      <td>2818</td>\n",
       "    </tr>\n",
       "    <tr>\n",
       "      <th>4</th>\n",
       "      <td>01/01/2020 04:00</td>\n",
       "      <td>130.21</td>\n",
       "      <td>130.74</td>\n",
       "      <td>130.15</td>\n",
       "      <td>130.20</td>\n",
       "      <td>3397.90747</td>\n",
       "      <td>1.577850e+12</td>\n",
       "      <td>4.430067e+05</td>\n",
       "      <td>2264</td>\n",
       "    </tr>\n",
       "  </tbody>\n",
       "</table>\n",
       "</div>"
      ],
      "text/plain": [
       "          timestamp    open    high     low   close       volume  \\\n",
       "0  01/01/2020 00:00  129.16  129.19  128.68  128.87   7769.17336   \n",
       "1  01/01/2020 01:00  128.87  130.65  128.78  130.64  11344.65516   \n",
       "2  01/01/2020 02:00  130.63  130.98  130.35  130.85   7603.35623   \n",
       "3  01/01/2020 03:00  130.85  130.89  129.94  130.20   4968.55433   \n",
       "4  01/01/2020 04:00  130.21  130.74  130.15  130.20   3397.90747   \n",
       "\n",
       "     close_time  quote_asset_volume  num_trades  \n",
       "0  1.577840e+12        1.000930e+06        2504  \n",
       "1  1.577840e+12        1.474278e+06        4885  \n",
       "2  1.577850e+12        9.940256e+05        3046  \n",
       "3  1.577850e+12        6.473610e+05        2818  \n",
       "4  1.577850e+12        4.430067e+05        2264  "
      ]
     },
     "execution_count": 50,
     "metadata": {},
     "output_type": "execute_result"
    }
   ],
   "source": [
    "df.head()"
   ]
  },
  {
   "cell_type": "code",
   "execution_count": 51,
   "metadata": {},
   "outputs": [],
   "source": [
    "df_result = stock_marker_binance.sorting_timestamp(df)\n",
    "\n",
    "df_result['hour_sin'] = np.sin(df_result['timestamp'].dt.hour / 24 * 2 * np.pi)\n",
    "df_result['hour_cos'] = np.cos(df_result['timestamp'].dt.hour / 24 * 2 * np.pi)\n",
    "\n",
    "df_result['day_sin'] = np.sin(df_result['timestamp'].dt.day / 30 * 2 * np.pi)\n",
    "df_result['day_cos'] = np.cos(df_result['timestamp'].dt.day / 30 * 2 * np.pi)\n",
    "\n",
    "df_result['mon_sin'] = np.sin(df_result['timestamp'].dt.month / 12 * 2 * np.pi)\n",
    "df_result['mon_cos'] = np.cos(df_result['timestamp'].dt.month / 12 * 2 * np.pi)\n",
    "\n",
    "df_result['weekday_sin'] = np.sin(df_result['timestamp'].dt.weekday / 7 * 2 * np.pi)\n",
    "df_result['weekday_cos'] = np.cos(df_result['timestamp'].dt.weekday / 7 * 2 * np.pi)\n",
    "\n",
    "df_result['year'] = df_result['timestamp'].dt.year\n"
   ]
  },
  {
   "cell_type": "code",
   "execution_count": 52,
   "metadata": {},
   "outputs": [
    {
     "data": {
      "text/html": [
       "<div>\n",
       "<style scoped>\n",
       "    .dataframe tbody tr th:only-of-type {\n",
       "        vertical-align: middle;\n",
       "    }\n",
       "\n",
       "    .dataframe tbody tr th {\n",
       "        vertical-align: top;\n",
       "    }\n",
       "\n",
       "    .dataframe thead th {\n",
       "        text-align: right;\n",
       "    }\n",
       "</style>\n",
       "<table border=\"1\" class=\"dataframe\">\n",
       "  <thead>\n",
       "    <tr style=\"text-align: right;\">\n",
       "      <th></th>\n",
       "      <th>timestamp</th>\n",
       "      <th>open</th>\n",
       "      <th>high</th>\n",
       "      <th>low</th>\n",
       "      <th>close</th>\n",
       "      <th>volume</th>\n",
       "      <th>close_time</th>\n",
       "      <th>quote_asset_volume</th>\n",
       "      <th>num_trades</th>\n",
       "      <th>hour_sin</th>\n",
       "      <th>hour_cos</th>\n",
       "      <th>day_sin</th>\n",
       "      <th>day_cos</th>\n",
       "      <th>mon_sin</th>\n",
       "      <th>mon_cos</th>\n",
       "      <th>weekday_sin</th>\n",
       "      <th>weekday_cos</th>\n",
       "      <th>year</th>\n",
       "    </tr>\n",
       "  </thead>\n",
       "  <tbody>\n",
       "    <tr>\n",
       "      <th>0</th>\n",
       "      <td>2020-01-01 00:00:00</td>\n",
       "      <td>129.16</td>\n",
       "      <td>129.19</td>\n",
       "      <td>128.68</td>\n",
       "      <td>128.87</td>\n",
       "      <td>7769.17336</td>\n",
       "      <td>1.577840e+12</td>\n",
       "      <td>1.000930e+06</td>\n",
       "      <td>2504</td>\n",
       "      <td>0.000000</td>\n",
       "      <td>1.000000e+00</td>\n",
       "      <td>0.207912</td>\n",
       "      <td>0.978148</td>\n",
       "      <td>0.5</td>\n",
       "      <td>0.866025</td>\n",
       "      <td>0.974928</td>\n",
       "      <td>-0.222521</td>\n",
       "      <td>2020</td>\n",
       "    </tr>\n",
       "    <tr>\n",
       "      <th>1</th>\n",
       "      <td>2020-01-01 01:00:00</td>\n",
       "      <td>128.87</td>\n",
       "      <td>130.65</td>\n",
       "      <td>128.78</td>\n",
       "      <td>130.64</td>\n",
       "      <td>11344.65516</td>\n",
       "      <td>1.577840e+12</td>\n",
       "      <td>1.474278e+06</td>\n",
       "      <td>4885</td>\n",
       "      <td>0.258819</td>\n",
       "      <td>9.659258e-01</td>\n",
       "      <td>0.207912</td>\n",
       "      <td>0.978148</td>\n",
       "      <td>0.5</td>\n",
       "      <td>0.866025</td>\n",
       "      <td>0.974928</td>\n",
       "      <td>-0.222521</td>\n",
       "      <td>2020</td>\n",
       "    </tr>\n",
       "    <tr>\n",
       "      <th>2</th>\n",
       "      <td>2020-01-01 02:00:00</td>\n",
       "      <td>130.63</td>\n",
       "      <td>130.98</td>\n",
       "      <td>130.35</td>\n",
       "      <td>130.85</td>\n",
       "      <td>7603.35623</td>\n",
       "      <td>1.577850e+12</td>\n",
       "      <td>9.940256e+05</td>\n",
       "      <td>3046</td>\n",
       "      <td>0.500000</td>\n",
       "      <td>8.660254e-01</td>\n",
       "      <td>0.207912</td>\n",
       "      <td>0.978148</td>\n",
       "      <td>0.5</td>\n",
       "      <td>0.866025</td>\n",
       "      <td>0.974928</td>\n",
       "      <td>-0.222521</td>\n",
       "      <td>2020</td>\n",
       "    </tr>\n",
       "    <tr>\n",
       "      <th>3</th>\n",
       "      <td>2020-01-01 03:00:00</td>\n",
       "      <td>130.85</td>\n",
       "      <td>130.89</td>\n",
       "      <td>129.94</td>\n",
       "      <td>130.20</td>\n",
       "      <td>4968.55433</td>\n",
       "      <td>1.577850e+12</td>\n",
       "      <td>6.473610e+05</td>\n",
       "      <td>2818</td>\n",
       "      <td>0.707107</td>\n",
       "      <td>7.071068e-01</td>\n",
       "      <td>0.207912</td>\n",
       "      <td>0.978148</td>\n",
       "      <td>0.5</td>\n",
       "      <td>0.866025</td>\n",
       "      <td>0.974928</td>\n",
       "      <td>-0.222521</td>\n",
       "      <td>2020</td>\n",
       "    </tr>\n",
       "    <tr>\n",
       "      <th>4</th>\n",
       "      <td>2020-01-01 04:00:00</td>\n",
       "      <td>130.21</td>\n",
       "      <td>130.74</td>\n",
       "      <td>130.15</td>\n",
       "      <td>130.20</td>\n",
       "      <td>3397.90747</td>\n",
       "      <td>1.577850e+12</td>\n",
       "      <td>4.430067e+05</td>\n",
       "      <td>2264</td>\n",
       "      <td>0.866025</td>\n",
       "      <td>5.000000e-01</td>\n",
       "      <td>0.207912</td>\n",
       "      <td>0.978148</td>\n",
       "      <td>0.5</td>\n",
       "      <td>0.866025</td>\n",
       "      <td>0.974928</td>\n",
       "      <td>-0.222521</td>\n",
       "      <td>2020</td>\n",
       "    </tr>\n",
       "    <tr>\n",
       "      <th>5</th>\n",
       "      <td>2020-01-01 05:00:00</td>\n",
       "      <td>130.20</td>\n",
       "      <td>130.47</td>\n",
       "      <td>130.11</td>\n",
       "      <td>130.30</td>\n",
       "      <td>4243.60640</td>\n",
       "      <td>1.577860e+12</td>\n",
       "      <td>5.529727e+05</td>\n",
       "      <td>2426</td>\n",
       "      <td>0.965926</td>\n",
       "      <td>2.588190e-01</td>\n",
       "      <td>0.207912</td>\n",
       "      <td>0.978148</td>\n",
       "      <td>0.5</td>\n",
       "      <td>0.866025</td>\n",
       "      <td>0.974928</td>\n",
       "      <td>-0.222521</td>\n",
       "      <td>2020</td>\n",
       "    </tr>\n",
       "    <tr>\n",
       "      <th>6</th>\n",
       "      <td>2020-01-01 06:00:00</td>\n",
       "      <td>130.31</td>\n",
       "      <td>130.75</td>\n",
       "      <td>130.26</td>\n",
       "      <td>130.44</td>\n",
       "      <td>3668.90166</td>\n",
       "      <td>1.577860e+12</td>\n",
       "      <td>4.789442e+05</td>\n",
       "      <td>2347</td>\n",
       "      <td>1.000000</td>\n",
       "      <td>6.123234e-17</td>\n",
       "      <td>0.207912</td>\n",
       "      <td>0.978148</td>\n",
       "      <td>0.5</td>\n",
       "      <td>0.866025</td>\n",
       "      <td>0.974928</td>\n",
       "      <td>-0.222521</td>\n",
       "      <td>2020</td>\n",
       "    </tr>\n",
       "    <tr>\n",
       "      <th>7</th>\n",
       "      <td>2020-01-01 07:00:00</td>\n",
       "      <td>130.47</td>\n",
       "      <td>130.71</td>\n",
       "      <td>130.14</td>\n",
       "      <td>130.24</td>\n",
       "      <td>4147.17413</td>\n",
       "      <td>1.577870e+12</td>\n",
       "      <td>5.407707e+05</td>\n",
       "      <td>2568</td>\n",
       "      <td>0.965926</td>\n",
       "      <td>-2.588190e-01</td>\n",
       "      <td>0.207912</td>\n",
       "      <td>0.978148</td>\n",
       "      <td>0.5</td>\n",
       "      <td>0.866025</td>\n",
       "      <td>0.974928</td>\n",
       "      <td>-0.222521</td>\n",
       "      <td>2020</td>\n",
       "    </tr>\n",
       "    <tr>\n",
       "      <th>8</th>\n",
       "      <td>2020-01-01 08:00:00</td>\n",
       "      <td>130.24</td>\n",
       "      <td>130.41</td>\n",
       "      <td>129.87</td>\n",
       "      <td>130.36</td>\n",
       "      <td>7541.44497</td>\n",
       "      <td>1.577870e+12</td>\n",
       "      <td>9.808940e+05</td>\n",
       "      <td>3039</td>\n",
       "      <td>0.866025</td>\n",
       "      <td>-5.000000e-01</td>\n",
       "      <td>0.207912</td>\n",
       "      <td>0.978148</td>\n",
       "      <td>0.5</td>\n",
       "      <td>0.866025</td>\n",
       "      <td>0.974928</td>\n",
       "      <td>-0.222521</td>\n",
       "      <td>2020</td>\n",
       "    </tr>\n",
       "    <tr>\n",
       "      <th>9</th>\n",
       "      <td>2020-01-01 09:00:00</td>\n",
       "      <td>130.40</td>\n",
       "      <td>130.62</td>\n",
       "      <td>130.13</td>\n",
       "      <td>130.17</td>\n",
       "      <td>4808.20496</td>\n",
       "      <td>1.577870e+12</td>\n",
       "      <td>6.268190e+05</td>\n",
       "      <td>2696</td>\n",
       "      <td>0.707107</td>\n",
       "      <td>-7.071068e-01</td>\n",
       "      <td>0.207912</td>\n",
       "      <td>0.978148</td>\n",
       "      <td>0.5</td>\n",
       "      <td>0.866025</td>\n",
       "      <td>0.974928</td>\n",
       "      <td>-0.222521</td>\n",
       "      <td>2020</td>\n",
       "    </tr>\n",
       "  </tbody>\n",
       "</table>\n",
       "</div>"
      ],
      "text/plain": [
       "            timestamp    open    high     low   close       volume  \\\n",
       "0 2020-01-01 00:00:00  129.16  129.19  128.68  128.87   7769.17336   \n",
       "1 2020-01-01 01:00:00  128.87  130.65  128.78  130.64  11344.65516   \n",
       "2 2020-01-01 02:00:00  130.63  130.98  130.35  130.85   7603.35623   \n",
       "3 2020-01-01 03:00:00  130.85  130.89  129.94  130.20   4968.55433   \n",
       "4 2020-01-01 04:00:00  130.21  130.74  130.15  130.20   3397.90747   \n",
       "5 2020-01-01 05:00:00  130.20  130.47  130.11  130.30   4243.60640   \n",
       "6 2020-01-01 06:00:00  130.31  130.75  130.26  130.44   3668.90166   \n",
       "7 2020-01-01 07:00:00  130.47  130.71  130.14  130.24   4147.17413   \n",
       "8 2020-01-01 08:00:00  130.24  130.41  129.87  130.36   7541.44497   \n",
       "9 2020-01-01 09:00:00  130.40  130.62  130.13  130.17   4808.20496   \n",
       "\n",
       "     close_time  quote_asset_volume  num_trades  hour_sin      hour_cos  \\\n",
       "0  1.577840e+12        1.000930e+06        2504  0.000000  1.000000e+00   \n",
       "1  1.577840e+12        1.474278e+06        4885  0.258819  9.659258e-01   \n",
       "2  1.577850e+12        9.940256e+05        3046  0.500000  8.660254e-01   \n",
       "3  1.577850e+12        6.473610e+05        2818  0.707107  7.071068e-01   \n",
       "4  1.577850e+12        4.430067e+05        2264  0.866025  5.000000e-01   \n",
       "5  1.577860e+12        5.529727e+05        2426  0.965926  2.588190e-01   \n",
       "6  1.577860e+12        4.789442e+05        2347  1.000000  6.123234e-17   \n",
       "7  1.577870e+12        5.407707e+05        2568  0.965926 -2.588190e-01   \n",
       "8  1.577870e+12        9.808940e+05        3039  0.866025 -5.000000e-01   \n",
       "9  1.577870e+12        6.268190e+05        2696  0.707107 -7.071068e-01   \n",
       "\n",
       "    day_sin   day_cos  mon_sin   mon_cos  weekday_sin  weekday_cos  year  \n",
       "0  0.207912  0.978148      0.5  0.866025     0.974928    -0.222521  2020  \n",
       "1  0.207912  0.978148      0.5  0.866025     0.974928    -0.222521  2020  \n",
       "2  0.207912  0.978148      0.5  0.866025     0.974928    -0.222521  2020  \n",
       "3  0.207912  0.978148      0.5  0.866025     0.974928    -0.222521  2020  \n",
       "4  0.207912  0.978148      0.5  0.866025     0.974928    -0.222521  2020  \n",
       "5  0.207912  0.978148      0.5  0.866025     0.974928    -0.222521  2020  \n",
       "6  0.207912  0.978148      0.5  0.866025     0.974928    -0.222521  2020  \n",
       "7  0.207912  0.978148      0.5  0.866025     0.974928    -0.222521  2020  \n",
       "8  0.207912  0.978148      0.5  0.866025     0.974928    -0.222521  2020  \n",
       "9  0.207912  0.978148      0.5  0.866025     0.974928    -0.222521  2020  "
      ]
     },
     "execution_count": 52,
     "metadata": {},
     "output_type": "execute_result"
    }
   ],
   "source": [
    "df_result.head(10)"
   ]
  },
  {
   "cell_type": "code",
   "execution_count": 53,
   "metadata": {},
   "outputs": [
    {
     "name": "stdout",
     "output_type": "stream",
     "text": [
      "Complete adding STDs\n",
      "Complete adding MAs\n",
      "Complete adding ratios\n"
     ]
    },
    {
     "name": "stderr",
     "output_type": "stream",
     "text": [
      "c:\\Users\\user\\Documents\\GitHub\\BinanceTradingBot\\stock_marker_binance.py:278: PerformanceWarning:\n",
      "\n",
      "DataFrame is highly fragmented.  This is usually the result of calling `frame.insert` many times, which has poor performance.  Consider joining all columns at once using pd.concat(axis=1) instead. To get a de-fragmented frame, use `newframe = frame.copy()`\n",
      "\n",
      "c:\\Users\\user\\Documents\\GitHub\\BinanceTradingBot\\stock_marker_binance.py:278: PerformanceWarning:\n",
      "\n",
      "DataFrame is highly fragmented.  This is usually the result of calling `frame.insert` many times, which has poor performance.  Consider joining all columns at once using pd.concat(axis=1) instead. To get a de-fragmented frame, use `newframe = frame.copy()`\n",
      "\n",
      "c:\\Users\\user\\Documents\\GitHub\\BinanceTradingBot\\stock_marker_binance.py:278: PerformanceWarning:\n",
      "\n",
      "DataFrame is highly fragmented.  This is usually the result of calling `frame.insert` many times, which has poor performance.  Consider joining all columns at once using pd.concat(axis=1) instead. To get a de-fragmented frame, use `newframe = frame.copy()`\n",
      "\n",
      "c:\\Users\\user\\Documents\\GitHub\\BinanceTradingBot\\stock_marker_binance.py:278: PerformanceWarning:\n",
      "\n",
      "DataFrame is highly fragmented.  This is usually the result of calling `frame.insert` many times, which has poor performance.  Consider joining all columns at once using pd.concat(axis=1) instead. To get a de-fragmented frame, use `newframe = frame.copy()`\n",
      "\n",
      "c:\\Users\\user\\Documents\\GitHub\\BinanceTradingBot\\stock_marker_binance.py:278: PerformanceWarning:\n",
      "\n",
      "DataFrame is highly fragmented.  This is usually the result of calling `frame.insert` many times, which has poor performance.  Consider joining all columns at once using pd.concat(axis=1) instead. To get a de-fragmented frame, use `newframe = frame.copy()`\n",
      "\n",
      "c:\\Users\\user\\Documents\\GitHub\\BinanceTradingBot\\stock_marker_binance.py:278: PerformanceWarning:\n",
      "\n",
      "DataFrame is highly fragmented.  This is usually the result of calling `frame.insert` many times, which has poor performance.  Consider joining all columns at once using pd.concat(axis=1) instead. To get a de-fragmented frame, use `newframe = frame.copy()`\n",
      "\n",
      "c:\\Users\\user\\Documents\\GitHub\\BinanceTradingBot\\stock_marker_binance.py:278: PerformanceWarning:\n",
      "\n",
      "DataFrame is highly fragmented.  This is usually the result of calling `frame.insert` many times, which has poor performance.  Consider joining all columns at once using pd.concat(axis=1) instead. To get a de-fragmented frame, use `newframe = frame.copy()`\n",
      "\n",
      "c:\\Users\\user\\Documents\\GitHub\\BinanceTradingBot\\stock_marker_binance.py:278: PerformanceWarning:\n",
      "\n",
      "DataFrame is highly fragmented.  This is usually the result of calling `frame.insert` many times, which has poor performance.  Consider joining all columns at once using pd.concat(axis=1) instead. To get a de-fragmented frame, use `newframe = frame.copy()`\n",
      "\n",
      "c:\\Users\\user\\Documents\\GitHub\\BinanceTradingBot\\stock_marker_binance.py:278: PerformanceWarning:\n",
      "\n",
      "DataFrame is highly fragmented.  This is usually the result of calling `frame.insert` many times, which has poor performance.  Consider joining all columns at once using pd.concat(axis=1) instead. To get a de-fragmented frame, use `newframe = frame.copy()`\n",
      "\n",
      "c:\\Users\\user\\Documents\\GitHub\\BinanceTradingBot\\stock_marker_binance.py:278: PerformanceWarning:\n",
      "\n",
      "DataFrame is highly fragmented.  This is usually the result of calling `frame.insert` many times, which has poor performance.  Consider joining all columns at once using pd.concat(axis=1) instead. To get a de-fragmented frame, use `newframe = frame.copy()`\n",
      "\n",
      "c:\\Users\\user\\Documents\\GitHub\\BinanceTradingBot\\stock_marker_binance.py:278: PerformanceWarning:\n",
      "\n",
      "DataFrame is highly fragmented.  This is usually the result of calling `frame.insert` many times, which has poor performance.  Consider joining all columns at once using pd.concat(axis=1) instead. To get a de-fragmented frame, use `newframe = frame.copy()`\n",
      "\n",
      "c:\\Users\\user\\Documents\\GitHub\\BinanceTradingBot\\stock_marker_binance.py:278: PerformanceWarning:\n",
      "\n",
      "DataFrame is highly fragmented.  This is usually the result of calling `frame.insert` many times, which has poor performance.  Consider joining all columns at once using pd.concat(axis=1) instead. To get a de-fragmented frame, use `newframe = frame.copy()`\n",
      "\n",
      "c:\\Users\\user\\Documents\\GitHub\\BinanceTradingBot\\stock_marker_binance.py:278: PerformanceWarning:\n",
      "\n",
      "DataFrame is highly fragmented.  This is usually the result of calling `frame.insert` many times, which has poor performance.  Consider joining all columns at once using pd.concat(axis=1) instead. To get a de-fragmented frame, use `newframe = frame.copy()`\n",
      "\n",
      "c:\\Users\\user\\Documents\\GitHub\\BinanceTradingBot\\stock_marker_binance.py:278: PerformanceWarning:\n",
      "\n",
      "DataFrame is highly fragmented.  This is usually the result of calling `frame.insert` many times, which has poor performance.  Consider joining all columns at once using pd.concat(axis=1) instead. To get a de-fragmented frame, use `newframe = frame.copy()`\n",
      "\n",
      "c:\\Users\\user\\Documents\\GitHub\\BinanceTradingBot\\stock_marker_binance.py:278: PerformanceWarning:\n",
      "\n",
      "DataFrame is highly fragmented.  This is usually the result of calling `frame.insert` many times, which has poor performance.  Consider joining all columns at once using pd.concat(axis=1) instead. To get a de-fragmented frame, use `newframe = frame.copy()`\n",
      "\n",
      "c:\\Users\\user\\Documents\\GitHub\\BinanceTradingBot\\stock_marker_binance.py:278: PerformanceWarning:\n",
      "\n",
      "DataFrame is highly fragmented.  This is usually the result of calling `frame.insert` many times, which has poor performance.  Consider joining all columns at once using pd.concat(axis=1) instead. To get a de-fragmented frame, use `newframe = frame.copy()`\n",
      "\n"
     ]
    },
    {
     "name": "stdout",
     "output_type": "stream",
     "text": [
      "Complete adding RSI\n",
      "Complete marking buy sell actions\n",
      "Complete marking adjacent actions\n",
      "Complete marking hold wait actions\n"
     ]
    }
   ],
   "source": [
    "\n",
    "df_result = stock_marker_binance.std(df_result, ['close', 'quote_asset_volume', 'num_trades'])\n",
    "print(\"Complete adding STDs\")\n",
    "\n",
    "df_result = stock_marker_binance.adding_MAs(df_result, ['close', 'quote_asset_volume', 'num_trades'])\n",
    "print(\"Complete adding MAs\")\n",
    "\n",
    "\n",
    "df_result = stock_marker_binance.adding_ratio(df_result, ['close', 'quote_asset_volume', 'num_trades'], ['MA'])\n",
    "df_result = stock_marker_binance.adding_ratio(df_result, ['close'], ['STD'])\n",
    "print(\"Complete adding ratios\")\n",
    "\n",
    "df_result = stock_marker_binance.rsi(df_result, ['close',\n",
    "                                                   'quote_asset_volume', 'num_trades'\n",
    "                                                  ])\n",
    "print(\"Complete adding RSI\")\n",
    "\n",
    "df_result = stock_marker_binance.marking_buy_sell_actions(df_result)\n",
    "print(\"Complete marking buy sell actions\")\n",
    "\n",
    "df_result = stock_marker_binance.marking_adjacent_actions(df_result)\n",
    "print(\"Complete marking adjacent actions\")\n",
    "\n",
    "df_result = stock_marker_binance.marking_hold_wait_actions(df_result)\n",
    "print(\"Complete marking hold wait actions\")\n",
    "\n",
    "df_result = df_result.drop(columns=['timestamp','open', 'high', 'low' ,'close_time', 'volume',\n",
    "                                    'close',  'quote_asset_volume', 'num_trades'\n",
    "                                    ])\n",
    "df_result=df_result.dropna()\n",
    "df_result.reset_index(inplace=True, drop=True)\n",
    "# df_result = stock_marker_binance.renaming_cols(df_result, STOCK_TICKER + \"_\", ['timestamp', 'action'])"
   ]
  },
  {
   "cell_type": "code",
   "execution_count": 54,
   "metadata": {},
   "outputs": [
    {
     "data": {
      "text/html": [
       "<div>\n",
       "<style scoped>\n",
       "    .dataframe tbody tr th:only-of-type {\n",
       "        vertical-align: middle;\n",
       "    }\n",
       "\n",
       "    .dataframe tbody tr th {\n",
       "        vertical-align: top;\n",
       "    }\n",
       "\n",
       "    .dataframe thead th {\n",
       "        text-align: right;\n",
       "    }\n",
       "</style>\n",
       "<table border=\"1\" class=\"dataframe\">\n",
       "  <thead>\n",
       "    <tr style=\"text-align: right;\">\n",
       "      <th></th>\n",
       "      <th>hour_sin</th>\n",
       "      <th>hour_cos</th>\n",
       "      <th>day_sin</th>\n",
       "      <th>day_cos</th>\n",
       "      <th>mon_sin</th>\n",
       "      <th>mon_cos</th>\n",
       "      <th>weekday_sin</th>\n",
       "      <th>weekday_cos</th>\n",
       "      <th>year</th>\n",
       "      <th>STD3_close</th>\n",
       "      <th>...</th>\n",
       "      <th>RSI_192_quote_asset_volume</th>\n",
       "      <th>RSI_384_quote_asset_volume</th>\n",
       "      <th>RSI_3_num_trades</th>\n",
       "      <th>RSI_6_num_trades</th>\n",
       "      <th>RSI_12_num_trades</th>\n",
       "      <th>RSI_24_num_trades</th>\n",
       "      <th>RSI_48_num_trades</th>\n",
       "      <th>RSI_96_num_trades</th>\n",
       "      <th>RSI_192_num_trades</th>\n",
       "      <th>RSI_384_num_trades</th>\n",
       "    </tr>\n",
       "    <tr>\n",
       "      <th>action</th>\n",
       "      <th></th>\n",
       "      <th></th>\n",
       "      <th></th>\n",
       "      <th></th>\n",
       "      <th></th>\n",
       "      <th></th>\n",
       "      <th></th>\n",
       "      <th></th>\n",
       "      <th></th>\n",
       "      <th></th>\n",
       "      <th></th>\n",
       "      <th></th>\n",
       "      <th></th>\n",
       "      <th></th>\n",
       "      <th></th>\n",
       "      <th></th>\n",
       "      <th></th>\n",
       "      <th></th>\n",
       "      <th></th>\n",
       "      <th></th>\n",
       "      <th></th>\n",
       "    </tr>\n",
       "  </thead>\n",
       "  <tbody>\n",
       "    <tr>\n",
       "      <th>B</th>\n",
       "      <td>2332</td>\n",
       "      <td>2332</td>\n",
       "      <td>2332</td>\n",
       "      <td>2332</td>\n",
       "      <td>2332</td>\n",
       "      <td>2332</td>\n",
       "      <td>2332</td>\n",
       "      <td>2332</td>\n",
       "      <td>2332</td>\n",
       "      <td>2332</td>\n",
       "      <td>...</td>\n",
       "      <td>2332</td>\n",
       "      <td>2332</td>\n",
       "      <td>2332</td>\n",
       "      <td>2332</td>\n",
       "      <td>2332</td>\n",
       "      <td>2332</td>\n",
       "      <td>2332</td>\n",
       "      <td>2332</td>\n",
       "      <td>2332</td>\n",
       "      <td>2332</td>\n",
       "    </tr>\n",
       "    <tr>\n",
       "      <th>H</th>\n",
       "      <td>11110</td>\n",
       "      <td>11110</td>\n",
       "      <td>11110</td>\n",
       "      <td>11110</td>\n",
       "      <td>11110</td>\n",
       "      <td>11110</td>\n",
       "      <td>11110</td>\n",
       "      <td>11110</td>\n",
       "      <td>11110</td>\n",
       "      <td>11110</td>\n",
       "      <td>...</td>\n",
       "      <td>11110</td>\n",
       "      <td>11110</td>\n",
       "      <td>11110</td>\n",
       "      <td>11110</td>\n",
       "      <td>11110</td>\n",
       "      <td>11110</td>\n",
       "      <td>11110</td>\n",
       "      <td>11110</td>\n",
       "      <td>11110</td>\n",
       "      <td>11110</td>\n",
       "    </tr>\n",
       "    <tr>\n",
       "      <th>S</th>\n",
       "      <td>2628</td>\n",
       "      <td>2628</td>\n",
       "      <td>2628</td>\n",
       "      <td>2628</td>\n",
       "      <td>2628</td>\n",
       "      <td>2628</td>\n",
       "      <td>2628</td>\n",
       "      <td>2628</td>\n",
       "      <td>2628</td>\n",
       "      <td>2628</td>\n",
       "      <td>...</td>\n",
       "      <td>2628</td>\n",
       "      <td>2628</td>\n",
       "      <td>2628</td>\n",
       "      <td>2628</td>\n",
       "      <td>2628</td>\n",
       "      <td>2628</td>\n",
       "      <td>2628</td>\n",
       "      <td>2628</td>\n",
       "      <td>2628</td>\n",
       "      <td>2628</td>\n",
       "    </tr>\n",
       "    <tr>\n",
       "      <th>W</th>\n",
       "      <td>18778</td>\n",
       "      <td>18778</td>\n",
       "      <td>18778</td>\n",
       "      <td>18778</td>\n",
       "      <td>18778</td>\n",
       "      <td>18778</td>\n",
       "      <td>18778</td>\n",
       "      <td>18778</td>\n",
       "      <td>18778</td>\n",
       "      <td>18778</td>\n",
       "      <td>...</td>\n",
       "      <td>18778</td>\n",
       "      <td>18778</td>\n",
       "      <td>18778</td>\n",
       "      <td>18778</td>\n",
       "      <td>18778</td>\n",
       "      <td>18778</td>\n",
       "      <td>18778</td>\n",
       "      <td>18778</td>\n",
       "      <td>18778</td>\n",
       "      <td>18778</td>\n",
       "    </tr>\n",
       "  </tbody>\n",
       "</table>\n",
       "<p>4 rows × 113 columns</p>\n",
       "</div>"
      ],
      "text/plain": [
       "        hour_sin  hour_cos  day_sin  day_cos  mon_sin  mon_cos  weekday_sin  \\\n",
       "action                                                                        \n",
       "B           2332      2332     2332     2332     2332     2332         2332   \n",
       "H          11110     11110    11110    11110    11110    11110        11110   \n",
       "S           2628      2628     2628     2628     2628     2628         2628   \n",
       "W          18778     18778    18778    18778    18778    18778        18778   \n",
       "\n",
       "        weekday_cos   year  STD3_close  ...  RSI_192_quote_asset_volume  \\\n",
       "action                                  ...                               \n",
       "B              2332   2332        2332  ...                        2332   \n",
       "H             11110  11110       11110  ...                       11110   \n",
       "S              2628   2628        2628  ...                        2628   \n",
       "W             18778  18778       18778  ...                       18778   \n",
       "\n",
       "        RSI_384_quote_asset_volume  RSI_3_num_trades  RSI_6_num_trades  \\\n",
       "action                                                                   \n",
       "B                             2332              2332              2332   \n",
       "H                            11110             11110             11110   \n",
       "S                             2628              2628              2628   \n",
       "W                            18778             18778             18778   \n",
       "\n",
       "        RSI_12_num_trades  RSI_24_num_trades  RSI_48_num_trades  \\\n",
       "action                                                            \n",
       "B                    2332               2332               2332   \n",
       "H                   11110              11110              11110   \n",
       "S                    2628               2628               2628   \n",
       "W                   18778              18778              18778   \n",
       "\n",
       "        RSI_96_num_trades  RSI_192_num_trades  RSI_384_num_trades  \n",
       "action                                                             \n",
       "B                    2332                2332                2332  \n",
       "H                   11110               11110               11110  \n",
       "S                    2628                2628                2628  \n",
       "W                   18778               18778               18778  \n",
       "\n",
       "[4 rows x 113 columns]"
      ]
     },
     "execution_count": 54,
     "metadata": {},
     "output_type": "execute_result"
    }
   ],
   "source": [
    "df_result.groupby('action').count()"
   ]
  },
  {
   "cell_type": "code",
   "execution_count": 55,
   "metadata": {},
   "outputs": [],
   "source": [
    "# Dropping cols\n",
    "drop_cols_list =[]\n",
    "for col in df_result.columns:\n",
    "    if col[:2]==\"MA\" or col[:3]==\"STD\":\n",
    "        drop_cols_list.append(col)\n",
    "df_result.drop(columns=drop_cols_list, inplace=True)"
   ]
  },
  {
   "cell_type": "code",
   "execution_count": 56,
   "metadata": {},
   "outputs": [
    {
     "data": {
      "text/html": [
       "<div>\n",
       "<style scoped>\n",
       "    .dataframe tbody tr th:only-of-type {\n",
       "        vertical-align: middle;\n",
       "    }\n",
       "\n",
       "    .dataframe tbody tr th {\n",
       "        vertical-align: top;\n",
       "    }\n",
       "\n",
       "    .dataframe thead th {\n",
       "        text-align: right;\n",
       "    }\n",
       "</style>\n",
       "<table border=\"1\" class=\"dataframe\">\n",
       "  <thead>\n",
       "    <tr style=\"text-align: right;\">\n",
       "      <th></th>\n",
       "      <th>hour_sin</th>\n",
       "      <th>hour_cos</th>\n",
       "      <th>day_sin</th>\n",
       "      <th>day_cos</th>\n",
       "      <th>mon_sin</th>\n",
       "      <th>mon_cos</th>\n",
       "      <th>weekday_sin</th>\n",
       "      <th>weekday_cos</th>\n",
       "      <th>year</th>\n",
       "      <th>RATIO_close_and_MA3</th>\n",
       "      <th>...</th>\n",
       "      <th>RSI_384_quote_asset_volume</th>\n",
       "      <th>RSI_3_num_trades</th>\n",
       "      <th>RSI_6_num_trades</th>\n",
       "      <th>RSI_12_num_trades</th>\n",
       "      <th>RSI_24_num_trades</th>\n",
       "      <th>RSI_48_num_trades</th>\n",
       "      <th>RSI_96_num_trades</th>\n",
       "      <th>RSI_192_num_trades</th>\n",
       "      <th>RSI_384_num_trades</th>\n",
       "      <th>action</th>\n",
       "    </tr>\n",
       "  </thead>\n",
       "  <tbody>\n",
       "    <tr>\n",
       "      <th>0</th>\n",
       "      <td>0.000000</td>\n",
       "      <td>1.000000e+00</td>\n",
       "      <td>-0.406737</td>\n",
       "      <td>-0.913545</td>\n",
       "      <td>0.5</td>\n",
       "      <td>0.866025</td>\n",
       "      <td>-0.433884</td>\n",
       "      <td>-0.900969</td>\n",
       "      <td>2020</td>\n",
       "      <td>0.998395</td>\n",
       "      <td>...</td>\n",
       "      <td>50.285725</td>\n",
       "      <td>55.233549</td>\n",
       "      <td>62.375595</td>\n",
       "      <td>44.246383</td>\n",
       "      <td>47.372031</td>\n",
       "      <td>41.390263</td>\n",
       "      <td>50.373816</td>\n",
       "      <td>50.212888</td>\n",
       "      <td>50.352010</td>\n",
       "      <td>B</td>\n",
       "    </tr>\n",
       "    <tr>\n",
       "      <th>1</th>\n",
       "      <td>0.258819</td>\n",
       "      <td>9.659258e-01</td>\n",
       "      <td>-0.406737</td>\n",
       "      <td>-0.913545</td>\n",
       "      <td>0.5</td>\n",
       "      <td>0.866025</td>\n",
       "      <td>-0.433884</td>\n",
       "      <td>-0.900969</td>\n",
       "      <td>2020</td>\n",
       "      <td>1.003510</td>\n",
       "      <td>...</td>\n",
       "      <td>50.044557</td>\n",
       "      <td>57.042254</td>\n",
       "      <td>53.231167</td>\n",
       "      <td>43.468397</td>\n",
       "      <td>40.757926</td>\n",
       "      <td>44.977155</td>\n",
       "      <td>50.329082</td>\n",
       "      <td>49.961415</td>\n",
       "      <td>50.023663</td>\n",
       "      <td>S</td>\n",
       "    </tr>\n",
       "    <tr>\n",
       "      <th>2</th>\n",
       "      <td>0.500000</td>\n",
       "      <td>8.660254e-01</td>\n",
       "      <td>-0.406737</td>\n",
       "      <td>-0.913545</td>\n",
       "      <td>0.5</td>\n",
       "      <td>0.866025</td>\n",
       "      <td>-0.433884</td>\n",
       "      <td>-0.900969</td>\n",
       "      <td>2020</td>\n",
       "      <td>1.005462</td>\n",
       "      <td>...</td>\n",
       "      <td>50.374138</td>\n",
       "      <td>71.936820</td>\n",
       "      <td>60.894401</td>\n",
       "      <td>54.737831</td>\n",
       "      <td>53.922093</td>\n",
       "      <td>51.046656</td>\n",
       "      <td>50.508626</td>\n",
       "      <td>50.688208</td>\n",
       "      <td>50.405497</td>\n",
       "      <td>W</td>\n",
       "    </tr>\n",
       "    <tr>\n",
       "      <th>3</th>\n",
       "      <td>0.707107</td>\n",
       "      <td>7.071068e-01</td>\n",
       "      <td>-0.406737</td>\n",
       "      <td>-0.913545</td>\n",
       "      <td>0.5</td>\n",
       "      <td>0.866025</td>\n",
       "      <td>-0.433884</td>\n",
       "      <td>-0.900969</td>\n",
       "      <td>2020</td>\n",
       "      <td>0.999496</td>\n",
       "      <td>...</td>\n",
       "      <td>50.454235</td>\n",
       "      <td>63.487630</td>\n",
       "      <td>59.629177</td>\n",
       "      <td>57.361954</td>\n",
       "      <td>54.634917</td>\n",
       "      <td>49.887067</td>\n",
       "      <td>50.916972</td>\n",
       "      <td>50.645574</td>\n",
       "      <td>50.478997</td>\n",
       "      <td>W</td>\n",
       "    </tr>\n",
       "    <tr>\n",
       "      <th>4</th>\n",
       "      <td>0.866025</td>\n",
       "      <td>5.000000e-01</td>\n",
       "      <td>-0.406737</td>\n",
       "      <td>-0.913545</td>\n",
       "      <td>0.5</td>\n",
       "      <td>0.866025</td>\n",
       "      <td>-0.433884</td>\n",
       "      <td>-0.900969</td>\n",
       "      <td>2020</td>\n",
       "      <td>1.005046</td>\n",
       "      <td>...</td>\n",
       "      <td>50.273035</td>\n",
       "      <td>62.021245</td>\n",
       "      <td>59.762526</td>\n",
       "      <td>46.674281</td>\n",
       "      <td>52.189555</td>\n",
       "      <td>47.257474</td>\n",
       "      <td>50.685501</td>\n",
       "      <td>50.334074</td>\n",
       "      <td>50.297334</td>\n",
       "      <td>W</td>\n",
       "    </tr>\n",
       "    <tr>\n",
       "      <th>...</th>\n",
       "      <td>...</td>\n",
       "      <td>...</td>\n",
       "      <td>...</td>\n",
       "      <td>...</td>\n",
       "      <td>...</td>\n",
       "      <td>...</td>\n",
       "      <td>...</td>\n",
       "      <td>...</td>\n",
       "      <td>...</td>\n",
       "      <td>...</td>\n",
       "      <td>...</td>\n",
       "      <td>...</td>\n",
       "      <td>...</td>\n",
       "      <td>...</td>\n",
       "      <td>...</td>\n",
       "      <td>...</td>\n",
       "      <td>...</td>\n",
       "      <td>...</td>\n",
       "      <td>...</td>\n",
       "      <td>...</td>\n",
       "      <td>...</td>\n",
       "    </tr>\n",
       "    <tr>\n",
       "      <th>34843</th>\n",
       "      <td>0.707107</td>\n",
       "      <td>7.071068e-01</td>\n",
       "      <td>0.951057</td>\n",
       "      <td>-0.309017</td>\n",
       "      <td>0.5</td>\n",
       "      <td>0.866025</td>\n",
       "      <td>0.781831</td>\n",
       "      <td>0.623490</td>\n",
       "      <td>2024</td>\n",
       "      <td>0.999538</td>\n",
       "      <td>...</td>\n",
       "      <td>49.917523</td>\n",
       "      <td>0.491800</td>\n",
       "      <td>45.842406</td>\n",
       "      <td>44.909560</td>\n",
       "      <td>46.166448</td>\n",
       "      <td>50.426042</td>\n",
       "      <td>50.048528</td>\n",
       "      <td>49.884557</td>\n",
       "      <td>49.932173</td>\n",
       "      <td>W</td>\n",
       "    </tr>\n",
       "    <tr>\n",
       "      <th>34844</th>\n",
       "      <td>0.866025</td>\n",
       "      <td>5.000000e-01</td>\n",
       "      <td>0.951057</td>\n",
       "      <td>-0.309017</td>\n",
       "      <td>0.5</td>\n",
       "      <td>0.866025</td>\n",
       "      <td>0.781831</td>\n",
       "      <td>0.623490</td>\n",
       "      <td>2024</td>\n",
       "      <td>1.001322</td>\n",
       "      <td>...</td>\n",
       "      <td>49.923296</td>\n",
       "      <td>9.573140</td>\n",
       "      <td>51.228791</td>\n",
       "      <td>46.818007</td>\n",
       "      <td>49.772624</td>\n",
       "      <td>50.584997</td>\n",
       "      <td>49.856044</td>\n",
       "      <td>49.908062</td>\n",
       "      <td>49.903714</td>\n",
       "      <td>W</td>\n",
       "    </tr>\n",
       "    <tr>\n",
       "      <th>34845</th>\n",
       "      <td>0.965926</td>\n",
       "      <td>2.588190e-01</td>\n",
       "      <td>0.951057</td>\n",
       "      <td>-0.309017</td>\n",
       "      <td>0.5</td>\n",
       "      <td>0.866025</td>\n",
       "      <td>0.781831</td>\n",
       "      <td>0.623490</td>\n",
       "      <td>2024</td>\n",
       "      <td>0.999021</td>\n",
       "      <td>...</td>\n",
       "      <td>49.684454</td>\n",
       "      <td>70.756458</td>\n",
       "      <td>46.134609</td>\n",
       "      <td>41.865474</td>\n",
       "      <td>49.885167</td>\n",
       "      <td>50.572507</td>\n",
       "      <td>50.125561</td>\n",
       "      <td>50.051341</td>\n",
       "      <td>49.662115</td>\n",
       "      <td>W</td>\n",
       "    </tr>\n",
       "    <tr>\n",
       "      <th>34846</th>\n",
       "      <td>1.000000</td>\n",
       "      <td>6.123234e-17</td>\n",
       "      <td>0.951057</td>\n",
       "      <td>-0.309017</td>\n",
       "      <td>0.5</td>\n",
       "      <td>0.866025</td>\n",
       "      <td>0.781831</td>\n",
       "      <td>0.623490</td>\n",
       "      <td>2024</td>\n",
       "      <td>0.997117</td>\n",
       "      <td>...</td>\n",
       "      <td>49.859221</td>\n",
       "      <td>71.389892</td>\n",
       "      <td>3.699243</td>\n",
       "      <td>27.179893</td>\n",
       "      <td>46.358171</td>\n",
       "      <td>50.568465</td>\n",
       "      <td>49.547127</td>\n",
       "      <td>50.109445</td>\n",
       "      <td>49.851729</td>\n",
       "      <td>W</td>\n",
       "    </tr>\n",
       "    <tr>\n",
       "      <th>34847</th>\n",
       "      <td>0.965926</td>\n",
       "      <td>-2.588190e-01</td>\n",
       "      <td>0.951057</td>\n",
       "      <td>-0.309017</td>\n",
       "      <td>0.5</td>\n",
       "      <td>0.866025</td>\n",
       "      <td>0.781831</td>\n",
       "      <td>0.623490</td>\n",
       "      <td>2024</td>\n",
       "      <td>1.000351</td>\n",
       "      <td>...</td>\n",
       "      <td>49.954691</td>\n",
       "      <td>3.279849</td>\n",
       "      <td>7.395918</td>\n",
       "      <td>30.689324</td>\n",
       "      <td>45.776484</td>\n",
       "      <td>49.810307</td>\n",
       "      <td>49.289525</td>\n",
       "      <td>49.963152</td>\n",
       "      <td>49.915666</td>\n",
       "      <td>W</td>\n",
       "    </tr>\n",
       "  </tbody>\n",
       "</table>\n",
       "<p>34848 rows × 66 columns</p>\n",
       "</div>"
      ],
      "text/plain": [
       "       hour_sin      hour_cos   day_sin   day_cos  mon_sin   mon_cos  \\\n",
       "0      0.000000  1.000000e+00 -0.406737 -0.913545      0.5  0.866025   \n",
       "1      0.258819  9.659258e-01 -0.406737 -0.913545      0.5  0.866025   \n",
       "2      0.500000  8.660254e-01 -0.406737 -0.913545      0.5  0.866025   \n",
       "3      0.707107  7.071068e-01 -0.406737 -0.913545      0.5  0.866025   \n",
       "4      0.866025  5.000000e-01 -0.406737 -0.913545      0.5  0.866025   \n",
       "...         ...           ...       ...       ...      ...       ...   \n",
       "34843  0.707107  7.071068e-01  0.951057 -0.309017      0.5  0.866025   \n",
       "34844  0.866025  5.000000e-01  0.951057 -0.309017      0.5  0.866025   \n",
       "34845  0.965926  2.588190e-01  0.951057 -0.309017      0.5  0.866025   \n",
       "34846  1.000000  6.123234e-17  0.951057 -0.309017      0.5  0.866025   \n",
       "34847  0.965926 -2.588190e-01  0.951057 -0.309017      0.5  0.866025   \n",
       "\n",
       "       weekday_sin  weekday_cos  year  RATIO_close_and_MA3  ...  \\\n",
       "0        -0.433884    -0.900969  2020             0.998395  ...   \n",
       "1        -0.433884    -0.900969  2020             1.003510  ...   \n",
       "2        -0.433884    -0.900969  2020             1.005462  ...   \n",
       "3        -0.433884    -0.900969  2020             0.999496  ...   \n",
       "4        -0.433884    -0.900969  2020             1.005046  ...   \n",
       "...            ...          ...   ...                  ...  ...   \n",
       "34843     0.781831     0.623490  2024             0.999538  ...   \n",
       "34844     0.781831     0.623490  2024             1.001322  ...   \n",
       "34845     0.781831     0.623490  2024             0.999021  ...   \n",
       "34846     0.781831     0.623490  2024             0.997117  ...   \n",
       "34847     0.781831     0.623490  2024             1.000351  ...   \n",
       "\n",
       "       RSI_384_quote_asset_volume  RSI_3_num_trades  RSI_6_num_trades  \\\n",
       "0                       50.285725         55.233549         62.375595   \n",
       "1                       50.044557         57.042254         53.231167   \n",
       "2                       50.374138         71.936820         60.894401   \n",
       "3                       50.454235         63.487630         59.629177   \n",
       "4                       50.273035         62.021245         59.762526   \n",
       "...                           ...               ...               ...   \n",
       "34843                   49.917523          0.491800         45.842406   \n",
       "34844                   49.923296          9.573140         51.228791   \n",
       "34845                   49.684454         70.756458         46.134609   \n",
       "34846                   49.859221         71.389892          3.699243   \n",
       "34847                   49.954691          3.279849          7.395918   \n",
       "\n",
       "       RSI_12_num_trades  RSI_24_num_trades  RSI_48_num_trades  \\\n",
       "0              44.246383          47.372031          41.390263   \n",
       "1              43.468397          40.757926          44.977155   \n",
       "2              54.737831          53.922093          51.046656   \n",
       "3              57.361954          54.634917          49.887067   \n",
       "4              46.674281          52.189555          47.257474   \n",
       "...                  ...                ...                ...   \n",
       "34843          44.909560          46.166448          50.426042   \n",
       "34844          46.818007          49.772624          50.584997   \n",
       "34845          41.865474          49.885167          50.572507   \n",
       "34846          27.179893          46.358171          50.568465   \n",
       "34847          30.689324          45.776484          49.810307   \n",
       "\n",
       "       RSI_96_num_trades  RSI_192_num_trades  RSI_384_num_trades  action  \n",
       "0              50.373816           50.212888           50.352010       B  \n",
       "1              50.329082           49.961415           50.023663       S  \n",
       "2              50.508626           50.688208           50.405497       W  \n",
       "3              50.916972           50.645574           50.478997       W  \n",
       "4              50.685501           50.334074           50.297334       W  \n",
       "...                  ...                 ...                 ...     ...  \n",
       "34843          50.048528           49.884557           49.932173       W  \n",
       "34844          49.856044           49.908062           49.903714       W  \n",
       "34845          50.125561           50.051341           49.662115       W  \n",
       "34846          49.547127           50.109445           49.851729       W  \n",
       "34847          49.289525           49.963152           49.915666       W  \n",
       "\n",
       "[34848 rows x 66 columns]"
      ]
     },
     "execution_count": 56,
     "metadata": {},
     "output_type": "execute_result"
    }
   ],
   "source": [
    "df_result"
   ]
  },
  {
   "cell_type": "code",
   "execution_count": 57,
   "metadata": {},
   "outputs": [
    {
     "data": {
      "text/html": [
       "<div>\n",
       "<style scoped>\n",
       "    .dataframe tbody tr th:only-of-type {\n",
       "        vertical-align: middle;\n",
       "    }\n",
       "\n",
       "    .dataframe tbody tr th {\n",
       "        vertical-align: top;\n",
       "    }\n",
       "\n",
       "    .dataframe thead th {\n",
       "        text-align: right;\n",
       "    }\n",
       "</style>\n",
       "<table border=\"1\" class=\"dataframe\">\n",
       "  <thead>\n",
       "    <tr style=\"text-align: right;\">\n",
       "      <th></th>\n",
       "      <th>hour_sin</th>\n",
       "      <th>hour_cos</th>\n",
       "      <th>day_sin</th>\n",
       "      <th>day_cos</th>\n",
       "      <th>mon_sin</th>\n",
       "      <th>mon_cos</th>\n",
       "      <th>weekday_sin</th>\n",
       "      <th>weekday_cos</th>\n",
       "      <th>year</th>\n",
       "      <th>RATIO_close_and_MA3</th>\n",
       "      <th>...</th>\n",
       "      <th>RSI_192_quote_asset_volume</th>\n",
       "      <th>RSI_384_quote_asset_volume</th>\n",
       "      <th>RSI_3_num_trades</th>\n",
       "      <th>RSI_6_num_trades</th>\n",
       "      <th>RSI_12_num_trades</th>\n",
       "      <th>RSI_24_num_trades</th>\n",
       "      <th>RSI_48_num_trades</th>\n",
       "      <th>RSI_96_num_trades</th>\n",
       "      <th>RSI_192_num_trades</th>\n",
       "      <th>RSI_384_num_trades</th>\n",
       "    </tr>\n",
       "    <tr>\n",
       "      <th>action</th>\n",
       "      <th></th>\n",
       "      <th></th>\n",
       "      <th></th>\n",
       "      <th></th>\n",
       "      <th></th>\n",
       "      <th></th>\n",
       "      <th></th>\n",
       "      <th></th>\n",
       "      <th></th>\n",
       "      <th></th>\n",
       "      <th></th>\n",
       "      <th></th>\n",
       "      <th></th>\n",
       "      <th></th>\n",
       "      <th></th>\n",
       "      <th></th>\n",
       "      <th></th>\n",
       "      <th></th>\n",
       "      <th></th>\n",
       "      <th></th>\n",
       "      <th></th>\n",
       "    </tr>\n",
       "  </thead>\n",
       "  <tbody>\n",
       "    <tr>\n",
       "      <th>B</th>\n",
       "      <td>2332</td>\n",
       "      <td>2332</td>\n",
       "      <td>2332</td>\n",
       "      <td>2332</td>\n",
       "      <td>2332</td>\n",
       "      <td>2332</td>\n",
       "      <td>2332</td>\n",
       "      <td>2332</td>\n",
       "      <td>2332</td>\n",
       "      <td>2332</td>\n",
       "      <td>...</td>\n",
       "      <td>2332</td>\n",
       "      <td>2332</td>\n",
       "      <td>2332</td>\n",
       "      <td>2332</td>\n",
       "      <td>2332</td>\n",
       "      <td>2332</td>\n",
       "      <td>2332</td>\n",
       "      <td>2332</td>\n",
       "      <td>2332</td>\n",
       "      <td>2332</td>\n",
       "    </tr>\n",
       "    <tr>\n",
       "      <th>H</th>\n",
       "      <td>11110</td>\n",
       "      <td>11110</td>\n",
       "      <td>11110</td>\n",
       "      <td>11110</td>\n",
       "      <td>11110</td>\n",
       "      <td>11110</td>\n",
       "      <td>11110</td>\n",
       "      <td>11110</td>\n",
       "      <td>11110</td>\n",
       "      <td>11110</td>\n",
       "      <td>...</td>\n",
       "      <td>11110</td>\n",
       "      <td>11110</td>\n",
       "      <td>11110</td>\n",
       "      <td>11110</td>\n",
       "      <td>11110</td>\n",
       "      <td>11110</td>\n",
       "      <td>11110</td>\n",
       "      <td>11110</td>\n",
       "      <td>11110</td>\n",
       "      <td>11110</td>\n",
       "    </tr>\n",
       "    <tr>\n",
       "      <th>S</th>\n",
       "      <td>2628</td>\n",
       "      <td>2628</td>\n",
       "      <td>2628</td>\n",
       "      <td>2628</td>\n",
       "      <td>2628</td>\n",
       "      <td>2628</td>\n",
       "      <td>2628</td>\n",
       "      <td>2628</td>\n",
       "      <td>2628</td>\n",
       "      <td>2628</td>\n",
       "      <td>...</td>\n",
       "      <td>2628</td>\n",
       "      <td>2628</td>\n",
       "      <td>2628</td>\n",
       "      <td>2628</td>\n",
       "      <td>2628</td>\n",
       "      <td>2628</td>\n",
       "      <td>2628</td>\n",
       "      <td>2628</td>\n",
       "      <td>2628</td>\n",
       "      <td>2628</td>\n",
       "    </tr>\n",
       "    <tr>\n",
       "      <th>W</th>\n",
       "      <td>18778</td>\n",
       "      <td>18778</td>\n",
       "      <td>18778</td>\n",
       "      <td>18778</td>\n",
       "      <td>18778</td>\n",
       "      <td>18778</td>\n",
       "      <td>18778</td>\n",
       "      <td>18778</td>\n",
       "      <td>18778</td>\n",
       "      <td>18778</td>\n",
       "      <td>...</td>\n",
       "      <td>18778</td>\n",
       "      <td>18778</td>\n",
       "      <td>18778</td>\n",
       "      <td>18778</td>\n",
       "      <td>18778</td>\n",
       "      <td>18778</td>\n",
       "      <td>18778</td>\n",
       "      <td>18778</td>\n",
       "      <td>18778</td>\n",
       "      <td>18778</td>\n",
       "    </tr>\n",
       "  </tbody>\n",
       "</table>\n",
       "<p>4 rows × 65 columns</p>\n",
       "</div>"
      ],
      "text/plain": [
       "        hour_sin  hour_cos  day_sin  day_cos  mon_sin  mon_cos  weekday_sin  \\\n",
       "action                                                                        \n",
       "B           2332      2332     2332     2332     2332     2332         2332   \n",
       "H          11110     11110    11110    11110    11110    11110        11110   \n",
       "S           2628      2628     2628     2628     2628     2628         2628   \n",
       "W          18778     18778    18778    18778    18778    18778        18778   \n",
       "\n",
       "        weekday_cos   year  RATIO_close_and_MA3  ...  \\\n",
       "action                                           ...   \n",
       "B              2332   2332                 2332  ...   \n",
       "H             11110  11110                11110  ...   \n",
       "S              2628   2628                 2628  ...   \n",
       "W             18778  18778                18778  ...   \n",
       "\n",
       "        RSI_192_quote_asset_volume  RSI_384_quote_asset_volume  \\\n",
       "action                                                           \n",
       "B                             2332                        2332   \n",
       "H                            11110                       11110   \n",
       "S                             2628                        2628   \n",
       "W                            18778                       18778   \n",
       "\n",
       "        RSI_3_num_trades  RSI_6_num_trades  RSI_12_num_trades  \\\n",
       "action                                                          \n",
       "B                   2332              2332               2332   \n",
       "H                  11110             11110              11110   \n",
       "S                   2628              2628               2628   \n",
       "W                  18778             18778              18778   \n",
       "\n",
       "        RSI_24_num_trades  RSI_48_num_trades  RSI_96_num_trades  \\\n",
       "action                                                            \n",
       "B                    2332               2332               2332   \n",
       "H                   11110              11110              11110   \n",
       "S                    2628               2628               2628   \n",
       "W                   18778              18778              18778   \n",
       "\n",
       "        RSI_192_num_trades  RSI_384_num_trades  \n",
       "action                                          \n",
       "B                     2332                2332  \n",
       "H                    11110               11110  \n",
       "S                     2628                2628  \n",
       "W                    18778               18778  \n",
       "\n",
       "[4 rows x 65 columns]"
      ]
     },
     "execution_count": 57,
     "metadata": {},
     "output_type": "execute_result"
    }
   ],
   "source": [
    "df_result.groupby('action').count()"
   ]
  },
  {
   "cell_type": "code",
   "execution_count": 58,
   "metadata": {},
   "outputs": [
    {
     "data": {
      "text/html": [
       "<div>\n",
       "<style scoped>\n",
       "    .dataframe tbody tr th:only-of-type {\n",
       "        vertical-align: middle;\n",
       "    }\n",
       "\n",
       "    .dataframe tbody tr th {\n",
       "        vertical-align: top;\n",
       "    }\n",
       "\n",
       "    .dataframe thead th {\n",
       "        text-align: right;\n",
       "    }\n",
       "</style>\n",
       "<table border=\"1\" class=\"dataframe\">\n",
       "  <thead>\n",
       "    <tr style=\"text-align: right;\">\n",
       "      <th></th>\n",
       "      <th>hour_sin</th>\n",
       "      <th>hour_cos</th>\n",
       "      <th>day_sin</th>\n",
       "      <th>day_cos</th>\n",
       "      <th>mon_sin</th>\n",
       "      <th>mon_cos</th>\n",
       "      <th>weekday_sin</th>\n",
       "      <th>weekday_cos</th>\n",
       "      <th>year</th>\n",
       "      <th>RATIO_close_and_MA3</th>\n",
       "      <th>...</th>\n",
       "      <th>RSI_384_quote_asset_volume</th>\n",
       "      <th>RSI_3_num_trades</th>\n",
       "      <th>RSI_6_num_trades</th>\n",
       "      <th>RSI_12_num_trades</th>\n",
       "      <th>RSI_24_num_trades</th>\n",
       "      <th>RSI_48_num_trades</th>\n",
       "      <th>RSI_96_num_trades</th>\n",
       "      <th>RSI_192_num_trades</th>\n",
       "      <th>RSI_384_num_trades</th>\n",
       "      <th>action</th>\n",
       "    </tr>\n",
       "  </thead>\n",
       "  <tbody>\n",
       "    <tr>\n",
       "      <th>0</th>\n",
       "      <td>0.000000</td>\n",
       "      <td>1.000000</td>\n",
       "      <td>-0.406737</td>\n",
       "      <td>-0.913545</td>\n",
       "      <td>0.5</td>\n",
       "      <td>0.866025</td>\n",
       "      <td>-0.433884</td>\n",
       "      <td>-0.900969</td>\n",
       "      <td>2020</td>\n",
       "      <td>0.998395</td>\n",
       "      <td>...</td>\n",
       "      <td>50.285725</td>\n",
       "      <td>55.233549</td>\n",
       "      <td>62.375595</td>\n",
       "      <td>44.246383</td>\n",
       "      <td>47.372031</td>\n",
       "      <td>41.390263</td>\n",
       "      <td>50.373816</td>\n",
       "      <td>50.212888</td>\n",
       "      <td>50.352010</td>\n",
       "      <td>B</td>\n",
       "    </tr>\n",
       "    <tr>\n",
       "      <th>1</th>\n",
       "      <td>0.258819</td>\n",
       "      <td>0.965926</td>\n",
       "      <td>-0.406737</td>\n",
       "      <td>-0.913545</td>\n",
       "      <td>0.5</td>\n",
       "      <td>0.866025</td>\n",
       "      <td>-0.433884</td>\n",
       "      <td>-0.900969</td>\n",
       "      <td>2020</td>\n",
       "      <td>1.003510</td>\n",
       "      <td>...</td>\n",
       "      <td>50.044557</td>\n",
       "      <td>57.042254</td>\n",
       "      <td>53.231167</td>\n",
       "      <td>43.468397</td>\n",
       "      <td>40.757926</td>\n",
       "      <td>44.977155</td>\n",
       "      <td>50.329082</td>\n",
       "      <td>49.961415</td>\n",
       "      <td>50.023663</td>\n",
       "      <td>S</td>\n",
       "    </tr>\n",
       "    <tr>\n",
       "      <th>2</th>\n",
       "      <td>0.500000</td>\n",
       "      <td>0.866025</td>\n",
       "      <td>-0.406737</td>\n",
       "      <td>-0.913545</td>\n",
       "      <td>0.5</td>\n",
       "      <td>0.866025</td>\n",
       "      <td>-0.433884</td>\n",
       "      <td>-0.900969</td>\n",
       "      <td>2020</td>\n",
       "      <td>1.005462</td>\n",
       "      <td>...</td>\n",
       "      <td>50.374138</td>\n",
       "      <td>71.936820</td>\n",
       "      <td>60.894401</td>\n",
       "      <td>54.737831</td>\n",
       "      <td>53.922093</td>\n",
       "      <td>51.046656</td>\n",
       "      <td>50.508626</td>\n",
       "      <td>50.688208</td>\n",
       "      <td>50.405497</td>\n",
       "      <td>W</td>\n",
       "    </tr>\n",
       "    <tr>\n",
       "      <th>3</th>\n",
       "      <td>0.707107</td>\n",
       "      <td>0.707107</td>\n",
       "      <td>-0.406737</td>\n",
       "      <td>-0.913545</td>\n",
       "      <td>0.5</td>\n",
       "      <td>0.866025</td>\n",
       "      <td>-0.433884</td>\n",
       "      <td>-0.900969</td>\n",
       "      <td>2020</td>\n",
       "      <td>0.999496</td>\n",
       "      <td>...</td>\n",
       "      <td>50.454235</td>\n",
       "      <td>63.487630</td>\n",
       "      <td>59.629177</td>\n",
       "      <td>57.361954</td>\n",
       "      <td>54.634917</td>\n",
       "      <td>49.887067</td>\n",
       "      <td>50.916972</td>\n",
       "      <td>50.645574</td>\n",
       "      <td>50.478997</td>\n",
       "      <td>W</td>\n",
       "    </tr>\n",
       "    <tr>\n",
       "      <th>4</th>\n",
       "      <td>0.866025</td>\n",
       "      <td>0.500000</td>\n",
       "      <td>-0.406737</td>\n",
       "      <td>-0.913545</td>\n",
       "      <td>0.5</td>\n",
       "      <td>0.866025</td>\n",
       "      <td>-0.433884</td>\n",
       "      <td>-0.900969</td>\n",
       "      <td>2020</td>\n",
       "      <td>1.005046</td>\n",
       "      <td>...</td>\n",
       "      <td>50.273035</td>\n",
       "      <td>62.021245</td>\n",
       "      <td>59.762526</td>\n",
       "      <td>46.674281</td>\n",
       "      <td>52.189555</td>\n",
       "      <td>47.257474</td>\n",
       "      <td>50.685501</td>\n",
       "      <td>50.334074</td>\n",
       "      <td>50.297334</td>\n",
       "      <td>W</td>\n",
       "    </tr>\n",
       "  </tbody>\n",
       "</table>\n",
       "<p>5 rows × 66 columns</p>\n",
       "</div>"
      ],
      "text/plain": [
       "   hour_sin  hour_cos   day_sin   day_cos  mon_sin   mon_cos  weekday_sin  \\\n",
       "0  0.000000  1.000000 -0.406737 -0.913545      0.5  0.866025    -0.433884   \n",
       "1  0.258819  0.965926 -0.406737 -0.913545      0.5  0.866025    -0.433884   \n",
       "2  0.500000  0.866025 -0.406737 -0.913545      0.5  0.866025    -0.433884   \n",
       "3  0.707107  0.707107 -0.406737 -0.913545      0.5  0.866025    -0.433884   \n",
       "4  0.866025  0.500000 -0.406737 -0.913545      0.5  0.866025    -0.433884   \n",
       "\n",
       "   weekday_cos  year  RATIO_close_and_MA3  ...  RSI_384_quote_asset_volume  \\\n",
       "0    -0.900969  2020             0.998395  ...                   50.285725   \n",
       "1    -0.900969  2020             1.003510  ...                   50.044557   \n",
       "2    -0.900969  2020             1.005462  ...                   50.374138   \n",
       "3    -0.900969  2020             0.999496  ...                   50.454235   \n",
       "4    -0.900969  2020             1.005046  ...                   50.273035   \n",
       "\n",
       "   RSI_3_num_trades  RSI_6_num_trades  RSI_12_num_trades  RSI_24_num_trades  \\\n",
       "0         55.233549         62.375595          44.246383          47.372031   \n",
       "1         57.042254         53.231167          43.468397          40.757926   \n",
       "2         71.936820         60.894401          54.737831          53.922093   \n",
       "3         63.487630         59.629177          57.361954          54.634917   \n",
       "4         62.021245         59.762526          46.674281          52.189555   \n",
       "\n",
       "   RSI_48_num_trades  RSI_96_num_trades  RSI_192_num_trades  \\\n",
       "0          41.390263          50.373816           50.212888   \n",
       "1          44.977155          50.329082           49.961415   \n",
       "2          51.046656          50.508626           50.688208   \n",
       "3          49.887067          50.916972           50.645574   \n",
       "4          47.257474          50.685501           50.334074   \n",
       "\n",
       "   RSI_384_num_trades  action  \n",
       "0           50.352010       B  \n",
       "1           50.023663       S  \n",
       "2           50.405497       W  \n",
       "3           50.478997       W  \n",
       "4           50.297334       W  \n",
       "\n",
       "[5 rows x 66 columns]"
      ]
     },
     "execution_count": 58,
     "metadata": {},
     "output_type": "execute_result"
    }
   ],
   "source": [
    "df_result.head()"
   ]
  },
  {
   "cell_type": "code",
   "execution_count": 59,
   "metadata": {},
   "outputs": [
    {
     "name": "stdout",
     "output_type": "stream",
     "text": [
      "         year\n",
      "action       \n",
      "B       14440\n",
      "H       14440\n",
      "S       14440\n",
      "W       14440\n",
      "        year\n",
      "action      \n",
      "B        258\n",
      "H       2148\n",
      "S        226\n",
      "W       4338\n"
     ]
    }
   ],
   "source": [
    "df_result, n_test = smote(df_result, TRAIN_FRACTION)"
   ]
  },
  {
   "cell_type": "code",
   "execution_count": 60,
   "metadata": {},
   "outputs": [
    {
     "name": "stdout",
     "output_type": "stream",
     "text": [
      "[1.10100014 0.97555462 1.10340243 0.86177974]\n",
      "['B' 'H' 'S' 'W']\n",
      "dict_keys(['B', 'H', 'S', 'W'])\n",
      "['B' 'H' 'S' 'W']\n"
     ]
    }
   ],
   "source": [
    "df_result, class_weights_dict = OneHotEncoding(df_result)"
   ]
  },
  {
   "cell_type": "code",
   "execution_count": 61,
   "metadata": {},
   "outputs": [
    {
     "data": {
      "text/plain": [
       "(64730, 69)"
      ]
     },
     "execution_count": 61,
     "metadata": {},
     "output_type": "execute_result"
    }
   ],
   "source": [
    "df_result.shape"
   ]
  },
  {
   "cell_type": "code",
   "execution_count": 62,
   "metadata": {},
   "outputs": [
    {
     "data": {
      "text/plain": [
       "B    14698.0\n",
       "H    16588.0\n",
       "S    14666.0\n",
       "W    18778.0\n",
       "dtype: float64"
      ]
     },
     "execution_count": 62,
     "metadata": {},
     "output_type": "execute_result"
    }
   ],
   "source": [
    "df_result[['B', 'H', 'S', 'W']].sum()"
   ]
  },
  {
   "cell_type": "code",
   "execution_count": 63,
   "metadata": {},
   "outputs": [
    {
     "data": {
      "text/plain": [
       "Index(['hour_sin', 'hour_cos', 'day_sin', 'day_cos', 'mon_sin', 'mon_cos',\n",
       "       'weekday_sin', 'weekday_cos', 'year', 'RATIO_close_and_MA3',\n",
       "       'RATIO_close_and_MA6', 'RATIO_close_and_MA12', 'RATIO_close_and_MA24',\n",
       "       'RATIO_close_and_MA48', 'RATIO_close_and_MA96', 'RATIO_close_and_MA192',\n",
       "       'RATIO_close_and_MA384', 'RATIO_quote_asset_volume_and_MA3',\n",
       "       'RATIO_quote_asset_volume_and_MA6', 'RATIO_quote_asset_volume_and_MA12',\n",
       "       'RATIO_quote_asset_volume_and_MA24',\n",
       "       'RATIO_quote_asset_volume_and_MA48',\n",
       "       'RATIO_quote_asset_volume_and_MA96',\n",
       "       'RATIO_quote_asset_volume_and_MA192',\n",
       "       'RATIO_quote_asset_volume_and_MA384', 'RATIO_num_trades_and_MA3',\n",
       "       'RATIO_num_trades_and_MA6', 'RATIO_num_trades_and_MA12',\n",
       "       'RATIO_num_trades_and_MA24', 'RATIO_num_trades_and_MA48',\n",
       "       'RATIO_num_trades_and_MA96', 'RATIO_num_trades_and_MA192',\n",
       "       'RATIO_num_trades_and_MA384', 'RATIO_close_and_STD3',\n",
       "       'RATIO_close_and_STD6', 'RATIO_close_and_STD12',\n",
       "       'RATIO_close_and_STD24', 'RATIO_close_and_STD48',\n",
       "       'RATIO_close_and_STD96', 'RATIO_close_and_STD192',\n",
       "       'RATIO_close_and_STD384', 'RSI_3_close', 'RSI_6_close', 'RSI_12_close',\n",
       "       'RSI_24_close', 'RSI_48_close', 'RSI_96_close', 'RSI_192_close',\n",
       "       'RSI_384_close', 'RSI_3_quote_asset_volume', 'RSI_6_quote_asset_volume',\n",
       "       'RSI_12_quote_asset_volume', 'RSI_24_quote_asset_volume',\n",
       "       'RSI_48_quote_asset_volume', 'RSI_96_quote_asset_volume',\n",
       "       'RSI_192_quote_asset_volume', 'RSI_384_quote_asset_volume',\n",
       "       'RSI_3_num_trades', 'RSI_6_num_trades', 'RSI_12_num_trades',\n",
       "       'RSI_24_num_trades', 'RSI_48_num_trades', 'RSI_96_num_trades',\n",
       "       'RSI_192_num_trades', 'RSI_384_num_trades', 'B', 'H', 'S', 'W'],\n",
       "      dtype='object')"
      ]
     },
     "execution_count": 63,
     "metadata": {},
     "output_type": "execute_result"
    }
   ],
   "source": [
    "df_result.columns"
   ]
  },
  {
   "cell_type": "code",
   "execution_count": 129,
   "metadata": {},
   "outputs": [
    {
     "name": "stdout",
     "output_type": "stream",
     "text": [
      "(57760, 65)\n",
      "(57760, 4)\n",
      "(6970, 65)\n",
      "(6970, 4)\n"
     ]
    },
    {
     "data": {
      "application/vnd.plotly.v1+json": {
       "config": {
        "plotlyServerURL": "https://plot.ly"
       },
       "data": [
        {
         "mode": "lines",
         "name": "sens_at_spec",
         "type": "scatter",
         "y": [
          0.12351108342409134,
          0.15128116309642792,
          0.18083448708057404,
          0.21456025540828705,
          0.24693559110164642,
          0.27030816674232483,
          0.29191482067108154,
          0.31442174315452576,
          0.32773545384407043,
          0.34589681029319763,
          0.3561114966869354,
          0.36764195561408997,
          0.3760387897491455,
          0.37943214178085327,
          0.3925034701824188,
          0.3993767201900482,
          0.406648188829422,
          0.41037049889564514,
          0.41428324580192566,
          0.4220394790172577,
          0.4245498478412628,
          0.42963987588882446,
          0.43327561020851135,
          0.4330332279205322,
          0.439906507730484,
          0.44302284717559814,
          0.44539472460746765,
          0.4486495852470398,
          0.4489265978336334,
          0.45367035269737244,
          0.45488226413726807,
          0.4531509578227997,
          0.4578947424888611,
          0.4611149728298187,
          0.46211910247802734,
          0.46452561020851135,
          0.4628462493419647,
          0.46222299337387085,
          0.4686115086078644,
          0.4684210419654846,
          0.4677804708480835,
          0.471156507730484,
          0.47203946113586426,
          0.47179707884788513,
          0.4737534523010254,
          0.47100070118904114,
          0.4750519394874573,
          0.47728532552719116,
          0.4754847586154938,
          0.47794321179389954,
          0.4757271409034729,
          0.47922438383102417,
          0.47931092977523804,
          0.47834140062332153,
          0.47944945096969604,
          0.4816655218601227,
          0.4843490421772003,
          0.4829293489456177,
          0.4840027689933777,
          0.48382964730262756,
          0.4882790744304657,
          0.48566481471061707,
          0.4880886375904083,
          0.48602840304374695,
          0.48959487676620483,
          0.4910145401954651,
          0.4877423942089081,
          0.49333450198173523,
          0.4898545742034912,
          0.49470221996307373,
          0.4918628931045532,
          0.49224376678466797,
          0.4953947365283966,
          0.4926939010620117,
          0.494719535112381,
          0.4970914125442505,
          0.49735110998153687,
          0.49717798829078674,
          0.5014370083808899,
          0.49650275707244873,
          0.4995671808719635,
          0.5024757385253906,
          0.5013331174850464,
          0.49875345826148987,
          0.4984937608242035,
          0.5005713105201721,
          0.5035837888717651,
          0.5049341917037964,
          0.5024411082267761,
          0.5011599659919739,
          0.5044147968292236,
          0.5042936205863953,
          0.5048995614051819,
          0.5038608312606812,
          0.5043628811836243,
          0.5065962672233582,
          0.5090027451515198,
          0.5056440234184265,
          0.5092105269432068,
          0.5090200901031494,
          0.5085179805755615,
          0.5064923763275146,
          0.5122056603431702,
          0.506544291973114,
          0.508483350276947,
          0.510837972164154,
          0.5116862654685974,
          0.508898913860321,
          0.5118247866630554,
          0.512361466884613,
          0.5172610878944397,
          0.5128116607666016,
          0.5121018290519714,
          0.5154432058334351,
          0.5138157606124878,
          0.5161703824996948,
          0.5146121978759766,
          0.5176419615745544,
          0.5157029032707214,
          0.5183864235877991,
          0.5131059288978577,
          0.5169321298599243,
          0.5163608193397522,
          0.5168282389640808,
          0.5207237005233765,
          0.5186461210250854,
          0.5202735662460327,
          0.5170706510543823,
          0.5175554156303406,
          0.5189923644065857,
          0.5215374231338501,
          0.5193213224411011,
          0.5173996090888977,
          0.5217971205711365,
          0.5214335322380066,
          0.5220048427581787,
          0.5197714567184448,
          0.5198926329612732,
          0.5208967924118042,
          0.5226800441741943,
          0.5241343379020691,
          0.5257444381713867,
          0.5238919854164124,
          0.5230090022087097,
          0.5269910097122192,
          0.5231301784515381,
          0.5231128931045532,
          0.5250692367553711,
          0.5275450348854065,
          0.5265235304832458,
          0.524636447429657,
          0.5274065136909485,
          0.527510404586792,
          0.5269563794136047,
          0.5276488661766052,
          0.5280470848083496,
          0.527371883392334,
          0.5298476219177246,
          0.5271121859550476,
          0.5307306051254272,
          0.5288434624671936,
          0.527510404586792,
          0.5289300680160522,
          0.5286876559257507,
          0.527579665184021,
          0.5302631855010986,
          0.5327042937278748,
          0.5278912782669067,
          0.52910315990448,
          0.5307133197784424,
          0.5292590260505676,
          0.5307998657226562,
          0.5308517813682556,
          0.5323580503463745,
          0.5354570746421814,
          0.5311461091041565,
          0.5335180163383484,
          0.5317347645759583,
          0.5336911082267761,
          0.5316308736801147,
          0.5338469743728638,
          0.5335353016853333,
          0.5347298979759216,
          0.5336391925811768,
          0.5365477800369263,
          0.5341585874557495,
          0.5347818732261658,
          0.5328254699707031,
          0.5353012681007385,
          0.534262478351593,
          0.5332409739494324,
          0.5386946201324463,
          0.5345914363861084,
          0.5350415706634521,
          0.5369806289672852,
          0.5393871068954468,
          0.5377077460289001,
          0.5365304946899414,
          0.5365996956825256,
          0.53807133436203,
          0.5399757623672485,
          0.5373268723487854,
          0.5377423763275146,
          0.5379847884178162,
          0.5400276780128479,
          0.540148913860321,
          0.5385214686393738,
          0.5384175777435303,
          0.541014552116394,
          0.5395602583885193,
          0.5373787879943848,
          0.5352320075035095,
          0.540079653263092,
          0.5405644178390503,
          0.5421226024627686,
          0.5429016351699829,
          0.5410318374633789,
          0.543749988079071,
          0.541153073310852,
          0.5401315689086914,
          0.5416378378868103,
          0.5394390821456909,
          0.5433171987533569,
          0.5450831055641174,
          0.5405297875404358,
          0.5403220057487488,
          0.5404258966445923,
          0.5448061227798462,
          0.5435249209403992,
          0.5433691143989563,
          0.5438711643218994,
          0.5455332398414612,
          0.5438192486763,
          0.5428670644760132,
          0.5421745181083679,
          0.5432305932044983,
          0.5458968281745911,
          0.5445117950439453,
          0.5448061227798462,
          0.5432998538017273,
          0.5438192486763,
          0.5492035746574402,
          0.5444079041481018,
          0.546623945236206,
          0.5456717610359192,
          0.5461218953132629,
          0.5477839112281799,
          0.5487880706787109,
          0.5459141135215759,
          0.5464681386947632,
          0.5478012561798096,
          0.5467797517776489,
          0.548995852470398,
          0.5497575998306274,
          0.5471433401107788,
          0.5490823984146118,
          0.5485283732414246,
          0.5497229695320129,
          0.5488400459289551,
          0.5470914244651794,
          0.5521121621131897,
          0.5487188100814819,
          0.5492555499076843,
          0.5470048189163208,
          0.5488054156303406,
          0.5505713224411011,
          0.5506405830383301,
          0.5495845079421997,
          0.5509868264198303,
          0.551662027835846,
          0.5519217252731323,
          0.5495498776435852,
          0.551939070224762,
          0.5512292385101318,
          0.5520948767662048,
          0.5502077341079712,
          0.5508483648300171,
          0.5504328012466431,
          0.5506752133369446,
          0.5512292385101318,
          0.5519044399261475,
          0.5541378259658813,
          0.5497922301292419,
          0.5512118935585022,
          0.552666187286377,
          0.5532029271125793,
          0.5537049770355225,
          0.553808867931366,
          0.5534106492996216,
          0.5552804470062256,
          0.5536184310913086,
          0.555955708026886,
          0.5547610521316528,
          0.5579813122749329,
          0.5554535984992981,
          0.5531509518623352,
          0.552596926689148,
          0.5557305812835693,
          0.5576004385948181,
          0.5547610521316528,
          0.5542762875556946,
          0.5535318851470947
         ]
        },
        {
         "mode": "lines",
         "name": "val_sens_at_spec",
         "type": "scatter",
         "y": [
          0.3131994307041168,
          0.34031563997268677,
          0.3576757609844208,
          0.36255380511283875,
          0.37159255146980286,
          0.3764705955982208,
          0.37446197867393494,
          0.375896692276001,
          0.37517935037612915,
          0.37632712721824646,
          0.3725968301296234,
          0.36915352940559387,
          0.36685797572135925,
          0.3639885187149048,
          0.3639885187149048,
          0.36614060401916504,
          0.36484935879707336,
          0.36456242203712463,
          0.36614060401916504,
          0.3658536672592163,
          0.3651362955570221,
          0.36298421025276184,
          0.3644189238548279,
          0.3698708713054657,
          0.3725968301296234,
          0.3753228187561035,
          0.3770444691181183,
          0.3770444691181183,
          0.3790530860424042,
          0.38235294818878174,
          0.38550931215286255,
          0.38823530077934265,
          0.386944055557251,
          0.3876613974571228,
          0.38909614086151123,
          0.39110472798347473,
          0.39053085446357727,
          0.39253944158554077,
          0.394691526889801,
          0.3979913890361786,
          0.39885222911834717,
          0.3982783257961273,
          0.40014347434043884,
          0.40200862288475037,
          0.4014347195625305,
          0.4034433364868164,
          0.40559542179107666,
          0.4058823585510254,
          0.40803444385528564,
          0.4093256890773773,
          0.4097560942173004,
          0.4098995625972748,
          0.4101864993572235,
          0.4114777743816376,
          0.41162124276161194,
          0.4137733280658722,
          0.4146341383457184,
          0.4173601269721985,
          0.41750359535217285,
          0.4162123501300812,
          0.41592538356781006,
          0.4182209372520447,
          0.4189383089542389,
          0.41951218247413635,
          0.4219512343406677,
          0.4228120446205139,
          0.42266857624053955,
          0.4232424795627594,
          0.42539453506469727,
          0.4268292784690857,
          0.4276900887489319,
          0.4292683005332947,
          0.42898133397102356,
          0.43012911081314087,
          0.43142038583755493,
          0.430416077375412,
          0.43285509943962097,
          0.43371593952178955,
          0.4358679950237274,
          0.4338594079017639,
          0.4347202181816101,
          0.4355810582637787,
          0.43687230348587036,
          0.4360114634037018,
          0.43730273842811584,
          0.43802008032798767,
          0.4375896751880646,
          0.4394547939300537,
          0.4378766119480133,
          0.4394547939300537,
          0.43773314356803894,
          0.43974176049232483,
          0.44045910239219666,
          0.43931132555007935,
          0.4414634108543396,
          0.439167857170105,
          0.4426111876964569,
          0.44131994247436523,
          0.4426111876964569,
          0.44361549615859985,
          0.44447633624076843,
          0.44447633624076843,
          0.4453371465206146,
          0.44447633624076843,
          0.4469153583049774,
          0.44791966676712036,
          0.4482066035270691,
          0.4474892318248749,
          0.44562411308288574,
          0.4457675814628601,
          0.44648492336273193,
          0.4469153583049774,
          0.44791966676712036,
          0.4486370086669922,
          0.450215220451355,
          0.45236727595329285,
          0.45107603073120117,
          0.45078909397125244,
          0.45107603073120117,
          0.4505021572113037,
          0.4506456255912781,
          0.45351505279541016,
          0.45466282963752747,
          0.45480629801750183,
          0.4549497961997986,
          0.45423242449760437,
          0.4538020193576813,
          0.4569583833217621,
          0.4538020193576813,
          0.4522238075733185,
          0.4532281160354614,
          0.4529411792755127,
          0.45552366971969604,
          0.45408895611763,
          0.4563845098018646,
          0.45796269178390503,
          0.4592539370059967,
          0.4583931267261505,
          0.4596843719482422,
          0.4592539370059967,
          0.460401713848114,
          0.46025824546813965,
          0.4583931267261505,
          0.45911046862602234,
          0.458967000246048,
          0.45710185170173645,
          0.45911046862602234,
          0.45781922340393066,
          0.45824962854385376,
          0.45595407485961914,
          0.456527978181839,
          0.456527978181839,
          0.45753228664398193,
          0.4576757550239563,
          0.4588235318660736,
          0.45939740538597107,
          0.45911046862602234,
          0.45911046862602234,
          0.45781922340393066,
          0.45796269178390503,
          0.45781922340393066,
          0.4581061601638794,
          0.4595409035682678,
          0.45911046862602234,
          0.46183642745018005,
          0.45939740538597107,
          0.4608321487903595,
          0.458967000246048,
          0.4616929590702057,
          0.4616929590702057,
          0.4616929590702057,
          0.46226686239242554,
          0.46269726753234863,
          0.4631277024745941,
          0.4615494906902313,
          0.4637015759944916,
          0.4615494906902313,
          0.4637015759944916,
          0.4642754793167114,
          0.46212339401245117,
          0.46499282121658325,
          0.46499282121658325,
          0.46499282121658325,
          0.4651362895965576,
          0.4647058844566345,
          0.465279757976532,
          0.4647058844566345,
          0.46499282121658325,
          0.4637015759944916,
          0.46542325615882874,
          0.46585366129875183,
          0.46614059805870056,
          0.4675753116607666,
          0.4675753116607666,
          0.4678622782230377,
          0.46857962012290955,
          0.4687230885028839,
          0.46857962012290955,
          0.4680057466030121,
          0.4680057466030121,
          0.46814921498298645,
          0.46743184328079224,
          0.4680057466030121,
          0.4680057466030121,
          0.46743184328079224,
          0.46771878004074097,
          0.47044476866722107,
          0.4715925455093384,
          0.47101864218711853,
          0.46857962012290955,
          0.4711621105670929,
          0.4695839285850525,
          0.47015783190727234,
          0.47130560874938965,
          0.4715925455093384,
          0.47173601388931274,
          0.47245338559150696,
          0.4730272591114044,
          0.4727403223514557,
          0.4727403223514557,
          0.4723098874092102,
          0.47245338559150696,
          0.47245338559150696,
          0.4725968539714813,
          0.4727403223514557,
          0.4718794822692871,
          0.4725968539714813,
          0.47087517380714417,
          0.47216641902923584,
          0.4731707274913788,
          0.4730272591114044,
          0.4730272591114044,
          0.4730272591114044,
          0.4734576642513275,
          0.47245338559150696,
          0.47331419587135315,
          0.47331419587135315,
          0.4734576642513275,
          0.4731707274913788,
          0.4734576642513275,
          0.4730272591114044,
          0.47245338559150696,
          0.4731707274913788,
          0.4730272591114044,
          0.47288379073143005,
          0.47245338559150696,
          0.47403156757354736,
          0.47417503595352173,
          0.4727403223514557,
          0.47288379073143005,
          0.471449077129364,
          0.4725968539714813,
          0.47130560874938965,
          0.4734576642513275,
          0.4727403223514557,
          0.4746054410934448,
          0.4746054410934448,
          0.47331419587135315,
          0.47403156757354736,
          0.47331419587135315,
          0.47288379073143005,
          0.47374463081359863,
          0.4730272591114044,
          0.47360116243362427,
          0.4751793444156647,
          0.47360116243362427,
          0.47403156757354736,
          0.47403156757354736,
          0.4754662811756134,
          0.47489240765571594,
          0.4754662811756134,
          0.476327121257782,
          0.476327121257782,
          0.4758966863155365,
          0.476327121257782,
          0.4751793444156647,
          0.47360116243362427,
          0.4746054410934448,
          0.47446197271347046,
          0.4747489094734192,
          0.4746054410934448,
          0.4727403223514557,
          0.47403156757354736,
          0.47288379073143005,
          0.47374463081359863,
          0.47403156757354736,
          0.4746054410934448,
          0.4743185043334961,
          0.47374463081359863,
          0.4730272591114044,
          0.4725968539714813,
          0.4730272591114044,
          0.47331419587135315,
          0.4730272591114044,
          0.4734576642513275,
          0.47446197271347046,
          0.4734576642513275,
          0.4730272591114044,
          0.47331419587135315,
          0.4730272591114044,
          0.47331419587135315,
          0.4727403223514557
         ]
        }
       ],
       "layout": {
        "template": {
         "data": {
          "bar": [
           {
            "error_x": {
             "color": "#2a3f5f"
            },
            "error_y": {
             "color": "#2a3f5f"
            },
            "marker": {
             "line": {
              "color": "#E5ECF6",
              "width": 0.5
             },
             "pattern": {
              "fillmode": "overlay",
              "size": 10,
              "solidity": 0.2
             }
            },
            "type": "bar"
           }
          ],
          "barpolar": [
           {
            "marker": {
             "line": {
              "color": "#E5ECF6",
              "width": 0.5
             },
             "pattern": {
              "fillmode": "overlay",
              "size": 10,
              "solidity": 0.2
             }
            },
            "type": "barpolar"
           }
          ],
          "carpet": [
           {
            "aaxis": {
             "endlinecolor": "#2a3f5f",
             "gridcolor": "white",
             "linecolor": "white",
             "minorgridcolor": "white",
             "startlinecolor": "#2a3f5f"
            },
            "baxis": {
             "endlinecolor": "#2a3f5f",
             "gridcolor": "white",
             "linecolor": "white",
             "minorgridcolor": "white",
             "startlinecolor": "#2a3f5f"
            },
            "type": "carpet"
           }
          ],
          "choropleth": [
           {
            "colorbar": {
             "outlinewidth": 0,
             "ticks": ""
            },
            "type": "choropleth"
           }
          ],
          "contour": [
           {
            "colorbar": {
             "outlinewidth": 0,
             "ticks": ""
            },
            "colorscale": [
             [
              0,
              "#0d0887"
             ],
             [
              0.1111111111111111,
              "#46039f"
             ],
             [
              0.2222222222222222,
              "#7201a8"
             ],
             [
              0.3333333333333333,
              "#9c179e"
             ],
             [
              0.4444444444444444,
              "#bd3786"
             ],
             [
              0.5555555555555556,
              "#d8576b"
             ],
             [
              0.6666666666666666,
              "#ed7953"
             ],
             [
              0.7777777777777778,
              "#fb9f3a"
             ],
             [
              0.8888888888888888,
              "#fdca26"
             ],
             [
              1,
              "#f0f921"
             ]
            ],
            "type": "contour"
           }
          ],
          "contourcarpet": [
           {
            "colorbar": {
             "outlinewidth": 0,
             "ticks": ""
            },
            "type": "contourcarpet"
           }
          ],
          "heatmap": [
           {
            "colorbar": {
             "outlinewidth": 0,
             "ticks": ""
            },
            "colorscale": [
             [
              0,
              "#0d0887"
             ],
             [
              0.1111111111111111,
              "#46039f"
             ],
             [
              0.2222222222222222,
              "#7201a8"
             ],
             [
              0.3333333333333333,
              "#9c179e"
             ],
             [
              0.4444444444444444,
              "#bd3786"
             ],
             [
              0.5555555555555556,
              "#d8576b"
             ],
             [
              0.6666666666666666,
              "#ed7953"
             ],
             [
              0.7777777777777778,
              "#fb9f3a"
             ],
             [
              0.8888888888888888,
              "#fdca26"
             ],
             [
              1,
              "#f0f921"
             ]
            ],
            "type": "heatmap"
           }
          ],
          "heatmapgl": [
           {
            "colorbar": {
             "outlinewidth": 0,
             "ticks": ""
            },
            "colorscale": [
             [
              0,
              "#0d0887"
             ],
             [
              0.1111111111111111,
              "#46039f"
             ],
             [
              0.2222222222222222,
              "#7201a8"
             ],
             [
              0.3333333333333333,
              "#9c179e"
             ],
             [
              0.4444444444444444,
              "#bd3786"
             ],
             [
              0.5555555555555556,
              "#d8576b"
             ],
             [
              0.6666666666666666,
              "#ed7953"
             ],
             [
              0.7777777777777778,
              "#fb9f3a"
             ],
             [
              0.8888888888888888,
              "#fdca26"
             ],
             [
              1,
              "#f0f921"
             ]
            ],
            "type": "heatmapgl"
           }
          ],
          "histogram": [
           {
            "marker": {
             "pattern": {
              "fillmode": "overlay",
              "size": 10,
              "solidity": 0.2
             }
            },
            "type": "histogram"
           }
          ],
          "histogram2d": [
           {
            "colorbar": {
             "outlinewidth": 0,
             "ticks": ""
            },
            "colorscale": [
             [
              0,
              "#0d0887"
             ],
             [
              0.1111111111111111,
              "#46039f"
             ],
             [
              0.2222222222222222,
              "#7201a8"
             ],
             [
              0.3333333333333333,
              "#9c179e"
             ],
             [
              0.4444444444444444,
              "#bd3786"
             ],
             [
              0.5555555555555556,
              "#d8576b"
             ],
             [
              0.6666666666666666,
              "#ed7953"
             ],
             [
              0.7777777777777778,
              "#fb9f3a"
             ],
             [
              0.8888888888888888,
              "#fdca26"
             ],
             [
              1,
              "#f0f921"
             ]
            ],
            "type": "histogram2d"
           }
          ],
          "histogram2dcontour": [
           {
            "colorbar": {
             "outlinewidth": 0,
             "ticks": ""
            },
            "colorscale": [
             [
              0,
              "#0d0887"
             ],
             [
              0.1111111111111111,
              "#46039f"
             ],
             [
              0.2222222222222222,
              "#7201a8"
             ],
             [
              0.3333333333333333,
              "#9c179e"
             ],
             [
              0.4444444444444444,
              "#bd3786"
             ],
             [
              0.5555555555555556,
              "#d8576b"
             ],
             [
              0.6666666666666666,
              "#ed7953"
             ],
             [
              0.7777777777777778,
              "#fb9f3a"
             ],
             [
              0.8888888888888888,
              "#fdca26"
             ],
             [
              1,
              "#f0f921"
             ]
            ],
            "type": "histogram2dcontour"
           }
          ],
          "mesh3d": [
           {
            "colorbar": {
             "outlinewidth": 0,
             "ticks": ""
            },
            "type": "mesh3d"
           }
          ],
          "parcoords": [
           {
            "line": {
             "colorbar": {
              "outlinewidth": 0,
              "ticks": ""
             }
            },
            "type": "parcoords"
           }
          ],
          "pie": [
           {
            "automargin": true,
            "type": "pie"
           }
          ],
          "scatter": [
           {
            "fillpattern": {
             "fillmode": "overlay",
             "size": 10,
             "solidity": 0.2
            },
            "type": "scatter"
           }
          ],
          "scatter3d": [
           {
            "line": {
             "colorbar": {
              "outlinewidth": 0,
              "ticks": ""
             }
            },
            "marker": {
             "colorbar": {
              "outlinewidth": 0,
              "ticks": ""
             }
            },
            "type": "scatter3d"
           }
          ],
          "scattercarpet": [
           {
            "marker": {
             "colorbar": {
              "outlinewidth": 0,
              "ticks": ""
             }
            },
            "type": "scattercarpet"
           }
          ],
          "scattergeo": [
           {
            "marker": {
             "colorbar": {
              "outlinewidth": 0,
              "ticks": ""
             }
            },
            "type": "scattergeo"
           }
          ],
          "scattergl": [
           {
            "marker": {
             "colorbar": {
              "outlinewidth": 0,
              "ticks": ""
             }
            },
            "type": "scattergl"
           }
          ],
          "scattermapbox": [
           {
            "marker": {
             "colorbar": {
              "outlinewidth": 0,
              "ticks": ""
             }
            },
            "type": "scattermapbox"
           }
          ],
          "scatterpolar": [
           {
            "marker": {
             "colorbar": {
              "outlinewidth": 0,
              "ticks": ""
             }
            },
            "type": "scatterpolar"
           }
          ],
          "scatterpolargl": [
           {
            "marker": {
             "colorbar": {
              "outlinewidth": 0,
              "ticks": ""
             }
            },
            "type": "scatterpolargl"
           }
          ],
          "scatterternary": [
           {
            "marker": {
             "colorbar": {
              "outlinewidth": 0,
              "ticks": ""
             }
            },
            "type": "scatterternary"
           }
          ],
          "surface": [
           {
            "colorbar": {
             "outlinewidth": 0,
             "ticks": ""
            },
            "colorscale": [
             [
              0,
              "#0d0887"
             ],
             [
              0.1111111111111111,
              "#46039f"
             ],
             [
              0.2222222222222222,
              "#7201a8"
             ],
             [
              0.3333333333333333,
              "#9c179e"
             ],
             [
              0.4444444444444444,
              "#bd3786"
             ],
             [
              0.5555555555555556,
              "#d8576b"
             ],
             [
              0.6666666666666666,
              "#ed7953"
             ],
             [
              0.7777777777777778,
              "#fb9f3a"
             ],
             [
              0.8888888888888888,
              "#fdca26"
             ],
             [
              1,
              "#f0f921"
             ]
            ],
            "type": "surface"
           }
          ],
          "table": [
           {
            "cells": {
             "fill": {
              "color": "#EBF0F8"
             },
             "line": {
              "color": "white"
             }
            },
            "header": {
             "fill": {
              "color": "#C8D4E3"
             },
             "line": {
              "color": "white"
             }
            },
            "type": "table"
           }
          ]
         },
         "layout": {
          "annotationdefaults": {
           "arrowcolor": "#2a3f5f",
           "arrowhead": 0,
           "arrowwidth": 1
          },
          "autotypenumbers": "strict",
          "coloraxis": {
           "colorbar": {
            "outlinewidth": 0,
            "ticks": ""
           }
          },
          "colorscale": {
           "diverging": [
            [
             0,
             "#8e0152"
            ],
            [
             0.1,
             "#c51b7d"
            ],
            [
             0.2,
             "#de77ae"
            ],
            [
             0.3,
             "#f1b6da"
            ],
            [
             0.4,
             "#fde0ef"
            ],
            [
             0.5,
             "#f7f7f7"
            ],
            [
             0.6,
             "#e6f5d0"
            ],
            [
             0.7,
             "#b8e186"
            ],
            [
             0.8,
             "#7fbc41"
            ],
            [
             0.9,
             "#4d9221"
            ],
            [
             1,
             "#276419"
            ]
           ],
           "sequential": [
            [
             0,
             "#0d0887"
            ],
            [
             0.1111111111111111,
             "#46039f"
            ],
            [
             0.2222222222222222,
             "#7201a8"
            ],
            [
             0.3333333333333333,
             "#9c179e"
            ],
            [
             0.4444444444444444,
             "#bd3786"
            ],
            [
             0.5555555555555556,
             "#d8576b"
            ],
            [
             0.6666666666666666,
             "#ed7953"
            ],
            [
             0.7777777777777778,
             "#fb9f3a"
            ],
            [
             0.8888888888888888,
             "#fdca26"
            ],
            [
             1,
             "#f0f921"
            ]
           ],
           "sequentialminus": [
            [
             0,
             "#0d0887"
            ],
            [
             0.1111111111111111,
             "#46039f"
            ],
            [
             0.2222222222222222,
             "#7201a8"
            ],
            [
             0.3333333333333333,
             "#9c179e"
            ],
            [
             0.4444444444444444,
             "#bd3786"
            ],
            [
             0.5555555555555556,
             "#d8576b"
            ],
            [
             0.6666666666666666,
             "#ed7953"
            ],
            [
             0.7777777777777778,
             "#fb9f3a"
            ],
            [
             0.8888888888888888,
             "#fdca26"
            ],
            [
             1,
             "#f0f921"
            ]
           ]
          },
          "colorway": [
           "#636efa",
           "#EF553B",
           "#00cc96",
           "#ab63fa",
           "#FFA15A",
           "#19d3f3",
           "#FF6692",
           "#B6E880",
           "#FF97FF",
           "#FECB52"
          ],
          "font": {
           "color": "#2a3f5f"
          },
          "geo": {
           "bgcolor": "white",
           "lakecolor": "white",
           "landcolor": "#E5ECF6",
           "showlakes": true,
           "showland": true,
           "subunitcolor": "white"
          },
          "hoverlabel": {
           "align": "left"
          },
          "hovermode": "closest",
          "mapbox": {
           "style": "light"
          },
          "paper_bgcolor": "white",
          "plot_bgcolor": "#E5ECF6",
          "polar": {
           "angularaxis": {
            "gridcolor": "white",
            "linecolor": "white",
            "ticks": ""
           },
           "bgcolor": "#E5ECF6",
           "radialaxis": {
            "gridcolor": "white",
            "linecolor": "white",
            "ticks": ""
           }
          },
          "scene": {
           "xaxis": {
            "backgroundcolor": "#E5ECF6",
            "gridcolor": "white",
            "gridwidth": 2,
            "linecolor": "white",
            "showbackground": true,
            "ticks": "",
            "zerolinecolor": "white"
           },
           "yaxis": {
            "backgroundcolor": "#E5ECF6",
            "gridcolor": "white",
            "gridwidth": 2,
            "linecolor": "white",
            "showbackground": true,
            "ticks": "",
            "zerolinecolor": "white"
           },
           "zaxis": {
            "backgroundcolor": "#E5ECF6",
            "gridcolor": "white",
            "gridwidth": 2,
            "linecolor": "white",
            "showbackground": true,
            "ticks": "",
            "zerolinecolor": "white"
           }
          },
          "shapedefaults": {
           "line": {
            "color": "#2a3f5f"
           }
          },
          "ternary": {
           "aaxis": {
            "gridcolor": "white",
            "linecolor": "white",
            "ticks": ""
           },
           "baxis": {
            "gridcolor": "white",
            "linecolor": "white",
            "ticks": ""
           },
           "bgcolor": "#E5ECF6",
           "caxis": {
            "gridcolor": "white",
            "linecolor": "white",
            "ticks": ""
           }
          },
          "title": {
           "x": 0.05
          },
          "xaxis": {
           "automargin": true,
           "gridcolor": "white",
           "linecolor": "white",
           "ticks": "",
           "title": {
            "standoff": 15
           },
           "zerolinecolor": "white",
           "zerolinewidth": 2
          },
          "yaxis": {
           "automargin": true,
           "gridcolor": "white",
           "linecolor": "white",
           "ticks": "",
           "title": {
            "standoff": 15
           },
           "zerolinecolor": "white",
           "zerolinewidth": 2
          }
         }
        }
       }
      }
     },
     "metadata": {},
     "output_type": "display_data"
    },
    {
     "name": "stdout",
     "output_type": "stream",
     "text": [
      "models/2024-02-19 16-54-23 val_PR 0.476 Dense.hd5\n",
      "0.476\n",
      "------------------------------------------------------------------------------------------------------------------------------------------------------\n"
     ]
    }
   ],
   "source": [
    "import importlib\n",
    "\n",
    "importlib.reload(model_design_dense_layers)\n",
    "\n",
    "max_val_PR = 0.5\n",
    "   \n",
    "x_train, y_train, x_test, y_test = get_train_test_sets(df_result, n_test)\n",
    "\n",
    "print(x_train.shape)\n",
    "print(y_train.shape)\n",
    "print(x_test.shape)\n",
    "print(y_test.shape)\n",
    "\n",
    "model, history = model_design_dense_layers.model_design(EPOCHS,  x_train, y_train, x_test, y_test, class_weights_dict)\n",
    "\n",
    "plot_model_history(history.history, ['sens_at_spec', 'val_sens_at_spec'])\n",
    "plot_model_history(history.history, ['auc', 'val_auc'])\n",
    "\n",
    "val_PR = round(max(history.history['val_sens_at_spec']),3)\n",
    "\n",
    "x = datetime.datetime.now()\n",
    "\n",
    "model_name = \"models/\" + x.strftime(\"%Y-%m-%d %H-%M-%S\") +\" val_PR \" + str(val_PR)  + \" Dense.hd5\"\n",
    "\n",
    "if val_PR > max_val_PR:\n",
    "    max_val_PR = val_PR\n",
    "    model.save(model_name,  save_format = 'h5')\n",
    "\n",
    "print(model_name)\n",
    "print(val_PR)\n",
    "print(150 * \"-\")\n"
   ]
  },
  {
   "cell_type": "code",
   "execution_count": 130,
   "metadata": {},
   "outputs": [],
   "source": [
    "frequency = 2500  # Set Frequency To 2500 Hertz\n",
    "duration = 2000  # Set Duration To 1000 ms == 1 second\n",
    "winsound.Beep(frequency, duration)"
   ]
  },
  {
   "cell_type": "code",
   "execution_count": 131,
   "metadata": {},
   "outputs": [
    {
     "name": "stdout",
     "output_type": "stream",
     "text": [
      "Model: \"model_28\"\n",
      "_________________________________________________________________\n",
      " Layer (type)                Output Shape              Param #   \n",
      "=================================================================\n",
      " Input (InputLayer)          [(None, 65)]              0         \n",
      "                                                                 \n",
      " normalization_28 (Normaliz  (None, 65)                131       \n",
      " ation)                                                          \n",
      "                                                                 \n",
      " dropout_1 (Dropout)         (None, 65)                0         \n",
      "                                                                 \n",
      " dense_82 (Dense)            (None, 97)                6402      \n",
      "                                                                 \n",
      " dense_83 (Dense)            (None, 65)                6370      \n",
      "                                                                 \n",
      " dense_84 (Dense)            (None, 16)                1056      \n",
      "                                                                 \n",
      " output (Dense)              (None, 4)                 68        \n",
      "                                                                 \n",
      "=================================================================\n",
      "Total params: 14027 (54.80 KB)\n",
      "Trainable params: 13896 (54.28 KB)\n",
      "Non-trainable params: 131 (528.00 Byte)\n",
      "_________________________________________________________________\n"
     ]
    }
   ],
   "source": [
    "model.summary()"
   ]
  },
  {
   "cell_type": "markdown",
   "metadata": {},
   "source": []
  },
  {
   "cell_type": "markdown",
   "metadata": {},
   "source": []
  }
 ],
 "metadata": {
  "kernelspec": {
   "display_name": "base",
   "language": "python",
   "name": "python3"
  },
  "language_info": {
   "codemirror_mode": {
    "name": "ipython",
    "version": 3
   },
   "file_extension": ".py",
   "mimetype": "text/x-python",
   "name": "python",
   "nbconvert_exporter": "python",
   "pygments_lexer": "ipython3",
   "version": "3.11.5"
  },
  "vscode": {
   "interpreter": {
    "hash": "ad2bdc8ecc057115af97d19610ffacc2b4e99fae6737bb82f5d7fb13d2f2c186"
   }
  }
 },
 "nbformat": 4,
 "nbformat_minor": 2
}
