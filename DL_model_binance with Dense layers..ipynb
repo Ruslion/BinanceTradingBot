{
 "cells": [
  {
   "cell_type": "code",
   "execution_count": 1,
   "metadata": {},
   "outputs": [
    {
     "name": "stdout",
     "output_type": "stream",
     "text": [
      "WARNING:tensorflow:From C:\\Users\\user\\AppData\\Roaming\\Python\\Python311\\site-packages\\keras\\src\\losses.py:2976: The name tf.losses.sparse_softmax_cross_entropy is deprecated. Please use tf.compat.v1.losses.sparse_softmax_cross_entropy instead.\n",
      "\n"
     ]
    }
   ],
   "source": [
    "import datetime\n",
    "import stock_marker_binance\n",
    "import model_design_dense_layers\n",
    "import pandas as pd\n",
    "from sklearn.utils import class_weight\n",
    "import numpy as np\n",
    "from sklearn.preprocessing import OneHotEncoder\n",
    "from imblearn.over_sampling import SMOTE\n",
    "import winsound\n",
    "import plotly.graph_objects as go"
   ]
  },
  {
   "cell_type": "code",
   "execution_count": null,
   "metadata": {},
   "outputs": [],
   "source": []
  },
  {
   "cell_type": "code",
   "execution_count": 2,
   "metadata": {},
   "outputs": [],
   "source": [
    "EPOCHS =  2000\n",
    "TRAIN_FRACTION = 0.8"
   ]
  },
  {
   "cell_type": "code",
   "execution_count": 3,
   "metadata": {},
   "outputs": [],
   "source": [
    "def plot_model_history(model_history, list_of_metrics):\n",
    "\n",
    "    fig = go.Figure()\n",
    "\n",
    "    # Add traces\n",
    "\n",
    "    for metric in list_of_metrics:\n",
    "        fig.add_trace(go.Scatter(y=model_history[metric],\n",
    "                            mode='lines',\n",
    "                            name=metric))\n",
    "        \n",
    "\n",
    "    fig.show()"
   ]
  },
  {
   "cell_type": "code",
   "execution_count": 4,
   "metadata": {},
   "outputs": [],
   "source": [
    "def dataframe_to_tensor(df, timestep_length: int):\n",
    "    \n",
    "    '''\n",
    "    Converts a pandas dataframe to a tensor\n",
    "    \n",
    "    Input: Pandas dataframe\n",
    "            timestep_length (int) - the length of the timestep\n",
    "    Output: Tensor\n",
    "    \n",
    "    '''\n",
    "    \n",
    "    # Convert the dataframe to a numpy array\n",
    "    df = np.array(df)\n",
    "\n",
    "    n_seq = len(df) - timestep_length + 1\n",
    "    return np.array([df[i:(i+timestep_length)] for i in range(n_seq)])"
   ]
  },
  {
   "cell_type": "code",
   "execution_count": 5,
   "metadata": {},
   "outputs": [],
   "source": [
    "def OneHotEncoding(df_result):\n",
    "    enc = OneHotEncoder()\n",
    "\n",
    "    OHE_array = enc.fit_transform(df_result[['action']]).toarray()\n",
    "\n",
    "    class_weights = class_weight.compute_class_weight(class_weight='balanced',\n",
    "                                                    classes=np.unique(df_result['action']),\n",
    "                                                    y=df_result['action'])\n",
    "\n",
    "\n",
    "\n",
    "    class_weights_dict = dict(zip(enc.categories_[0], class_weights))\n",
    "\n",
    "    print(class_weights)\n",
    "    print(enc.categories_[0])\n",
    "    print(class_weights_dict.keys())\n",
    "    print(np.unique(df_result['action']))\n",
    "\n",
    "    \n",
    "    OHE_df = pd.DataFrame(OHE_array, columns=enc.categories_[0])\n",
    "    df_result = pd.merge(df_result, OHE_df, left_index=True, right_index=True)\n",
    "    df_result.drop(columns=['action'], inplace=True)\n",
    "    return df_result, class_weights_dict"
   ]
  },
  {
   "cell_type": "code",
   "execution_count": 6,
   "metadata": {},
   "outputs": [],
   "source": [
    "def smote(df, train_frac):\n",
    "    '''\n",
    "    Oversample the minority class using SMOTE prior to OHE.\n",
    "    '''\n",
    "\n",
    "    n_train = int(df.shape[0] * train_frac)\n",
    "    n_test = df.shape[0] - n_train\n",
    "\n",
    "    train_data = df.iloc[:n_train, :]\n",
    "    test_data = df.iloc[n_train:, :]\n",
    "\n",
    "    x_train = train_data.drop(columns = ['action'])\n",
    "    y_train = train_data['action']\n",
    "\n",
    "    \n",
    "    smote_inst = SMOTE(sampling_strategy='auto', k_neighbors=10, random_state=2611)\n",
    "      \n",
    "    x_train , y_train = smote_inst.fit_resample(x_train, y_train)\n",
    "    \n",
    "    \n",
    "    train_data = pd.concat([x_train, y_train], axis=1)\n",
    "    \n",
    "    print(train_data[['action', 'year']].groupby('action').count())\n",
    "    print(test_data[['action', 'year']].groupby('action').count())\n",
    "    \n",
    "    df = pd.concat([train_data, test_data], ignore_index=True)\n",
    "\n",
    "    return df, n_test"
   ]
  },
  {
   "cell_type": "code",
   "execution_count": 7,
   "metadata": {},
   "outputs": [],
   "source": [
    "def downsample_majority_classes(df, list_of_classes):\n",
    "    '''\n",
    "    Downsamples the majority classes to the size of the minority class\n",
    "    \n",
    "    Input: Pandas dataframe\n",
    "            list_of_classes (list) - list of classes to downsample\n",
    "            size (int) - the size of the minority class\n",
    "    Output: Pandas dataframe\n",
    "    '''\n",
    "\n",
    "    size = len(df[(df['B'] == 1) | (df['S'] == 1)]) // 2\n",
    "\n",
    "    print(\"Size of minority class: \", size)\n",
    "    \n",
    "    df = df.copy()\n",
    "    for class_ in list_of_classes:\n",
    "        df_class = df[df[class_] == 1]\n",
    "        df_class_downsampled = df_class.sample(size, random_state=2611)\n",
    "        df = df.drop(df_class.index)\n",
    "        df = pd.concat([df, df_class_downsampled])\n",
    "    return df"
   ]
  },
  {
   "cell_type": "code",
   "execution_count": 8,
   "metadata": {},
   "outputs": [],
   "source": [
    "def get_train_test_sets(data, n_test):\n",
    "    '''\n",
    "    Train and test sets to be split prior to reducing majority class.\n",
    "    '''\n",
    "    # n_train = int(data.shape[0] * train_frac)\n",
    "\n",
    "    train_data = data[:-n_test]\n",
    "    test_data = data[-n_test:]\n",
    "\n",
    "    # train_data = downsample_majority_classes(train_data, ['H', 'W'])\n",
    "\n",
    "    \n",
    "    \n",
    "    train_data = np.array(train_data)\n",
    "    test_data = np.array(test_data)\n",
    "\n",
    "    \n",
    "    x_train = train_data[:,  :-4]\n",
    "    y_train = train_data[:,  -4:]\n",
    "    x_test = test_data[:, :-4]\n",
    "    y_test = test_data[:, -4:]\n",
    "    return x_train, y_train, x_test, y_test"
   ]
  },
  {
   "cell_type": "code",
   "execution_count": 9,
   "metadata": {},
   "outputs": [],
   "source": [
    "# import tensorflow as tf\n",
    "# physical_devices = tf.config.list_physical_devices('GPU')\n",
    "# tf.config.experimental.set_memory_growth(physical_devices[0], enable=True)"
   ]
  },
  {
   "cell_type": "code",
   "execution_count": 10,
   "metadata": {},
   "outputs": [],
   "source": [
    "df = pd.read_csv('ETH_1h_history as of 09-01-2024.csv', index_col=0)"
   ]
  },
  {
   "cell_type": "code",
   "execution_count": 11,
   "metadata": {},
   "outputs": [
    {
     "data": {
      "text/html": [
       "<div>\n",
       "<style scoped>\n",
       "    .dataframe tbody tr th:only-of-type {\n",
       "        vertical-align: middle;\n",
       "    }\n",
       "\n",
       "    .dataframe tbody tr th {\n",
       "        vertical-align: top;\n",
       "    }\n",
       "\n",
       "    .dataframe thead th {\n",
       "        text-align: right;\n",
       "    }\n",
       "</style>\n",
       "<table border=\"1\" class=\"dataframe\">\n",
       "  <thead>\n",
       "    <tr style=\"text-align: right;\">\n",
       "      <th></th>\n",
       "      <th>timestamp</th>\n",
       "      <th>open</th>\n",
       "      <th>high</th>\n",
       "      <th>low</th>\n",
       "      <th>close</th>\n",
       "      <th>volume</th>\n",
       "      <th>close_time</th>\n",
       "      <th>quote_asset_volume</th>\n",
       "      <th>num_trades</th>\n",
       "    </tr>\n",
       "  </thead>\n",
       "  <tbody>\n",
       "    <tr>\n",
       "      <th>0</th>\n",
       "      <td>01/01/2020 00:00</td>\n",
       "      <td>129.16</td>\n",
       "      <td>129.19</td>\n",
       "      <td>128.68</td>\n",
       "      <td>128.87</td>\n",
       "      <td>7769.17336</td>\n",
       "      <td>1.577840e+12</td>\n",
       "      <td>1.000930e+06</td>\n",
       "      <td>2504</td>\n",
       "    </tr>\n",
       "    <tr>\n",
       "      <th>1</th>\n",
       "      <td>01/01/2020 01:00</td>\n",
       "      <td>128.87</td>\n",
       "      <td>130.65</td>\n",
       "      <td>128.78</td>\n",
       "      <td>130.64</td>\n",
       "      <td>11344.65516</td>\n",
       "      <td>1.577840e+12</td>\n",
       "      <td>1.474278e+06</td>\n",
       "      <td>4885</td>\n",
       "    </tr>\n",
       "    <tr>\n",
       "      <th>2</th>\n",
       "      <td>01/01/2020 02:00</td>\n",
       "      <td>130.63</td>\n",
       "      <td>130.98</td>\n",
       "      <td>130.35</td>\n",
       "      <td>130.85</td>\n",
       "      <td>7603.35623</td>\n",
       "      <td>1.577850e+12</td>\n",
       "      <td>9.940256e+05</td>\n",
       "      <td>3046</td>\n",
       "    </tr>\n",
       "    <tr>\n",
       "      <th>3</th>\n",
       "      <td>01/01/2020 03:00</td>\n",
       "      <td>130.85</td>\n",
       "      <td>130.89</td>\n",
       "      <td>129.94</td>\n",
       "      <td>130.20</td>\n",
       "      <td>4968.55433</td>\n",
       "      <td>1.577850e+12</td>\n",
       "      <td>6.473610e+05</td>\n",
       "      <td>2818</td>\n",
       "    </tr>\n",
       "    <tr>\n",
       "      <th>4</th>\n",
       "      <td>01/01/2020 04:00</td>\n",
       "      <td>130.21</td>\n",
       "      <td>130.74</td>\n",
       "      <td>130.15</td>\n",
       "      <td>130.20</td>\n",
       "      <td>3397.90747</td>\n",
       "      <td>1.577850e+12</td>\n",
       "      <td>4.430067e+05</td>\n",
       "      <td>2264</td>\n",
       "    </tr>\n",
       "  </tbody>\n",
       "</table>\n",
       "</div>"
      ],
      "text/plain": [
       "          timestamp    open    high     low   close       volume  \\\n",
       "0  01/01/2020 00:00  129.16  129.19  128.68  128.87   7769.17336   \n",
       "1  01/01/2020 01:00  128.87  130.65  128.78  130.64  11344.65516   \n",
       "2  01/01/2020 02:00  130.63  130.98  130.35  130.85   7603.35623   \n",
       "3  01/01/2020 03:00  130.85  130.89  129.94  130.20   4968.55433   \n",
       "4  01/01/2020 04:00  130.21  130.74  130.15  130.20   3397.90747   \n",
       "\n",
       "     close_time  quote_asset_volume  num_trades  \n",
       "0  1.577840e+12        1.000930e+06        2504  \n",
       "1  1.577840e+12        1.474278e+06        4885  \n",
       "2  1.577850e+12        9.940256e+05        3046  \n",
       "3  1.577850e+12        6.473610e+05        2818  \n",
       "4  1.577850e+12        4.430067e+05        2264  "
      ]
     },
     "execution_count": 11,
     "metadata": {},
     "output_type": "execute_result"
    }
   ],
   "source": [
    "df.head()"
   ]
  },
  {
   "cell_type": "code",
   "execution_count": 12,
   "metadata": {},
   "outputs": [],
   "source": [
    "df_result = stock_marker_binance.sorting_timestamp(df)\n",
    "\n",
    "df_result['hour_sin'] = np.sin(df_result['timestamp'].dt.hour / 24 * 2 * np.pi)\n",
    "df_result['hour_cos'] = np.cos(df_result['timestamp'].dt.hour / 24 * 2 * np.pi)\n",
    "\n",
    "df_result['day_sin'] = np.sin(df_result['timestamp'].dt.day / 30 * 2 * np.pi)\n",
    "df_result['day_cos'] = np.cos(df_result['timestamp'].dt.day / 30 * 2 * np.pi)\n",
    "\n",
    "df_result['mon_sin'] = np.sin(df_result['timestamp'].dt.month / 12 * 2 * np.pi)\n",
    "df_result['mon_cos'] = np.cos(df_result['timestamp'].dt.month / 12 * 2 * np.pi)\n",
    "\n",
    "df_result['weekday_sin'] = np.sin(df_result['timestamp'].dt.weekday / 7 * 2 * np.pi)\n",
    "df_result['weekday_cos'] = np.cos(df_result['timestamp'].dt.weekday / 7 * 2 * np.pi)\n",
    "\n",
    "df_result['year'] = df_result['timestamp'].dt.year\n"
   ]
  },
  {
   "cell_type": "code",
   "execution_count": 13,
   "metadata": {},
   "outputs": [
    {
     "data": {
      "text/html": [
       "<div>\n",
       "<style scoped>\n",
       "    .dataframe tbody tr th:only-of-type {\n",
       "        vertical-align: middle;\n",
       "    }\n",
       "\n",
       "    .dataframe tbody tr th {\n",
       "        vertical-align: top;\n",
       "    }\n",
       "\n",
       "    .dataframe thead th {\n",
       "        text-align: right;\n",
       "    }\n",
       "</style>\n",
       "<table border=\"1\" class=\"dataframe\">\n",
       "  <thead>\n",
       "    <tr style=\"text-align: right;\">\n",
       "      <th></th>\n",
       "      <th>timestamp</th>\n",
       "      <th>open</th>\n",
       "      <th>high</th>\n",
       "      <th>low</th>\n",
       "      <th>close</th>\n",
       "      <th>volume</th>\n",
       "      <th>close_time</th>\n",
       "      <th>quote_asset_volume</th>\n",
       "      <th>num_trades</th>\n",
       "      <th>hour_sin</th>\n",
       "      <th>hour_cos</th>\n",
       "      <th>day_sin</th>\n",
       "      <th>day_cos</th>\n",
       "      <th>mon_sin</th>\n",
       "      <th>mon_cos</th>\n",
       "      <th>weekday_sin</th>\n",
       "      <th>weekday_cos</th>\n",
       "      <th>year</th>\n",
       "    </tr>\n",
       "  </thead>\n",
       "  <tbody>\n",
       "    <tr>\n",
       "      <th>0</th>\n",
       "      <td>2020-01-01 00:00:00</td>\n",
       "      <td>129.16</td>\n",
       "      <td>129.19</td>\n",
       "      <td>128.68</td>\n",
       "      <td>128.87</td>\n",
       "      <td>7769.17336</td>\n",
       "      <td>1.577840e+12</td>\n",
       "      <td>1.000930e+06</td>\n",
       "      <td>2504</td>\n",
       "      <td>0.000000</td>\n",
       "      <td>1.000000e+00</td>\n",
       "      <td>0.207912</td>\n",
       "      <td>0.978148</td>\n",
       "      <td>0.5</td>\n",
       "      <td>0.866025</td>\n",
       "      <td>0.974928</td>\n",
       "      <td>-0.222521</td>\n",
       "      <td>2020</td>\n",
       "    </tr>\n",
       "    <tr>\n",
       "      <th>1</th>\n",
       "      <td>2020-01-01 01:00:00</td>\n",
       "      <td>128.87</td>\n",
       "      <td>130.65</td>\n",
       "      <td>128.78</td>\n",
       "      <td>130.64</td>\n",
       "      <td>11344.65516</td>\n",
       "      <td>1.577840e+12</td>\n",
       "      <td>1.474278e+06</td>\n",
       "      <td>4885</td>\n",
       "      <td>0.258819</td>\n",
       "      <td>9.659258e-01</td>\n",
       "      <td>0.207912</td>\n",
       "      <td>0.978148</td>\n",
       "      <td>0.5</td>\n",
       "      <td>0.866025</td>\n",
       "      <td>0.974928</td>\n",
       "      <td>-0.222521</td>\n",
       "      <td>2020</td>\n",
       "    </tr>\n",
       "    <tr>\n",
       "      <th>2</th>\n",
       "      <td>2020-01-01 02:00:00</td>\n",
       "      <td>130.63</td>\n",
       "      <td>130.98</td>\n",
       "      <td>130.35</td>\n",
       "      <td>130.85</td>\n",
       "      <td>7603.35623</td>\n",
       "      <td>1.577850e+12</td>\n",
       "      <td>9.940256e+05</td>\n",
       "      <td>3046</td>\n",
       "      <td>0.500000</td>\n",
       "      <td>8.660254e-01</td>\n",
       "      <td>0.207912</td>\n",
       "      <td>0.978148</td>\n",
       "      <td>0.5</td>\n",
       "      <td>0.866025</td>\n",
       "      <td>0.974928</td>\n",
       "      <td>-0.222521</td>\n",
       "      <td>2020</td>\n",
       "    </tr>\n",
       "    <tr>\n",
       "      <th>3</th>\n",
       "      <td>2020-01-01 03:00:00</td>\n",
       "      <td>130.85</td>\n",
       "      <td>130.89</td>\n",
       "      <td>129.94</td>\n",
       "      <td>130.20</td>\n",
       "      <td>4968.55433</td>\n",
       "      <td>1.577850e+12</td>\n",
       "      <td>6.473610e+05</td>\n",
       "      <td>2818</td>\n",
       "      <td>0.707107</td>\n",
       "      <td>7.071068e-01</td>\n",
       "      <td>0.207912</td>\n",
       "      <td>0.978148</td>\n",
       "      <td>0.5</td>\n",
       "      <td>0.866025</td>\n",
       "      <td>0.974928</td>\n",
       "      <td>-0.222521</td>\n",
       "      <td>2020</td>\n",
       "    </tr>\n",
       "    <tr>\n",
       "      <th>4</th>\n",
       "      <td>2020-01-01 04:00:00</td>\n",
       "      <td>130.21</td>\n",
       "      <td>130.74</td>\n",
       "      <td>130.15</td>\n",
       "      <td>130.20</td>\n",
       "      <td>3397.90747</td>\n",
       "      <td>1.577850e+12</td>\n",
       "      <td>4.430067e+05</td>\n",
       "      <td>2264</td>\n",
       "      <td>0.866025</td>\n",
       "      <td>5.000000e-01</td>\n",
       "      <td>0.207912</td>\n",
       "      <td>0.978148</td>\n",
       "      <td>0.5</td>\n",
       "      <td>0.866025</td>\n",
       "      <td>0.974928</td>\n",
       "      <td>-0.222521</td>\n",
       "      <td>2020</td>\n",
       "    </tr>\n",
       "    <tr>\n",
       "      <th>5</th>\n",
       "      <td>2020-01-01 05:00:00</td>\n",
       "      <td>130.20</td>\n",
       "      <td>130.47</td>\n",
       "      <td>130.11</td>\n",
       "      <td>130.30</td>\n",
       "      <td>4243.60640</td>\n",
       "      <td>1.577860e+12</td>\n",
       "      <td>5.529727e+05</td>\n",
       "      <td>2426</td>\n",
       "      <td>0.965926</td>\n",
       "      <td>2.588190e-01</td>\n",
       "      <td>0.207912</td>\n",
       "      <td>0.978148</td>\n",
       "      <td>0.5</td>\n",
       "      <td>0.866025</td>\n",
       "      <td>0.974928</td>\n",
       "      <td>-0.222521</td>\n",
       "      <td>2020</td>\n",
       "    </tr>\n",
       "    <tr>\n",
       "      <th>6</th>\n",
       "      <td>2020-01-01 06:00:00</td>\n",
       "      <td>130.31</td>\n",
       "      <td>130.75</td>\n",
       "      <td>130.26</td>\n",
       "      <td>130.44</td>\n",
       "      <td>3668.90166</td>\n",
       "      <td>1.577860e+12</td>\n",
       "      <td>4.789442e+05</td>\n",
       "      <td>2347</td>\n",
       "      <td>1.000000</td>\n",
       "      <td>6.123234e-17</td>\n",
       "      <td>0.207912</td>\n",
       "      <td>0.978148</td>\n",
       "      <td>0.5</td>\n",
       "      <td>0.866025</td>\n",
       "      <td>0.974928</td>\n",
       "      <td>-0.222521</td>\n",
       "      <td>2020</td>\n",
       "    </tr>\n",
       "    <tr>\n",
       "      <th>7</th>\n",
       "      <td>2020-01-01 07:00:00</td>\n",
       "      <td>130.47</td>\n",
       "      <td>130.71</td>\n",
       "      <td>130.14</td>\n",
       "      <td>130.24</td>\n",
       "      <td>4147.17413</td>\n",
       "      <td>1.577870e+12</td>\n",
       "      <td>5.407707e+05</td>\n",
       "      <td>2568</td>\n",
       "      <td>0.965926</td>\n",
       "      <td>-2.588190e-01</td>\n",
       "      <td>0.207912</td>\n",
       "      <td>0.978148</td>\n",
       "      <td>0.5</td>\n",
       "      <td>0.866025</td>\n",
       "      <td>0.974928</td>\n",
       "      <td>-0.222521</td>\n",
       "      <td>2020</td>\n",
       "    </tr>\n",
       "    <tr>\n",
       "      <th>8</th>\n",
       "      <td>2020-01-01 08:00:00</td>\n",
       "      <td>130.24</td>\n",
       "      <td>130.41</td>\n",
       "      <td>129.87</td>\n",
       "      <td>130.36</td>\n",
       "      <td>7541.44497</td>\n",
       "      <td>1.577870e+12</td>\n",
       "      <td>9.808940e+05</td>\n",
       "      <td>3039</td>\n",
       "      <td>0.866025</td>\n",
       "      <td>-5.000000e-01</td>\n",
       "      <td>0.207912</td>\n",
       "      <td>0.978148</td>\n",
       "      <td>0.5</td>\n",
       "      <td>0.866025</td>\n",
       "      <td>0.974928</td>\n",
       "      <td>-0.222521</td>\n",
       "      <td>2020</td>\n",
       "    </tr>\n",
       "    <tr>\n",
       "      <th>9</th>\n",
       "      <td>2020-01-01 09:00:00</td>\n",
       "      <td>130.40</td>\n",
       "      <td>130.62</td>\n",
       "      <td>130.13</td>\n",
       "      <td>130.17</td>\n",
       "      <td>4808.20496</td>\n",
       "      <td>1.577870e+12</td>\n",
       "      <td>6.268190e+05</td>\n",
       "      <td>2696</td>\n",
       "      <td>0.707107</td>\n",
       "      <td>-7.071068e-01</td>\n",
       "      <td>0.207912</td>\n",
       "      <td>0.978148</td>\n",
       "      <td>0.5</td>\n",
       "      <td>0.866025</td>\n",
       "      <td>0.974928</td>\n",
       "      <td>-0.222521</td>\n",
       "      <td>2020</td>\n",
       "    </tr>\n",
       "  </tbody>\n",
       "</table>\n",
       "</div>"
      ],
      "text/plain": [
       "            timestamp    open    high     low   close       volume  \\\n",
       "0 2020-01-01 00:00:00  129.16  129.19  128.68  128.87   7769.17336   \n",
       "1 2020-01-01 01:00:00  128.87  130.65  128.78  130.64  11344.65516   \n",
       "2 2020-01-01 02:00:00  130.63  130.98  130.35  130.85   7603.35623   \n",
       "3 2020-01-01 03:00:00  130.85  130.89  129.94  130.20   4968.55433   \n",
       "4 2020-01-01 04:00:00  130.21  130.74  130.15  130.20   3397.90747   \n",
       "5 2020-01-01 05:00:00  130.20  130.47  130.11  130.30   4243.60640   \n",
       "6 2020-01-01 06:00:00  130.31  130.75  130.26  130.44   3668.90166   \n",
       "7 2020-01-01 07:00:00  130.47  130.71  130.14  130.24   4147.17413   \n",
       "8 2020-01-01 08:00:00  130.24  130.41  129.87  130.36   7541.44497   \n",
       "9 2020-01-01 09:00:00  130.40  130.62  130.13  130.17   4808.20496   \n",
       "\n",
       "     close_time  quote_asset_volume  num_trades  hour_sin      hour_cos  \\\n",
       "0  1.577840e+12        1.000930e+06        2504  0.000000  1.000000e+00   \n",
       "1  1.577840e+12        1.474278e+06        4885  0.258819  9.659258e-01   \n",
       "2  1.577850e+12        9.940256e+05        3046  0.500000  8.660254e-01   \n",
       "3  1.577850e+12        6.473610e+05        2818  0.707107  7.071068e-01   \n",
       "4  1.577850e+12        4.430067e+05        2264  0.866025  5.000000e-01   \n",
       "5  1.577860e+12        5.529727e+05        2426  0.965926  2.588190e-01   \n",
       "6  1.577860e+12        4.789442e+05        2347  1.000000  6.123234e-17   \n",
       "7  1.577870e+12        5.407707e+05        2568  0.965926 -2.588190e-01   \n",
       "8  1.577870e+12        9.808940e+05        3039  0.866025 -5.000000e-01   \n",
       "9  1.577870e+12        6.268190e+05        2696  0.707107 -7.071068e-01   \n",
       "\n",
       "    day_sin   day_cos  mon_sin   mon_cos  weekday_sin  weekday_cos  year  \n",
       "0  0.207912  0.978148      0.5  0.866025     0.974928    -0.222521  2020  \n",
       "1  0.207912  0.978148      0.5  0.866025     0.974928    -0.222521  2020  \n",
       "2  0.207912  0.978148      0.5  0.866025     0.974928    -0.222521  2020  \n",
       "3  0.207912  0.978148      0.5  0.866025     0.974928    -0.222521  2020  \n",
       "4  0.207912  0.978148      0.5  0.866025     0.974928    -0.222521  2020  \n",
       "5  0.207912  0.978148      0.5  0.866025     0.974928    -0.222521  2020  \n",
       "6  0.207912  0.978148      0.5  0.866025     0.974928    -0.222521  2020  \n",
       "7  0.207912  0.978148      0.5  0.866025     0.974928    -0.222521  2020  \n",
       "8  0.207912  0.978148      0.5  0.866025     0.974928    -0.222521  2020  \n",
       "9  0.207912  0.978148      0.5  0.866025     0.974928    -0.222521  2020  "
      ]
     },
     "execution_count": 13,
     "metadata": {},
     "output_type": "execute_result"
    }
   ],
   "source": [
    "df_result.head(10)"
   ]
  },
  {
   "cell_type": "code",
   "execution_count": 14,
   "metadata": {},
   "outputs": [
    {
     "name": "stdout",
     "output_type": "stream",
     "text": [
      "Complete adding STDs\n",
      "Complete adding MAs\n",
      "Complete adding ratios\n"
     ]
    },
    {
     "name": "stderr",
     "output_type": "stream",
     "text": [
      "c:\\Users\\user\\Documents\\GitHub\\BinanceTradingBot\\stock_marker_binance.py:278: PerformanceWarning: DataFrame is highly fragmented.  This is usually the result of calling `frame.insert` many times, which has poor performance.  Consider joining all columns at once using pd.concat(axis=1) instead. To get a de-fragmented frame, use `newframe = frame.copy()`\n",
      "  df['RSI_'+ str(period) + '_' + col_label] = 100.0 - (100.0 / (1.0 + RS))\n",
      "c:\\Users\\user\\Documents\\GitHub\\BinanceTradingBot\\stock_marker_binance.py:278: PerformanceWarning: DataFrame is highly fragmented.  This is usually the result of calling `frame.insert` many times, which has poor performance.  Consider joining all columns at once using pd.concat(axis=1) instead. To get a de-fragmented frame, use `newframe = frame.copy()`\n",
      "  df['RSI_'+ str(period) + '_' + col_label] = 100.0 - (100.0 / (1.0 + RS))\n",
      "c:\\Users\\user\\Documents\\GitHub\\BinanceTradingBot\\stock_marker_binance.py:278: PerformanceWarning: DataFrame is highly fragmented.  This is usually the result of calling `frame.insert` many times, which has poor performance.  Consider joining all columns at once using pd.concat(axis=1) instead. To get a de-fragmented frame, use `newframe = frame.copy()`\n",
      "  df['RSI_'+ str(period) + '_' + col_label] = 100.0 - (100.0 / (1.0 + RS))\n",
      "c:\\Users\\user\\Documents\\GitHub\\BinanceTradingBot\\stock_marker_binance.py:278: PerformanceWarning: DataFrame is highly fragmented.  This is usually the result of calling `frame.insert` many times, which has poor performance.  Consider joining all columns at once using pd.concat(axis=1) instead. To get a de-fragmented frame, use `newframe = frame.copy()`\n",
      "  df['RSI_'+ str(period) + '_' + col_label] = 100.0 - (100.0 / (1.0 + RS))\n",
      "c:\\Users\\user\\Documents\\GitHub\\BinanceTradingBot\\stock_marker_binance.py:278: PerformanceWarning: DataFrame is highly fragmented.  This is usually the result of calling `frame.insert` many times, which has poor performance.  Consider joining all columns at once using pd.concat(axis=1) instead. To get a de-fragmented frame, use `newframe = frame.copy()`\n",
      "  df['RSI_'+ str(period) + '_' + col_label] = 100.0 - (100.0 / (1.0 + RS))\n",
      "c:\\Users\\user\\Documents\\GitHub\\BinanceTradingBot\\stock_marker_binance.py:278: PerformanceWarning: DataFrame is highly fragmented.  This is usually the result of calling `frame.insert` many times, which has poor performance.  Consider joining all columns at once using pd.concat(axis=1) instead. To get a de-fragmented frame, use `newframe = frame.copy()`\n",
      "  df['RSI_'+ str(period) + '_' + col_label] = 100.0 - (100.0 / (1.0 + RS))\n",
      "c:\\Users\\user\\Documents\\GitHub\\BinanceTradingBot\\stock_marker_binance.py:278: PerformanceWarning: DataFrame is highly fragmented.  This is usually the result of calling `frame.insert` many times, which has poor performance.  Consider joining all columns at once using pd.concat(axis=1) instead. To get a de-fragmented frame, use `newframe = frame.copy()`\n",
      "  df['RSI_'+ str(period) + '_' + col_label] = 100.0 - (100.0 / (1.0 + RS))\n",
      "c:\\Users\\user\\Documents\\GitHub\\BinanceTradingBot\\stock_marker_binance.py:278: PerformanceWarning: DataFrame is highly fragmented.  This is usually the result of calling `frame.insert` many times, which has poor performance.  Consider joining all columns at once using pd.concat(axis=1) instead. To get a de-fragmented frame, use `newframe = frame.copy()`\n",
      "  df['RSI_'+ str(period) + '_' + col_label] = 100.0 - (100.0 / (1.0 + RS))\n",
      "c:\\Users\\user\\Documents\\GitHub\\BinanceTradingBot\\stock_marker_binance.py:278: PerformanceWarning: DataFrame is highly fragmented.  This is usually the result of calling `frame.insert` many times, which has poor performance.  Consider joining all columns at once using pd.concat(axis=1) instead. To get a de-fragmented frame, use `newframe = frame.copy()`\n",
      "  df['RSI_'+ str(period) + '_' + col_label] = 100.0 - (100.0 / (1.0 + RS))\n",
      "c:\\Users\\user\\Documents\\GitHub\\BinanceTradingBot\\stock_marker_binance.py:278: PerformanceWarning: DataFrame is highly fragmented.  This is usually the result of calling `frame.insert` many times, which has poor performance.  Consider joining all columns at once using pd.concat(axis=1) instead. To get a de-fragmented frame, use `newframe = frame.copy()`\n",
      "  df['RSI_'+ str(period) + '_' + col_label] = 100.0 - (100.0 / (1.0 + RS))\n",
      "c:\\Users\\user\\Documents\\GitHub\\BinanceTradingBot\\stock_marker_binance.py:278: PerformanceWarning: DataFrame is highly fragmented.  This is usually the result of calling `frame.insert` many times, which has poor performance.  Consider joining all columns at once using pd.concat(axis=1) instead. To get a de-fragmented frame, use `newframe = frame.copy()`\n",
      "  df['RSI_'+ str(period) + '_' + col_label] = 100.0 - (100.0 / (1.0 + RS))\n",
      "c:\\Users\\user\\Documents\\GitHub\\BinanceTradingBot\\stock_marker_binance.py:278: PerformanceWarning: DataFrame is highly fragmented.  This is usually the result of calling `frame.insert` many times, which has poor performance.  Consider joining all columns at once using pd.concat(axis=1) instead. To get a de-fragmented frame, use `newframe = frame.copy()`\n",
      "  df['RSI_'+ str(period) + '_' + col_label] = 100.0 - (100.0 / (1.0 + RS))\n",
      "c:\\Users\\user\\Documents\\GitHub\\BinanceTradingBot\\stock_marker_binance.py:278: PerformanceWarning: DataFrame is highly fragmented.  This is usually the result of calling `frame.insert` many times, which has poor performance.  Consider joining all columns at once using pd.concat(axis=1) instead. To get a de-fragmented frame, use `newframe = frame.copy()`\n",
      "  df['RSI_'+ str(period) + '_' + col_label] = 100.0 - (100.0 / (1.0 + RS))\n",
      "c:\\Users\\user\\Documents\\GitHub\\BinanceTradingBot\\stock_marker_binance.py:278: PerformanceWarning: DataFrame is highly fragmented.  This is usually the result of calling `frame.insert` many times, which has poor performance.  Consider joining all columns at once using pd.concat(axis=1) instead. To get a de-fragmented frame, use `newframe = frame.copy()`\n",
      "  df['RSI_'+ str(period) + '_' + col_label] = 100.0 - (100.0 / (1.0 + RS))\n",
      "c:\\Users\\user\\Documents\\GitHub\\BinanceTradingBot\\stock_marker_binance.py:278: PerformanceWarning: DataFrame is highly fragmented.  This is usually the result of calling `frame.insert` many times, which has poor performance.  Consider joining all columns at once using pd.concat(axis=1) instead. To get a de-fragmented frame, use `newframe = frame.copy()`\n",
      "  df['RSI_'+ str(period) + '_' + col_label] = 100.0 - (100.0 / (1.0 + RS))\n",
      "c:\\Users\\user\\Documents\\GitHub\\BinanceTradingBot\\stock_marker_binance.py:278: PerformanceWarning: DataFrame is highly fragmented.  This is usually the result of calling `frame.insert` many times, which has poor performance.  Consider joining all columns at once using pd.concat(axis=1) instead. To get a de-fragmented frame, use `newframe = frame.copy()`\n",
      "  df['RSI_'+ str(period) + '_' + col_label] = 100.0 - (100.0 / (1.0 + RS))\n"
     ]
    },
    {
     "name": "stdout",
     "output_type": "stream",
     "text": [
      "Complete adding RSI\n"
     ]
    },
    {
     "name": "stdout",
     "output_type": "stream",
     "text": [
      "Complete marking buy sell actions\n",
      "Complete marking adjacent actions\n",
      "Complete marking hold wait actions\n"
     ]
    }
   ],
   "source": [
    "\n",
    "df_result = stock_marker_binance.std(df_result, ['close', 'quote_asset_volume', 'num_trades'])\n",
    "print(\"Complete adding STDs\")\n",
    "\n",
    "df_result = stock_marker_binance.adding_MAs(df_result, ['close', 'quote_asset_volume', 'num_trades'])\n",
    "print(\"Complete adding MAs\")\n",
    "\n",
    "\n",
    "df_result = stock_marker_binance.adding_ratio(df_result, ['close', 'quote_asset_volume', 'num_trades'], ['MA'])\n",
    "df_result = stock_marker_binance.adding_ratio(df_result, ['close'], ['STD'])\n",
    "print(\"Complete adding ratios\")\n",
    "\n",
    "df_result = stock_marker_binance.rsi(df_result, ['close',\n",
    "                                                   'quote_asset_volume', 'num_trades'\n",
    "                                                  ])\n",
    "print(\"Complete adding RSI\")\n",
    "\n",
    "df_result = stock_marker_binance.marking_buy_sell_actions(df_result)\n",
    "print(\"Complete marking buy sell actions\")\n",
    "\n",
    "df_result = stock_marker_binance.marking_adjacent_actions(df_result)\n",
    "print(\"Complete marking adjacent actions\")\n",
    "\n",
    "df_result = stock_marker_binance.marking_hold_wait_actions(df_result)\n",
    "print(\"Complete marking hold wait actions\")\n",
    "\n",
    "df_result = df_result.drop(columns=['timestamp','open', 'high', 'low' ,'close_time', 'volume',\n",
    "                                    'close',  'quote_asset_volume', 'num_trades'\n",
    "                                    ])\n",
    "df_result=df_result.dropna()\n",
    "df_result.reset_index(inplace=True, drop=True)\n",
    "# df_result = stock_marker_binance.renaming_cols(df_result, STOCK_TICKER + \"_\", ['timestamp', 'action'])"
   ]
  },
  {
   "cell_type": "code",
   "execution_count": 15,
   "metadata": {},
   "outputs": [
    {
     "data": {
      "text/html": [
       "<div>\n",
       "<style scoped>\n",
       "    .dataframe tbody tr th:only-of-type {\n",
       "        vertical-align: middle;\n",
       "    }\n",
       "\n",
       "    .dataframe tbody tr th {\n",
       "        vertical-align: top;\n",
       "    }\n",
       "\n",
       "    .dataframe thead th {\n",
       "        text-align: right;\n",
       "    }\n",
       "</style>\n",
       "<table border=\"1\" class=\"dataframe\">\n",
       "  <thead>\n",
       "    <tr style=\"text-align: right;\">\n",
       "      <th></th>\n",
       "      <th>hour_sin</th>\n",
       "      <th>hour_cos</th>\n",
       "      <th>day_sin</th>\n",
       "      <th>day_cos</th>\n",
       "      <th>mon_sin</th>\n",
       "      <th>mon_cos</th>\n",
       "      <th>weekday_sin</th>\n",
       "      <th>weekday_cos</th>\n",
       "      <th>year</th>\n",
       "      <th>STD3_close</th>\n",
       "      <th>...</th>\n",
       "      <th>RSI_192_quote_asset_volume</th>\n",
       "      <th>RSI_384_quote_asset_volume</th>\n",
       "      <th>RSI_3_num_trades</th>\n",
       "      <th>RSI_6_num_trades</th>\n",
       "      <th>RSI_12_num_trades</th>\n",
       "      <th>RSI_24_num_trades</th>\n",
       "      <th>RSI_48_num_trades</th>\n",
       "      <th>RSI_96_num_trades</th>\n",
       "      <th>RSI_192_num_trades</th>\n",
       "      <th>RSI_384_num_trades</th>\n",
       "    </tr>\n",
       "    <tr>\n",
       "      <th>action</th>\n",
       "      <th></th>\n",
       "      <th></th>\n",
       "      <th></th>\n",
       "      <th></th>\n",
       "      <th></th>\n",
       "      <th></th>\n",
       "      <th></th>\n",
       "      <th></th>\n",
       "      <th></th>\n",
       "      <th></th>\n",
       "      <th></th>\n",
       "      <th></th>\n",
       "      <th></th>\n",
       "      <th></th>\n",
       "      <th></th>\n",
       "      <th></th>\n",
       "      <th></th>\n",
       "      <th></th>\n",
       "      <th></th>\n",
       "      <th></th>\n",
       "      <th></th>\n",
       "    </tr>\n",
       "  </thead>\n",
       "  <tbody>\n",
       "    <tr>\n",
       "      <th>B</th>\n",
       "      <td>2332</td>\n",
       "      <td>2332</td>\n",
       "      <td>2332</td>\n",
       "      <td>2332</td>\n",
       "      <td>2332</td>\n",
       "      <td>2332</td>\n",
       "      <td>2332</td>\n",
       "      <td>2332</td>\n",
       "      <td>2332</td>\n",
       "      <td>2332</td>\n",
       "      <td>...</td>\n",
       "      <td>2332</td>\n",
       "      <td>2332</td>\n",
       "      <td>2332</td>\n",
       "      <td>2332</td>\n",
       "      <td>2332</td>\n",
       "      <td>2332</td>\n",
       "      <td>2332</td>\n",
       "      <td>2332</td>\n",
       "      <td>2332</td>\n",
       "      <td>2332</td>\n",
       "    </tr>\n",
       "    <tr>\n",
       "      <th>H</th>\n",
       "      <td>11110</td>\n",
       "      <td>11110</td>\n",
       "      <td>11110</td>\n",
       "      <td>11110</td>\n",
       "      <td>11110</td>\n",
       "      <td>11110</td>\n",
       "      <td>11110</td>\n",
       "      <td>11110</td>\n",
       "      <td>11110</td>\n",
       "      <td>11110</td>\n",
       "      <td>...</td>\n",
       "      <td>11110</td>\n",
       "      <td>11110</td>\n",
       "      <td>11110</td>\n",
       "      <td>11110</td>\n",
       "      <td>11110</td>\n",
       "      <td>11110</td>\n",
       "      <td>11110</td>\n",
       "      <td>11110</td>\n",
       "      <td>11110</td>\n",
       "      <td>11110</td>\n",
       "    </tr>\n",
       "    <tr>\n",
       "      <th>S</th>\n",
       "      <td>2628</td>\n",
       "      <td>2628</td>\n",
       "      <td>2628</td>\n",
       "      <td>2628</td>\n",
       "      <td>2628</td>\n",
       "      <td>2628</td>\n",
       "      <td>2628</td>\n",
       "      <td>2628</td>\n",
       "      <td>2628</td>\n",
       "      <td>2628</td>\n",
       "      <td>...</td>\n",
       "      <td>2628</td>\n",
       "      <td>2628</td>\n",
       "      <td>2628</td>\n",
       "      <td>2628</td>\n",
       "      <td>2628</td>\n",
       "      <td>2628</td>\n",
       "      <td>2628</td>\n",
       "      <td>2628</td>\n",
       "      <td>2628</td>\n",
       "      <td>2628</td>\n",
       "    </tr>\n",
       "    <tr>\n",
       "      <th>W</th>\n",
       "      <td>18778</td>\n",
       "      <td>18778</td>\n",
       "      <td>18778</td>\n",
       "      <td>18778</td>\n",
       "      <td>18778</td>\n",
       "      <td>18778</td>\n",
       "      <td>18778</td>\n",
       "      <td>18778</td>\n",
       "      <td>18778</td>\n",
       "      <td>18778</td>\n",
       "      <td>...</td>\n",
       "      <td>18778</td>\n",
       "      <td>18778</td>\n",
       "      <td>18778</td>\n",
       "      <td>18778</td>\n",
       "      <td>18778</td>\n",
       "      <td>18778</td>\n",
       "      <td>18778</td>\n",
       "      <td>18778</td>\n",
       "      <td>18778</td>\n",
       "      <td>18778</td>\n",
       "    </tr>\n",
       "  </tbody>\n",
       "</table>\n",
       "<p>4 rows × 113 columns</p>\n",
       "</div>"
      ],
      "text/plain": [
       "        hour_sin  hour_cos  day_sin  day_cos  mon_sin  mon_cos  weekday_sin  \\\n",
       "action                                                                        \n",
       "B           2332      2332     2332     2332     2332     2332         2332   \n",
       "H          11110     11110    11110    11110    11110    11110        11110   \n",
       "S           2628      2628     2628     2628     2628     2628         2628   \n",
       "W          18778     18778    18778    18778    18778    18778        18778   \n",
       "\n",
       "        weekday_cos   year  STD3_close  ...  RSI_192_quote_asset_volume  \\\n",
       "action                                  ...                               \n",
       "B              2332   2332        2332  ...                        2332   \n",
       "H             11110  11110       11110  ...                       11110   \n",
       "S              2628   2628        2628  ...                        2628   \n",
       "W             18778  18778       18778  ...                       18778   \n",
       "\n",
       "        RSI_384_quote_asset_volume  RSI_3_num_trades  RSI_6_num_trades  \\\n",
       "action                                                                   \n",
       "B                             2332              2332              2332   \n",
       "H                            11110             11110             11110   \n",
       "S                             2628              2628              2628   \n",
       "W                            18778             18778             18778   \n",
       "\n",
       "        RSI_12_num_trades  RSI_24_num_trades  RSI_48_num_trades  \\\n",
       "action                                                            \n",
       "B                    2332               2332               2332   \n",
       "H                   11110              11110              11110   \n",
       "S                    2628               2628               2628   \n",
       "W                   18778              18778              18778   \n",
       "\n",
       "        RSI_96_num_trades  RSI_192_num_trades  RSI_384_num_trades  \n",
       "action                                                             \n",
       "B                    2332                2332                2332  \n",
       "H                   11110               11110               11110  \n",
       "S                    2628                2628                2628  \n",
       "W                   18778               18778               18778  \n",
       "\n",
       "[4 rows x 113 columns]"
      ]
     },
     "execution_count": 15,
     "metadata": {},
     "output_type": "execute_result"
    }
   ],
   "source": [
    "df_result.groupby('action').count()"
   ]
  },
  {
   "cell_type": "code",
   "execution_count": 16,
   "metadata": {},
   "outputs": [],
   "source": [
    "# Dropping cols\n",
    "drop_cols_list =[]\n",
    "for col in df_result.columns:\n",
    "    if col[:2]==\"MA\" or col[:3]==\"STD\":\n",
    "        drop_cols_list.append(col)\n",
    "df_result.drop(columns=drop_cols_list, inplace=True)"
   ]
  },
  {
   "cell_type": "code",
   "execution_count": 17,
   "metadata": {},
   "outputs": [
    {
     "data": {
      "text/html": [
       "<div>\n",
       "<style scoped>\n",
       "    .dataframe tbody tr th:only-of-type {\n",
       "        vertical-align: middle;\n",
       "    }\n",
       "\n",
       "    .dataframe tbody tr th {\n",
       "        vertical-align: top;\n",
       "    }\n",
       "\n",
       "    .dataframe thead th {\n",
       "        text-align: right;\n",
       "    }\n",
       "</style>\n",
       "<table border=\"1\" class=\"dataframe\">\n",
       "  <thead>\n",
       "    <tr style=\"text-align: right;\">\n",
       "      <th></th>\n",
       "      <th>hour_sin</th>\n",
       "      <th>hour_cos</th>\n",
       "      <th>day_sin</th>\n",
       "      <th>day_cos</th>\n",
       "      <th>mon_sin</th>\n",
       "      <th>mon_cos</th>\n",
       "      <th>weekday_sin</th>\n",
       "      <th>weekday_cos</th>\n",
       "      <th>year</th>\n",
       "      <th>RATIO_close_and_MA3</th>\n",
       "      <th>...</th>\n",
       "      <th>RSI_384_quote_asset_volume</th>\n",
       "      <th>RSI_3_num_trades</th>\n",
       "      <th>RSI_6_num_trades</th>\n",
       "      <th>RSI_12_num_trades</th>\n",
       "      <th>RSI_24_num_trades</th>\n",
       "      <th>RSI_48_num_trades</th>\n",
       "      <th>RSI_96_num_trades</th>\n",
       "      <th>RSI_192_num_trades</th>\n",
       "      <th>RSI_384_num_trades</th>\n",
       "      <th>action</th>\n",
       "    </tr>\n",
       "  </thead>\n",
       "  <tbody>\n",
       "    <tr>\n",
       "      <th>0</th>\n",
       "      <td>0.000000</td>\n",
       "      <td>1.000000e+00</td>\n",
       "      <td>-0.406737</td>\n",
       "      <td>-0.913545</td>\n",
       "      <td>0.5</td>\n",
       "      <td>0.866025</td>\n",
       "      <td>-0.433884</td>\n",
       "      <td>-0.900969</td>\n",
       "      <td>2020</td>\n",
       "      <td>0.998395</td>\n",
       "      <td>...</td>\n",
       "      <td>50.285725</td>\n",
       "      <td>55.233549</td>\n",
       "      <td>62.375595</td>\n",
       "      <td>44.246383</td>\n",
       "      <td>47.372031</td>\n",
       "      <td>41.390263</td>\n",
       "      <td>50.373816</td>\n",
       "      <td>50.212888</td>\n",
       "      <td>50.352010</td>\n",
       "      <td>B</td>\n",
       "    </tr>\n",
       "    <tr>\n",
       "      <th>1</th>\n",
       "      <td>0.258819</td>\n",
       "      <td>9.659258e-01</td>\n",
       "      <td>-0.406737</td>\n",
       "      <td>-0.913545</td>\n",
       "      <td>0.5</td>\n",
       "      <td>0.866025</td>\n",
       "      <td>-0.433884</td>\n",
       "      <td>-0.900969</td>\n",
       "      <td>2020</td>\n",
       "      <td>1.003510</td>\n",
       "      <td>...</td>\n",
       "      <td>50.044557</td>\n",
       "      <td>57.042254</td>\n",
       "      <td>53.231167</td>\n",
       "      <td>43.468397</td>\n",
       "      <td>40.757926</td>\n",
       "      <td>44.977155</td>\n",
       "      <td>50.329082</td>\n",
       "      <td>49.961415</td>\n",
       "      <td>50.023663</td>\n",
       "      <td>S</td>\n",
       "    </tr>\n",
       "    <tr>\n",
       "      <th>2</th>\n",
       "      <td>0.500000</td>\n",
       "      <td>8.660254e-01</td>\n",
       "      <td>-0.406737</td>\n",
       "      <td>-0.913545</td>\n",
       "      <td>0.5</td>\n",
       "      <td>0.866025</td>\n",
       "      <td>-0.433884</td>\n",
       "      <td>-0.900969</td>\n",
       "      <td>2020</td>\n",
       "      <td>1.005462</td>\n",
       "      <td>...</td>\n",
       "      <td>50.374138</td>\n",
       "      <td>71.936820</td>\n",
       "      <td>60.894401</td>\n",
       "      <td>54.737831</td>\n",
       "      <td>53.922093</td>\n",
       "      <td>51.046656</td>\n",
       "      <td>50.508626</td>\n",
       "      <td>50.688208</td>\n",
       "      <td>50.405497</td>\n",
       "      <td>W</td>\n",
       "    </tr>\n",
       "    <tr>\n",
       "      <th>3</th>\n",
       "      <td>0.707107</td>\n",
       "      <td>7.071068e-01</td>\n",
       "      <td>-0.406737</td>\n",
       "      <td>-0.913545</td>\n",
       "      <td>0.5</td>\n",
       "      <td>0.866025</td>\n",
       "      <td>-0.433884</td>\n",
       "      <td>-0.900969</td>\n",
       "      <td>2020</td>\n",
       "      <td>0.999496</td>\n",
       "      <td>...</td>\n",
       "      <td>50.454235</td>\n",
       "      <td>63.487630</td>\n",
       "      <td>59.629177</td>\n",
       "      <td>57.361954</td>\n",
       "      <td>54.634917</td>\n",
       "      <td>49.887067</td>\n",
       "      <td>50.916972</td>\n",
       "      <td>50.645574</td>\n",
       "      <td>50.478997</td>\n",
       "      <td>W</td>\n",
       "    </tr>\n",
       "    <tr>\n",
       "      <th>4</th>\n",
       "      <td>0.866025</td>\n",
       "      <td>5.000000e-01</td>\n",
       "      <td>-0.406737</td>\n",
       "      <td>-0.913545</td>\n",
       "      <td>0.5</td>\n",
       "      <td>0.866025</td>\n",
       "      <td>-0.433884</td>\n",
       "      <td>-0.900969</td>\n",
       "      <td>2020</td>\n",
       "      <td>1.005046</td>\n",
       "      <td>...</td>\n",
       "      <td>50.273035</td>\n",
       "      <td>62.021245</td>\n",
       "      <td>59.762526</td>\n",
       "      <td>46.674281</td>\n",
       "      <td>52.189555</td>\n",
       "      <td>47.257474</td>\n",
       "      <td>50.685501</td>\n",
       "      <td>50.334074</td>\n",
       "      <td>50.297334</td>\n",
       "      <td>W</td>\n",
       "    </tr>\n",
       "    <tr>\n",
       "      <th>...</th>\n",
       "      <td>...</td>\n",
       "      <td>...</td>\n",
       "      <td>...</td>\n",
       "      <td>...</td>\n",
       "      <td>...</td>\n",
       "      <td>...</td>\n",
       "      <td>...</td>\n",
       "      <td>...</td>\n",
       "      <td>...</td>\n",
       "      <td>...</td>\n",
       "      <td>...</td>\n",
       "      <td>...</td>\n",
       "      <td>...</td>\n",
       "      <td>...</td>\n",
       "      <td>...</td>\n",
       "      <td>...</td>\n",
       "      <td>...</td>\n",
       "      <td>...</td>\n",
       "      <td>...</td>\n",
       "      <td>...</td>\n",
       "      <td>...</td>\n",
       "    </tr>\n",
       "    <tr>\n",
       "      <th>34843</th>\n",
       "      <td>0.707107</td>\n",
       "      <td>7.071068e-01</td>\n",
       "      <td>0.951057</td>\n",
       "      <td>-0.309017</td>\n",
       "      <td>0.5</td>\n",
       "      <td>0.866025</td>\n",
       "      <td>0.781831</td>\n",
       "      <td>0.623490</td>\n",
       "      <td>2024</td>\n",
       "      <td>0.999538</td>\n",
       "      <td>...</td>\n",
       "      <td>49.917523</td>\n",
       "      <td>0.491800</td>\n",
       "      <td>45.842406</td>\n",
       "      <td>44.909560</td>\n",
       "      <td>46.166448</td>\n",
       "      <td>50.426042</td>\n",
       "      <td>50.048528</td>\n",
       "      <td>49.884557</td>\n",
       "      <td>49.932173</td>\n",
       "      <td>W</td>\n",
       "    </tr>\n",
       "    <tr>\n",
       "      <th>34844</th>\n",
       "      <td>0.866025</td>\n",
       "      <td>5.000000e-01</td>\n",
       "      <td>0.951057</td>\n",
       "      <td>-0.309017</td>\n",
       "      <td>0.5</td>\n",
       "      <td>0.866025</td>\n",
       "      <td>0.781831</td>\n",
       "      <td>0.623490</td>\n",
       "      <td>2024</td>\n",
       "      <td>1.001322</td>\n",
       "      <td>...</td>\n",
       "      <td>49.923296</td>\n",
       "      <td>9.573140</td>\n",
       "      <td>51.228791</td>\n",
       "      <td>46.818007</td>\n",
       "      <td>49.772624</td>\n",
       "      <td>50.584997</td>\n",
       "      <td>49.856044</td>\n",
       "      <td>49.908062</td>\n",
       "      <td>49.903714</td>\n",
       "      <td>W</td>\n",
       "    </tr>\n",
       "    <tr>\n",
       "      <th>34845</th>\n",
       "      <td>0.965926</td>\n",
       "      <td>2.588190e-01</td>\n",
       "      <td>0.951057</td>\n",
       "      <td>-0.309017</td>\n",
       "      <td>0.5</td>\n",
       "      <td>0.866025</td>\n",
       "      <td>0.781831</td>\n",
       "      <td>0.623490</td>\n",
       "      <td>2024</td>\n",
       "      <td>0.999021</td>\n",
       "      <td>...</td>\n",
       "      <td>49.684454</td>\n",
       "      <td>70.756458</td>\n",
       "      <td>46.134609</td>\n",
       "      <td>41.865474</td>\n",
       "      <td>49.885167</td>\n",
       "      <td>50.572507</td>\n",
       "      <td>50.125561</td>\n",
       "      <td>50.051341</td>\n",
       "      <td>49.662115</td>\n",
       "      <td>W</td>\n",
       "    </tr>\n",
       "    <tr>\n",
       "      <th>34846</th>\n",
       "      <td>1.000000</td>\n",
       "      <td>6.123234e-17</td>\n",
       "      <td>0.951057</td>\n",
       "      <td>-0.309017</td>\n",
       "      <td>0.5</td>\n",
       "      <td>0.866025</td>\n",
       "      <td>0.781831</td>\n",
       "      <td>0.623490</td>\n",
       "      <td>2024</td>\n",
       "      <td>0.997117</td>\n",
       "      <td>...</td>\n",
       "      <td>49.859221</td>\n",
       "      <td>71.389892</td>\n",
       "      <td>3.699243</td>\n",
       "      <td>27.179893</td>\n",
       "      <td>46.358171</td>\n",
       "      <td>50.568465</td>\n",
       "      <td>49.547127</td>\n",
       "      <td>50.109445</td>\n",
       "      <td>49.851729</td>\n",
       "      <td>W</td>\n",
       "    </tr>\n",
       "    <tr>\n",
       "      <th>34847</th>\n",
       "      <td>0.965926</td>\n",
       "      <td>-2.588190e-01</td>\n",
       "      <td>0.951057</td>\n",
       "      <td>-0.309017</td>\n",
       "      <td>0.5</td>\n",
       "      <td>0.866025</td>\n",
       "      <td>0.781831</td>\n",
       "      <td>0.623490</td>\n",
       "      <td>2024</td>\n",
       "      <td>1.000351</td>\n",
       "      <td>...</td>\n",
       "      <td>49.954691</td>\n",
       "      <td>3.279849</td>\n",
       "      <td>7.395918</td>\n",
       "      <td>30.689324</td>\n",
       "      <td>45.776484</td>\n",
       "      <td>49.810307</td>\n",
       "      <td>49.289525</td>\n",
       "      <td>49.963152</td>\n",
       "      <td>49.915666</td>\n",
       "      <td>W</td>\n",
       "    </tr>\n",
       "  </tbody>\n",
       "</table>\n",
       "<p>34848 rows × 66 columns</p>\n",
       "</div>"
      ],
      "text/plain": [
       "       hour_sin      hour_cos   day_sin   day_cos  mon_sin   mon_cos  \\\n",
       "0      0.000000  1.000000e+00 -0.406737 -0.913545      0.5  0.866025   \n",
       "1      0.258819  9.659258e-01 -0.406737 -0.913545      0.5  0.866025   \n",
       "2      0.500000  8.660254e-01 -0.406737 -0.913545      0.5  0.866025   \n",
       "3      0.707107  7.071068e-01 -0.406737 -0.913545      0.5  0.866025   \n",
       "4      0.866025  5.000000e-01 -0.406737 -0.913545      0.5  0.866025   \n",
       "...         ...           ...       ...       ...      ...       ...   \n",
       "34843  0.707107  7.071068e-01  0.951057 -0.309017      0.5  0.866025   \n",
       "34844  0.866025  5.000000e-01  0.951057 -0.309017      0.5  0.866025   \n",
       "34845  0.965926  2.588190e-01  0.951057 -0.309017      0.5  0.866025   \n",
       "34846  1.000000  6.123234e-17  0.951057 -0.309017      0.5  0.866025   \n",
       "34847  0.965926 -2.588190e-01  0.951057 -0.309017      0.5  0.866025   \n",
       "\n",
       "       weekday_sin  weekday_cos  year  RATIO_close_and_MA3  ...  \\\n",
       "0        -0.433884    -0.900969  2020             0.998395  ...   \n",
       "1        -0.433884    -0.900969  2020             1.003510  ...   \n",
       "2        -0.433884    -0.900969  2020             1.005462  ...   \n",
       "3        -0.433884    -0.900969  2020             0.999496  ...   \n",
       "4        -0.433884    -0.900969  2020             1.005046  ...   \n",
       "...            ...          ...   ...                  ...  ...   \n",
       "34843     0.781831     0.623490  2024             0.999538  ...   \n",
       "34844     0.781831     0.623490  2024             1.001322  ...   \n",
       "34845     0.781831     0.623490  2024             0.999021  ...   \n",
       "34846     0.781831     0.623490  2024             0.997117  ...   \n",
       "34847     0.781831     0.623490  2024             1.000351  ...   \n",
       "\n",
       "       RSI_384_quote_asset_volume  RSI_3_num_trades  RSI_6_num_trades  \\\n",
       "0                       50.285725         55.233549         62.375595   \n",
       "1                       50.044557         57.042254         53.231167   \n",
       "2                       50.374138         71.936820         60.894401   \n",
       "3                       50.454235         63.487630         59.629177   \n",
       "4                       50.273035         62.021245         59.762526   \n",
       "...                           ...               ...               ...   \n",
       "34843                   49.917523          0.491800         45.842406   \n",
       "34844                   49.923296          9.573140         51.228791   \n",
       "34845                   49.684454         70.756458         46.134609   \n",
       "34846                   49.859221         71.389892          3.699243   \n",
       "34847                   49.954691          3.279849          7.395918   \n",
       "\n",
       "       RSI_12_num_trades  RSI_24_num_trades  RSI_48_num_trades  \\\n",
       "0              44.246383          47.372031          41.390263   \n",
       "1              43.468397          40.757926          44.977155   \n",
       "2              54.737831          53.922093          51.046656   \n",
       "3              57.361954          54.634917          49.887067   \n",
       "4              46.674281          52.189555          47.257474   \n",
       "...                  ...                ...                ...   \n",
       "34843          44.909560          46.166448          50.426042   \n",
       "34844          46.818007          49.772624          50.584997   \n",
       "34845          41.865474          49.885167          50.572507   \n",
       "34846          27.179893          46.358171          50.568465   \n",
       "34847          30.689324          45.776484          49.810307   \n",
       "\n",
       "       RSI_96_num_trades  RSI_192_num_trades  RSI_384_num_trades  action  \n",
       "0              50.373816           50.212888           50.352010       B  \n",
       "1              50.329082           49.961415           50.023663       S  \n",
       "2              50.508626           50.688208           50.405497       W  \n",
       "3              50.916972           50.645574           50.478997       W  \n",
       "4              50.685501           50.334074           50.297334       W  \n",
       "...                  ...                 ...                 ...     ...  \n",
       "34843          50.048528           49.884557           49.932173       W  \n",
       "34844          49.856044           49.908062           49.903714       W  \n",
       "34845          50.125561           50.051341           49.662115       W  \n",
       "34846          49.547127           50.109445           49.851729       W  \n",
       "34847          49.289525           49.963152           49.915666       W  \n",
       "\n",
       "[34848 rows x 66 columns]"
      ]
     },
     "execution_count": 17,
     "metadata": {},
     "output_type": "execute_result"
    }
   ],
   "source": [
    "df_result"
   ]
  },
  {
   "cell_type": "code",
   "execution_count": 18,
   "metadata": {},
   "outputs": [
    {
     "data": {
      "text/html": [
       "<div>\n",
       "<style scoped>\n",
       "    .dataframe tbody tr th:only-of-type {\n",
       "        vertical-align: middle;\n",
       "    }\n",
       "\n",
       "    .dataframe tbody tr th {\n",
       "        vertical-align: top;\n",
       "    }\n",
       "\n",
       "    .dataframe thead th {\n",
       "        text-align: right;\n",
       "    }\n",
       "</style>\n",
       "<table border=\"1\" class=\"dataframe\">\n",
       "  <thead>\n",
       "    <tr style=\"text-align: right;\">\n",
       "      <th></th>\n",
       "      <th>hour_sin</th>\n",
       "      <th>hour_cos</th>\n",
       "      <th>day_sin</th>\n",
       "      <th>day_cos</th>\n",
       "      <th>mon_sin</th>\n",
       "      <th>mon_cos</th>\n",
       "      <th>weekday_sin</th>\n",
       "      <th>weekday_cos</th>\n",
       "      <th>year</th>\n",
       "      <th>RATIO_close_and_MA3</th>\n",
       "      <th>...</th>\n",
       "      <th>RSI_192_quote_asset_volume</th>\n",
       "      <th>RSI_384_quote_asset_volume</th>\n",
       "      <th>RSI_3_num_trades</th>\n",
       "      <th>RSI_6_num_trades</th>\n",
       "      <th>RSI_12_num_trades</th>\n",
       "      <th>RSI_24_num_trades</th>\n",
       "      <th>RSI_48_num_trades</th>\n",
       "      <th>RSI_96_num_trades</th>\n",
       "      <th>RSI_192_num_trades</th>\n",
       "      <th>RSI_384_num_trades</th>\n",
       "    </tr>\n",
       "    <tr>\n",
       "      <th>action</th>\n",
       "      <th></th>\n",
       "      <th></th>\n",
       "      <th></th>\n",
       "      <th></th>\n",
       "      <th></th>\n",
       "      <th></th>\n",
       "      <th></th>\n",
       "      <th></th>\n",
       "      <th></th>\n",
       "      <th></th>\n",
       "      <th></th>\n",
       "      <th></th>\n",
       "      <th></th>\n",
       "      <th></th>\n",
       "      <th></th>\n",
       "      <th></th>\n",
       "      <th></th>\n",
       "      <th></th>\n",
       "      <th></th>\n",
       "      <th></th>\n",
       "      <th></th>\n",
       "    </tr>\n",
       "  </thead>\n",
       "  <tbody>\n",
       "    <tr>\n",
       "      <th>B</th>\n",
       "      <td>2332</td>\n",
       "      <td>2332</td>\n",
       "      <td>2332</td>\n",
       "      <td>2332</td>\n",
       "      <td>2332</td>\n",
       "      <td>2332</td>\n",
       "      <td>2332</td>\n",
       "      <td>2332</td>\n",
       "      <td>2332</td>\n",
       "      <td>2332</td>\n",
       "      <td>...</td>\n",
       "      <td>2332</td>\n",
       "      <td>2332</td>\n",
       "      <td>2332</td>\n",
       "      <td>2332</td>\n",
       "      <td>2332</td>\n",
       "      <td>2332</td>\n",
       "      <td>2332</td>\n",
       "      <td>2332</td>\n",
       "      <td>2332</td>\n",
       "      <td>2332</td>\n",
       "    </tr>\n",
       "    <tr>\n",
       "      <th>H</th>\n",
       "      <td>11110</td>\n",
       "      <td>11110</td>\n",
       "      <td>11110</td>\n",
       "      <td>11110</td>\n",
       "      <td>11110</td>\n",
       "      <td>11110</td>\n",
       "      <td>11110</td>\n",
       "      <td>11110</td>\n",
       "      <td>11110</td>\n",
       "      <td>11110</td>\n",
       "      <td>...</td>\n",
       "      <td>11110</td>\n",
       "      <td>11110</td>\n",
       "      <td>11110</td>\n",
       "      <td>11110</td>\n",
       "      <td>11110</td>\n",
       "      <td>11110</td>\n",
       "      <td>11110</td>\n",
       "      <td>11110</td>\n",
       "      <td>11110</td>\n",
       "      <td>11110</td>\n",
       "    </tr>\n",
       "    <tr>\n",
       "      <th>S</th>\n",
       "      <td>2628</td>\n",
       "      <td>2628</td>\n",
       "      <td>2628</td>\n",
       "      <td>2628</td>\n",
       "      <td>2628</td>\n",
       "      <td>2628</td>\n",
       "      <td>2628</td>\n",
       "      <td>2628</td>\n",
       "      <td>2628</td>\n",
       "      <td>2628</td>\n",
       "      <td>...</td>\n",
       "      <td>2628</td>\n",
       "      <td>2628</td>\n",
       "      <td>2628</td>\n",
       "      <td>2628</td>\n",
       "      <td>2628</td>\n",
       "      <td>2628</td>\n",
       "      <td>2628</td>\n",
       "      <td>2628</td>\n",
       "      <td>2628</td>\n",
       "      <td>2628</td>\n",
       "    </tr>\n",
       "    <tr>\n",
       "      <th>W</th>\n",
       "      <td>18778</td>\n",
       "      <td>18778</td>\n",
       "      <td>18778</td>\n",
       "      <td>18778</td>\n",
       "      <td>18778</td>\n",
       "      <td>18778</td>\n",
       "      <td>18778</td>\n",
       "      <td>18778</td>\n",
       "      <td>18778</td>\n",
       "      <td>18778</td>\n",
       "      <td>...</td>\n",
       "      <td>18778</td>\n",
       "      <td>18778</td>\n",
       "      <td>18778</td>\n",
       "      <td>18778</td>\n",
       "      <td>18778</td>\n",
       "      <td>18778</td>\n",
       "      <td>18778</td>\n",
       "      <td>18778</td>\n",
       "      <td>18778</td>\n",
       "      <td>18778</td>\n",
       "    </tr>\n",
       "  </tbody>\n",
       "</table>\n",
       "<p>4 rows × 65 columns</p>\n",
       "</div>"
      ],
      "text/plain": [
       "        hour_sin  hour_cos  day_sin  day_cos  mon_sin  mon_cos  weekday_sin  \\\n",
       "action                                                                        \n",
       "B           2332      2332     2332     2332     2332     2332         2332   \n",
       "H          11110     11110    11110    11110    11110    11110        11110   \n",
       "S           2628      2628     2628     2628     2628     2628         2628   \n",
       "W          18778     18778    18778    18778    18778    18778        18778   \n",
       "\n",
       "        weekday_cos   year  RATIO_close_and_MA3  ...  \\\n",
       "action                                           ...   \n",
       "B              2332   2332                 2332  ...   \n",
       "H             11110  11110                11110  ...   \n",
       "S              2628   2628                 2628  ...   \n",
       "W             18778  18778                18778  ...   \n",
       "\n",
       "        RSI_192_quote_asset_volume  RSI_384_quote_asset_volume  \\\n",
       "action                                                           \n",
       "B                             2332                        2332   \n",
       "H                            11110                       11110   \n",
       "S                             2628                        2628   \n",
       "W                            18778                       18778   \n",
       "\n",
       "        RSI_3_num_trades  RSI_6_num_trades  RSI_12_num_trades  \\\n",
       "action                                                          \n",
       "B                   2332              2332               2332   \n",
       "H                  11110             11110              11110   \n",
       "S                   2628              2628               2628   \n",
       "W                  18778             18778              18778   \n",
       "\n",
       "        RSI_24_num_trades  RSI_48_num_trades  RSI_96_num_trades  \\\n",
       "action                                                            \n",
       "B                    2332               2332               2332   \n",
       "H                   11110              11110              11110   \n",
       "S                    2628               2628               2628   \n",
       "W                   18778              18778              18778   \n",
       "\n",
       "        RSI_192_num_trades  RSI_384_num_trades  \n",
       "action                                          \n",
       "B                     2332                2332  \n",
       "H                    11110               11110  \n",
       "S                     2628                2628  \n",
       "W                    18778               18778  \n",
       "\n",
       "[4 rows x 65 columns]"
      ]
     },
     "execution_count": 18,
     "metadata": {},
     "output_type": "execute_result"
    }
   ],
   "source": [
    "df_result.groupby('action').count()"
   ]
  },
  {
   "cell_type": "code",
   "execution_count": 19,
   "metadata": {},
   "outputs": [
    {
     "data": {
      "text/html": [
       "<div>\n",
       "<style scoped>\n",
       "    .dataframe tbody tr th:only-of-type {\n",
       "        vertical-align: middle;\n",
       "    }\n",
       "\n",
       "    .dataframe tbody tr th {\n",
       "        vertical-align: top;\n",
       "    }\n",
       "\n",
       "    .dataframe thead th {\n",
       "        text-align: right;\n",
       "    }\n",
       "</style>\n",
       "<table border=\"1\" class=\"dataframe\">\n",
       "  <thead>\n",
       "    <tr style=\"text-align: right;\">\n",
       "      <th></th>\n",
       "      <th>hour_sin</th>\n",
       "      <th>hour_cos</th>\n",
       "      <th>day_sin</th>\n",
       "      <th>day_cos</th>\n",
       "      <th>mon_sin</th>\n",
       "      <th>mon_cos</th>\n",
       "      <th>weekday_sin</th>\n",
       "      <th>weekday_cos</th>\n",
       "      <th>year</th>\n",
       "      <th>RATIO_close_and_MA3</th>\n",
       "      <th>...</th>\n",
       "      <th>RSI_384_quote_asset_volume</th>\n",
       "      <th>RSI_3_num_trades</th>\n",
       "      <th>RSI_6_num_trades</th>\n",
       "      <th>RSI_12_num_trades</th>\n",
       "      <th>RSI_24_num_trades</th>\n",
       "      <th>RSI_48_num_trades</th>\n",
       "      <th>RSI_96_num_trades</th>\n",
       "      <th>RSI_192_num_trades</th>\n",
       "      <th>RSI_384_num_trades</th>\n",
       "      <th>action</th>\n",
       "    </tr>\n",
       "  </thead>\n",
       "  <tbody>\n",
       "    <tr>\n",
       "      <th>0</th>\n",
       "      <td>0.000000</td>\n",
       "      <td>1.000000</td>\n",
       "      <td>-0.406737</td>\n",
       "      <td>-0.913545</td>\n",
       "      <td>0.5</td>\n",
       "      <td>0.866025</td>\n",
       "      <td>-0.433884</td>\n",
       "      <td>-0.900969</td>\n",
       "      <td>2020</td>\n",
       "      <td>0.998395</td>\n",
       "      <td>...</td>\n",
       "      <td>50.285725</td>\n",
       "      <td>55.233549</td>\n",
       "      <td>62.375595</td>\n",
       "      <td>44.246383</td>\n",
       "      <td>47.372031</td>\n",
       "      <td>41.390263</td>\n",
       "      <td>50.373816</td>\n",
       "      <td>50.212888</td>\n",
       "      <td>50.352010</td>\n",
       "      <td>B</td>\n",
       "    </tr>\n",
       "    <tr>\n",
       "      <th>1</th>\n",
       "      <td>0.258819</td>\n",
       "      <td>0.965926</td>\n",
       "      <td>-0.406737</td>\n",
       "      <td>-0.913545</td>\n",
       "      <td>0.5</td>\n",
       "      <td>0.866025</td>\n",
       "      <td>-0.433884</td>\n",
       "      <td>-0.900969</td>\n",
       "      <td>2020</td>\n",
       "      <td>1.003510</td>\n",
       "      <td>...</td>\n",
       "      <td>50.044557</td>\n",
       "      <td>57.042254</td>\n",
       "      <td>53.231167</td>\n",
       "      <td>43.468397</td>\n",
       "      <td>40.757926</td>\n",
       "      <td>44.977155</td>\n",
       "      <td>50.329082</td>\n",
       "      <td>49.961415</td>\n",
       "      <td>50.023663</td>\n",
       "      <td>S</td>\n",
       "    </tr>\n",
       "    <tr>\n",
       "      <th>2</th>\n",
       "      <td>0.500000</td>\n",
       "      <td>0.866025</td>\n",
       "      <td>-0.406737</td>\n",
       "      <td>-0.913545</td>\n",
       "      <td>0.5</td>\n",
       "      <td>0.866025</td>\n",
       "      <td>-0.433884</td>\n",
       "      <td>-0.900969</td>\n",
       "      <td>2020</td>\n",
       "      <td>1.005462</td>\n",
       "      <td>...</td>\n",
       "      <td>50.374138</td>\n",
       "      <td>71.936820</td>\n",
       "      <td>60.894401</td>\n",
       "      <td>54.737831</td>\n",
       "      <td>53.922093</td>\n",
       "      <td>51.046656</td>\n",
       "      <td>50.508626</td>\n",
       "      <td>50.688208</td>\n",
       "      <td>50.405497</td>\n",
       "      <td>W</td>\n",
       "    </tr>\n",
       "    <tr>\n",
       "      <th>3</th>\n",
       "      <td>0.707107</td>\n",
       "      <td>0.707107</td>\n",
       "      <td>-0.406737</td>\n",
       "      <td>-0.913545</td>\n",
       "      <td>0.5</td>\n",
       "      <td>0.866025</td>\n",
       "      <td>-0.433884</td>\n",
       "      <td>-0.900969</td>\n",
       "      <td>2020</td>\n",
       "      <td>0.999496</td>\n",
       "      <td>...</td>\n",
       "      <td>50.454235</td>\n",
       "      <td>63.487630</td>\n",
       "      <td>59.629177</td>\n",
       "      <td>57.361954</td>\n",
       "      <td>54.634917</td>\n",
       "      <td>49.887067</td>\n",
       "      <td>50.916972</td>\n",
       "      <td>50.645574</td>\n",
       "      <td>50.478997</td>\n",
       "      <td>W</td>\n",
       "    </tr>\n",
       "    <tr>\n",
       "      <th>4</th>\n",
       "      <td>0.866025</td>\n",
       "      <td>0.500000</td>\n",
       "      <td>-0.406737</td>\n",
       "      <td>-0.913545</td>\n",
       "      <td>0.5</td>\n",
       "      <td>0.866025</td>\n",
       "      <td>-0.433884</td>\n",
       "      <td>-0.900969</td>\n",
       "      <td>2020</td>\n",
       "      <td>1.005046</td>\n",
       "      <td>...</td>\n",
       "      <td>50.273035</td>\n",
       "      <td>62.021245</td>\n",
       "      <td>59.762526</td>\n",
       "      <td>46.674281</td>\n",
       "      <td>52.189555</td>\n",
       "      <td>47.257474</td>\n",
       "      <td>50.685501</td>\n",
       "      <td>50.334074</td>\n",
       "      <td>50.297334</td>\n",
       "      <td>W</td>\n",
       "    </tr>\n",
       "  </tbody>\n",
       "</table>\n",
       "<p>5 rows × 66 columns</p>\n",
       "</div>"
      ],
      "text/plain": [
       "   hour_sin  hour_cos   day_sin   day_cos  mon_sin   mon_cos  weekday_sin  \\\n",
       "0  0.000000  1.000000 -0.406737 -0.913545      0.5  0.866025    -0.433884   \n",
       "1  0.258819  0.965926 -0.406737 -0.913545      0.5  0.866025    -0.433884   \n",
       "2  0.500000  0.866025 -0.406737 -0.913545      0.5  0.866025    -0.433884   \n",
       "3  0.707107  0.707107 -0.406737 -0.913545      0.5  0.866025    -0.433884   \n",
       "4  0.866025  0.500000 -0.406737 -0.913545      0.5  0.866025    -0.433884   \n",
       "\n",
       "   weekday_cos  year  RATIO_close_and_MA3  ...  RSI_384_quote_asset_volume  \\\n",
       "0    -0.900969  2020             0.998395  ...                   50.285725   \n",
       "1    -0.900969  2020             1.003510  ...                   50.044557   \n",
       "2    -0.900969  2020             1.005462  ...                   50.374138   \n",
       "3    -0.900969  2020             0.999496  ...                   50.454235   \n",
       "4    -0.900969  2020             1.005046  ...                   50.273035   \n",
       "\n",
       "   RSI_3_num_trades  RSI_6_num_trades  RSI_12_num_trades  RSI_24_num_trades  \\\n",
       "0         55.233549         62.375595          44.246383          47.372031   \n",
       "1         57.042254         53.231167          43.468397          40.757926   \n",
       "2         71.936820         60.894401          54.737831          53.922093   \n",
       "3         63.487630         59.629177          57.361954          54.634917   \n",
       "4         62.021245         59.762526          46.674281          52.189555   \n",
       "\n",
       "   RSI_48_num_trades  RSI_96_num_trades  RSI_192_num_trades  \\\n",
       "0          41.390263          50.373816           50.212888   \n",
       "1          44.977155          50.329082           49.961415   \n",
       "2          51.046656          50.508626           50.688208   \n",
       "3          49.887067          50.916972           50.645574   \n",
       "4          47.257474          50.685501           50.334074   \n",
       "\n",
       "   RSI_384_num_trades  action  \n",
       "0           50.352010       B  \n",
       "1           50.023663       S  \n",
       "2           50.405497       W  \n",
       "3           50.478997       W  \n",
       "4           50.297334       W  \n",
       "\n",
       "[5 rows x 66 columns]"
      ]
     },
     "execution_count": 19,
     "metadata": {},
     "output_type": "execute_result"
    }
   ],
   "source": [
    "df_result.head()"
   ]
  },
  {
   "cell_type": "code",
   "execution_count": 20,
   "metadata": {},
   "outputs": [
    {
     "name": "stdout",
     "output_type": "stream",
     "text": [
      "         year\n",
      "action       \n",
      "B       14440\n",
      "H       14440\n",
      "S       14440\n",
      "W       14440\n",
      "        year\n",
      "action      \n",
      "B        258\n",
      "H       2148\n",
      "S        226\n",
      "W       4338\n"
     ]
    }
   ],
   "source": [
    "df_result, n_test = smote(df_result, TRAIN_FRACTION)"
   ]
  },
  {
   "cell_type": "code",
   "execution_count": 21,
   "metadata": {},
   "outputs": [
    {
     "name": "stdout",
     "output_type": "stream",
     "text": [
      "[1.10100014 0.97555462 1.10340243 0.86177974]\n",
      "['B' 'H' 'S' 'W']\n",
      "dict_keys(['B', 'H', 'S', 'W'])\n",
      "['B' 'H' 'S' 'W']\n"
     ]
    }
   ],
   "source": [
    "df_result, class_weights_dict = OneHotEncoding(df_result)"
   ]
  },
  {
   "cell_type": "code",
   "execution_count": 22,
   "metadata": {},
   "outputs": [
    {
     "data": {
      "text/plain": [
       "(64730, 69)"
      ]
     },
     "execution_count": 22,
     "metadata": {},
     "output_type": "execute_result"
    }
   ],
   "source": [
    "df_result.shape"
   ]
  },
  {
   "cell_type": "code",
   "execution_count": 23,
   "metadata": {},
   "outputs": [
    {
     "data": {
      "text/plain": [
       "B    14698.0\n",
       "H    16588.0\n",
       "S    14666.0\n",
       "W    18778.0\n",
       "dtype: float64"
      ]
     },
     "execution_count": 23,
     "metadata": {},
     "output_type": "execute_result"
    }
   ],
   "source": [
    "df_result[['B', 'H', 'S', 'W']].sum()"
   ]
  },
  {
   "cell_type": "code",
   "execution_count": 24,
   "metadata": {},
   "outputs": [
    {
     "data": {
      "text/plain": [
       "Index(['hour_sin', 'hour_cos', 'day_sin', 'day_cos', 'mon_sin', 'mon_cos',\n",
       "       'weekday_sin', 'weekday_cos', 'year', 'RATIO_close_and_MA3',\n",
       "       'RATIO_close_and_MA6', 'RATIO_close_and_MA12', 'RATIO_close_and_MA24',\n",
       "       'RATIO_close_and_MA48', 'RATIO_close_and_MA96', 'RATIO_close_and_MA192',\n",
       "       'RATIO_close_and_MA384', 'RATIO_quote_asset_volume_and_MA3',\n",
       "       'RATIO_quote_asset_volume_and_MA6', 'RATIO_quote_asset_volume_and_MA12',\n",
       "       'RATIO_quote_asset_volume_and_MA24',\n",
       "       'RATIO_quote_asset_volume_and_MA48',\n",
       "       'RATIO_quote_asset_volume_and_MA96',\n",
       "       'RATIO_quote_asset_volume_and_MA192',\n",
       "       'RATIO_quote_asset_volume_and_MA384', 'RATIO_num_trades_and_MA3',\n",
       "       'RATIO_num_trades_and_MA6', 'RATIO_num_trades_and_MA12',\n",
       "       'RATIO_num_trades_and_MA24', 'RATIO_num_trades_and_MA48',\n",
       "       'RATIO_num_trades_and_MA96', 'RATIO_num_trades_and_MA192',\n",
       "       'RATIO_num_trades_and_MA384', 'RATIO_close_and_STD3',\n",
       "       'RATIO_close_and_STD6', 'RATIO_close_and_STD12',\n",
       "       'RATIO_close_and_STD24', 'RATIO_close_and_STD48',\n",
       "       'RATIO_close_and_STD96', 'RATIO_close_and_STD192',\n",
       "       'RATIO_close_and_STD384', 'RSI_3_close', 'RSI_6_close', 'RSI_12_close',\n",
       "       'RSI_24_close', 'RSI_48_close', 'RSI_96_close', 'RSI_192_close',\n",
       "       'RSI_384_close', 'RSI_3_quote_asset_volume', 'RSI_6_quote_asset_volume',\n",
       "       'RSI_12_quote_asset_volume', 'RSI_24_quote_asset_volume',\n",
       "       'RSI_48_quote_asset_volume', 'RSI_96_quote_asset_volume',\n",
       "       'RSI_192_quote_asset_volume', 'RSI_384_quote_asset_volume',\n",
       "       'RSI_3_num_trades', 'RSI_6_num_trades', 'RSI_12_num_trades',\n",
       "       'RSI_24_num_trades', 'RSI_48_num_trades', 'RSI_96_num_trades',\n",
       "       'RSI_192_num_trades', 'RSI_384_num_trades', 'B', 'H', 'S', 'W'],\n",
       "      dtype='object')"
      ]
     },
     "execution_count": 24,
     "metadata": {},
     "output_type": "execute_result"
    }
   ],
   "source": [
    "df_result.columns"
   ]
  },
  {
   "cell_type": "code",
   "execution_count": 33,
   "metadata": {},
   "outputs": [
    {
     "name": "stdout",
     "output_type": "stream",
     "text": [
      "(57760, 65)\n",
      "(57760, 4)\n",
      "(6970, 65)\n",
      "(6970, 4)\n"
     ]
    },
    {
     "data": {
      "application/vnd.plotly.v1+json": {
       "config": {
        "plotlyServerURL": "https://plot.ly"
       },
       "data": [
        {
         "mode": "lines",
         "name": "sens_at_spec",
         "type": "scatter",
         "y": [
          0.21405817568302155,
          0.2868247926235199,
          0.3710179924964905,
          0.434556782245636,
          0.4820117652416229,
          0.5081544518470764,
          0.533258318901062,
          0.551939070224762,
          0.569459855556488,
          0.5856128931045532,
          0.5953081846237183,
          0.6069079041481018,
          0.6162915229797363,
          0.6279085874557495,
          0.6339681148529053,
          0.6416031718254089,
          0.6473857164382935,
          0.6529259085655212,
          0.6584487557411194,
          0.6611841917037964,
          0.6650969386100769,
          0.6708448529243469,
          0.6719529032707214,
          0.6762811541557312,
          0.6783413887023926,
          0.6803843379020691,
          0.6823753714561462,
          0.6850588917732239,
          0.6862881183624268,
          0.6888504028320312,
          0.6918628811836243,
          0.6920533180236816,
          0.6942694187164307,
          0.6958448886871338,
          0.6974376440048218,
          0.7005886435508728,
          0.7007964253425598,
          0.7021987438201904,
          0.7034799456596375,
          0.7042763233184814,
          0.705176591873169,
          0.7077908515930176,
          0.7090200781822205,
          0.7099376916885376,
          0.7108898758888245,
          0.7115997076034546,
          0.713140606880188,
          0.7135387659072876,
          0.7139889001846313,
          0.7160318493843079,
          0.7169667482376099,
          0.7183691263198853,
          0.718819260597229,
          0.7193386554718018,
          0.7211219072341919,
          0.7221606373786926,
          0.7223337888717651,
          0.7234418392181396,
          0.7237880825996399,
          0.7249134182929993,
          0.7256232500076294,
          0.7259868383407593,
          0.726367712020874,
          0.7273372411727905,
          0.7286703586578369,
          0.7296571731567383,
          0.7296398878097534,
          0.7306959629058838,
          0.732115626335144,
          0.7313538789749146,
          0.7331717610359192,
          0.7335007190704346,
          0.7336911559104919,
          0.7342105507850647,
          0.7345914244651794,
          0.7351454496383667,
          0.7366690039634705,
          0.7373095750808716,
          0.7375519275665283,
          0.7381578683853149,
          0.738573431968689,
          0.7389196753501892,
          0.7393870949745178,
          0.7408933639526367,
          0.7413261532783508,
          0.7417590022087097,
          0.7421398758888245,
          0.7424169182777405,
          0.7429882287979126,
          0.7443040013313293,
          0.7444944381713867,
          0.7447887659072876,
          0.7453774213790894,
          0.7457582950592041,
          0.7456717491149902,
          0.7462084293365479,
          0.746191143989563,
          0.7465547323226929,
          0.7471606731414795,
          0.7483552694320679,
          0.7490304708480835,
          0.7487361431121826,
          0.7498441934585571,
          0.749792218208313,
          0.7505193948745728,
          0.7515928149223328,
          0.7511773109436035,
          0.7519563436508179,
          0.7526488900184631,
          0.7531509399414062,
          0.7536530494689941,
          0.753808856010437,
          0.7539820075035095,
          0.7545014023780823,
          0.7559210658073425,
          0.7552804946899414,
          0.7562846541404724,
          0.756613552570343,
          0.7567174434661865,
          0.7571329474449158,
          0.7573060989379883,
          0.7576004266738892,
          0.757825493812561,
          0.7588642835617065,
          0.7592797875404358,
          0.7594183087348938,
          0.7589161992073059,
          0.7597472071647644,
          0.7603358626365662,
          0.7603185772895813,
          0.7608552575111389,
          0.7606648206710815,
          0.7612534761428833,
          0.7627250552177429,
          0.7626557946205139,
          0.7628808617591858,
          0.7632271647453308,
          0.7635387778282166,
          0.7636599540710449,
          0.7645775675773621,
          0.7643871307373047,
          0.7654605507850647,
          0.7659626007080078,
          0.7660837769508362,
          0.7661011219024658,
          0.7666378021240234,
          0.766810953617096,
          0.7670360207557678,
          0.7682132720947266,
          0.7685422301292419,
          0.7684383392333984,
          0.7683691382408142,
          0.7691828012466431,
          0.7688711881637573,
          0.7700831294059753,
          0.7692347764968872,
          0.7707409858703613,
          0.770689070224762,
          0.7708795070648193,
          0.7711911201477051,
          0.7714335322380066,
          0.7723164558410645,
          0.7726454138755798,
          0.7729917168617249,
          0.7733033299446106,
          0.773563027381897,
          0.7735110521316528,
          0.7737880945205688,
          0.7739958167076111,
          0.7743247747421265,
          0.7747922539710999,
          0.7756752371788025,
          0.7761080265045166,
          0.7762119174003601,
          0.7762811779975891,
          0.7765235304832458,
          0.7771468162536621,
          0.7773199677467346,
          0.777302622795105,
          0.7775276899337769,
          0.7788261771202087,
          0.7790339589118958,
          0.7787050008773804,
          0.7791551351547241,
          0.7794667482376099,
          0.7798822522163391,
          0.7801246643066406,
          0.7807825207710266,
          0.7803670167922974,
          0.7806267142295837,
          0.7813538908958435,
          0.7818732857704163,
          0.782184898853302,
          0.7818905711174011,
          0.78232342004776,
          0.7824099659919739,
          0.784054696559906,
          0.784123957157135,
          0.7847472429275513,
          0.7849376797676086,
          0.7847645282745361,
          0.785335898399353,
          0.7853878140449524,
          0.7864438891410828,
          0.7869806289672852,
          0.7869806289672852
         ]
        },
        {
         "mode": "lines",
         "name": "val_sens_at_spec",
         "type": "scatter",
         "y": [
          0.13701577484607697,
          0.18307030200958252,
          0.25882354378700256,
          0.34863701462745667,
          0.42496412992477417,
          0.4857962727546692,
          0.5281205177307129,
          0.5651363134384155,
          0.5896700024604797,
          0.6140602827072144,
          0.6377331614494324,
          0.6509325504302979,
          0.666140615940094,
          0.6794834733009338,
          0.6857962608337402,
          0.6932567954063416,
          0.6989957094192505,
          0.7051649689674377,
          0.7071735858917236,
          0.709756076335907,
          0.7131994366645813,
          0.7175036072731018,
          0.7179340124130249,
          0.7243902683258057,
          0.7268292903900146,
          0.7295552492141724,
          0.731850802898407,
          0.733428955078125,
          0.7351506352424622,
          0.736728847026825,
          0.7368723154067993,
          0.7383070588111877,
          0.7408895492553711,
          0.7436155080795288,
          0.7457675933837891,
          0.7472022771835327,
          0.7473457455635071,
          0.7463414669036865,
          0.7474892139434814,
          0.7487804889678955,
          0.7489239573478699,
          0.7496412992477417,
          0.7502152323722839,
          0.7496412992477417,
          0.7520803213119507,
          0.7538020014762878,
          0.7550932765007019,
          0.7573888301849365,
          0.7562410235404968,
          0.755523681640625,
          0.7562410235404968,
          0.7569583654403687,
          0.7581061720848083,
          0.7588235139846802,
          0.7585365772247314,
          0.7605451941490173,
          0.7602582573890686,
          0.7611190676689148,
          0.7618364691734314,
          0.7635580897331238,
          0.7639884948730469,
          0.7639884948730469,
          0.7649928331375122,
          0.7652797698974609,
          0.7651363015174866,
          0.7659971117973328,
          0.7658536434173584,
          0.7659971117973328,
          0.7658536434173584,
          0.765710175037384,
          0.7674318552017212,
          0.7677187919616699,
          0.7672883868217468,
          0.7677187919616699,
          0.7680057287216187,
          0.7680057287216187,
          0.7688665986061096,
          0.7694404721260071,
          0.7692970037460327,
          0.7687230706214905,
          0.7678622603416443,
          0.7687230706214905,
          0.7694404721260071,
          0.769010066986084,
          0.7700143456459045,
          0.770588219165802,
          0.7710186243057251,
          0.771449089050293,
          0.7713056206703186,
          0.7723098993301392,
          0.7727403044700623,
          0.773027241230011,
          0.7728837728500366,
          0.773027241230011,
          0.7733141779899597,
          0.7734576463699341,
          0.7731707096099854,
          0.7731707096099854,
          0.7737446427345276,
          0.7733141779899597,
          0.7727403044700623,
          0.7736011743545532,
          0.7751793265342712,
          0.7748923897743225,
          0.7747489213943481,
          0.7763271331787109,
          0.774318516254425,
          0.7750358581542969,
          0.77546626329422,
          0.77546626329422,
          0.7753227949142456,
          0.7760401964187622,
          0.7763271331787109,
          0.7758967280387878,
          0.7766140699386597,
          0.7764706015586853,
          0.7750358581542969,
          0.7761836647987366,
          0.7751793265342712,
          0.776757538318634,
          0.7747489213943481,
          0.7753227949142456,
          0.77546626329422,
          0.77546626329422,
          0.7760401964187622,
          0.776757538318634,
          0.7750358581542969,
          0.7744619846343994,
          0.7773314118385315,
          0.7766140699386597,
          0.7760401964187622,
          0.7757532000541687,
          0.7763271331787109,
          0.7758967280387878,
          0.7776183485984802,
          0.7774748802185059,
          0.7777618169784546,
          0.7763271331787109,
          0.7771879434585571,
          0.7773314118385315,
          0.7770444750785828,
          0.7771879434585571,
          0.7773314118385315,
          0.776757538318634,
          0.7770444750785828,
          0.7771879434585571,
          0.7770444750785828,
          0.7764706015586853,
          0.7774748802185059,
          0.776757538318634,
          0.7766140699386597,
          0.776757538318634,
          0.7764706015586853,
          0.7769010066986084,
          0.7771879434585571,
          0.7774748802185059,
          0.7783357501029968,
          0.7780487537384033,
          0.7784792184829712,
          0.776757538318634,
          0.7774748802185059,
          0.7780487537384033,
          0.7776183485984802,
          0.7786226868629456,
          0.7786226868629456,
          0.7784792184829712,
          0.7781922817230225,
          0.7771879434585571,
          0.7784792184829712,
          0.7781922817230225,
          0.7780487537384033,
          0.7784792184829712,
          0.7787661552429199,
          0.7780487537384033,
          0.7787661552429199,
          0.7790530920028687,
          0.7787661552429199,
          0.7774748802185059,
          0.7787661552429199,
          0.7774748802185059,
          0.7776183485984802,
          0.7784792184829712,
          0.7777618169784546,
          0.7776183485984802,
          0.7780487537384033,
          0.7781922817230225,
          0.7769010066986084,
          0.7787661552429199,
          0.7789096236228943,
          0.7783357501029968,
          0.777905285358429,
          0.7783357501029968,
          0.7780487537384033,
          0.7781922817230225,
          0.7777618169784546,
          0.7774748802185059,
          0.7776183485984802,
          0.7769010066986084,
          0.776757538318634,
          0.7776183485984802,
          0.7776183485984802,
          0.777905285358429,
          0.7781922817230225,
          0.7780487537384033,
          0.777905285358429,
          0.7790530920028687
         ]
        }
       ],
       "layout": {
        "template": {
         "data": {
          "bar": [
           {
            "error_x": {
             "color": "#2a3f5f"
            },
            "error_y": {
             "color": "#2a3f5f"
            },
            "marker": {
             "line": {
              "color": "#E5ECF6",
              "width": 0.5
             },
             "pattern": {
              "fillmode": "overlay",
              "size": 10,
              "solidity": 0.2
             }
            },
            "type": "bar"
           }
          ],
          "barpolar": [
           {
            "marker": {
             "line": {
              "color": "#E5ECF6",
              "width": 0.5
             },
             "pattern": {
              "fillmode": "overlay",
              "size": 10,
              "solidity": 0.2
             }
            },
            "type": "barpolar"
           }
          ],
          "carpet": [
           {
            "aaxis": {
             "endlinecolor": "#2a3f5f",
             "gridcolor": "white",
             "linecolor": "white",
             "minorgridcolor": "white",
             "startlinecolor": "#2a3f5f"
            },
            "baxis": {
             "endlinecolor": "#2a3f5f",
             "gridcolor": "white",
             "linecolor": "white",
             "minorgridcolor": "white",
             "startlinecolor": "#2a3f5f"
            },
            "type": "carpet"
           }
          ],
          "choropleth": [
           {
            "colorbar": {
             "outlinewidth": 0,
             "ticks": ""
            },
            "type": "choropleth"
           }
          ],
          "contour": [
           {
            "colorbar": {
             "outlinewidth": 0,
             "ticks": ""
            },
            "colorscale": [
             [
              0,
              "#0d0887"
             ],
             [
              0.1111111111111111,
              "#46039f"
             ],
             [
              0.2222222222222222,
              "#7201a8"
             ],
             [
              0.3333333333333333,
              "#9c179e"
             ],
             [
              0.4444444444444444,
              "#bd3786"
             ],
             [
              0.5555555555555556,
              "#d8576b"
             ],
             [
              0.6666666666666666,
              "#ed7953"
             ],
             [
              0.7777777777777778,
              "#fb9f3a"
             ],
             [
              0.8888888888888888,
              "#fdca26"
             ],
             [
              1,
              "#f0f921"
             ]
            ],
            "type": "contour"
           }
          ],
          "contourcarpet": [
           {
            "colorbar": {
             "outlinewidth": 0,
             "ticks": ""
            },
            "type": "contourcarpet"
           }
          ],
          "heatmap": [
           {
            "colorbar": {
             "outlinewidth": 0,
             "ticks": ""
            },
            "colorscale": [
             [
              0,
              "#0d0887"
             ],
             [
              0.1111111111111111,
              "#46039f"
             ],
             [
              0.2222222222222222,
              "#7201a8"
             ],
             [
              0.3333333333333333,
              "#9c179e"
             ],
             [
              0.4444444444444444,
              "#bd3786"
             ],
             [
              0.5555555555555556,
              "#d8576b"
             ],
             [
              0.6666666666666666,
              "#ed7953"
             ],
             [
              0.7777777777777778,
              "#fb9f3a"
             ],
             [
              0.8888888888888888,
              "#fdca26"
             ],
             [
              1,
              "#f0f921"
             ]
            ],
            "type": "heatmap"
           }
          ],
          "heatmapgl": [
           {
            "colorbar": {
             "outlinewidth": 0,
             "ticks": ""
            },
            "colorscale": [
             [
              0,
              "#0d0887"
             ],
             [
              0.1111111111111111,
              "#46039f"
             ],
             [
              0.2222222222222222,
              "#7201a8"
             ],
             [
              0.3333333333333333,
              "#9c179e"
             ],
             [
              0.4444444444444444,
              "#bd3786"
             ],
             [
              0.5555555555555556,
              "#d8576b"
             ],
             [
              0.6666666666666666,
              "#ed7953"
             ],
             [
              0.7777777777777778,
              "#fb9f3a"
             ],
             [
              0.8888888888888888,
              "#fdca26"
             ],
             [
              1,
              "#f0f921"
             ]
            ],
            "type": "heatmapgl"
           }
          ],
          "histogram": [
           {
            "marker": {
             "pattern": {
              "fillmode": "overlay",
              "size": 10,
              "solidity": 0.2
             }
            },
            "type": "histogram"
           }
          ],
          "histogram2d": [
           {
            "colorbar": {
             "outlinewidth": 0,
             "ticks": ""
            },
            "colorscale": [
             [
              0,
              "#0d0887"
             ],
             [
              0.1111111111111111,
              "#46039f"
             ],
             [
              0.2222222222222222,
              "#7201a8"
             ],
             [
              0.3333333333333333,
              "#9c179e"
             ],
             [
              0.4444444444444444,
              "#bd3786"
             ],
             [
              0.5555555555555556,
              "#d8576b"
             ],
             [
              0.6666666666666666,
              "#ed7953"
             ],
             [
              0.7777777777777778,
              "#fb9f3a"
             ],
             [
              0.8888888888888888,
              "#fdca26"
             ],
             [
              1,
              "#f0f921"
             ]
            ],
            "type": "histogram2d"
           }
          ],
          "histogram2dcontour": [
           {
            "colorbar": {
             "outlinewidth": 0,
             "ticks": ""
            },
            "colorscale": [
             [
              0,
              "#0d0887"
             ],
             [
              0.1111111111111111,
              "#46039f"
             ],
             [
              0.2222222222222222,
              "#7201a8"
             ],
             [
              0.3333333333333333,
              "#9c179e"
             ],
             [
              0.4444444444444444,
              "#bd3786"
             ],
             [
              0.5555555555555556,
              "#d8576b"
             ],
             [
              0.6666666666666666,
              "#ed7953"
             ],
             [
              0.7777777777777778,
              "#fb9f3a"
             ],
             [
              0.8888888888888888,
              "#fdca26"
             ],
             [
              1,
              "#f0f921"
             ]
            ],
            "type": "histogram2dcontour"
           }
          ],
          "mesh3d": [
           {
            "colorbar": {
             "outlinewidth": 0,
             "ticks": ""
            },
            "type": "mesh3d"
           }
          ],
          "parcoords": [
           {
            "line": {
             "colorbar": {
              "outlinewidth": 0,
              "ticks": ""
             }
            },
            "type": "parcoords"
           }
          ],
          "pie": [
           {
            "automargin": true,
            "type": "pie"
           }
          ],
          "scatter": [
           {
            "fillpattern": {
             "fillmode": "overlay",
             "size": 10,
             "solidity": 0.2
            },
            "type": "scatter"
           }
          ],
          "scatter3d": [
           {
            "line": {
             "colorbar": {
              "outlinewidth": 0,
              "ticks": ""
             }
            },
            "marker": {
             "colorbar": {
              "outlinewidth": 0,
              "ticks": ""
             }
            },
            "type": "scatter3d"
           }
          ],
          "scattercarpet": [
           {
            "marker": {
             "colorbar": {
              "outlinewidth": 0,
              "ticks": ""
             }
            },
            "type": "scattercarpet"
           }
          ],
          "scattergeo": [
           {
            "marker": {
             "colorbar": {
              "outlinewidth": 0,
              "ticks": ""
             }
            },
            "type": "scattergeo"
           }
          ],
          "scattergl": [
           {
            "marker": {
             "colorbar": {
              "outlinewidth": 0,
              "ticks": ""
             }
            },
            "type": "scattergl"
           }
          ],
          "scattermapbox": [
           {
            "marker": {
             "colorbar": {
              "outlinewidth": 0,
              "ticks": ""
             }
            },
            "type": "scattermapbox"
           }
          ],
          "scatterpolar": [
           {
            "marker": {
             "colorbar": {
              "outlinewidth": 0,
              "ticks": ""
             }
            },
            "type": "scatterpolar"
           }
          ],
          "scatterpolargl": [
           {
            "marker": {
             "colorbar": {
              "outlinewidth": 0,
              "ticks": ""
             }
            },
            "type": "scatterpolargl"
           }
          ],
          "scatterternary": [
           {
            "marker": {
             "colorbar": {
              "outlinewidth": 0,
              "ticks": ""
             }
            },
            "type": "scatterternary"
           }
          ],
          "surface": [
           {
            "colorbar": {
             "outlinewidth": 0,
             "ticks": ""
            },
            "colorscale": [
             [
              0,
              "#0d0887"
             ],
             [
              0.1111111111111111,
              "#46039f"
             ],
             [
              0.2222222222222222,
              "#7201a8"
             ],
             [
              0.3333333333333333,
              "#9c179e"
             ],
             [
              0.4444444444444444,
              "#bd3786"
             ],
             [
              0.5555555555555556,
              "#d8576b"
             ],
             [
              0.6666666666666666,
              "#ed7953"
             ],
             [
              0.7777777777777778,
              "#fb9f3a"
             ],
             [
              0.8888888888888888,
              "#fdca26"
             ],
             [
              1,
              "#f0f921"
             ]
            ],
            "type": "surface"
           }
          ],
          "table": [
           {
            "cells": {
             "fill": {
              "color": "#EBF0F8"
             },
             "line": {
              "color": "white"
             }
            },
            "header": {
             "fill": {
              "color": "#C8D4E3"
             },
             "line": {
              "color": "white"
             }
            },
            "type": "table"
           }
          ]
         },
         "layout": {
          "annotationdefaults": {
           "arrowcolor": "#2a3f5f",
           "arrowhead": 0,
           "arrowwidth": 1
          },
          "autotypenumbers": "strict",
          "coloraxis": {
           "colorbar": {
            "outlinewidth": 0,
            "ticks": ""
           }
          },
          "colorscale": {
           "diverging": [
            [
             0,
             "#8e0152"
            ],
            [
             0.1,
             "#c51b7d"
            ],
            [
             0.2,
             "#de77ae"
            ],
            [
             0.3,
             "#f1b6da"
            ],
            [
             0.4,
             "#fde0ef"
            ],
            [
             0.5,
             "#f7f7f7"
            ],
            [
             0.6,
             "#e6f5d0"
            ],
            [
             0.7,
             "#b8e186"
            ],
            [
             0.8,
             "#7fbc41"
            ],
            [
             0.9,
             "#4d9221"
            ],
            [
             1,
             "#276419"
            ]
           ],
           "sequential": [
            [
             0,
             "#0d0887"
            ],
            [
             0.1111111111111111,
             "#46039f"
            ],
            [
             0.2222222222222222,
             "#7201a8"
            ],
            [
             0.3333333333333333,
             "#9c179e"
            ],
            [
             0.4444444444444444,
             "#bd3786"
            ],
            [
             0.5555555555555556,
             "#d8576b"
            ],
            [
             0.6666666666666666,
             "#ed7953"
            ],
            [
             0.7777777777777778,
             "#fb9f3a"
            ],
            [
             0.8888888888888888,
             "#fdca26"
            ],
            [
             1,
             "#f0f921"
            ]
           ],
           "sequentialminus": [
            [
             0,
             "#0d0887"
            ],
            [
             0.1111111111111111,
             "#46039f"
            ],
            [
             0.2222222222222222,
             "#7201a8"
            ],
            [
             0.3333333333333333,
             "#9c179e"
            ],
            [
             0.4444444444444444,
             "#bd3786"
            ],
            [
             0.5555555555555556,
             "#d8576b"
            ],
            [
             0.6666666666666666,
             "#ed7953"
            ],
            [
             0.7777777777777778,
             "#fb9f3a"
            ],
            [
             0.8888888888888888,
             "#fdca26"
            ],
            [
             1,
             "#f0f921"
            ]
           ]
          },
          "colorway": [
           "#636efa",
           "#EF553B",
           "#00cc96",
           "#ab63fa",
           "#FFA15A",
           "#19d3f3",
           "#FF6692",
           "#B6E880",
           "#FF97FF",
           "#FECB52"
          ],
          "font": {
           "color": "#2a3f5f"
          },
          "geo": {
           "bgcolor": "white",
           "lakecolor": "white",
           "landcolor": "#E5ECF6",
           "showlakes": true,
           "showland": true,
           "subunitcolor": "white"
          },
          "hoverlabel": {
           "align": "left"
          },
          "hovermode": "closest",
          "mapbox": {
           "style": "light"
          },
          "paper_bgcolor": "white",
          "plot_bgcolor": "#E5ECF6",
          "polar": {
           "angularaxis": {
            "gridcolor": "white",
            "linecolor": "white",
            "ticks": ""
           },
           "bgcolor": "#E5ECF6",
           "radialaxis": {
            "gridcolor": "white",
            "linecolor": "white",
            "ticks": ""
           }
          },
          "scene": {
           "xaxis": {
            "backgroundcolor": "#E5ECF6",
            "gridcolor": "white",
            "gridwidth": 2,
            "linecolor": "white",
            "showbackground": true,
            "ticks": "",
            "zerolinecolor": "white"
           },
           "yaxis": {
            "backgroundcolor": "#E5ECF6",
            "gridcolor": "white",
            "gridwidth": 2,
            "linecolor": "white",
            "showbackground": true,
            "ticks": "",
            "zerolinecolor": "white"
           },
           "zaxis": {
            "backgroundcolor": "#E5ECF6",
            "gridcolor": "white",
            "gridwidth": 2,
            "linecolor": "white",
            "showbackground": true,
            "ticks": "",
            "zerolinecolor": "white"
           }
          },
          "shapedefaults": {
           "line": {
            "color": "#2a3f5f"
           }
          },
          "ternary": {
           "aaxis": {
            "gridcolor": "white",
            "linecolor": "white",
            "ticks": ""
           },
           "baxis": {
            "gridcolor": "white",
            "linecolor": "white",
            "ticks": ""
           },
           "bgcolor": "#E5ECF6",
           "caxis": {
            "gridcolor": "white",
            "linecolor": "white",
            "ticks": ""
           }
          },
          "title": {
           "x": 0.05
          },
          "xaxis": {
           "automargin": true,
           "gridcolor": "white",
           "linecolor": "white",
           "ticks": "",
           "title": {
            "standoff": 15
           },
           "zerolinecolor": "white",
           "zerolinewidth": 2
          },
          "yaxis": {
           "automargin": true,
           "gridcolor": "white",
           "linecolor": "white",
           "ticks": "",
           "title": {
            "standoff": 15
           },
           "zerolinecolor": "white",
           "zerolinewidth": 2
          }
         }
        }
       }
      }
     },
     "metadata": {},
     "output_type": "display_data"
    },
    {
     "data": {
      "application/vnd.plotly.v1+json": {
       "config": {
        "plotlyServerURL": "https://plot.ly"
       },
       "data": [
        {
         "mode": "lines",
         "name": "AUC",
         "type": "scatter",
         "y": [
          0.25816699862480164,
          0.30957886576652527,
          0.3723529875278473,
          0.42279255390167236,
          0.4560850262641907,
          0.47866877913475037,
          0.49619150161743164,
          0.5098162293434143,
          0.5218878388404846,
          0.5320038199424744,
          0.5408753156661987,
          0.5486536026000977,
          0.5554059743881226,
          0.5617669224739075,
          0.5671371817588806,
          0.5720112919807434,
          0.5762272477149963,
          0.5801138877868652,
          0.5834203958511353,
          0.5864768624305725,
          0.5891715884208679,
          0.5916892290115356,
          0.5939708352088928,
          0.5959968566894531,
          0.59798663854599,
          0.5998278856277466,
          0.6015527844429016,
          0.6031643152236938,
          0.6046791672706604,
          0.6061850786209106,
          0.6075785160064697,
          0.6089296340942383,
          0.6102002263069153,
          0.6114657521247864,
          0.6126505136489868,
          0.6138170957565308,
          0.6149370074272156,
          0.6160096526145935,
          0.6171486973762512,
          0.6180991530418396,
          0.6191590428352356,
          0.6201008558273315,
          0.6210916638374329,
          0.621948778629303,
          0.6228827238082886,
          0.6237686276435852,
          0.6246246099472046,
          0.6254736185073853,
          0.6263158917427063,
          0.6270670294761658,
          0.627882182598114,
          0.6286649703979492,
          0.6294085383415222,
          0.6301857829093933,
          0.6308243274688721,
          0.6316430568695068,
          0.6322903037071228,
          0.6330039501190186,
          0.6336356401443481,
          0.6342858076095581,
          0.6349458694458008,
          0.6355538964271545,
          0.6361784338951111,
          0.636772096157074,
          0.6373565196990967,
          0.6379516124725342,
          0.6385177969932556,
          0.6391149163246155,
          0.6396445631980896,
          0.6401605010032654,
          0.6407127380371094,
          0.6412433981895447,
          0.6417905688285828,
          0.6422755122184753,
          0.6428081393241882,
          0.6433106064796448,
          0.643756091594696,
          0.6442548632621765,
          0.6446958184242249,
          0.6452036499977112,
          0.6456412076950073,
          0.6461653113365173,
          0.6465557217597961,
          0.6470025181770325,
          0.6474676728248596,
          0.6479019522666931,
          0.6483523845672607,
          0.648746132850647,
          0.6492048501968384,
          0.6496122479438782,
          0.6499801278114319,
          0.6503971219062805,
          0.6508254408836365,
          0.6512314677238464,
          0.6516227722167969,
          0.6520236134529114,
          0.6524034142494202,
          0.6527987122535706,
          0.6532065272331238,
          0.6535472273826599,
          0.6539565324783325,
          0.6542895436286926,
          0.6547212600708008,
          0.6550745368003845,
          0.6554304361343384,
          0.6557912826538086,
          0.6561485528945923,
          0.6565078496932983,
          0.6568822860717773,
          0.6572254300117493,
          0.6576039791107178,
          0.6579271554946899,
          0.6582968235015869,
          0.6586296558380127,
          0.6589924097061157,
          0.6593239307403564,
          0.6596481800079346,
          0.6600276231765747,
          0.6603274345397949,
          0.6606661081314087,
          0.6610556840896606,
          0.6613545417785645,
          0.6616824865341187,
          0.6620050668716431,
          0.6623245477676392,
          0.6626960635185242,
          0.6629735231399536,
          0.6633535623550415,
          0.6636563539505005,
          0.663919985294342,
          0.6643108129501343,
          0.6645826697349548,
          0.6648872494697571,
          0.665249228477478,
          0.6655628681182861,
          0.665861964225769,
          0.6662042140960693,
          0.6664960384368896,
          0.6668505072593689,
          0.6671154499053955,
          0.6674731373786926,
          0.6677536964416504,
          0.6680952310562134,
          0.66840660572052,
          0.6686511039733887,
          0.6690154671669006,
          0.6693052649497986,
          0.669668436050415,
          0.6699252724647522,
          0.6702675223350525,
          0.6705593466758728,
          0.6708312034606934,
          0.6711786985397339,
          0.6714777946472168,
          0.6717385053634644,
          0.6720689535140991,
          0.6723771095275879,
          0.6726627349853516,
          0.6729515790939331,
          0.6732273101806641,
          0.6735377311706543,
          0.6738373041152954,
          0.6741271018981934,
          0.6744255423545837,
          0.674730658531189,
          0.6750156879425049,
          0.6753170490264893,
          0.6756411194801331,
          0.6758967041969299,
          0.6762134432792664,
          0.6765276193618774,
          0.6767736673355103,
          0.6770668029785156,
          0.6773782968521118,
          0.6776951551437378,
          0.6779999732971191,
          0.6782789826393127,
          0.678570568561554,
          0.6788533926010132,
          0.6791336536407471,
          0.6794286370277405,
          0.6797307133674622,
          0.6800429821014404,
          0.6803054213523865,
          0.6805907487869263,
          0.6808966398239136,
          0.6811912059783936,
          0.6814609169960022,
          0.6818126440048218,
          0.6820856332778931,
          0.6823104023933411,
          0.6826346516609192,
          0.6829216480255127,
          0.6832309365272522,
          0.6835253238677979,
          0.6838086247444153,
          0.6841091513633728,
          0.6843938827514648,
          0.684677243232727,
          0.6849717497825623,
          0.6852798461914062,
          0.6855469942092896,
          0.6858706474304199,
          0.6860989332199097,
          0.6864361763000488,
          0.6867729425430298
         ]
        },
        {
         "mode": "lines",
         "name": "val_AUC",
         "type": "scatter",
         "y": [
          0.19374743103981018,
          0.22304442524909973,
          0.27537256479263306,
          0.333684504032135,
          0.3771626353263855,
          0.40675944089889526,
          0.42773088812828064,
          0.44379767775535583,
          0.45637089014053345,
          0.468036413192749,
          0.4787774085998535,
          0.48847973346710205,
          0.497885137796402,
          0.505203366279602,
          0.5121857523918152,
          0.5177910923957825,
          0.5233913064002991,
          0.5277803540229797,
          0.531821608543396,
          0.5348302721977234,
          0.5379995107650757,
          0.5408282279968262,
          0.5429537296295166,
          0.5465088486671448,
          0.5491136312484741,
          0.5511432886123657,
          0.5536435842514038,
          0.5557100176811218,
          0.5570029020309448,
          0.5593512058258057,
          0.5599654316902161,
          0.5612286329269409,
          0.5632345676422119,
          0.5653704404830933,
          0.5663322806358337,
          0.5687998533248901,
          0.5694584846496582,
          0.5708222389221191,
          0.5718050003051758,
          0.5723265409469604,
          0.5729228258132935,
          0.5741655826568604,
          0.5764882564544678,
          0.576439380645752,
          0.5777267217636108,
          0.579341471195221,
          0.579864501953125,
          0.5814625024795532,
          0.581861138343811,
          0.5819408893585205,
          0.5829031467437744,
          0.5835956335067749,
          0.5848336219787598,
          0.5864515900611877,
          0.5862414240837097,
          0.5875029563903809,
          0.5871893167495728,
          0.5886749029159546,
          0.5885175466537476,
          0.589572012424469,
          0.5912470817565918,
          0.59136962890625,
          0.5923324823379517,
          0.5936034321784973,
          0.5939280390739441,
          0.595365047454834,
          0.5950690507888794,
          0.5947729349136353,
          0.5954786539077759,
          0.5963581204414368,
          0.5979571342468262,
          0.5971550941467285,
          0.5973155498504639,
          0.5971800684928894,
          0.5983391404151917,
          0.5985647439956665,
          0.6011753082275391,
          0.6015152335166931,
          0.6009314060211182,
          0.6003305912017822,
          0.6014379858970642,
          0.6018123030662537,
          0.6022499203681946,
          0.6014341115951538,
          0.6022961139678955,
          0.6041079759597778,
          0.6028083562850952,
          0.603626012802124,
          0.6025075912475586,
          0.6035208702087402,
          0.6036013960838318,
          0.6043865084648132,
          0.604982316493988,
          0.6054651737213135,
          0.6047810316085815,
          0.6055766940116882,
          0.6063147783279419,
          0.6064938306808472,
          0.606621265411377,
          0.6070371866226196,
          0.6063811779022217,
          0.6066956520080566,
          0.6084116697311401,
          0.6090142726898193,
          0.6090530157089233,
          0.6100605130195618,
          0.6090830564498901,
          0.6092202663421631,
          0.6092617511749268,
          0.6097904443740845,
          0.6096456050872803,
          0.6104899644851685,
          0.6099331974983215,
          0.610572338104248,
          0.6122677326202393,
          0.6110000610351562,
          0.6105229258537292,
          0.6104086637496948,
          0.6092133522033691,
          0.6104716062545776,
          0.6096780300140381,
          0.610326886177063,
          0.610135555267334,
          0.6107643842697144,
          0.6104291081428528,
          0.6115274429321289,
          0.6103041172027588,
          0.6104857325553894,
          0.6117777824401855,
          0.6113893985748291,
          0.6108222007751465,
          0.6103326082229614,
          0.6112359762191772,
          0.6106728315353394,
          0.612409234046936,
          0.6116340160369873,
          0.6113296747207642,
          0.6108017563819885,
          0.6121695041656494,
          0.6111871600151062,
          0.6115360260009766,
          0.6121150255203247,
          0.6117687225341797,
          0.6122403740882874,
          0.612646222114563,
          0.6123766899108887,
          0.6120282411575317,
          0.6116211414337158,
          0.612808346748352,
          0.6120477318763733,
          0.6111544966697693,
          0.6115467548370361,
          0.6110516786575317,
          0.612169623374939,
          0.611178994178772,
          0.6119888424873352,
          0.6129968166351318,
          0.613376796245575,
          0.6115930080413818,
          0.6114727258682251,
          0.6121542453765869,
          0.6135104894638062,
          0.6117466688156128,
          0.6124821305274963,
          0.6132321953773499,
          0.6127006411552429,
          0.6125272512435913,
          0.6112419366836548,
          0.6122734546661377,
          0.6125230193138123,
          0.6123267412185669,
          0.6119846105575562,
          0.6130883693695068,
          0.6116141080856323,
          0.6125454306602478,
          0.6127806305885315,
          0.6129878163337708,
          0.6122750639915466,
          0.6126731634140015,
          0.6115898489952087,
          0.6116179823875427,
          0.6119986772537231,
          0.6114448308944702,
          0.6116982698440552,
          0.6126320362091064,
          0.6124759912490845,
          0.6113015413284302,
          0.6119310855865479,
          0.61356121301651,
          0.6126693487167358,
          0.6116746068000793,
          0.6112280488014221,
          0.6126289963722229,
          0.612832248210907,
          0.612326979637146,
          0.6120675802230835,
          0.611436665058136,
          0.6112244129180908,
          0.6108986139297485,
          0.6120197772979736,
          0.6119400262832642,
          0.6117802858352661,
          0.6110872030258179,
          0.6108096837997437,
          0.6110525131225586,
          0.6121617555618286
         ]
        }
       ],
       "layout": {
        "template": {
         "data": {
          "bar": [
           {
            "error_x": {
             "color": "#2a3f5f"
            },
            "error_y": {
             "color": "#2a3f5f"
            },
            "marker": {
             "line": {
              "color": "#E5ECF6",
              "width": 0.5
             },
             "pattern": {
              "fillmode": "overlay",
              "size": 10,
              "solidity": 0.2
             }
            },
            "type": "bar"
           }
          ],
          "barpolar": [
           {
            "marker": {
             "line": {
              "color": "#E5ECF6",
              "width": 0.5
             },
             "pattern": {
              "fillmode": "overlay",
              "size": 10,
              "solidity": 0.2
             }
            },
            "type": "barpolar"
           }
          ],
          "carpet": [
           {
            "aaxis": {
             "endlinecolor": "#2a3f5f",
             "gridcolor": "white",
             "linecolor": "white",
             "minorgridcolor": "white",
             "startlinecolor": "#2a3f5f"
            },
            "baxis": {
             "endlinecolor": "#2a3f5f",
             "gridcolor": "white",
             "linecolor": "white",
             "minorgridcolor": "white",
             "startlinecolor": "#2a3f5f"
            },
            "type": "carpet"
           }
          ],
          "choropleth": [
           {
            "colorbar": {
             "outlinewidth": 0,
             "ticks": ""
            },
            "type": "choropleth"
           }
          ],
          "contour": [
           {
            "colorbar": {
             "outlinewidth": 0,
             "ticks": ""
            },
            "colorscale": [
             [
              0,
              "#0d0887"
             ],
             [
              0.1111111111111111,
              "#46039f"
             ],
             [
              0.2222222222222222,
              "#7201a8"
             ],
             [
              0.3333333333333333,
              "#9c179e"
             ],
             [
              0.4444444444444444,
              "#bd3786"
             ],
             [
              0.5555555555555556,
              "#d8576b"
             ],
             [
              0.6666666666666666,
              "#ed7953"
             ],
             [
              0.7777777777777778,
              "#fb9f3a"
             ],
             [
              0.8888888888888888,
              "#fdca26"
             ],
             [
              1,
              "#f0f921"
             ]
            ],
            "type": "contour"
           }
          ],
          "contourcarpet": [
           {
            "colorbar": {
             "outlinewidth": 0,
             "ticks": ""
            },
            "type": "contourcarpet"
           }
          ],
          "heatmap": [
           {
            "colorbar": {
             "outlinewidth": 0,
             "ticks": ""
            },
            "colorscale": [
             [
              0,
              "#0d0887"
             ],
             [
              0.1111111111111111,
              "#46039f"
             ],
             [
              0.2222222222222222,
              "#7201a8"
             ],
             [
              0.3333333333333333,
              "#9c179e"
             ],
             [
              0.4444444444444444,
              "#bd3786"
             ],
             [
              0.5555555555555556,
              "#d8576b"
             ],
             [
              0.6666666666666666,
              "#ed7953"
             ],
             [
              0.7777777777777778,
              "#fb9f3a"
             ],
             [
              0.8888888888888888,
              "#fdca26"
             ],
             [
              1,
              "#f0f921"
             ]
            ],
            "type": "heatmap"
           }
          ],
          "heatmapgl": [
           {
            "colorbar": {
             "outlinewidth": 0,
             "ticks": ""
            },
            "colorscale": [
             [
              0,
              "#0d0887"
             ],
             [
              0.1111111111111111,
              "#46039f"
             ],
             [
              0.2222222222222222,
              "#7201a8"
             ],
             [
              0.3333333333333333,
              "#9c179e"
             ],
             [
              0.4444444444444444,
              "#bd3786"
             ],
             [
              0.5555555555555556,
              "#d8576b"
             ],
             [
              0.6666666666666666,
              "#ed7953"
             ],
             [
              0.7777777777777778,
              "#fb9f3a"
             ],
             [
              0.8888888888888888,
              "#fdca26"
             ],
             [
              1,
              "#f0f921"
             ]
            ],
            "type": "heatmapgl"
           }
          ],
          "histogram": [
           {
            "marker": {
             "pattern": {
              "fillmode": "overlay",
              "size": 10,
              "solidity": 0.2
             }
            },
            "type": "histogram"
           }
          ],
          "histogram2d": [
           {
            "colorbar": {
             "outlinewidth": 0,
             "ticks": ""
            },
            "colorscale": [
             [
              0,
              "#0d0887"
             ],
             [
              0.1111111111111111,
              "#46039f"
             ],
             [
              0.2222222222222222,
              "#7201a8"
             ],
             [
              0.3333333333333333,
              "#9c179e"
             ],
             [
              0.4444444444444444,
              "#bd3786"
             ],
             [
              0.5555555555555556,
              "#d8576b"
             ],
             [
              0.6666666666666666,
              "#ed7953"
             ],
             [
              0.7777777777777778,
              "#fb9f3a"
             ],
             [
              0.8888888888888888,
              "#fdca26"
             ],
             [
              1,
              "#f0f921"
             ]
            ],
            "type": "histogram2d"
           }
          ],
          "histogram2dcontour": [
           {
            "colorbar": {
             "outlinewidth": 0,
             "ticks": ""
            },
            "colorscale": [
             [
              0,
              "#0d0887"
             ],
             [
              0.1111111111111111,
              "#46039f"
             ],
             [
              0.2222222222222222,
              "#7201a8"
             ],
             [
              0.3333333333333333,
              "#9c179e"
             ],
             [
              0.4444444444444444,
              "#bd3786"
             ],
             [
              0.5555555555555556,
              "#d8576b"
             ],
             [
              0.6666666666666666,
              "#ed7953"
             ],
             [
              0.7777777777777778,
              "#fb9f3a"
             ],
             [
              0.8888888888888888,
              "#fdca26"
             ],
             [
              1,
              "#f0f921"
             ]
            ],
            "type": "histogram2dcontour"
           }
          ],
          "mesh3d": [
           {
            "colorbar": {
             "outlinewidth": 0,
             "ticks": ""
            },
            "type": "mesh3d"
           }
          ],
          "parcoords": [
           {
            "line": {
             "colorbar": {
              "outlinewidth": 0,
              "ticks": ""
             }
            },
            "type": "parcoords"
           }
          ],
          "pie": [
           {
            "automargin": true,
            "type": "pie"
           }
          ],
          "scatter": [
           {
            "fillpattern": {
             "fillmode": "overlay",
             "size": 10,
             "solidity": 0.2
            },
            "type": "scatter"
           }
          ],
          "scatter3d": [
           {
            "line": {
             "colorbar": {
              "outlinewidth": 0,
              "ticks": ""
             }
            },
            "marker": {
             "colorbar": {
              "outlinewidth": 0,
              "ticks": ""
             }
            },
            "type": "scatter3d"
           }
          ],
          "scattercarpet": [
           {
            "marker": {
             "colorbar": {
              "outlinewidth": 0,
              "ticks": ""
             }
            },
            "type": "scattercarpet"
           }
          ],
          "scattergeo": [
           {
            "marker": {
             "colorbar": {
              "outlinewidth": 0,
              "ticks": ""
             }
            },
            "type": "scattergeo"
           }
          ],
          "scattergl": [
           {
            "marker": {
             "colorbar": {
              "outlinewidth": 0,
              "ticks": ""
             }
            },
            "type": "scattergl"
           }
          ],
          "scattermapbox": [
           {
            "marker": {
             "colorbar": {
              "outlinewidth": 0,
              "ticks": ""
             }
            },
            "type": "scattermapbox"
           }
          ],
          "scatterpolar": [
           {
            "marker": {
             "colorbar": {
              "outlinewidth": 0,
              "ticks": ""
             }
            },
            "type": "scatterpolar"
           }
          ],
          "scatterpolargl": [
           {
            "marker": {
             "colorbar": {
              "outlinewidth": 0,
              "ticks": ""
             }
            },
            "type": "scatterpolargl"
           }
          ],
          "scatterternary": [
           {
            "marker": {
             "colorbar": {
              "outlinewidth": 0,
              "ticks": ""
             }
            },
            "type": "scatterternary"
           }
          ],
          "surface": [
           {
            "colorbar": {
             "outlinewidth": 0,
             "ticks": ""
            },
            "colorscale": [
             [
              0,
              "#0d0887"
             ],
             [
              0.1111111111111111,
              "#46039f"
             ],
             [
              0.2222222222222222,
              "#7201a8"
             ],
             [
              0.3333333333333333,
              "#9c179e"
             ],
             [
              0.4444444444444444,
              "#bd3786"
             ],
             [
              0.5555555555555556,
              "#d8576b"
             ],
             [
              0.6666666666666666,
              "#ed7953"
             ],
             [
              0.7777777777777778,
              "#fb9f3a"
             ],
             [
              0.8888888888888888,
              "#fdca26"
             ],
             [
              1,
              "#f0f921"
             ]
            ],
            "type": "surface"
           }
          ],
          "table": [
           {
            "cells": {
             "fill": {
              "color": "#EBF0F8"
             },
             "line": {
              "color": "white"
             }
            },
            "header": {
             "fill": {
              "color": "#C8D4E3"
             },
             "line": {
              "color": "white"
             }
            },
            "type": "table"
           }
          ]
         },
         "layout": {
          "annotationdefaults": {
           "arrowcolor": "#2a3f5f",
           "arrowhead": 0,
           "arrowwidth": 1
          },
          "autotypenumbers": "strict",
          "coloraxis": {
           "colorbar": {
            "outlinewidth": 0,
            "ticks": ""
           }
          },
          "colorscale": {
           "diverging": [
            [
             0,
             "#8e0152"
            ],
            [
             0.1,
             "#c51b7d"
            ],
            [
             0.2,
             "#de77ae"
            ],
            [
             0.3,
             "#f1b6da"
            ],
            [
             0.4,
             "#fde0ef"
            ],
            [
             0.5,
             "#f7f7f7"
            ],
            [
             0.6,
             "#e6f5d0"
            ],
            [
             0.7,
             "#b8e186"
            ],
            [
             0.8,
             "#7fbc41"
            ],
            [
             0.9,
             "#4d9221"
            ],
            [
             1,
             "#276419"
            ]
           ],
           "sequential": [
            [
             0,
             "#0d0887"
            ],
            [
             0.1111111111111111,
             "#46039f"
            ],
            [
             0.2222222222222222,
             "#7201a8"
            ],
            [
             0.3333333333333333,
             "#9c179e"
            ],
            [
             0.4444444444444444,
             "#bd3786"
            ],
            [
             0.5555555555555556,
             "#d8576b"
            ],
            [
             0.6666666666666666,
             "#ed7953"
            ],
            [
             0.7777777777777778,
             "#fb9f3a"
            ],
            [
             0.8888888888888888,
             "#fdca26"
            ],
            [
             1,
             "#f0f921"
            ]
           ],
           "sequentialminus": [
            [
             0,
             "#0d0887"
            ],
            [
             0.1111111111111111,
             "#46039f"
            ],
            [
             0.2222222222222222,
             "#7201a8"
            ],
            [
             0.3333333333333333,
             "#9c179e"
            ],
            [
             0.4444444444444444,
             "#bd3786"
            ],
            [
             0.5555555555555556,
             "#d8576b"
            ],
            [
             0.6666666666666666,
             "#ed7953"
            ],
            [
             0.7777777777777778,
             "#fb9f3a"
            ],
            [
             0.8888888888888888,
             "#fdca26"
            ],
            [
             1,
             "#f0f921"
            ]
           ]
          },
          "colorway": [
           "#636efa",
           "#EF553B",
           "#00cc96",
           "#ab63fa",
           "#FFA15A",
           "#19d3f3",
           "#FF6692",
           "#B6E880",
           "#FF97FF",
           "#FECB52"
          ],
          "font": {
           "color": "#2a3f5f"
          },
          "geo": {
           "bgcolor": "white",
           "lakecolor": "white",
           "landcolor": "#E5ECF6",
           "showlakes": true,
           "showland": true,
           "subunitcolor": "white"
          },
          "hoverlabel": {
           "align": "left"
          },
          "hovermode": "closest",
          "mapbox": {
           "style": "light"
          },
          "paper_bgcolor": "white",
          "plot_bgcolor": "#E5ECF6",
          "polar": {
           "angularaxis": {
            "gridcolor": "white",
            "linecolor": "white",
            "ticks": ""
           },
           "bgcolor": "#E5ECF6",
           "radialaxis": {
            "gridcolor": "white",
            "linecolor": "white",
            "ticks": ""
           }
          },
          "scene": {
           "xaxis": {
            "backgroundcolor": "#E5ECF6",
            "gridcolor": "white",
            "gridwidth": 2,
            "linecolor": "white",
            "showbackground": true,
            "ticks": "",
            "zerolinecolor": "white"
           },
           "yaxis": {
            "backgroundcolor": "#E5ECF6",
            "gridcolor": "white",
            "gridwidth": 2,
            "linecolor": "white",
            "showbackground": true,
            "ticks": "",
            "zerolinecolor": "white"
           },
           "zaxis": {
            "backgroundcolor": "#E5ECF6",
            "gridcolor": "white",
            "gridwidth": 2,
            "linecolor": "white",
            "showbackground": true,
            "ticks": "",
            "zerolinecolor": "white"
           }
          },
          "shapedefaults": {
           "line": {
            "color": "#2a3f5f"
           }
          },
          "ternary": {
           "aaxis": {
            "gridcolor": "white",
            "linecolor": "white",
            "ticks": ""
           },
           "baxis": {
            "gridcolor": "white",
            "linecolor": "white",
            "ticks": ""
           },
           "bgcolor": "#E5ECF6",
           "caxis": {
            "gridcolor": "white",
            "linecolor": "white",
            "ticks": ""
           }
          },
          "title": {
           "x": 0.05
          },
          "xaxis": {
           "automargin": true,
           "gridcolor": "white",
           "linecolor": "white",
           "ticks": "",
           "title": {
            "standoff": 15
           },
           "zerolinecolor": "white",
           "zerolinewidth": 2
          },
          "yaxis": {
           "automargin": true,
           "gridcolor": "white",
           "linecolor": "white",
           "ticks": "",
           "title": {
            "standoff": 15
           },
           "zerolinecolor": "white",
           "zerolinewidth": 2
          }
         }
        }
       }
      }
     },
     "metadata": {},
     "output_type": "display_data"
    },
    {
     "name": "stdout",
     "output_type": "stream",
     "text": [
      "models/2024-02-27 13-17-26 val_PR 0.779 Dense.hd5\n",
      "0.779\n",
      "------------------------------------------------------------------------------------------------------------------------------------------------------\n"
     ]
    }
   ],
   "source": [
    "import importlib\n",
    "\n",
    "importlib.reload(model_design_dense_layers)\n",
    "\n",
    "max_val_PR = 0.5\n",
    "   \n",
    "x_train, y_train, x_test, y_test = get_train_test_sets(df_result, n_test)\n",
    "\n",
    "print(x_train.shape)\n",
    "print(y_train.shape)\n",
    "print(x_test.shape)\n",
    "print(y_test.shape)\n",
    "\n",
    "model, history = model_design_dense_layers.model_design(EPOCHS,  x_train, y_train, x_test, y_test, class_weights_dict)\n",
    "\n",
    "plot_model_history(history.history, ['sens_at_spec', 'val_sens_at_spec'])\n",
    "plot_model_history(history.history, ['AUC', 'val_AUC'])\n",
    "\n",
    "val_PR = round(max(history.history['val_sens_at_spec']),3)\n",
    "\n",
    "x = datetime.datetime.now()\n",
    "\n",
    "model_name = \"models/\" + x.strftime(\"%Y-%m-%d %H-%M-%S\") +\" val_PR \" + str(val_PR)  + \" Dense.hd5\"\n",
    "\n",
    "if val_PR > max_val_PR:\n",
    "    max_val_PR = val_PR\n",
    "    model.save(model_name,  save_format = 'h5')\n",
    "\n",
    "print(model_name)\n",
    "print(val_PR)\n",
    "print(150 * \"-\")\n"
   ]
  },
  {
   "cell_type": "code",
   "execution_count": 34,
   "metadata": {},
   "outputs": [],
   "source": [
    "frequency = 2500  # Set Frequency To 2500 Hertz\n",
    "duration = 2000  # Set Duration To 1000 ms == 1 second\n",
    "winsound.Beep(frequency, duration)"
   ]
  },
  {
   "cell_type": "code",
   "execution_count": 35,
   "metadata": {},
   "outputs": [
    {
     "data": {
      "text/plain": [
       "dict_keys(['loss', 'cat_cross', 'AUC', 'sens_at_spec', 'val_loss', 'val_cat_cross', 'val_AUC', 'val_sens_at_spec'])"
      ]
     },
     "execution_count": 35,
     "metadata": {},
     "output_type": "execute_result"
    }
   ],
   "source": [
    "history.history.keys()"
   ]
  },
  {
   "cell_type": "code",
   "execution_count": 36,
   "metadata": {},
   "outputs": [
    {
     "name": "stdout",
     "output_type": "stream",
     "text": [
      "Model: \"model_2\"\n",
      "_________________________________________________________________\n",
      " Layer (type)                Output Shape              Param #   \n",
      "=================================================================\n",
      " Input (InputLayer)          [(None, 65)]              0         \n",
      "                                                                 \n",
      " normalization_2 (Normaliza  (None, 65)                131       \n",
      " tion)                                                           \n",
      "                                                                 \n",
      " dense_9 (Dense)             (None, 136)               8976      \n",
      "                                                                 \n",
      " dense_10 (Dense)            (None, 136)               18632     \n",
      "                                                                 \n",
      " dense_11 (Dense)            (None, 65)                8905      \n",
      "                                                                 \n",
      " dense_12 (Dense)            (None, 16)                1056      \n",
      "                                                                 \n",
      " output (Dense)              (None, 4)                 68        \n",
      "                                                                 \n",
      "=================================================================\n",
      "Total params: 37768 (147.54 KB)\n",
      "Trainable params: 37637 (147.02 KB)\n",
      "Non-trainable params: 131 (528.00 Byte)\n",
      "_________________________________________________________________\n"
     ]
    }
   ],
   "source": [
    "model.summary()"
   ]
  },
  {
   "cell_type": "markdown",
   "metadata": {},
   "source": []
  },
  {
   "cell_type": "markdown",
   "metadata": {},
   "source": []
  },
  {
   "cell_type": "markdown",
   "metadata": {},
   "source": []
  }
 ],
 "metadata": {
  "kernelspec": {
   "display_name": "base",
   "language": "python",
   "name": "python3"
  },
  "language_info": {
   "codemirror_mode": {
    "name": "ipython",
    "version": 3
   },
   "file_extension": ".py",
   "mimetype": "text/x-python",
   "name": "python",
   "nbconvert_exporter": "python",
   "pygments_lexer": "ipython3",
   "version": "3.11.5"
  },
  "vscode": {
   "interpreter": {
    "hash": "ad2bdc8ecc057115af97d19610ffacc2b4e99fae6737bb82f5d7fb13d2f2c186"
   }
  }
 },
 "nbformat": 4,
 "nbformat_minor": 2
}
