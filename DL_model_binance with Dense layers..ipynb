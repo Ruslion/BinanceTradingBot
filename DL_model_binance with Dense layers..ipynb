{
 "cells": [
  {
   "cell_type": "code",
   "execution_count": 1,
   "metadata": {},
   "outputs": [
    {
     "name": "stdout",
     "output_type": "stream",
     "text": [
      "WARNING:tensorflow:From C:\\Users\\user\\AppData\\Roaming\\Python\\Python311\\site-packages\\keras\\src\\losses.py:2976: The name tf.losses.sparse_softmax_cross_entropy is deprecated. Please use tf.compat.v1.losses.sparse_softmax_cross_entropy instead.\n",
      "\n"
     ]
    }
   ],
   "source": [
    "import datetime\n",
    "import stock_marker_binance\n",
    "import model_design_dense_layers\n",
    "import pandas as pd\n",
    "from sklearn.utils import class_weight\n",
    "import numpy as np\n",
    "from sklearn.preprocessing import OneHotEncoder\n",
    "from imblearn.over_sampling import SMOTE\n",
    "import winsound\n",
    "import plotly.graph_objects as go"
   ]
  },
  {
   "cell_type": "code",
   "execution_count": null,
   "metadata": {},
   "outputs": [],
   "source": []
  },
  {
   "cell_type": "code",
   "execution_count": 2,
   "metadata": {},
   "outputs": [],
   "source": [
    "EPOCHS =  2000\n",
    "TRAIN_FRACTION = 0.8"
   ]
  },
  {
   "cell_type": "code",
   "execution_count": 3,
   "metadata": {},
   "outputs": [],
   "source": [
    "def plot_model_history(model_history, list_of_metrics):\n",
    "\n",
    "    fig = go.Figure()\n",
    "\n",
    "    # Add traces\n",
    "\n",
    "    for metric in list_of_metrics:\n",
    "        fig.add_trace(go.Scatter(y=model_history[metric],\n",
    "                            mode='lines',\n",
    "                            name=metric))\n",
    "        \n",
    "\n",
    "    fig.show()"
   ]
  },
  {
   "cell_type": "code",
   "execution_count": 4,
   "metadata": {},
   "outputs": [],
   "source": [
    "def dataframe_to_tensor(df, timestep_length: int):\n",
    "    \n",
    "    '''\n",
    "    Converts a pandas dataframe to a tensor\n",
    "    \n",
    "    Input: Pandas dataframe\n",
    "            timestep_length (int) - the length of the timestep\n",
    "    Output: Tensor\n",
    "    \n",
    "    '''\n",
    "    \n",
    "    # Convert the dataframe to a numpy array\n",
    "    df = np.array(df)\n",
    "\n",
    "    n_seq = len(df) - timestep_length + 1\n",
    "    return np.array([df[i:(i+timestep_length)] for i in range(n_seq)])"
   ]
  },
  {
   "cell_type": "code",
   "execution_count": 5,
   "metadata": {},
   "outputs": [],
   "source": [
    "def OneHotEncoding(df_result):\n",
    "    enc = OneHotEncoder()\n",
    "\n",
    "    OHE_array = enc.fit_transform(df_result[['action']]).toarray()\n",
    "\n",
    "    class_weights = class_weight.compute_class_weight(class_weight='balanced',\n",
    "                                                    classes=np.unique(df_result['action']),\n",
    "                                                    y=df_result['action'])\n",
    "\n",
    "\n",
    "\n",
    "    class_weights_dict = dict(zip(enc.categories_[0], class_weights))\n",
    "\n",
    "    print(class_weights)\n",
    "    print(enc.categories_[0])\n",
    "    print(class_weights_dict.keys())\n",
    "    print(np.unique(df_result['action']))\n",
    "\n",
    "    \n",
    "    OHE_df = pd.DataFrame(OHE_array, columns=enc.categories_[0])\n",
    "    df_result = pd.merge(df_result, OHE_df, left_index=True, right_index=True)\n",
    "    df_result.drop(columns=['action'], inplace=True)\n",
    "    return df_result, class_weights_dict"
   ]
  },
  {
   "cell_type": "code",
   "execution_count": 29,
   "metadata": {},
   "outputs": [],
   "source": [
    "def smote(df, train_frac):\n",
    "    '''\n",
    "    Oversample the minority class using SMOTE prior to OHE.\n",
    "    '''\n",
    "\n",
    "    n_train = int(df.shape[0] * train_frac)\n",
    "    n_test = df.shape[0] - n_train\n",
    "\n",
    "    train_data = df.iloc[:n_train, :]\n",
    "    test_data = df.iloc[n_train:, :]\n",
    "\n",
    "    x_train = train_data.drop(columns = ['action'])\n",
    "    y_train = train_data['action']\n",
    "\n",
    "    \n",
    "    smote_inst = SMOTE(sampling_strategy='auto', k_neighbors=12, random_state=2611)\n",
    "      \n",
    "    x_train , y_train = smote_inst.fit_resample(x_train, y_train)\n",
    "    \n",
    "    \n",
    "    train_data = pd.concat([x_train, y_train], axis=1)\n",
    "    \n",
    "    print(train_data[['action', 'year']].groupby('action').count())\n",
    "    print(test_data[['action', 'year']].groupby('action').count())\n",
    "    \n",
    "    df = pd.concat([train_data, test_data], ignore_index=True)\n",
    "\n",
    "    return df, n_test"
   ]
  },
  {
   "cell_type": "code",
   "execution_count": 7,
   "metadata": {},
   "outputs": [],
   "source": [
    "def downsample_majority_classes(df, list_of_classes):\n",
    "    '''\n",
    "    Downsamples the majority classes to the size of the minority class\n",
    "    \n",
    "    Input: Pandas dataframe\n",
    "            list_of_classes (list) - list of classes to downsample\n",
    "            size (int) - the size of the minority class\n",
    "    Output: Pandas dataframe\n",
    "    '''\n",
    "\n",
    "    size = len(df[(df['B'] == 1) | (df['S'] == 1)]) // 2\n",
    "\n",
    "    print(\"Size of minority class: \", size)\n",
    "    \n",
    "    df = df.copy()\n",
    "    for class_ in list_of_classes:\n",
    "        df_class = df[df[class_] == 1]\n",
    "        df_class_downsampled = df_class.sample(size, random_state=2611)\n",
    "        df = df.drop(df_class.index)\n",
    "        df = pd.concat([df, df_class_downsampled])\n",
    "    return df"
   ]
  },
  {
   "cell_type": "code",
   "execution_count": 8,
   "metadata": {},
   "outputs": [],
   "source": [
    "def get_train_test_sets(data, n_test):\n",
    "    '''\n",
    "    Train and test sets to be split prior to reducing majority class.\n",
    "    '''\n",
    "    # n_train = int(data.shape[0] * train_frac)\n",
    "\n",
    "    train_data = data[:-n_test]\n",
    "    test_data = data[-n_test:]\n",
    "\n",
    "    # train_data = downsample_majority_classes(train_data, ['H', 'W'])\n",
    "\n",
    "    \n",
    "    \n",
    "    train_data = np.array(train_data)\n",
    "    test_data = np.array(test_data)\n",
    "\n",
    "    \n",
    "    x_train = train_data[:,  :-4]\n",
    "    y_train = train_data[:,  -4:]\n",
    "    x_test = test_data[:, :-4]\n",
    "    y_test = test_data[:, -4:]\n",
    "    return x_train, y_train, x_test, y_test"
   ]
  },
  {
   "cell_type": "code",
   "execution_count": 30,
   "metadata": {},
   "outputs": [],
   "source": [
    "# import tensorflow as tf\n",
    "# physical_devices = tf.config.list_physical_devices('GPU')\n",
    "# tf.config.experimental.set_memory_growth(physical_devices[0], enable=True)"
   ]
  },
  {
   "cell_type": "code",
   "execution_count": 31,
   "metadata": {},
   "outputs": [],
   "source": [
    "df = pd.read_csv('ETH_1h_history as of 09-01-2024.csv', index_col=0)"
   ]
  },
  {
   "cell_type": "code",
   "execution_count": 32,
   "metadata": {},
   "outputs": [
    {
     "data": {
      "text/html": [
       "<div>\n",
       "<style scoped>\n",
       "    .dataframe tbody tr th:only-of-type {\n",
       "        vertical-align: middle;\n",
       "    }\n",
       "\n",
       "    .dataframe tbody tr th {\n",
       "        vertical-align: top;\n",
       "    }\n",
       "\n",
       "    .dataframe thead th {\n",
       "        text-align: right;\n",
       "    }\n",
       "</style>\n",
       "<table border=\"1\" class=\"dataframe\">\n",
       "  <thead>\n",
       "    <tr style=\"text-align: right;\">\n",
       "      <th></th>\n",
       "      <th>timestamp</th>\n",
       "      <th>open</th>\n",
       "      <th>high</th>\n",
       "      <th>low</th>\n",
       "      <th>close</th>\n",
       "      <th>volume</th>\n",
       "      <th>close_time</th>\n",
       "      <th>quote_asset_volume</th>\n",
       "      <th>num_trades</th>\n",
       "    </tr>\n",
       "  </thead>\n",
       "  <tbody>\n",
       "    <tr>\n",
       "      <th>0</th>\n",
       "      <td>01/01/2020 00:00</td>\n",
       "      <td>129.16</td>\n",
       "      <td>129.19</td>\n",
       "      <td>128.68</td>\n",
       "      <td>128.87</td>\n",
       "      <td>7769.17336</td>\n",
       "      <td>1.577840e+12</td>\n",
       "      <td>1.000930e+06</td>\n",
       "      <td>2504</td>\n",
       "    </tr>\n",
       "    <tr>\n",
       "      <th>1</th>\n",
       "      <td>01/01/2020 01:00</td>\n",
       "      <td>128.87</td>\n",
       "      <td>130.65</td>\n",
       "      <td>128.78</td>\n",
       "      <td>130.64</td>\n",
       "      <td>11344.65516</td>\n",
       "      <td>1.577840e+12</td>\n",
       "      <td>1.474278e+06</td>\n",
       "      <td>4885</td>\n",
       "    </tr>\n",
       "    <tr>\n",
       "      <th>2</th>\n",
       "      <td>01/01/2020 02:00</td>\n",
       "      <td>130.63</td>\n",
       "      <td>130.98</td>\n",
       "      <td>130.35</td>\n",
       "      <td>130.85</td>\n",
       "      <td>7603.35623</td>\n",
       "      <td>1.577850e+12</td>\n",
       "      <td>9.940256e+05</td>\n",
       "      <td>3046</td>\n",
       "    </tr>\n",
       "    <tr>\n",
       "      <th>3</th>\n",
       "      <td>01/01/2020 03:00</td>\n",
       "      <td>130.85</td>\n",
       "      <td>130.89</td>\n",
       "      <td>129.94</td>\n",
       "      <td>130.20</td>\n",
       "      <td>4968.55433</td>\n",
       "      <td>1.577850e+12</td>\n",
       "      <td>6.473610e+05</td>\n",
       "      <td>2818</td>\n",
       "    </tr>\n",
       "    <tr>\n",
       "      <th>4</th>\n",
       "      <td>01/01/2020 04:00</td>\n",
       "      <td>130.21</td>\n",
       "      <td>130.74</td>\n",
       "      <td>130.15</td>\n",
       "      <td>130.20</td>\n",
       "      <td>3397.90747</td>\n",
       "      <td>1.577850e+12</td>\n",
       "      <td>4.430067e+05</td>\n",
       "      <td>2264</td>\n",
       "    </tr>\n",
       "  </tbody>\n",
       "</table>\n",
       "</div>"
      ],
      "text/plain": [
       "          timestamp    open    high     low   close       volume  \\\n",
       "0  01/01/2020 00:00  129.16  129.19  128.68  128.87   7769.17336   \n",
       "1  01/01/2020 01:00  128.87  130.65  128.78  130.64  11344.65516   \n",
       "2  01/01/2020 02:00  130.63  130.98  130.35  130.85   7603.35623   \n",
       "3  01/01/2020 03:00  130.85  130.89  129.94  130.20   4968.55433   \n",
       "4  01/01/2020 04:00  130.21  130.74  130.15  130.20   3397.90747   \n",
       "\n",
       "     close_time  quote_asset_volume  num_trades  \n",
       "0  1.577840e+12        1.000930e+06        2504  \n",
       "1  1.577840e+12        1.474278e+06        4885  \n",
       "2  1.577850e+12        9.940256e+05        3046  \n",
       "3  1.577850e+12        6.473610e+05        2818  \n",
       "4  1.577850e+12        4.430067e+05        2264  "
      ]
     },
     "execution_count": 32,
     "metadata": {},
     "output_type": "execute_result"
    }
   ],
   "source": [
    "df.head()"
   ]
  },
  {
   "cell_type": "code",
   "execution_count": 33,
   "metadata": {},
   "outputs": [],
   "source": [
    "df_result = stock_marker_binance.sorting_timestamp(df)\n",
    "\n",
    "df_result['hour_sin'] = np.sin(df_result['timestamp'].dt.hour / 24 * 2 * np.pi)\n",
    "df_result['hour_cos'] = np.cos(df_result['timestamp'].dt.hour / 24 * 2 * np.pi)\n",
    "\n",
    "df_result['day_sin'] = np.sin(df_result['timestamp'].dt.day / 30 * 2 * np.pi)\n",
    "df_result['day_cos'] = np.cos(df_result['timestamp'].dt.day / 30 * 2 * np.pi)\n",
    "\n",
    "df_result['mon_sin'] = np.sin(df_result['timestamp'].dt.month / 12 * 2 * np.pi)\n",
    "df_result['mon_cos'] = np.cos(df_result['timestamp'].dt.month / 12 * 2 * np.pi)\n",
    "\n",
    "df_result['weekday_sin'] = np.sin(df_result['timestamp'].dt.weekday / 7 * 2 * np.pi)\n",
    "df_result['weekday_cos'] = np.cos(df_result['timestamp'].dt.weekday / 7 * 2 * np.pi)\n",
    "\n",
    "df_result['year'] = df_result['timestamp'].dt.year\n"
   ]
  },
  {
   "cell_type": "code",
   "execution_count": 34,
   "metadata": {},
   "outputs": [
    {
     "data": {
      "text/html": [
       "<div>\n",
       "<style scoped>\n",
       "    .dataframe tbody tr th:only-of-type {\n",
       "        vertical-align: middle;\n",
       "    }\n",
       "\n",
       "    .dataframe tbody tr th {\n",
       "        vertical-align: top;\n",
       "    }\n",
       "\n",
       "    .dataframe thead th {\n",
       "        text-align: right;\n",
       "    }\n",
       "</style>\n",
       "<table border=\"1\" class=\"dataframe\">\n",
       "  <thead>\n",
       "    <tr style=\"text-align: right;\">\n",
       "      <th></th>\n",
       "      <th>timestamp</th>\n",
       "      <th>open</th>\n",
       "      <th>high</th>\n",
       "      <th>low</th>\n",
       "      <th>close</th>\n",
       "      <th>volume</th>\n",
       "      <th>close_time</th>\n",
       "      <th>quote_asset_volume</th>\n",
       "      <th>num_trades</th>\n",
       "      <th>hour_sin</th>\n",
       "      <th>hour_cos</th>\n",
       "      <th>day_sin</th>\n",
       "      <th>day_cos</th>\n",
       "      <th>mon_sin</th>\n",
       "      <th>mon_cos</th>\n",
       "      <th>weekday_sin</th>\n",
       "      <th>weekday_cos</th>\n",
       "      <th>year</th>\n",
       "    </tr>\n",
       "  </thead>\n",
       "  <tbody>\n",
       "    <tr>\n",
       "      <th>0</th>\n",
       "      <td>2020-01-01 00:00:00</td>\n",
       "      <td>129.16</td>\n",
       "      <td>129.19</td>\n",
       "      <td>128.68</td>\n",
       "      <td>128.87</td>\n",
       "      <td>7769.17336</td>\n",
       "      <td>1.577840e+12</td>\n",
       "      <td>1.000930e+06</td>\n",
       "      <td>2504</td>\n",
       "      <td>0.000000</td>\n",
       "      <td>1.000000e+00</td>\n",
       "      <td>0.207912</td>\n",
       "      <td>0.978148</td>\n",
       "      <td>0.5</td>\n",
       "      <td>0.866025</td>\n",
       "      <td>0.974928</td>\n",
       "      <td>-0.222521</td>\n",
       "      <td>2020</td>\n",
       "    </tr>\n",
       "    <tr>\n",
       "      <th>1</th>\n",
       "      <td>2020-01-01 01:00:00</td>\n",
       "      <td>128.87</td>\n",
       "      <td>130.65</td>\n",
       "      <td>128.78</td>\n",
       "      <td>130.64</td>\n",
       "      <td>11344.65516</td>\n",
       "      <td>1.577840e+12</td>\n",
       "      <td>1.474278e+06</td>\n",
       "      <td>4885</td>\n",
       "      <td>0.258819</td>\n",
       "      <td>9.659258e-01</td>\n",
       "      <td>0.207912</td>\n",
       "      <td>0.978148</td>\n",
       "      <td>0.5</td>\n",
       "      <td>0.866025</td>\n",
       "      <td>0.974928</td>\n",
       "      <td>-0.222521</td>\n",
       "      <td>2020</td>\n",
       "    </tr>\n",
       "    <tr>\n",
       "      <th>2</th>\n",
       "      <td>2020-01-01 02:00:00</td>\n",
       "      <td>130.63</td>\n",
       "      <td>130.98</td>\n",
       "      <td>130.35</td>\n",
       "      <td>130.85</td>\n",
       "      <td>7603.35623</td>\n",
       "      <td>1.577850e+12</td>\n",
       "      <td>9.940256e+05</td>\n",
       "      <td>3046</td>\n",
       "      <td>0.500000</td>\n",
       "      <td>8.660254e-01</td>\n",
       "      <td>0.207912</td>\n",
       "      <td>0.978148</td>\n",
       "      <td>0.5</td>\n",
       "      <td>0.866025</td>\n",
       "      <td>0.974928</td>\n",
       "      <td>-0.222521</td>\n",
       "      <td>2020</td>\n",
       "    </tr>\n",
       "    <tr>\n",
       "      <th>3</th>\n",
       "      <td>2020-01-01 03:00:00</td>\n",
       "      <td>130.85</td>\n",
       "      <td>130.89</td>\n",
       "      <td>129.94</td>\n",
       "      <td>130.20</td>\n",
       "      <td>4968.55433</td>\n",
       "      <td>1.577850e+12</td>\n",
       "      <td>6.473610e+05</td>\n",
       "      <td>2818</td>\n",
       "      <td>0.707107</td>\n",
       "      <td>7.071068e-01</td>\n",
       "      <td>0.207912</td>\n",
       "      <td>0.978148</td>\n",
       "      <td>0.5</td>\n",
       "      <td>0.866025</td>\n",
       "      <td>0.974928</td>\n",
       "      <td>-0.222521</td>\n",
       "      <td>2020</td>\n",
       "    </tr>\n",
       "    <tr>\n",
       "      <th>4</th>\n",
       "      <td>2020-01-01 04:00:00</td>\n",
       "      <td>130.21</td>\n",
       "      <td>130.74</td>\n",
       "      <td>130.15</td>\n",
       "      <td>130.20</td>\n",
       "      <td>3397.90747</td>\n",
       "      <td>1.577850e+12</td>\n",
       "      <td>4.430067e+05</td>\n",
       "      <td>2264</td>\n",
       "      <td>0.866025</td>\n",
       "      <td>5.000000e-01</td>\n",
       "      <td>0.207912</td>\n",
       "      <td>0.978148</td>\n",
       "      <td>0.5</td>\n",
       "      <td>0.866025</td>\n",
       "      <td>0.974928</td>\n",
       "      <td>-0.222521</td>\n",
       "      <td>2020</td>\n",
       "    </tr>\n",
       "    <tr>\n",
       "      <th>5</th>\n",
       "      <td>2020-01-01 05:00:00</td>\n",
       "      <td>130.20</td>\n",
       "      <td>130.47</td>\n",
       "      <td>130.11</td>\n",
       "      <td>130.30</td>\n",
       "      <td>4243.60640</td>\n",
       "      <td>1.577860e+12</td>\n",
       "      <td>5.529727e+05</td>\n",
       "      <td>2426</td>\n",
       "      <td>0.965926</td>\n",
       "      <td>2.588190e-01</td>\n",
       "      <td>0.207912</td>\n",
       "      <td>0.978148</td>\n",
       "      <td>0.5</td>\n",
       "      <td>0.866025</td>\n",
       "      <td>0.974928</td>\n",
       "      <td>-0.222521</td>\n",
       "      <td>2020</td>\n",
       "    </tr>\n",
       "    <tr>\n",
       "      <th>6</th>\n",
       "      <td>2020-01-01 06:00:00</td>\n",
       "      <td>130.31</td>\n",
       "      <td>130.75</td>\n",
       "      <td>130.26</td>\n",
       "      <td>130.44</td>\n",
       "      <td>3668.90166</td>\n",
       "      <td>1.577860e+12</td>\n",
       "      <td>4.789442e+05</td>\n",
       "      <td>2347</td>\n",
       "      <td>1.000000</td>\n",
       "      <td>6.123234e-17</td>\n",
       "      <td>0.207912</td>\n",
       "      <td>0.978148</td>\n",
       "      <td>0.5</td>\n",
       "      <td>0.866025</td>\n",
       "      <td>0.974928</td>\n",
       "      <td>-0.222521</td>\n",
       "      <td>2020</td>\n",
       "    </tr>\n",
       "    <tr>\n",
       "      <th>7</th>\n",
       "      <td>2020-01-01 07:00:00</td>\n",
       "      <td>130.47</td>\n",
       "      <td>130.71</td>\n",
       "      <td>130.14</td>\n",
       "      <td>130.24</td>\n",
       "      <td>4147.17413</td>\n",
       "      <td>1.577870e+12</td>\n",
       "      <td>5.407707e+05</td>\n",
       "      <td>2568</td>\n",
       "      <td>0.965926</td>\n",
       "      <td>-2.588190e-01</td>\n",
       "      <td>0.207912</td>\n",
       "      <td>0.978148</td>\n",
       "      <td>0.5</td>\n",
       "      <td>0.866025</td>\n",
       "      <td>0.974928</td>\n",
       "      <td>-0.222521</td>\n",
       "      <td>2020</td>\n",
       "    </tr>\n",
       "    <tr>\n",
       "      <th>8</th>\n",
       "      <td>2020-01-01 08:00:00</td>\n",
       "      <td>130.24</td>\n",
       "      <td>130.41</td>\n",
       "      <td>129.87</td>\n",
       "      <td>130.36</td>\n",
       "      <td>7541.44497</td>\n",
       "      <td>1.577870e+12</td>\n",
       "      <td>9.808940e+05</td>\n",
       "      <td>3039</td>\n",
       "      <td>0.866025</td>\n",
       "      <td>-5.000000e-01</td>\n",
       "      <td>0.207912</td>\n",
       "      <td>0.978148</td>\n",
       "      <td>0.5</td>\n",
       "      <td>0.866025</td>\n",
       "      <td>0.974928</td>\n",
       "      <td>-0.222521</td>\n",
       "      <td>2020</td>\n",
       "    </tr>\n",
       "    <tr>\n",
       "      <th>9</th>\n",
       "      <td>2020-01-01 09:00:00</td>\n",
       "      <td>130.40</td>\n",
       "      <td>130.62</td>\n",
       "      <td>130.13</td>\n",
       "      <td>130.17</td>\n",
       "      <td>4808.20496</td>\n",
       "      <td>1.577870e+12</td>\n",
       "      <td>6.268190e+05</td>\n",
       "      <td>2696</td>\n",
       "      <td>0.707107</td>\n",
       "      <td>-7.071068e-01</td>\n",
       "      <td>0.207912</td>\n",
       "      <td>0.978148</td>\n",
       "      <td>0.5</td>\n",
       "      <td>0.866025</td>\n",
       "      <td>0.974928</td>\n",
       "      <td>-0.222521</td>\n",
       "      <td>2020</td>\n",
       "    </tr>\n",
       "  </tbody>\n",
       "</table>\n",
       "</div>"
      ],
      "text/plain": [
       "            timestamp    open    high     low   close       volume  \\\n",
       "0 2020-01-01 00:00:00  129.16  129.19  128.68  128.87   7769.17336   \n",
       "1 2020-01-01 01:00:00  128.87  130.65  128.78  130.64  11344.65516   \n",
       "2 2020-01-01 02:00:00  130.63  130.98  130.35  130.85   7603.35623   \n",
       "3 2020-01-01 03:00:00  130.85  130.89  129.94  130.20   4968.55433   \n",
       "4 2020-01-01 04:00:00  130.21  130.74  130.15  130.20   3397.90747   \n",
       "5 2020-01-01 05:00:00  130.20  130.47  130.11  130.30   4243.60640   \n",
       "6 2020-01-01 06:00:00  130.31  130.75  130.26  130.44   3668.90166   \n",
       "7 2020-01-01 07:00:00  130.47  130.71  130.14  130.24   4147.17413   \n",
       "8 2020-01-01 08:00:00  130.24  130.41  129.87  130.36   7541.44497   \n",
       "9 2020-01-01 09:00:00  130.40  130.62  130.13  130.17   4808.20496   \n",
       "\n",
       "     close_time  quote_asset_volume  num_trades  hour_sin      hour_cos  \\\n",
       "0  1.577840e+12        1.000930e+06        2504  0.000000  1.000000e+00   \n",
       "1  1.577840e+12        1.474278e+06        4885  0.258819  9.659258e-01   \n",
       "2  1.577850e+12        9.940256e+05        3046  0.500000  8.660254e-01   \n",
       "3  1.577850e+12        6.473610e+05        2818  0.707107  7.071068e-01   \n",
       "4  1.577850e+12        4.430067e+05        2264  0.866025  5.000000e-01   \n",
       "5  1.577860e+12        5.529727e+05        2426  0.965926  2.588190e-01   \n",
       "6  1.577860e+12        4.789442e+05        2347  1.000000  6.123234e-17   \n",
       "7  1.577870e+12        5.407707e+05        2568  0.965926 -2.588190e-01   \n",
       "8  1.577870e+12        9.808940e+05        3039  0.866025 -5.000000e-01   \n",
       "9  1.577870e+12        6.268190e+05        2696  0.707107 -7.071068e-01   \n",
       "\n",
       "    day_sin   day_cos  mon_sin   mon_cos  weekday_sin  weekday_cos  year  \n",
       "0  0.207912  0.978148      0.5  0.866025     0.974928    -0.222521  2020  \n",
       "1  0.207912  0.978148      0.5  0.866025     0.974928    -0.222521  2020  \n",
       "2  0.207912  0.978148      0.5  0.866025     0.974928    -0.222521  2020  \n",
       "3  0.207912  0.978148      0.5  0.866025     0.974928    -0.222521  2020  \n",
       "4  0.207912  0.978148      0.5  0.866025     0.974928    -0.222521  2020  \n",
       "5  0.207912  0.978148      0.5  0.866025     0.974928    -0.222521  2020  \n",
       "6  0.207912  0.978148      0.5  0.866025     0.974928    -0.222521  2020  \n",
       "7  0.207912  0.978148      0.5  0.866025     0.974928    -0.222521  2020  \n",
       "8  0.207912  0.978148      0.5  0.866025     0.974928    -0.222521  2020  \n",
       "9  0.207912  0.978148      0.5  0.866025     0.974928    -0.222521  2020  "
      ]
     },
     "execution_count": 34,
     "metadata": {},
     "output_type": "execute_result"
    }
   ],
   "source": [
    "df_result.head(10)"
   ]
  },
  {
   "cell_type": "code",
   "execution_count": 35,
   "metadata": {},
   "outputs": [
    {
     "name": "stdout",
     "output_type": "stream",
     "text": [
      "Complete adding STDs\n",
      "Complete adding MAs\n",
      "Complete adding ratios\n",
      "Complete adding RSI\n"
     ]
    },
    {
     "name": "stderr",
     "output_type": "stream",
     "text": [
      "c:\\Users\\user\\Documents\\GitHub\\BinanceTradingBot\\stock_marker_binance.py:278: PerformanceWarning:\n",
      "\n",
      "DataFrame is highly fragmented.  This is usually the result of calling `frame.insert` many times, which has poor performance.  Consider joining all columns at once using pd.concat(axis=1) instead. To get a de-fragmented frame, use `newframe = frame.copy()`\n",
      "\n",
      "c:\\Users\\user\\Documents\\GitHub\\BinanceTradingBot\\stock_marker_binance.py:278: PerformanceWarning:\n",
      "\n",
      "DataFrame is highly fragmented.  This is usually the result of calling `frame.insert` many times, which has poor performance.  Consider joining all columns at once using pd.concat(axis=1) instead. To get a de-fragmented frame, use `newframe = frame.copy()`\n",
      "\n",
      "c:\\Users\\user\\Documents\\GitHub\\BinanceTradingBot\\stock_marker_binance.py:278: PerformanceWarning:\n",
      "\n",
      "DataFrame is highly fragmented.  This is usually the result of calling `frame.insert` many times, which has poor performance.  Consider joining all columns at once using pd.concat(axis=1) instead. To get a de-fragmented frame, use `newframe = frame.copy()`\n",
      "\n",
      "c:\\Users\\user\\Documents\\GitHub\\BinanceTradingBot\\stock_marker_binance.py:278: PerformanceWarning:\n",
      "\n",
      "DataFrame is highly fragmented.  This is usually the result of calling `frame.insert` many times, which has poor performance.  Consider joining all columns at once using pd.concat(axis=1) instead. To get a de-fragmented frame, use `newframe = frame.copy()`\n",
      "\n",
      "c:\\Users\\user\\Documents\\GitHub\\BinanceTradingBot\\stock_marker_binance.py:278: PerformanceWarning:\n",
      "\n",
      "DataFrame is highly fragmented.  This is usually the result of calling `frame.insert` many times, which has poor performance.  Consider joining all columns at once using pd.concat(axis=1) instead. To get a de-fragmented frame, use `newframe = frame.copy()`\n",
      "\n",
      "c:\\Users\\user\\Documents\\GitHub\\BinanceTradingBot\\stock_marker_binance.py:278: PerformanceWarning:\n",
      "\n",
      "DataFrame is highly fragmented.  This is usually the result of calling `frame.insert` many times, which has poor performance.  Consider joining all columns at once using pd.concat(axis=1) instead. To get a de-fragmented frame, use `newframe = frame.copy()`\n",
      "\n",
      "c:\\Users\\user\\Documents\\GitHub\\BinanceTradingBot\\stock_marker_binance.py:278: PerformanceWarning:\n",
      "\n",
      "DataFrame is highly fragmented.  This is usually the result of calling `frame.insert` many times, which has poor performance.  Consider joining all columns at once using pd.concat(axis=1) instead. To get a de-fragmented frame, use `newframe = frame.copy()`\n",
      "\n",
      "c:\\Users\\user\\Documents\\GitHub\\BinanceTradingBot\\stock_marker_binance.py:278: PerformanceWarning:\n",
      "\n",
      "DataFrame is highly fragmented.  This is usually the result of calling `frame.insert` many times, which has poor performance.  Consider joining all columns at once using pd.concat(axis=1) instead. To get a de-fragmented frame, use `newframe = frame.copy()`\n",
      "\n",
      "c:\\Users\\user\\Documents\\GitHub\\BinanceTradingBot\\stock_marker_binance.py:278: PerformanceWarning:\n",
      "\n",
      "DataFrame is highly fragmented.  This is usually the result of calling `frame.insert` many times, which has poor performance.  Consider joining all columns at once using pd.concat(axis=1) instead. To get a de-fragmented frame, use `newframe = frame.copy()`\n",
      "\n",
      "c:\\Users\\user\\Documents\\GitHub\\BinanceTradingBot\\stock_marker_binance.py:278: PerformanceWarning:\n",
      "\n",
      "DataFrame is highly fragmented.  This is usually the result of calling `frame.insert` many times, which has poor performance.  Consider joining all columns at once using pd.concat(axis=1) instead. To get a de-fragmented frame, use `newframe = frame.copy()`\n",
      "\n",
      "c:\\Users\\user\\Documents\\GitHub\\BinanceTradingBot\\stock_marker_binance.py:278: PerformanceWarning:\n",
      "\n",
      "DataFrame is highly fragmented.  This is usually the result of calling `frame.insert` many times, which has poor performance.  Consider joining all columns at once using pd.concat(axis=1) instead. To get a de-fragmented frame, use `newframe = frame.copy()`\n",
      "\n",
      "c:\\Users\\user\\Documents\\GitHub\\BinanceTradingBot\\stock_marker_binance.py:278: PerformanceWarning:\n",
      "\n",
      "DataFrame is highly fragmented.  This is usually the result of calling `frame.insert` many times, which has poor performance.  Consider joining all columns at once using pd.concat(axis=1) instead. To get a de-fragmented frame, use `newframe = frame.copy()`\n",
      "\n",
      "c:\\Users\\user\\Documents\\GitHub\\BinanceTradingBot\\stock_marker_binance.py:278: PerformanceWarning:\n",
      "\n",
      "DataFrame is highly fragmented.  This is usually the result of calling `frame.insert` many times, which has poor performance.  Consider joining all columns at once using pd.concat(axis=1) instead. To get a de-fragmented frame, use `newframe = frame.copy()`\n",
      "\n",
      "c:\\Users\\user\\Documents\\GitHub\\BinanceTradingBot\\stock_marker_binance.py:278: PerformanceWarning:\n",
      "\n",
      "DataFrame is highly fragmented.  This is usually the result of calling `frame.insert` many times, which has poor performance.  Consider joining all columns at once using pd.concat(axis=1) instead. To get a de-fragmented frame, use `newframe = frame.copy()`\n",
      "\n",
      "c:\\Users\\user\\Documents\\GitHub\\BinanceTradingBot\\stock_marker_binance.py:278: PerformanceWarning:\n",
      "\n",
      "DataFrame is highly fragmented.  This is usually the result of calling `frame.insert` many times, which has poor performance.  Consider joining all columns at once using pd.concat(axis=1) instead. To get a de-fragmented frame, use `newframe = frame.copy()`\n",
      "\n",
      "c:\\Users\\user\\Documents\\GitHub\\BinanceTradingBot\\stock_marker_binance.py:278: PerformanceWarning:\n",
      "\n",
      "DataFrame is highly fragmented.  This is usually the result of calling `frame.insert` many times, which has poor performance.  Consider joining all columns at once using pd.concat(axis=1) instead. To get a de-fragmented frame, use `newframe = frame.copy()`\n",
      "\n"
     ]
    },
    {
     "name": "stdout",
     "output_type": "stream",
     "text": [
      "Complete marking buy sell actions\n",
      "Complete marking adjacent actions\n",
      "Complete marking hold wait actions\n"
     ]
    }
   ],
   "source": [
    "\n",
    "df_result = stock_marker_binance.std(df_result, ['close', 'quote_asset_volume', 'num_trades'])\n",
    "print(\"Complete adding STDs\")\n",
    "\n",
    "df_result = stock_marker_binance.adding_MAs(df_result, ['close', 'quote_asset_volume', 'num_trades'])\n",
    "print(\"Complete adding MAs\")\n",
    "\n",
    "\n",
    "df_result = stock_marker_binance.adding_ratio(df_result, ['close', 'quote_asset_volume', 'num_trades'], ['MA'])\n",
    "df_result = stock_marker_binance.adding_ratio(df_result, ['close'], ['STD'])\n",
    "print(\"Complete adding ratios\")\n",
    "\n",
    "df_result = stock_marker_binance.rsi(df_result, ['close',\n",
    "                                                   'quote_asset_volume', 'num_trades'\n",
    "                                                  ])\n",
    "print(\"Complete adding RSI\")\n",
    "\n",
    "df_result = stock_marker_binance.marking_buy_sell_actions(df_result)\n",
    "print(\"Complete marking buy sell actions\")\n",
    "\n",
    "df_result = stock_marker_binance.marking_adjacent_actions(df_result)\n",
    "print(\"Complete marking adjacent actions\")\n",
    "\n",
    "df_result = stock_marker_binance.marking_hold_wait_actions(df_result)\n",
    "print(\"Complete marking hold wait actions\")\n",
    "\n",
    "df_result = df_result.drop(columns=['timestamp','open', 'high', 'low' ,'close_time', 'volume',\n",
    "                                    'close',  'quote_asset_volume', 'num_trades'\n",
    "                                    ])\n",
    "df_result=df_result.dropna()\n",
    "df_result.reset_index(inplace=True, drop=True)\n",
    "# df_result = stock_marker_binance.renaming_cols(df_result, STOCK_TICKER + \"_\", ['timestamp', 'action'])"
   ]
  },
  {
   "cell_type": "code",
   "execution_count": 36,
   "metadata": {},
   "outputs": [
    {
     "data": {
      "text/html": [
       "<div>\n",
       "<style scoped>\n",
       "    .dataframe tbody tr th:only-of-type {\n",
       "        vertical-align: middle;\n",
       "    }\n",
       "\n",
       "    .dataframe tbody tr th {\n",
       "        vertical-align: top;\n",
       "    }\n",
       "\n",
       "    .dataframe thead th {\n",
       "        text-align: right;\n",
       "    }\n",
       "</style>\n",
       "<table border=\"1\" class=\"dataframe\">\n",
       "  <thead>\n",
       "    <tr style=\"text-align: right;\">\n",
       "      <th></th>\n",
       "      <th>hour_sin</th>\n",
       "      <th>hour_cos</th>\n",
       "      <th>day_sin</th>\n",
       "      <th>day_cos</th>\n",
       "      <th>mon_sin</th>\n",
       "      <th>mon_cos</th>\n",
       "      <th>weekday_sin</th>\n",
       "      <th>weekday_cos</th>\n",
       "      <th>year</th>\n",
       "      <th>STD3_close</th>\n",
       "      <th>...</th>\n",
       "      <th>RSI_192_quote_asset_volume</th>\n",
       "      <th>RSI_384_quote_asset_volume</th>\n",
       "      <th>RSI_3_num_trades</th>\n",
       "      <th>RSI_6_num_trades</th>\n",
       "      <th>RSI_12_num_trades</th>\n",
       "      <th>RSI_24_num_trades</th>\n",
       "      <th>RSI_48_num_trades</th>\n",
       "      <th>RSI_96_num_trades</th>\n",
       "      <th>RSI_192_num_trades</th>\n",
       "      <th>RSI_384_num_trades</th>\n",
       "    </tr>\n",
       "    <tr>\n",
       "      <th>action</th>\n",
       "      <th></th>\n",
       "      <th></th>\n",
       "      <th></th>\n",
       "      <th></th>\n",
       "      <th></th>\n",
       "      <th></th>\n",
       "      <th></th>\n",
       "      <th></th>\n",
       "      <th></th>\n",
       "      <th></th>\n",
       "      <th></th>\n",
       "      <th></th>\n",
       "      <th></th>\n",
       "      <th></th>\n",
       "      <th></th>\n",
       "      <th></th>\n",
       "      <th></th>\n",
       "      <th></th>\n",
       "      <th></th>\n",
       "      <th></th>\n",
       "      <th></th>\n",
       "    </tr>\n",
       "  </thead>\n",
       "  <tbody>\n",
       "    <tr>\n",
       "      <th>B</th>\n",
       "      <td>2332</td>\n",
       "      <td>2332</td>\n",
       "      <td>2332</td>\n",
       "      <td>2332</td>\n",
       "      <td>2332</td>\n",
       "      <td>2332</td>\n",
       "      <td>2332</td>\n",
       "      <td>2332</td>\n",
       "      <td>2332</td>\n",
       "      <td>2332</td>\n",
       "      <td>...</td>\n",
       "      <td>2332</td>\n",
       "      <td>2332</td>\n",
       "      <td>2332</td>\n",
       "      <td>2332</td>\n",
       "      <td>2332</td>\n",
       "      <td>2332</td>\n",
       "      <td>2332</td>\n",
       "      <td>2332</td>\n",
       "      <td>2332</td>\n",
       "      <td>2332</td>\n",
       "    </tr>\n",
       "    <tr>\n",
       "      <th>H</th>\n",
       "      <td>11110</td>\n",
       "      <td>11110</td>\n",
       "      <td>11110</td>\n",
       "      <td>11110</td>\n",
       "      <td>11110</td>\n",
       "      <td>11110</td>\n",
       "      <td>11110</td>\n",
       "      <td>11110</td>\n",
       "      <td>11110</td>\n",
       "      <td>11110</td>\n",
       "      <td>...</td>\n",
       "      <td>11110</td>\n",
       "      <td>11110</td>\n",
       "      <td>11110</td>\n",
       "      <td>11110</td>\n",
       "      <td>11110</td>\n",
       "      <td>11110</td>\n",
       "      <td>11110</td>\n",
       "      <td>11110</td>\n",
       "      <td>11110</td>\n",
       "      <td>11110</td>\n",
       "    </tr>\n",
       "    <tr>\n",
       "      <th>S</th>\n",
       "      <td>2628</td>\n",
       "      <td>2628</td>\n",
       "      <td>2628</td>\n",
       "      <td>2628</td>\n",
       "      <td>2628</td>\n",
       "      <td>2628</td>\n",
       "      <td>2628</td>\n",
       "      <td>2628</td>\n",
       "      <td>2628</td>\n",
       "      <td>2628</td>\n",
       "      <td>...</td>\n",
       "      <td>2628</td>\n",
       "      <td>2628</td>\n",
       "      <td>2628</td>\n",
       "      <td>2628</td>\n",
       "      <td>2628</td>\n",
       "      <td>2628</td>\n",
       "      <td>2628</td>\n",
       "      <td>2628</td>\n",
       "      <td>2628</td>\n",
       "      <td>2628</td>\n",
       "    </tr>\n",
       "    <tr>\n",
       "      <th>W</th>\n",
       "      <td>18778</td>\n",
       "      <td>18778</td>\n",
       "      <td>18778</td>\n",
       "      <td>18778</td>\n",
       "      <td>18778</td>\n",
       "      <td>18778</td>\n",
       "      <td>18778</td>\n",
       "      <td>18778</td>\n",
       "      <td>18778</td>\n",
       "      <td>18778</td>\n",
       "      <td>...</td>\n",
       "      <td>18778</td>\n",
       "      <td>18778</td>\n",
       "      <td>18778</td>\n",
       "      <td>18778</td>\n",
       "      <td>18778</td>\n",
       "      <td>18778</td>\n",
       "      <td>18778</td>\n",
       "      <td>18778</td>\n",
       "      <td>18778</td>\n",
       "      <td>18778</td>\n",
       "    </tr>\n",
       "  </tbody>\n",
       "</table>\n",
       "<p>4 rows × 113 columns</p>\n",
       "</div>"
      ],
      "text/plain": [
       "        hour_sin  hour_cos  day_sin  day_cos  mon_sin  mon_cos  weekday_sin  \\\n",
       "action                                                                        \n",
       "B           2332      2332     2332     2332     2332     2332         2332   \n",
       "H          11110     11110    11110    11110    11110    11110        11110   \n",
       "S           2628      2628     2628     2628     2628     2628         2628   \n",
       "W          18778     18778    18778    18778    18778    18778        18778   \n",
       "\n",
       "        weekday_cos   year  STD3_close  ...  RSI_192_quote_asset_volume  \\\n",
       "action                                  ...                               \n",
       "B              2332   2332        2332  ...                        2332   \n",
       "H             11110  11110       11110  ...                       11110   \n",
       "S              2628   2628        2628  ...                        2628   \n",
       "W             18778  18778       18778  ...                       18778   \n",
       "\n",
       "        RSI_384_quote_asset_volume  RSI_3_num_trades  RSI_6_num_trades  \\\n",
       "action                                                                   \n",
       "B                             2332              2332              2332   \n",
       "H                            11110             11110             11110   \n",
       "S                             2628              2628              2628   \n",
       "W                            18778             18778             18778   \n",
       "\n",
       "        RSI_12_num_trades  RSI_24_num_trades  RSI_48_num_trades  \\\n",
       "action                                                            \n",
       "B                    2332               2332               2332   \n",
       "H                   11110              11110              11110   \n",
       "S                    2628               2628               2628   \n",
       "W                   18778              18778              18778   \n",
       "\n",
       "        RSI_96_num_trades  RSI_192_num_trades  RSI_384_num_trades  \n",
       "action                                                             \n",
       "B                    2332                2332                2332  \n",
       "H                   11110               11110               11110  \n",
       "S                    2628                2628                2628  \n",
       "W                   18778               18778               18778  \n",
       "\n",
       "[4 rows x 113 columns]"
      ]
     },
     "execution_count": 36,
     "metadata": {},
     "output_type": "execute_result"
    }
   ],
   "source": [
    "df_result.groupby('action').count()"
   ]
  },
  {
   "cell_type": "code",
   "execution_count": 37,
   "metadata": {},
   "outputs": [],
   "source": [
    "# Dropping cols\n",
    "drop_cols_list =[]\n",
    "for col in df_result.columns:\n",
    "    if col[:2]==\"MA\" or col[:3]==\"STD\":\n",
    "        drop_cols_list.append(col)\n",
    "df_result.drop(columns=drop_cols_list, inplace=True)"
   ]
  },
  {
   "cell_type": "code",
   "execution_count": 38,
   "metadata": {},
   "outputs": [
    {
     "data": {
      "text/html": [
       "<div>\n",
       "<style scoped>\n",
       "    .dataframe tbody tr th:only-of-type {\n",
       "        vertical-align: middle;\n",
       "    }\n",
       "\n",
       "    .dataframe tbody tr th {\n",
       "        vertical-align: top;\n",
       "    }\n",
       "\n",
       "    .dataframe thead th {\n",
       "        text-align: right;\n",
       "    }\n",
       "</style>\n",
       "<table border=\"1\" class=\"dataframe\">\n",
       "  <thead>\n",
       "    <tr style=\"text-align: right;\">\n",
       "      <th></th>\n",
       "      <th>hour_sin</th>\n",
       "      <th>hour_cos</th>\n",
       "      <th>day_sin</th>\n",
       "      <th>day_cos</th>\n",
       "      <th>mon_sin</th>\n",
       "      <th>mon_cos</th>\n",
       "      <th>weekday_sin</th>\n",
       "      <th>weekday_cos</th>\n",
       "      <th>year</th>\n",
       "      <th>RATIO_close_and_MA3</th>\n",
       "      <th>...</th>\n",
       "      <th>RSI_384_quote_asset_volume</th>\n",
       "      <th>RSI_3_num_trades</th>\n",
       "      <th>RSI_6_num_trades</th>\n",
       "      <th>RSI_12_num_trades</th>\n",
       "      <th>RSI_24_num_trades</th>\n",
       "      <th>RSI_48_num_trades</th>\n",
       "      <th>RSI_96_num_trades</th>\n",
       "      <th>RSI_192_num_trades</th>\n",
       "      <th>RSI_384_num_trades</th>\n",
       "      <th>action</th>\n",
       "    </tr>\n",
       "  </thead>\n",
       "  <tbody>\n",
       "    <tr>\n",
       "      <th>0</th>\n",
       "      <td>0.000000</td>\n",
       "      <td>1.000000e+00</td>\n",
       "      <td>-0.406737</td>\n",
       "      <td>-0.913545</td>\n",
       "      <td>0.5</td>\n",
       "      <td>0.866025</td>\n",
       "      <td>-0.433884</td>\n",
       "      <td>-0.900969</td>\n",
       "      <td>2020</td>\n",
       "      <td>0.998395</td>\n",
       "      <td>...</td>\n",
       "      <td>50.285725</td>\n",
       "      <td>55.233549</td>\n",
       "      <td>62.375595</td>\n",
       "      <td>44.246383</td>\n",
       "      <td>47.372031</td>\n",
       "      <td>41.390263</td>\n",
       "      <td>50.373816</td>\n",
       "      <td>50.212888</td>\n",
       "      <td>50.352010</td>\n",
       "      <td>B</td>\n",
       "    </tr>\n",
       "    <tr>\n",
       "      <th>1</th>\n",
       "      <td>0.258819</td>\n",
       "      <td>9.659258e-01</td>\n",
       "      <td>-0.406737</td>\n",
       "      <td>-0.913545</td>\n",
       "      <td>0.5</td>\n",
       "      <td>0.866025</td>\n",
       "      <td>-0.433884</td>\n",
       "      <td>-0.900969</td>\n",
       "      <td>2020</td>\n",
       "      <td>1.003510</td>\n",
       "      <td>...</td>\n",
       "      <td>50.044557</td>\n",
       "      <td>57.042254</td>\n",
       "      <td>53.231167</td>\n",
       "      <td>43.468397</td>\n",
       "      <td>40.757926</td>\n",
       "      <td>44.977155</td>\n",
       "      <td>50.329082</td>\n",
       "      <td>49.961415</td>\n",
       "      <td>50.023663</td>\n",
       "      <td>S</td>\n",
       "    </tr>\n",
       "    <tr>\n",
       "      <th>2</th>\n",
       "      <td>0.500000</td>\n",
       "      <td>8.660254e-01</td>\n",
       "      <td>-0.406737</td>\n",
       "      <td>-0.913545</td>\n",
       "      <td>0.5</td>\n",
       "      <td>0.866025</td>\n",
       "      <td>-0.433884</td>\n",
       "      <td>-0.900969</td>\n",
       "      <td>2020</td>\n",
       "      <td>1.005462</td>\n",
       "      <td>...</td>\n",
       "      <td>50.374138</td>\n",
       "      <td>71.936820</td>\n",
       "      <td>60.894401</td>\n",
       "      <td>54.737831</td>\n",
       "      <td>53.922093</td>\n",
       "      <td>51.046656</td>\n",
       "      <td>50.508626</td>\n",
       "      <td>50.688208</td>\n",
       "      <td>50.405497</td>\n",
       "      <td>W</td>\n",
       "    </tr>\n",
       "    <tr>\n",
       "      <th>3</th>\n",
       "      <td>0.707107</td>\n",
       "      <td>7.071068e-01</td>\n",
       "      <td>-0.406737</td>\n",
       "      <td>-0.913545</td>\n",
       "      <td>0.5</td>\n",
       "      <td>0.866025</td>\n",
       "      <td>-0.433884</td>\n",
       "      <td>-0.900969</td>\n",
       "      <td>2020</td>\n",
       "      <td>0.999496</td>\n",
       "      <td>...</td>\n",
       "      <td>50.454235</td>\n",
       "      <td>63.487630</td>\n",
       "      <td>59.629177</td>\n",
       "      <td>57.361954</td>\n",
       "      <td>54.634917</td>\n",
       "      <td>49.887067</td>\n",
       "      <td>50.916972</td>\n",
       "      <td>50.645574</td>\n",
       "      <td>50.478997</td>\n",
       "      <td>W</td>\n",
       "    </tr>\n",
       "    <tr>\n",
       "      <th>4</th>\n",
       "      <td>0.866025</td>\n",
       "      <td>5.000000e-01</td>\n",
       "      <td>-0.406737</td>\n",
       "      <td>-0.913545</td>\n",
       "      <td>0.5</td>\n",
       "      <td>0.866025</td>\n",
       "      <td>-0.433884</td>\n",
       "      <td>-0.900969</td>\n",
       "      <td>2020</td>\n",
       "      <td>1.005046</td>\n",
       "      <td>...</td>\n",
       "      <td>50.273035</td>\n",
       "      <td>62.021245</td>\n",
       "      <td>59.762526</td>\n",
       "      <td>46.674281</td>\n",
       "      <td>52.189555</td>\n",
       "      <td>47.257474</td>\n",
       "      <td>50.685501</td>\n",
       "      <td>50.334074</td>\n",
       "      <td>50.297334</td>\n",
       "      <td>W</td>\n",
       "    </tr>\n",
       "    <tr>\n",
       "      <th>...</th>\n",
       "      <td>...</td>\n",
       "      <td>...</td>\n",
       "      <td>...</td>\n",
       "      <td>...</td>\n",
       "      <td>...</td>\n",
       "      <td>...</td>\n",
       "      <td>...</td>\n",
       "      <td>...</td>\n",
       "      <td>...</td>\n",
       "      <td>...</td>\n",
       "      <td>...</td>\n",
       "      <td>...</td>\n",
       "      <td>...</td>\n",
       "      <td>...</td>\n",
       "      <td>...</td>\n",
       "      <td>...</td>\n",
       "      <td>...</td>\n",
       "      <td>...</td>\n",
       "      <td>...</td>\n",
       "      <td>...</td>\n",
       "      <td>...</td>\n",
       "    </tr>\n",
       "    <tr>\n",
       "      <th>34843</th>\n",
       "      <td>0.707107</td>\n",
       "      <td>7.071068e-01</td>\n",
       "      <td>0.951057</td>\n",
       "      <td>-0.309017</td>\n",
       "      <td>0.5</td>\n",
       "      <td>0.866025</td>\n",
       "      <td>0.781831</td>\n",
       "      <td>0.623490</td>\n",
       "      <td>2024</td>\n",
       "      <td>0.999538</td>\n",
       "      <td>...</td>\n",
       "      <td>49.917523</td>\n",
       "      <td>0.491800</td>\n",
       "      <td>45.842406</td>\n",
       "      <td>44.909560</td>\n",
       "      <td>46.166448</td>\n",
       "      <td>50.426042</td>\n",
       "      <td>50.048528</td>\n",
       "      <td>49.884557</td>\n",
       "      <td>49.932173</td>\n",
       "      <td>W</td>\n",
       "    </tr>\n",
       "    <tr>\n",
       "      <th>34844</th>\n",
       "      <td>0.866025</td>\n",
       "      <td>5.000000e-01</td>\n",
       "      <td>0.951057</td>\n",
       "      <td>-0.309017</td>\n",
       "      <td>0.5</td>\n",
       "      <td>0.866025</td>\n",
       "      <td>0.781831</td>\n",
       "      <td>0.623490</td>\n",
       "      <td>2024</td>\n",
       "      <td>1.001322</td>\n",
       "      <td>...</td>\n",
       "      <td>49.923296</td>\n",
       "      <td>9.573140</td>\n",
       "      <td>51.228791</td>\n",
       "      <td>46.818007</td>\n",
       "      <td>49.772624</td>\n",
       "      <td>50.584997</td>\n",
       "      <td>49.856044</td>\n",
       "      <td>49.908062</td>\n",
       "      <td>49.903714</td>\n",
       "      <td>W</td>\n",
       "    </tr>\n",
       "    <tr>\n",
       "      <th>34845</th>\n",
       "      <td>0.965926</td>\n",
       "      <td>2.588190e-01</td>\n",
       "      <td>0.951057</td>\n",
       "      <td>-0.309017</td>\n",
       "      <td>0.5</td>\n",
       "      <td>0.866025</td>\n",
       "      <td>0.781831</td>\n",
       "      <td>0.623490</td>\n",
       "      <td>2024</td>\n",
       "      <td>0.999021</td>\n",
       "      <td>...</td>\n",
       "      <td>49.684454</td>\n",
       "      <td>70.756458</td>\n",
       "      <td>46.134609</td>\n",
       "      <td>41.865474</td>\n",
       "      <td>49.885167</td>\n",
       "      <td>50.572507</td>\n",
       "      <td>50.125561</td>\n",
       "      <td>50.051341</td>\n",
       "      <td>49.662115</td>\n",
       "      <td>W</td>\n",
       "    </tr>\n",
       "    <tr>\n",
       "      <th>34846</th>\n",
       "      <td>1.000000</td>\n",
       "      <td>6.123234e-17</td>\n",
       "      <td>0.951057</td>\n",
       "      <td>-0.309017</td>\n",
       "      <td>0.5</td>\n",
       "      <td>0.866025</td>\n",
       "      <td>0.781831</td>\n",
       "      <td>0.623490</td>\n",
       "      <td>2024</td>\n",
       "      <td>0.997117</td>\n",
       "      <td>...</td>\n",
       "      <td>49.859221</td>\n",
       "      <td>71.389892</td>\n",
       "      <td>3.699243</td>\n",
       "      <td>27.179893</td>\n",
       "      <td>46.358171</td>\n",
       "      <td>50.568465</td>\n",
       "      <td>49.547127</td>\n",
       "      <td>50.109445</td>\n",
       "      <td>49.851729</td>\n",
       "      <td>W</td>\n",
       "    </tr>\n",
       "    <tr>\n",
       "      <th>34847</th>\n",
       "      <td>0.965926</td>\n",
       "      <td>-2.588190e-01</td>\n",
       "      <td>0.951057</td>\n",
       "      <td>-0.309017</td>\n",
       "      <td>0.5</td>\n",
       "      <td>0.866025</td>\n",
       "      <td>0.781831</td>\n",
       "      <td>0.623490</td>\n",
       "      <td>2024</td>\n",
       "      <td>1.000351</td>\n",
       "      <td>...</td>\n",
       "      <td>49.954691</td>\n",
       "      <td>3.279849</td>\n",
       "      <td>7.395918</td>\n",
       "      <td>30.689324</td>\n",
       "      <td>45.776484</td>\n",
       "      <td>49.810307</td>\n",
       "      <td>49.289525</td>\n",
       "      <td>49.963152</td>\n",
       "      <td>49.915666</td>\n",
       "      <td>W</td>\n",
       "    </tr>\n",
       "  </tbody>\n",
       "</table>\n",
       "<p>34848 rows × 66 columns</p>\n",
       "</div>"
      ],
      "text/plain": [
       "       hour_sin      hour_cos   day_sin   day_cos  mon_sin   mon_cos  \\\n",
       "0      0.000000  1.000000e+00 -0.406737 -0.913545      0.5  0.866025   \n",
       "1      0.258819  9.659258e-01 -0.406737 -0.913545      0.5  0.866025   \n",
       "2      0.500000  8.660254e-01 -0.406737 -0.913545      0.5  0.866025   \n",
       "3      0.707107  7.071068e-01 -0.406737 -0.913545      0.5  0.866025   \n",
       "4      0.866025  5.000000e-01 -0.406737 -0.913545      0.5  0.866025   \n",
       "...         ...           ...       ...       ...      ...       ...   \n",
       "34843  0.707107  7.071068e-01  0.951057 -0.309017      0.5  0.866025   \n",
       "34844  0.866025  5.000000e-01  0.951057 -0.309017      0.5  0.866025   \n",
       "34845  0.965926  2.588190e-01  0.951057 -0.309017      0.5  0.866025   \n",
       "34846  1.000000  6.123234e-17  0.951057 -0.309017      0.5  0.866025   \n",
       "34847  0.965926 -2.588190e-01  0.951057 -0.309017      0.5  0.866025   \n",
       "\n",
       "       weekday_sin  weekday_cos  year  RATIO_close_and_MA3  ...  \\\n",
       "0        -0.433884    -0.900969  2020             0.998395  ...   \n",
       "1        -0.433884    -0.900969  2020             1.003510  ...   \n",
       "2        -0.433884    -0.900969  2020             1.005462  ...   \n",
       "3        -0.433884    -0.900969  2020             0.999496  ...   \n",
       "4        -0.433884    -0.900969  2020             1.005046  ...   \n",
       "...            ...          ...   ...                  ...  ...   \n",
       "34843     0.781831     0.623490  2024             0.999538  ...   \n",
       "34844     0.781831     0.623490  2024             1.001322  ...   \n",
       "34845     0.781831     0.623490  2024             0.999021  ...   \n",
       "34846     0.781831     0.623490  2024             0.997117  ...   \n",
       "34847     0.781831     0.623490  2024             1.000351  ...   \n",
       "\n",
       "       RSI_384_quote_asset_volume  RSI_3_num_trades  RSI_6_num_trades  \\\n",
       "0                       50.285725         55.233549         62.375595   \n",
       "1                       50.044557         57.042254         53.231167   \n",
       "2                       50.374138         71.936820         60.894401   \n",
       "3                       50.454235         63.487630         59.629177   \n",
       "4                       50.273035         62.021245         59.762526   \n",
       "...                           ...               ...               ...   \n",
       "34843                   49.917523          0.491800         45.842406   \n",
       "34844                   49.923296          9.573140         51.228791   \n",
       "34845                   49.684454         70.756458         46.134609   \n",
       "34846                   49.859221         71.389892          3.699243   \n",
       "34847                   49.954691          3.279849          7.395918   \n",
       "\n",
       "       RSI_12_num_trades  RSI_24_num_trades  RSI_48_num_trades  \\\n",
       "0              44.246383          47.372031          41.390263   \n",
       "1              43.468397          40.757926          44.977155   \n",
       "2              54.737831          53.922093          51.046656   \n",
       "3              57.361954          54.634917          49.887067   \n",
       "4              46.674281          52.189555          47.257474   \n",
       "...                  ...                ...                ...   \n",
       "34843          44.909560          46.166448          50.426042   \n",
       "34844          46.818007          49.772624          50.584997   \n",
       "34845          41.865474          49.885167          50.572507   \n",
       "34846          27.179893          46.358171          50.568465   \n",
       "34847          30.689324          45.776484          49.810307   \n",
       "\n",
       "       RSI_96_num_trades  RSI_192_num_trades  RSI_384_num_trades  action  \n",
       "0              50.373816           50.212888           50.352010       B  \n",
       "1              50.329082           49.961415           50.023663       S  \n",
       "2              50.508626           50.688208           50.405497       W  \n",
       "3              50.916972           50.645574           50.478997       W  \n",
       "4              50.685501           50.334074           50.297334       W  \n",
       "...                  ...                 ...                 ...     ...  \n",
       "34843          50.048528           49.884557           49.932173       W  \n",
       "34844          49.856044           49.908062           49.903714       W  \n",
       "34845          50.125561           50.051341           49.662115       W  \n",
       "34846          49.547127           50.109445           49.851729       W  \n",
       "34847          49.289525           49.963152           49.915666       W  \n",
       "\n",
       "[34848 rows x 66 columns]"
      ]
     },
     "execution_count": 38,
     "metadata": {},
     "output_type": "execute_result"
    }
   ],
   "source": [
    "df_result"
   ]
  },
  {
   "cell_type": "code",
   "execution_count": 39,
   "metadata": {},
   "outputs": [
    {
     "data": {
      "text/html": [
       "<div>\n",
       "<style scoped>\n",
       "    .dataframe tbody tr th:only-of-type {\n",
       "        vertical-align: middle;\n",
       "    }\n",
       "\n",
       "    .dataframe tbody tr th {\n",
       "        vertical-align: top;\n",
       "    }\n",
       "\n",
       "    .dataframe thead th {\n",
       "        text-align: right;\n",
       "    }\n",
       "</style>\n",
       "<table border=\"1\" class=\"dataframe\">\n",
       "  <thead>\n",
       "    <tr style=\"text-align: right;\">\n",
       "      <th></th>\n",
       "      <th>hour_sin</th>\n",
       "      <th>hour_cos</th>\n",
       "      <th>day_sin</th>\n",
       "      <th>day_cos</th>\n",
       "      <th>mon_sin</th>\n",
       "      <th>mon_cos</th>\n",
       "      <th>weekday_sin</th>\n",
       "      <th>weekday_cos</th>\n",
       "      <th>year</th>\n",
       "      <th>RATIO_close_and_MA3</th>\n",
       "      <th>...</th>\n",
       "      <th>RSI_192_quote_asset_volume</th>\n",
       "      <th>RSI_384_quote_asset_volume</th>\n",
       "      <th>RSI_3_num_trades</th>\n",
       "      <th>RSI_6_num_trades</th>\n",
       "      <th>RSI_12_num_trades</th>\n",
       "      <th>RSI_24_num_trades</th>\n",
       "      <th>RSI_48_num_trades</th>\n",
       "      <th>RSI_96_num_trades</th>\n",
       "      <th>RSI_192_num_trades</th>\n",
       "      <th>RSI_384_num_trades</th>\n",
       "    </tr>\n",
       "    <tr>\n",
       "      <th>action</th>\n",
       "      <th></th>\n",
       "      <th></th>\n",
       "      <th></th>\n",
       "      <th></th>\n",
       "      <th></th>\n",
       "      <th></th>\n",
       "      <th></th>\n",
       "      <th></th>\n",
       "      <th></th>\n",
       "      <th></th>\n",
       "      <th></th>\n",
       "      <th></th>\n",
       "      <th></th>\n",
       "      <th></th>\n",
       "      <th></th>\n",
       "      <th></th>\n",
       "      <th></th>\n",
       "      <th></th>\n",
       "      <th></th>\n",
       "      <th></th>\n",
       "      <th></th>\n",
       "    </tr>\n",
       "  </thead>\n",
       "  <tbody>\n",
       "    <tr>\n",
       "      <th>B</th>\n",
       "      <td>2332</td>\n",
       "      <td>2332</td>\n",
       "      <td>2332</td>\n",
       "      <td>2332</td>\n",
       "      <td>2332</td>\n",
       "      <td>2332</td>\n",
       "      <td>2332</td>\n",
       "      <td>2332</td>\n",
       "      <td>2332</td>\n",
       "      <td>2332</td>\n",
       "      <td>...</td>\n",
       "      <td>2332</td>\n",
       "      <td>2332</td>\n",
       "      <td>2332</td>\n",
       "      <td>2332</td>\n",
       "      <td>2332</td>\n",
       "      <td>2332</td>\n",
       "      <td>2332</td>\n",
       "      <td>2332</td>\n",
       "      <td>2332</td>\n",
       "      <td>2332</td>\n",
       "    </tr>\n",
       "    <tr>\n",
       "      <th>H</th>\n",
       "      <td>11110</td>\n",
       "      <td>11110</td>\n",
       "      <td>11110</td>\n",
       "      <td>11110</td>\n",
       "      <td>11110</td>\n",
       "      <td>11110</td>\n",
       "      <td>11110</td>\n",
       "      <td>11110</td>\n",
       "      <td>11110</td>\n",
       "      <td>11110</td>\n",
       "      <td>...</td>\n",
       "      <td>11110</td>\n",
       "      <td>11110</td>\n",
       "      <td>11110</td>\n",
       "      <td>11110</td>\n",
       "      <td>11110</td>\n",
       "      <td>11110</td>\n",
       "      <td>11110</td>\n",
       "      <td>11110</td>\n",
       "      <td>11110</td>\n",
       "      <td>11110</td>\n",
       "    </tr>\n",
       "    <tr>\n",
       "      <th>S</th>\n",
       "      <td>2628</td>\n",
       "      <td>2628</td>\n",
       "      <td>2628</td>\n",
       "      <td>2628</td>\n",
       "      <td>2628</td>\n",
       "      <td>2628</td>\n",
       "      <td>2628</td>\n",
       "      <td>2628</td>\n",
       "      <td>2628</td>\n",
       "      <td>2628</td>\n",
       "      <td>...</td>\n",
       "      <td>2628</td>\n",
       "      <td>2628</td>\n",
       "      <td>2628</td>\n",
       "      <td>2628</td>\n",
       "      <td>2628</td>\n",
       "      <td>2628</td>\n",
       "      <td>2628</td>\n",
       "      <td>2628</td>\n",
       "      <td>2628</td>\n",
       "      <td>2628</td>\n",
       "    </tr>\n",
       "    <tr>\n",
       "      <th>W</th>\n",
       "      <td>18778</td>\n",
       "      <td>18778</td>\n",
       "      <td>18778</td>\n",
       "      <td>18778</td>\n",
       "      <td>18778</td>\n",
       "      <td>18778</td>\n",
       "      <td>18778</td>\n",
       "      <td>18778</td>\n",
       "      <td>18778</td>\n",
       "      <td>18778</td>\n",
       "      <td>...</td>\n",
       "      <td>18778</td>\n",
       "      <td>18778</td>\n",
       "      <td>18778</td>\n",
       "      <td>18778</td>\n",
       "      <td>18778</td>\n",
       "      <td>18778</td>\n",
       "      <td>18778</td>\n",
       "      <td>18778</td>\n",
       "      <td>18778</td>\n",
       "      <td>18778</td>\n",
       "    </tr>\n",
       "  </tbody>\n",
       "</table>\n",
       "<p>4 rows × 65 columns</p>\n",
       "</div>"
      ],
      "text/plain": [
       "        hour_sin  hour_cos  day_sin  day_cos  mon_sin  mon_cos  weekday_sin  \\\n",
       "action                                                                        \n",
       "B           2332      2332     2332     2332     2332     2332         2332   \n",
       "H          11110     11110    11110    11110    11110    11110        11110   \n",
       "S           2628      2628     2628     2628     2628     2628         2628   \n",
       "W          18778     18778    18778    18778    18778    18778        18778   \n",
       "\n",
       "        weekday_cos   year  RATIO_close_and_MA3  ...  \\\n",
       "action                                           ...   \n",
       "B              2332   2332                 2332  ...   \n",
       "H             11110  11110                11110  ...   \n",
       "S              2628   2628                 2628  ...   \n",
       "W             18778  18778                18778  ...   \n",
       "\n",
       "        RSI_192_quote_asset_volume  RSI_384_quote_asset_volume  \\\n",
       "action                                                           \n",
       "B                             2332                        2332   \n",
       "H                            11110                       11110   \n",
       "S                             2628                        2628   \n",
       "W                            18778                       18778   \n",
       "\n",
       "        RSI_3_num_trades  RSI_6_num_trades  RSI_12_num_trades  \\\n",
       "action                                                          \n",
       "B                   2332              2332               2332   \n",
       "H                  11110             11110              11110   \n",
       "S                   2628              2628               2628   \n",
       "W                  18778             18778              18778   \n",
       "\n",
       "        RSI_24_num_trades  RSI_48_num_trades  RSI_96_num_trades  \\\n",
       "action                                                            \n",
       "B                    2332               2332               2332   \n",
       "H                   11110              11110              11110   \n",
       "S                    2628               2628               2628   \n",
       "W                   18778              18778              18778   \n",
       "\n",
       "        RSI_192_num_trades  RSI_384_num_trades  \n",
       "action                                          \n",
       "B                     2332                2332  \n",
       "H                    11110               11110  \n",
       "S                     2628                2628  \n",
       "W                    18778               18778  \n",
       "\n",
       "[4 rows x 65 columns]"
      ]
     },
     "execution_count": 39,
     "metadata": {},
     "output_type": "execute_result"
    }
   ],
   "source": [
    "df_result.groupby('action').count()"
   ]
  },
  {
   "cell_type": "code",
   "execution_count": 40,
   "metadata": {},
   "outputs": [
    {
     "data": {
      "text/html": [
       "<div>\n",
       "<style scoped>\n",
       "    .dataframe tbody tr th:only-of-type {\n",
       "        vertical-align: middle;\n",
       "    }\n",
       "\n",
       "    .dataframe tbody tr th {\n",
       "        vertical-align: top;\n",
       "    }\n",
       "\n",
       "    .dataframe thead th {\n",
       "        text-align: right;\n",
       "    }\n",
       "</style>\n",
       "<table border=\"1\" class=\"dataframe\">\n",
       "  <thead>\n",
       "    <tr style=\"text-align: right;\">\n",
       "      <th></th>\n",
       "      <th>hour_sin</th>\n",
       "      <th>hour_cos</th>\n",
       "      <th>day_sin</th>\n",
       "      <th>day_cos</th>\n",
       "      <th>mon_sin</th>\n",
       "      <th>mon_cos</th>\n",
       "      <th>weekday_sin</th>\n",
       "      <th>weekday_cos</th>\n",
       "      <th>year</th>\n",
       "      <th>RATIO_close_and_MA3</th>\n",
       "      <th>...</th>\n",
       "      <th>RSI_384_quote_asset_volume</th>\n",
       "      <th>RSI_3_num_trades</th>\n",
       "      <th>RSI_6_num_trades</th>\n",
       "      <th>RSI_12_num_trades</th>\n",
       "      <th>RSI_24_num_trades</th>\n",
       "      <th>RSI_48_num_trades</th>\n",
       "      <th>RSI_96_num_trades</th>\n",
       "      <th>RSI_192_num_trades</th>\n",
       "      <th>RSI_384_num_trades</th>\n",
       "      <th>action</th>\n",
       "    </tr>\n",
       "  </thead>\n",
       "  <tbody>\n",
       "    <tr>\n",
       "      <th>0</th>\n",
       "      <td>0.000000</td>\n",
       "      <td>1.000000</td>\n",
       "      <td>-0.406737</td>\n",
       "      <td>-0.913545</td>\n",
       "      <td>0.5</td>\n",
       "      <td>0.866025</td>\n",
       "      <td>-0.433884</td>\n",
       "      <td>-0.900969</td>\n",
       "      <td>2020</td>\n",
       "      <td>0.998395</td>\n",
       "      <td>...</td>\n",
       "      <td>50.285725</td>\n",
       "      <td>55.233549</td>\n",
       "      <td>62.375595</td>\n",
       "      <td>44.246383</td>\n",
       "      <td>47.372031</td>\n",
       "      <td>41.390263</td>\n",
       "      <td>50.373816</td>\n",
       "      <td>50.212888</td>\n",
       "      <td>50.352010</td>\n",
       "      <td>B</td>\n",
       "    </tr>\n",
       "    <tr>\n",
       "      <th>1</th>\n",
       "      <td>0.258819</td>\n",
       "      <td>0.965926</td>\n",
       "      <td>-0.406737</td>\n",
       "      <td>-0.913545</td>\n",
       "      <td>0.5</td>\n",
       "      <td>0.866025</td>\n",
       "      <td>-0.433884</td>\n",
       "      <td>-0.900969</td>\n",
       "      <td>2020</td>\n",
       "      <td>1.003510</td>\n",
       "      <td>...</td>\n",
       "      <td>50.044557</td>\n",
       "      <td>57.042254</td>\n",
       "      <td>53.231167</td>\n",
       "      <td>43.468397</td>\n",
       "      <td>40.757926</td>\n",
       "      <td>44.977155</td>\n",
       "      <td>50.329082</td>\n",
       "      <td>49.961415</td>\n",
       "      <td>50.023663</td>\n",
       "      <td>S</td>\n",
       "    </tr>\n",
       "    <tr>\n",
       "      <th>2</th>\n",
       "      <td>0.500000</td>\n",
       "      <td>0.866025</td>\n",
       "      <td>-0.406737</td>\n",
       "      <td>-0.913545</td>\n",
       "      <td>0.5</td>\n",
       "      <td>0.866025</td>\n",
       "      <td>-0.433884</td>\n",
       "      <td>-0.900969</td>\n",
       "      <td>2020</td>\n",
       "      <td>1.005462</td>\n",
       "      <td>...</td>\n",
       "      <td>50.374138</td>\n",
       "      <td>71.936820</td>\n",
       "      <td>60.894401</td>\n",
       "      <td>54.737831</td>\n",
       "      <td>53.922093</td>\n",
       "      <td>51.046656</td>\n",
       "      <td>50.508626</td>\n",
       "      <td>50.688208</td>\n",
       "      <td>50.405497</td>\n",
       "      <td>W</td>\n",
       "    </tr>\n",
       "    <tr>\n",
       "      <th>3</th>\n",
       "      <td>0.707107</td>\n",
       "      <td>0.707107</td>\n",
       "      <td>-0.406737</td>\n",
       "      <td>-0.913545</td>\n",
       "      <td>0.5</td>\n",
       "      <td>0.866025</td>\n",
       "      <td>-0.433884</td>\n",
       "      <td>-0.900969</td>\n",
       "      <td>2020</td>\n",
       "      <td>0.999496</td>\n",
       "      <td>...</td>\n",
       "      <td>50.454235</td>\n",
       "      <td>63.487630</td>\n",
       "      <td>59.629177</td>\n",
       "      <td>57.361954</td>\n",
       "      <td>54.634917</td>\n",
       "      <td>49.887067</td>\n",
       "      <td>50.916972</td>\n",
       "      <td>50.645574</td>\n",
       "      <td>50.478997</td>\n",
       "      <td>W</td>\n",
       "    </tr>\n",
       "    <tr>\n",
       "      <th>4</th>\n",
       "      <td>0.866025</td>\n",
       "      <td>0.500000</td>\n",
       "      <td>-0.406737</td>\n",
       "      <td>-0.913545</td>\n",
       "      <td>0.5</td>\n",
       "      <td>0.866025</td>\n",
       "      <td>-0.433884</td>\n",
       "      <td>-0.900969</td>\n",
       "      <td>2020</td>\n",
       "      <td>1.005046</td>\n",
       "      <td>...</td>\n",
       "      <td>50.273035</td>\n",
       "      <td>62.021245</td>\n",
       "      <td>59.762526</td>\n",
       "      <td>46.674281</td>\n",
       "      <td>52.189555</td>\n",
       "      <td>47.257474</td>\n",
       "      <td>50.685501</td>\n",
       "      <td>50.334074</td>\n",
       "      <td>50.297334</td>\n",
       "      <td>W</td>\n",
       "    </tr>\n",
       "  </tbody>\n",
       "</table>\n",
       "<p>5 rows × 66 columns</p>\n",
       "</div>"
      ],
      "text/plain": [
       "   hour_sin  hour_cos   day_sin   day_cos  mon_sin   mon_cos  weekday_sin  \\\n",
       "0  0.000000  1.000000 -0.406737 -0.913545      0.5  0.866025    -0.433884   \n",
       "1  0.258819  0.965926 -0.406737 -0.913545      0.5  0.866025    -0.433884   \n",
       "2  0.500000  0.866025 -0.406737 -0.913545      0.5  0.866025    -0.433884   \n",
       "3  0.707107  0.707107 -0.406737 -0.913545      0.5  0.866025    -0.433884   \n",
       "4  0.866025  0.500000 -0.406737 -0.913545      0.5  0.866025    -0.433884   \n",
       "\n",
       "   weekday_cos  year  RATIO_close_and_MA3  ...  RSI_384_quote_asset_volume  \\\n",
       "0    -0.900969  2020             0.998395  ...                   50.285725   \n",
       "1    -0.900969  2020             1.003510  ...                   50.044557   \n",
       "2    -0.900969  2020             1.005462  ...                   50.374138   \n",
       "3    -0.900969  2020             0.999496  ...                   50.454235   \n",
       "4    -0.900969  2020             1.005046  ...                   50.273035   \n",
       "\n",
       "   RSI_3_num_trades  RSI_6_num_trades  RSI_12_num_trades  RSI_24_num_trades  \\\n",
       "0         55.233549         62.375595          44.246383          47.372031   \n",
       "1         57.042254         53.231167          43.468397          40.757926   \n",
       "2         71.936820         60.894401          54.737831          53.922093   \n",
       "3         63.487630         59.629177          57.361954          54.634917   \n",
       "4         62.021245         59.762526          46.674281          52.189555   \n",
       "\n",
       "   RSI_48_num_trades  RSI_96_num_trades  RSI_192_num_trades  \\\n",
       "0          41.390263          50.373816           50.212888   \n",
       "1          44.977155          50.329082           49.961415   \n",
       "2          51.046656          50.508626           50.688208   \n",
       "3          49.887067          50.916972           50.645574   \n",
       "4          47.257474          50.685501           50.334074   \n",
       "\n",
       "   RSI_384_num_trades  action  \n",
       "0           50.352010       B  \n",
       "1           50.023663       S  \n",
       "2           50.405497       W  \n",
       "3           50.478997       W  \n",
       "4           50.297334       W  \n",
       "\n",
       "[5 rows x 66 columns]"
      ]
     },
     "execution_count": 40,
     "metadata": {},
     "output_type": "execute_result"
    }
   ],
   "source": [
    "df_result.head()"
   ]
  },
  {
   "cell_type": "code",
   "execution_count": 41,
   "metadata": {},
   "outputs": [
    {
     "name": "stdout",
     "output_type": "stream",
     "text": [
      "         year\n",
      "action       \n",
      "B       14440\n",
      "H       14440\n",
      "S       14440\n",
      "W       14440\n",
      "        year\n",
      "action      \n",
      "B        258\n",
      "H       2148\n",
      "S        226\n",
      "W       4338\n"
     ]
    }
   ],
   "source": [
    "df_result, n_test = smote(df_result, TRAIN_FRACTION)"
   ]
  },
  {
   "cell_type": "code",
   "execution_count": 42,
   "metadata": {},
   "outputs": [
    {
     "name": "stdout",
     "output_type": "stream",
     "text": [
      "[1.10100014 0.97555462 1.10340243 0.86177974]\n",
      "['B' 'H' 'S' 'W']\n",
      "dict_keys(['B', 'H', 'S', 'W'])\n",
      "['B' 'H' 'S' 'W']\n"
     ]
    }
   ],
   "source": [
    "df_result, class_weights_dict = OneHotEncoding(df_result)"
   ]
  },
  {
   "cell_type": "code",
   "execution_count": 43,
   "metadata": {},
   "outputs": [
    {
     "data": {
      "text/plain": [
       "(64730, 69)"
      ]
     },
     "execution_count": 43,
     "metadata": {},
     "output_type": "execute_result"
    }
   ],
   "source": [
    "df_result.shape"
   ]
  },
  {
   "cell_type": "code",
   "execution_count": 44,
   "metadata": {},
   "outputs": [
    {
     "data": {
      "text/plain": [
       "B    14698.0\n",
       "H    16588.0\n",
       "S    14666.0\n",
       "W    18778.0\n",
       "dtype: float64"
      ]
     },
     "execution_count": 44,
     "metadata": {},
     "output_type": "execute_result"
    }
   ],
   "source": [
    "df_result[['B', 'H', 'S', 'W']].sum()"
   ]
  },
  {
   "cell_type": "code",
   "execution_count": 45,
   "metadata": {},
   "outputs": [
    {
     "data": {
      "text/plain": [
       "Index(['hour_sin', 'hour_cos', 'day_sin', 'day_cos', 'mon_sin', 'mon_cos',\n",
       "       'weekday_sin', 'weekday_cos', 'year', 'RATIO_close_and_MA3',\n",
       "       'RATIO_close_and_MA6', 'RATIO_close_and_MA12', 'RATIO_close_and_MA24',\n",
       "       'RATIO_close_and_MA48', 'RATIO_close_and_MA96', 'RATIO_close_and_MA192',\n",
       "       'RATIO_close_and_MA384', 'RATIO_quote_asset_volume_and_MA3',\n",
       "       'RATIO_quote_asset_volume_and_MA6', 'RATIO_quote_asset_volume_and_MA12',\n",
       "       'RATIO_quote_asset_volume_and_MA24',\n",
       "       'RATIO_quote_asset_volume_and_MA48',\n",
       "       'RATIO_quote_asset_volume_and_MA96',\n",
       "       'RATIO_quote_asset_volume_and_MA192',\n",
       "       'RATIO_quote_asset_volume_and_MA384', 'RATIO_num_trades_and_MA3',\n",
       "       'RATIO_num_trades_and_MA6', 'RATIO_num_trades_and_MA12',\n",
       "       'RATIO_num_trades_and_MA24', 'RATIO_num_trades_and_MA48',\n",
       "       'RATIO_num_trades_and_MA96', 'RATIO_num_trades_and_MA192',\n",
       "       'RATIO_num_trades_and_MA384', 'RATIO_close_and_STD3',\n",
       "       'RATIO_close_and_STD6', 'RATIO_close_and_STD12',\n",
       "       'RATIO_close_and_STD24', 'RATIO_close_and_STD48',\n",
       "       'RATIO_close_and_STD96', 'RATIO_close_and_STD192',\n",
       "       'RATIO_close_and_STD384', 'RSI_3_close', 'RSI_6_close', 'RSI_12_close',\n",
       "       'RSI_24_close', 'RSI_48_close', 'RSI_96_close', 'RSI_192_close',\n",
       "       'RSI_384_close', 'RSI_3_quote_asset_volume', 'RSI_6_quote_asset_volume',\n",
       "       'RSI_12_quote_asset_volume', 'RSI_24_quote_asset_volume',\n",
       "       'RSI_48_quote_asset_volume', 'RSI_96_quote_asset_volume',\n",
       "       'RSI_192_quote_asset_volume', 'RSI_384_quote_asset_volume',\n",
       "       'RSI_3_num_trades', 'RSI_6_num_trades', 'RSI_12_num_trades',\n",
       "       'RSI_24_num_trades', 'RSI_48_num_trades', 'RSI_96_num_trades',\n",
       "       'RSI_192_num_trades', 'RSI_384_num_trades', 'B', 'H', 'S', 'W'],\n",
       "      dtype='object')"
      ]
     },
     "execution_count": 45,
     "metadata": {},
     "output_type": "execute_result"
    }
   ],
   "source": [
    "df_result.columns"
   ]
  },
  {
   "cell_type": "code",
   "execution_count": 46,
   "metadata": {},
   "outputs": [
    {
     "name": "stdout",
     "output_type": "stream",
     "text": [
      "(57760, 65)\n",
      "(57760, 4)\n",
      "(6970, 65)\n",
      "(6970, 4)\n"
     ]
    },
    {
     "data": {
      "application/vnd.plotly.v1+json": {
       "config": {
        "plotlyServerURL": "https://plot.ly"
       },
       "data": [
        {
         "mode": "lines",
         "name": "sens_at_spec",
         "type": "scatter",
         "y": [
          0.11578947305679321,
          0.15363574028015137,
          0.20912395417690277,
          0.25656163692474365,
          0.29018351435661316,
          0.31693214178085327,
          0.338936984539032,
          0.3568386435508728,
          0.3685941696166992,
          0.3821675777435303,
          0.3924861550331116,
          0.40313366055488586,
          0.4126212000846863,
          0.4231474995613098,
          0.43514543771743774,
          0.44189751148223877,
          0.4504501521587372,
          0.45721954107284546,
          0.4616343379020691,
          0.46783241629600525,
          0.47124308347702026,
          0.4767659306526184,
          0.4793628752231598,
          0.4834314286708832,
          0.48642659187316895,
          0.4912569224834442,
          0.49376732110977173,
          0.49754154682159424,
          0.4988746643066406,
          0.5016274452209473,
          0.5043455958366394,
          0.5068039894104004,
          0.5087084770202637,
          0.5104397535324097,
          0.5126038789749146,
          0.5139196515083313,
          0.5155297517776489,
          0.5181267261505127,
          0.5189577341079712,
          0.5202735662460327,
          0.5228012204170227,
          0.5236495733261108,
          0.5260041356086731,
          0.5260387659072876,
          0.5284279584884644,
          0.5289300680160522,
          0.5305920839309692,
          0.530384361743927,
          0.5322887897491455,
          0.5337777137756348,
          0.5335006713867188,
          0.5353185534477234,
          0.5366343259811401,
          0.537794291973114,
          0.5390235185623169,
          0.5384868383407593,
          0.5399065017700195,
          0.5391620397567749,
          0.5425381064414978,
          0.5417590141296387,
          0.5432133078575134,
          0.5444425344467163,
          0.5459314584732056,
          0.5467624664306641,
          0.5479916930198669,
          0.547489583492279,
          0.5483033061027527,
          0.5495498776435852,
          0.5499826669692993,
          0.552596926689148,
          0.5521814227104187,
          0.5551766157150269,
          0.5545706152915955,
          0.5549169182777405,
          0.5559037327766418,
          0.5567693710327148,
          0.5577216148376465,
          0.5583968162536621,
          0.5590893626213074,
          0.559833824634552,
          0.5608206391334534,
          0.5613746643066406,
          0.5623441934585571,
          0.5627250671386719,
          0.563434898853302,
          0.5641447305679321,
          0.5649584531784058,
          0.5654778480529785,
          0.5662223100662231,
          0.5669494271278381,
          0.5677285194396973,
          0.5682825446128845,
          0.5691655278205872,
          0.5700657963752747,
          0.5708795189857483,
          0.5713642835617065,
          0.5720741152763367,
          0.5723857283592224
         ]
        },
        {
         "mode": "lines",
         "name": "val_sens_at_spec",
         "type": "scatter",
         "y": [
          0.28020086884498596,
          0.2835007309913635,
          0.29727402329444885,
          0.31032997369766235,
          0.3185078799724579,
          0.31865134835243225,
          0.32252511382102966,
          0.31893831491470337,
          0.3200860917568207,
          0.32855093479156494,
          0.3426111936569214,
          0.349784791469574,
          0.3674318492412567,
          0.37962695956230164,
          0.3921090364456177,
          0.4027259647846222,
          0.4208034574985504,
          0.4319942593574524,
          0.44175034761428833,
          0.45279771089553833,
          0.4576757550239563,
          0.4611190855503082,
          0.4700143337249756,
          0.47489240765571594,
          0.47173601388931274,
          0.4786226749420166,
          0.4813486337661743,
          0.48479196429252625,
          0.4898134768009186,
          0.4934002757072449,
          0.49426111578941345,
          0.49426111578941345,
          0.49655666947364807,
          0.5001434683799744,
          0.4971305727958679,
          0.4979913830757141,
          0.5012912750244141,
          0.5008608102798462,
          0.5045911073684692,
          0.504878044128418,
          0.5070301294326782,
          0.5040172338485718,
          0.5067431926727295,
          0.5097560882568359,
          0.5090387463569641,
          0.5057388544082642,
          0.507317066192627,
          0.5078909397125244,
          0.5094691514968872,
          0.5083214044570923,
          0.5078909397125244,
          0.5098995566368103,
          0.5103299617767334,
          0.5106169581413269,
          0.5130559802055359,
          0.5120516419410706,
          0.5107604265213013,
          0.5124820470809937,
          0.515925407409668,
          0.5144906640052795,
          0.515925407409668,
          0.5142037272453308,
          0.5160688757896423,
          0.5173600912094116,
          0.5129125118255615,
          0.5147776007652283,
          0.5120516419410706,
          0.517503559589386,
          0.510186493396759,
          0.5114777684211731,
          0.5107604265213013,
          0.5114777684211731,
          0.5120516419410706,
          0.5103299617767334,
          0.5119081735610962,
          0.5131994485855103,
          0.5136298537254333,
          0.5143471956253052,
          0.5093256831169128,
          0.5129125118255615,
          0.5098995566368103,
          0.5094691514968872,
          0.5098995566368103,
          0.5100430250167847,
          0.5104734301567078,
          0.5117647051811218,
          0.507317066192627,
          0.5096126198768616,
          0.5093256831169128,
          0.5097560882568359,
          0.508608341217041,
          0.5091822147369385,
          0.5117647051811218,
          0.5121951103210449,
          0.5078909397125244,
          0.5114777684211731,
          0.5116212368011475,
          0.5130559802055359
         ]
        }
       ],
       "layout": {
        "template": {
         "data": {
          "bar": [
           {
            "error_x": {
             "color": "#2a3f5f"
            },
            "error_y": {
             "color": "#2a3f5f"
            },
            "marker": {
             "line": {
              "color": "#E5ECF6",
              "width": 0.5
             },
             "pattern": {
              "fillmode": "overlay",
              "size": 10,
              "solidity": 0.2
             }
            },
            "type": "bar"
           }
          ],
          "barpolar": [
           {
            "marker": {
             "line": {
              "color": "#E5ECF6",
              "width": 0.5
             },
             "pattern": {
              "fillmode": "overlay",
              "size": 10,
              "solidity": 0.2
             }
            },
            "type": "barpolar"
           }
          ],
          "carpet": [
           {
            "aaxis": {
             "endlinecolor": "#2a3f5f",
             "gridcolor": "white",
             "linecolor": "white",
             "minorgridcolor": "white",
             "startlinecolor": "#2a3f5f"
            },
            "baxis": {
             "endlinecolor": "#2a3f5f",
             "gridcolor": "white",
             "linecolor": "white",
             "minorgridcolor": "white",
             "startlinecolor": "#2a3f5f"
            },
            "type": "carpet"
           }
          ],
          "choropleth": [
           {
            "colorbar": {
             "outlinewidth": 0,
             "ticks": ""
            },
            "type": "choropleth"
           }
          ],
          "contour": [
           {
            "colorbar": {
             "outlinewidth": 0,
             "ticks": ""
            },
            "colorscale": [
             [
              0,
              "#0d0887"
             ],
             [
              0.1111111111111111,
              "#46039f"
             ],
             [
              0.2222222222222222,
              "#7201a8"
             ],
             [
              0.3333333333333333,
              "#9c179e"
             ],
             [
              0.4444444444444444,
              "#bd3786"
             ],
             [
              0.5555555555555556,
              "#d8576b"
             ],
             [
              0.6666666666666666,
              "#ed7953"
             ],
             [
              0.7777777777777778,
              "#fb9f3a"
             ],
             [
              0.8888888888888888,
              "#fdca26"
             ],
             [
              1,
              "#f0f921"
             ]
            ],
            "type": "contour"
           }
          ],
          "contourcarpet": [
           {
            "colorbar": {
             "outlinewidth": 0,
             "ticks": ""
            },
            "type": "contourcarpet"
           }
          ],
          "heatmap": [
           {
            "colorbar": {
             "outlinewidth": 0,
             "ticks": ""
            },
            "colorscale": [
             [
              0,
              "#0d0887"
             ],
             [
              0.1111111111111111,
              "#46039f"
             ],
             [
              0.2222222222222222,
              "#7201a8"
             ],
             [
              0.3333333333333333,
              "#9c179e"
             ],
             [
              0.4444444444444444,
              "#bd3786"
             ],
             [
              0.5555555555555556,
              "#d8576b"
             ],
             [
              0.6666666666666666,
              "#ed7953"
             ],
             [
              0.7777777777777778,
              "#fb9f3a"
             ],
             [
              0.8888888888888888,
              "#fdca26"
             ],
             [
              1,
              "#f0f921"
             ]
            ],
            "type": "heatmap"
           }
          ],
          "heatmapgl": [
           {
            "colorbar": {
             "outlinewidth": 0,
             "ticks": ""
            },
            "colorscale": [
             [
              0,
              "#0d0887"
             ],
             [
              0.1111111111111111,
              "#46039f"
             ],
             [
              0.2222222222222222,
              "#7201a8"
             ],
             [
              0.3333333333333333,
              "#9c179e"
             ],
             [
              0.4444444444444444,
              "#bd3786"
             ],
             [
              0.5555555555555556,
              "#d8576b"
             ],
             [
              0.6666666666666666,
              "#ed7953"
             ],
             [
              0.7777777777777778,
              "#fb9f3a"
             ],
             [
              0.8888888888888888,
              "#fdca26"
             ],
             [
              1,
              "#f0f921"
             ]
            ],
            "type": "heatmapgl"
           }
          ],
          "histogram": [
           {
            "marker": {
             "pattern": {
              "fillmode": "overlay",
              "size": 10,
              "solidity": 0.2
             }
            },
            "type": "histogram"
           }
          ],
          "histogram2d": [
           {
            "colorbar": {
             "outlinewidth": 0,
             "ticks": ""
            },
            "colorscale": [
             [
              0,
              "#0d0887"
             ],
             [
              0.1111111111111111,
              "#46039f"
             ],
             [
              0.2222222222222222,
              "#7201a8"
             ],
             [
              0.3333333333333333,
              "#9c179e"
             ],
             [
              0.4444444444444444,
              "#bd3786"
             ],
             [
              0.5555555555555556,
              "#d8576b"
             ],
             [
              0.6666666666666666,
              "#ed7953"
             ],
             [
              0.7777777777777778,
              "#fb9f3a"
             ],
             [
              0.8888888888888888,
              "#fdca26"
             ],
             [
              1,
              "#f0f921"
             ]
            ],
            "type": "histogram2d"
           }
          ],
          "histogram2dcontour": [
           {
            "colorbar": {
             "outlinewidth": 0,
             "ticks": ""
            },
            "colorscale": [
             [
              0,
              "#0d0887"
             ],
             [
              0.1111111111111111,
              "#46039f"
             ],
             [
              0.2222222222222222,
              "#7201a8"
             ],
             [
              0.3333333333333333,
              "#9c179e"
             ],
             [
              0.4444444444444444,
              "#bd3786"
             ],
             [
              0.5555555555555556,
              "#d8576b"
             ],
             [
              0.6666666666666666,
              "#ed7953"
             ],
             [
              0.7777777777777778,
              "#fb9f3a"
             ],
             [
              0.8888888888888888,
              "#fdca26"
             ],
             [
              1,
              "#f0f921"
             ]
            ],
            "type": "histogram2dcontour"
           }
          ],
          "mesh3d": [
           {
            "colorbar": {
             "outlinewidth": 0,
             "ticks": ""
            },
            "type": "mesh3d"
           }
          ],
          "parcoords": [
           {
            "line": {
             "colorbar": {
              "outlinewidth": 0,
              "ticks": ""
             }
            },
            "type": "parcoords"
           }
          ],
          "pie": [
           {
            "automargin": true,
            "type": "pie"
           }
          ],
          "scatter": [
           {
            "fillpattern": {
             "fillmode": "overlay",
             "size": 10,
             "solidity": 0.2
            },
            "type": "scatter"
           }
          ],
          "scatter3d": [
           {
            "line": {
             "colorbar": {
              "outlinewidth": 0,
              "ticks": ""
             }
            },
            "marker": {
             "colorbar": {
              "outlinewidth": 0,
              "ticks": ""
             }
            },
            "type": "scatter3d"
           }
          ],
          "scattercarpet": [
           {
            "marker": {
             "colorbar": {
              "outlinewidth": 0,
              "ticks": ""
             }
            },
            "type": "scattercarpet"
           }
          ],
          "scattergeo": [
           {
            "marker": {
             "colorbar": {
              "outlinewidth": 0,
              "ticks": ""
             }
            },
            "type": "scattergeo"
           }
          ],
          "scattergl": [
           {
            "marker": {
             "colorbar": {
              "outlinewidth": 0,
              "ticks": ""
             }
            },
            "type": "scattergl"
           }
          ],
          "scattermapbox": [
           {
            "marker": {
             "colorbar": {
              "outlinewidth": 0,
              "ticks": ""
             }
            },
            "type": "scattermapbox"
           }
          ],
          "scatterpolar": [
           {
            "marker": {
             "colorbar": {
              "outlinewidth": 0,
              "ticks": ""
             }
            },
            "type": "scatterpolar"
           }
          ],
          "scatterpolargl": [
           {
            "marker": {
             "colorbar": {
              "outlinewidth": 0,
              "ticks": ""
             }
            },
            "type": "scatterpolargl"
           }
          ],
          "scatterternary": [
           {
            "marker": {
             "colorbar": {
              "outlinewidth": 0,
              "ticks": ""
             }
            },
            "type": "scatterternary"
           }
          ],
          "surface": [
           {
            "colorbar": {
             "outlinewidth": 0,
             "ticks": ""
            },
            "colorscale": [
             [
              0,
              "#0d0887"
             ],
             [
              0.1111111111111111,
              "#46039f"
             ],
             [
              0.2222222222222222,
              "#7201a8"
             ],
             [
              0.3333333333333333,
              "#9c179e"
             ],
             [
              0.4444444444444444,
              "#bd3786"
             ],
             [
              0.5555555555555556,
              "#d8576b"
             ],
             [
              0.6666666666666666,
              "#ed7953"
             ],
             [
              0.7777777777777778,
              "#fb9f3a"
             ],
             [
              0.8888888888888888,
              "#fdca26"
             ],
             [
              1,
              "#f0f921"
             ]
            ],
            "type": "surface"
           }
          ],
          "table": [
           {
            "cells": {
             "fill": {
              "color": "#EBF0F8"
             },
             "line": {
              "color": "white"
             }
            },
            "header": {
             "fill": {
              "color": "#C8D4E3"
             },
             "line": {
              "color": "white"
             }
            },
            "type": "table"
           }
          ]
         },
         "layout": {
          "annotationdefaults": {
           "arrowcolor": "#2a3f5f",
           "arrowhead": 0,
           "arrowwidth": 1
          },
          "autotypenumbers": "strict",
          "coloraxis": {
           "colorbar": {
            "outlinewidth": 0,
            "ticks": ""
           }
          },
          "colorscale": {
           "diverging": [
            [
             0,
             "#8e0152"
            ],
            [
             0.1,
             "#c51b7d"
            ],
            [
             0.2,
             "#de77ae"
            ],
            [
             0.3,
             "#f1b6da"
            ],
            [
             0.4,
             "#fde0ef"
            ],
            [
             0.5,
             "#f7f7f7"
            ],
            [
             0.6,
             "#e6f5d0"
            ],
            [
             0.7,
             "#b8e186"
            ],
            [
             0.8,
             "#7fbc41"
            ],
            [
             0.9,
             "#4d9221"
            ],
            [
             1,
             "#276419"
            ]
           ],
           "sequential": [
            [
             0,
             "#0d0887"
            ],
            [
             0.1111111111111111,
             "#46039f"
            ],
            [
             0.2222222222222222,
             "#7201a8"
            ],
            [
             0.3333333333333333,
             "#9c179e"
            ],
            [
             0.4444444444444444,
             "#bd3786"
            ],
            [
             0.5555555555555556,
             "#d8576b"
            ],
            [
             0.6666666666666666,
             "#ed7953"
            ],
            [
             0.7777777777777778,
             "#fb9f3a"
            ],
            [
             0.8888888888888888,
             "#fdca26"
            ],
            [
             1,
             "#f0f921"
            ]
           ],
           "sequentialminus": [
            [
             0,
             "#0d0887"
            ],
            [
             0.1111111111111111,
             "#46039f"
            ],
            [
             0.2222222222222222,
             "#7201a8"
            ],
            [
             0.3333333333333333,
             "#9c179e"
            ],
            [
             0.4444444444444444,
             "#bd3786"
            ],
            [
             0.5555555555555556,
             "#d8576b"
            ],
            [
             0.6666666666666666,
             "#ed7953"
            ],
            [
             0.7777777777777778,
             "#fb9f3a"
            ],
            [
             0.8888888888888888,
             "#fdca26"
            ],
            [
             1,
             "#f0f921"
            ]
           ]
          },
          "colorway": [
           "#636efa",
           "#EF553B",
           "#00cc96",
           "#ab63fa",
           "#FFA15A",
           "#19d3f3",
           "#FF6692",
           "#B6E880",
           "#FF97FF",
           "#FECB52"
          ],
          "font": {
           "color": "#2a3f5f"
          },
          "geo": {
           "bgcolor": "white",
           "lakecolor": "white",
           "landcolor": "#E5ECF6",
           "showlakes": true,
           "showland": true,
           "subunitcolor": "white"
          },
          "hoverlabel": {
           "align": "left"
          },
          "hovermode": "closest",
          "mapbox": {
           "style": "light"
          },
          "paper_bgcolor": "white",
          "plot_bgcolor": "#E5ECF6",
          "polar": {
           "angularaxis": {
            "gridcolor": "white",
            "linecolor": "white",
            "ticks": ""
           },
           "bgcolor": "#E5ECF6",
           "radialaxis": {
            "gridcolor": "white",
            "linecolor": "white",
            "ticks": ""
           }
          },
          "scene": {
           "xaxis": {
            "backgroundcolor": "#E5ECF6",
            "gridcolor": "white",
            "gridwidth": 2,
            "linecolor": "white",
            "showbackground": true,
            "ticks": "",
            "zerolinecolor": "white"
           },
           "yaxis": {
            "backgroundcolor": "#E5ECF6",
            "gridcolor": "white",
            "gridwidth": 2,
            "linecolor": "white",
            "showbackground": true,
            "ticks": "",
            "zerolinecolor": "white"
           },
           "zaxis": {
            "backgroundcolor": "#E5ECF6",
            "gridcolor": "white",
            "gridwidth": 2,
            "linecolor": "white",
            "showbackground": true,
            "ticks": "",
            "zerolinecolor": "white"
           }
          },
          "shapedefaults": {
           "line": {
            "color": "#2a3f5f"
           }
          },
          "ternary": {
           "aaxis": {
            "gridcolor": "white",
            "linecolor": "white",
            "ticks": ""
           },
           "baxis": {
            "gridcolor": "white",
            "linecolor": "white",
            "ticks": ""
           },
           "bgcolor": "#E5ECF6",
           "caxis": {
            "gridcolor": "white",
            "linecolor": "white",
            "ticks": ""
           }
          },
          "title": {
           "x": 0.05
          },
          "xaxis": {
           "automargin": true,
           "gridcolor": "white",
           "linecolor": "white",
           "ticks": "",
           "title": {
            "standoff": 15
           },
           "zerolinecolor": "white",
           "zerolinewidth": 2
          },
          "yaxis": {
           "automargin": true,
           "gridcolor": "white",
           "linecolor": "white",
           "ticks": "",
           "title": {
            "standoff": 15
           },
           "zerolinecolor": "white",
           "zerolinewidth": 2
          }
         }
        }
       }
      }
     },
     "metadata": {},
     "output_type": "display_data"
    },
    {
     "data": {
      "application/vnd.plotly.v1+json": {
       "config": {
        "plotlyServerURL": "https://plot.ly"
       },
       "data": [
        {
         "mode": "lines",
         "name": "AUC",
         "type": "scatter",
         "y": [
          0.259731650352478,
          0.30717432498931885,
          0.3581874966621399,
          0.4028671085834503,
          0.4380601644515991,
          0.4649442434310913,
          0.4849827289581299,
          0.500598669052124,
          0.5129678845405579,
          0.5235848426818848,
          0.5326650738716125,
          0.5407136678695679,
          0.5480985641479492,
          0.5547614693641663,
          0.5607214570045471,
          0.5661997199058533,
          0.5711069703102112,
          0.5755531191825867,
          0.5796357989311218,
          0.5833778381347656,
          0.5867680907249451,
          0.5899414420127869,
          0.5927674770355225,
          0.5954844355583191,
          0.5979006886482239,
          0.600164532661438,
          0.6022513508796692,
          0.6042152643203735,
          0.606192409992218,
          0.6080198884010315,
          0.6097138524055481,
          0.6113073229789734,
          0.6129187345504761,
          0.6144060492515564,
          0.6158767938613892,
          0.6172186136245728,
          0.6185735464096069,
          0.6198614835739136,
          0.621084988117218,
          0.622279942035675,
          0.6233868598937988,
          0.6245177984237671,
          0.6256253123283386,
          0.6267080903053284,
          0.6276763677597046,
          0.6286651492118835,
          0.6296495795249939,
          0.6305954456329346,
          0.6315749883651733,
          0.6323903203010559,
          0.633307158946991,
          0.634195864200592,
          0.6350206732749939,
          0.6358577609062195,
          0.6366530060768127,
          0.6374196410179138,
          0.6382073760032654,
          0.6390214562416077,
          0.6397268176078796,
          0.6404868364334106,
          0.6412280201911926,
          0.6419840455055237,
          0.6426549553871155,
          0.6433419585227966,
          0.6440240740776062,
          0.6446846723556519,
          0.6453319191932678,
          0.6459890007972717,
          0.6465786695480347,
          0.647271454334259,
          0.6478636860847473,
          0.6484538912773132,
          0.6490731239318848,
          0.6496416330337524,
          0.6503049731254578,
          0.6508200168609619,
          0.6513965725898743,
          0.6519520878791809,
          0.6524826884269714,
          0.6530167460441589,
          0.6536379456520081,
          0.6541168093681335,
          0.6546137928962708,
          0.6551511883735657,
          0.6556392312049866,
          0.6561608910560608,
          0.6566582322120667,
          0.6571406722068787,
          0.6576452851295471,
          0.6581544280052185,
          0.6586105823516846,
          0.659094512462616,
          0.6595989465713501,
          0.6600508093833923,
          0.6604697108268738,
          0.6609348654747009,
          0.661385178565979,
          0.6618512868881226
         ]
        },
        {
         "mode": "lines",
         "name": "val_AUC",
         "type": "scatter",
         "y": [
          0.39695680141448975,
          0.4133632481098175,
          0.426811158657074,
          0.4386141896247864,
          0.4484042227268219,
          0.45514777302742004,
          0.45918017625808716,
          0.4634428918361664,
          0.46729961037635803,
          0.4740901589393616,
          0.4821036458015442,
          0.4901704788208008,
          0.4981292188167572,
          0.5065627098083496,
          0.5146355628967285,
          0.5229910612106323,
          0.5310919284820557,
          0.5379467010498047,
          0.5453230142593384,
          0.5495291352272034,
          0.5533677339553833,
          0.5562676191329956,
          0.5597637295722961,
          0.5633718371391296,
          0.5652490258216858,
          0.5684652924537659,
          0.5698550939559937,
          0.5720855593681335,
          0.5745030641555786,
          0.5755414962768555,
          0.577257513999939,
          0.5778765678405762,
          0.5780062675476074,
          0.5787476301193237,
          0.5780529379844666,
          0.5780398845672607,
          0.5799475908279419,
          0.5797153115272522,
          0.5814722180366516,
          0.5819451808929443,
          0.5815997123718262,
          0.5804176330566406,
          0.5812128782272339,
          0.5828709602355957,
          0.5823206901550293,
          0.5813170671463013,
          0.5816665887832642,
          0.5814365148544312,
          0.5810182690620422,
          0.58107590675354,
          0.5807321667671204,
          0.5806359052658081,
          0.5817475318908691,
          0.5803666710853577,
          0.5817734599113464,
          0.581412672996521,
          0.5817999243736267,
          0.5824959874153137,
          0.5836079716682434,
          0.583060085773468,
          0.5827215909957886,
          0.5816162824630737,
          0.581601619720459,
          0.5837570428848267,
          0.5826062560081482,
          0.5823562741279602,
          0.5818426012992859,
          0.5838404893875122,
          0.5809905529022217,
          0.5812366008758545,
          0.5808002948760986,
          0.580520749092102,
          0.5811609625816345,
          0.5811148285865784,
          0.5817998051643372,
          0.5818619728088379,
          0.5816609859466553,
          0.581805408000946,
          0.579675555229187,
          0.5812150835990906,
          0.5805185437202454,
          0.5802856683731079,
          0.5800086259841919,
          0.5797126889228821,
          0.5796934366226196,
          0.5802698135375977,
          0.5791275501251221,
          0.5803725123405457,
          0.5805357694625854,
          0.5807974338531494,
          0.5789705514907837,
          0.5789754390716553,
          0.5799358487129211,
          0.580674946308136,
          0.5782766342163086,
          0.5799930095672607,
          0.5796708464622498,
          0.5809882879257202
         ]
        }
       ],
       "layout": {
        "template": {
         "data": {
          "bar": [
           {
            "error_x": {
             "color": "#2a3f5f"
            },
            "error_y": {
             "color": "#2a3f5f"
            },
            "marker": {
             "line": {
              "color": "#E5ECF6",
              "width": 0.5
             },
             "pattern": {
              "fillmode": "overlay",
              "size": 10,
              "solidity": 0.2
             }
            },
            "type": "bar"
           }
          ],
          "barpolar": [
           {
            "marker": {
             "line": {
              "color": "#E5ECF6",
              "width": 0.5
             },
             "pattern": {
              "fillmode": "overlay",
              "size": 10,
              "solidity": 0.2
             }
            },
            "type": "barpolar"
           }
          ],
          "carpet": [
           {
            "aaxis": {
             "endlinecolor": "#2a3f5f",
             "gridcolor": "white",
             "linecolor": "white",
             "minorgridcolor": "white",
             "startlinecolor": "#2a3f5f"
            },
            "baxis": {
             "endlinecolor": "#2a3f5f",
             "gridcolor": "white",
             "linecolor": "white",
             "minorgridcolor": "white",
             "startlinecolor": "#2a3f5f"
            },
            "type": "carpet"
           }
          ],
          "choropleth": [
           {
            "colorbar": {
             "outlinewidth": 0,
             "ticks": ""
            },
            "type": "choropleth"
           }
          ],
          "contour": [
           {
            "colorbar": {
             "outlinewidth": 0,
             "ticks": ""
            },
            "colorscale": [
             [
              0,
              "#0d0887"
             ],
             [
              0.1111111111111111,
              "#46039f"
             ],
             [
              0.2222222222222222,
              "#7201a8"
             ],
             [
              0.3333333333333333,
              "#9c179e"
             ],
             [
              0.4444444444444444,
              "#bd3786"
             ],
             [
              0.5555555555555556,
              "#d8576b"
             ],
             [
              0.6666666666666666,
              "#ed7953"
             ],
             [
              0.7777777777777778,
              "#fb9f3a"
             ],
             [
              0.8888888888888888,
              "#fdca26"
             ],
             [
              1,
              "#f0f921"
             ]
            ],
            "type": "contour"
           }
          ],
          "contourcarpet": [
           {
            "colorbar": {
             "outlinewidth": 0,
             "ticks": ""
            },
            "type": "contourcarpet"
           }
          ],
          "heatmap": [
           {
            "colorbar": {
             "outlinewidth": 0,
             "ticks": ""
            },
            "colorscale": [
             [
              0,
              "#0d0887"
             ],
             [
              0.1111111111111111,
              "#46039f"
             ],
             [
              0.2222222222222222,
              "#7201a8"
             ],
             [
              0.3333333333333333,
              "#9c179e"
             ],
             [
              0.4444444444444444,
              "#bd3786"
             ],
             [
              0.5555555555555556,
              "#d8576b"
             ],
             [
              0.6666666666666666,
              "#ed7953"
             ],
             [
              0.7777777777777778,
              "#fb9f3a"
             ],
             [
              0.8888888888888888,
              "#fdca26"
             ],
             [
              1,
              "#f0f921"
             ]
            ],
            "type": "heatmap"
           }
          ],
          "heatmapgl": [
           {
            "colorbar": {
             "outlinewidth": 0,
             "ticks": ""
            },
            "colorscale": [
             [
              0,
              "#0d0887"
             ],
             [
              0.1111111111111111,
              "#46039f"
             ],
             [
              0.2222222222222222,
              "#7201a8"
             ],
             [
              0.3333333333333333,
              "#9c179e"
             ],
             [
              0.4444444444444444,
              "#bd3786"
             ],
             [
              0.5555555555555556,
              "#d8576b"
             ],
             [
              0.6666666666666666,
              "#ed7953"
             ],
             [
              0.7777777777777778,
              "#fb9f3a"
             ],
             [
              0.8888888888888888,
              "#fdca26"
             ],
             [
              1,
              "#f0f921"
             ]
            ],
            "type": "heatmapgl"
           }
          ],
          "histogram": [
           {
            "marker": {
             "pattern": {
              "fillmode": "overlay",
              "size": 10,
              "solidity": 0.2
             }
            },
            "type": "histogram"
           }
          ],
          "histogram2d": [
           {
            "colorbar": {
             "outlinewidth": 0,
             "ticks": ""
            },
            "colorscale": [
             [
              0,
              "#0d0887"
             ],
             [
              0.1111111111111111,
              "#46039f"
             ],
             [
              0.2222222222222222,
              "#7201a8"
             ],
             [
              0.3333333333333333,
              "#9c179e"
             ],
             [
              0.4444444444444444,
              "#bd3786"
             ],
             [
              0.5555555555555556,
              "#d8576b"
             ],
             [
              0.6666666666666666,
              "#ed7953"
             ],
             [
              0.7777777777777778,
              "#fb9f3a"
             ],
             [
              0.8888888888888888,
              "#fdca26"
             ],
             [
              1,
              "#f0f921"
             ]
            ],
            "type": "histogram2d"
           }
          ],
          "histogram2dcontour": [
           {
            "colorbar": {
             "outlinewidth": 0,
             "ticks": ""
            },
            "colorscale": [
             [
              0,
              "#0d0887"
             ],
             [
              0.1111111111111111,
              "#46039f"
             ],
             [
              0.2222222222222222,
              "#7201a8"
             ],
             [
              0.3333333333333333,
              "#9c179e"
             ],
             [
              0.4444444444444444,
              "#bd3786"
             ],
             [
              0.5555555555555556,
              "#d8576b"
             ],
             [
              0.6666666666666666,
              "#ed7953"
             ],
             [
              0.7777777777777778,
              "#fb9f3a"
             ],
             [
              0.8888888888888888,
              "#fdca26"
             ],
             [
              1,
              "#f0f921"
             ]
            ],
            "type": "histogram2dcontour"
           }
          ],
          "mesh3d": [
           {
            "colorbar": {
             "outlinewidth": 0,
             "ticks": ""
            },
            "type": "mesh3d"
           }
          ],
          "parcoords": [
           {
            "line": {
             "colorbar": {
              "outlinewidth": 0,
              "ticks": ""
             }
            },
            "type": "parcoords"
           }
          ],
          "pie": [
           {
            "automargin": true,
            "type": "pie"
           }
          ],
          "scatter": [
           {
            "fillpattern": {
             "fillmode": "overlay",
             "size": 10,
             "solidity": 0.2
            },
            "type": "scatter"
           }
          ],
          "scatter3d": [
           {
            "line": {
             "colorbar": {
              "outlinewidth": 0,
              "ticks": ""
             }
            },
            "marker": {
             "colorbar": {
              "outlinewidth": 0,
              "ticks": ""
             }
            },
            "type": "scatter3d"
           }
          ],
          "scattercarpet": [
           {
            "marker": {
             "colorbar": {
              "outlinewidth": 0,
              "ticks": ""
             }
            },
            "type": "scattercarpet"
           }
          ],
          "scattergeo": [
           {
            "marker": {
             "colorbar": {
              "outlinewidth": 0,
              "ticks": ""
             }
            },
            "type": "scattergeo"
           }
          ],
          "scattergl": [
           {
            "marker": {
             "colorbar": {
              "outlinewidth": 0,
              "ticks": ""
             }
            },
            "type": "scattergl"
           }
          ],
          "scattermapbox": [
           {
            "marker": {
             "colorbar": {
              "outlinewidth": 0,
              "ticks": ""
             }
            },
            "type": "scattermapbox"
           }
          ],
          "scatterpolar": [
           {
            "marker": {
             "colorbar": {
              "outlinewidth": 0,
              "ticks": ""
             }
            },
            "type": "scatterpolar"
           }
          ],
          "scatterpolargl": [
           {
            "marker": {
             "colorbar": {
              "outlinewidth": 0,
              "ticks": ""
             }
            },
            "type": "scatterpolargl"
           }
          ],
          "scatterternary": [
           {
            "marker": {
             "colorbar": {
              "outlinewidth": 0,
              "ticks": ""
             }
            },
            "type": "scatterternary"
           }
          ],
          "surface": [
           {
            "colorbar": {
             "outlinewidth": 0,
             "ticks": ""
            },
            "colorscale": [
             [
              0,
              "#0d0887"
             ],
             [
              0.1111111111111111,
              "#46039f"
             ],
             [
              0.2222222222222222,
              "#7201a8"
             ],
             [
              0.3333333333333333,
              "#9c179e"
             ],
             [
              0.4444444444444444,
              "#bd3786"
             ],
             [
              0.5555555555555556,
              "#d8576b"
             ],
             [
              0.6666666666666666,
              "#ed7953"
             ],
             [
              0.7777777777777778,
              "#fb9f3a"
             ],
             [
              0.8888888888888888,
              "#fdca26"
             ],
             [
              1,
              "#f0f921"
             ]
            ],
            "type": "surface"
           }
          ],
          "table": [
           {
            "cells": {
             "fill": {
              "color": "#EBF0F8"
             },
             "line": {
              "color": "white"
             }
            },
            "header": {
             "fill": {
              "color": "#C8D4E3"
             },
             "line": {
              "color": "white"
             }
            },
            "type": "table"
           }
          ]
         },
         "layout": {
          "annotationdefaults": {
           "arrowcolor": "#2a3f5f",
           "arrowhead": 0,
           "arrowwidth": 1
          },
          "autotypenumbers": "strict",
          "coloraxis": {
           "colorbar": {
            "outlinewidth": 0,
            "ticks": ""
           }
          },
          "colorscale": {
           "diverging": [
            [
             0,
             "#8e0152"
            ],
            [
             0.1,
             "#c51b7d"
            ],
            [
             0.2,
             "#de77ae"
            ],
            [
             0.3,
             "#f1b6da"
            ],
            [
             0.4,
             "#fde0ef"
            ],
            [
             0.5,
             "#f7f7f7"
            ],
            [
             0.6,
             "#e6f5d0"
            ],
            [
             0.7,
             "#b8e186"
            ],
            [
             0.8,
             "#7fbc41"
            ],
            [
             0.9,
             "#4d9221"
            ],
            [
             1,
             "#276419"
            ]
           ],
           "sequential": [
            [
             0,
             "#0d0887"
            ],
            [
             0.1111111111111111,
             "#46039f"
            ],
            [
             0.2222222222222222,
             "#7201a8"
            ],
            [
             0.3333333333333333,
             "#9c179e"
            ],
            [
             0.4444444444444444,
             "#bd3786"
            ],
            [
             0.5555555555555556,
             "#d8576b"
            ],
            [
             0.6666666666666666,
             "#ed7953"
            ],
            [
             0.7777777777777778,
             "#fb9f3a"
            ],
            [
             0.8888888888888888,
             "#fdca26"
            ],
            [
             1,
             "#f0f921"
            ]
           ],
           "sequentialminus": [
            [
             0,
             "#0d0887"
            ],
            [
             0.1111111111111111,
             "#46039f"
            ],
            [
             0.2222222222222222,
             "#7201a8"
            ],
            [
             0.3333333333333333,
             "#9c179e"
            ],
            [
             0.4444444444444444,
             "#bd3786"
            ],
            [
             0.5555555555555556,
             "#d8576b"
            ],
            [
             0.6666666666666666,
             "#ed7953"
            ],
            [
             0.7777777777777778,
             "#fb9f3a"
            ],
            [
             0.8888888888888888,
             "#fdca26"
            ],
            [
             1,
             "#f0f921"
            ]
           ]
          },
          "colorway": [
           "#636efa",
           "#EF553B",
           "#00cc96",
           "#ab63fa",
           "#FFA15A",
           "#19d3f3",
           "#FF6692",
           "#B6E880",
           "#FF97FF",
           "#FECB52"
          ],
          "font": {
           "color": "#2a3f5f"
          },
          "geo": {
           "bgcolor": "white",
           "lakecolor": "white",
           "landcolor": "#E5ECF6",
           "showlakes": true,
           "showland": true,
           "subunitcolor": "white"
          },
          "hoverlabel": {
           "align": "left"
          },
          "hovermode": "closest",
          "mapbox": {
           "style": "light"
          },
          "paper_bgcolor": "white",
          "plot_bgcolor": "#E5ECF6",
          "polar": {
           "angularaxis": {
            "gridcolor": "white",
            "linecolor": "white",
            "ticks": ""
           },
           "bgcolor": "#E5ECF6",
           "radialaxis": {
            "gridcolor": "white",
            "linecolor": "white",
            "ticks": ""
           }
          },
          "scene": {
           "xaxis": {
            "backgroundcolor": "#E5ECF6",
            "gridcolor": "white",
            "gridwidth": 2,
            "linecolor": "white",
            "showbackground": true,
            "ticks": "",
            "zerolinecolor": "white"
           },
           "yaxis": {
            "backgroundcolor": "#E5ECF6",
            "gridcolor": "white",
            "gridwidth": 2,
            "linecolor": "white",
            "showbackground": true,
            "ticks": "",
            "zerolinecolor": "white"
           },
           "zaxis": {
            "backgroundcolor": "#E5ECF6",
            "gridcolor": "white",
            "gridwidth": 2,
            "linecolor": "white",
            "showbackground": true,
            "ticks": "",
            "zerolinecolor": "white"
           }
          },
          "shapedefaults": {
           "line": {
            "color": "#2a3f5f"
           }
          },
          "ternary": {
           "aaxis": {
            "gridcolor": "white",
            "linecolor": "white",
            "ticks": ""
           },
           "baxis": {
            "gridcolor": "white",
            "linecolor": "white",
            "ticks": ""
           },
           "bgcolor": "#E5ECF6",
           "caxis": {
            "gridcolor": "white",
            "linecolor": "white",
            "ticks": ""
           }
          },
          "title": {
           "x": 0.05
          },
          "xaxis": {
           "automargin": true,
           "gridcolor": "white",
           "linecolor": "white",
           "ticks": "",
           "title": {
            "standoff": 15
           },
           "zerolinecolor": "white",
           "zerolinewidth": 2
          },
          "yaxis": {
           "automargin": true,
           "gridcolor": "white",
           "linecolor": "white",
           "ticks": "",
           "title": {
            "standoff": 15
           },
           "zerolinecolor": "white",
           "zerolinewidth": 2
          }
         }
        }
       }
      }
     },
     "metadata": {},
     "output_type": "display_data"
    },
    {
     "name": "stdout",
     "output_type": "stream",
     "text": [
      "models/2024-03-03 01-00-55 val_PR 0.518 Dense.hd5\n",
      "0.518\n",
      "------------------------------------------------------------------------------------------------------------------------------------------------------\n"
     ]
    },
    {
     "name": "stderr",
     "output_type": "stream",
     "text": [
      "C:\\Users\\user\\AppData\\Roaming\\Python\\Python311\\site-packages\\keras\\src\\engine\\training.py:3103: UserWarning:\n",
      "\n",
      "You are saving your model as an HDF5 file via `model.save()`. This file format is considered legacy. We recommend using instead the native Keras format, e.g. `model.save('my_model.keras')`.\n",
      "\n"
     ]
    }
   ],
   "source": [
    "import importlib\n",
    "\n",
    "importlib.reload(model_design_dense_layers)\n",
    "\n",
    "max_val_PR = 0.5\n",
    "   \n",
    "x_train, y_train, x_test, y_test = get_train_test_sets(df_result, n_test)\n",
    "\n",
    "print(x_train.shape)\n",
    "print(y_train.shape)\n",
    "print(x_test.shape)\n",
    "print(y_test.shape)\n",
    "\n",
    "model, history = model_design_dense_layers.model_design(EPOCHS,  x_train, y_train, x_test, y_test, class_weights_dict)\n",
    "\n",
    "plot_model_history(history.history, ['sens_at_spec', 'val_sens_at_spec'])\n",
    "plot_model_history(history.history, ['AUC', 'val_AUC'])\n",
    "\n",
    "val_PR = round(max(history.history['val_sens_at_spec']),3)\n",
    "\n",
    "x = datetime.datetime.now()\n",
    "\n",
    "model_name = \"models/\" + x.strftime(\"%Y-%m-%d %H-%M-%S\") +\" val_PR \" + str(val_PR)  + \" Dense.hd5\"\n",
    "\n",
    "if val_PR > max_val_PR:\n",
    "    max_val_PR = val_PR\n",
    "    model.save(model_name,  save_format = 'h5')\n",
    "\n",
    "print(model_name)\n",
    "print(val_PR)\n",
    "print(150 * \"-\")\n"
   ]
  },
  {
   "cell_type": "code",
   "execution_count": 47,
   "metadata": {},
   "outputs": [],
   "source": [
    "frequency = 2500  # Set Frequency To 2500 Hertz\n",
    "duration = 2000  # Set Duration To 1000 ms == 1 second\n",
    "winsound.Beep(frequency, duration)"
   ]
  },
  {
   "cell_type": "code",
   "execution_count": 48,
   "metadata": {},
   "outputs": [
    {
     "data": {
      "text/plain": [
       "dict_keys(['loss', 'cat_cross', 'AUC', 'sens_at_spec', 'val_loss', 'val_cat_cross', 'val_AUC', 'val_sens_at_spec'])"
      ]
     },
     "execution_count": 48,
     "metadata": {},
     "output_type": "execute_result"
    }
   ],
   "source": [
    "history.history.keys()"
   ]
  },
  {
   "cell_type": "code",
   "execution_count": 49,
   "metadata": {},
   "outputs": [
    {
     "name": "stdout",
     "output_type": "stream",
     "text": [
      "Model: \"model_1\"\n",
      "_________________________________________________________________\n",
      " Layer (type)                Output Shape              Param #   \n",
      "=================================================================\n",
      " Input (InputLayer)          [(None, 65)]              0         \n",
      "                                                                 \n",
      " normalization_1 (Normaliza  (None, 65)                131       \n",
      " tion)                                                           \n",
      "                                                                 \n",
      " dense_4 (Dense)             (None, 136)               8976      \n",
      "                                                                 \n",
      " dense_5 (Dense)             (None, 136)               18632     \n",
      "                                                                 \n",
      " dense_6 (Dense)             (None, 65)                8905      \n",
      "                                                                 \n",
      " dense_7 (Dense)             (None, 16)                1056      \n",
      "                                                                 \n",
      " output (Dense)              (None, 4)                 68        \n",
      "                                                                 \n",
      "=================================================================\n",
      "Total params: 37768 (147.54 KB)\n",
      "Trainable params: 37637 (147.02 KB)\n",
      "Non-trainable params: 131 (528.00 Byte)\n",
      "_________________________________________________________________\n"
     ]
    }
   ],
   "source": [
    "model.summary()"
   ]
  },
  {
   "cell_type": "markdown",
   "metadata": {},
   "source": []
  },
  {
   "cell_type": "markdown",
   "metadata": {},
   "source": []
  },
  {
   "cell_type": "markdown",
   "metadata": {},
   "source": []
  }
 ],
 "metadata": {
  "kernelspec": {
   "display_name": "base",
   "language": "python",
   "name": "python3"
  },
  "language_info": {
   "codemirror_mode": {
    "name": "ipython",
    "version": 3
   },
   "file_extension": ".py",
   "mimetype": "text/x-python",
   "name": "python",
   "nbconvert_exporter": "python",
   "pygments_lexer": "ipython3",
   "version": "3.11.5"
  },
  "vscode": {
   "interpreter": {
    "hash": "ad2bdc8ecc057115af97d19610ffacc2b4e99fae6737bb82f5d7fb13d2f2c186"
   }
  }
 },
 "nbformat": 4,
 "nbformat_minor": 2
}
