{
 "cells": [
  {
   "cell_type": "code",
   "execution_count": 84,
   "metadata": {},
   "outputs": [],
   "source": [
    "import datetime\n",
    "import stock_marker_binance\n",
    "import model_design\n",
    "import pandas as pd\n",
    "from sklearn.utils import class_weight\n",
    "import numpy as np\n",
    "from sklearn.preprocessing import OneHotEncoder\n",
    "from imblearn.over_sampling import SMOTE\n",
    "import plotly.graph_objects as go\n",
    "import winsound\n"
   ]
  },
  {
   "cell_type": "code",
   "execution_count": 85,
   "metadata": {},
   "outputs": [],
   "source": [
    "EPOCHS =  2000\n",
    "TIME_FRAME_LIST = [2, 3, 4]\n",
    "TRAIN_FRACTION = 0.8"
   ]
  },
  {
   "cell_type": "code",
   "execution_count": 86,
   "metadata": {},
   "outputs": [],
   "source": [
    "def plot_model_history(model_history):\n",
    "\n",
    "    fig = go.Figure()\n",
    "\n",
    "    # Add traces\n",
    "    fig.add_trace(go.Scatter(y=model_history['sens_at_spec'],\n",
    "                        mode='lines',\n",
    "                        name='sens_at_spec'))\n",
    "    fig.add_trace(go.Scatter(y=model_history['val_sens_at_spec'],\n",
    "                        mode='lines',\n",
    "                        name='val_sens_at_spec'))\n",
    "\n",
    "    fig.show()"
   ]
  },
  {
   "cell_type": "code",
   "execution_count": 87,
   "metadata": {},
   "outputs": [],
   "source": [
    "def dataframe_to_tensor(df, timestep_length: int):\n",
    "    \n",
    "    '''\n",
    "    Converts a pandas dataframe to a tensor\n",
    "    \n",
    "    Input: Pandas dataframe\n",
    "            timestep_length (int) - the length of the timestep\n",
    "    Output: Tensor\n",
    "    \n",
    "    '''\n",
    "    \n",
    "    # Convert the dataframe to a numpy array\n",
    "    df = np.array(df)\n",
    "\n",
    "    n_seq = len(df) - timestep_length + 1\n",
    "    return np.array([df[i:(i+timestep_length)] for i in range(n_seq)])"
   ]
  },
  {
   "cell_type": "code",
   "execution_count": 88,
   "metadata": {},
   "outputs": [],
   "source": [
    "def smote(df, train_frac):\n",
    "    '''\n",
    "    Oversample the minority class using SMOTE prior to OHE.\n",
    "    '''\n",
    "\n",
    "    n_train = int(df.shape[0] * train_frac)\n",
    "    n_test = df.shape[0] - n_train\n",
    "\n",
    "    train_data = df.iloc[:n_train, :]\n",
    "    test_data = df.iloc[n_train:, :]\n",
    "\n",
    "    x_train = train_data.drop(columns = ['action'])\n",
    "    y_train = train_data['action']\n",
    "\n",
    "    x_test = test_data.drop(columns = ['action'])\n",
    "    y_test = test_data['action']\n",
    "\n",
    "\n",
    "    smote_inst = SMOTE(sampling_strategy='auto')\n",
    "    \n",
    "    \n",
    "    \n",
    "    x_train , y_train = smote_inst.fit_resample(x_train, y_train)\n",
    "    \n",
    "    train_data = pd.concat([x_train, y_train], axis=1)\n",
    "    test_data = pd.concat([x_test, y_test], axis=1)\n",
    "\n",
    "    df = pd.concat([train_data, test_data], axis=0)\n",
    "\n",
    "    return df, n_test"
   ]
  },
  {
   "cell_type": "code",
   "execution_count": 89,
   "metadata": {},
   "outputs": [],
   "source": [
    "def OneHotEncoding(df_result):\n",
    "    enc = OneHotEncoder()\n",
    "\n",
    "    OHE_array = enc.fit_transform(df_result[['action']]).toarray()\n",
    "\n",
    "    class_weights = class_weight.compute_class_weight(class_weight='balanced',\n",
    "                                                    classes=np.unique(df_result['action']),\n",
    "                                                    y=df_result['action'])\n",
    "\n",
    "\n",
    "\n",
    "    class_weights_dict = dict(zip(enc.categories_[0], class_weights))\n",
    "\n",
    "    print(class_weights)\n",
    "    print(class_weights_dict.keys())\n",
    "\n",
    "    \n",
    "    OHE_df = pd.DataFrame(OHE_array, columns=enc.categories_[0])\n",
    "    df_result = pd.merge(df_result, OHE_df, left_index=True, right_index=True)\n",
    "    df_result.drop(columns=['action'], inplace=True)\n",
    "    return df_result, class_weights_dict"
   ]
  },
  {
   "cell_type": "code",
   "execution_count": 90,
   "metadata": {},
   "outputs": [],
   "source": [
    "def get_train_test_sets(data, train_frac):\n",
    "    \n",
    "    n_train = int(data.shape[0] * train_frac)\n",
    "    \n",
    "    x_train = data[:n_train, :, :-4]\n",
    "    y_train = data[:n_train, -1:, -4:].reshape(-1,4)\n",
    "    x_test = data[n_train:, :, :-4]\n",
    "    y_test = data[n_train:, -1:, -4:].reshape(-1,4)\n",
    "    return x_train, y_train, x_test, y_test"
   ]
  },
  {
   "cell_type": "code",
   "execution_count": 91,
   "metadata": {},
   "outputs": [],
   "source": [
    "# import tensorflow as tf\n",
    "# physical_devices = tf.config.list_physical_devices('GPU')\n",
    "# tf.config.experimental.set_memory_growth(physical_devices[0], enable=True)"
   ]
  },
  {
   "cell_type": "code",
   "execution_count": 92,
   "metadata": {},
   "outputs": [],
   "source": [
    "df = pd.read_csv('ETH_1h_history as of 09-01-2024.csv', index_col=0)"
   ]
  },
  {
   "cell_type": "code",
   "execution_count": 93,
   "metadata": {},
   "outputs": [
    {
     "data": {
      "text/html": [
       "<div>\n",
       "<style scoped>\n",
       "    .dataframe tbody tr th:only-of-type {\n",
       "        vertical-align: middle;\n",
       "    }\n",
       "\n",
       "    .dataframe tbody tr th {\n",
       "        vertical-align: top;\n",
       "    }\n",
       "\n",
       "    .dataframe thead th {\n",
       "        text-align: right;\n",
       "    }\n",
       "</style>\n",
       "<table border=\"1\" class=\"dataframe\">\n",
       "  <thead>\n",
       "    <tr style=\"text-align: right;\">\n",
       "      <th></th>\n",
       "      <th>timestamp</th>\n",
       "      <th>open</th>\n",
       "      <th>high</th>\n",
       "      <th>low</th>\n",
       "      <th>close</th>\n",
       "      <th>volume</th>\n",
       "      <th>close_time</th>\n",
       "      <th>quote_asset_volume</th>\n",
       "      <th>num_trades</th>\n",
       "    </tr>\n",
       "  </thead>\n",
       "  <tbody>\n",
       "    <tr>\n",
       "      <th>0</th>\n",
       "      <td>01/01/2020 00:00</td>\n",
       "      <td>129.16</td>\n",
       "      <td>129.19</td>\n",
       "      <td>128.68</td>\n",
       "      <td>128.87</td>\n",
       "      <td>7769.17336</td>\n",
       "      <td>1.577840e+12</td>\n",
       "      <td>1.000930e+06</td>\n",
       "      <td>2504</td>\n",
       "    </tr>\n",
       "    <tr>\n",
       "      <th>1</th>\n",
       "      <td>01/01/2020 01:00</td>\n",
       "      <td>128.87</td>\n",
       "      <td>130.65</td>\n",
       "      <td>128.78</td>\n",
       "      <td>130.64</td>\n",
       "      <td>11344.65516</td>\n",
       "      <td>1.577840e+12</td>\n",
       "      <td>1.474278e+06</td>\n",
       "      <td>4885</td>\n",
       "    </tr>\n",
       "    <tr>\n",
       "      <th>2</th>\n",
       "      <td>01/01/2020 02:00</td>\n",
       "      <td>130.63</td>\n",
       "      <td>130.98</td>\n",
       "      <td>130.35</td>\n",
       "      <td>130.85</td>\n",
       "      <td>7603.35623</td>\n",
       "      <td>1.577850e+12</td>\n",
       "      <td>9.940256e+05</td>\n",
       "      <td>3046</td>\n",
       "    </tr>\n",
       "    <tr>\n",
       "      <th>3</th>\n",
       "      <td>01/01/2020 03:00</td>\n",
       "      <td>130.85</td>\n",
       "      <td>130.89</td>\n",
       "      <td>129.94</td>\n",
       "      <td>130.20</td>\n",
       "      <td>4968.55433</td>\n",
       "      <td>1.577850e+12</td>\n",
       "      <td>6.473610e+05</td>\n",
       "      <td>2818</td>\n",
       "    </tr>\n",
       "    <tr>\n",
       "      <th>4</th>\n",
       "      <td>01/01/2020 04:00</td>\n",
       "      <td>130.21</td>\n",
       "      <td>130.74</td>\n",
       "      <td>130.15</td>\n",
       "      <td>130.20</td>\n",
       "      <td>3397.90747</td>\n",
       "      <td>1.577850e+12</td>\n",
       "      <td>4.430067e+05</td>\n",
       "      <td>2264</td>\n",
       "    </tr>\n",
       "  </tbody>\n",
       "</table>\n",
       "</div>"
      ],
      "text/plain": [
       "          timestamp    open    high     low   close       volume  \\\n",
       "0  01/01/2020 00:00  129.16  129.19  128.68  128.87   7769.17336   \n",
       "1  01/01/2020 01:00  128.87  130.65  128.78  130.64  11344.65516   \n",
       "2  01/01/2020 02:00  130.63  130.98  130.35  130.85   7603.35623   \n",
       "3  01/01/2020 03:00  130.85  130.89  129.94  130.20   4968.55433   \n",
       "4  01/01/2020 04:00  130.21  130.74  130.15  130.20   3397.90747   \n",
       "\n",
       "     close_time  quote_asset_volume  num_trades  \n",
       "0  1.577840e+12        1.000930e+06        2504  \n",
       "1  1.577840e+12        1.474278e+06        4885  \n",
       "2  1.577850e+12        9.940256e+05        3046  \n",
       "3  1.577850e+12        6.473610e+05        2818  \n",
       "4  1.577850e+12        4.430067e+05        2264  "
      ]
     },
     "execution_count": 93,
     "metadata": {},
     "output_type": "execute_result"
    }
   ],
   "source": [
    "df.head()"
   ]
  },
  {
   "cell_type": "code",
   "execution_count": 94,
   "metadata": {},
   "outputs": [
    {
     "data": {
      "text/plain": [
       "timestamp              object\n",
       "open                  float64\n",
       "high                  float64\n",
       "low                   float64\n",
       "close                 float64\n",
       "volume                float64\n",
       "close_time            float64\n",
       "quote_asset_volume    float64\n",
       "num_trades              int64\n",
       "dtype: object"
      ]
     },
     "execution_count": 94,
     "metadata": {},
     "output_type": "execute_result"
    }
   ],
   "source": [
    "df.dtypes"
   ]
  },
  {
   "cell_type": "code",
   "execution_count": 95,
   "metadata": {},
   "outputs": [],
   "source": [
    "df_result = stock_marker_binance.sorting_timestamp(df)\n",
    "\n",
    "df_result['hour_sin'] = np.sin(df_result['timestamp'].dt.hour / 24 * 2 * np.pi)\n",
    "df_result['hour_cos'] = np.cos(df_result['timestamp'].dt.hour / 24 * 2 * np.pi)\n",
    "\n",
    "df_result['day_sin'] = np.sin(df_result['timestamp'].dt.day / 30 * 2 * np.pi)\n",
    "df_result['day_cos'] = np.cos(df_result['timestamp'].dt.day / 30 * 2 * np.pi)\n",
    "\n",
    "df_result['mon_sin'] = np.sin(df_result['timestamp'].dt.month / 12 * 2 * np.pi)\n",
    "df_result['mon_cos'] = np.cos(df_result['timestamp'].dt.month / 12 * 2 * np.pi)\n",
    "\n",
    "df_result['weekday_sin'] = np.sin(df_result['timestamp'].dt.weekday / 7 * 2 * np.pi)\n",
    "df_result['weekday_cos'] = np.cos(df_result['timestamp'].dt.weekday / 7 * 2 * np.pi)\n",
    "\n",
    "df_result['year'] = df_result['timestamp'].dt.year\n"
   ]
  },
  {
   "cell_type": "code",
   "execution_count": 96,
   "metadata": {},
   "outputs": [
    {
     "data": {
      "text/html": [
       "<div>\n",
       "<style scoped>\n",
       "    .dataframe tbody tr th:only-of-type {\n",
       "        vertical-align: middle;\n",
       "    }\n",
       "\n",
       "    .dataframe tbody tr th {\n",
       "        vertical-align: top;\n",
       "    }\n",
       "\n",
       "    .dataframe thead th {\n",
       "        text-align: right;\n",
       "    }\n",
       "</style>\n",
       "<table border=\"1\" class=\"dataframe\">\n",
       "  <thead>\n",
       "    <tr style=\"text-align: right;\">\n",
       "      <th></th>\n",
       "      <th>timestamp</th>\n",
       "      <th>open</th>\n",
       "      <th>high</th>\n",
       "      <th>low</th>\n",
       "      <th>close</th>\n",
       "      <th>volume</th>\n",
       "      <th>close_time</th>\n",
       "      <th>quote_asset_volume</th>\n",
       "      <th>num_trades</th>\n",
       "      <th>hour_sin</th>\n",
       "      <th>hour_cos</th>\n",
       "      <th>day_sin</th>\n",
       "      <th>day_cos</th>\n",
       "      <th>mon_sin</th>\n",
       "      <th>mon_cos</th>\n",
       "      <th>weekday_sin</th>\n",
       "      <th>weekday_cos</th>\n",
       "      <th>year</th>\n",
       "    </tr>\n",
       "  </thead>\n",
       "  <tbody>\n",
       "    <tr>\n",
       "      <th>0</th>\n",
       "      <td>2020-01-01 00:00:00</td>\n",
       "      <td>129.16</td>\n",
       "      <td>129.19</td>\n",
       "      <td>128.68</td>\n",
       "      <td>128.87</td>\n",
       "      <td>7769.17336</td>\n",
       "      <td>1.577840e+12</td>\n",
       "      <td>1.000930e+06</td>\n",
       "      <td>2504</td>\n",
       "      <td>0.000000</td>\n",
       "      <td>1.000000e+00</td>\n",
       "      <td>0.207912</td>\n",
       "      <td>0.978148</td>\n",
       "      <td>0.5</td>\n",
       "      <td>0.866025</td>\n",
       "      <td>0.974928</td>\n",
       "      <td>-0.222521</td>\n",
       "      <td>2020</td>\n",
       "    </tr>\n",
       "    <tr>\n",
       "      <th>1</th>\n",
       "      <td>2020-01-01 01:00:00</td>\n",
       "      <td>128.87</td>\n",
       "      <td>130.65</td>\n",
       "      <td>128.78</td>\n",
       "      <td>130.64</td>\n",
       "      <td>11344.65516</td>\n",
       "      <td>1.577840e+12</td>\n",
       "      <td>1.474278e+06</td>\n",
       "      <td>4885</td>\n",
       "      <td>0.258819</td>\n",
       "      <td>9.659258e-01</td>\n",
       "      <td>0.207912</td>\n",
       "      <td>0.978148</td>\n",
       "      <td>0.5</td>\n",
       "      <td>0.866025</td>\n",
       "      <td>0.974928</td>\n",
       "      <td>-0.222521</td>\n",
       "      <td>2020</td>\n",
       "    </tr>\n",
       "    <tr>\n",
       "      <th>2</th>\n",
       "      <td>2020-01-01 02:00:00</td>\n",
       "      <td>130.63</td>\n",
       "      <td>130.98</td>\n",
       "      <td>130.35</td>\n",
       "      <td>130.85</td>\n",
       "      <td>7603.35623</td>\n",
       "      <td>1.577850e+12</td>\n",
       "      <td>9.940256e+05</td>\n",
       "      <td>3046</td>\n",
       "      <td>0.500000</td>\n",
       "      <td>8.660254e-01</td>\n",
       "      <td>0.207912</td>\n",
       "      <td>0.978148</td>\n",
       "      <td>0.5</td>\n",
       "      <td>0.866025</td>\n",
       "      <td>0.974928</td>\n",
       "      <td>-0.222521</td>\n",
       "      <td>2020</td>\n",
       "    </tr>\n",
       "    <tr>\n",
       "      <th>3</th>\n",
       "      <td>2020-01-01 03:00:00</td>\n",
       "      <td>130.85</td>\n",
       "      <td>130.89</td>\n",
       "      <td>129.94</td>\n",
       "      <td>130.20</td>\n",
       "      <td>4968.55433</td>\n",
       "      <td>1.577850e+12</td>\n",
       "      <td>6.473610e+05</td>\n",
       "      <td>2818</td>\n",
       "      <td>0.707107</td>\n",
       "      <td>7.071068e-01</td>\n",
       "      <td>0.207912</td>\n",
       "      <td>0.978148</td>\n",
       "      <td>0.5</td>\n",
       "      <td>0.866025</td>\n",
       "      <td>0.974928</td>\n",
       "      <td>-0.222521</td>\n",
       "      <td>2020</td>\n",
       "    </tr>\n",
       "    <tr>\n",
       "      <th>4</th>\n",
       "      <td>2020-01-01 04:00:00</td>\n",
       "      <td>130.21</td>\n",
       "      <td>130.74</td>\n",
       "      <td>130.15</td>\n",
       "      <td>130.20</td>\n",
       "      <td>3397.90747</td>\n",
       "      <td>1.577850e+12</td>\n",
       "      <td>4.430067e+05</td>\n",
       "      <td>2264</td>\n",
       "      <td>0.866025</td>\n",
       "      <td>5.000000e-01</td>\n",
       "      <td>0.207912</td>\n",
       "      <td>0.978148</td>\n",
       "      <td>0.5</td>\n",
       "      <td>0.866025</td>\n",
       "      <td>0.974928</td>\n",
       "      <td>-0.222521</td>\n",
       "      <td>2020</td>\n",
       "    </tr>\n",
       "    <tr>\n",
       "      <th>5</th>\n",
       "      <td>2020-01-01 05:00:00</td>\n",
       "      <td>130.20</td>\n",
       "      <td>130.47</td>\n",
       "      <td>130.11</td>\n",
       "      <td>130.30</td>\n",
       "      <td>4243.60640</td>\n",
       "      <td>1.577860e+12</td>\n",
       "      <td>5.529727e+05</td>\n",
       "      <td>2426</td>\n",
       "      <td>0.965926</td>\n",
       "      <td>2.588190e-01</td>\n",
       "      <td>0.207912</td>\n",
       "      <td>0.978148</td>\n",
       "      <td>0.5</td>\n",
       "      <td>0.866025</td>\n",
       "      <td>0.974928</td>\n",
       "      <td>-0.222521</td>\n",
       "      <td>2020</td>\n",
       "    </tr>\n",
       "    <tr>\n",
       "      <th>6</th>\n",
       "      <td>2020-01-01 06:00:00</td>\n",
       "      <td>130.31</td>\n",
       "      <td>130.75</td>\n",
       "      <td>130.26</td>\n",
       "      <td>130.44</td>\n",
       "      <td>3668.90166</td>\n",
       "      <td>1.577860e+12</td>\n",
       "      <td>4.789442e+05</td>\n",
       "      <td>2347</td>\n",
       "      <td>1.000000</td>\n",
       "      <td>6.123234e-17</td>\n",
       "      <td>0.207912</td>\n",
       "      <td>0.978148</td>\n",
       "      <td>0.5</td>\n",
       "      <td>0.866025</td>\n",
       "      <td>0.974928</td>\n",
       "      <td>-0.222521</td>\n",
       "      <td>2020</td>\n",
       "    </tr>\n",
       "    <tr>\n",
       "      <th>7</th>\n",
       "      <td>2020-01-01 07:00:00</td>\n",
       "      <td>130.47</td>\n",
       "      <td>130.71</td>\n",
       "      <td>130.14</td>\n",
       "      <td>130.24</td>\n",
       "      <td>4147.17413</td>\n",
       "      <td>1.577870e+12</td>\n",
       "      <td>5.407707e+05</td>\n",
       "      <td>2568</td>\n",
       "      <td>0.965926</td>\n",
       "      <td>-2.588190e-01</td>\n",
       "      <td>0.207912</td>\n",
       "      <td>0.978148</td>\n",
       "      <td>0.5</td>\n",
       "      <td>0.866025</td>\n",
       "      <td>0.974928</td>\n",
       "      <td>-0.222521</td>\n",
       "      <td>2020</td>\n",
       "    </tr>\n",
       "    <tr>\n",
       "      <th>8</th>\n",
       "      <td>2020-01-01 08:00:00</td>\n",
       "      <td>130.24</td>\n",
       "      <td>130.41</td>\n",
       "      <td>129.87</td>\n",
       "      <td>130.36</td>\n",
       "      <td>7541.44497</td>\n",
       "      <td>1.577870e+12</td>\n",
       "      <td>9.808940e+05</td>\n",
       "      <td>3039</td>\n",
       "      <td>0.866025</td>\n",
       "      <td>-5.000000e-01</td>\n",
       "      <td>0.207912</td>\n",
       "      <td>0.978148</td>\n",
       "      <td>0.5</td>\n",
       "      <td>0.866025</td>\n",
       "      <td>0.974928</td>\n",
       "      <td>-0.222521</td>\n",
       "      <td>2020</td>\n",
       "    </tr>\n",
       "    <tr>\n",
       "      <th>9</th>\n",
       "      <td>2020-01-01 09:00:00</td>\n",
       "      <td>130.40</td>\n",
       "      <td>130.62</td>\n",
       "      <td>130.13</td>\n",
       "      <td>130.17</td>\n",
       "      <td>4808.20496</td>\n",
       "      <td>1.577870e+12</td>\n",
       "      <td>6.268190e+05</td>\n",
       "      <td>2696</td>\n",
       "      <td>0.707107</td>\n",
       "      <td>-7.071068e-01</td>\n",
       "      <td>0.207912</td>\n",
       "      <td>0.978148</td>\n",
       "      <td>0.5</td>\n",
       "      <td>0.866025</td>\n",
       "      <td>0.974928</td>\n",
       "      <td>-0.222521</td>\n",
       "      <td>2020</td>\n",
       "    </tr>\n",
       "  </tbody>\n",
       "</table>\n",
       "</div>"
      ],
      "text/plain": [
       "            timestamp    open    high     low   close       volume  \\\n",
       "0 2020-01-01 00:00:00  129.16  129.19  128.68  128.87   7769.17336   \n",
       "1 2020-01-01 01:00:00  128.87  130.65  128.78  130.64  11344.65516   \n",
       "2 2020-01-01 02:00:00  130.63  130.98  130.35  130.85   7603.35623   \n",
       "3 2020-01-01 03:00:00  130.85  130.89  129.94  130.20   4968.55433   \n",
       "4 2020-01-01 04:00:00  130.21  130.74  130.15  130.20   3397.90747   \n",
       "5 2020-01-01 05:00:00  130.20  130.47  130.11  130.30   4243.60640   \n",
       "6 2020-01-01 06:00:00  130.31  130.75  130.26  130.44   3668.90166   \n",
       "7 2020-01-01 07:00:00  130.47  130.71  130.14  130.24   4147.17413   \n",
       "8 2020-01-01 08:00:00  130.24  130.41  129.87  130.36   7541.44497   \n",
       "9 2020-01-01 09:00:00  130.40  130.62  130.13  130.17   4808.20496   \n",
       "\n",
       "     close_time  quote_asset_volume  num_trades  hour_sin      hour_cos  \\\n",
       "0  1.577840e+12        1.000930e+06        2504  0.000000  1.000000e+00   \n",
       "1  1.577840e+12        1.474278e+06        4885  0.258819  9.659258e-01   \n",
       "2  1.577850e+12        9.940256e+05        3046  0.500000  8.660254e-01   \n",
       "3  1.577850e+12        6.473610e+05        2818  0.707107  7.071068e-01   \n",
       "4  1.577850e+12        4.430067e+05        2264  0.866025  5.000000e-01   \n",
       "5  1.577860e+12        5.529727e+05        2426  0.965926  2.588190e-01   \n",
       "6  1.577860e+12        4.789442e+05        2347  1.000000  6.123234e-17   \n",
       "7  1.577870e+12        5.407707e+05        2568  0.965926 -2.588190e-01   \n",
       "8  1.577870e+12        9.808940e+05        3039  0.866025 -5.000000e-01   \n",
       "9  1.577870e+12        6.268190e+05        2696  0.707107 -7.071068e-01   \n",
       "\n",
       "    day_sin   day_cos  mon_sin   mon_cos  weekday_sin  weekday_cos  year  \n",
       "0  0.207912  0.978148      0.5  0.866025     0.974928    -0.222521  2020  \n",
       "1  0.207912  0.978148      0.5  0.866025     0.974928    -0.222521  2020  \n",
       "2  0.207912  0.978148      0.5  0.866025     0.974928    -0.222521  2020  \n",
       "3  0.207912  0.978148      0.5  0.866025     0.974928    -0.222521  2020  \n",
       "4  0.207912  0.978148      0.5  0.866025     0.974928    -0.222521  2020  \n",
       "5  0.207912  0.978148      0.5  0.866025     0.974928    -0.222521  2020  \n",
       "6  0.207912  0.978148      0.5  0.866025     0.974928    -0.222521  2020  \n",
       "7  0.207912  0.978148      0.5  0.866025     0.974928    -0.222521  2020  \n",
       "8  0.207912  0.978148      0.5  0.866025     0.974928    -0.222521  2020  \n",
       "9  0.207912  0.978148      0.5  0.866025     0.974928    -0.222521  2020  "
      ]
     },
     "execution_count": 96,
     "metadata": {},
     "output_type": "execute_result"
    }
   ],
   "source": [
    "df_result.head(10)"
   ]
  },
  {
   "cell_type": "code",
   "execution_count": 97,
   "metadata": {},
   "outputs": [
    {
     "name": "stdout",
     "output_type": "stream",
     "text": [
      "Complete adding STDs\n",
      "Complete adding MAs\n",
      "Complete adding ratios\n"
     ]
    },
    {
     "name": "stderr",
     "output_type": "stream",
     "text": [
      "c:\\Users\\user\\Documents\\GitHub\\BinanceTradingBot\\stock_marker_binance.py:278: PerformanceWarning:\n",
      "\n",
      "DataFrame is highly fragmented.  This is usually the result of calling `frame.insert` many times, which has poor performance.  Consider joining all columns at once using pd.concat(axis=1) instead. To get a de-fragmented frame, use `newframe = frame.copy()`\n",
      "\n",
      "c:\\Users\\user\\Documents\\GitHub\\BinanceTradingBot\\stock_marker_binance.py:278: PerformanceWarning:\n",
      "\n",
      "DataFrame is highly fragmented.  This is usually the result of calling `frame.insert` many times, which has poor performance.  Consider joining all columns at once using pd.concat(axis=1) instead. To get a de-fragmented frame, use `newframe = frame.copy()`\n",
      "\n",
      "c:\\Users\\user\\Documents\\GitHub\\BinanceTradingBot\\stock_marker_binance.py:278: PerformanceWarning:\n",
      "\n",
      "DataFrame is highly fragmented.  This is usually the result of calling `frame.insert` many times, which has poor performance.  Consider joining all columns at once using pd.concat(axis=1) instead. To get a de-fragmented frame, use `newframe = frame.copy()`\n",
      "\n",
      "c:\\Users\\user\\Documents\\GitHub\\BinanceTradingBot\\stock_marker_binance.py:278: PerformanceWarning:\n",
      "\n",
      "DataFrame is highly fragmented.  This is usually the result of calling `frame.insert` many times, which has poor performance.  Consider joining all columns at once using pd.concat(axis=1) instead. To get a de-fragmented frame, use `newframe = frame.copy()`\n",
      "\n",
      "c:\\Users\\user\\Documents\\GitHub\\BinanceTradingBot\\stock_marker_binance.py:278: PerformanceWarning:\n",
      "\n",
      "DataFrame is highly fragmented.  This is usually the result of calling `frame.insert` many times, which has poor performance.  Consider joining all columns at once using pd.concat(axis=1) instead. To get a de-fragmented frame, use `newframe = frame.copy()`\n",
      "\n",
      "c:\\Users\\user\\Documents\\GitHub\\BinanceTradingBot\\stock_marker_binance.py:278: PerformanceWarning:\n",
      "\n",
      "DataFrame is highly fragmented.  This is usually the result of calling `frame.insert` many times, which has poor performance.  Consider joining all columns at once using pd.concat(axis=1) instead. To get a de-fragmented frame, use `newframe = frame.copy()`\n",
      "\n",
      "c:\\Users\\user\\Documents\\GitHub\\BinanceTradingBot\\stock_marker_binance.py:278: PerformanceWarning:\n",
      "\n",
      "DataFrame is highly fragmented.  This is usually the result of calling `frame.insert` many times, which has poor performance.  Consider joining all columns at once using pd.concat(axis=1) instead. To get a de-fragmented frame, use `newframe = frame.copy()`\n",
      "\n",
      "c:\\Users\\user\\Documents\\GitHub\\BinanceTradingBot\\stock_marker_binance.py:278: PerformanceWarning:\n",
      "\n",
      "DataFrame is highly fragmented.  This is usually the result of calling `frame.insert` many times, which has poor performance.  Consider joining all columns at once using pd.concat(axis=1) instead. To get a de-fragmented frame, use `newframe = frame.copy()`\n",
      "\n",
      "c:\\Users\\user\\Documents\\GitHub\\BinanceTradingBot\\stock_marker_binance.py:278: PerformanceWarning:\n",
      "\n",
      "DataFrame is highly fragmented.  This is usually the result of calling `frame.insert` many times, which has poor performance.  Consider joining all columns at once using pd.concat(axis=1) instead. To get a de-fragmented frame, use `newframe = frame.copy()`\n",
      "\n",
      "c:\\Users\\user\\Documents\\GitHub\\BinanceTradingBot\\stock_marker_binance.py:278: PerformanceWarning:\n",
      "\n",
      "DataFrame is highly fragmented.  This is usually the result of calling `frame.insert` many times, which has poor performance.  Consider joining all columns at once using pd.concat(axis=1) instead. To get a de-fragmented frame, use `newframe = frame.copy()`\n",
      "\n",
      "c:\\Users\\user\\Documents\\GitHub\\BinanceTradingBot\\stock_marker_binance.py:278: PerformanceWarning:\n",
      "\n",
      "DataFrame is highly fragmented.  This is usually the result of calling `frame.insert` many times, which has poor performance.  Consider joining all columns at once using pd.concat(axis=1) instead. To get a de-fragmented frame, use `newframe = frame.copy()`\n",
      "\n",
      "c:\\Users\\user\\Documents\\GitHub\\BinanceTradingBot\\stock_marker_binance.py:278: PerformanceWarning:\n",
      "\n",
      "DataFrame is highly fragmented.  This is usually the result of calling `frame.insert` many times, which has poor performance.  Consider joining all columns at once using pd.concat(axis=1) instead. To get a de-fragmented frame, use `newframe = frame.copy()`\n",
      "\n",
      "c:\\Users\\user\\Documents\\GitHub\\BinanceTradingBot\\stock_marker_binance.py:278: PerformanceWarning:\n",
      "\n",
      "DataFrame is highly fragmented.  This is usually the result of calling `frame.insert` many times, which has poor performance.  Consider joining all columns at once using pd.concat(axis=1) instead. To get a de-fragmented frame, use `newframe = frame.copy()`\n",
      "\n",
      "c:\\Users\\user\\Documents\\GitHub\\BinanceTradingBot\\stock_marker_binance.py:278: PerformanceWarning:\n",
      "\n",
      "DataFrame is highly fragmented.  This is usually the result of calling `frame.insert` many times, which has poor performance.  Consider joining all columns at once using pd.concat(axis=1) instead. To get a de-fragmented frame, use `newframe = frame.copy()`\n",
      "\n",
      "c:\\Users\\user\\Documents\\GitHub\\BinanceTradingBot\\stock_marker_binance.py:278: PerformanceWarning:\n",
      "\n",
      "DataFrame is highly fragmented.  This is usually the result of calling `frame.insert` many times, which has poor performance.  Consider joining all columns at once using pd.concat(axis=1) instead. To get a de-fragmented frame, use `newframe = frame.copy()`\n",
      "\n",
      "c:\\Users\\user\\Documents\\GitHub\\BinanceTradingBot\\stock_marker_binance.py:278: PerformanceWarning:\n",
      "\n",
      "DataFrame is highly fragmented.  This is usually the result of calling `frame.insert` many times, which has poor performance.  Consider joining all columns at once using pd.concat(axis=1) instead. To get a de-fragmented frame, use `newframe = frame.copy()`\n",
      "\n"
     ]
    },
    {
     "name": "stdout",
     "output_type": "stream",
     "text": [
      "Complete adding RSI\n"
     ]
    },
    {
     "name": "stdout",
     "output_type": "stream",
     "text": [
      "Complete marking buy sell actions\n",
      "Complete marking adjacent actions\n",
      "Complete marking hold wait actions\n"
     ]
    }
   ],
   "source": [
    "\n",
    "df_result = stock_marker_binance.std(df_result, ['close', 'quote_asset_volume', 'num_trades'])\n",
    "print(\"Complete adding STDs\")\n",
    "\n",
    "df_result = stock_marker_binance.adding_MAs(df_result, ['close', 'quote_asset_volume', 'num_trades'])\n",
    "print(\"Complete adding MAs\")\n",
    "\n",
    "\n",
    "df_result = stock_marker_binance.adding_ratio(df_result, ['close', 'quote_asset_volume', 'num_trades'], ['MA'])\n",
    "df_result = stock_marker_binance.adding_ratio(df_result, ['close'], ['STD'])\n",
    "print(\"Complete adding ratios\")\n",
    "\n",
    "df_result = stock_marker_binance.rsi(df_result, ['close', \n",
    "                                                  'quote_asset_volume', 'num_trades'\n",
    "                                                 ])\n",
    "print(\"Complete adding RSI\")\n",
    "\n",
    "df_result = stock_marker_binance.marking_buy_sell_actions(df_result)\n",
    "print(\"Complete marking buy sell actions\")\n",
    "\n",
    "df_result = stock_marker_binance.marking_adjacent_actions(df_result)\n",
    "print(\"Complete marking adjacent actions\")\n",
    "\n",
    "df_result = stock_marker_binance.marking_hold_wait_actions(df_result)\n",
    "print(\"Complete marking hold wait actions\")\n",
    "\n",
    "df_result = df_result.drop(columns=[\n",
    "                                    'timestamp',\n",
    "                                    'open', 'high', 'low' ,'close_time', 'volume',\n",
    "                                    'close',  \n",
    "                                    'quote_asset_volume', 'num_trades'\n",
    "                                    ])\n",
    "df_result=df_result.dropna()\n",
    "df_result.reset_index(inplace=True, drop=True)\n",
    "# df_result = stock_marker_binance.renaming_cols(df_result, STOCK_TICKER + \"_\", ['timestamp', 'action'])"
   ]
  },
  {
   "cell_type": "code",
   "execution_count": 98,
   "metadata": {},
   "outputs": [
    {
     "data": {
      "text/html": [
       "<div>\n",
       "<style scoped>\n",
       "    .dataframe tbody tr th:only-of-type {\n",
       "        vertical-align: middle;\n",
       "    }\n",
       "\n",
       "    .dataframe tbody tr th {\n",
       "        vertical-align: top;\n",
       "    }\n",
       "\n",
       "    .dataframe thead th {\n",
       "        text-align: right;\n",
       "    }\n",
       "</style>\n",
       "<table border=\"1\" class=\"dataframe\">\n",
       "  <thead>\n",
       "    <tr style=\"text-align: right;\">\n",
       "      <th></th>\n",
       "      <th>hour_sin</th>\n",
       "      <th>hour_cos</th>\n",
       "      <th>day_sin</th>\n",
       "      <th>day_cos</th>\n",
       "      <th>mon_sin</th>\n",
       "      <th>mon_cos</th>\n",
       "      <th>weekday_sin</th>\n",
       "      <th>weekday_cos</th>\n",
       "      <th>year</th>\n",
       "      <th>STD3_close</th>\n",
       "      <th>...</th>\n",
       "      <th>RSI_192_quote_asset_volume</th>\n",
       "      <th>RSI_384_quote_asset_volume</th>\n",
       "      <th>RSI_3_num_trades</th>\n",
       "      <th>RSI_6_num_trades</th>\n",
       "      <th>RSI_12_num_trades</th>\n",
       "      <th>RSI_24_num_trades</th>\n",
       "      <th>RSI_48_num_trades</th>\n",
       "      <th>RSI_96_num_trades</th>\n",
       "      <th>RSI_192_num_trades</th>\n",
       "      <th>RSI_384_num_trades</th>\n",
       "    </tr>\n",
       "    <tr>\n",
       "      <th>action</th>\n",
       "      <th></th>\n",
       "      <th></th>\n",
       "      <th></th>\n",
       "      <th></th>\n",
       "      <th></th>\n",
       "      <th></th>\n",
       "      <th></th>\n",
       "      <th></th>\n",
       "      <th></th>\n",
       "      <th></th>\n",
       "      <th></th>\n",
       "      <th></th>\n",
       "      <th></th>\n",
       "      <th></th>\n",
       "      <th></th>\n",
       "      <th></th>\n",
       "      <th></th>\n",
       "      <th></th>\n",
       "      <th></th>\n",
       "      <th></th>\n",
       "      <th></th>\n",
       "    </tr>\n",
       "  </thead>\n",
       "  <tbody>\n",
       "    <tr>\n",
       "      <th>B</th>\n",
       "      <td>2332</td>\n",
       "      <td>2332</td>\n",
       "      <td>2332</td>\n",
       "      <td>2332</td>\n",
       "      <td>2332</td>\n",
       "      <td>2332</td>\n",
       "      <td>2332</td>\n",
       "      <td>2332</td>\n",
       "      <td>2332</td>\n",
       "      <td>2332</td>\n",
       "      <td>...</td>\n",
       "      <td>2332</td>\n",
       "      <td>2332</td>\n",
       "      <td>2332</td>\n",
       "      <td>2332</td>\n",
       "      <td>2332</td>\n",
       "      <td>2332</td>\n",
       "      <td>2332</td>\n",
       "      <td>2332</td>\n",
       "      <td>2332</td>\n",
       "      <td>2332</td>\n",
       "    </tr>\n",
       "    <tr>\n",
       "      <th>H</th>\n",
       "      <td>11110</td>\n",
       "      <td>11110</td>\n",
       "      <td>11110</td>\n",
       "      <td>11110</td>\n",
       "      <td>11110</td>\n",
       "      <td>11110</td>\n",
       "      <td>11110</td>\n",
       "      <td>11110</td>\n",
       "      <td>11110</td>\n",
       "      <td>11110</td>\n",
       "      <td>...</td>\n",
       "      <td>11110</td>\n",
       "      <td>11110</td>\n",
       "      <td>11110</td>\n",
       "      <td>11110</td>\n",
       "      <td>11110</td>\n",
       "      <td>11110</td>\n",
       "      <td>11110</td>\n",
       "      <td>11110</td>\n",
       "      <td>11110</td>\n",
       "      <td>11110</td>\n",
       "    </tr>\n",
       "    <tr>\n",
       "      <th>S</th>\n",
       "      <td>2628</td>\n",
       "      <td>2628</td>\n",
       "      <td>2628</td>\n",
       "      <td>2628</td>\n",
       "      <td>2628</td>\n",
       "      <td>2628</td>\n",
       "      <td>2628</td>\n",
       "      <td>2628</td>\n",
       "      <td>2628</td>\n",
       "      <td>2628</td>\n",
       "      <td>...</td>\n",
       "      <td>2628</td>\n",
       "      <td>2628</td>\n",
       "      <td>2628</td>\n",
       "      <td>2628</td>\n",
       "      <td>2628</td>\n",
       "      <td>2628</td>\n",
       "      <td>2628</td>\n",
       "      <td>2628</td>\n",
       "      <td>2628</td>\n",
       "      <td>2628</td>\n",
       "    </tr>\n",
       "    <tr>\n",
       "      <th>W</th>\n",
       "      <td>18778</td>\n",
       "      <td>18778</td>\n",
       "      <td>18778</td>\n",
       "      <td>18778</td>\n",
       "      <td>18778</td>\n",
       "      <td>18778</td>\n",
       "      <td>18778</td>\n",
       "      <td>18778</td>\n",
       "      <td>18778</td>\n",
       "      <td>18778</td>\n",
       "      <td>...</td>\n",
       "      <td>18778</td>\n",
       "      <td>18778</td>\n",
       "      <td>18778</td>\n",
       "      <td>18778</td>\n",
       "      <td>18778</td>\n",
       "      <td>18778</td>\n",
       "      <td>18778</td>\n",
       "      <td>18778</td>\n",
       "      <td>18778</td>\n",
       "      <td>18778</td>\n",
       "    </tr>\n",
       "  </tbody>\n",
       "</table>\n",
       "<p>4 rows × 113 columns</p>\n",
       "</div>"
      ],
      "text/plain": [
       "        hour_sin  hour_cos  day_sin  day_cos  mon_sin  mon_cos  weekday_sin  \\\n",
       "action                                                                        \n",
       "B           2332      2332     2332     2332     2332     2332         2332   \n",
       "H          11110     11110    11110    11110    11110    11110        11110   \n",
       "S           2628      2628     2628     2628     2628     2628         2628   \n",
       "W          18778     18778    18778    18778    18778    18778        18778   \n",
       "\n",
       "        weekday_cos   year  STD3_close  ...  RSI_192_quote_asset_volume  \\\n",
       "action                                  ...                               \n",
       "B              2332   2332        2332  ...                        2332   \n",
       "H             11110  11110       11110  ...                       11110   \n",
       "S              2628   2628        2628  ...                        2628   \n",
       "W             18778  18778       18778  ...                       18778   \n",
       "\n",
       "        RSI_384_quote_asset_volume  RSI_3_num_trades  RSI_6_num_trades  \\\n",
       "action                                                                   \n",
       "B                             2332              2332              2332   \n",
       "H                            11110             11110             11110   \n",
       "S                             2628              2628              2628   \n",
       "W                            18778             18778             18778   \n",
       "\n",
       "        RSI_12_num_trades  RSI_24_num_trades  RSI_48_num_trades  \\\n",
       "action                                                            \n",
       "B                    2332               2332               2332   \n",
       "H                   11110              11110              11110   \n",
       "S                    2628               2628               2628   \n",
       "W                   18778              18778              18778   \n",
       "\n",
       "        RSI_96_num_trades  RSI_192_num_trades  RSI_384_num_trades  \n",
       "action                                                             \n",
       "B                    2332                2332                2332  \n",
       "H                   11110               11110               11110  \n",
       "S                    2628                2628                2628  \n",
       "W                   18778               18778               18778  \n",
       "\n",
       "[4 rows x 113 columns]"
      ]
     },
     "execution_count": 98,
     "metadata": {},
     "output_type": "execute_result"
    }
   ],
   "source": [
    "df_result.groupby('action').count()"
   ]
  },
  {
   "cell_type": "code",
   "execution_count": 99,
   "metadata": {},
   "outputs": [],
   "source": [
    "# Dropping cols\n",
    "drop_cols_list =[]\n",
    "for col in df_result.columns:\n",
    "    if col[:2]==\"MA\" or col[:3]==\"STD\":\n",
    "        drop_cols_list.append(col)\n",
    "df_result.drop(columns=drop_cols_list, inplace=True)"
   ]
  },
  {
   "cell_type": "code",
   "execution_count": 100,
   "metadata": {},
   "outputs": [
    {
     "data": {
      "text/html": [
       "<div>\n",
       "<style scoped>\n",
       "    .dataframe tbody tr th:only-of-type {\n",
       "        vertical-align: middle;\n",
       "    }\n",
       "\n",
       "    .dataframe tbody tr th {\n",
       "        vertical-align: top;\n",
       "    }\n",
       "\n",
       "    .dataframe thead th {\n",
       "        text-align: right;\n",
       "    }\n",
       "</style>\n",
       "<table border=\"1\" class=\"dataframe\">\n",
       "  <thead>\n",
       "    <tr style=\"text-align: right;\">\n",
       "      <th></th>\n",
       "      <th>hour_sin</th>\n",
       "      <th>hour_cos</th>\n",
       "      <th>day_sin</th>\n",
       "      <th>day_cos</th>\n",
       "      <th>mon_sin</th>\n",
       "      <th>mon_cos</th>\n",
       "      <th>weekday_sin</th>\n",
       "      <th>weekday_cos</th>\n",
       "      <th>year</th>\n",
       "      <th>RATIO_close_and_MA3</th>\n",
       "      <th>...</th>\n",
       "      <th>RSI_384_quote_asset_volume</th>\n",
       "      <th>RSI_3_num_trades</th>\n",
       "      <th>RSI_6_num_trades</th>\n",
       "      <th>RSI_12_num_trades</th>\n",
       "      <th>RSI_24_num_trades</th>\n",
       "      <th>RSI_48_num_trades</th>\n",
       "      <th>RSI_96_num_trades</th>\n",
       "      <th>RSI_192_num_trades</th>\n",
       "      <th>RSI_384_num_trades</th>\n",
       "      <th>action</th>\n",
       "    </tr>\n",
       "  </thead>\n",
       "  <tbody>\n",
       "    <tr>\n",
       "      <th>0</th>\n",
       "      <td>0.000000</td>\n",
       "      <td>1.000000e+00</td>\n",
       "      <td>-0.406737</td>\n",
       "      <td>-0.913545</td>\n",
       "      <td>0.5</td>\n",
       "      <td>0.866025</td>\n",
       "      <td>-0.433884</td>\n",
       "      <td>-0.900969</td>\n",
       "      <td>2020</td>\n",
       "      <td>0.998395</td>\n",
       "      <td>...</td>\n",
       "      <td>50.285725</td>\n",
       "      <td>55.233549</td>\n",
       "      <td>62.375595</td>\n",
       "      <td>44.246383</td>\n",
       "      <td>47.372031</td>\n",
       "      <td>41.390263</td>\n",
       "      <td>50.373816</td>\n",
       "      <td>50.212888</td>\n",
       "      <td>50.352010</td>\n",
       "      <td>B</td>\n",
       "    </tr>\n",
       "    <tr>\n",
       "      <th>1</th>\n",
       "      <td>0.258819</td>\n",
       "      <td>9.659258e-01</td>\n",
       "      <td>-0.406737</td>\n",
       "      <td>-0.913545</td>\n",
       "      <td>0.5</td>\n",
       "      <td>0.866025</td>\n",
       "      <td>-0.433884</td>\n",
       "      <td>-0.900969</td>\n",
       "      <td>2020</td>\n",
       "      <td>1.003510</td>\n",
       "      <td>...</td>\n",
       "      <td>50.044557</td>\n",
       "      <td>57.042254</td>\n",
       "      <td>53.231167</td>\n",
       "      <td>43.468397</td>\n",
       "      <td>40.757926</td>\n",
       "      <td>44.977155</td>\n",
       "      <td>50.329082</td>\n",
       "      <td>49.961415</td>\n",
       "      <td>50.023663</td>\n",
       "      <td>S</td>\n",
       "    </tr>\n",
       "    <tr>\n",
       "      <th>2</th>\n",
       "      <td>0.500000</td>\n",
       "      <td>8.660254e-01</td>\n",
       "      <td>-0.406737</td>\n",
       "      <td>-0.913545</td>\n",
       "      <td>0.5</td>\n",
       "      <td>0.866025</td>\n",
       "      <td>-0.433884</td>\n",
       "      <td>-0.900969</td>\n",
       "      <td>2020</td>\n",
       "      <td>1.005462</td>\n",
       "      <td>...</td>\n",
       "      <td>50.374138</td>\n",
       "      <td>71.936820</td>\n",
       "      <td>60.894401</td>\n",
       "      <td>54.737831</td>\n",
       "      <td>53.922093</td>\n",
       "      <td>51.046656</td>\n",
       "      <td>50.508626</td>\n",
       "      <td>50.688208</td>\n",
       "      <td>50.405497</td>\n",
       "      <td>W</td>\n",
       "    </tr>\n",
       "    <tr>\n",
       "      <th>3</th>\n",
       "      <td>0.707107</td>\n",
       "      <td>7.071068e-01</td>\n",
       "      <td>-0.406737</td>\n",
       "      <td>-0.913545</td>\n",
       "      <td>0.5</td>\n",
       "      <td>0.866025</td>\n",
       "      <td>-0.433884</td>\n",
       "      <td>-0.900969</td>\n",
       "      <td>2020</td>\n",
       "      <td>0.999496</td>\n",
       "      <td>...</td>\n",
       "      <td>50.454235</td>\n",
       "      <td>63.487630</td>\n",
       "      <td>59.629177</td>\n",
       "      <td>57.361954</td>\n",
       "      <td>54.634917</td>\n",
       "      <td>49.887067</td>\n",
       "      <td>50.916972</td>\n",
       "      <td>50.645574</td>\n",
       "      <td>50.478997</td>\n",
       "      <td>W</td>\n",
       "    </tr>\n",
       "    <tr>\n",
       "      <th>4</th>\n",
       "      <td>0.866025</td>\n",
       "      <td>5.000000e-01</td>\n",
       "      <td>-0.406737</td>\n",
       "      <td>-0.913545</td>\n",
       "      <td>0.5</td>\n",
       "      <td>0.866025</td>\n",
       "      <td>-0.433884</td>\n",
       "      <td>-0.900969</td>\n",
       "      <td>2020</td>\n",
       "      <td>1.005046</td>\n",
       "      <td>...</td>\n",
       "      <td>50.273035</td>\n",
       "      <td>62.021245</td>\n",
       "      <td>59.762526</td>\n",
       "      <td>46.674281</td>\n",
       "      <td>52.189555</td>\n",
       "      <td>47.257474</td>\n",
       "      <td>50.685501</td>\n",
       "      <td>50.334074</td>\n",
       "      <td>50.297334</td>\n",
       "      <td>W</td>\n",
       "    </tr>\n",
       "    <tr>\n",
       "      <th>...</th>\n",
       "      <td>...</td>\n",
       "      <td>...</td>\n",
       "      <td>...</td>\n",
       "      <td>...</td>\n",
       "      <td>...</td>\n",
       "      <td>...</td>\n",
       "      <td>...</td>\n",
       "      <td>...</td>\n",
       "      <td>...</td>\n",
       "      <td>...</td>\n",
       "      <td>...</td>\n",
       "      <td>...</td>\n",
       "      <td>...</td>\n",
       "      <td>...</td>\n",
       "      <td>...</td>\n",
       "      <td>...</td>\n",
       "      <td>...</td>\n",
       "      <td>...</td>\n",
       "      <td>...</td>\n",
       "      <td>...</td>\n",
       "      <td>...</td>\n",
       "    </tr>\n",
       "    <tr>\n",
       "      <th>34843</th>\n",
       "      <td>0.707107</td>\n",
       "      <td>7.071068e-01</td>\n",
       "      <td>0.951057</td>\n",
       "      <td>-0.309017</td>\n",
       "      <td>0.5</td>\n",
       "      <td>0.866025</td>\n",
       "      <td>0.781831</td>\n",
       "      <td>0.623490</td>\n",
       "      <td>2024</td>\n",
       "      <td>0.999538</td>\n",
       "      <td>...</td>\n",
       "      <td>49.917523</td>\n",
       "      <td>0.491800</td>\n",
       "      <td>45.842406</td>\n",
       "      <td>44.909560</td>\n",
       "      <td>46.166448</td>\n",
       "      <td>50.426042</td>\n",
       "      <td>50.048528</td>\n",
       "      <td>49.884557</td>\n",
       "      <td>49.932173</td>\n",
       "      <td>W</td>\n",
       "    </tr>\n",
       "    <tr>\n",
       "      <th>34844</th>\n",
       "      <td>0.866025</td>\n",
       "      <td>5.000000e-01</td>\n",
       "      <td>0.951057</td>\n",
       "      <td>-0.309017</td>\n",
       "      <td>0.5</td>\n",
       "      <td>0.866025</td>\n",
       "      <td>0.781831</td>\n",
       "      <td>0.623490</td>\n",
       "      <td>2024</td>\n",
       "      <td>1.001322</td>\n",
       "      <td>...</td>\n",
       "      <td>49.923296</td>\n",
       "      <td>9.573140</td>\n",
       "      <td>51.228791</td>\n",
       "      <td>46.818007</td>\n",
       "      <td>49.772624</td>\n",
       "      <td>50.584997</td>\n",
       "      <td>49.856044</td>\n",
       "      <td>49.908062</td>\n",
       "      <td>49.903714</td>\n",
       "      <td>W</td>\n",
       "    </tr>\n",
       "    <tr>\n",
       "      <th>34845</th>\n",
       "      <td>0.965926</td>\n",
       "      <td>2.588190e-01</td>\n",
       "      <td>0.951057</td>\n",
       "      <td>-0.309017</td>\n",
       "      <td>0.5</td>\n",
       "      <td>0.866025</td>\n",
       "      <td>0.781831</td>\n",
       "      <td>0.623490</td>\n",
       "      <td>2024</td>\n",
       "      <td>0.999021</td>\n",
       "      <td>...</td>\n",
       "      <td>49.684454</td>\n",
       "      <td>70.756458</td>\n",
       "      <td>46.134609</td>\n",
       "      <td>41.865474</td>\n",
       "      <td>49.885167</td>\n",
       "      <td>50.572507</td>\n",
       "      <td>50.125561</td>\n",
       "      <td>50.051341</td>\n",
       "      <td>49.662115</td>\n",
       "      <td>W</td>\n",
       "    </tr>\n",
       "    <tr>\n",
       "      <th>34846</th>\n",
       "      <td>1.000000</td>\n",
       "      <td>6.123234e-17</td>\n",
       "      <td>0.951057</td>\n",
       "      <td>-0.309017</td>\n",
       "      <td>0.5</td>\n",
       "      <td>0.866025</td>\n",
       "      <td>0.781831</td>\n",
       "      <td>0.623490</td>\n",
       "      <td>2024</td>\n",
       "      <td>0.997117</td>\n",
       "      <td>...</td>\n",
       "      <td>49.859221</td>\n",
       "      <td>71.389892</td>\n",
       "      <td>3.699243</td>\n",
       "      <td>27.179893</td>\n",
       "      <td>46.358171</td>\n",
       "      <td>50.568465</td>\n",
       "      <td>49.547127</td>\n",
       "      <td>50.109445</td>\n",
       "      <td>49.851729</td>\n",
       "      <td>W</td>\n",
       "    </tr>\n",
       "    <tr>\n",
       "      <th>34847</th>\n",
       "      <td>0.965926</td>\n",
       "      <td>-2.588190e-01</td>\n",
       "      <td>0.951057</td>\n",
       "      <td>-0.309017</td>\n",
       "      <td>0.5</td>\n",
       "      <td>0.866025</td>\n",
       "      <td>0.781831</td>\n",
       "      <td>0.623490</td>\n",
       "      <td>2024</td>\n",
       "      <td>1.000351</td>\n",
       "      <td>...</td>\n",
       "      <td>49.954691</td>\n",
       "      <td>3.279849</td>\n",
       "      <td>7.395918</td>\n",
       "      <td>30.689324</td>\n",
       "      <td>45.776484</td>\n",
       "      <td>49.810307</td>\n",
       "      <td>49.289525</td>\n",
       "      <td>49.963152</td>\n",
       "      <td>49.915666</td>\n",
       "      <td>W</td>\n",
       "    </tr>\n",
       "  </tbody>\n",
       "</table>\n",
       "<p>34848 rows × 66 columns</p>\n",
       "</div>"
      ],
      "text/plain": [
       "       hour_sin      hour_cos   day_sin   day_cos  mon_sin   mon_cos  \\\n",
       "0      0.000000  1.000000e+00 -0.406737 -0.913545      0.5  0.866025   \n",
       "1      0.258819  9.659258e-01 -0.406737 -0.913545      0.5  0.866025   \n",
       "2      0.500000  8.660254e-01 -0.406737 -0.913545      0.5  0.866025   \n",
       "3      0.707107  7.071068e-01 -0.406737 -0.913545      0.5  0.866025   \n",
       "4      0.866025  5.000000e-01 -0.406737 -0.913545      0.5  0.866025   \n",
       "...         ...           ...       ...       ...      ...       ...   \n",
       "34843  0.707107  7.071068e-01  0.951057 -0.309017      0.5  0.866025   \n",
       "34844  0.866025  5.000000e-01  0.951057 -0.309017      0.5  0.866025   \n",
       "34845  0.965926  2.588190e-01  0.951057 -0.309017      0.5  0.866025   \n",
       "34846  1.000000  6.123234e-17  0.951057 -0.309017      0.5  0.866025   \n",
       "34847  0.965926 -2.588190e-01  0.951057 -0.309017      0.5  0.866025   \n",
       "\n",
       "       weekday_sin  weekday_cos  year  RATIO_close_and_MA3  ...  \\\n",
       "0        -0.433884    -0.900969  2020             0.998395  ...   \n",
       "1        -0.433884    -0.900969  2020             1.003510  ...   \n",
       "2        -0.433884    -0.900969  2020             1.005462  ...   \n",
       "3        -0.433884    -0.900969  2020             0.999496  ...   \n",
       "4        -0.433884    -0.900969  2020             1.005046  ...   \n",
       "...            ...          ...   ...                  ...  ...   \n",
       "34843     0.781831     0.623490  2024             0.999538  ...   \n",
       "34844     0.781831     0.623490  2024             1.001322  ...   \n",
       "34845     0.781831     0.623490  2024             0.999021  ...   \n",
       "34846     0.781831     0.623490  2024             0.997117  ...   \n",
       "34847     0.781831     0.623490  2024             1.000351  ...   \n",
       "\n",
       "       RSI_384_quote_asset_volume  RSI_3_num_trades  RSI_6_num_trades  \\\n",
       "0                       50.285725         55.233549         62.375595   \n",
       "1                       50.044557         57.042254         53.231167   \n",
       "2                       50.374138         71.936820         60.894401   \n",
       "3                       50.454235         63.487630         59.629177   \n",
       "4                       50.273035         62.021245         59.762526   \n",
       "...                           ...               ...               ...   \n",
       "34843                   49.917523          0.491800         45.842406   \n",
       "34844                   49.923296          9.573140         51.228791   \n",
       "34845                   49.684454         70.756458         46.134609   \n",
       "34846                   49.859221         71.389892          3.699243   \n",
       "34847                   49.954691          3.279849          7.395918   \n",
       "\n",
       "       RSI_12_num_trades  RSI_24_num_trades  RSI_48_num_trades  \\\n",
       "0              44.246383          47.372031          41.390263   \n",
       "1              43.468397          40.757926          44.977155   \n",
       "2              54.737831          53.922093          51.046656   \n",
       "3              57.361954          54.634917          49.887067   \n",
       "4              46.674281          52.189555          47.257474   \n",
       "...                  ...                ...                ...   \n",
       "34843          44.909560          46.166448          50.426042   \n",
       "34844          46.818007          49.772624          50.584997   \n",
       "34845          41.865474          49.885167          50.572507   \n",
       "34846          27.179893          46.358171          50.568465   \n",
       "34847          30.689324          45.776484          49.810307   \n",
       "\n",
       "       RSI_96_num_trades  RSI_192_num_trades  RSI_384_num_trades  action  \n",
       "0              50.373816           50.212888           50.352010       B  \n",
       "1              50.329082           49.961415           50.023663       S  \n",
       "2              50.508626           50.688208           50.405497       W  \n",
       "3              50.916972           50.645574           50.478997       W  \n",
       "4              50.685501           50.334074           50.297334       W  \n",
       "...                  ...                 ...                 ...     ...  \n",
       "34843          50.048528           49.884557           49.932173       W  \n",
       "34844          49.856044           49.908062           49.903714       W  \n",
       "34845          50.125561           50.051341           49.662115       W  \n",
       "34846          49.547127           50.109445           49.851729       W  \n",
       "34847          49.289525           49.963152           49.915666       W  \n",
       "\n",
       "[34848 rows x 66 columns]"
      ]
     },
     "execution_count": 100,
     "metadata": {},
     "output_type": "execute_result"
    }
   ],
   "source": [
    "df_result"
   ]
  },
  {
   "cell_type": "code",
   "execution_count": 101,
   "metadata": {},
   "outputs": [],
   "source": [
    "# Do NOT use SMOTE for LSTM!!!\n",
    "# df_result, n_test = smote(df_result, TRAIN_FRACTION)"
   ]
  },
  {
   "cell_type": "code",
   "execution_count": 102,
   "metadata": {},
   "outputs": [
    {
     "data": {
      "text/html": [
       "<div>\n",
       "<style scoped>\n",
       "    .dataframe tbody tr th:only-of-type {\n",
       "        vertical-align: middle;\n",
       "    }\n",
       "\n",
       "    .dataframe tbody tr th {\n",
       "        vertical-align: top;\n",
       "    }\n",
       "\n",
       "    .dataframe thead th {\n",
       "        text-align: right;\n",
       "    }\n",
       "</style>\n",
       "<table border=\"1\" class=\"dataframe\">\n",
       "  <thead>\n",
       "    <tr style=\"text-align: right;\">\n",
       "      <th></th>\n",
       "      <th>hour_sin</th>\n",
       "      <th>hour_cos</th>\n",
       "      <th>day_sin</th>\n",
       "      <th>day_cos</th>\n",
       "      <th>mon_sin</th>\n",
       "      <th>mon_cos</th>\n",
       "      <th>weekday_sin</th>\n",
       "      <th>weekday_cos</th>\n",
       "      <th>year</th>\n",
       "      <th>RATIO_close_and_MA3</th>\n",
       "      <th>...</th>\n",
       "      <th>RSI_384_quote_asset_volume</th>\n",
       "      <th>RSI_3_num_trades</th>\n",
       "      <th>RSI_6_num_trades</th>\n",
       "      <th>RSI_12_num_trades</th>\n",
       "      <th>RSI_24_num_trades</th>\n",
       "      <th>RSI_48_num_trades</th>\n",
       "      <th>RSI_96_num_trades</th>\n",
       "      <th>RSI_192_num_trades</th>\n",
       "      <th>RSI_384_num_trades</th>\n",
       "      <th>action</th>\n",
       "    </tr>\n",
       "  </thead>\n",
       "  <tbody>\n",
       "    <tr>\n",
       "      <th>0</th>\n",
       "      <td>0.000000</td>\n",
       "      <td>1.000000</td>\n",
       "      <td>-0.406737</td>\n",
       "      <td>-0.913545</td>\n",
       "      <td>0.5</td>\n",
       "      <td>0.866025</td>\n",
       "      <td>-0.433884</td>\n",
       "      <td>-0.900969</td>\n",
       "      <td>2020</td>\n",
       "      <td>0.998395</td>\n",
       "      <td>...</td>\n",
       "      <td>50.285725</td>\n",
       "      <td>55.233549</td>\n",
       "      <td>62.375595</td>\n",
       "      <td>44.246383</td>\n",
       "      <td>47.372031</td>\n",
       "      <td>41.390263</td>\n",
       "      <td>50.373816</td>\n",
       "      <td>50.212888</td>\n",
       "      <td>50.352010</td>\n",
       "      <td>B</td>\n",
       "    </tr>\n",
       "    <tr>\n",
       "      <th>1</th>\n",
       "      <td>0.258819</td>\n",
       "      <td>0.965926</td>\n",
       "      <td>-0.406737</td>\n",
       "      <td>-0.913545</td>\n",
       "      <td>0.5</td>\n",
       "      <td>0.866025</td>\n",
       "      <td>-0.433884</td>\n",
       "      <td>-0.900969</td>\n",
       "      <td>2020</td>\n",
       "      <td>1.003510</td>\n",
       "      <td>...</td>\n",
       "      <td>50.044557</td>\n",
       "      <td>57.042254</td>\n",
       "      <td>53.231167</td>\n",
       "      <td>43.468397</td>\n",
       "      <td>40.757926</td>\n",
       "      <td>44.977155</td>\n",
       "      <td>50.329082</td>\n",
       "      <td>49.961415</td>\n",
       "      <td>50.023663</td>\n",
       "      <td>S</td>\n",
       "    </tr>\n",
       "    <tr>\n",
       "      <th>2</th>\n",
       "      <td>0.500000</td>\n",
       "      <td>0.866025</td>\n",
       "      <td>-0.406737</td>\n",
       "      <td>-0.913545</td>\n",
       "      <td>0.5</td>\n",
       "      <td>0.866025</td>\n",
       "      <td>-0.433884</td>\n",
       "      <td>-0.900969</td>\n",
       "      <td>2020</td>\n",
       "      <td>1.005462</td>\n",
       "      <td>...</td>\n",
       "      <td>50.374138</td>\n",
       "      <td>71.936820</td>\n",
       "      <td>60.894401</td>\n",
       "      <td>54.737831</td>\n",
       "      <td>53.922093</td>\n",
       "      <td>51.046656</td>\n",
       "      <td>50.508626</td>\n",
       "      <td>50.688208</td>\n",
       "      <td>50.405497</td>\n",
       "      <td>W</td>\n",
       "    </tr>\n",
       "    <tr>\n",
       "      <th>3</th>\n",
       "      <td>0.707107</td>\n",
       "      <td>0.707107</td>\n",
       "      <td>-0.406737</td>\n",
       "      <td>-0.913545</td>\n",
       "      <td>0.5</td>\n",
       "      <td>0.866025</td>\n",
       "      <td>-0.433884</td>\n",
       "      <td>-0.900969</td>\n",
       "      <td>2020</td>\n",
       "      <td>0.999496</td>\n",
       "      <td>...</td>\n",
       "      <td>50.454235</td>\n",
       "      <td>63.487630</td>\n",
       "      <td>59.629177</td>\n",
       "      <td>57.361954</td>\n",
       "      <td>54.634917</td>\n",
       "      <td>49.887067</td>\n",
       "      <td>50.916972</td>\n",
       "      <td>50.645574</td>\n",
       "      <td>50.478997</td>\n",
       "      <td>W</td>\n",
       "    </tr>\n",
       "    <tr>\n",
       "      <th>4</th>\n",
       "      <td>0.866025</td>\n",
       "      <td>0.500000</td>\n",
       "      <td>-0.406737</td>\n",
       "      <td>-0.913545</td>\n",
       "      <td>0.5</td>\n",
       "      <td>0.866025</td>\n",
       "      <td>-0.433884</td>\n",
       "      <td>-0.900969</td>\n",
       "      <td>2020</td>\n",
       "      <td>1.005046</td>\n",
       "      <td>...</td>\n",
       "      <td>50.273035</td>\n",
       "      <td>62.021245</td>\n",
       "      <td>59.762526</td>\n",
       "      <td>46.674281</td>\n",
       "      <td>52.189555</td>\n",
       "      <td>47.257474</td>\n",
       "      <td>50.685501</td>\n",
       "      <td>50.334074</td>\n",
       "      <td>50.297334</td>\n",
       "      <td>W</td>\n",
       "    </tr>\n",
       "  </tbody>\n",
       "</table>\n",
       "<p>5 rows × 66 columns</p>\n",
       "</div>"
      ],
      "text/plain": [
       "   hour_sin  hour_cos   day_sin   day_cos  mon_sin   mon_cos  weekday_sin  \\\n",
       "0  0.000000  1.000000 -0.406737 -0.913545      0.5  0.866025    -0.433884   \n",
       "1  0.258819  0.965926 -0.406737 -0.913545      0.5  0.866025    -0.433884   \n",
       "2  0.500000  0.866025 -0.406737 -0.913545      0.5  0.866025    -0.433884   \n",
       "3  0.707107  0.707107 -0.406737 -0.913545      0.5  0.866025    -0.433884   \n",
       "4  0.866025  0.500000 -0.406737 -0.913545      0.5  0.866025    -0.433884   \n",
       "\n",
       "   weekday_cos  year  RATIO_close_and_MA3  ...  RSI_384_quote_asset_volume  \\\n",
       "0    -0.900969  2020             0.998395  ...                   50.285725   \n",
       "1    -0.900969  2020             1.003510  ...                   50.044557   \n",
       "2    -0.900969  2020             1.005462  ...                   50.374138   \n",
       "3    -0.900969  2020             0.999496  ...                   50.454235   \n",
       "4    -0.900969  2020             1.005046  ...                   50.273035   \n",
       "\n",
       "   RSI_3_num_trades  RSI_6_num_trades  RSI_12_num_trades  RSI_24_num_trades  \\\n",
       "0         55.233549         62.375595          44.246383          47.372031   \n",
       "1         57.042254         53.231167          43.468397          40.757926   \n",
       "2         71.936820         60.894401          54.737831          53.922093   \n",
       "3         63.487630         59.629177          57.361954          54.634917   \n",
       "4         62.021245         59.762526          46.674281          52.189555   \n",
       "\n",
       "   RSI_48_num_trades  RSI_96_num_trades  RSI_192_num_trades  \\\n",
       "0          41.390263          50.373816           50.212888   \n",
       "1          44.977155          50.329082           49.961415   \n",
       "2          51.046656          50.508626           50.688208   \n",
       "3          49.887067          50.916972           50.645574   \n",
       "4          47.257474          50.685501           50.334074   \n",
       "\n",
       "   RSI_384_num_trades  action  \n",
       "0           50.352010       B  \n",
       "1           50.023663       S  \n",
       "2           50.405497       W  \n",
       "3           50.478997       W  \n",
       "4           50.297334       W  \n",
       "\n",
       "[5 rows x 66 columns]"
      ]
     },
     "execution_count": 102,
     "metadata": {},
     "output_type": "execute_result"
    }
   ],
   "source": [
    "df_result.head()"
   ]
  },
  {
   "cell_type": "code",
   "execution_count": 103,
   "metadata": {},
   "outputs": [],
   "source": []
  },
  {
   "cell_type": "code",
   "execution_count": 50,
   "metadata": {},
   "outputs": [
    {
     "name": "stdout",
     "output_type": "stream",
     "text": [
      "[3.73584906 0.78415842 3.31506849 0.46394717]\n",
      "dict_keys(['B', 'H', 'S', 'W'])\n"
     ]
    }
   ],
   "source": [
    "df_result, class_weights_dict = OneHotEncoding(df_result)"
   ]
  },
  {
   "cell_type": "code",
   "execution_count": 51,
   "metadata": {},
   "outputs": [
    {
     "data": {
      "text/html": [
       "<div>\n",
       "<style scoped>\n",
       "    .dataframe tbody tr th:only-of-type {\n",
       "        vertical-align: middle;\n",
       "    }\n",
       "\n",
       "    .dataframe tbody tr th {\n",
       "        vertical-align: top;\n",
       "    }\n",
       "\n",
       "    .dataframe thead th {\n",
       "        text-align: right;\n",
       "    }\n",
       "</style>\n",
       "<table border=\"1\" class=\"dataframe\">\n",
       "  <thead>\n",
       "    <tr style=\"text-align: right;\">\n",
       "      <th></th>\n",
       "      <th>hour_sin</th>\n",
       "      <th>hour_cos</th>\n",
       "      <th>day_sin</th>\n",
       "      <th>day_cos</th>\n",
       "      <th>mon_sin</th>\n",
       "      <th>mon_cos</th>\n",
       "      <th>weekday_sin</th>\n",
       "      <th>weekday_cos</th>\n",
       "      <th>year</th>\n",
       "      <th>RATIO_close_and_MA3</th>\n",
       "      <th>...</th>\n",
       "      <th>RSI_12_num_trades</th>\n",
       "      <th>RSI_24_num_trades</th>\n",
       "      <th>RSI_48_num_trades</th>\n",
       "      <th>RSI_96_num_trades</th>\n",
       "      <th>RSI_192_num_trades</th>\n",
       "      <th>RSI_384_num_trades</th>\n",
       "      <th>B</th>\n",
       "      <th>H</th>\n",
       "      <th>S</th>\n",
       "      <th>W</th>\n",
       "    </tr>\n",
       "  </thead>\n",
       "  <tbody>\n",
       "    <tr>\n",
       "      <th>0</th>\n",
       "      <td>0.000000</td>\n",
       "      <td>1.000000</td>\n",
       "      <td>-0.406737</td>\n",
       "      <td>-0.913545</td>\n",
       "      <td>0.5</td>\n",
       "      <td>0.866025</td>\n",
       "      <td>-0.433884</td>\n",
       "      <td>-0.900969</td>\n",
       "      <td>2020</td>\n",
       "      <td>0.998395</td>\n",
       "      <td>...</td>\n",
       "      <td>44.246383</td>\n",
       "      <td>47.372031</td>\n",
       "      <td>41.390263</td>\n",
       "      <td>50.373816</td>\n",
       "      <td>50.212888</td>\n",
       "      <td>50.352010</td>\n",
       "      <td>1.0</td>\n",
       "      <td>0.0</td>\n",
       "      <td>0.0</td>\n",
       "      <td>0.0</td>\n",
       "    </tr>\n",
       "    <tr>\n",
       "      <th>1</th>\n",
       "      <td>0.258819</td>\n",
       "      <td>0.965926</td>\n",
       "      <td>-0.406737</td>\n",
       "      <td>-0.913545</td>\n",
       "      <td>0.5</td>\n",
       "      <td>0.866025</td>\n",
       "      <td>-0.433884</td>\n",
       "      <td>-0.900969</td>\n",
       "      <td>2020</td>\n",
       "      <td>1.003510</td>\n",
       "      <td>...</td>\n",
       "      <td>43.468397</td>\n",
       "      <td>40.757926</td>\n",
       "      <td>44.977155</td>\n",
       "      <td>50.329082</td>\n",
       "      <td>49.961415</td>\n",
       "      <td>50.023663</td>\n",
       "      <td>0.0</td>\n",
       "      <td>0.0</td>\n",
       "      <td>1.0</td>\n",
       "      <td>0.0</td>\n",
       "    </tr>\n",
       "    <tr>\n",
       "      <th>2</th>\n",
       "      <td>0.500000</td>\n",
       "      <td>0.866025</td>\n",
       "      <td>-0.406737</td>\n",
       "      <td>-0.913545</td>\n",
       "      <td>0.5</td>\n",
       "      <td>0.866025</td>\n",
       "      <td>-0.433884</td>\n",
       "      <td>-0.900969</td>\n",
       "      <td>2020</td>\n",
       "      <td>1.005462</td>\n",
       "      <td>...</td>\n",
       "      <td>54.737831</td>\n",
       "      <td>53.922093</td>\n",
       "      <td>51.046656</td>\n",
       "      <td>50.508626</td>\n",
       "      <td>50.688208</td>\n",
       "      <td>50.405497</td>\n",
       "      <td>0.0</td>\n",
       "      <td>0.0</td>\n",
       "      <td>0.0</td>\n",
       "      <td>1.0</td>\n",
       "    </tr>\n",
       "    <tr>\n",
       "      <th>3</th>\n",
       "      <td>0.707107</td>\n",
       "      <td>0.707107</td>\n",
       "      <td>-0.406737</td>\n",
       "      <td>-0.913545</td>\n",
       "      <td>0.5</td>\n",
       "      <td>0.866025</td>\n",
       "      <td>-0.433884</td>\n",
       "      <td>-0.900969</td>\n",
       "      <td>2020</td>\n",
       "      <td>0.999496</td>\n",
       "      <td>...</td>\n",
       "      <td>57.361954</td>\n",
       "      <td>54.634917</td>\n",
       "      <td>49.887067</td>\n",
       "      <td>50.916972</td>\n",
       "      <td>50.645574</td>\n",
       "      <td>50.478997</td>\n",
       "      <td>0.0</td>\n",
       "      <td>0.0</td>\n",
       "      <td>0.0</td>\n",
       "      <td>1.0</td>\n",
       "    </tr>\n",
       "    <tr>\n",
       "      <th>4</th>\n",
       "      <td>0.866025</td>\n",
       "      <td>0.500000</td>\n",
       "      <td>-0.406737</td>\n",
       "      <td>-0.913545</td>\n",
       "      <td>0.5</td>\n",
       "      <td>0.866025</td>\n",
       "      <td>-0.433884</td>\n",
       "      <td>-0.900969</td>\n",
       "      <td>2020</td>\n",
       "      <td>1.005046</td>\n",
       "      <td>...</td>\n",
       "      <td>46.674281</td>\n",
       "      <td>52.189555</td>\n",
       "      <td>47.257474</td>\n",
       "      <td>50.685501</td>\n",
       "      <td>50.334074</td>\n",
       "      <td>50.297334</td>\n",
       "      <td>0.0</td>\n",
       "      <td>0.0</td>\n",
       "      <td>0.0</td>\n",
       "      <td>1.0</td>\n",
       "    </tr>\n",
       "  </tbody>\n",
       "</table>\n",
       "<p>5 rows × 69 columns</p>\n",
       "</div>"
      ],
      "text/plain": [
       "   hour_sin  hour_cos   day_sin   day_cos  mon_sin   mon_cos  weekday_sin  \\\n",
       "0  0.000000  1.000000 -0.406737 -0.913545      0.5  0.866025    -0.433884   \n",
       "1  0.258819  0.965926 -0.406737 -0.913545      0.5  0.866025    -0.433884   \n",
       "2  0.500000  0.866025 -0.406737 -0.913545      0.5  0.866025    -0.433884   \n",
       "3  0.707107  0.707107 -0.406737 -0.913545      0.5  0.866025    -0.433884   \n",
       "4  0.866025  0.500000 -0.406737 -0.913545      0.5  0.866025    -0.433884   \n",
       "\n",
       "   weekday_cos  year  RATIO_close_and_MA3  ...  RSI_12_num_trades  \\\n",
       "0    -0.900969  2020             0.998395  ...          44.246383   \n",
       "1    -0.900969  2020             1.003510  ...          43.468397   \n",
       "2    -0.900969  2020             1.005462  ...          54.737831   \n",
       "3    -0.900969  2020             0.999496  ...          57.361954   \n",
       "4    -0.900969  2020             1.005046  ...          46.674281   \n",
       "\n",
       "   RSI_24_num_trades  RSI_48_num_trades  RSI_96_num_trades  \\\n",
       "0          47.372031          41.390263          50.373816   \n",
       "1          40.757926          44.977155          50.329082   \n",
       "2          53.922093          51.046656          50.508626   \n",
       "3          54.634917          49.887067          50.916972   \n",
       "4          52.189555          47.257474          50.685501   \n",
       "\n",
       "   RSI_192_num_trades  RSI_384_num_trades    B    H    S    W  \n",
       "0           50.212888           50.352010  1.0  0.0  0.0  0.0  \n",
       "1           49.961415           50.023663  0.0  0.0  1.0  0.0  \n",
       "2           50.688208           50.405497  0.0  0.0  0.0  1.0  \n",
       "3           50.645574           50.478997  0.0  0.0  0.0  1.0  \n",
       "4           50.334074           50.297334  0.0  0.0  0.0  1.0  \n",
       "\n",
       "[5 rows x 69 columns]"
      ]
     },
     "execution_count": 51,
     "metadata": {},
     "output_type": "execute_result"
    }
   ],
   "source": [
    "df_result.head()"
   ]
  },
  {
   "cell_type": "code",
   "execution_count": 52,
   "metadata": {},
   "outputs": [
    {
     "data": {
      "text/plain": [
       "Index(['hour_sin', 'hour_cos', 'day_sin', 'day_cos', 'mon_sin', 'mon_cos',\n",
       "       'weekday_sin', 'weekday_cos', 'year', 'RATIO_close_and_MA3',\n",
       "       'RATIO_close_and_MA6', 'RATIO_close_and_MA12', 'RATIO_close_and_MA24',\n",
       "       'RATIO_close_and_MA48', 'RATIO_close_and_MA96', 'RATIO_close_and_MA192',\n",
       "       'RATIO_close_and_MA384', 'RATIO_quote_asset_volume_and_MA3',\n",
       "       'RATIO_quote_asset_volume_and_MA6', 'RATIO_quote_asset_volume_and_MA12',\n",
       "       'RATIO_quote_asset_volume_and_MA24',\n",
       "       'RATIO_quote_asset_volume_and_MA48',\n",
       "       'RATIO_quote_asset_volume_and_MA96',\n",
       "       'RATIO_quote_asset_volume_and_MA192',\n",
       "       'RATIO_quote_asset_volume_and_MA384', 'RATIO_num_trades_and_MA3',\n",
       "       'RATIO_num_trades_and_MA6', 'RATIO_num_trades_and_MA12',\n",
       "       'RATIO_num_trades_and_MA24', 'RATIO_num_trades_and_MA48',\n",
       "       'RATIO_num_trades_and_MA96', 'RATIO_num_trades_and_MA192',\n",
       "       'RATIO_num_trades_and_MA384', 'RATIO_close_and_STD3',\n",
       "       'RATIO_close_and_STD6', 'RATIO_close_and_STD12',\n",
       "       'RATIO_close_and_STD24', 'RATIO_close_and_STD48',\n",
       "       'RATIO_close_and_STD96', 'RATIO_close_and_STD192',\n",
       "       'RATIO_close_and_STD384', 'RSI_3_close', 'RSI_6_close', 'RSI_12_close',\n",
       "       'RSI_24_close', 'RSI_48_close', 'RSI_96_close', 'RSI_192_close',\n",
       "       'RSI_384_close', 'RSI_3_quote_asset_volume', 'RSI_6_quote_asset_volume',\n",
       "       'RSI_12_quote_asset_volume', 'RSI_24_quote_asset_volume',\n",
       "       'RSI_48_quote_asset_volume', 'RSI_96_quote_asset_volume',\n",
       "       'RSI_192_quote_asset_volume', 'RSI_384_quote_asset_volume',\n",
       "       'RSI_3_num_trades', 'RSI_6_num_trades', 'RSI_12_num_trades',\n",
       "       'RSI_24_num_trades', 'RSI_48_num_trades', 'RSI_96_num_trades',\n",
       "       'RSI_192_num_trades', 'RSI_384_num_trades', 'B', 'H', 'S', 'W'],\n",
       "      dtype='object')"
      ]
     },
     "execution_count": 52,
     "metadata": {},
     "output_type": "execute_result"
    }
   ],
   "source": [
    "df_result.columns"
   ]
  },
  {
   "cell_type": "code",
   "execution_count": 61,
   "metadata": {},
   "outputs": [
    {
     "name": "stdout",
     "output_type": "stream",
     "text": [
      "(27877, 2, 65)\n",
      "(27877, 4)\n",
      "(6970, 2, 65)\n",
      "(6970, 4)\n"
     ]
    },
    {
     "data": {
      "application/vnd.plotly.v1+json": {
       "config": {
        "plotlyServerURL": "https://plot.ly"
       },
       "data": [
        {
         "mode": "lines",
         "name": "sens_at_spec",
         "type": "scatter",
         "y": [
          0.0003945905191358179,
          0.10535567253828049,
          0.03974602743983269,
          0.0390285886824131,
          0.057323239743709564,
          0.09491695463657379,
          0.15661656856536865,
          0.2422427088022232,
          0.33396705985069275,
          0.2917817533016205,
          0.2958352863788605,
          0.3223087191581726,
          0.3614449203014374,
          0.36327439546585083,
          0.35276392102241516,
          0.358682781457901,
          0.3570685386657715,
          0.3630950152873993,
          0.36965957283973694,
          0.3694084584712982,
          0.370161771774292,
          0.3701976537704468,
          0.3738207221031189,
          0.37457403540611267,
          0.3754708170890808,
          0.3748610019683838,
          0.37457403540611267,
          0.37493273615837097,
          0.3778383731842041,
          0.37565016746520996,
          0.3764752447605133,
          0.3758295476436615,
          0.3784840404987335,
          0.3785199224948883,
          0.38142555952072144,
          0.38271692395210266,
          0.38347023725509644,
          0.384151816368103,
          0.3845822811126709,
          0.38612475991249084,
          0.3869856894016266,
          0.38777485489845276,
          0.38913801312446594,
          0.38978368043899536,
          0.39042937755584717,
          0.3919360041618347,
          0.3916490375995636,
          0.39311978220939636,
          0.3936937153339386,
          0.3959895372390747,
          0.396455854177475,
          0.3976755142211914,
          0.3974243998527527,
          0.39957672357559204,
          0.40018653869628906,
          0.3996484577655792,
          0.400401771068573,
          0.40058112144470215,
          0.4017648994922638,
          0.4030562937259674,
          0.40284106135368347,
          0.40463465452194214,
          0.40434765815734863,
          0.40528035163879395,
          0.4064640998840332,
          0.4071815609931946,
          0.40800660848617554,
          0.4082218408584595,
          0.41001543402671814,
          0.41098397970199585,
          0.41098397970199585,
          0.41062524914741516,
          0.4122394919395447,
          0.41241884231567383,
          0.41263407468795776,
          0.41367435455322266,
          0.4141765534877777,
          0.4139254689216614,
          0.4146070182323456,
          0.4158625304698944,
          0.4162212610244751,
          0.417978972196579,
          0.4181942045688629,
          0.4193421006202698,
          0.41873228549957275,
          0.41973671317100525
         ]
        },
        {
         "mode": "lines",
         "name": "val_sens_at_spec",
         "type": "scatter",
         "y": [
          0.03959827870130539,
          0.05007173493504524,
          0.40172165632247925,
          0.36413198709487915,
          0.394691526889801,
          0.45236727595329285,
          0.318794846534729,
          0.4252510666847229,
          0.4086083173751831,
          0.50774747133255,
          0.4678622782230377,
          0.5074605345726013,
          0.5160688757896423,
          0.5133429169654846,
          0.5097560882568359,
          0.5157819390296936,
          0.5157819390296936,
          0.519942581653595,
          0.523672878742218,
          0.5275466442108154,
          0.529411792755127,
          0.5299856662750244,
          0.5317073464393616,
          0.5329985618591309,
          0.5332854986190796,
          0.533859372138977,
          0.5315638184547424,
          0.4977044463157654,
          0.4569583833217621,
          0.43170732259750366,
          0.4114777743816376,
          0.41678622364997864,
          0.4140602648258209,
          0.40918222069740295,
          0.4078909754753113,
          0.40918222069740295,
          0.41391679644584656,
          0.41707316040992737,
          0.41477760672569275,
          0.41563844680786133,
          0.41506457328796387,
          0.413055956363678,
          0.42266857624053955,
          0.4196556806564331,
          0.4166427552700043,
          0.41520804166793823,
          0.42065995931625366,
          0.4213773310184479,
          0.4228120446205139,
          0.42625537514686584,
          0.425538033246994,
          0.427977055311203,
          0.4299856424331665,
          0.430416077375412,
          0.43342897295951843,
          0.4360114634037018,
          0.4350071847438812,
          0.43845051527023315,
          0.4407460689544678,
          0.4383070170879364,
          0.44175034761428833,
          0.4421807825565338,
          0.4407460689544678,
          0.4427546560764313,
          0.4434720277786255,
          0.4401721656322479,
          0.4453371465206146,
          0.44476327300071716,
          0.44791966676712036,
          0.44476327300071716,
          0.44791966676712036,
          0.45035868883132935,
          0.44949784874916077,
          0.45236727595329285,
          0.4522238075733185,
          0.45423242449760437,
          0.4500717222690582,
          0.45193687081336975,
          0.45394548773765564,
          0.456527978181839,
          0.4545193612575531,
          0.4560975730419159,
          0.4576757550239563,
          0.4556671380996704,
          0.45868006348609924,
          0.45753228664398193
         ]
        }
       ],
       "layout": {
        "template": {
         "data": {
          "bar": [
           {
            "error_x": {
             "color": "#2a3f5f"
            },
            "error_y": {
             "color": "#2a3f5f"
            },
            "marker": {
             "line": {
              "color": "#E5ECF6",
              "width": 0.5
             },
             "pattern": {
              "fillmode": "overlay",
              "size": 10,
              "solidity": 0.2
             }
            },
            "type": "bar"
           }
          ],
          "barpolar": [
           {
            "marker": {
             "line": {
              "color": "#E5ECF6",
              "width": 0.5
             },
             "pattern": {
              "fillmode": "overlay",
              "size": 10,
              "solidity": 0.2
             }
            },
            "type": "barpolar"
           }
          ],
          "carpet": [
           {
            "aaxis": {
             "endlinecolor": "#2a3f5f",
             "gridcolor": "white",
             "linecolor": "white",
             "minorgridcolor": "white",
             "startlinecolor": "#2a3f5f"
            },
            "baxis": {
             "endlinecolor": "#2a3f5f",
             "gridcolor": "white",
             "linecolor": "white",
             "minorgridcolor": "white",
             "startlinecolor": "#2a3f5f"
            },
            "type": "carpet"
           }
          ],
          "choropleth": [
           {
            "colorbar": {
             "outlinewidth": 0,
             "ticks": ""
            },
            "type": "choropleth"
           }
          ],
          "contour": [
           {
            "colorbar": {
             "outlinewidth": 0,
             "ticks": ""
            },
            "colorscale": [
             [
              0,
              "#0d0887"
             ],
             [
              0.1111111111111111,
              "#46039f"
             ],
             [
              0.2222222222222222,
              "#7201a8"
             ],
             [
              0.3333333333333333,
              "#9c179e"
             ],
             [
              0.4444444444444444,
              "#bd3786"
             ],
             [
              0.5555555555555556,
              "#d8576b"
             ],
             [
              0.6666666666666666,
              "#ed7953"
             ],
             [
              0.7777777777777778,
              "#fb9f3a"
             ],
             [
              0.8888888888888888,
              "#fdca26"
             ],
             [
              1,
              "#f0f921"
             ]
            ],
            "type": "contour"
           }
          ],
          "contourcarpet": [
           {
            "colorbar": {
             "outlinewidth": 0,
             "ticks": ""
            },
            "type": "contourcarpet"
           }
          ],
          "heatmap": [
           {
            "colorbar": {
             "outlinewidth": 0,
             "ticks": ""
            },
            "colorscale": [
             [
              0,
              "#0d0887"
             ],
             [
              0.1111111111111111,
              "#46039f"
             ],
             [
              0.2222222222222222,
              "#7201a8"
             ],
             [
              0.3333333333333333,
              "#9c179e"
             ],
             [
              0.4444444444444444,
              "#bd3786"
             ],
             [
              0.5555555555555556,
              "#d8576b"
             ],
             [
              0.6666666666666666,
              "#ed7953"
             ],
             [
              0.7777777777777778,
              "#fb9f3a"
             ],
             [
              0.8888888888888888,
              "#fdca26"
             ],
             [
              1,
              "#f0f921"
             ]
            ],
            "type": "heatmap"
           }
          ],
          "heatmapgl": [
           {
            "colorbar": {
             "outlinewidth": 0,
             "ticks": ""
            },
            "colorscale": [
             [
              0,
              "#0d0887"
             ],
             [
              0.1111111111111111,
              "#46039f"
             ],
             [
              0.2222222222222222,
              "#7201a8"
             ],
             [
              0.3333333333333333,
              "#9c179e"
             ],
             [
              0.4444444444444444,
              "#bd3786"
             ],
             [
              0.5555555555555556,
              "#d8576b"
             ],
             [
              0.6666666666666666,
              "#ed7953"
             ],
             [
              0.7777777777777778,
              "#fb9f3a"
             ],
             [
              0.8888888888888888,
              "#fdca26"
             ],
             [
              1,
              "#f0f921"
             ]
            ],
            "type": "heatmapgl"
           }
          ],
          "histogram": [
           {
            "marker": {
             "pattern": {
              "fillmode": "overlay",
              "size": 10,
              "solidity": 0.2
             }
            },
            "type": "histogram"
           }
          ],
          "histogram2d": [
           {
            "colorbar": {
             "outlinewidth": 0,
             "ticks": ""
            },
            "colorscale": [
             [
              0,
              "#0d0887"
             ],
             [
              0.1111111111111111,
              "#46039f"
             ],
             [
              0.2222222222222222,
              "#7201a8"
             ],
             [
              0.3333333333333333,
              "#9c179e"
             ],
             [
              0.4444444444444444,
              "#bd3786"
             ],
             [
              0.5555555555555556,
              "#d8576b"
             ],
             [
              0.6666666666666666,
              "#ed7953"
             ],
             [
              0.7777777777777778,
              "#fb9f3a"
             ],
             [
              0.8888888888888888,
              "#fdca26"
             ],
             [
              1,
              "#f0f921"
             ]
            ],
            "type": "histogram2d"
           }
          ],
          "histogram2dcontour": [
           {
            "colorbar": {
             "outlinewidth": 0,
             "ticks": ""
            },
            "colorscale": [
             [
              0,
              "#0d0887"
             ],
             [
              0.1111111111111111,
              "#46039f"
             ],
             [
              0.2222222222222222,
              "#7201a8"
             ],
             [
              0.3333333333333333,
              "#9c179e"
             ],
             [
              0.4444444444444444,
              "#bd3786"
             ],
             [
              0.5555555555555556,
              "#d8576b"
             ],
             [
              0.6666666666666666,
              "#ed7953"
             ],
             [
              0.7777777777777778,
              "#fb9f3a"
             ],
             [
              0.8888888888888888,
              "#fdca26"
             ],
             [
              1,
              "#f0f921"
             ]
            ],
            "type": "histogram2dcontour"
           }
          ],
          "mesh3d": [
           {
            "colorbar": {
             "outlinewidth": 0,
             "ticks": ""
            },
            "type": "mesh3d"
           }
          ],
          "parcoords": [
           {
            "line": {
             "colorbar": {
              "outlinewidth": 0,
              "ticks": ""
             }
            },
            "type": "parcoords"
           }
          ],
          "pie": [
           {
            "automargin": true,
            "type": "pie"
           }
          ],
          "scatter": [
           {
            "fillpattern": {
             "fillmode": "overlay",
             "size": 10,
             "solidity": 0.2
            },
            "type": "scatter"
           }
          ],
          "scatter3d": [
           {
            "line": {
             "colorbar": {
              "outlinewidth": 0,
              "ticks": ""
             }
            },
            "marker": {
             "colorbar": {
              "outlinewidth": 0,
              "ticks": ""
             }
            },
            "type": "scatter3d"
           }
          ],
          "scattercarpet": [
           {
            "marker": {
             "colorbar": {
              "outlinewidth": 0,
              "ticks": ""
             }
            },
            "type": "scattercarpet"
           }
          ],
          "scattergeo": [
           {
            "marker": {
             "colorbar": {
              "outlinewidth": 0,
              "ticks": ""
             }
            },
            "type": "scattergeo"
           }
          ],
          "scattergl": [
           {
            "marker": {
             "colorbar": {
              "outlinewidth": 0,
              "ticks": ""
             }
            },
            "type": "scattergl"
           }
          ],
          "scattermapbox": [
           {
            "marker": {
             "colorbar": {
              "outlinewidth": 0,
              "ticks": ""
             }
            },
            "type": "scattermapbox"
           }
          ],
          "scatterpolar": [
           {
            "marker": {
             "colorbar": {
              "outlinewidth": 0,
              "ticks": ""
             }
            },
            "type": "scatterpolar"
           }
          ],
          "scatterpolargl": [
           {
            "marker": {
             "colorbar": {
              "outlinewidth": 0,
              "ticks": ""
             }
            },
            "type": "scatterpolargl"
           }
          ],
          "scatterternary": [
           {
            "marker": {
             "colorbar": {
              "outlinewidth": 0,
              "ticks": ""
             }
            },
            "type": "scatterternary"
           }
          ],
          "surface": [
           {
            "colorbar": {
             "outlinewidth": 0,
             "ticks": ""
            },
            "colorscale": [
             [
              0,
              "#0d0887"
             ],
             [
              0.1111111111111111,
              "#46039f"
             ],
             [
              0.2222222222222222,
              "#7201a8"
             ],
             [
              0.3333333333333333,
              "#9c179e"
             ],
             [
              0.4444444444444444,
              "#bd3786"
             ],
             [
              0.5555555555555556,
              "#d8576b"
             ],
             [
              0.6666666666666666,
              "#ed7953"
             ],
             [
              0.7777777777777778,
              "#fb9f3a"
             ],
             [
              0.8888888888888888,
              "#fdca26"
             ],
             [
              1,
              "#f0f921"
             ]
            ],
            "type": "surface"
           }
          ],
          "table": [
           {
            "cells": {
             "fill": {
              "color": "#EBF0F8"
             },
             "line": {
              "color": "white"
             }
            },
            "header": {
             "fill": {
              "color": "#C8D4E3"
             },
             "line": {
              "color": "white"
             }
            },
            "type": "table"
           }
          ]
         },
         "layout": {
          "annotationdefaults": {
           "arrowcolor": "#2a3f5f",
           "arrowhead": 0,
           "arrowwidth": 1
          },
          "autotypenumbers": "strict",
          "coloraxis": {
           "colorbar": {
            "outlinewidth": 0,
            "ticks": ""
           }
          },
          "colorscale": {
           "diverging": [
            [
             0,
             "#8e0152"
            ],
            [
             0.1,
             "#c51b7d"
            ],
            [
             0.2,
             "#de77ae"
            ],
            [
             0.3,
             "#f1b6da"
            ],
            [
             0.4,
             "#fde0ef"
            ],
            [
             0.5,
             "#f7f7f7"
            ],
            [
             0.6,
             "#e6f5d0"
            ],
            [
             0.7,
             "#b8e186"
            ],
            [
             0.8,
             "#7fbc41"
            ],
            [
             0.9,
             "#4d9221"
            ],
            [
             1,
             "#276419"
            ]
           ],
           "sequential": [
            [
             0,
             "#0d0887"
            ],
            [
             0.1111111111111111,
             "#46039f"
            ],
            [
             0.2222222222222222,
             "#7201a8"
            ],
            [
             0.3333333333333333,
             "#9c179e"
            ],
            [
             0.4444444444444444,
             "#bd3786"
            ],
            [
             0.5555555555555556,
             "#d8576b"
            ],
            [
             0.6666666666666666,
             "#ed7953"
            ],
            [
             0.7777777777777778,
             "#fb9f3a"
            ],
            [
             0.8888888888888888,
             "#fdca26"
            ],
            [
             1,
             "#f0f921"
            ]
           ],
           "sequentialminus": [
            [
             0,
             "#0d0887"
            ],
            [
             0.1111111111111111,
             "#46039f"
            ],
            [
             0.2222222222222222,
             "#7201a8"
            ],
            [
             0.3333333333333333,
             "#9c179e"
            ],
            [
             0.4444444444444444,
             "#bd3786"
            ],
            [
             0.5555555555555556,
             "#d8576b"
            ],
            [
             0.6666666666666666,
             "#ed7953"
            ],
            [
             0.7777777777777778,
             "#fb9f3a"
            ],
            [
             0.8888888888888888,
             "#fdca26"
            ],
            [
             1,
             "#f0f921"
            ]
           ]
          },
          "colorway": [
           "#636efa",
           "#EF553B",
           "#00cc96",
           "#ab63fa",
           "#FFA15A",
           "#19d3f3",
           "#FF6692",
           "#B6E880",
           "#FF97FF",
           "#FECB52"
          ],
          "font": {
           "color": "#2a3f5f"
          },
          "geo": {
           "bgcolor": "white",
           "lakecolor": "white",
           "landcolor": "#E5ECF6",
           "showlakes": true,
           "showland": true,
           "subunitcolor": "white"
          },
          "hoverlabel": {
           "align": "left"
          },
          "hovermode": "closest",
          "mapbox": {
           "style": "light"
          },
          "paper_bgcolor": "white",
          "plot_bgcolor": "#E5ECF6",
          "polar": {
           "angularaxis": {
            "gridcolor": "white",
            "linecolor": "white",
            "ticks": ""
           },
           "bgcolor": "#E5ECF6",
           "radialaxis": {
            "gridcolor": "white",
            "linecolor": "white",
            "ticks": ""
           }
          },
          "scene": {
           "xaxis": {
            "backgroundcolor": "#E5ECF6",
            "gridcolor": "white",
            "gridwidth": 2,
            "linecolor": "white",
            "showbackground": true,
            "ticks": "",
            "zerolinecolor": "white"
           },
           "yaxis": {
            "backgroundcolor": "#E5ECF6",
            "gridcolor": "white",
            "gridwidth": 2,
            "linecolor": "white",
            "showbackground": true,
            "ticks": "",
            "zerolinecolor": "white"
           },
           "zaxis": {
            "backgroundcolor": "#E5ECF6",
            "gridcolor": "white",
            "gridwidth": 2,
            "linecolor": "white",
            "showbackground": true,
            "ticks": "",
            "zerolinecolor": "white"
           }
          },
          "shapedefaults": {
           "line": {
            "color": "#2a3f5f"
           }
          },
          "ternary": {
           "aaxis": {
            "gridcolor": "white",
            "linecolor": "white",
            "ticks": ""
           },
           "baxis": {
            "gridcolor": "white",
            "linecolor": "white",
            "ticks": ""
           },
           "bgcolor": "#E5ECF6",
           "caxis": {
            "gridcolor": "white",
            "linecolor": "white",
            "ticks": ""
           }
          },
          "title": {
           "x": 0.05
          },
          "xaxis": {
           "automargin": true,
           "gridcolor": "white",
           "linecolor": "white",
           "ticks": "",
           "title": {
            "standoff": 15
           },
           "zerolinecolor": "white",
           "zerolinewidth": 2
          },
          "yaxis": {
           "automargin": true,
           "gridcolor": "white",
           "linecolor": "white",
           "ticks": "",
           "title": {
            "standoff": 15
           },
           "zerolinecolor": "white",
           "zerolinewidth": 2
          }
         }
        }
       }
      }
     },
     "metadata": {},
     "output_type": "display_data"
    },
    {
     "name": "stdout",
     "output_type": "stream",
     "text": [
      "models/2024-02-18 19-20-14 val_sens_at_spec 0.534 time frame 2.hd5\n",
      "0.534\n",
      "------------------------------------------------------------------------------------------------------------------------------------------------------\n",
      "(27876, 3, 65)\n",
      "(27876, 4)\n",
      "(6970, 3, 65)\n",
      "(6970, 4)\n"
     ]
    },
    {
     "data": {
      "application/vnd.plotly.v1+json": {
       "config": {
        "plotlyServerURL": "https://plot.ly"
       },
       "data": [
        {
         "mode": "lines",
         "name": "sens_at_spec",
         "type": "scatter",
         "y": [
          0.012340364046394825,
          0.030456306412816048,
          0.11931410431861877,
          0.27127277851104736,
          0.24192854762077332,
          0.26815181970596313,
          0.32554885745048523,
          0.32414981722831726,
          0.30650022625923157,
          0.33182665705680847,
          0.345458447933197,
          0.35632801055908203,
          0.3599511981010437,
          0.35693785548210144,
          0.36877599358558655,
          0.3656550347805023,
          0.36902710795402527,
          0.3699239492416382,
          0.3730449080467224,
          0.37616586685180664,
          0.37455159425735474,
          0.3759506344795227,
          0.3774931728839874,
          0.3787846267223358,
          0.3798966705799103,
          0.37993255257606506,
          0.3798966705799103,
          0.3810805082321167,
          0.38161858916282654,
          0.3819773197174072,
          0.38319700956344604,
          0.385170042514801,
          0.3864973485469818,
          0.3881833851337433,
          0.3900846540927887,
          0.3895106911659241,
          0.3919859230518341,
          0.3931697607040405,
          0.39471229910850525,
          0.39560914039611816,
          0.3970799148082733,
          0.3975104093551636,
          0.3988018333911896,
          0.4009900987148285,
          0.40235328674316406,
          0.4029272496700287,
          0.40339359641075134,
          0.4041110575199127,
          0.40461328625679016,
          0.4054025113582611,
          0.4054383635520935,
          0.40690916776657104,
          0.40751901268959045,
          0.4073037803173065,
          0.4079494774341583,
          0.4082723557949066,
          0.4102453589439392,
          0.40974316000938416,
          0.4100301265716553,
          0.4111780822277069,
          0.4123977720737457,
          0.41304346919059753,
          0.4147653877735138,
          0.4147653877735138,
          0.41645142436027527,
          0.41616442799568176,
          0.41713300347328186,
          0.4169536530971527,
          0.4182809591293335,
          0.4182809591293335,
          0.41964414715766907,
          0.4193212687969208,
          0.41967999935150146,
          0.4202898442745209,
          0.4211149513721466,
          0.4211149513721466,
          0.42233461141586304,
          0.4243794083595276,
          0.4247739911079407,
          0.42480987310409546,
          0.42585018277168274,
          0.42771559953689575,
          0.4282536804676056
         ]
        },
        {
         "mode": "lines",
         "name": "val_sens_at_spec",
         "type": "scatter",
         "y": [
          0.05781922489404678,
          0.15093256533145905,
          0.11936872452497482,
          0.3888091742992401,
          0.4229555130004883,
          0.37159255146980286,
          0.4797704517841339,
          0.4632711708545685,
          0.4901004433631897,
          0.5299856662750244,
          0.5361549258232117,
          0.5302726030349731,
          0.5340028405189514,
          0.5413199663162231,
          0.5410329699516296,
          0.5383070111274719,
          0.5426111817359924,
          0.5406025648117065,
          0.5433285236358643,
          0.5440459251403809,
          0.5441893935203552,
          0.5461980104446411,
          0.5469153523445129,
          0.5463414788246155,
          0.5437589883804321,
          0.5308464765548706,
          0.5070301294326782,
          0.4865136444568634,
          0.4746054410934448,
          0.4647058844566345,
          0.4568149149417877,
          0.45265424251556396,
          0.447776198387146,
          0.44447633624076843,
          0.4433285593986511,
          0.4426111876964569,
          0.4401721656322479,
          0.43773314356803894,
          0.43802008032798767,
          0.44203731417655945,
          0.44361549615859985,
          0.43931132555007935,
          0.43931132555007935,
          0.43773314356803894,
          0.43572452664375305,
          0.4350071847438812,
          0.43773314356803894,
          0.4354375898838043,
          0.439167857170105,
          0.44045910239219666,
          0.440602570772171,
          0.43845051527023315,
          0.43802008032798767,
          0.43687230348587036,
          0.4394547939300537,
          0.4385939836502075,
          0.4394547939300537,
          0.4390243887901306,
          0.43931132555007935,
          0.4387374520301819,
          0.4418938159942627,
          0.4427546560764313,
          0.44404590129852295,
          0.4461979866027832,
          0.4484935402870178,
          0.44447633624076843,
          0.44404590129852295,
          0.4450502097606659,
          0.44447633624076843,
          0.4453371465206146,
          0.4469153583049774,
          0.4474892318248749,
          0.447776198387146,
          0.4480631351470947,
          0.4500717222690582,
          0.45035868883132935,
          0.4520803391933441,
          0.4552367329597473,
          0.45509326457977295,
          0.4536585509777069,
          0.4545193612575531,
          0.4558106064796448,
          0.45710185170173645
         ]
        }
       ],
       "layout": {
        "template": {
         "data": {
          "bar": [
           {
            "error_x": {
             "color": "#2a3f5f"
            },
            "error_y": {
             "color": "#2a3f5f"
            },
            "marker": {
             "line": {
              "color": "#E5ECF6",
              "width": 0.5
             },
             "pattern": {
              "fillmode": "overlay",
              "size": 10,
              "solidity": 0.2
             }
            },
            "type": "bar"
           }
          ],
          "barpolar": [
           {
            "marker": {
             "line": {
              "color": "#E5ECF6",
              "width": 0.5
             },
             "pattern": {
              "fillmode": "overlay",
              "size": 10,
              "solidity": 0.2
             }
            },
            "type": "barpolar"
           }
          ],
          "carpet": [
           {
            "aaxis": {
             "endlinecolor": "#2a3f5f",
             "gridcolor": "white",
             "linecolor": "white",
             "minorgridcolor": "white",
             "startlinecolor": "#2a3f5f"
            },
            "baxis": {
             "endlinecolor": "#2a3f5f",
             "gridcolor": "white",
             "linecolor": "white",
             "minorgridcolor": "white",
             "startlinecolor": "#2a3f5f"
            },
            "type": "carpet"
           }
          ],
          "choropleth": [
           {
            "colorbar": {
             "outlinewidth": 0,
             "ticks": ""
            },
            "type": "choropleth"
           }
          ],
          "contour": [
           {
            "colorbar": {
             "outlinewidth": 0,
             "ticks": ""
            },
            "colorscale": [
             [
              0,
              "#0d0887"
             ],
             [
              0.1111111111111111,
              "#46039f"
             ],
             [
              0.2222222222222222,
              "#7201a8"
             ],
             [
              0.3333333333333333,
              "#9c179e"
             ],
             [
              0.4444444444444444,
              "#bd3786"
             ],
             [
              0.5555555555555556,
              "#d8576b"
             ],
             [
              0.6666666666666666,
              "#ed7953"
             ],
             [
              0.7777777777777778,
              "#fb9f3a"
             ],
             [
              0.8888888888888888,
              "#fdca26"
             ],
             [
              1,
              "#f0f921"
             ]
            ],
            "type": "contour"
           }
          ],
          "contourcarpet": [
           {
            "colorbar": {
             "outlinewidth": 0,
             "ticks": ""
            },
            "type": "contourcarpet"
           }
          ],
          "heatmap": [
           {
            "colorbar": {
             "outlinewidth": 0,
             "ticks": ""
            },
            "colorscale": [
             [
              0,
              "#0d0887"
             ],
             [
              0.1111111111111111,
              "#46039f"
             ],
             [
              0.2222222222222222,
              "#7201a8"
             ],
             [
              0.3333333333333333,
              "#9c179e"
             ],
             [
              0.4444444444444444,
              "#bd3786"
             ],
             [
              0.5555555555555556,
              "#d8576b"
             ],
             [
              0.6666666666666666,
              "#ed7953"
             ],
             [
              0.7777777777777778,
              "#fb9f3a"
             ],
             [
              0.8888888888888888,
              "#fdca26"
             ],
             [
              1,
              "#f0f921"
             ]
            ],
            "type": "heatmap"
           }
          ],
          "heatmapgl": [
           {
            "colorbar": {
             "outlinewidth": 0,
             "ticks": ""
            },
            "colorscale": [
             [
              0,
              "#0d0887"
             ],
             [
              0.1111111111111111,
              "#46039f"
             ],
             [
              0.2222222222222222,
              "#7201a8"
             ],
             [
              0.3333333333333333,
              "#9c179e"
             ],
             [
              0.4444444444444444,
              "#bd3786"
             ],
             [
              0.5555555555555556,
              "#d8576b"
             ],
             [
              0.6666666666666666,
              "#ed7953"
             ],
             [
              0.7777777777777778,
              "#fb9f3a"
             ],
             [
              0.8888888888888888,
              "#fdca26"
             ],
             [
              1,
              "#f0f921"
             ]
            ],
            "type": "heatmapgl"
           }
          ],
          "histogram": [
           {
            "marker": {
             "pattern": {
              "fillmode": "overlay",
              "size": 10,
              "solidity": 0.2
             }
            },
            "type": "histogram"
           }
          ],
          "histogram2d": [
           {
            "colorbar": {
             "outlinewidth": 0,
             "ticks": ""
            },
            "colorscale": [
             [
              0,
              "#0d0887"
             ],
             [
              0.1111111111111111,
              "#46039f"
             ],
             [
              0.2222222222222222,
              "#7201a8"
             ],
             [
              0.3333333333333333,
              "#9c179e"
             ],
             [
              0.4444444444444444,
              "#bd3786"
             ],
             [
              0.5555555555555556,
              "#d8576b"
             ],
             [
              0.6666666666666666,
              "#ed7953"
             ],
             [
              0.7777777777777778,
              "#fb9f3a"
             ],
             [
              0.8888888888888888,
              "#fdca26"
             ],
             [
              1,
              "#f0f921"
             ]
            ],
            "type": "histogram2d"
           }
          ],
          "histogram2dcontour": [
           {
            "colorbar": {
             "outlinewidth": 0,
             "ticks": ""
            },
            "colorscale": [
             [
              0,
              "#0d0887"
             ],
             [
              0.1111111111111111,
              "#46039f"
             ],
             [
              0.2222222222222222,
              "#7201a8"
             ],
             [
              0.3333333333333333,
              "#9c179e"
             ],
             [
              0.4444444444444444,
              "#bd3786"
             ],
             [
              0.5555555555555556,
              "#d8576b"
             ],
             [
              0.6666666666666666,
              "#ed7953"
             ],
             [
              0.7777777777777778,
              "#fb9f3a"
             ],
             [
              0.8888888888888888,
              "#fdca26"
             ],
             [
              1,
              "#f0f921"
             ]
            ],
            "type": "histogram2dcontour"
           }
          ],
          "mesh3d": [
           {
            "colorbar": {
             "outlinewidth": 0,
             "ticks": ""
            },
            "type": "mesh3d"
           }
          ],
          "parcoords": [
           {
            "line": {
             "colorbar": {
              "outlinewidth": 0,
              "ticks": ""
             }
            },
            "type": "parcoords"
           }
          ],
          "pie": [
           {
            "automargin": true,
            "type": "pie"
           }
          ],
          "scatter": [
           {
            "fillpattern": {
             "fillmode": "overlay",
             "size": 10,
             "solidity": 0.2
            },
            "type": "scatter"
           }
          ],
          "scatter3d": [
           {
            "line": {
             "colorbar": {
              "outlinewidth": 0,
              "ticks": ""
             }
            },
            "marker": {
             "colorbar": {
              "outlinewidth": 0,
              "ticks": ""
             }
            },
            "type": "scatter3d"
           }
          ],
          "scattercarpet": [
           {
            "marker": {
             "colorbar": {
              "outlinewidth": 0,
              "ticks": ""
             }
            },
            "type": "scattercarpet"
           }
          ],
          "scattergeo": [
           {
            "marker": {
             "colorbar": {
              "outlinewidth": 0,
              "ticks": ""
             }
            },
            "type": "scattergeo"
           }
          ],
          "scattergl": [
           {
            "marker": {
             "colorbar": {
              "outlinewidth": 0,
              "ticks": ""
             }
            },
            "type": "scattergl"
           }
          ],
          "scattermapbox": [
           {
            "marker": {
             "colorbar": {
              "outlinewidth": 0,
              "ticks": ""
             }
            },
            "type": "scattermapbox"
           }
          ],
          "scatterpolar": [
           {
            "marker": {
             "colorbar": {
              "outlinewidth": 0,
              "ticks": ""
             }
            },
            "type": "scatterpolar"
           }
          ],
          "scatterpolargl": [
           {
            "marker": {
             "colorbar": {
              "outlinewidth": 0,
              "ticks": ""
             }
            },
            "type": "scatterpolargl"
           }
          ],
          "scatterternary": [
           {
            "marker": {
             "colorbar": {
              "outlinewidth": 0,
              "ticks": ""
             }
            },
            "type": "scatterternary"
           }
          ],
          "surface": [
           {
            "colorbar": {
             "outlinewidth": 0,
             "ticks": ""
            },
            "colorscale": [
             [
              0,
              "#0d0887"
             ],
             [
              0.1111111111111111,
              "#46039f"
             ],
             [
              0.2222222222222222,
              "#7201a8"
             ],
             [
              0.3333333333333333,
              "#9c179e"
             ],
             [
              0.4444444444444444,
              "#bd3786"
             ],
             [
              0.5555555555555556,
              "#d8576b"
             ],
             [
              0.6666666666666666,
              "#ed7953"
             ],
             [
              0.7777777777777778,
              "#fb9f3a"
             ],
             [
              0.8888888888888888,
              "#fdca26"
             ],
             [
              1,
              "#f0f921"
             ]
            ],
            "type": "surface"
           }
          ],
          "table": [
           {
            "cells": {
             "fill": {
              "color": "#EBF0F8"
             },
             "line": {
              "color": "white"
             }
            },
            "header": {
             "fill": {
              "color": "#C8D4E3"
             },
             "line": {
              "color": "white"
             }
            },
            "type": "table"
           }
          ]
         },
         "layout": {
          "annotationdefaults": {
           "arrowcolor": "#2a3f5f",
           "arrowhead": 0,
           "arrowwidth": 1
          },
          "autotypenumbers": "strict",
          "coloraxis": {
           "colorbar": {
            "outlinewidth": 0,
            "ticks": ""
           }
          },
          "colorscale": {
           "diverging": [
            [
             0,
             "#8e0152"
            ],
            [
             0.1,
             "#c51b7d"
            ],
            [
             0.2,
             "#de77ae"
            ],
            [
             0.3,
             "#f1b6da"
            ],
            [
             0.4,
             "#fde0ef"
            ],
            [
             0.5,
             "#f7f7f7"
            ],
            [
             0.6,
             "#e6f5d0"
            ],
            [
             0.7,
             "#b8e186"
            ],
            [
             0.8,
             "#7fbc41"
            ],
            [
             0.9,
             "#4d9221"
            ],
            [
             1,
             "#276419"
            ]
           ],
           "sequential": [
            [
             0,
             "#0d0887"
            ],
            [
             0.1111111111111111,
             "#46039f"
            ],
            [
             0.2222222222222222,
             "#7201a8"
            ],
            [
             0.3333333333333333,
             "#9c179e"
            ],
            [
             0.4444444444444444,
             "#bd3786"
            ],
            [
             0.5555555555555556,
             "#d8576b"
            ],
            [
             0.6666666666666666,
             "#ed7953"
            ],
            [
             0.7777777777777778,
             "#fb9f3a"
            ],
            [
             0.8888888888888888,
             "#fdca26"
            ],
            [
             1,
             "#f0f921"
            ]
           ],
           "sequentialminus": [
            [
             0,
             "#0d0887"
            ],
            [
             0.1111111111111111,
             "#46039f"
            ],
            [
             0.2222222222222222,
             "#7201a8"
            ],
            [
             0.3333333333333333,
             "#9c179e"
            ],
            [
             0.4444444444444444,
             "#bd3786"
            ],
            [
             0.5555555555555556,
             "#d8576b"
            ],
            [
             0.6666666666666666,
             "#ed7953"
            ],
            [
             0.7777777777777778,
             "#fb9f3a"
            ],
            [
             0.8888888888888888,
             "#fdca26"
            ],
            [
             1,
             "#f0f921"
            ]
           ]
          },
          "colorway": [
           "#636efa",
           "#EF553B",
           "#00cc96",
           "#ab63fa",
           "#FFA15A",
           "#19d3f3",
           "#FF6692",
           "#B6E880",
           "#FF97FF",
           "#FECB52"
          ],
          "font": {
           "color": "#2a3f5f"
          },
          "geo": {
           "bgcolor": "white",
           "lakecolor": "white",
           "landcolor": "#E5ECF6",
           "showlakes": true,
           "showland": true,
           "subunitcolor": "white"
          },
          "hoverlabel": {
           "align": "left"
          },
          "hovermode": "closest",
          "mapbox": {
           "style": "light"
          },
          "paper_bgcolor": "white",
          "plot_bgcolor": "#E5ECF6",
          "polar": {
           "angularaxis": {
            "gridcolor": "white",
            "linecolor": "white",
            "ticks": ""
           },
           "bgcolor": "#E5ECF6",
           "radialaxis": {
            "gridcolor": "white",
            "linecolor": "white",
            "ticks": ""
           }
          },
          "scene": {
           "xaxis": {
            "backgroundcolor": "#E5ECF6",
            "gridcolor": "white",
            "gridwidth": 2,
            "linecolor": "white",
            "showbackground": true,
            "ticks": "",
            "zerolinecolor": "white"
           },
           "yaxis": {
            "backgroundcolor": "#E5ECF6",
            "gridcolor": "white",
            "gridwidth": 2,
            "linecolor": "white",
            "showbackground": true,
            "ticks": "",
            "zerolinecolor": "white"
           },
           "zaxis": {
            "backgroundcolor": "#E5ECF6",
            "gridcolor": "white",
            "gridwidth": 2,
            "linecolor": "white",
            "showbackground": true,
            "ticks": "",
            "zerolinecolor": "white"
           }
          },
          "shapedefaults": {
           "line": {
            "color": "#2a3f5f"
           }
          },
          "ternary": {
           "aaxis": {
            "gridcolor": "white",
            "linecolor": "white",
            "ticks": ""
           },
           "baxis": {
            "gridcolor": "white",
            "linecolor": "white",
            "ticks": ""
           },
           "bgcolor": "#E5ECF6",
           "caxis": {
            "gridcolor": "white",
            "linecolor": "white",
            "ticks": ""
           }
          },
          "title": {
           "x": 0.05
          },
          "xaxis": {
           "automargin": true,
           "gridcolor": "white",
           "linecolor": "white",
           "ticks": "",
           "title": {
            "standoff": 15
           },
           "zerolinecolor": "white",
           "zerolinewidth": 2
          },
          "yaxis": {
           "automargin": true,
           "gridcolor": "white",
           "linecolor": "white",
           "ticks": "",
           "title": {
            "standoff": 15
           },
           "zerolinecolor": "white",
           "zerolinewidth": 2
          }
         }
        }
       }
      }
     },
     "metadata": {},
     "output_type": "display_data"
    },
    {
     "name": "stdout",
     "output_type": "stream",
     "text": [
      "models/2024-02-18 19-32-20 val_sens_at_spec 0.547 time frame 3.hd5\n",
      "0.547\n",
      "------------------------------------------------------------------------------------------------------------------------------------------------------\n",
      "(27876, 4, 65)\n",
      "(27876, 4)\n",
      "(6969, 4, 65)\n",
      "(6969, 4)\n"
     ]
    },
    {
     "data": {
      "application/vnd.plotly.v1+json": {
       "config": {
        "plotlyServerURL": "https://plot.ly"
       },
       "data": [
        {
         "mode": "lines",
         "name": "sens_at_spec",
         "type": "scatter",
         "y": [
          0.028519155457615852,
          0.07106471806764603,
          0.16939303278923035,
          0.15213803946971893,
          0.1858946830034256,
          0.2630578279495239,
          0.27679723501205444,
          0.2747524678707123,
          0.32418566942214966,
          0.3287774324417114,
          0.3263380825519562,
          0.32676854729652405,
          0.34090256690979004,
          0.33921653032302856,
          0.33925241231918335,
          0.3426603674888611,
          0.34592482447624207,
          0.35180801153182983,
          0.3532070517539978,
          0.3544626235961914,
          0.359592467546463,
          0.3593772351741791,
          0.36203184723854065,
          0.36332330107688904,
          0.36522457003593445,
          0.36680299043655396,
          0.36902710795402527,
          0.37107187509536743,
          0.3715741038322449,
          0.37426459789276123,
          0.376883327960968,
          0.37831827998161316,
          0.3814750909805298,
          0.3842732012271881,
          0.3853135406970978,
          0.3894748091697693,
          0.3917348384857178,
          0.39370784163475037,
          0.39600372314453125,
          0.39786913990974426,
          0.40278375148773193,
          0.40533074736595154,
          0.4073755145072937,
          0.4102453589439392,
          0.41207489371299744,
          0.4143349230289459,
          0.415411114692688,
          0.4182450771331787,
          0.4228009879589081,
          0.42330318689346313,
          0.4259577989578247,
          0.4273209869861603,
          0.4300832152366638,
          0.43191275000572205,
          0.4330248236656189,
          0.4337422847747803,
          0.43801119923591614,
          0.43675562739372253,
          0.44059404730796814,
          0.44091692566871643,
          0.44091692566871643,
          0.441706120967865,
          0.4438226521015167,
          0.4461902678012848,
          0.44726645946502686,
          0.4500645697116852,
          0.4512483775615692,
          0.4538312554359436,
          0.45404648780822754,
          0.456414133310318,
          0.4567728638648987,
          0.4582795202732086,
          0.4600014388561249,
          0.46107763051986694,
          0.46204620599746704,
          0.4635170102119446,
          0.4656335115432739,
          0.46581289172172546,
          0.4673195481300354,
          0.4699383080005646,
          0.4688979685306549,
          0.4711579978466034,
          0.47162434458732605,
          0.471731960773468,
          0.4728081524372101,
          0.4736332297325134,
          0.47424307465553284,
          0.4759649932384491,
          0.47513991594314575,
          0.47765102982521057,
          0.47772276401519775,
          0.4798751473426819,
          0.4791218340396881,
          0.48191994428634644,
          0.48087960481643677,
          0.48353421688079834,
          0.4832472503185272,
          0.4843592941761017,
          0.48672693967819214,
          0.48730090260505676,
          0.485865980386734,
          0.48923805356025696,
          0.4900990128517151,
          0.4913545846939087,
          0.49185678362846375,
          0.49314823746681213,
          0.49404504895210266,
          0.49504950642585754,
          0.4964126944541931,
          0.49662792682647705,
          0.4964485466480255,
          0.49888792634010315,
          0.49917492270469666,
          0.49953365325927734,
          0.5010403394699097,
          0.5034797191619873,
          0.5049863457679749,
          0.5038384199142456,
          0.5057755708694458,
          0.5052733421325684,
          0.505739688873291,
          0.5075692534446716,
          0.5087530612945557,
          0.5098292231559753,
          0.5115870237350464,
          0.5118022561073303,
          0.5127708315849304,
          0.5123762488365173,
          0.5142775177955627,
          0.5159635543823242,
          0.5150308609008789,
          0.5166810154914856,
          0.5173625946044922,
          0.5171473622322083,
          0.5190845131874084,
          0.5192997455596924,
          0.5204835534095764,
          0.5210934281349182,
          0.521129310131073,
          0.5216673612594604,
          0.5229946970939636,
          0.524895966053009,
          0.5234610438346863,
          0.5253623127937317,
          0.5253264307975769,
          0.5279810428619385,
          0.5279810428619385,
          0.5284115076065063,
          0.5303486585617065,
          0.5295953750610352,
          0.5313889980316162,
          0.532823920249939,
          0.5327880382537842,
          0.5334696769714355,
          0.5339718461036682,
          0.5354426503181458,
          0.536554753780365,
          0.5379179120063782,
          0.5363754034042358,
          0.5384560227394104,
          0.5386712551116943,
          0.5405007600784302,
          0.5418280959129333,
          0.5421150922775269,
          0.5426173210144043,
          0.5437652468681335
         ]
        },
        {
         "mode": "lines",
         "name": "val_sens_at_spec",
         "type": "scatter",
         "y": [
          0.15281963348388672,
          0.33605968952178955,
          0.27163150906562805,
          0.45917636156082153,
          0.36518868803977966,
          0.4781173765659332,
          0.43636101484298706,
          0.46721193194389343,
          0.490314245223999,
          0.48830536007881165,
          0.4993542730808258,
          0.49763238430023193,
          0.5029416084289551,
          0.5055244565010071,
          0.5063854455947876,
          0.47553449869155884,
          0.4227292239665985,
          0.4092409312725067,
          0.4080929756164551,
          0.40149232745170593,
          0.3925957679748535,
          0.387143075466156,
          0.38929545879364014,
          0.38470369577407837,
          0.389725923538208,
          0.39560914039611816,
          0.39144784212112427,
          0.39503514766693115,
          0.40436217188835144,
          0.40565359592437744,
          0.4055101275444031,
          0.4121107757091522,
          0.4141196608543396,
          0.41139331459999084,
          0.41268473863601685,
          0.4151241183280945,
          0.42315971851348877,
          0.4314822852611542,
          0.4284689426422119,
          0.4452575743198395,
          0.44884487986564636,
          0.446835994720459,
          0.45214521884918213,
          0.4548715651035309,
          0.455732524394989,
          0.45716744661331177,
          0.453149676322937,
          0.46233320236206055,
          0.46175920963287354,
          0.45946332812309265,
          0.46333763003349304,
          0.47065576910972595,
          0.4749605357646942,
          0.4781173765659332,
          0.4707992672920227,
          0.47826087474823,
          0.4804132580757141,
          0.4862964451313019,
          0.48830536007881165,
          0.4862964451313019,
          0.4788348376750946,
          0.48385709524154663,
          0.5003587603569031,
          0.5009326934814453,
          0.4972018897533417,
          0.48672693967819214,
          0.49318408966064453,
          0.4999282658100128,
          0.4961974322795868,
          0.49504950642585754,
          0.5098292231559753,
          0.5086812973022461,
          0.5066723823547363,
          0.5053809881210327,
          0.5238915085792542,
          0.5208781957626343,
          0.5053809881210327,
          0.5069593787193298,
          0.509111762046814,
          0.515999436378479,
          0.515999436378479,
          0.5155689716339111,
          0.5147079825401306,
          0.5129860639572144,
          0.5172908306121826,
          0.5257568955421448,
          0.51284259557724,
          0.5214521288871765,
          0.5171473622322083,
          0.5259004235267639,
          0.5184388160705566,
          0.5247524976730347,
          0.5148515105247498,
          0.52173912525177,
          0.5119816064834595,
          0.5205911993980408,
          0.5231740474700928,
          0.5233175754547119,
          0.5210216641426086,
          0.5253264307975769,
          0.5215956568717957,
          0.5194432735443115,
          0.5207346677780151,
          0.5114076733589172,
          0.5139905214309692,
          0.5406801700592041,
          0.5204476714134216,
          0.5192997455596924,
          0.5106902122497559,
          0.5197302103042603,
          0.5330750346183777,
          0.5171473622322083,
          0.5170038938522339,
          0.52173912525177,
          0.5174343585968018,
          0.5339360237121582,
          0.5151384472846985,
          0.4961974322795868,
          0.5188692808151245,
          0.5129860639572144,
          0.5283398032188416,
          0.5010762214660645,
          0.5079638361930847,
          0.5043765306472778,
          0.510259747505188,
          0.5194432735443115,
          0.5259004235267639,
          0.5042330026626587,
          0.5141340494155884,
          0.5145645141601562,
          0.5198737382888794,
          0.5068159103393555,
          0.5129860639572144,
          0.515425443649292,
          0.5145645141601562,
          0.4946190416812897,
          0.5032286047935486,
          0.5144209861755371,
          0.5068159103393555,
          0.5147079825401306,
          0.5066723823547363,
          0.4987803101539612,
          0.5055244565010071,
          0.5188692808151245,
          0.515999436378479,
          0.5132730603218079,
          0.5119816064834595,
          0.5303486585617065,
          0.5234610438346863,
          0.5106902122497559,
          0.5042330026626587,
          0.5162864327430725,
          0.5093987584114075,
          0.519156277179718,
          0.5089682936668396,
          0.521165132522583,
          0.5141340494155884,
          0.522313117980957,
          0.5231740474700928,
          0.5175778269767761,
          0.510259747505188,
          0.5168603658676147,
          0.5158559083938599,
          0.5125555992126465,
          0.5294877290725708,
          0.5233175754547119
         ]
        }
       ],
       "layout": {
        "template": {
         "data": {
          "bar": [
           {
            "error_x": {
             "color": "#2a3f5f"
            },
            "error_y": {
             "color": "#2a3f5f"
            },
            "marker": {
             "line": {
              "color": "#E5ECF6",
              "width": 0.5
             },
             "pattern": {
              "fillmode": "overlay",
              "size": 10,
              "solidity": 0.2
             }
            },
            "type": "bar"
           }
          ],
          "barpolar": [
           {
            "marker": {
             "line": {
              "color": "#E5ECF6",
              "width": 0.5
             },
             "pattern": {
              "fillmode": "overlay",
              "size": 10,
              "solidity": 0.2
             }
            },
            "type": "barpolar"
           }
          ],
          "carpet": [
           {
            "aaxis": {
             "endlinecolor": "#2a3f5f",
             "gridcolor": "white",
             "linecolor": "white",
             "minorgridcolor": "white",
             "startlinecolor": "#2a3f5f"
            },
            "baxis": {
             "endlinecolor": "#2a3f5f",
             "gridcolor": "white",
             "linecolor": "white",
             "minorgridcolor": "white",
             "startlinecolor": "#2a3f5f"
            },
            "type": "carpet"
           }
          ],
          "choropleth": [
           {
            "colorbar": {
             "outlinewidth": 0,
             "ticks": ""
            },
            "type": "choropleth"
           }
          ],
          "contour": [
           {
            "colorbar": {
             "outlinewidth": 0,
             "ticks": ""
            },
            "colorscale": [
             [
              0,
              "#0d0887"
             ],
             [
              0.1111111111111111,
              "#46039f"
             ],
             [
              0.2222222222222222,
              "#7201a8"
             ],
             [
              0.3333333333333333,
              "#9c179e"
             ],
             [
              0.4444444444444444,
              "#bd3786"
             ],
             [
              0.5555555555555556,
              "#d8576b"
             ],
             [
              0.6666666666666666,
              "#ed7953"
             ],
             [
              0.7777777777777778,
              "#fb9f3a"
             ],
             [
              0.8888888888888888,
              "#fdca26"
             ],
             [
              1,
              "#f0f921"
             ]
            ],
            "type": "contour"
           }
          ],
          "contourcarpet": [
           {
            "colorbar": {
             "outlinewidth": 0,
             "ticks": ""
            },
            "type": "contourcarpet"
           }
          ],
          "heatmap": [
           {
            "colorbar": {
             "outlinewidth": 0,
             "ticks": ""
            },
            "colorscale": [
             [
              0,
              "#0d0887"
             ],
             [
              0.1111111111111111,
              "#46039f"
             ],
             [
              0.2222222222222222,
              "#7201a8"
             ],
             [
              0.3333333333333333,
              "#9c179e"
             ],
             [
              0.4444444444444444,
              "#bd3786"
             ],
             [
              0.5555555555555556,
              "#d8576b"
             ],
             [
              0.6666666666666666,
              "#ed7953"
             ],
             [
              0.7777777777777778,
              "#fb9f3a"
             ],
             [
              0.8888888888888888,
              "#fdca26"
             ],
             [
              1,
              "#f0f921"
             ]
            ],
            "type": "heatmap"
           }
          ],
          "heatmapgl": [
           {
            "colorbar": {
             "outlinewidth": 0,
             "ticks": ""
            },
            "colorscale": [
             [
              0,
              "#0d0887"
             ],
             [
              0.1111111111111111,
              "#46039f"
             ],
             [
              0.2222222222222222,
              "#7201a8"
             ],
             [
              0.3333333333333333,
              "#9c179e"
             ],
             [
              0.4444444444444444,
              "#bd3786"
             ],
             [
              0.5555555555555556,
              "#d8576b"
             ],
             [
              0.6666666666666666,
              "#ed7953"
             ],
             [
              0.7777777777777778,
              "#fb9f3a"
             ],
             [
              0.8888888888888888,
              "#fdca26"
             ],
             [
              1,
              "#f0f921"
             ]
            ],
            "type": "heatmapgl"
           }
          ],
          "histogram": [
           {
            "marker": {
             "pattern": {
              "fillmode": "overlay",
              "size": 10,
              "solidity": 0.2
             }
            },
            "type": "histogram"
           }
          ],
          "histogram2d": [
           {
            "colorbar": {
             "outlinewidth": 0,
             "ticks": ""
            },
            "colorscale": [
             [
              0,
              "#0d0887"
             ],
             [
              0.1111111111111111,
              "#46039f"
             ],
             [
              0.2222222222222222,
              "#7201a8"
             ],
             [
              0.3333333333333333,
              "#9c179e"
             ],
             [
              0.4444444444444444,
              "#bd3786"
             ],
             [
              0.5555555555555556,
              "#d8576b"
             ],
             [
              0.6666666666666666,
              "#ed7953"
             ],
             [
              0.7777777777777778,
              "#fb9f3a"
             ],
             [
              0.8888888888888888,
              "#fdca26"
             ],
             [
              1,
              "#f0f921"
             ]
            ],
            "type": "histogram2d"
           }
          ],
          "histogram2dcontour": [
           {
            "colorbar": {
             "outlinewidth": 0,
             "ticks": ""
            },
            "colorscale": [
             [
              0,
              "#0d0887"
             ],
             [
              0.1111111111111111,
              "#46039f"
             ],
             [
              0.2222222222222222,
              "#7201a8"
             ],
             [
              0.3333333333333333,
              "#9c179e"
             ],
             [
              0.4444444444444444,
              "#bd3786"
             ],
             [
              0.5555555555555556,
              "#d8576b"
             ],
             [
              0.6666666666666666,
              "#ed7953"
             ],
             [
              0.7777777777777778,
              "#fb9f3a"
             ],
             [
              0.8888888888888888,
              "#fdca26"
             ],
             [
              1,
              "#f0f921"
             ]
            ],
            "type": "histogram2dcontour"
           }
          ],
          "mesh3d": [
           {
            "colorbar": {
             "outlinewidth": 0,
             "ticks": ""
            },
            "type": "mesh3d"
           }
          ],
          "parcoords": [
           {
            "line": {
             "colorbar": {
              "outlinewidth": 0,
              "ticks": ""
             }
            },
            "type": "parcoords"
           }
          ],
          "pie": [
           {
            "automargin": true,
            "type": "pie"
           }
          ],
          "scatter": [
           {
            "fillpattern": {
             "fillmode": "overlay",
             "size": 10,
             "solidity": 0.2
            },
            "type": "scatter"
           }
          ],
          "scatter3d": [
           {
            "line": {
             "colorbar": {
              "outlinewidth": 0,
              "ticks": ""
             }
            },
            "marker": {
             "colorbar": {
              "outlinewidth": 0,
              "ticks": ""
             }
            },
            "type": "scatter3d"
           }
          ],
          "scattercarpet": [
           {
            "marker": {
             "colorbar": {
              "outlinewidth": 0,
              "ticks": ""
             }
            },
            "type": "scattercarpet"
           }
          ],
          "scattergeo": [
           {
            "marker": {
             "colorbar": {
              "outlinewidth": 0,
              "ticks": ""
             }
            },
            "type": "scattergeo"
           }
          ],
          "scattergl": [
           {
            "marker": {
             "colorbar": {
              "outlinewidth": 0,
              "ticks": ""
             }
            },
            "type": "scattergl"
           }
          ],
          "scattermapbox": [
           {
            "marker": {
             "colorbar": {
              "outlinewidth": 0,
              "ticks": ""
             }
            },
            "type": "scattermapbox"
           }
          ],
          "scatterpolar": [
           {
            "marker": {
             "colorbar": {
              "outlinewidth": 0,
              "ticks": ""
             }
            },
            "type": "scatterpolar"
           }
          ],
          "scatterpolargl": [
           {
            "marker": {
             "colorbar": {
              "outlinewidth": 0,
              "ticks": ""
             }
            },
            "type": "scatterpolargl"
           }
          ],
          "scatterternary": [
           {
            "marker": {
             "colorbar": {
              "outlinewidth": 0,
              "ticks": ""
             }
            },
            "type": "scatterternary"
           }
          ],
          "surface": [
           {
            "colorbar": {
             "outlinewidth": 0,
             "ticks": ""
            },
            "colorscale": [
             [
              0,
              "#0d0887"
             ],
             [
              0.1111111111111111,
              "#46039f"
             ],
             [
              0.2222222222222222,
              "#7201a8"
             ],
             [
              0.3333333333333333,
              "#9c179e"
             ],
             [
              0.4444444444444444,
              "#bd3786"
             ],
             [
              0.5555555555555556,
              "#d8576b"
             ],
             [
              0.6666666666666666,
              "#ed7953"
             ],
             [
              0.7777777777777778,
              "#fb9f3a"
             ],
             [
              0.8888888888888888,
              "#fdca26"
             ],
             [
              1,
              "#f0f921"
             ]
            ],
            "type": "surface"
           }
          ],
          "table": [
           {
            "cells": {
             "fill": {
              "color": "#EBF0F8"
             },
             "line": {
              "color": "white"
             }
            },
            "header": {
             "fill": {
              "color": "#C8D4E3"
             },
             "line": {
              "color": "white"
             }
            },
            "type": "table"
           }
          ]
         },
         "layout": {
          "annotationdefaults": {
           "arrowcolor": "#2a3f5f",
           "arrowhead": 0,
           "arrowwidth": 1
          },
          "autotypenumbers": "strict",
          "coloraxis": {
           "colorbar": {
            "outlinewidth": 0,
            "ticks": ""
           }
          },
          "colorscale": {
           "diverging": [
            [
             0,
             "#8e0152"
            ],
            [
             0.1,
             "#c51b7d"
            ],
            [
             0.2,
             "#de77ae"
            ],
            [
             0.3,
             "#f1b6da"
            ],
            [
             0.4,
             "#fde0ef"
            ],
            [
             0.5,
             "#f7f7f7"
            ],
            [
             0.6,
             "#e6f5d0"
            ],
            [
             0.7,
             "#b8e186"
            ],
            [
             0.8,
             "#7fbc41"
            ],
            [
             0.9,
             "#4d9221"
            ],
            [
             1,
             "#276419"
            ]
           ],
           "sequential": [
            [
             0,
             "#0d0887"
            ],
            [
             0.1111111111111111,
             "#46039f"
            ],
            [
             0.2222222222222222,
             "#7201a8"
            ],
            [
             0.3333333333333333,
             "#9c179e"
            ],
            [
             0.4444444444444444,
             "#bd3786"
            ],
            [
             0.5555555555555556,
             "#d8576b"
            ],
            [
             0.6666666666666666,
             "#ed7953"
            ],
            [
             0.7777777777777778,
             "#fb9f3a"
            ],
            [
             0.8888888888888888,
             "#fdca26"
            ],
            [
             1,
             "#f0f921"
            ]
           ],
           "sequentialminus": [
            [
             0,
             "#0d0887"
            ],
            [
             0.1111111111111111,
             "#46039f"
            ],
            [
             0.2222222222222222,
             "#7201a8"
            ],
            [
             0.3333333333333333,
             "#9c179e"
            ],
            [
             0.4444444444444444,
             "#bd3786"
            ],
            [
             0.5555555555555556,
             "#d8576b"
            ],
            [
             0.6666666666666666,
             "#ed7953"
            ],
            [
             0.7777777777777778,
             "#fb9f3a"
            ],
            [
             0.8888888888888888,
             "#fdca26"
            ],
            [
             1,
             "#f0f921"
            ]
           ]
          },
          "colorway": [
           "#636efa",
           "#EF553B",
           "#00cc96",
           "#ab63fa",
           "#FFA15A",
           "#19d3f3",
           "#FF6692",
           "#B6E880",
           "#FF97FF",
           "#FECB52"
          ],
          "font": {
           "color": "#2a3f5f"
          },
          "geo": {
           "bgcolor": "white",
           "lakecolor": "white",
           "landcolor": "#E5ECF6",
           "showlakes": true,
           "showland": true,
           "subunitcolor": "white"
          },
          "hoverlabel": {
           "align": "left"
          },
          "hovermode": "closest",
          "mapbox": {
           "style": "light"
          },
          "paper_bgcolor": "white",
          "plot_bgcolor": "#E5ECF6",
          "polar": {
           "angularaxis": {
            "gridcolor": "white",
            "linecolor": "white",
            "ticks": ""
           },
           "bgcolor": "#E5ECF6",
           "radialaxis": {
            "gridcolor": "white",
            "linecolor": "white",
            "ticks": ""
           }
          },
          "scene": {
           "xaxis": {
            "backgroundcolor": "#E5ECF6",
            "gridcolor": "white",
            "gridwidth": 2,
            "linecolor": "white",
            "showbackground": true,
            "ticks": "",
            "zerolinecolor": "white"
           },
           "yaxis": {
            "backgroundcolor": "#E5ECF6",
            "gridcolor": "white",
            "gridwidth": 2,
            "linecolor": "white",
            "showbackground": true,
            "ticks": "",
            "zerolinecolor": "white"
           },
           "zaxis": {
            "backgroundcolor": "#E5ECF6",
            "gridcolor": "white",
            "gridwidth": 2,
            "linecolor": "white",
            "showbackground": true,
            "ticks": "",
            "zerolinecolor": "white"
           }
          },
          "shapedefaults": {
           "line": {
            "color": "#2a3f5f"
           }
          },
          "ternary": {
           "aaxis": {
            "gridcolor": "white",
            "linecolor": "white",
            "ticks": ""
           },
           "baxis": {
            "gridcolor": "white",
            "linecolor": "white",
            "ticks": ""
           },
           "bgcolor": "#E5ECF6",
           "caxis": {
            "gridcolor": "white",
            "linecolor": "white",
            "ticks": ""
           }
          },
          "title": {
           "x": 0.05
          },
          "xaxis": {
           "automargin": true,
           "gridcolor": "white",
           "linecolor": "white",
           "ticks": "",
           "title": {
            "standoff": 15
           },
           "zerolinecolor": "white",
           "zerolinewidth": 2
          },
          "yaxis": {
           "automargin": true,
           "gridcolor": "white",
           "linecolor": "white",
           "ticks": "",
           "title": {
            "standoff": 15
           },
           "zerolinecolor": "white",
           "zerolinewidth": 2
          }
         }
        }
       }
      }
     },
     "metadata": {},
     "output_type": "display_data"
    },
    {
     "name": "stdout",
     "output_type": "stream",
     "text": [
      "models/2024-02-18 19-59-28 val_sens_at_spec 0.541 time frame 4.hd5\n",
      "0.541\n",
      "------------------------------------------------------------------------------------------------------------------------------------------------------\n"
     ]
    }
   ],
   "source": [
    "import importlib\n",
    "\n",
    "importlib.reload(model_design)\n",
    "\n",
    "max_val_PR = 0.5\n",
    "\n",
    "for time_step in TIME_FRAME_LIST:\n",
    "    df_tensor = dataframe_to_tensor(df_result, time_step)\n",
    "    x_train, y_train, x_test, y_test = get_train_test_sets(df_tensor, TRAIN_FRACTION)\n",
    "    \n",
    "    df_tensor.shape\n",
    "\n",
    "    print(x_train.shape)\n",
    "    print(y_train.shape)\n",
    "    print(x_test.shape)\n",
    "    print(y_test.shape)\n",
    "    model, history = model_design.model_design(EPOCHS,  x_train, y_train, x_test, y_test, class_weights_dict)\n",
    "\n",
    "    plot_model_history(history.history)\n",
    "\n",
    "    val_PR = round(max(history.history['val_sens_at_spec']), 3)\n",
    "    \n",
    "    x = datetime.datetime.now()\n",
    "    \n",
    "    model_name = \"models/\" + x.strftime(\"%Y-%m-%d %H-%M-%S\") +\" val_sens_at_spec \" + str(val_PR) + \" time frame \" + str(time_step) + \".hd5\"\n",
    "\n",
    "    if val_PR > max_val_PR:\n",
    "        max_val_PR = val_PR\n",
    "        model.save(model_name,  save_format = 'h5')\n",
    "    \n",
    "    print(model_name)\n",
    "    print(val_PR)\n",
    "    print(150 * \"-\")\n"
   ]
  },
  {
   "cell_type": "code",
   "execution_count": 62,
   "metadata": {},
   "outputs": [
    {
     "name": "stdout",
     "output_type": "stream",
     "text": [
      "Model: \"model_15\"\n",
      "_________________________________________________________________\n",
      " Layer (type)                Output Shape              Param #   \n",
      "=================================================================\n",
      " Input (InputLayer)          [(None, 4, 65)]           0         \n",
      "                                                                 \n",
      " normalization_15 (Normaliz  (None, 4, 65)             131       \n",
      " ation)                                                          \n",
      "                                                                 \n",
      " lstm_47 (LSTM)              (None, 4, 130)            101920    \n",
      "                                                                 \n",
      " lstm_48 (LSTM)              (None, 4, 195)            254280    \n",
      "                                                                 \n",
      " lstm_49 (LSTM)              (None, 4, 65)             67860     \n",
      "                                                                 \n",
      " lstm_50 (LSTM)              (None, 32)                12544     \n",
      "                                                                 \n",
      " output (Dense)              (None, 4)                 132       \n",
      "                                                                 \n",
      "=================================================================\n",
      "Total params: 436867 (1.67 MB)\n",
      "Trainable params: 436736 (1.67 MB)\n",
      "Non-trainable params: 131 (528.00 Byte)\n",
      "_________________________________________________________________\n"
     ]
    }
   ],
   "source": [
    "model.summary()"
   ]
  },
  {
   "cell_type": "markdown",
   "metadata": {},
   "source": []
  },
  {
   "cell_type": "code",
   "execution_count": 63,
   "metadata": {},
   "outputs": [],
   "source": [
    "frequency = 2500  # Set Frequency To 2500 Hertz\n",
    "duration = 1000  # Set Duration To 1000 ms == 1 second\n",
    "winsound.Beep(frequency, duration)"
   ]
  },
  {
   "cell_type": "markdown",
   "metadata": {},
   "source": []
  },
  {
   "cell_type": "markdown",
   "metadata": {},
   "source": []
  },
  {
   "cell_type": "markdown",
   "metadata": {},
   "source": []
  }
 ],
 "metadata": {
  "kernelspec": {
   "display_name": "base",
   "language": "python",
   "name": "python3"
  },
  "language_info": {
   "codemirror_mode": {
    "name": "ipython",
    "version": 3
   },
   "file_extension": ".py",
   "mimetype": "text/x-python",
   "name": "python",
   "nbconvert_exporter": "python",
   "pygments_lexer": "ipython3",
   "version": "3.11.5"
  },
  "vscode": {
   "interpreter": {
    "hash": "ad2bdc8ecc057115af97d19610ffacc2b4e99fae6737bb82f5d7fb13d2f2c186"
   }
  }
 },
 "nbformat": 4,
 "nbformat_minor": 2
}
