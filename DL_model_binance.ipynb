{
 "cells": [
  {
   "cell_type": "code",
   "execution_count": 51,
   "metadata": {},
   "outputs": [],
   "source": [
    "import datetime\n",
    "import stock_marker_binance\n",
    "import model_design\n",
    "import pandas as pd\n",
    "from sklearn.utils import class_weight\n",
    "import numpy as np\n",
    "from sklearn.preprocessing import OneHotEncoder\n",
    "from imblearn.over_sampling import SMOTE\n",
    "import plotly.graph_objects as go\n",
    "import winsound\n"
   ]
  },
  {
   "cell_type": "code",
   "execution_count": 2,
   "metadata": {},
   "outputs": [],
   "source": [
    "EPOCHS =  2000\n",
    "TIME_FRAME_LIST = [2, 3, 6, 12]\n",
    "TRAIN_FRACTION = 0.8"
   ]
  },
  {
   "cell_type": "code",
   "execution_count": 37,
   "metadata": {},
   "outputs": [],
   "source": [
    "def plot_model_history(model_history):\n",
    "\n",
    "    fig = go.Figure()\n",
    "\n",
    "    # Add traces\n",
    "    fig.add_trace(go.Scatter(y=model_history['sens_at_spec'],\n",
    "                        mode='lines',\n",
    "                        name='sens_at_spec'))\n",
    "    fig.add_trace(go.Scatter(y=model_history['val_sens_at_spec'],\n",
    "                        mode='lines',\n",
    "                        name='val_sens_at_spec'))\n",
    "\n",
    "    fig.show()"
   ]
  },
  {
   "cell_type": "code",
   "execution_count": 3,
   "metadata": {},
   "outputs": [],
   "source": [
    "def dataframe_to_tensor(df, timestep_length: int):\n",
    "    \n",
    "    '''\n",
    "    Converts a pandas dataframe to a tensor\n",
    "    \n",
    "    Input: Pandas dataframe\n",
    "            timestep_length (int) - the length of the timestep\n",
    "    Output: Tensor\n",
    "    \n",
    "    '''\n",
    "    \n",
    "    # Convert the dataframe to a numpy array\n",
    "    df = np.array(df)\n",
    "\n",
    "    n_seq = len(df) - timestep_length + 1\n",
    "    return np.array([df[i:(i+timestep_length)] for i in range(n_seq)])"
   ]
  },
  {
   "cell_type": "code",
   "execution_count": 4,
   "metadata": {},
   "outputs": [],
   "source": [
    "def smote(df, train_frac):\n",
    "    '''\n",
    "    Oversample the minority class using SMOTE prior to OHE.\n",
    "    '''\n",
    "\n",
    "    n_train = int(df.shape[0] * train_frac)\n",
    "    n_test = df.shape[0] - n_train\n",
    "\n",
    "    train_data = df.iloc[:n_train, :]\n",
    "    test_data = df.iloc[n_train:, :]\n",
    "\n",
    "    x_train = train_data.drop(columns = ['action'])\n",
    "    y_train = train_data['action']\n",
    "\n",
    "    x_test = test_data.drop(columns = ['action'])\n",
    "    y_test = test_data['action']\n",
    "\n",
    "\n",
    "    smote_inst = SMOTE(sampling_strategy='auto')\n",
    "    \n",
    "    \n",
    "    \n",
    "    x_train , y_train = smote_inst.fit_resample(x_train, y_train)\n",
    "    \n",
    "    train_data = pd.concat([x_train, y_train], axis=1)\n",
    "    test_data = pd.concat([x_test, y_test], axis=1)\n",
    "\n",
    "    df = pd.concat([train_data, test_data], axis=0)\n",
    "\n",
    "    return df, n_test"
   ]
  },
  {
   "cell_type": "code",
   "execution_count": 5,
   "metadata": {},
   "outputs": [],
   "source": [
    "def OneHotEncoding(df_result):\n",
    "    enc = OneHotEncoder()\n",
    "\n",
    "    OHE_array = enc.fit_transform(df_result[['action']]).toarray()\n",
    "\n",
    "    class_weights = class_weight.compute_class_weight(class_weight='balanced',\n",
    "                                                    classes=np.unique(df_result['action']),\n",
    "                                                    y=df_result['action'])\n",
    "\n",
    "\n",
    "\n",
    "    class_weights_dict = dict(zip(enc.categories_[0], class_weights))\n",
    "\n",
    "    print(class_weights)\n",
    "    print(class_weights_dict.keys())\n",
    "\n",
    "    \n",
    "    OHE_df = pd.DataFrame(OHE_array, columns=enc.categories_[0])\n",
    "    df_result = pd.merge(df_result, OHE_df, left_index=True, right_index=True)\n",
    "    df_result.drop(columns=['action'], inplace=True)\n",
    "    return df_result, class_weights_dict"
   ]
  },
  {
   "cell_type": "code",
   "execution_count": 6,
   "metadata": {},
   "outputs": [],
   "source": [
    "def get_train_test_sets(data, train_frac):\n",
    "    \n",
    "    n_train = int(data.shape[0] * train_frac)\n",
    "    \n",
    "    x_train = data[:n_train, :, :-4]\n",
    "    y_train = data[:n_train, -1:, -4:].reshape(-1,4)\n",
    "    x_test = data[n_train:, :, :-4]\n",
    "    y_test = data[n_train:, -1:, -4:].reshape(-1,4)\n",
    "    return x_train, y_train, x_test, y_test"
   ]
  },
  {
   "cell_type": "code",
   "execution_count": 7,
   "metadata": {},
   "outputs": [],
   "source": [
    "# import tensorflow as tf\n",
    "# physical_devices = tf.config.list_physical_devices('GPU')\n",
    "# tf.config.experimental.set_memory_growth(physical_devices[0], enable=True)"
   ]
  },
  {
   "cell_type": "code",
   "execution_count": 8,
   "metadata": {},
   "outputs": [],
   "source": [
    "df = pd.read_csv('ETH_1h_history as of 09-01-2024.csv', index_col=0)"
   ]
  },
  {
   "cell_type": "code",
   "execution_count": 9,
   "metadata": {},
   "outputs": [
    {
     "data": {
      "text/html": [
       "<div>\n",
       "<style scoped>\n",
       "    .dataframe tbody tr th:only-of-type {\n",
       "        vertical-align: middle;\n",
       "    }\n",
       "\n",
       "    .dataframe tbody tr th {\n",
       "        vertical-align: top;\n",
       "    }\n",
       "\n",
       "    .dataframe thead th {\n",
       "        text-align: right;\n",
       "    }\n",
       "</style>\n",
       "<table border=\"1\" class=\"dataframe\">\n",
       "  <thead>\n",
       "    <tr style=\"text-align: right;\">\n",
       "      <th></th>\n",
       "      <th>timestamp</th>\n",
       "      <th>open</th>\n",
       "      <th>high</th>\n",
       "      <th>low</th>\n",
       "      <th>close</th>\n",
       "      <th>volume</th>\n",
       "      <th>close_time</th>\n",
       "      <th>quote_asset_volume</th>\n",
       "      <th>num_trades</th>\n",
       "    </tr>\n",
       "  </thead>\n",
       "  <tbody>\n",
       "    <tr>\n",
       "      <th>0</th>\n",
       "      <td>01/01/2020 00:00</td>\n",
       "      <td>129.16</td>\n",
       "      <td>129.19</td>\n",
       "      <td>128.68</td>\n",
       "      <td>128.87</td>\n",
       "      <td>7769.17336</td>\n",
       "      <td>1.577840e+12</td>\n",
       "      <td>1.000930e+06</td>\n",
       "      <td>2504</td>\n",
       "    </tr>\n",
       "    <tr>\n",
       "      <th>1</th>\n",
       "      <td>01/01/2020 01:00</td>\n",
       "      <td>128.87</td>\n",
       "      <td>130.65</td>\n",
       "      <td>128.78</td>\n",
       "      <td>130.64</td>\n",
       "      <td>11344.65516</td>\n",
       "      <td>1.577840e+12</td>\n",
       "      <td>1.474278e+06</td>\n",
       "      <td>4885</td>\n",
       "    </tr>\n",
       "    <tr>\n",
       "      <th>2</th>\n",
       "      <td>01/01/2020 02:00</td>\n",
       "      <td>130.63</td>\n",
       "      <td>130.98</td>\n",
       "      <td>130.35</td>\n",
       "      <td>130.85</td>\n",
       "      <td>7603.35623</td>\n",
       "      <td>1.577850e+12</td>\n",
       "      <td>9.940256e+05</td>\n",
       "      <td>3046</td>\n",
       "    </tr>\n",
       "    <tr>\n",
       "      <th>3</th>\n",
       "      <td>01/01/2020 03:00</td>\n",
       "      <td>130.85</td>\n",
       "      <td>130.89</td>\n",
       "      <td>129.94</td>\n",
       "      <td>130.20</td>\n",
       "      <td>4968.55433</td>\n",
       "      <td>1.577850e+12</td>\n",
       "      <td>6.473610e+05</td>\n",
       "      <td>2818</td>\n",
       "    </tr>\n",
       "    <tr>\n",
       "      <th>4</th>\n",
       "      <td>01/01/2020 04:00</td>\n",
       "      <td>130.21</td>\n",
       "      <td>130.74</td>\n",
       "      <td>130.15</td>\n",
       "      <td>130.20</td>\n",
       "      <td>3397.90747</td>\n",
       "      <td>1.577850e+12</td>\n",
       "      <td>4.430067e+05</td>\n",
       "      <td>2264</td>\n",
       "    </tr>\n",
       "  </tbody>\n",
       "</table>\n",
       "</div>"
      ],
      "text/plain": [
       "          timestamp    open    high     low   close       volume  \\\n",
       "0  01/01/2020 00:00  129.16  129.19  128.68  128.87   7769.17336   \n",
       "1  01/01/2020 01:00  128.87  130.65  128.78  130.64  11344.65516   \n",
       "2  01/01/2020 02:00  130.63  130.98  130.35  130.85   7603.35623   \n",
       "3  01/01/2020 03:00  130.85  130.89  129.94  130.20   4968.55433   \n",
       "4  01/01/2020 04:00  130.21  130.74  130.15  130.20   3397.90747   \n",
       "\n",
       "     close_time  quote_asset_volume  num_trades  \n",
       "0  1.577840e+12        1.000930e+06        2504  \n",
       "1  1.577840e+12        1.474278e+06        4885  \n",
       "2  1.577850e+12        9.940256e+05        3046  \n",
       "3  1.577850e+12        6.473610e+05        2818  \n",
       "4  1.577850e+12        4.430067e+05        2264  "
      ]
     },
     "execution_count": 9,
     "metadata": {},
     "output_type": "execute_result"
    }
   ],
   "source": [
    "df.head()"
   ]
  },
  {
   "cell_type": "code",
   "execution_count": 10,
   "metadata": {},
   "outputs": [
    {
     "data": {
      "text/plain": [
       "timestamp              object\n",
       "open                  float64\n",
       "high                  float64\n",
       "low                   float64\n",
       "close                 float64\n",
       "volume                float64\n",
       "close_time            float64\n",
       "quote_asset_volume    float64\n",
       "num_trades              int64\n",
       "dtype: object"
      ]
     },
     "execution_count": 10,
     "metadata": {},
     "output_type": "execute_result"
    }
   ],
   "source": [
    "df.dtypes"
   ]
  },
  {
   "cell_type": "code",
   "execution_count": 11,
   "metadata": {},
   "outputs": [],
   "source": [
    "df_result = stock_marker_binance.sorting_timestamp(df)\n",
    "\n",
    "df_result['hour_sin'] = np.sin(df_result['timestamp'].dt.hour / 24 * 2 * np.pi)\n",
    "df_result['hour_cos'] = np.cos(df_result['timestamp'].dt.hour / 24 * 2 * np.pi)\n",
    "\n",
    "df_result['day_sin'] = np.sin(df_result['timestamp'].dt.day / 30 * 2 * np.pi)\n",
    "df_result['day_cos'] = np.cos(df_result['timestamp'].dt.day / 30 * 2 * np.pi)\n",
    "\n",
    "df_result['mon_sin'] = np.sin(df_result['timestamp'].dt.month / 12 * 2 * np.pi)\n",
    "df_result['mon_cos'] = np.cos(df_result['timestamp'].dt.month / 12 * 2 * np.pi)\n",
    "\n",
    "df_result['weekday_sin'] = np.sin(df_result['timestamp'].dt.weekday / 7 * 2 * np.pi)\n",
    "df_result['weekday_cos'] = np.cos(df_result['timestamp'].dt.weekday / 7 * 2 * np.pi)\n",
    "\n",
    "df_result['year'] = df_result['timestamp'].dt.year\n"
   ]
  },
  {
   "cell_type": "code",
   "execution_count": 12,
   "metadata": {},
   "outputs": [
    {
     "data": {
      "text/html": [
       "<div>\n",
       "<style scoped>\n",
       "    .dataframe tbody tr th:only-of-type {\n",
       "        vertical-align: middle;\n",
       "    }\n",
       "\n",
       "    .dataframe tbody tr th {\n",
       "        vertical-align: top;\n",
       "    }\n",
       "\n",
       "    .dataframe thead th {\n",
       "        text-align: right;\n",
       "    }\n",
       "</style>\n",
       "<table border=\"1\" class=\"dataframe\">\n",
       "  <thead>\n",
       "    <tr style=\"text-align: right;\">\n",
       "      <th></th>\n",
       "      <th>timestamp</th>\n",
       "      <th>open</th>\n",
       "      <th>high</th>\n",
       "      <th>low</th>\n",
       "      <th>close</th>\n",
       "      <th>volume</th>\n",
       "      <th>close_time</th>\n",
       "      <th>quote_asset_volume</th>\n",
       "      <th>num_trades</th>\n",
       "      <th>hour_sin</th>\n",
       "      <th>hour_cos</th>\n",
       "      <th>day_sin</th>\n",
       "      <th>day_cos</th>\n",
       "      <th>mon_sin</th>\n",
       "      <th>mon_cos</th>\n",
       "      <th>weekday_sin</th>\n",
       "      <th>weekday_cos</th>\n",
       "      <th>year</th>\n",
       "    </tr>\n",
       "  </thead>\n",
       "  <tbody>\n",
       "    <tr>\n",
       "      <th>0</th>\n",
       "      <td>2020-01-01 00:00:00</td>\n",
       "      <td>129.16</td>\n",
       "      <td>129.19</td>\n",
       "      <td>128.68</td>\n",
       "      <td>128.87</td>\n",
       "      <td>7769.17336</td>\n",
       "      <td>1.577840e+12</td>\n",
       "      <td>1.000930e+06</td>\n",
       "      <td>2504</td>\n",
       "      <td>0.000000</td>\n",
       "      <td>1.000000e+00</td>\n",
       "      <td>0.207912</td>\n",
       "      <td>0.978148</td>\n",
       "      <td>0.5</td>\n",
       "      <td>0.866025</td>\n",
       "      <td>0.974928</td>\n",
       "      <td>-0.222521</td>\n",
       "      <td>2020</td>\n",
       "    </tr>\n",
       "    <tr>\n",
       "      <th>1</th>\n",
       "      <td>2020-01-01 01:00:00</td>\n",
       "      <td>128.87</td>\n",
       "      <td>130.65</td>\n",
       "      <td>128.78</td>\n",
       "      <td>130.64</td>\n",
       "      <td>11344.65516</td>\n",
       "      <td>1.577840e+12</td>\n",
       "      <td>1.474278e+06</td>\n",
       "      <td>4885</td>\n",
       "      <td>0.258819</td>\n",
       "      <td>9.659258e-01</td>\n",
       "      <td>0.207912</td>\n",
       "      <td>0.978148</td>\n",
       "      <td>0.5</td>\n",
       "      <td>0.866025</td>\n",
       "      <td>0.974928</td>\n",
       "      <td>-0.222521</td>\n",
       "      <td>2020</td>\n",
       "    </tr>\n",
       "    <tr>\n",
       "      <th>2</th>\n",
       "      <td>2020-01-01 02:00:00</td>\n",
       "      <td>130.63</td>\n",
       "      <td>130.98</td>\n",
       "      <td>130.35</td>\n",
       "      <td>130.85</td>\n",
       "      <td>7603.35623</td>\n",
       "      <td>1.577850e+12</td>\n",
       "      <td>9.940256e+05</td>\n",
       "      <td>3046</td>\n",
       "      <td>0.500000</td>\n",
       "      <td>8.660254e-01</td>\n",
       "      <td>0.207912</td>\n",
       "      <td>0.978148</td>\n",
       "      <td>0.5</td>\n",
       "      <td>0.866025</td>\n",
       "      <td>0.974928</td>\n",
       "      <td>-0.222521</td>\n",
       "      <td>2020</td>\n",
       "    </tr>\n",
       "    <tr>\n",
       "      <th>3</th>\n",
       "      <td>2020-01-01 03:00:00</td>\n",
       "      <td>130.85</td>\n",
       "      <td>130.89</td>\n",
       "      <td>129.94</td>\n",
       "      <td>130.20</td>\n",
       "      <td>4968.55433</td>\n",
       "      <td>1.577850e+12</td>\n",
       "      <td>6.473610e+05</td>\n",
       "      <td>2818</td>\n",
       "      <td>0.707107</td>\n",
       "      <td>7.071068e-01</td>\n",
       "      <td>0.207912</td>\n",
       "      <td>0.978148</td>\n",
       "      <td>0.5</td>\n",
       "      <td>0.866025</td>\n",
       "      <td>0.974928</td>\n",
       "      <td>-0.222521</td>\n",
       "      <td>2020</td>\n",
       "    </tr>\n",
       "    <tr>\n",
       "      <th>4</th>\n",
       "      <td>2020-01-01 04:00:00</td>\n",
       "      <td>130.21</td>\n",
       "      <td>130.74</td>\n",
       "      <td>130.15</td>\n",
       "      <td>130.20</td>\n",
       "      <td>3397.90747</td>\n",
       "      <td>1.577850e+12</td>\n",
       "      <td>4.430067e+05</td>\n",
       "      <td>2264</td>\n",
       "      <td>0.866025</td>\n",
       "      <td>5.000000e-01</td>\n",
       "      <td>0.207912</td>\n",
       "      <td>0.978148</td>\n",
       "      <td>0.5</td>\n",
       "      <td>0.866025</td>\n",
       "      <td>0.974928</td>\n",
       "      <td>-0.222521</td>\n",
       "      <td>2020</td>\n",
       "    </tr>\n",
       "    <tr>\n",
       "      <th>5</th>\n",
       "      <td>2020-01-01 05:00:00</td>\n",
       "      <td>130.20</td>\n",
       "      <td>130.47</td>\n",
       "      <td>130.11</td>\n",
       "      <td>130.30</td>\n",
       "      <td>4243.60640</td>\n",
       "      <td>1.577860e+12</td>\n",
       "      <td>5.529727e+05</td>\n",
       "      <td>2426</td>\n",
       "      <td>0.965926</td>\n",
       "      <td>2.588190e-01</td>\n",
       "      <td>0.207912</td>\n",
       "      <td>0.978148</td>\n",
       "      <td>0.5</td>\n",
       "      <td>0.866025</td>\n",
       "      <td>0.974928</td>\n",
       "      <td>-0.222521</td>\n",
       "      <td>2020</td>\n",
       "    </tr>\n",
       "    <tr>\n",
       "      <th>6</th>\n",
       "      <td>2020-01-01 06:00:00</td>\n",
       "      <td>130.31</td>\n",
       "      <td>130.75</td>\n",
       "      <td>130.26</td>\n",
       "      <td>130.44</td>\n",
       "      <td>3668.90166</td>\n",
       "      <td>1.577860e+12</td>\n",
       "      <td>4.789442e+05</td>\n",
       "      <td>2347</td>\n",
       "      <td>1.000000</td>\n",
       "      <td>6.123234e-17</td>\n",
       "      <td>0.207912</td>\n",
       "      <td>0.978148</td>\n",
       "      <td>0.5</td>\n",
       "      <td>0.866025</td>\n",
       "      <td>0.974928</td>\n",
       "      <td>-0.222521</td>\n",
       "      <td>2020</td>\n",
       "    </tr>\n",
       "    <tr>\n",
       "      <th>7</th>\n",
       "      <td>2020-01-01 07:00:00</td>\n",
       "      <td>130.47</td>\n",
       "      <td>130.71</td>\n",
       "      <td>130.14</td>\n",
       "      <td>130.24</td>\n",
       "      <td>4147.17413</td>\n",
       "      <td>1.577870e+12</td>\n",
       "      <td>5.407707e+05</td>\n",
       "      <td>2568</td>\n",
       "      <td>0.965926</td>\n",
       "      <td>-2.588190e-01</td>\n",
       "      <td>0.207912</td>\n",
       "      <td>0.978148</td>\n",
       "      <td>0.5</td>\n",
       "      <td>0.866025</td>\n",
       "      <td>0.974928</td>\n",
       "      <td>-0.222521</td>\n",
       "      <td>2020</td>\n",
       "    </tr>\n",
       "    <tr>\n",
       "      <th>8</th>\n",
       "      <td>2020-01-01 08:00:00</td>\n",
       "      <td>130.24</td>\n",
       "      <td>130.41</td>\n",
       "      <td>129.87</td>\n",
       "      <td>130.36</td>\n",
       "      <td>7541.44497</td>\n",
       "      <td>1.577870e+12</td>\n",
       "      <td>9.808940e+05</td>\n",
       "      <td>3039</td>\n",
       "      <td>0.866025</td>\n",
       "      <td>-5.000000e-01</td>\n",
       "      <td>0.207912</td>\n",
       "      <td>0.978148</td>\n",
       "      <td>0.5</td>\n",
       "      <td>0.866025</td>\n",
       "      <td>0.974928</td>\n",
       "      <td>-0.222521</td>\n",
       "      <td>2020</td>\n",
       "    </tr>\n",
       "    <tr>\n",
       "      <th>9</th>\n",
       "      <td>2020-01-01 09:00:00</td>\n",
       "      <td>130.40</td>\n",
       "      <td>130.62</td>\n",
       "      <td>130.13</td>\n",
       "      <td>130.17</td>\n",
       "      <td>4808.20496</td>\n",
       "      <td>1.577870e+12</td>\n",
       "      <td>6.268190e+05</td>\n",
       "      <td>2696</td>\n",
       "      <td>0.707107</td>\n",
       "      <td>-7.071068e-01</td>\n",
       "      <td>0.207912</td>\n",
       "      <td>0.978148</td>\n",
       "      <td>0.5</td>\n",
       "      <td>0.866025</td>\n",
       "      <td>0.974928</td>\n",
       "      <td>-0.222521</td>\n",
       "      <td>2020</td>\n",
       "    </tr>\n",
       "  </tbody>\n",
       "</table>\n",
       "</div>"
      ],
      "text/plain": [
       "            timestamp    open    high     low   close       volume  \\\n",
       "0 2020-01-01 00:00:00  129.16  129.19  128.68  128.87   7769.17336   \n",
       "1 2020-01-01 01:00:00  128.87  130.65  128.78  130.64  11344.65516   \n",
       "2 2020-01-01 02:00:00  130.63  130.98  130.35  130.85   7603.35623   \n",
       "3 2020-01-01 03:00:00  130.85  130.89  129.94  130.20   4968.55433   \n",
       "4 2020-01-01 04:00:00  130.21  130.74  130.15  130.20   3397.90747   \n",
       "5 2020-01-01 05:00:00  130.20  130.47  130.11  130.30   4243.60640   \n",
       "6 2020-01-01 06:00:00  130.31  130.75  130.26  130.44   3668.90166   \n",
       "7 2020-01-01 07:00:00  130.47  130.71  130.14  130.24   4147.17413   \n",
       "8 2020-01-01 08:00:00  130.24  130.41  129.87  130.36   7541.44497   \n",
       "9 2020-01-01 09:00:00  130.40  130.62  130.13  130.17   4808.20496   \n",
       "\n",
       "     close_time  quote_asset_volume  num_trades  hour_sin      hour_cos  \\\n",
       "0  1.577840e+12        1.000930e+06        2504  0.000000  1.000000e+00   \n",
       "1  1.577840e+12        1.474278e+06        4885  0.258819  9.659258e-01   \n",
       "2  1.577850e+12        9.940256e+05        3046  0.500000  8.660254e-01   \n",
       "3  1.577850e+12        6.473610e+05        2818  0.707107  7.071068e-01   \n",
       "4  1.577850e+12        4.430067e+05        2264  0.866025  5.000000e-01   \n",
       "5  1.577860e+12        5.529727e+05        2426  0.965926  2.588190e-01   \n",
       "6  1.577860e+12        4.789442e+05        2347  1.000000  6.123234e-17   \n",
       "7  1.577870e+12        5.407707e+05        2568  0.965926 -2.588190e-01   \n",
       "8  1.577870e+12        9.808940e+05        3039  0.866025 -5.000000e-01   \n",
       "9  1.577870e+12        6.268190e+05        2696  0.707107 -7.071068e-01   \n",
       "\n",
       "    day_sin   day_cos  mon_sin   mon_cos  weekday_sin  weekday_cos  year  \n",
       "0  0.207912  0.978148      0.5  0.866025     0.974928    -0.222521  2020  \n",
       "1  0.207912  0.978148      0.5  0.866025     0.974928    -0.222521  2020  \n",
       "2  0.207912  0.978148      0.5  0.866025     0.974928    -0.222521  2020  \n",
       "3  0.207912  0.978148      0.5  0.866025     0.974928    -0.222521  2020  \n",
       "4  0.207912  0.978148      0.5  0.866025     0.974928    -0.222521  2020  \n",
       "5  0.207912  0.978148      0.5  0.866025     0.974928    -0.222521  2020  \n",
       "6  0.207912  0.978148      0.5  0.866025     0.974928    -0.222521  2020  \n",
       "7  0.207912  0.978148      0.5  0.866025     0.974928    -0.222521  2020  \n",
       "8  0.207912  0.978148      0.5  0.866025     0.974928    -0.222521  2020  \n",
       "9  0.207912  0.978148      0.5  0.866025     0.974928    -0.222521  2020  "
      ]
     },
     "execution_count": 12,
     "metadata": {},
     "output_type": "execute_result"
    }
   ],
   "source": [
    "df_result.head(10)"
   ]
  },
  {
   "cell_type": "code",
   "execution_count": 13,
   "metadata": {},
   "outputs": [
    {
     "name": "stdout",
     "output_type": "stream",
     "text": [
      "Complete adding STDs\n",
      "Complete adding MAs\n",
      "Complete adding ratios\n"
     ]
    },
    {
     "name": "stderr",
     "output_type": "stream",
     "text": [
      "c:\\Users\\user\\Documents\\GitHub\\BinanceTradingBot\\stock_marker_binance.py:278: PerformanceWarning: DataFrame is highly fragmented.  This is usually the result of calling `frame.insert` many times, which has poor performance.  Consider joining all columns at once using pd.concat(axis=1) instead. To get a de-fragmented frame, use `newframe = frame.copy()`\n",
      "  df['RSI_'+ str(period) + '_' + col_label] = 100.0 - (100.0 / (1.0 + RS))\n",
      "c:\\Users\\user\\Documents\\GitHub\\BinanceTradingBot\\stock_marker_binance.py:278: PerformanceWarning: DataFrame is highly fragmented.  This is usually the result of calling `frame.insert` many times, which has poor performance.  Consider joining all columns at once using pd.concat(axis=1) instead. To get a de-fragmented frame, use `newframe = frame.copy()`\n",
      "  df['RSI_'+ str(period) + '_' + col_label] = 100.0 - (100.0 / (1.0 + RS))\n",
      "c:\\Users\\user\\Documents\\GitHub\\BinanceTradingBot\\stock_marker_binance.py:278: PerformanceWarning: DataFrame is highly fragmented.  This is usually the result of calling `frame.insert` many times, which has poor performance.  Consider joining all columns at once using pd.concat(axis=1) instead. To get a de-fragmented frame, use `newframe = frame.copy()`\n",
      "  df['RSI_'+ str(period) + '_' + col_label] = 100.0 - (100.0 / (1.0 + RS))\n",
      "c:\\Users\\user\\Documents\\GitHub\\BinanceTradingBot\\stock_marker_binance.py:278: PerformanceWarning: DataFrame is highly fragmented.  This is usually the result of calling `frame.insert` many times, which has poor performance.  Consider joining all columns at once using pd.concat(axis=1) instead. To get a de-fragmented frame, use `newframe = frame.copy()`\n",
      "  df['RSI_'+ str(period) + '_' + col_label] = 100.0 - (100.0 / (1.0 + RS))\n",
      "c:\\Users\\user\\Documents\\GitHub\\BinanceTradingBot\\stock_marker_binance.py:278: PerformanceWarning: DataFrame is highly fragmented.  This is usually the result of calling `frame.insert` many times, which has poor performance.  Consider joining all columns at once using pd.concat(axis=1) instead. To get a de-fragmented frame, use `newframe = frame.copy()`\n",
      "  df['RSI_'+ str(period) + '_' + col_label] = 100.0 - (100.0 / (1.0 + RS))\n",
      "c:\\Users\\user\\Documents\\GitHub\\BinanceTradingBot\\stock_marker_binance.py:278: PerformanceWarning: DataFrame is highly fragmented.  This is usually the result of calling `frame.insert` many times, which has poor performance.  Consider joining all columns at once using pd.concat(axis=1) instead. To get a de-fragmented frame, use `newframe = frame.copy()`\n",
      "  df['RSI_'+ str(period) + '_' + col_label] = 100.0 - (100.0 / (1.0 + RS))\n",
      "c:\\Users\\user\\Documents\\GitHub\\BinanceTradingBot\\stock_marker_binance.py:278: PerformanceWarning: DataFrame is highly fragmented.  This is usually the result of calling `frame.insert` many times, which has poor performance.  Consider joining all columns at once using pd.concat(axis=1) instead. To get a de-fragmented frame, use `newframe = frame.copy()`\n",
      "  df['RSI_'+ str(period) + '_' + col_label] = 100.0 - (100.0 / (1.0 + RS))\n",
      "c:\\Users\\user\\Documents\\GitHub\\BinanceTradingBot\\stock_marker_binance.py:278: PerformanceWarning: DataFrame is highly fragmented.  This is usually the result of calling `frame.insert` many times, which has poor performance.  Consider joining all columns at once using pd.concat(axis=1) instead. To get a de-fragmented frame, use `newframe = frame.copy()`\n",
      "  df['RSI_'+ str(period) + '_' + col_label] = 100.0 - (100.0 / (1.0 + RS))\n",
      "c:\\Users\\user\\Documents\\GitHub\\BinanceTradingBot\\stock_marker_binance.py:278: PerformanceWarning: DataFrame is highly fragmented.  This is usually the result of calling `frame.insert` many times, which has poor performance.  Consider joining all columns at once using pd.concat(axis=1) instead. To get a de-fragmented frame, use `newframe = frame.copy()`\n",
      "  df['RSI_'+ str(period) + '_' + col_label] = 100.0 - (100.0 / (1.0 + RS))\n",
      "c:\\Users\\user\\Documents\\GitHub\\BinanceTradingBot\\stock_marker_binance.py:278: PerformanceWarning: DataFrame is highly fragmented.  This is usually the result of calling `frame.insert` many times, which has poor performance.  Consider joining all columns at once using pd.concat(axis=1) instead. To get a de-fragmented frame, use `newframe = frame.copy()`\n",
      "  df['RSI_'+ str(period) + '_' + col_label] = 100.0 - (100.0 / (1.0 + RS))\n",
      "c:\\Users\\user\\Documents\\GitHub\\BinanceTradingBot\\stock_marker_binance.py:278: PerformanceWarning: DataFrame is highly fragmented.  This is usually the result of calling `frame.insert` many times, which has poor performance.  Consider joining all columns at once using pd.concat(axis=1) instead. To get a de-fragmented frame, use `newframe = frame.copy()`\n",
      "  df['RSI_'+ str(period) + '_' + col_label] = 100.0 - (100.0 / (1.0 + RS))\n",
      "c:\\Users\\user\\Documents\\GitHub\\BinanceTradingBot\\stock_marker_binance.py:278: PerformanceWarning: DataFrame is highly fragmented.  This is usually the result of calling `frame.insert` many times, which has poor performance.  Consider joining all columns at once using pd.concat(axis=1) instead. To get a de-fragmented frame, use `newframe = frame.copy()`\n",
      "  df['RSI_'+ str(period) + '_' + col_label] = 100.0 - (100.0 / (1.0 + RS))\n",
      "c:\\Users\\user\\Documents\\GitHub\\BinanceTradingBot\\stock_marker_binance.py:278: PerformanceWarning: DataFrame is highly fragmented.  This is usually the result of calling `frame.insert` many times, which has poor performance.  Consider joining all columns at once using pd.concat(axis=1) instead. To get a de-fragmented frame, use `newframe = frame.copy()`\n",
      "  df['RSI_'+ str(period) + '_' + col_label] = 100.0 - (100.0 / (1.0 + RS))\n",
      "c:\\Users\\user\\Documents\\GitHub\\BinanceTradingBot\\stock_marker_binance.py:278: PerformanceWarning: DataFrame is highly fragmented.  This is usually the result of calling `frame.insert` many times, which has poor performance.  Consider joining all columns at once using pd.concat(axis=1) instead. To get a de-fragmented frame, use `newframe = frame.copy()`\n",
      "  df['RSI_'+ str(period) + '_' + col_label] = 100.0 - (100.0 / (1.0 + RS))\n",
      "c:\\Users\\user\\Documents\\GitHub\\BinanceTradingBot\\stock_marker_binance.py:278: PerformanceWarning: DataFrame is highly fragmented.  This is usually the result of calling `frame.insert` many times, which has poor performance.  Consider joining all columns at once using pd.concat(axis=1) instead. To get a de-fragmented frame, use `newframe = frame.copy()`\n",
      "  df['RSI_'+ str(period) + '_' + col_label] = 100.0 - (100.0 / (1.0 + RS))\n",
      "c:\\Users\\user\\Documents\\GitHub\\BinanceTradingBot\\stock_marker_binance.py:278: PerformanceWarning: DataFrame is highly fragmented.  This is usually the result of calling `frame.insert` many times, which has poor performance.  Consider joining all columns at once using pd.concat(axis=1) instead. To get a de-fragmented frame, use `newframe = frame.copy()`\n",
      "  df['RSI_'+ str(period) + '_' + col_label] = 100.0 - (100.0 / (1.0 + RS))\n"
     ]
    },
    {
     "name": "stdout",
     "output_type": "stream",
     "text": [
      "Complete adding RSI\n"
     ]
    },
    {
     "name": "stdout",
     "output_type": "stream",
     "text": [
      "Complete marking buy sell actions\n",
      "Complete marking adjacent actions\n",
      "Complete marking hold wait actions\n"
     ]
    }
   ],
   "source": [
    "\n",
    "df_result = stock_marker_binance.std(df_result, ['close', 'quote_asset_volume', 'num_trades'])\n",
    "print(\"Complete adding STDs\")\n",
    "\n",
    "df_result = stock_marker_binance.adding_MAs(df_result, ['close', 'quote_asset_volume', 'num_trades'])\n",
    "print(\"Complete adding MAs\")\n",
    "\n",
    "\n",
    "df_result = stock_marker_binance.adding_ratio(df_result, ['close', 'quote_asset_volume', 'num_trades'], ['MA'])\n",
    "df_result = stock_marker_binance.adding_ratio(df_result, ['close'], ['STD'])\n",
    "print(\"Complete adding ratios\")\n",
    "\n",
    "df_result = stock_marker_binance.rsi(df_result, ['close', \n",
    "                                                  'quote_asset_volume', 'num_trades'\n",
    "                                                 ])\n",
    "print(\"Complete adding RSI\")\n",
    "\n",
    "df_result = stock_marker_binance.marking_buy_sell_actions(df_result)\n",
    "print(\"Complete marking buy sell actions\")\n",
    "\n",
    "df_result = stock_marker_binance.marking_adjacent_actions(df_result)\n",
    "print(\"Complete marking adjacent actions\")\n",
    "\n",
    "df_result = stock_marker_binance.marking_hold_wait_actions(df_result)\n",
    "print(\"Complete marking hold wait actions\")\n",
    "\n",
    "df_result = df_result.drop(columns=[\n",
    "                                    'timestamp',\n",
    "                                    'open', 'high', 'low' ,'close_time', 'volume',\n",
    "                                    'close',  \n",
    "                                    'quote_asset_volume', 'num_trades'\n",
    "                                    ])\n",
    "df_result=df_result.dropna()\n",
    "df_result.reset_index(inplace=True, drop=True)\n",
    "# df_result = stock_marker_binance.renaming_cols(df_result, STOCK_TICKER + \"_\", ['timestamp', 'action'])"
   ]
  },
  {
   "cell_type": "code",
   "execution_count": 14,
   "metadata": {},
   "outputs": [
    {
     "data": {
      "text/html": [
       "<div>\n",
       "<style scoped>\n",
       "    .dataframe tbody tr th:only-of-type {\n",
       "        vertical-align: middle;\n",
       "    }\n",
       "\n",
       "    .dataframe tbody tr th {\n",
       "        vertical-align: top;\n",
       "    }\n",
       "\n",
       "    .dataframe thead th {\n",
       "        text-align: right;\n",
       "    }\n",
       "</style>\n",
       "<table border=\"1\" class=\"dataframe\">\n",
       "  <thead>\n",
       "    <tr style=\"text-align: right;\">\n",
       "      <th></th>\n",
       "      <th>hour_sin</th>\n",
       "      <th>hour_cos</th>\n",
       "      <th>day_sin</th>\n",
       "      <th>day_cos</th>\n",
       "      <th>mon_sin</th>\n",
       "      <th>mon_cos</th>\n",
       "      <th>weekday_sin</th>\n",
       "      <th>weekday_cos</th>\n",
       "      <th>year</th>\n",
       "      <th>STD3_close</th>\n",
       "      <th>...</th>\n",
       "      <th>RSI_192_quote_asset_volume</th>\n",
       "      <th>RSI_384_quote_asset_volume</th>\n",
       "      <th>RSI_3_num_trades</th>\n",
       "      <th>RSI_6_num_trades</th>\n",
       "      <th>RSI_12_num_trades</th>\n",
       "      <th>RSI_24_num_trades</th>\n",
       "      <th>RSI_48_num_trades</th>\n",
       "      <th>RSI_96_num_trades</th>\n",
       "      <th>RSI_192_num_trades</th>\n",
       "      <th>RSI_384_num_trades</th>\n",
       "    </tr>\n",
       "    <tr>\n",
       "      <th>action</th>\n",
       "      <th></th>\n",
       "      <th></th>\n",
       "      <th></th>\n",
       "      <th></th>\n",
       "      <th></th>\n",
       "      <th></th>\n",
       "      <th></th>\n",
       "      <th></th>\n",
       "      <th></th>\n",
       "      <th></th>\n",
       "      <th></th>\n",
       "      <th></th>\n",
       "      <th></th>\n",
       "      <th></th>\n",
       "      <th></th>\n",
       "      <th></th>\n",
       "      <th></th>\n",
       "      <th></th>\n",
       "      <th></th>\n",
       "      <th></th>\n",
       "      <th></th>\n",
       "    </tr>\n",
       "  </thead>\n",
       "  <tbody>\n",
       "    <tr>\n",
       "      <th>B</th>\n",
       "      <td>2332</td>\n",
       "      <td>2332</td>\n",
       "      <td>2332</td>\n",
       "      <td>2332</td>\n",
       "      <td>2332</td>\n",
       "      <td>2332</td>\n",
       "      <td>2332</td>\n",
       "      <td>2332</td>\n",
       "      <td>2332</td>\n",
       "      <td>2332</td>\n",
       "      <td>...</td>\n",
       "      <td>2332</td>\n",
       "      <td>2332</td>\n",
       "      <td>2332</td>\n",
       "      <td>2332</td>\n",
       "      <td>2332</td>\n",
       "      <td>2332</td>\n",
       "      <td>2332</td>\n",
       "      <td>2332</td>\n",
       "      <td>2332</td>\n",
       "      <td>2332</td>\n",
       "    </tr>\n",
       "    <tr>\n",
       "      <th>H</th>\n",
       "      <td>11110</td>\n",
       "      <td>11110</td>\n",
       "      <td>11110</td>\n",
       "      <td>11110</td>\n",
       "      <td>11110</td>\n",
       "      <td>11110</td>\n",
       "      <td>11110</td>\n",
       "      <td>11110</td>\n",
       "      <td>11110</td>\n",
       "      <td>11110</td>\n",
       "      <td>...</td>\n",
       "      <td>11110</td>\n",
       "      <td>11110</td>\n",
       "      <td>11110</td>\n",
       "      <td>11110</td>\n",
       "      <td>11110</td>\n",
       "      <td>11110</td>\n",
       "      <td>11110</td>\n",
       "      <td>11110</td>\n",
       "      <td>11110</td>\n",
       "      <td>11110</td>\n",
       "    </tr>\n",
       "    <tr>\n",
       "      <th>S</th>\n",
       "      <td>2628</td>\n",
       "      <td>2628</td>\n",
       "      <td>2628</td>\n",
       "      <td>2628</td>\n",
       "      <td>2628</td>\n",
       "      <td>2628</td>\n",
       "      <td>2628</td>\n",
       "      <td>2628</td>\n",
       "      <td>2628</td>\n",
       "      <td>2628</td>\n",
       "      <td>...</td>\n",
       "      <td>2628</td>\n",
       "      <td>2628</td>\n",
       "      <td>2628</td>\n",
       "      <td>2628</td>\n",
       "      <td>2628</td>\n",
       "      <td>2628</td>\n",
       "      <td>2628</td>\n",
       "      <td>2628</td>\n",
       "      <td>2628</td>\n",
       "      <td>2628</td>\n",
       "    </tr>\n",
       "    <tr>\n",
       "      <th>W</th>\n",
       "      <td>18778</td>\n",
       "      <td>18778</td>\n",
       "      <td>18778</td>\n",
       "      <td>18778</td>\n",
       "      <td>18778</td>\n",
       "      <td>18778</td>\n",
       "      <td>18778</td>\n",
       "      <td>18778</td>\n",
       "      <td>18778</td>\n",
       "      <td>18778</td>\n",
       "      <td>...</td>\n",
       "      <td>18778</td>\n",
       "      <td>18778</td>\n",
       "      <td>18778</td>\n",
       "      <td>18778</td>\n",
       "      <td>18778</td>\n",
       "      <td>18778</td>\n",
       "      <td>18778</td>\n",
       "      <td>18778</td>\n",
       "      <td>18778</td>\n",
       "      <td>18778</td>\n",
       "    </tr>\n",
       "  </tbody>\n",
       "</table>\n",
       "<p>4 rows × 113 columns</p>\n",
       "</div>"
      ],
      "text/plain": [
       "        hour_sin  hour_cos  day_sin  day_cos  mon_sin  mon_cos  weekday_sin  \\\n",
       "action                                                                        \n",
       "B           2332      2332     2332     2332     2332     2332         2332   \n",
       "H          11110     11110    11110    11110    11110    11110        11110   \n",
       "S           2628      2628     2628     2628     2628     2628         2628   \n",
       "W          18778     18778    18778    18778    18778    18778        18778   \n",
       "\n",
       "        weekday_cos   year  STD3_close  ...  RSI_192_quote_asset_volume  \\\n",
       "action                                  ...                               \n",
       "B              2332   2332        2332  ...                        2332   \n",
       "H             11110  11110       11110  ...                       11110   \n",
       "S              2628   2628        2628  ...                        2628   \n",
       "W             18778  18778       18778  ...                       18778   \n",
       "\n",
       "        RSI_384_quote_asset_volume  RSI_3_num_trades  RSI_6_num_trades  \\\n",
       "action                                                                   \n",
       "B                             2332              2332              2332   \n",
       "H                            11110             11110             11110   \n",
       "S                             2628              2628              2628   \n",
       "W                            18778             18778             18778   \n",
       "\n",
       "        RSI_12_num_trades  RSI_24_num_trades  RSI_48_num_trades  \\\n",
       "action                                                            \n",
       "B                    2332               2332               2332   \n",
       "H                   11110              11110              11110   \n",
       "S                    2628               2628               2628   \n",
       "W                   18778              18778              18778   \n",
       "\n",
       "        RSI_96_num_trades  RSI_192_num_trades  RSI_384_num_trades  \n",
       "action                                                             \n",
       "B                    2332                2332                2332  \n",
       "H                   11110               11110               11110  \n",
       "S                    2628                2628                2628  \n",
       "W                   18778               18778               18778  \n",
       "\n",
       "[4 rows x 113 columns]"
      ]
     },
     "execution_count": 14,
     "metadata": {},
     "output_type": "execute_result"
    }
   ],
   "source": [
    "df_result.groupby('action').count()"
   ]
  },
  {
   "cell_type": "code",
   "execution_count": 15,
   "metadata": {},
   "outputs": [],
   "source": [
    "# Dropping cols\n",
    "drop_cols_list =[]\n",
    "for col in df_result.columns:\n",
    "    if col[:2]==\"MA\" or col[:3]==\"STD\":\n",
    "        drop_cols_list.append(col)\n",
    "df_result.drop(columns=drop_cols_list, inplace=True)"
   ]
  },
  {
   "cell_type": "code",
   "execution_count": 16,
   "metadata": {},
   "outputs": [
    {
     "data": {
      "text/html": [
       "<div>\n",
       "<style scoped>\n",
       "    .dataframe tbody tr th:only-of-type {\n",
       "        vertical-align: middle;\n",
       "    }\n",
       "\n",
       "    .dataframe tbody tr th {\n",
       "        vertical-align: top;\n",
       "    }\n",
       "\n",
       "    .dataframe thead th {\n",
       "        text-align: right;\n",
       "    }\n",
       "</style>\n",
       "<table border=\"1\" class=\"dataframe\">\n",
       "  <thead>\n",
       "    <tr style=\"text-align: right;\">\n",
       "      <th></th>\n",
       "      <th>hour_sin</th>\n",
       "      <th>hour_cos</th>\n",
       "      <th>day_sin</th>\n",
       "      <th>day_cos</th>\n",
       "      <th>mon_sin</th>\n",
       "      <th>mon_cos</th>\n",
       "      <th>weekday_sin</th>\n",
       "      <th>weekday_cos</th>\n",
       "      <th>year</th>\n",
       "      <th>RATIO_close_and_MA3</th>\n",
       "      <th>...</th>\n",
       "      <th>RSI_384_quote_asset_volume</th>\n",
       "      <th>RSI_3_num_trades</th>\n",
       "      <th>RSI_6_num_trades</th>\n",
       "      <th>RSI_12_num_trades</th>\n",
       "      <th>RSI_24_num_trades</th>\n",
       "      <th>RSI_48_num_trades</th>\n",
       "      <th>RSI_96_num_trades</th>\n",
       "      <th>RSI_192_num_trades</th>\n",
       "      <th>RSI_384_num_trades</th>\n",
       "      <th>action</th>\n",
       "    </tr>\n",
       "  </thead>\n",
       "  <tbody>\n",
       "    <tr>\n",
       "      <th>0</th>\n",
       "      <td>0.000000</td>\n",
       "      <td>1.000000e+00</td>\n",
       "      <td>-0.406737</td>\n",
       "      <td>-0.913545</td>\n",
       "      <td>0.5</td>\n",
       "      <td>0.866025</td>\n",
       "      <td>-0.433884</td>\n",
       "      <td>-0.900969</td>\n",
       "      <td>2020</td>\n",
       "      <td>0.998395</td>\n",
       "      <td>...</td>\n",
       "      <td>50.285725</td>\n",
       "      <td>55.233549</td>\n",
       "      <td>62.375595</td>\n",
       "      <td>44.246383</td>\n",
       "      <td>47.372031</td>\n",
       "      <td>41.390263</td>\n",
       "      <td>50.373816</td>\n",
       "      <td>50.212888</td>\n",
       "      <td>50.352010</td>\n",
       "      <td>B</td>\n",
       "    </tr>\n",
       "    <tr>\n",
       "      <th>1</th>\n",
       "      <td>0.258819</td>\n",
       "      <td>9.659258e-01</td>\n",
       "      <td>-0.406737</td>\n",
       "      <td>-0.913545</td>\n",
       "      <td>0.5</td>\n",
       "      <td>0.866025</td>\n",
       "      <td>-0.433884</td>\n",
       "      <td>-0.900969</td>\n",
       "      <td>2020</td>\n",
       "      <td>1.003510</td>\n",
       "      <td>...</td>\n",
       "      <td>50.044557</td>\n",
       "      <td>57.042254</td>\n",
       "      <td>53.231167</td>\n",
       "      <td>43.468397</td>\n",
       "      <td>40.757926</td>\n",
       "      <td>44.977155</td>\n",
       "      <td>50.329082</td>\n",
       "      <td>49.961415</td>\n",
       "      <td>50.023663</td>\n",
       "      <td>S</td>\n",
       "    </tr>\n",
       "    <tr>\n",
       "      <th>2</th>\n",
       "      <td>0.500000</td>\n",
       "      <td>8.660254e-01</td>\n",
       "      <td>-0.406737</td>\n",
       "      <td>-0.913545</td>\n",
       "      <td>0.5</td>\n",
       "      <td>0.866025</td>\n",
       "      <td>-0.433884</td>\n",
       "      <td>-0.900969</td>\n",
       "      <td>2020</td>\n",
       "      <td>1.005462</td>\n",
       "      <td>...</td>\n",
       "      <td>50.374138</td>\n",
       "      <td>71.936820</td>\n",
       "      <td>60.894401</td>\n",
       "      <td>54.737831</td>\n",
       "      <td>53.922093</td>\n",
       "      <td>51.046656</td>\n",
       "      <td>50.508626</td>\n",
       "      <td>50.688208</td>\n",
       "      <td>50.405497</td>\n",
       "      <td>W</td>\n",
       "    </tr>\n",
       "    <tr>\n",
       "      <th>3</th>\n",
       "      <td>0.707107</td>\n",
       "      <td>7.071068e-01</td>\n",
       "      <td>-0.406737</td>\n",
       "      <td>-0.913545</td>\n",
       "      <td>0.5</td>\n",
       "      <td>0.866025</td>\n",
       "      <td>-0.433884</td>\n",
       "      <td>-0.900969</td>\n",
       "      <td>2020</td>\n",
       "      <td>0.999496</td>\n",
       "      <td>...</td>\n",
       "      <td>50.454235</td>\n",
       "      <td>63.487630</td>\n",
       "      <td>59.629177</td>\n",
       "      <td>57.361954</td>\n",
       "      <td>54.634917</td>\n",
       "      <td>49.887067</td>\n",
       "      <td>50.916972</td>\n",
       "      <td>50.645574</td>\n",
       "      <td>50.478997</td>\n",
       "      <td>W</td>\n",
       "    </tr>\n",
       "    <tr>\n",
       "      <th>4</th>\n",
       "      <td>0.866025</td>\n",
       "      <td>5.000000e-01</td>\n",
       "      <td>-0.406737</td>\n",
       "      <td>-0.913545</td>\n",
       "      <td>0.5</td>\n",
       "      <td>0.866025</td>\n",
       "      <td>-0.433884</td>\n",
       "      <td>-0.900969</td>\n",
       "      <td>2020</td>\n",
       "      <td>1.005046</td>\n",
       "      <td>...</td>\n",
       "      <td>50.273035</td>\n",
       "      <td>62.021245</td>\n",
       "      <td>59.762526</td>\n",
       "      <td>46.674281</td>\n",
       "      <td>52.189555</td>\n",
       "      <td>47.257474</td>\n",
       "      <td>50.685501</td>\n",
       "      <td>50.334074</td>\n",
       "      <td>50.297334</td>\n",
       "      <td>W</td>\n",
       "    </tr>\n",
       "    <tr>\n",
       "      <th>...</th>\n",
       "      <td>...</td>\n",
       "      <td>...</td>\n",
       "      <td>...</td>\n",
       "      <td>...</td>\n",
       "      <td>...</td>\n",
       "      <td>...</td>\n",
       "      <td>...</td>\n",
       "      <td>...</td>\n",
       "      <td>...</td>\n",
       "      <td>...</td>\n",
       "      <td>...</td>\n",
       "      <td>...</td>\n",
       "      <td>...</td>\n",
       "      <td>...</td>\n",
       "      <td>...</td>\n",
       "      <td>...</td>\n",
       "      <td>...</td>\n",
       "      <td>...</td>\n",
       "      <td>...</td>\n",
       "      <td>...</td>\n",
       "      <td>...</td>\n",
       "    </tr>\n",
       "    <tr>\n",
       "      <th>34843</th>\n",
       "      <td>0.707107</td>\n",
       "      <td>7.071068e-01</td>\n",
       "      <td>0.951057</td>\n",
       "      <td>-0.309017</td>\n",
       "      <td>0.5</td>\n",
       "      <td>0.866025</td>\n",
       "      <td>0.781831</td>\n",
       "      <td>0.623490</td>\n",
       "      <td>2024</td>\n",
       "      <td>0.999538</td>\n",
       "      <td>...</td>\n",
       "      <td>49.917523</td>\n",
       "      <td>0.491800</td>\n",
       "      <td>45.842406</td>\n",
       "      <td>44.909560</td>\n",
       "      <td>46.166448</td>\n",
       "      <td>50.426042</td>\n",
       "      <td>50.048528</td>\n",
       "      <td>49.884557</td>\n",
       "      <td>49.932173</td>\n",
       "      <td>W</td>\n",
       "    </tr>\n",
       "    <tr>\n",
       "      <th>34844</th>\n",
       "      <td>0.866025</td>\n",
       "      <td>5.000000e-01</td>\n",
       "      <td>0.951057</td>\n",
       "      <td>-0.309017</td>\n",
       "      <td>0.5</td>\n",
       "      <td>0.866025</td>\n",
       "      <td>0.781831</td>\n",
       "      <td>0.623490</td>\n",
       "      <td>2024</td>\n",
       "      <td>1.001322</td>\n",
       "      <td>...</td>\n",
       "      <td>49.923296</td>\n",
       "      <td>9.573140</td>\n",
       "      <td>51.228791</td>\n",
       "      <td>46.818007</td>\n",
       "      <td>49.772624</td>\n",
       "      <td>50.584997</td>\n",
       "      <td>49.856044</td>\n",
       "      <td>49.908062</td>\n",
       "      <td>49.903714</td>\n",
       "      <td>W</td>\n",
       "    </tr>\n",
       "    <tr>\n",
       "      <th>34845</th>\n",
       "      <td>0.965926</td>\n",
       "      <td>2.588190e-01</td>\n",
       "      <td>0.951057</td>\n",
       "      <td>-0.309017</td>\n",
       "      <td>0.5</td>\n",
       "      <td>0.866025</td>\n",
       "      <td>0.781831</td>\n",
       "      <td>0.623490</td>\n",
       "      <td>2024</td>\n",
       "      <td>0.999021</td>\n",
       "      <td>...</td>\n",
       "      <td>49.684454</td>\n",
       "      <td>70.756458</td>\n",
       "      <td>46.134609</td>\n",
       "      <td>41.865474</td>\n",
       "      <td>49.885167</td>\n",
       "      <td>50.572507</td>\n",
       "      <td>50.125561</td>\n",
       "      <td>50.051341</td>\n",
       "      <td>49.662115</td>\n",
       "      <td>W</td>\n",
       "    </tr>\n",
       "    <tr>\n",
       "      <th>34846</th>\n",
       "      <td>1.000000</td>\n",
       "      <td>6.123234e-17</td>\n",
       "      <td>0.951057</td>\n",
       "      <td>-0.309017</td>\n",
       "      <td>0.5</td>\n",
       "      <td>0.866025</td>\n",
       "      <td>0.781831</td>\n",
       "      <td>0.623490</td>\n",
       "      <td>2024</td>\n",
       "      <td>0.997117</td>\n",
       "      <td>...</td>\n",
       "      <td>49.859221</td>\n",
       "      <td>71.389892</td>\n",
       "      <td>3.699243</td>\n",
       "      <td>27.179893</td>\n",
       "      <td>46.358171</td>\n",
       "      <td>50.568465</td>\n",
       "      <td>49.547127</td>\n",
       "      <td>50.109445</td>\n",
       "      <td>49.851729</td>\n",
       "      <td>W</td>\n",
       "    </tr>\n",
       "    <tr>\n",
       "      <th>34847</th>\n",
       "      <td>0.965926</td>\n",
       "      <td>-2.588190e-01</td>\n",
       "      <td>0.951057</td>\n",
       "      <td>-0.309017</td>\n",
       "      <td>0.5</td>\n",
       "      <td>0.866025</td>\n",
       "      <td>0.781831</td>\n",
       "      <td>0.623490</td>\n",
       "      <td>2024</td>\n",
       "      <td>1.000351</td>\n",
       "      <td>...</td>\n",
       "      <td>49.954691</td>\n",
       "      <td>3.279849</td>\n",
       "      <td>7.395918</td>\n",
       "      <td>30.689324</td>\n",
       "      <td>45.776484</td>\n",
       "      <td>49.810307</td>\n",
       "      <td>49.289525</td>\n",
       "      <td>49.963152</td>\n",
       "      <td>49.915666</td>\n",
       "      <td>W</td>\n",
       "    </tr>\n",
       "  </tbody>\n",
       "</table>\n",
       "<p>34848 rows × 66 columns</p>\n",
       "</div>"
      ],
      "text/plain": [
       "       hour_sin      hour_cos   day_sin   day_cos  mon_sin   mon_cos  \\\n",
       "0      0.000000  1.000000e+00 -0.406737 -0.913545      0.5  0.866025   \n",
       "1      0.258819  9.659258e-01 -0.406737 -0.913545      0.5  0.866025   \n",
       "2      0.500000  8.660254e-01 -0.406737 -0.913545      0.5  0.866025   \n",
       "3      0.707107  7.071068e-01 -0.406737 -0.913545      0.5  0.866025   \n",
       "4      0.866025  5.000000e-01 -0.406737 -0.913545      0.5  0.866025   \n",
       "...         ...           ...       ...       ...      ...       ...   \n",
       "34843  0.707107  7.071068e-01  0.951057 -0.309017      0.5  0.866025   \n",
       "34844  0.866025  5.000000e-01  0.951057 -0.309017      0.5  0.866025   \n",
       "34845  0.965926  2.588190e-01  0.951057 -0.309017      0.5  0.866025   \n",
       "34846  1.000000  6.123234e-17  0.951057 -0.309017      0.5  0.866025   \n",
       "34847  0.965926 -2.588190e-01  0.951057 -0.309017      0.5  0.866025   \n",
       "\n",
       "       weekday_sin  weekday_cos  year  RATIO_close_and_MA3  ...  \\\n",
       "0        -0.433884    -0.900969  2020             0.998395  ...   \n",
       "1        -0.433884    -0.900969  2020             1.003510  ...   \n",
       "2        -0.433884    -0.900969  2020             1.005462  ...   \n",
       "3        -0.433884    -0.900969  2020             0.999496  ...   \n",
       "4        -0.433884    -0.900969  2020             1.005046  ...   \n",
       "...            ...          ...   ...                  ...  ...   \n",
       "34843     0.781831     0.623490  2024             0.999538  ...   \n",
       "34844     0.781831     0.623490  2024             1.001322  ...   \n",
       "34845     0.781831     0.623490  2024             0.999021  ...   \n",
       "34846     0.781831     0.623490  2024             0.997117  ...   \n",
       "34847     0.781831     0.623490  2024             1.000351  ...   \n",
       "\n",
       "       RSI_384_quote_asset_volume  RSI_3_num_trades  RSI_6_num_trades  \\\n",
       "0                       50.285725         55.233549         62.375595   \n",
       "1                       50.044557         57.042254         53.231167   \n",
       "2                       50.374138         71.936820         60.894401   \n",
       "3                       50.454235         63.487630         59.629177   \n",
       "4                       50.273035         62.021245         59.762526   \n",
       "...                           ...               ...               ...   \n",
       "34843                   49.917523          0.491800         45.842406   \n",
       "34844                   49.923296          9.573140         51.228791   \n",
       "34845                   49.684454         70.756458         46.134609   \n",
       "34846                   49.859221         71.389892          3.699243   \n",
       "34847                   49.954691          3.279849          7.395918   \n",
       "\n",
       "       RSI_12_num_trades  RSI_24_num_trades  RSI_48_num_trades  \\\n",
       "0              44.246383          47.372031          41.390263   \n",
       "1              43.468397          40.757926          44.977155   \n",
       "2              54.737831          53.922093          51.046656   \n",
       "3              57.361954          54.634917          49.887067   \n",
       "4              46.674281          52.189555          47.257474   \n",
       "...                  ...                ...                ...   \n",
       "34843          44.909560          46.166448          50.426042   \n",
       "34844          46.818007          49.772624          50.584997   \n",
       "34845          41.865474          49.885167          50.572507   \n",
       "34846          27.179893          46.358171          50.568465   \n",
       "34847          30.689324          45.776484          49.810307   \n",
       "\n",
       "       RSI_96_num_trades  RSI_192_num_trades  RSI_384_num_trades  action  \n",
       "0              50.373816           50.212888           50.352010       B  \n",
       "1              50.329082           49.961415           50.023663       S  \n",
       "2              50.508626           50.688208           50.405497       W  \n",
       "3              50.916972           50.645574           50.478997       W  \n",
       "4              50.685501           50.334074           50.297334       W  \n",
       "...                  ...                 ...                 ...     ...  \n",
       "34843          50.048528           49.884557           49.932173       W  \n",
       "34844          49.856044           49.908062           49.903714       W  \n",
       "34845          50.125561           50.051341           49.662115       W  \n",
       "34846          49.547127           50.109445           49.851729       W  \n",
       "34847          49.289525           49.963152           49.915666       W  \n",
       "\n",
       "[34848 rows x 66 columns]"
      ]
     },
     "execution_count": 16,
     "metadata": {},
     "output_type": "execute_result"
    }
   ],
   "source": [
    "df_result"
   ]
  },
  {
   "cell_type": "code",
   "execution_count": 17,
   "metadata": {},
   "outputs": [],
   "source": [
    "# Do NOT use SMOTE for LSTM!!!\n",
    "# df_result, n_test = smote(df_result, TRAIN_FRACTION)"
   ]
  },
  {
   "cell_type": "code",
   "execution_count": 18,
   "metadata": {},
   "outputs": [
    {
     "data": {
      "text/html": [
       "<div>\n",
       "<style scoped>\n",
       "    .dataframe tbody tr th:only-of-type {\n",
       "        vertical-align: middle;\n",
       "    }\n",
       "\n",
       "    .dataframe tbody tr th {\n",
       "        vertical-align: top;\n",
       "    }\n",
       "\n",
       "    .dataframe thead th {\n",
       "        text-align: right;\n",
       "    }\n",
       "</style>\n",
       "<table border=\"1\" class=\"dataframe\">\n",
       "  <thead>\n",
       "    <tr style=\"text-align: right;\">\n",
       "      <th></th>\n",
       "      <th>hour_sin</th>\n",
       "      <th>hour_cos</th>\n",
       "      <th>day_sin</th>\n",
       "      <th>day_cos</th>\n",
       "      <th>mon_sin</th>\n",
       "      <th>mon_cos</th>\n",
       "      <th>weekday_sin</th>\n",
       "      <th>weekday_cos</th>\n",
       "      <th>year</th>\n",
       "      <th>RATIO_close_and_MA3</th>\n",
       "      <th>...</th>\n",
       "      <th>RSI_384_quote_asset_volume</th>\n",
       "      <th>RSI_3_num_trades</th>\n",
       "      <th>RSI_6_num_trades</th>\n",
       "      <th>RSI_12_num_trades</th>\n",
       "      <th>RSI_24_num_trades</th>\n",
       "      <th>RSI_48_num_trades</th>\n",
       "      <th>RSI_96_num_trades</th>\n",
       "      <th>RSI_192_num_trades</th>\n",
       "      <th>RSI_384_num_trades</th>\n",
       "      <th>action</th>\n",
       "    </tr>\n",
       "  </thead>\n",
       "  <tbody>\n",
       "    <tr>\n",
       "      <th>0</th>\n",
       "      <td>0.000000</td>\n",
       "      <td>1.000000</td>\n",
       "      <td>-0.406737</td>\n",
       "      <td>-0.913545</td>\n",
       "      <td>0.5</td>\n",
       "      <td>0.866025</td>\n",
       "      <td>-0.433884</td>\n",
       "      <td>-0.900969</td>\n",
       "      <td>2020</td>\n",
       "      <td>0.998395</td>\n",
       "      <td>...</td>\n",
       "      <td>50.285725</td>\n",
       "      <td>55.233549</td>\n",
       "      <td>62.375595</td>\n",
       "      <td>44.246383</td>\n",
       "      <td>47.372031</td>\n",
       "      <td>41.390263</td>\n",
       "      <td>50.373816</td>\n",
       "      <td>50.212888</td>\n",
       "      <td>50.352010</td>\n",
       "      <td>B</td>\n",
       "    </tr>\n",
       "    <tr>\n",
       "      <th>1</th>\n",
       "      <td>0.258819</td>\n",
       "      <td>0.965926</td>\n",
       "      <td>-0.406737</td>\n",
       "      <td>-0.913545</td>\n",
       "      <td>0.5</td>\n",
       "      <td>0.866025</td>\n",
       "      <td>-0.433884</td>\n",
       "      <td>-0.900969</td>\n",
       "      <td>2020</td>\n",
       "      <td>1.003510</td>\n",
       "      <td>...</td>\n",
       "      <td>50.044557</td>\n",
       "      <td>57.042254</td>\n",
       "      <td>53.231167</td>\n",
       "      <td>43.468397</td>\n",
       "      <td>40.757926</td>\n",
       "      <td>44.977155</td>\n",
       "      <td>50.329082</td>\n",
       "      <td>49.961415</td>\n",
       "      <td>50.023663</td>\n",
       "      <td>S</td>\n",
       "    </tr>\n",
       "    <tr>\n",
       "      <th>2</th>\n",
       "      <td>0.500000</td>\n",
       "      <td>0.866025</td>\n",
       "      <td>-0.406737</td>\n",
       "      <td>-0.913545</td>\n",
       "      <td>0.5</td>\n",
       "      <td>0.866025</td>\n",
       "      <td>-0.433884</td>\n",
       "      <td>-0.900969</td>\n",
       "      <td>2020</td>\n",
       "      <td>1.005462</td>\n",
       "      <td>...</td>\n",
       "      <td>50.374138</td>\n",
       "      <td>71.936820</td>\n",
       "      <td>60.894401</td>\n",
       "      <td>54.737831</td>\n",
       "      <td>53.922093</td>\n",
       "      <td>51.046656</td>\n",
       "      <td>50.508626</td>\n",
       "      <td>50.688208</td>\n",
       "      <td>50.405497</td>\n",
       "      <td>W</td>\n",
       "    </tr>\n",
       "    <tr>\n",
       "      <th>3</th>\n",
       "      <td>0.707107</td>\n",
       "      <td>0.707107</td>\n",
       "      <td>-0.406737</td>\n",
       "      <td>-0.913545</td>\n",
       "      <td>0.5</td>\n",
       "      <td>0.866025</td>\n",
       "      <td>-0.433884</td>\n",
       "      <td>-0.900969</td>\n",
       "      <td>2020</td>\n",
       "      <td>0.999496</td>\n",
       "      <td>...</td>\n",
       "      <td>50.454235</td>\n",
       "      <td>63.487630</td>\n",
       "      <td>59.629177</td>\n",
       "      <td>57.361954</td>\n",
       "      <td>54.634917</td>\n",
       "      <td>49.887067</td>\n",
       "      <td>50.916972</td>\n",
       "      <td>50.645574</td>\n",
       "      <td>50.478997</td>\n",
       "      <td>W</td>\n",
       "    </tr>\n",
       "    <tr>\n",
       "      <th>4</th>\n",
       "      <td>0.866025</td>\n",
       "      <td>0.500000</td>\n",
       "      <td>-0.406737</td>\n",
       "      <td>-0.913545</td>\n",
       "      <td>0.5</td>\n",
       "      <td>0.866025</td>\n",
       "      <td>-0.433884</td>\n",
       "      <td>-0.900969</td>\n",
       "      <td>2020</td>\n",
       "      <td>1.005046</td>\n",
       "      <td>...</td>\n",
       "      <td>50.273035</td>\n",
       "      <td>62.021245</td>\n",
       "      <td>59.762526</td>\n",
       "      <td>46.674281</td>\n",
       "      <td>52.189555</td>\n",
       "      <td>47.257474</td>\n",
       "      <td>50.685501</td>\n",
       "      <td>50.334074</td>\n",
       "      <td>50.297334</td>\n",
       "      <td>W</td>\n",
       "    </tr>\n",
       "  </tbody>\n",
       "</table>\n",
       "<p>5 rows × 66 columns</p>\n",
       "</div>"
      ],
      "text/plain": [
       "   hour_sin  hour_cos   day_sin   day_cos  mon_sin   mon_cos  weekday_sin  \\\n",
       "0  0.000000  1.000000 -0.406737 -0.913545      0.5  0.866025    -0.433884   \n",
       "1  0.258819  0.965926 -0.406737 -0.913545      0.5  0.866025    -0.433884   \n",
       "2  0.500000  0.866025 -0.406737 -0.913545      0.5  0.866025    -0.433884   \n",
       "3  0.707107  0.707107 -0.406737 -0.913545      0.5  0.866025    -0.433884   \n",
       "4  0.866025  0.500000 -0.406737 -0.913545      0.5  0.866025    -0.433884   \n",
       "\n",
       "   weekday_cos  year  RATIO_close_and_MA3  ...  RSI_384_quote_asset_volume  \\\n",
       "0    -0.900969  2020             0.998395  ...                   50.285725   \n",
       "1    -0.900969  2020             1.003510  ...                   50.044557   \n",
       "2    -0.900969  2020             1.005462  ...                   50.374138   \n",
       "3    -0.900969  2020             0.999496  ...                   50.454235   \n",
       "4    -0.900969  2020             1.005046  ...                   50.273035   \n",
       "\n",
       "   RSI_3_num_trades  RSI_6_num_trades  RSI_12_num_trades  RSI_24_num_trades  \\\n",
       "0         55.233549         62.375595          44.246383          47.372031   \n",
       "1         57.042254         53.231167          43.468397          40.757926   \n",
       "2         71.936820         60.894401          54.737831          53.922093   \n",
       "3         63.487630         59.629177          57.361954          54.634917   \n",
       "4         62.021245         59.762526          46.674281          52.189555   \n",
       "\n",
       "   RSI_48_num_trades  RSI_96_num_trades  RSI_192_num_trades  \\\n",
       "0          41.390263          50.373816           50.212888   \n",
       "1          44.977155          50.329082           49.961415   \n",
       "2          51.046656          50.508626           50.688208   \n",
       "3          49.887067          50.916972           50.645574   \n",
       "4          47.257474          50.685501           50.334074   \n",
       "\n",
       "   RSI_384_num_trades  action  \n",
       "0           50.352010       B  \n",
       "1           50.023663       S  \n",
       "2           50.405497       W  \n",
       "3           50.478997       W  \n",
       "4           50.297334       W  \n",
       "\n",
       "[5 rows x 66 columns]"
      ]
     },
     "execution_count": 18,
     "metadata": {},
     "output_type": "execute_result"
    }
   ],
   "source": [
    "df_result.head()"
   ]
  },
  {
   "cell_type": "code",
   "execution_count": 19,
   "metadata": {},
   "outputs": [
    {
     "name": "stdout",
     "output_type": "stream",
     "text": [
      "[3.73584906 0.78415842 3.31506849 0.46394717]\n",
      "dict_keys(['B', 'H', 'S', 'W'])\n"
     ]
    }
   ],
   "source": [
    "df_result, class_weights_dict = OneHotEncoding(df_result)"
   ]
  },
  {
   "cell_type": "code",
   "execution_count": 20,
   "metadata": {},
   "outputs": [
    {
     "data": {
      "text/html": [
       "<div>\n",
       "<style scoped>\n",
       "    .dataframe tbody tr th:only-of-type {\n",
       "        vertical-align: middle;\n",
       "    }\n",
       "\n",
       "    .dataframe tbody tr th {\n",
       "        vertical-align: top;\n",
       "    }\n",
       "\n",
       "    .dataframe thead th {\n",
       "        text-align: right;\n",
       "    }\n",
       "</style>\n",
       "<table border=\"1\" class=\"dataframe\">\n",
       "  <thead>\n",
       "    <tr style=\"text-align: right;\">\n",
       "      <th></th>\n",
       "      <th>hour_sin</th>\n",
       "      <th>hour_cos</th>\n",
       "      <th>day_sin</th>\n",
       "      <th>day_cos</th>\n",
       "      <th>mon_sin</th>\n",
       "      <th>mon_cos</th>\n",
       "      <th>weekday_sin</th>\n",
       "      <th>weekday_cos</th>\n",
       "      <th>year</th>\n",
       "      <th>RATIO_close_and_MA3</th>\n",
       "      <th>...</th>\n",
       "      <th>RSI_12_num_trades</th>\n",
       "      <th>RSI_24_num_trades</th>\n",
       "      <th>RSI_48_num_trades</th>\n",
       "      <th>RSI_96_num_trades</th>\n",
       "      <th>RSI_192_num_trades</th>\n",
       "      <th>RSI_384_num_trades</th>\n",
       "      <th>B</th>\n",
       "      <th>H</th>\n",
       "      <th>S</th>\n",
       "      <th>W</th>\n",
       "    </tr>\n",
       "  </thead>\n",
       "  <tbody>\n",
       "    <tr>\n",
       "      <th>0</th>\n",
       "      <td>0.000000</td>\n",
       "      <td>1.000000</td>\n",
       "      <td>-0.406737</td>\n",
       "      <td>-0.913545</td>\n",
       "      <td>0.5</td>\n",
       "      <td>0.866025</td>\n",
       "      <td>-0.433884</td>\n",
       "      <td>-0.900969</td>\n",
       "      <td>2020</td>\n",
       "      <td>0.998395</td>\n",
       "      <td>...</td>\n",
       "      <td>44.246383</td>\n",
       "      <td>47.372031</td>\n",
       "      <td>41.390263</td>\n",
       "      <td>50.373816</td>\n",
       "      <td>50.212888</td>\n",
       "      <td>50.352010</td>\n",
       "      <td>1.0</td>\n",
       "      <td>0.0</td>\n",
       "      <td>0.0</td>\n",
       "      <td>0.0</td>\n",
       "    </tr>\n",
       "    <tr>\n",
       "      <th>1</th>\n",
       "      <td>0.258819</td>\n",
       "      <td>0.965926</td>\n",
       "      <td>-0.406737</td>\n",
       "      <td>-0.913545</td>\n",
       "      <td>0.5</td>\n",
       "      <td>0.866025</td>\n",
       "      <td>-0.433884</td>\n",
       "      <td>-0.900969</td>\n",
       "      <td>2020</td>\n",
       "      <td>1.003510</td>\n",
       "      <td>...</td>\n",
       "      <td>43.468397</td>\n",
       "      <td>40.757926</td>\n",
       "      <td>44.977155</td>\n",
       "      <td>50.329082</td>\n",
       "      <td>49.961415</td>\n",
       "      <td>50.023663</td>\n",
       "      <td>0.0</td>\n",
       "      <td>0.0</td>\n",
       "      <td>1.0</td>\n",
       "      <td>0.0</td>\n",
       "    </tr>\n",
       "    <tr>\n",
       "      <th>2</th>\n",
       "      <td>0.500000</td>\n",
       "      <td>0.866025</td>\n",
       "      <td>-0.406737</td>\n",
       "      <td>-0.913545</td>\n",
       "      <td>0.5</td>\n",
       "      <td>0.866025</td>\n",
       "      <td>-0.433884</td>\n",
       "      <td>-0.900969</td>\n",
       "      <td>2020</td>\n",
       "      <td>1.005462</td>\n",
       "      <td>...</td>\n",
       "      <td>54.737831</td>\n",
       "      <td>53.922093</td>\n",
       "      <td>51.046656</td>\n",
       "      <td>50.508626</td>\n",
       "      <td>50.688208</td>\n",
       "      <td>50.405497</td>\n",
       "      <td>0.0</td>\n",
       "      <td>0.0</td>\n",
       "      <td>0.0</td>\n",
       "      <td>1.0</td>\n",
       "    </tr>\n",
       "    <tr>\n",
       "      <th>3</th>\n",
       "      <td>0.707107</td>\n",
       "      <td>0.707107</td>\n",
       "      <td>-0.406737</td>\n",
       "      <td>-0.913545</td>\n",
       "      <td>0.5</td>\n",
       "      <td>0.866025</td>\n",
       "      <td>-0.433884</td>\n",
       "      <td>-0.900969</td>\n",
       "      <td>2020</td>\n",
       "      <td>0.999496</td>\n",
       "      <td>...</td>\n",
       "      <td>57.361954</td>\n",
       "      <td>54.634917</td>\n",
       "      <td>49.887067</td>\n",
       "      <td>50.916972</td>\n",
       "      <td>50.645574</td>\n",
       "      <td>50.478997</td>\n",
       "      <td>0.0</td>\n",
       "      <td>0.0</td>\n",
       "      <td>0.0</td>\n",
       "      <td>1.0</td>\n",
       "    </tr>\n",
       "    <tr>\n",
       "      <th>4</th>\n",
       "      <td>0.866025</td>\n",
       "      <td>0.500000</td>\n",
       "      <td>-0.406737</td>\n",
       "      <td>-0.913545</td>\n",
       "      <td>0.5</td>\n",
       "      <td>0.866025</td>\n",
       "      <td>-0.433884</td>\n",
       "      <td>-0.900969</td>\n",
       "      <td>2020</td>\n",
       "      <td>1.005046</td>\n",
       "      <td>...</td>\n",
       "      <td>46.674281</td>\n",
       "      <td>52.189555</td>\n",
       "      <td>47.257474</td>\n",
       "      <td>50.685501</td>\n",
       "      <td>50.334074</td>\n",
       "      <td>50.297334</td>\n",
       "      <td>0.0</td>\n",
       "      <td>0.0</td>\n",
       "      <td>0.0</td>\n",
       "      <td>1.0</td>\n",
       "    </tr>\n",
       "  </tbody>\n",
       "</table>\n",
       "<p>5 rows × 69 columns</p>\n",
       "</div>"
      ],
      "text/plain": [
       "   hour_sin  hour_cos   day_sin   day_cos  mon_sin   mon_cos  weekday_sin  \\\n",
       "0  0.000000  1.000000 -0.406737 -0.913545      0.5  0.866025    -0.433884   \n",
       "1  0.258819  0.965926 -0.406737 -0.913545      0.5  0.866025    -0.433884   \n",
       "2  0.500000  0.866025 -0.406737 -0.913545      0.5  0.866025    -0.433884   \n",
       "3  0.707107  0.707107 -0.406737 -0.913545      0.5  0.866025    -0.433884   \n",
       "4  0.866025  0.500000 -0.406737 -0.913545      0.5  0.866025    -0.433884   \n",
       "\n",
       "   weekday_cos  year  RATIO_close_and_MA3  ...  RSI_12_num_trades  \\\n",
       "0    -0.900969  2020             0.998395  ...          44.246383   \n",
       "1    -0.900969  2020             1.003510  ...          43.468397   \n",
       "2    -0.900969  2020             1.005462  ...          54.737831   \n",
       "3    -0.900969  2020             0.999496  ...          57.361954   \n",
       "4    -0.900969  2020             1.005046  ...          46.674281   \n",
       "\n",
       "   RSI_24_num_trades  RSI_48_num_trades  RSI_96_num_trades  \\\n",
       "0          47.372031          41.390263          50.373816   \n",
       "1          40.757926          44.977155          50.329082   \n",
       "2          53.922093          51.046656          50.508626   \n",
       "3          54.634917          49.887067          50.916972   \n",
       "4          52.189555          47.257474          50.685501   \n",
       "\n",
       "   RSI_192_num_trades  RSI_384_num_trades    B    H    S    W  \n",
       "0           50.212888           50.352010  1.0  0.0  0.0  0.0  \n",
       "1           49.961415           50.023663  0.0  0.0  1.0  0.0  \n",
       "2           50.688208           50.405497  0.0  0.0  0.0  1.0  \n",
       "3           50.645574           50.478997  0.0  0.0  0.0  1.0  \n",
       "4           50.334074           50.297334  0.0  0.0  0.0  1.0  \n",
       "\n",
       "[5 rows x 69 columns]"
      ]
     },
     "execution_count": 20,
     "metadata": {},
     "output_type": "execute_result"
    }
   ],
   "source": [
    "df_result.head()"
   ]
  },
  {
   "cell_type": "code",
   "execution_count": 21,
   "metadata": {},
   "outputs": [
    {
     "data": {
      "text/plain": [
       "Index(['hour_sin', 'hour_cos', 'day_sin', 'day_cos', 'mon_sin', 'mon_cos',\n",
       "       'weekday_sin', 'weekday_cos', 'year', 'RATIO_close_and_MA3',\n",
       "       'RATIO_close_and_MA6', 'RATIO_close_and_MA12', 'RATIO_close_and_MA24',\n",
       "       'RATIO_close_and_MA48', 'RATIO_close_and_MA96', 'RATIO_close_and_MA192',\n",
       "       'RATIO_close_and_MA384', 'RATIO_quote_asset_volume_and_MA3',\n",
       "       'RATIO_quote_asset_volume_and_MA6', 'RATIO_quote_asset_volume_and_MA12',\n",
       "       'RATIO_quote_asset_volume_and_MA24',\n",
       "       'RATIO_quote_asset_volume_and_MA48',\n",
       "       'RATIO_quote_asset_volume_and_MA96',\n",
       "       'RATIO_quote_asset_volume_and_MA192',\n",
       "       'RATIO_quote_asset_volume_and_MA384', 'RATIO_num_trades_and_MA3',\n",
       "       'RATIO_num_trades_and_MA6', 'RATIO_num_trades_and_MA12',\n",
       "       'RATIO_num_trades_and_MA24', 'RATIO_num_trades_and_MA48',\n",
       "       'RATIO_num_trades_and_MA96', 'RATIO_num_trades_and_MA192',\n",
       "       'RATIO_num_trades_and_MA384', 'RATIO_close_and_STD3',\n",
       "       'RATIO_close_and_STD6', 'RATIO_close_and_STD12',\n",
       "       'RATIO_close_and_STD24', 'RATIO_close_and_STD48',\n",
       "       'RATIO_close_and_STD96', 'RATIO_close_and_STD192',\n",
       "       'RATIO_close_and_STD384', 'RSI_3_close', 'RSI_6_close', 'RSI_12_close',\n",
       "       'RSI_24_close', 'RSI_48_close', 'RSI_96_close', 'RSI_192_close',\n",
       "       'RSI_384_close', 'RSI_3_quote_asset_volume', 'RSI_6_quote_asset_volume',\n",
       "       'RSI_12_quote_asset_volume', 'RSI_24_quote_asset_volume',\n",
       "       'RSI_48_quote_asset_volume', 'RSI_96_quote_asset_volume',\n",
       "       'RSI_192_quote_asset_volume', 'RSI_384_quote_asset_volume',\n",
       "       'RSI_3_num_trades', 'RSI_6_num_trades', 'RSI_12_num_trades',\n",
       "       'RSI_24_num_trades', 'RSI_48_num_trades', 'RSI_96_num_trades',\n",
       "       'RSI_192_num_trades', 'RSI_384_num_trades', 'B', 'H', 'S', 'W'],\n",
       "      dtype='object')"
      ]
     },
     "execution_count": 21,
     "metadata": {},
     "output_type": "execute_result"
    }
   ],
   "source": [
    "df_result.columns"
   ]
  },
  {
   "cell_type": "code",
   "execution_count": 50,
   "metadata": {},
   "outputs": [
    {
     "name": "stdout",
     "output_type": "stream",
     "text": [
      "(26135, 2, 65)\n",
      "(26135, 4)\n",
      "(8712, 2, 65)\n",
      "(8712, 4)\n"
     ]
    },
    {
     "data": {
      "application/vnd.plotly.v1+json": {
       "config": {
        "plotlyServerURL": "https://plot.ly"
       },
       "data": [
        {
         "mode": "lines",
         "name": "sens_at_spec",
         "type": "scatter",
         "y": [
          0.02827625721693039,
          0.13782283663749695,
          0.27147504687309265,
          0.2438109815120697,
          0.25727951526641846,
          0.2935909628868103,
          0.2646642327308655,
          0.27319687604904175,
          0.3026210069656372,
          0.3062177300453186,
          0.2968050539493561,
          0.31230151653289795,
          0.31735220551490784,
          0.32339775562286377,
          0.32665008306503296,
          0.3291371762752533,
          0.32829537987709045,
          0.33881768584251404,
          0.34214654564857483,
          0.35316625237464905,
          0.35660991072654724,
          0.36024487018585205,
          0.36162233352661133,
          0.36403289437294006,
          0.3681270182132721,
          0.3703462779521942,
          0.37463173270225525,
          0.3740195035934448,
          0.37654486298561096,
          0.37983545660972595,
          0.3806772530078888,
          0.3843122124671936,
          0.3875263035297394,
          0.39047256112098694,
          0.39242395758628845,
          0.39406925439834595,
          0.39598238468170166,
          0.3969772458076477,
          0.4004974067211151,
          0.40141573548316956,
          0.40340539813041687,
          0.40462979674339294,
          0.4074229896068573,
          0.4096039831638336,
          0.41159364581108093,
          0.41167017817497253,
          0.41346853971481323,
          0.4146164059638977,
          0.4161469340324402,
          0.4179835617542267,
          0.41882532835006714
         ]
        },
        {
         "mode": "lines",
         "name": "val_sens_at_spec",
         "type": "scatter",
         "y": [
          0.11857208609580994,
          0.2805325984954834,
          0.30234161019325256,
          0.3525022864341736,
          0.3225436210632324,
          0.33953168988227844,
          0.3862488567829132,
          0.39944905042648315,
          0.4030073583126068,
          0.3778696060180664,
          0.39382460713386536,
          0.3955463767051697,
          0.4081726372241974,
          0.4211432635784149,
          0.4445592164993286,
          0.46590909361839294,
          0.49253901839256287,
          0.5050504803657532,
          0.5195133090019226,
          0.5259412527084351,
          0.5307621955871582,
          0.5303030014038086,
          0.527662992477417,
          0.5113636255264282,
          0.4957529902458191,
          0.4818640947341919,
          0.4734848439693451,
          0.46728649735450745,
          0.4584481120109558,
          0.4586776793003082,
          0.4573002755641937,
          0.45741507411003113,
          0.4583333432674408,
          0.4599403142929077,
          0.46028465032577515,
          0.46303948760032654,
          0.4639577567577362,
          0.46453168988227844,
          0.4682047665119171,
          0.4708448052406311,
          0.4732552766799927,
          0.4763544499874115,
          0.4793388545513153,
          0.4820936620235443,
          0.4861111044883728,
          0.48691460490226746,
          0.4878328740596771,
          0.4901285469532013,
          0.4943755865097046,
          0.4960973262786865,
          0.4975895285606384
         ]
        }
       ],
       "layout": {
        "template": {
         "data": {
          "bar": [
           {
            "error_x": {
             "color": "#2a3f5f"
            },
            "error_y": {
             "color": "#2a3f5f"
            },
            "marker": {
             "line": {
              "color": "#E5ECF6",
              "width": 0.5
             },
             "pattern": {
              "fillmode": "overlay",
              "size": 10,
              "solidity": 0.2
             }
            },
            "type": "bar"
           }
          ],
          "barpolar": [
           {
            "marker": {
             "line": {
              "color": "#E5ECF6",
              "width": 0.5
             },
             "pattern": {
              "fillmode": "overlay",
              "size": 10,
              "solidity": 0.2
             }
            },
            "type": "barpolar"
           }
          ],
          "carpet": [
           {
            "aaxis": {
             "endlinecolor": "#2a3f5f",
             "gridcolor": "white",
             "linecolor": "white",
             "minorgridcolor": "white",
             "startlinecolor": "#2a3f5f"
            },
            "baxis": {
             "endlinecolor": "#2a3f5f",
             "gridcolor": "white",
             "linecolor": "white",
             "minorgridcolor": "white",
             "startlinecolor": "#2a3f5f"
            },
            "type": "carpet"
           }
          ],
          "choropleth": [
           {
            "colorbar": {
             "outlinewidth": 0,
             "ticks": ""
            },
            "type": "choropleth"
           }
          ],
          "contour": [
           {
            "colorbar": {
             "outlinewidth": 0,
             "ticks": ""
            },
            "colorscale": [
             [
              0,
              "#0d0887"
             ],
             [
              0.1111111111111111,
              "#46039f"
             ],
             [
              0.2222222222222222,
              "#7201a8"
             ],
             [
              0.3333333333333333,
              "#9c179e"
             ],
             [
              0.4444444444444444,
              "#bd3786"
             ],
             [
              0.5555555555555556,
              "#d8576b"
             ],
             [
              0.6666666666666666,
              "#ed7953"
             ],
             [
              0.7777777777777778,
              "#fb9f3a"
             ],
             [
              0.8888888888888888,
              "#fdca26"
             ],
             [
              1,
              "#f0f921"
             ]
            ],
            "type": "contour"
           }
          ],
          "contourcarpet": [
           {
            "colorbar": {
             "outlinewidth": 0,
             "ticks": ""
            },
            "type": "contourcarpet"
           }
          ],
          "heatmap": [
           {
            "colorbar": {
             "outlinewidth": 0,
             "ticks": ""
            },
            "colorscale": [
             [
              0,
              "#0d0887"
             ],
             [
              0.1111111111111111,
              "#46039f"
             ],
             [
              0.2222222222222222,
              "#7201a8"
             ],
             [
              0.3333333333333333,
              "#9c179e"
             ],
             [
              0.4444444444444444,
              "#bd3786"
             ],
             [
              0.5555555555555556,
              "#d8576b"
             ],
             [
              0.6666666666666666,
              "#ed7953"
             ],
             [
              0.7777777777777778,
              "#fb9f3a"
             ],
             [
              0.8888888888888888,
              "#fdca26"
             ],
             [
              1,
              "#f0f921"
             ]
            ],
            "type": "heatmap"
           }
          ],
          "heatmapgl": [
           {
            "colorbar": {
             "outlinewidth": 0,
             "ticks": ""
            },
            "colorscale": [
             [
              0,
              "#0d0887"
             ],
             [
              0.1111111111111111,
              "#46039f"
             ],
             [
              0.2222222222222222,
              "#7201a8"
             ],
             [
              0.3333333333333333,
              "#9c179e"
             ],
             [
              0.4444444444444444,
              "#bd3786"
             ],
             [
              0.5555555555555556,
              "#d8576b"
             ],
             [
              0.6666666666666666,
              "#ed7953"
             ],
             [
              0.7777777777777778,
              "#fb9f3a"
             ],
             [
              0.8888888888888888,
              "#fdca26"
             ],
             [
              1,
              "#f0f921"
             ]
            ],
            "type": "heatmapgl"
           }
          ],
          "histogram": [
           {
            "marker": {
             "pattern": {
              "fillmode": "overlay",
              "size": 10,
              "solidity": 0.2
             }
            },
            "type": "histogram"
           }
          ],
          "histogram2d": [
           {
            "colorbar": {
             "outlinewidth": 0,
             "ticks": ""
            },
            "colorscale": [
             [
              0,
              "#0d0887"
             ],
             [
              0.1111111111111111,
              "#46039f"
             ],
             [
              0.2222222222222222,
              "#7201a8"
             ],
             [
              0.3333333333333333,
              "#9c179e"
             ],
             [
              0.4444444444444444,
              "#bd3786"
             ],
             [
              0.5555555555555556,
              "#d8576b"
             ],
             [
              0.6666666666666666,
              "#ed7953"
             ],
             [
              0.7777777777777778,
              "#fb9f3a"
             ],
             [
              0.8888888888888888,
              "#fdca26"
             ],
             [
              1,
              "#f0f921"
             ]
            ],
            "type": "histogram2d"
           }
          ],
          "histogram2dcontour": [
           {
            "colorbar": {
             "outlinewidth": 0,
             "ticks": ""
            },
            "colorscale": [
             [
              0,
              "#0d0887"
             ],
             [
              0.1111111111111111,
              "#46039f"
             ],
             [
              0.2222222222222222,
              "#7201a8"
             ],
             [
              0.3333333333333333,
              "#9c179e"
             ],
             [
              0.4444444444444444,
              "#bd3786"
             ],
             [
              0.5555555555555556,
              "#d8576b"
             ],
             [
              0.6666666666666666,
              "#ed7953"
             ],
             [
              0.7777777777777778,
              "#fb9f3a"
             ],
             [
              0.8888888888888888,
              "#fdca26"
             ],
             [
              1,
              "#f0f921"
             ]
            ],
            "type": "histogram2dcontour"
           }
          ],
          "mesh3d": [
           {
            "colorbar": {
             "outlinewidth": 0,
             "ticks": ""
            },
            "type": "mesh3d"
           }
          ],
          "parcoords": [
           {
            "line": {
             "colorbar": {
              "outlinewidth": 0,
              "ticks": ""
             }
            },
            "type": "parcoords"
           }
          ],
          "pie": [
           {
            "automargin": true,
            "type": "pie"
           }
          ],
          "scatter": [
           {
            "fillpattern": {
             "fillmode": "overlay",
             "size": 10,
             "solidity": 0.2
            },
            "type": "scatter"
           }
          ],
          "scatter3d": [
           {
            "line": {
             "colorbar": {
              "outlinewidth": 0,
              "ticks": ""
             }
            },
            "marker": {
             "colorbar": {
              "outlinewidth": 0,
              "ticks": ""
             }
            },
            "type": "scatter3d"
           }
          ],
          "scattercarpet": [
           {
            "marker": {
             "colorbar": {
              "outlinewidth": 0,
              "ticks": ""
             }
            },
            "type": "scattercarpet"
           }
          ],
          "scattergeo": [
           {
            "marker": {
             "colorbar": {
              "outlinewidth": 0,
              "ticks": ""
             }
            },
            "type": "scattergeo"
           }
          ],
          "scattergl": [
           {
            "marker": {
             "colorbar": {
              "outlinewidth": 0,
              "ticks": ""
             }
            },
            "type": "scattergl"
           }
          ],
          "scattermapbox": [
           {
            "marker": {
             "colorbar": {
              "outlinewidth": 0,
              "ticks": ""
             }
            },
            "type": "scattermapbox"
           }
          ],
          "scatterpolar": [
           {
            "marker": {
             "colorbar": {
              "outlinewidth": 0,
              "ticks": ""
             }
            },
            "type": "scatterpolar"
           }
          ],
          "scatterpolargl": [
           {
            "marker": {
             "colorbar": {
              "outlinewidth": 0,
              "ticks": ""
             }
            },
            "type": "scatterpolargl"
           }
          ],
          "scatterternary": [
           {
            "marker": {
             "colorbar": {
              "outlinewidth": 0,
              "ticks": ""
             }
            },
            "type": "scatterternary"
           }
          ],
          "surface": [
           {
            "colorbar": {
             "outlinewidth": 0,
             "ticks": ""
            },
            "colorscale": [
             [
              0,
              "#0d0887"
             ],
             [
              0.1111111111111111,
              "#46039f"
             ],
             [
              0.2222222222222222,
              "#7201a8"
             ],
             [
              0.3333333333333333,
              "#9c179e"
             ],
             [
              0.4444444444444444,
              "#bd3786"
             ],
             [
              0.5555555555555556,
              "#d8576b"
             ],
             [
              0.6666666666666666,
              "#ed7953"
             ],
             [
              0.7777777777777778,
              "#fb9f3a"
             ],
             [
              0.8888888888888888,
              "#fdca26"
             ],
             [
              1,
              "#f0f921"
             ]
            ],
            "type": "surface"
           }
          ],
          "table": [
           {
            "cells": {
             "fill": {
              "color": "#EBF0F8"
             },
             "line": {
              "color": "white"
             }
            },
            "header": {
             "fill": {
              "color": "#C8D4E3"
             },
             "line": {
              "color": "white"
             }
            },
            "type": "table"
           }
          ]
         },
         "layout": {
          "annotationdefaults": {
           "arrowcolor": "#2a3f5f",
           "arrowhead": 0,
           "arrowwidth": 1
          },
          "autotypenumbers": "strict",
          "coloraxis": {
           "colorbar": {
            "outlinewidth": 0,
            "ticks": ""
           }
          },
          "colorscale": {
           "diverging": [
            [
             0,
             "#8e0152"
            ],
            [
             0.1,
             "#c51b7d"
            ],
            [
             0.2,
             "#de77ae"
            ],
            [
             0.3,
             "#f1b6da"
            ],
            [
             0.4,
             "#fde0ef"
            ],
            [
             0.5,
             "#f7f7f7"
            ],
            [
             0.6,
             "#e6f5d0"
            ],
            [
             0.7,
             "#b8e186"
            ],
            [
             0.8,
             "#7fbc41"
            ],
            [
             0.9,
             "#4d9221"
            ],
            [
             1,
             "#276419"
            ]
           ],
           "sequential": [
            [
             0,
             "#0d0887"
            ],
            [
             0.1111111111111111,
             "#46039f"
            ],
            [
             0.2222222222222222,
             "#7201a8"
            ],
            [
             0.3333333333333333,
             "#9c179e"
            ],
            [
             0.4444444444444444,
             "#bd3786"
            ],
            [
             0.5555555555555556,
             "#d8576b"
            ],
            [
             0.6666666666666666,
             "#ed7953"
            ],
            [
             0.7777777777777778,
             "#fb9f3a"
            ],
            [
             0.8888888888888888,
             "#fdca26"
            ],
            [
             1,
             "#f0f921"
            ]
           ],
           "sequentialminus": [
            [
             0,
             "#0d0887"
            ],
            [
             0.1111111111111111,
             "#46039f"
            ],
            [
             0.2222222222222222,
             "#7201a8"
            ],
            [
             0.3333333333333333,
             "#9c179e"
            ],
            [
             0.4444444444444444,
             "#bd3786"
            ],
            [
             0.5555555555555556,
             "#d8576b"
            ],
            [
             0.6666666666666666,
             "#ed7953"
            ],
            [
             0.7777777777777778,
             "#fb9f3a"
            ],
            [
             0.8888888888888888,
             "#fdca26"
            ],
            [
             1,
             "#f0f921"
            ]
           ]
          },
          "colorway": [
           "#636efa",
           "#EF553B",
           "#00cc96",
           "#ab63fa",
           "#FFA15A",
           "#19d3f3",
           "#FF6692",
           "#B6E880",
           "#FF97FF",
           "#FECB52"
          ],
          "font": {
           "color": "#2a3f5f"
          },
          "geo": {
           "bgcolor": "white",
           "lakecolor": "white",
           "landcolor": "#E5ECF6",
           "showlakes": true,
           "showland": true,
           "subunitcolor": "white"
          },
          "hoverlabel": {
           "align": "left"
          },
          "hovermode": "closest",
          "mapbox": {
           "style": "light"
          },
          "paper_bgcolor": "white",
          "plot_bgcolor": "#E5ECF6",
          "polar": {
           "angularaxis": {
            "gridcolor": "white",
            "linecolor": "white",
            "ticks": ""
           },
           "bgcolor": "#E5ECF6",
           "radialaxis": {
            "gridcolor": "white",
            "linecolor": "white",
            "ticks": ""
           }
          },
          "scene": {
           "xaxis": {
            "backgroundcolor": "#E5ECF6",
            "gridcolor": "white",
            "gridwidth": 2,
            "linecolor": "white",
            "showbackground": true,
            "ticks": "",
            "zerolinecolor": "white"
           },
           "yaxis": {
            "backgroundcolor": "#E5ECF6",
            "gridcolor": "white",
            "gridwidth": 2,
            "linecolor": "white",
            "showbackground": true,
            "ticks": "",
            "zerolinecolor": "white"
           },
           "zaxis": {
            "backgroundcolor": "#E5ECF6",
            "gridcolor": "white",
            "gridwidth": 2,
            "linecolor": "white",
            "showbackground": true,
            "ticks": "",
            "zerolinecolor": "white"
           }
          },
          "shapedefaults": {
           "line": {
            "color": "#2a3f5f"
           }
          },
          "ternary": {
           "aaxis": {
            "gridcolor": "white",
            "linecolor": "white",
            "ticks": ""
           },
           "baxis": {
            "gridcolor": "white",
            "linecolor": "white",
            "ticks": ""
           },
           "bgcolor": "#E5ECF6",
           "caxis": {
            "gridcolor": "white",
            "linecolor": "white",
            "ticks": ""
           }
          },
          "title": {
           "x": 0.05
          },
          "xaxis": {
           "automargin": true,
           "gridcolor": "white",
           "linecolor": "white",
           "ticks": "",
           "title": {
            "standoff": 15
           },
           "zerolinecolor": "white",
           "zerolinewidth": 2
          },
          "yaxis": {
           "automargin": true,
           "gridcolor": "white",
           "linecolor": "white",
           "ticks": "",
           "title": {
            "standoff": 15
           },
           "zerolinecolor": "white",
           "zerolinewidth": 2
          }
         }
        }
       }
      }
     },
     "metadata": {},
     "output_type": "display_data"
    },
    {
     "name": "stdout",
     "output_type": "stream",
     "text": [
      "models/2024-02-12 12-37-02 val_sens_at_spec 0.531 time frame 2.hd5\n",
      "0.531\n",
      "------------------------------------------------------------------------------------------------------------------------------------------------------\n",
      "(26134, 3, 65)\n",
      "(26134, 4)\n",
      "(8712, 3, 65)\n",
      "(8712, 4)\n"
     ]
    },
    {
     "data": {
      "application/vnd.plotly.v1+json": {
       "config": {
        "plotlyServerURL": "https://plot.ly"
       },
       "data": [
        {
         "mode": "lines",
         "name": "sens_at_spec",
         "type": "scatter",
         "y": [
          0.08873498439788818,
          0.10465294122695923,
          0.1710798144340515,
          0.12569832801818848,
          0.19694650173187256,
          0.2350577861070633,
          0.2475702166557312,
          0.2572893500328064,
          0.2449299693107605,
          0.26647278666496277,
          0.2803627550601959,
          0.28074538707733154,
          0.292301207780838,
          0.3040483593940735,
          0.31610164046287537,
          0.3286140561103821,
          0.33760619163513184,
          0.34545037150382996,
          0.3537154793739319,
          0.357082724571228,
          0.3614831268787384,
          0.3664574921131134,
          0.36997780203819275,
          0.3730006814002991,
          0.3761383593082428,
          0.3780515789985657,
          0.380883127450943,
          0.3813040554523468,
          0.3834085762500763,
          0.3863549530506134,
          0.3884212076663971,
          0.3904492259025574,
          0.39266854524612427,
          0.3937399685382843,
          0.39699241518974304,
          0.3983699381351471,
          0.4003979563713074,
          0.4036504030227661,
          0.40265554189682007,
          0.40491312742233276,
          0.4056401550769806,
          0.40751510858535767,
          0.4090456962585449,
          0.4103849530220032,
          0.41241294145584106,
          0.41467055678367615,
          0.4157802164554596,
          0.41696640849113464,
          0.4189178943634033,
          0.420295387506485,
          0.42270606756210327,
          0.42259126901626587,
          0.42438969016075134,
          0.4258819818496704,
          0.42680034041404724,
          0.4280247986316681,
          0.42894312739372253,
          0.4309711456298828,
          0.43242520093917847,
          0.43468278646469116,
          0.4350654184818268,
          0.43651947379112244,
          0.43873879313468933,
          0.4387005567550659,
          0.4407668113708496,
          0.4431391954421997,
          0.4434453248977661,
          0.4448993504047394,
          0.44688910245895386,
          0.44731003046035767,
          0.44880232214927673,
          0.44891712069511414,
          0.4507155418395996,
          0.4509068727493286,
          0.4523226320743561,
          0.4525904953479767,
          0.45366188883781433,
          0.4535088539123535,
          0.45603427290916443,
          0.4576031267642975,
          0.45951634645462036,
          0.46142956614494324,
          0.4608173370361328,
          0.46361061930656433,
          0.46452897787094116,
          0.46693962812423706,
          0.4675901234149933,
          0.46931201219558716,
          0.46935027837753296,
          0.47168439626693726,
          0.47355934977531433,
          0.4750899076461792,
          0.47597000002861023,
          0.47654396295547485,
          0.4796433746814728,
          0.4796433746814728,
          0.48182445764541626,
          0.484388142824173,
          0.48611006140708923,
          0.48599526286125183,
          0.4895155727863312,
          0.48848244547843933,
          0.4897069036960602,
          0.49158185720443726,
          0.4925384521484375,
          0.49395424127578735,
          0.49594399333000183,
          0.4979337155818939,
          0.4975128173828125,
          0.49896687269210815,
          0.5007652640342712,
          0.5010713934898376,
          0.5026402473449707,
          0.5046682357788086,
          0.503979504108429,
          0.504400372505188,
          0.5055100917816162,
          0.5078059434890747,
          0.5086860060691833,
          0.5116323828697205,
          0.5130863785743713,
          0.5119767189025879,
          0.5132394433021545,
          0.5148465633392334,
          0.5164154171943665,
          0.516300618648529,
          0.5195913314819336,
          0.5204713940620422,
          0.5220402479171753,
          0.5239917635917664,
          0.5249866247177124,
          0.5255988240242004,
          0.5278181433677673
         ]
        },
        {
         "mode": "lines",
         "name": "val_sens_at_spec",
         "type": "scatter",
         "y": [
          0.1442837417125702,
          0.14279155433177948,
          0.18388429284095764,
          0.20856289565563202,
          0.2677915394306183,
          0.2650367319583893,
          0.3150826394557953,
          0.31611570715904236,
          0.32151055335998535,
          0.33941689133644104,
          0.3623737394809723,
          0.37419649958610535,
          0.39944905042648315,
          0.43021121621131897,
          0.4691230356693268,
          0.4878328740596771,
          0.4878328740596771,
          0.48140496015548706,
          0.4735996425151825,
          0.45902204513549805,
          0.45477503538131714,
          0.44375574588775635,
          0.4403122067451477,
          0.44260790944099426,
          0.44536271691322327,
          0.4502984285354614,
          0.45316803455352783,
          0.45787420868873596,
          0.46039944887161255,
          0.46338382363319397,
          0.46763086318969727,
          0.4698117673397064,
          0.47405877709388733,
          0.47532138228416443,
          0.4806014597415924,
          0.48370063304901123,
          0.48829200863838196,
          0.4927685856819153,
          0.4941460192203522,
          0.49770432710647583,
          0.49770432710647583,
          0.4969008266925812,
          0.502525269985199,
          0.49954086542129517,
          0.5001147985458374,
          0.5042470097541809,
          0.5039026737213135,
          0.5037878751754761,
          0.5045913457870483,
          0.5039026737213135,
          0.5032139420509338,
          0.5001147985458374,
          0.502754807472229,
          0.5033287405967712,
          0.4997704327106476,
          0.5013774037361145,
          0.49908173084259033,
          0.4987373650074005,
          0.5011478662490845,
          0.5042470097541809,
          0.503558337688446,
          0.5005739331245422,
          0.5010330677032471,
          0.5002295970916748,
          0.5003443360328674,
          0.4998852014541626,
          0.497245192527771,
          0.5036730766296387,
          0.4974747598171234,
          0.5068870782852173,
          0.5040174722671509,
          0.5013774037361145,
          0.5048209428787231,
          0.5017217397689819,
          0.5,
          0.49931129813194275,
          0.5012626051902771,
          0.49667125940322876,
          0.49793389439582825,
          0.5042470097541809,
          0.49942606687545776,
          0.49770432710647583,
          0.5019513368606567,
          0.49896693229675293,
          0.5002295970916748,
          0.5006887316703796,
          0.5040174722671509,
          0.5026400089263916,
          0.502754807472229,
          0.5083792209625244,
          0.5016070008277893,
          0.5005739331245422,
          0.503558337688446,
          0.5037878751754761,
          0.5029844045639038,
          0.5048209428787231,
          0.502525269985199,
          0.502754807472229,
          0.505280077457428,
          0.5084940195083618,
          0.5042470097541809,
          0.5071166157722473,
          0.5104453563690186,
          0.5072314143180847,
          0.5044766068458557,
          0.5051652789115906,
          0.5059687495231628,
          0.5058540105819702,
          0.5074609518051147,
          0.5050504803657532,
          0.5032139420509338,
          0.5042470097541809,
          0.5003443360328674,
          0.5024104714393616,
          0.5024104714393616,
          0.49816346168518066,
          0.5008034706115723,
          0.5030992031097412,
          0.4985077977180481,
          0.4985077977180481,
          0.4987373650074005,
          0.5010330677032471,
          0.49793389439582825,
          0.4957529902458191,
          0.49793389439582825,
          0.49517905712127686,
          0.494605153799057,
          0.49644169211387634,
          0.4975895285606384,
          0.497359961271286,
          0.4929981529712677,
          0.4948347210884094,
          0.4954086244106293
         ]
        }
       ],
       "layout": {
        "template": {
         "data": {
          "bar": [
           {
            "error_x": {
             "color": "#2a3f5f"
            },
            "error_y": {
             "color": "#2a3f5f"
            },
            "marker": {
             "line": {
              "color": "#E5ECF6",
              "width": 0.5
             },
             "pattern": {
              "fillmode": "overlay",
              "size": 10,
              "solidity": 0.2
             }
            },
            "type": "bar"
           }
          ],
          "barpolar": [
           {
            "marker": {
             "line": {
              "color": "#E5ECF6",
              "width": 0.5
             },
             "pattern": {
              "fillmode": "overlay",
              "size": 10,
              "solidity": 0.2
             }
            },
            "type": "barpolar"
           }
          ],
          "carpet": [
           {
            "aaxis": {
             "endlinecolor": "#2a3f5f",
             "gridcolor": "white",
             "linecolor": "white",
             "minorgridcolor": "white",
             "startlinecolor": "#2a3f5f"
            },
            "baxis": {
             "endlinecolor": "#2a3f5f",
             "gridcolor": "white",
             "linecolor": "white",
             "minorgridcolor": "white",
             "startlinecolor": "#2a3f5f"
            },
            "type": "carpet"
           }
          ],
          "choropleth": [
           {
            "colorbar": {
             "outlinewidth": 0,
             "ticks": ""
            },
            "type": "choropleth"
           }
          ],
          "contour": [
           {
            "colorbar": {
             "outlinewidth": 0,
             "ticks": ""
            },
            "colorscale": [
             [
              0,
              "#0d0887"
             ],
             [
              0.1111111111111111,
              "#46039f"
             ],
             [
              0.2222222222222222,
              "#7201a8"
             ],
             [
              0.3333333333333333,
              "#9c179e"
             ],
             [
              0.4444444444444444,
              "#bd3786"
             ],
             [
              0.5555555555555556,
              "#d8576b"
             ],
             [
              0.6666666666666666,
              "#ed7953"
             ],
             [
              0.7777777777777778,
              "#fb9f3a"
             ],
             [
              0.8888888888888888,
              "#fdca26"
             ],
             [
              1,
              "#f0f921"
             ]
            ],
            "type": "contour"
           }
          ],
          "contourcarpet": [
           {
            "colorbar": {
             "outlinewidth": 0,
             "ticks": ""
            },
            "type": "contourcarpet"
           }
          ],
          "heatmap": [
           {
            "colorbar": {
             "outlinewidth": 0,
             "ticks": ""
            },
            "colorscale": [
             [
              0,
              "#0d0887"
             ],
             [
              0.1111111111111111,
              "#46039f"
             ],
             [
              0.2222222222222222,
              "#7201a8"
             ],
             [
              0.3333333333333333,
              "#9c179e"
             ],
             [
              0.4444444444444444,
              "#bd3786"
             ],
             [
              0.5555555555555556,
              "#d8576b"
             ],
             [
              0.6666666666666666,
              "#ed7953"
             ],
             [
              0.7777777777777778,
              "#fb9f3a"
             ],
             [
              0.8888888888888888,
              "#fdca26"
             ],
             [
              1,
              "#f0f921"
             ]
            ],
            "type": "heatmap"
           }
          ],
          "heatmapgl": [
           {
            "colorbar": {
             "outlinewidth": 0,
             "ticks": ""
            },
            "colorscale": [
             [
              0,
              "#0d0887"
             ],
             [
              0.1111111111111111,
              "#46039f"
             ],
             [
              0.2222222222222222,
              "#7201a8"
             ],
             [
              0.3333333333333333,
              "#9c179e"
             ],
             [
              0.4444444444444444,
              "#bd3786"
             ],
             [
              0.5555555555555556,
              "#d8576b"
             ],
             [
              0.6666666666666666,
              "#ed7953"
             ],
             [
              0.7777777777777778,
              "#fb9f3a"
             ],
             [
              0.8888888888888888,
              "#fdca26"
             ],
             [
              1,
              "#f0f921"
             ]
            ],
            "type": "heatmapgl"
           }
          ],
          "histogram": [
           {
            "marker": {
             "pattern": {
              "fillmode": "overlay",
              "size": 10,
              "solidity": 0.2
             }
            },
            "type": "histogram"
           }
          ],
          "histogram2d": [
           {
            "colorbar": {
             "outlinewidth": 0,
             "ticks": ""
            },
            "colorscale": [
             [
              0,
              "#0d0887"
             ],
             [
              0.1111111111111111,
              "#46039f"
             ],
             [
              0.2222222222222222,
              "#7201a8"
             ],
             [
              0.3333333333333333,
              "#9c179e"
             ],
             [
              0.4444444444444444,
              "#bd3786"
             ],
             [
              0.5555555555555556,
              "#d8576b"
             ],
             [
              0.6666666666666666,
              "#ed7953"
             ],
             [
              0.7777777777777778,
              "#fb9f3a"
             ],
             [
              0.8888888888888888,
              "#fdca26"
             ],
             [
              1,
              "#f0f921"
             ]
            ],
            "type": "histogram2d"
           }
          ],
          "histogram2dcontour": [
           {
            "colorbar": {
             "outlinewidth": 0,
             "ticks": ""
            },
            "colorscale": [
             [
              0,
              "#0d0887"
             ],
             [
              0.1111111111111111,
              "#46039f"
             ],
             [
              0.2222222222222222,
              "#7201a8"
             ],
             [
              0.3333333333333333,
              "#9c179e"
             ],
             [
              0.4444444444444444,
              "#bd3786"
             ],
             [
              0.5555555555555556,
              "#d8576b"
             ],
             [
              0.6666666666666666,
              "#ed7953"
             ],
             [
              0.7777777777777778,
              "#fb9f3a"
             ],
             [
              0.8888888888888888,
              "#fdca26"
             ],
             [
              1,
              "#f0f921"
             ]
            ],
            "type": "histogram2dcontour"
           }
          ],
          "mesh3d": [
           {
            "colorbar": {
             "outlinewidth": 0,
             "ticks": ""
            },
            "type": "mesh3d"
           }
          ],
          "parcoords": [
           {
            "line": {
             "colorbar": {
              "outlinewidth": 0,
              "ticks": ""
             }
            },
            "type": "parcoords"
           }
          ],
          "pie": [
           {
            "automargin": true,
            "type": "pie"
           }
          ],
          "scatter": [
           {
            "fillpattern": {
             "fillmode": "overlay",
             "size": 10,
             "solidity": 0.2
            },
            "type": "scatter"
           }
          ],
          "scatter3d": [
           {
            "line": {
             "colorbar": {
              "outlinewidth": 0,
              "ticks": ""
             }
            },
            "marker": {
             "colorbar": {
              "outlinewidth": 0,
              "ticks": ""
             }
            },
            "type": "scatter3d"
           }
          ],
          "scattercarpet": [
           {
            "marker": {
             "colorbar": {
              "outlinewidth": 0,
              "ticks": ""
             }
            },
            "type": "scattercarpet"
           }
          ],
          "scattergeo": [
           {
            "marker": {
             "colorbar": {
              "outlinewidth": 0,
              "ticks": ""
             }
            },
            "type": "scattergeo"
           }
          ],
          "scattergl": [
           {
            "marker": {
             "colorbar": {
              "outlinewidth": 0,
              "ticks": ""
             }
            },
            "type": "scattergl"
           }
          ],
          "scattermapbox": [
           {
            "marker": {
             "colorbar": {
              "outlinewidth": 0,
              "ticks": ""
             }
            },
            "type": "scattermapbox"
           }
          ],
          "scatterpolar": [
           {
            "marker": {
             "colorbar": {
              "outlinewidth": 0,
              "ticks": ""
             }
            },
            "type": "scatterpolar"
           }
          ],
          "scatterpolargl": [
           {
            "marker": {
             "colorbar": {
              "outlinewidth": 0,
              "ticks": ""
             }
            },
            "type": "scatterpolargl"
           }
          ],
          "scatterternary": [
           {
            "marker": {
             "colorbar": {
              "outlinewidth": 0,
              "ticks": ""
             }
            },
            "type": "scatterternary"
           }
          ],
          "surface": [
           {
            "colorbar": {
             "outlinewidth": 0,
             "ticks": ""
            },
            "colorscale": [
             [
              0,
              "#0d0887"
             ],
             [
              0.1111111111111111,
              "#46039f"
             ],
             [
              0.2222222222222222,
              "#7201a8"
             ],
             [
              0.3333333333333333,
              "#9c179e"
             ],
             [
              0.4444444444444444,
              "#bd3786"
             ],
             [
              0.5555555555555556,
              "#d8576b"
             ],
             [
              0.6666666666666666,
              "#ed7953"
             ],
             [
              0.7777777777777778,
              "#fb9f3a"
             ],
             [
              0.8888888888888888,
              "#fdca26"
             ],
             [
              1,
              "#f0f921"
             ]
            ],
            "type": "surface"
           }
          ],
          "table": [
           {
            "cells": {
             "fill": {
              "color": "#EBF0F8"
             },
             "line": {
              "color": "white"
             }
            },
            "header": {
             "fill": {
              "color": "#C8D4E3"
             },
             "line": {
              "color": "white"
             }
            },
            "type": "table"
           }
          ]
         },
         "layout": {
          "annotationdefaults": {
           "arrowcolor": "#2a3f5f",
           "arrowhead": 0,
           "arrowwidth": 1
          },
          "autotypenumbers": "strict",
          "coloraxis": {
           "colorbar": {
            "outlinewidth": 0,
            "ticks": ""
           }
          },
          "colorscale": {
           "diverging": [
            [
             0,
             "#8e0152"
            ],
            [
             0.1,
             "#c51b7d"
            ],
            [
             0.2,
             "#de77ae"
            ],
            [
             0.3,
             "#f1b6da"
            ],
            [
             0.4,
             "#fde0ef"
            ],
            [
             0.5,
             "#f7f7f7"
            ],
            [
             0.6,
             "#e6f5d0"
            ],
            [
             0.7,
             "#b8e186"
            ],
            [
             0.8,
             "#7fbc41"
            ],
            [
             0.9,
             "#4d9221"
            ],
            [
             1,
             "#276419"
            ]
           ],
           "sequential": [
            [
             0,
             "#0d0887"
            ],
            [
             0.1111111111111111,
             "#46039f"
            ],
            [
             0.2222222222222222,
             "#7201a8"
            ],
            [
             0.3333333333333333,
             "#9c179e"
            ],
            [
             0.4444444444444444,
             "#bd3786"
            ],
            [
             0.5555555555555556,
             "#d8576b"
            ],
            [
             0.6666666666666666,
             "#ed7953"
            ],
            [
             0.7777777777777778,
             "#fb9f3a"
            ],
            [
             0.8888888888888888,
             "#fdca26"
            ],
            [
             1,
             "#f0f921"
            ]
           ],
           "sequentialminus": [
            [
             0,
             "#0d0887"
            ],
            [
             0.1111111111111111,
             "#46039f"
            ],
            [
             0.2222222222222222,
             "#7201a8"
            ],
            [
             0.3333333333333333,
             "#9c179e"
            ],
            [
             0.4444444444444444,
             "#bd3786"
            ],
            [
             0.5555555555555556,
             "#d8576b"
            ],
            [
             0.6666666666666666,
             "#ed7953"
            ],
            [
             0.7777777777777778,
             "#fb9f3a"
            ],
            [
             0.8888888888888888,
             "#fdca26"
            ],
            [
             1,
             "#f0f921"
            ]
           ]
          },
          "colorway": [
           "#636efa",
           "#EF553B",
           "#00cc96",
           "#ab63fa",
           "#FFA15A",
           "#19d3f3",
           "#FF6692",
           "#B6E880",
           "#FF97FF",
           "#FECB52"
          ],
          "font": {
           "color": "#2a3f5f"
          },
          "geo": {
           "bgcolor": "white",
           "lakecolor": "white",
           "landcolor": "#E5ECF6",
           "showlakes": true,
           "showland": true,
           "subunitcolor": "white"
          },
          "hoverlabel": {
           "align": "left"
          },
          "hovermode": "closest",
          "mapbox": {
           "style": "light"
          },
          "paper_bgcolor": "white",
          "plot_bgcolor": "#E5ECF6",
          "polar": {
           "angularaxis": {
            "gridcolor": "white",
            "linecolor": "white",
            "ticks": ""
           },
           "bgcolor": "#E5ECF6",
           "radialaxis": {
            "gridcolor": "white",
            "linecolor": "white",
            "ticks": ""
           }
          },
          "scene": {
           "xaxis": {
            "backgroundcolor": "#E5ECF6",
            "gridcolor": "white",
            "gridwidth": 2,
            "linecolor": "white",
            "showbackground": true,
            "ticks": "",
            "zerolinecolor": "white"
           },
           "yaxis": {
            "backgroundcolor": "#E5ECF6",
            "gridcolor": "white",
            "gridwidth": 2,
            "linecolor": "white",
            "showbackground": true,
            "ticks": "",
            "zerolinecolor": "white"
           },
           "zaxis": {
            "backgroundcolor": "#E5ECF6",
            "gridcolor": "white",
            "gridwidth": 2,
            "linecolor": "white",
            "showbackground": true,
            "ticks": "",
            "zerolinecolor": "white"
           }
          },
          "shapedefaults": {
           "line": {
            "color": "#2a3f5f"
           }
          },
          "ternary": {
           "aaxis": {
            "gridcolor": "white",
            "linecolor": "white",
            "ticks": ""
           },
           "baxis": {
            "gridcolor": "white",
            "linecolor": "white",
            "ticks": ""
           },
           "bgcolor": "#E5ECF6",
           "caxis": {
            "gridcolor": "white",
            "linecolor": "white",
            "ticks": ""
           }
          },
          "title": {
           "x": 0.05
          },
          "xaxis": {
           "automargin": true,
           "gridcolor": "white",
           "linecolor": "white",
           "ticks": "",
           "title": {
            "standoff": 15
           },
           "zerolinecolor": "white",
           "zerolinewidth": 2
          },
          "yaxis": {
           "automargin": true,
           "gridcolor": "white",
           "linecolor": "white",
           "ticks": "",
           "title": {
            "standoff": 15
           },
           "zerolinecolor": "white",
           "zerolinewidth": 2
          }
         }
        }
       }
      }
     },
     "metadata": {},
     "output_type": "display_data"
    },
    {
     "name": "stdout",
     "output_type": "stream",
     "text": [
      "models/2024-02-12 12-56-23 val_sens_at_spec 0.51 time frame 3.hd5\n",
      "0.51\n",
      "------------------------------------------------------------------------------------------------------------------------------------------------------\n",
      "(26132, 6, 65)\n",
      "(26132, 4)\n",
      "(8711, 6, 65)\n",
      "(8711, 4)\n"
     ]
    },
    {
     "data": {
      "application/vnd.plotly.v1+json": {
       "config": {
        "plotlyServerURL": "https://plot.ly"
       },
       "data": [
        {
         "mode": "lines",
         "name": "sens_at_spec",
         "type": "scatter",
         "y": [
          0.11969998478889465,
          0.17794275283813477,
          0.21433492004871368,
          0.26695239543914795,
          0.29197919368743896,
          0.31161028146743774,
          0.33399662375450134,
          0.33564212918281555,
          0.34452012181282043,
          0.3543930947780609,
          0.35779887437820435,
          0.3637685477733612,
          0.3672126233577728,
          0.36939385533332825,
          0.3735267221927643,
          0.3762436807155609,
          0.38010868430137634,
          0.38202205300331116,
          0.383858859539032,
          0.3873029351234436,
          0.387800395488739,
          0.389024943113327,
          0.39174193143844604,
          0.39250728487968445,
          0.3949181139469147,
          0.3961426615715027,
          0.3975585401058197,
          0.4001607298851013,
          0.4001607298851013,
          0.40249502658843994,
          0.40517371892929077,
          0.4066661596298218,
          0.4081203043460846,
          0.409918874502182,
          0.41294199228286743,
          0.41305679082870483,
          0.41535282135009766
         ]
        },
        {
         "mode": "lines",
         "name": "val_sens_at_spec",
         "type": "scatter",
         "y": [
          0.21868900954723358,
          0.2525542378425598,
          0.30340948700904846,
          0.3451957404613495,
          0.39719894528388977,
          0.4438066780567169,
          0.48501893877983093,
          0.47721272706985474,
          0.44920215010643005,
          0.4265870749950409,
          0.42911261320114136,
          0.4351968765258789,
          0.44105154275894165,
          0.4470210075378418,
          0.4458730220794678,
          0.4501205384731293,
          0.45436805486679077,
          0.45792675018310547,
          0.45654919743537903,
          0.4547124207019806,
          0.4582711458206177,
          0.4593043327331543,
          0.4629778563976288,
          0.464011013507843,
          0.46573299169540405,
          0.46584779024124146,
          0.4677993357181549,
          0.4681437313556671,
          0.4676845371723175,
          0.4721616208553314,
          0.46975088119506836,
          0.46929168701171875,
          0.46906211972236633,
          0.4686029255390167,
          0.4668809473514557,
          0.4668809473514557,
          0.4676845371723175
         ]
        }
       ],
       "layout": {
        "template": {
         "data": {
          "bar": [
           {
            "error_x": {
             "color": "#2a3f5f"
            },
            "error_y": {
             "color": "#2a3f5f"
            },
            "marker": {
             "line": {
              "color": "#E5ECF6",
              "width": 0.5
             },
             "pattern": {
              "fillmode": "overlay",
              "size": 10,
              "solidity": 0.2
             }
            },
            "type": "bar"
           }
          ],
          "barpolar": [
           {
            "marker": {
             "line": {
              "color": "#E5ECF6",
              "width": 0.5
             },
             "pattern": {
              "fillmode": "overlay",
              "size": 10,
              "solidity": 0.2
             }
            },
            "type": "barpolar"
           }
          ],
          "carpet": [
           {
            "aaxis": {
             "endlinecolor": "#2a3f5f",
             "gridcolor": "white",
             "linecolor": "white",
             "minorgridcolor": "white",
             "startlinecolor": "#2a3f5f"
            },
            "baxis": {
             "endlinecolor": "#2a3f5f",
             "gridcolor": "white",
             "linecolor": "white",
             "minorgridcolor": "white",
             "startlinecolor": "#2a3f5f"
            },
            "type": "carpet"
           }
          ],
          "choropleth": [
           {
            "colorbar": {
             "outlinewidth": 0,
             "ticks": ""
            },
            "type": "choropleth"
           }
          ],
          "contour": [
           {
            "colorbar": {
             "outlinewidth": 0,
             "ticks": ""
            },
            "colorscale": [
             [
              0,
              "#0d0887"
             ],
             [
              0.1111111111111111,
              "#46039f"
             ],
             [
              0.2222222222222222,
              "#7201a8"
             ],
             [
              0.3333333333333333,
              "#9c179e"
             ],
             [
              0.4444444444444444,
              "#bd3786"
             ],
             [
              0.5555555555555556,
              "#d8576b"
             ],
             [
              0.6666666666666666,
              "#ed7953"
             ],
             [
              0.7777777777777778,
              "#fb9f3a"
             ],
             [
              0.8888888888888888,
              "#fdca26"
             ],
             [
              1,
              "#f0f921"
             ]
            ],
            "type": "contour"
           }
          ],
          "contourcarpet": [
           {
            "colorbar": {
             "outlinewidth": 0,
             "ticks": ""
            },
            "type": "contourcarpet"
           }
          ],
          "heatmap": [
           {
            "colorbar": {
             "outlinewidth": 0,
             "ticks": ""
            },
            "colorscale": [
             [
              0,
              "#0d0887"
             ],
             [
              0.1111111111111111,
              "#46039f"
             ],
             [
              0.2222222222222222,
              "#7201a8"
             ],
             [
              0.3333333333333333,
              "#9c179e"
             ],
             [
              0.4444444444444444,
              "#bd3786"
             ],
             [
              0.5555555555555556,
              "#d8576b"
             ],
             [
              0.6666666666666666,
              "#ed7953"
             ],
             [
              0.7777777777777778,
              "#fb9f3a"
             ],
             [
              0.8888888888888888,
              "#fdca26"
             ],
             [
              1,
              "#f0f921"
             ]
            ],
            "type": "heatmap"
           }
          ],
          "heatmapgl": [
           {
            "colorbar": {
             "outlinewidth": 0,
             "ticks": ""
            },
            "colorscale": [
             [
              0,
              "#0d0887"
             ],
             [
              0.1111111111111111,
              "#46039f"
             ],
             [
              0.2222222222222222,
              "#7201a8"
             ],
             [
              0.3333333333333333,
              "#9c179e"
             ],
             [
              0.4444444444444444,
              "#bd3786"
             ],
             [
              0.5555555555555556,
              "#d8576b"
             ],
             [
              0.6666666666666666,
              "#ed7953"
             ],
             [
              0.7777777777777778,
              "#fb9f3a"
             ],
             [
              0.8888888888888888,
              "#fdca26"
             ],
             [
              1,
              "#f0f921"
             ]
            ],
            "type": "heatmapgl"
           }
          ],
          "histogram": [
           {
            "marker": {
             "pattern": {
              "fillmode": "overlay",
              "size": 10,
              "solidity": 0.2
             }
            },
            "type": "histogram"
           }
          ],
          "histogram2d": [
           {
            "colorbar": {
             "outlinewidth": 0,
             "ticks": ""
            },
            "colorscale": [
             [
              0,
              "#0d0887"
             ],
             [
              0.1111111111111111,
              "#46039f"
             ],
             [
              0.2222222222222222,
              "#7201a8"
             ],
             [
              0.3333333333333333,
              "#9c179e"
             ],
             [
              0.4444444444444444,
              "#bd3786"
             ],
             [
              0.5555555555555556,
              "#d8576b"
             ],
             [
              0.6666666666666666,
              "#ed7953"
             ],
             [
              0.7777777777777778,
              "#fb9f3a"
             ],
             [
              0.8888888888888888,
              "#fdca26"
             ],
             [
              1,
              "#f0f921"
             ]
            ],
            "type": "histogram2d"
           }
          ],
          "histogram2dcontour": [
           {
            "colorbar": {
             "outlinewidth": 0,
             "ticks": ""
            },
            "colorscale": [
             [
              0,
              "#0d0887"
             ],
             [
              0.1111111111111111,
              "#46039f"
             ],
             [
              0.2222222222222222,
              "#7201a8"
             ],
             [
              0.3333333333333333,
              "#9c179e"
             ],
             [
              0.4444444444444444,
              "#bd3786"
             ],
             [
              0.5555555555555556,
              "#d8576b"
             ],
             [
              0.6666666666666666,
              "#ed7953"
             ],
             [
              0.7777777777777778,
              "#fb9f3a"
             ],
             [
              0.8888888888888888,
              "#fdca26"
             ],
             [
              1,
              "#f0f921"
             ]
            ],
            "type": "histogram2dcontour"
           }
          ],
          "mesh3d": [
           {
            "colorbar": {
             "outlinewidth": 0,
             "ticks": ""
            },
            "type": "mesh3d"
           }
          ],
          "parcoords": [
           {
            "line": {
             "colorbar": {
              "outlinewidth": 0,
              "ticks": ""
             }
            },
            "type": "parcoords"
           }
          ],
          "pie": [
           {
            "automargin": true,
            "type": "pie"
           }
          ],
          "scatter": [
           {
            "fillpattern": {
             "fillmode": "overlay",
             "size": 10,
             "solidity": 0.2
            },
            "type": "scatter"
           }
          ],
          "scatter3d": [
           {
            "line": {
             "colorbar": {
              "outlinewidth": 0,
              "ticks": ""
             }
            },
            "marker": {
             "colorbar": {
              "outlinewidth": 0,
              "ticks": ""
             }
            },
            "type": "scatter3d"
           }
          ],
          "scattercarpet": [
           {
            "marker": {
             "colorbar": {
              "outlinewidth": 0,
              "ticks": ""
             }
            },
            "type": "scattercarpet"
           }
          ],
          "scattergeo": [
           {
            "marker": {
             "colorbar": {
              "outlinewidth": 0,
              "ticks": ""
             }
            },
            "type": "scattergeo"
           }
          ],
          "scattergl": [
           {
            "marker": {
             "colorbar": {
              "outlinewidth": 0,
              "ticks": ""
             }
            },
            "type": "scattergl"
           }
          ],
          "scattermapbox": [
           {
            "marker": {
             "colorbar": {
              "outlinewidth": 0,
              "ticks": ""
             }
            },
            "type": "scattermapbox"
           }
          ],
          "scatterpolar": [
           {
            "marker": {
             "colorbar": {
              "outlinewidth": 0,
              "ticks": ""
             }
            },
            "type": "scatterpolar"
           }
          ],
          "scatterpolargl": [
           {
            "marker": {
             "colorbar": {
              "outlinewidth": 0,
              "ticks": ""
             }
            },
            "type": "scatterpolargl"
           }
          ],
          "scatterternary": [
           {
            "marker": {
             "colorbar": {
              "outlinewidth": 0,
              "ticks": ""
             }
            },
            "type": "scatterternary"
           }
          ],
          "surface": [
           {
            "colorbar": {
             "outlinewidth": 0,
             "ticks": ""
            },
            "colorscale": [
             [
              0,
              "#0d0887"
             ],
             [
              0.1111111111111111,
              "#46039f"
             ],
             [
              0.2222222222222222,
              "#7201a8"
             ],
             [
              0.3333333333333333,
              "#9c179e"
             ],
             [
              0.4444444444444444,
              "#bd3786"
             ],
             [
              0.5555555555555556,
              "#d8576b"
             ],
             [
              0.6666666666666666,
              "#ed7953"
             ],
             [
              0.7777777777777778,
              "#fb9f3a"
             ],
             [
              0.8888888888888888,
              "#fdca26"
             ],
             [
              1,
              "#f0f921"
             ]
            ],
            "type": "surface"
           }
          ],
          "table": [
           {
            "cells": {
             "fill": {
              "color": "#EBF0F8"
             },
             "line": {
              "color": "white"
             }
            },
            "header": {
             "fill": {
              "color": "#C8D4E3"
             },
             "line": {
              "color": "white"
             }
            },
            "type": "table"
           }
          ]
         },
         "layout": {
          "annotationdefaults": {
           "arrowcolor": "#2a3f5f",
           "arrowhead": 0,
           "arrowwidth": 1
          },
          "autotypenumbers": "strict",
          "coloraxis": {
           "colorbar": {
            "outlinewidth": 0,
            "ticks": ""
           }
          },
          "colorscale": {
           "diverging": [
            [
             0,
             "#8e0152"
            ],
            [
             0.1,
             "#c51b7d"
            ],
            [
             0.2,
             "#de77ae"
            ],
            [
             0.3,
             "#f1b6da"
            ],
            [
             0.4,
             "#fde0ef"
            ],
            [
             0.5,
             "#f7f7f7"
            ],
            [
             0.6,
             "#e6f5d0"
            ],
            [
             0.7,
             "#b8e186"
            ],
            [
             0.8,
             "#7fbc41"
            ],
            [
             0.9,
             "#4d9221"
            ],
            [
             1,
             "#276419"
            ]
           ],
           "sequential": [
            [
             0,
             "#0d0887"
            ],
            [
             0.1111111111111111,
             "#46039f"
            ],
            [
             0.2222222222222222,
             "#7201a8"
            ],
            [
             0.3333333333333333,
             "#9c179e"
            ],
            [
             0.4444444444444444,
             "#bd3786"
            ],
            [
             0.5555555555555556,
             "#d8576b"
            ],
            [
             0.6666666666666666,
             "#ed7953"
            ],
            [
             0.7777777777777778,
             "#fb9f3a"
            ],
            [
             0.8888888888888888,
             "#fdca26"
            ],
            [
             1,
             "#f0f921"
            ]
           ],
           "sequentialminus": [
            [
             0,
             "#0d0887"
            ],
            [
             0.1111111111111111,
             "#46039f"
            ],
            [
             0.2222222222222222,
             "#7201a8"
            ],
            [
             0.3333333333333333,
             "#9c179e"
            ],
            [
             0.4444444444444444,
             "#bd3786"
            ],
            [
             0.5555555555555556,
             "#d8576b"
            ],
            [
             0.6666666666666666,
             "#ed7953"
            ],
            [
             0.7777777777777778,
             "#fb9f3a"
            ],
            [
             0.8888888888888888,
             "#fdca26"
            ],
            [
             1,
             "#f0f921"
            ]
           ]
          },
          "colorway": [
           "#636efa",
           "#EF553B",
           "#00cc96",
           "#ab63fa",
           "#FFA15A",
           "#19d3f3",
           "#FF6692",
           "#B6E880",
           "#FF97FF",
           "#FECB52"
          ],
          "font": {
           "color": "#2a3f5f"
          },
          "geo": {
           "bgcolor": "white",
           "lakecolor": "white",
           "landcolor": "#E5ECF6",
           "showlakes": true,
           "showland": true,
           "subunitcolor": "white"
          },
          "hoverlabel": {
           "align": "left"
          },
          "hovermode": "closest",
          "mapbox": {
           "style": "light"
          },
          "paper_bgcolor": "white",
          "plot_bgcolor": "#E5ECF6",
          "polar": {
           "angularaxis": {
            "gridcolor": "white",
            "linecolor": "white",
            "ticks": ""
           },
           "bgcolor": "#E5ECF6",
           "radialaxis": {
            "gridcolor": "white",
            "linecolor": "white",
            "ticks": ""
           }
          },
          "scene": {
           "xaxis": {
            "backgroundcolor": "#E5ECF6",
            "gridcolor": "white",
            "gridwidth": 2,
            "linecolor": "white",
            "showbackground": true,
            "ticks": "",
            "zerolinecolor": "white"
           },
           "yaxis": {
            "backgroundcolor": "#E5ECF6",
            "gridcolor": "white",
            "gridwidth": 2,
            "linecolor": "white",
            "showbackground": true,
            "ticks": "",
            "zerolinecolor": "white"
           },
           "zaxis": {
            "backgroundcolor": "#E5ECF6",
            "gridcolor": "white",
            "gridwidth": 2,
            "linecolor": "white",
            "showbackground": true,
            "ticks": "",
            "zerolinecolor": "white"
           }
          },
          "shapedefaults": {
           "line": {
            "color": "#2a3f5f"
           }
          },
          "ternary": {
           "aaxis": {
            "gridcolor": "white",
            "linecolor": "white",
            "ticks": ""
           },
           "baxis": {
            "gridcolor": "white",
            "linecolor": "white",
            "ticks": ""
           },
           "bgcolor": "#E5ECF6",
           "caxis": {
            "gridcolor": "white",
            "linecolor": "white",
            "ticks": ""
           }
          },
          "title": {
           "x": 0.05
          },
          "xaxis": {
           "automargin": true,
           "gridcolor": "white",
           "linecolor": "white",
           "ticks": "",
           "title": {
            "standoff": 15
           },
           "zerolinecolor": "white",
           "zerolinewidth": 2
          },
          "yaxis": {
           "automargin": true,
           "gridcolor": "white",
           "linecolor": "white",
           "ticks": "",
           "title": {
            "standoff": 15
           },
           "zerolinecolor": "white",
           "zerolinewidth": 2
          }
         }
        }
       }
      }
     },
     "metadata": {},
     "output_type": "display_data"
    },
    {
     "name": "stdout",
     "output_type": "stream",
     "text": [
      "models/2024-02-12 13-05-17 val_sens_at_spec 0.485 time frame 6.hd5\n",
      "0.485\n",
      "------------------------------------------------------------------------------------------------------------------------------------------------------\n",
      "(26127, 12, 65)\n",
      "(26127, 4)\n",
      "(8710, 12, 65)\n",
      "(8710, 4)\n"
     ]
    },
    {
     "data": {
      "application/vnd.plotly.v1+json": {
       "config": {
        "plotlyServerURL": "https://plot.ly"
       },
       "data": [
        {
         "mode": "lines",
         "name": "sens_at_spec",
         "type": "scatter",
         "y": [
          0.24955026805400848,
          0.2978910803794861,
          0.3079955577850342,
          0.31859761476516724,
          0.32296091318130493,
          0.33375436067581177,
          0.34240439534187317,
          0.350135862827301,
          0.3577525019645691,
          0.36288130283355713,
          0.36544570326805115,
          0.37130171060562134,
          0.3749760687351227,
          0.3775404691696167,
          0.38220998644828796,
          0.3860757052898407,
          0.3874153196811676,
          0.3929268717765808,
          0.39518505334854126,
          0.3986297845840454,
          0.4028399884700775,
          0.4048685133457184,
          0.4086959958076477,
          0.4119876027107239,
          0.4160829782485962,
          0.4205993711948395,
          0.4249626696109772,
          0.43058905005455017,
          0.4371339976787567,
          0.4426838159561157,
          0.4499177038669586,
          0.4555057883262634,
          0.45933327078819275,
          0.46672025322914124
         ]
        },
        {
         "mode": "lines",
         "name": "val_sens_at_spec",
         "type": "scatter",
         "y": [
          0.24454650282859802,
          0.33524683117866516,
          0.41549941897392273,
          0.47611939907073975,
          0.4686567187309265,
          0.43203213810920715,
          0.4223880469799042,
          0.4075774848461151,
          0.3916188180446625,
          0.3810562491416931,
          0.37577497959136963,
          0.3673937916755676,
          0.3649827837944031,
          0.3646383583545685,
          0.36681973934173584,
          0.3654420077800751,
          0.36659011244773865,
          0.37037888169288635,
          0.3648679554462433,
          0.36980482935905457,
          0.3730195164680481,
          0.376693457365036,
          0.37577497959136963,
          0.38002297282218933,
          0.37967851758003235,
          0.3769230842590332,
          0.37967851758003235,
          0.38760045170783997,
          0.38840413093566895,
          0.38369691371917725,
          0.3909299671649933,
          0.3946039080619812,
          0.3873708248138428,
          0.3909299671649933
         ]
        }
       ],
       "layout": {
        "template": {
         "data": {
          "bar": [
           {
            "error_x": {
             "color": "#2a3f5f"
            },
            "error_y": {
             "color": "#2a3f5f"
            },
            "marker": {
             "line": {
              "color": "#E5ECF6",
              "width": 0.5
             },
             "pattern": {
              "fillmode": "overlay",
              "size": 10,
              "solidity": 0.2
             }
            },
            "type": "bar"
           }
          ],
          "barpolar": [
           {
            "marker": {
             "line": {
              "color": "#E5ECF6",
              "width": 0.5
             },
             "pattern": {
              "fillmode": "overlay",
              "size": 10,
              "solidity": 0.2
             }
            },
            "type": "barpolar"
           }
          ],
          "carpet": [
           {
            "aaxis": {
             "endlinecolor": "#2a3f5f",
             "gridcolor": "white",
             "linecolor": "white",
             "minorgridcolor": "white",
             "startlinecolor": "#2a3f5f"
            },
            "baxis": {
             "endlinecolor": "#2a3f5f",
             "gridcolor": "white",
             "linecolor": "white",
             "minorgridcolor": "white",
             "startlinecolor": "#2a3f5f"
            },
            "type": "carpet"
           }
          ],
          "choropleth": [
           {
            "colorbar": {
             "outlinewidth": 0,
             "ticks": ""
            },
            "type": "choropleth"
           }
          ],
          "contour": [
           {
            "colorbar": {
             "outlinewidth": 0,
             "ticks": ""
            },
            "colorscale": [
             [
              0,
              "#0d0887"
             ],
             [
              0.1111111111111111,
              "#46039f"
             ],
             [
              0.2222222222222222,
              "#7201a8"
             ],
             [
              0.3333333333333333,
              "#9c179e"
             ],
             [
              0.4444444444444444,
              "#bd3786"
             ],
             [
              0.5555555555555556,
              "#d8576b"
             ],
             [
              0.6666666666666666,
              "#ed7953"
             ],
             [
              0.7777777777777778,
              "#fb9f3a"
             ],
             [
              0.8888888888888888,
              "#fdca26"
             ],
             [
              1,
              "#f0f921"
             ]
            ],
            "type": "contour"
           }
          ],
          "contourcarpet": [
           {
            "colorbar": {
             "outlinewidth": 0,
             "ticks": ""
            },
            "type": "contourcarpet"
           }
          ],
          "heatmap": [
           {
            "colorbar": {
             "outlinewidth": 0,
             "ticks": ""
            },
            "colorscale": [
             [
              0,
              "#0d0887"
             ],
             [
              0.1111111111111111,
              "#46039f"
             ],
             [
              0.2222222222222222,
              "#7201a8"
             ],
             [
              0.3333333333333333,
              "#9c179e"
             ],
             [
              0.4444444444444444,
              "#bd3786"
             ],
             [
              0.5555555555555556,
              "#d8576b"
             ],
             [
              0.6666666666666666,
              "#ed7953"
             ],
             [
              0.7777777777777778,
              "#fb9f3a"
             ],
             [
              0.8888888888888888,
              "#fdca26"
             ],
             [
              1,
              "#f0f921"
             ]
            ],
            "type": "heatmap"
           }
          ],
          "heatmapgl": [
           {
            "colorbar": {
             "outlinewidth": 0,
             "ticks": ""
            },
            "colorscale": [
             [
              0,
              "#0d0887"
             ],
             [
              0.1111111111111111,
              "#46039f"
             ],
             [
              0.2222222222222222,
              "#7201a8"
             ],
             [
              0.3333333333333333,
              "#9c179e"
             ],
             [
              0.4444444444444444,
              "#bd3786"
             ],
             [
              0.5555555555555556,
              "#d8576b"
             ],
             [
              0.6666666666666666,
              "#ed7953"
             ],
             [
              0.7777777777777778,
              "#fb9f3a"
             ],
             [
              0.8888888888888888,
              "#fdca26"
             ],
             [
              1,
              "#f0f921"
             ]
            ],
            "type": "heatmapgl"
           }
          ],
          "histogram": [
           {
            "marker": {
             "pattern": {
              "fillmode": "overlay",
              "size": 10,
              "solidity": 0.2
             }
            },
            "type": "histogram"
           }
          ],
          "histogram2d": [
           {
            "colorbar": {
             "outlinewidth": 0,
             "ticks": ""
            },
            "colorscale": [
             [
              0,
              "#0d0887"
             ],
             [
              0.1111111111111111,
              "#46039f"
             ],
             [
              0.2222222222222222,
              "#7201a8"
             ],
             [
              0.3333333333333333,
              "#9c179e"
             ],
             [
              0.4444444444444444,
              "#bd3786"
             ],
             [
              0.5555555555555556,
              "#d8576b"
             ],
             [
              0.6666666666666666,
              "#ed7953"
             ],
             [
              0.7777777777777778,
              "#fb9f3a"
             ],
             [
              0.8888888888888888,
              "#fdca26"
             ],
             [
              1,
              "#f0f921"
             ]
            ],
            "type": "histogram2d"
           }
          ],
          "histogram2dcontour": [
           {
            "colorbar": {
             "outlinewidth": 0,
             "ticks": ""
            },
            "colorscale": [
             [
              0,
              "#0d0887"
             ],
             [
              0.1111111111111111,
              "#46039f"
             ],
             [
              0.2222222222222222,
              "#7201a8"
             ],
             [
              0.3333333333333333,
              "#9c179e"
             ],
             [
              0.4444444444444444,
              "#bd3786"
             ],
             [
              0.5555555555555556,
              "#d8576b"
             ],
             [
              0.6666666666666666,
              "#ed7953"
             ],
             [
              0.7777777777777778,
              "#fb9f3a"
             ],
             [
              0.8888888888888888,
              "#fdca26"
             ],
             [
              1,
              "#f0f921"
             ]
            ],
            "type": "histogram2dcontour"
           }
          ],
          "mesh3d": [
           {
            "colorbar": {
             "outlinewidth": 0,
             "ticks": ""
            },
            "type": "mesh3d"
           }
          ],
          "parcoords": [
           {
            "line": {
             "colorbar": {
              "outlinewidth": 0,
              "ticks": ""
             }
            },
            "type": "parcoords"
           }
          ],
          "pie": [
           {
            "automargin": true,
            "type": "pie"
           }
          ],
          "scatter": [
           {
            "fillpattern": {
             "fillmode": "overlay",
             "size": 10,
             "solidity": 0.2
            },
            "type": "scatter"
           }
          ],
          "scatter3d": [
           {
            "line": {
             "colorbar": {
              "outlinewidth": 0,
              "ticks": ""
             }
            },
            "marker": {
             "colorbar": {
              "outlinewidth": 0,
              "ticks": ""
             }
            },
            "type": "scatter3d"
           }
          ],
          "scattercarpet": [
           {
            "marker": {
             "colorbar": {
              "outlinewidth": 0,
              "ticks": ""
             }
            },
            "type": "scattercarpet"
           }
          ],
          "scattergeo": [
           {
            "marker": {
             "colorbar": {
              "outlinewidth": 0,
              "ticks": ""
             }
            },
            "type": "scattergeo"
           }
          ],
          "scattergl": [
           {
            "marker": {
             "colorbar": {
              "outlinewidth": 0,
              "ticks": ""
             }
            },
            "type": "scattergl"
           }
          ],
          "scattermapbox": [
           {
            "marker": {
             "colorbar": {
              "outlinewidth": 0,
              "ticks": ""
             }
            },
            "type": "scattermapbox"
           }
          ],
          "scatterpolar": [
           {
            "marker": {
             "colorbar": {
              "outlinewidth": 0,
              "ticks": ""
             }
            },
            "type": "scatterpolar"
           }
          ],
          "scatterpolargl": [
           {
            "marker": {
             "colorbar": {
              "outlinewidth": 0,
              "ticks": ""
             }
            },
            "type": "scatterpolargl"
           }
          ],
          "scatterternary": [
           {
            "marker": {
             "colorbar": {
              "outlinewidth": 0,
              "ticks": ""
             }
            },
            "type": "scatterternary"
           }
          ],
          "surface": [
           {
            "colorbar": {
             "outlinewidth": 0,
             "ticks": ""
            },
            "colorscale": [
             [
              0,
              "#0d0887"
             ],
             [
              0.1111111111111111,
              "#46039f"
             ],
             [
              0.2222222222222222,
              "#7201a8"
             ],
             [
              0.3333333333333333,
              "#9c179e"
             ],
             [
              0.4444444444444444,
              "#bd3786"
             ],
             [
              0.5555555555555556,
              "#d8576b"
             ],
             [
              0.6666666666666666,
              "#ed7953"
             ],
             [
              0.7777777777777778,
              "#fb9f3a"
             ],
             [
              0.8888888888888888,
              "#fdca26"
             ],
             [
              1,
              "#f0f921"
             ]
            ],
            "type": "surface"
           }
          ],
          "table": [
           {
            "cells": {
             "fill": {
              "color": "#EBF0F8"
             },
             "line": {
              "color": "white"
             }
            },
            "header": {
             "fill": {
              "color": "#C8D4E3"
             },
             "line": {
              "color": "white"
             }
            },
            "type": "table"
           }
          ]
         },
         "layout": {
          "annotationdefaults": {
           "arrowcolor": "#2a3f5f",
           "arrowhead": 0,
           "arrowwidth": 1
          },
          "autotypenumbers": "strict",
          "coloraxis": {
           "colorbar": {
            "outlinewidth": 0,
            "ticks": ""
           }
          },
          "colorscale": {
           "diverging": [
            [
             0,
             "#8e0152"
            ],
            [
             0.1,
             "#c51b7d"
            ],
            [
             0.2,
             "#de77ae"
            ],
            [
             0.3,
             "#f1b6da"
            ],
            [
             0.4,
             "#fde0ef"
            ],
            [
             0.5,
             "#f7f7f7"
            ],
            [
             0.6,
             "#e6f5d0"
            ],
            [
             0.7,
             "#b8e186"
            ],
            [
             0.8,
             "#7fbc41"
            ],
            [
             0.9,
             "#4d9221"
            ],
            [
             1,
             "#276419"
            ]
           ],
           "sequential": [
            [
             0,
             "#0d0887"
            ],
            [
             0.1111111111111111,
             "#46039f"
            ],
            [
             0.2222222222222222,
             "#7201a8"
            ],
            [
             0.3333333333333333,
             "#9c179e"
            ],
            [
             0.4444444444444444,
             "#bd3786"
            ],
            [
             0.5555555555555556,
             "#d8576b"
            ],
            [
             0.6666666666666666,
             "#ed7953"
            ],
            [
             0.7777777777777778,
             "#fb9f3a"
            ],
            [
             0.8888888888888888,
             "#fdca26"
            ],
            [
             1,
             "#f0f921"
            ]
           ],
           "sequentialminus": [
            [
             0,
             "#0d0887"
            ],
            [
             0.1111111111111111,
             "#46039f"
            ],
            [
             0.2222222222222222,
             "#7201a8"
            ],
            [
             0.3333333333333333,
             "#9c179e"
            ],
            [
             0.4444444444444444,
             "#bd3786"
            ],
            [
             0.5555555555555556,
             "#d8576b"
            ],
            [
             0.6666666666666666,
             "#ed7953"
            ],
            [
             0.7777777777777778,
             "#fb9f3a"
            ],
            [
             0.8888888888888888,
             "#fdca26"
            ],
            [
             1,
             "#f0f921"
            ]
           ]
          },
          "colorway": [
           "#636efa",
           "#EF553B",
           "#00cc96",
           "#ab63fa",
           "#FFA15A",
           "#19d3f3",
           "#FF6692",
           "#B6E880",
           "#FF97FF",
           "#FECB52"
          ],
          "font": {
           "color": "#2a3f5f"
          },
          "geo": {
           "bgcolor": "white",
           "lakecolor": "white",
           "landcolor": "#E5ECF6",
           "showlakes": true,
           "showland": true,
           "subunitcolor": "white"
          },
          "hoverlabel": {
           "align": "left"
          },
          "hovermode": "closest",
          "mapbox": {
           "style": "light"
          },
          "paper_bgcolor": "white",
          "plot_bgcolor": "#E5ECF6",
          "polar": {
           "angularaxis": {
            "gridcolor": "white",
            "linecolor": "white",
            "ticks": ""
           },
           "bgcolor": "#E5ECF6",
           "radialaxis": {
            "gridcolor": "white",
            "linecolor": "white",
            "ticks": ""
           }
          },
          "scene": {
           "xaxis": {
            "backgroundcolor": "#E5ECF6",
            "gridcolor": "white",
            "gridwidth": 2,
            "linecolor": "white",
            "showbackground": true,
            "ticks": "",
            "zerolinecolor": "white"
           },
           "yaxis": {
            "backgroundcolor": "#E5ECF6",
            "gridcolor": "white",
            "gridwidth": 2,
            "linecolor": "white",
            "showbackground": true,
            "ticks": "",
            "zerolinecolor": "white"
           },
           "zaxis": {
            "backgroundcolor": "#E5ECF6",
            "gridcolor": "white",
            "gridwidth": 2,
            "linecolor": "white",
            "showbackground": true,
            "ticks": "",
            "zerolinecolor": "white"
           }
          },
          "shapedefaults": {
           "line": {
            "color": "#2a3f5f"
           }
          },
          "ternary": {
           "aaxis": {
            "gridcolor": "white",
            "linecolor": "white",
            "ticks": ""
           },
           "baxis": {
            "gridcolor": "white",
            "linecolor": "white",
            "ticks": ""
           },
           "bgcolor": "#E5ECF6",
           "caxis": {
            "gridcolor": "white",
            "linecolor": "white",
            "ticks": ""
           }
          },
          "title": {
           "x": 0.05
          },
          "xaxis": {
           "automargin": true,
           "gridcolor": "white",
           "linecolor": "white",
           "ticks": "",
           "title": {
            "standoff": 15
           },
           "zerolinecolor": "white",
           "zerolinewidth": 2
          },
          "yaxis": {
           "automargin": true,
           "gridcolor": "white",
           "linecolor": "white",
           "ticks": "",
           "title": {
            "standoff": 15
           },
           "zerolinecolor": "white",
           "zerolinewidth": 2
          }
         }
        }
       }
      }
     },
     "metadata": {},
     "output_type": "display_data"
    },
    {
     "name": "stdout",
     "output_type": "stream",
     "text": [
      "models/2024-02-12 13-18-58 val_sens_at_spec 0.476 time frame 12.hd5\n",
      "0.476\n",
      "------------------------------------------------------------------------------------------------------------------------------------------------------\n"
     ]
    }
   ],
   "source": [
    "import importlib\n",
    "\n",
    "importlib.reload(model_design)\n",
    "\n",
    "max_val_PR = 0.6\n",
    "\n",
    "for time_step in TIME_FRAME_LIST:\n",
    "    df_tensor = dataframe_to_tensor(df_result, time_step)\n",
    "    x_train, y_train, x_test, y_test = get_train_test_sets(df_tensor, TRAIN_FRACTION)\n",
    "    \n",
    "    df_tensor.shape\n",
    "\n",
    "    print(x_train.shape)\n",
    "    print(y_train.shape)\n",
    "    print(x_test.shape)\n",
    "    print(y_test.shape)\n",
    "    model, history = model_design.model_design(EPOCHS,  x_train, y_train, x_test, y_test, class_weights_dict)\n",
    "\n",
    "    plot_model_history(history.history)\n",
    "\n",
    "    val_PR = round(max(history.history['val_sens_at_spec']),3)\n",
    "    \n",
    "    x = datetime.datetime.now()\n",
    "    \n",
    "    model_name = \"models/\" + x.strftime(\"%Y-%m-%d %H-%M-%S\") +\" val_sens_at_spec \" + str(val_PR) + \" time frame \" + str(time_step) + \".hd5\"\n",
    "\n",
    "    if val_PR > max_val_PR:\n",
    "        max_val_PR = val_PR\n",
    "        model.save(model_name,  save_format = 'h5')\n",
    "    \n",
    "    print(model_name)\n",
    "    print(val_PR)\n",
    "    print(150 * \"-\")\n"
   ]
  },
  {
   "cell_type": "code",
   "execution_count": null,
   "metadata": {},
   "outputs": [
    {
     "name": "stdout",
     "output_type": "stream",
     "text": [
      "Model: \"model_40\"\n",
      "_________________________________________________________________\n",
      " Layer (type)                Output Shape              Param #   \n",
      "=================================================================\n",
      " Input (InputLayer)          [(None, 12, 65)]          0         \n",
      "                                                                 \n",
      " normalization_40 (Normaliz  (None, 12, 65)            131       \n",
      " ation)                                                          \n",
      "                                                                 \n",
      " dropout_35 (Dropout)        (None, 12, 65)            0         \n",
      "                                                                 \n",
      " lstm_80 (LSTM)              (None, 12, 260)           339040    \n",
      "                                                                 \n",
      " lstm_81 (LSTM)              (None, 195)               355680    \n",
      "                                                                 \n",
      " output (Dense)              (None, 4)                 784       \n",
      "                                                                 \n",
      "=================================================================\n",
      "Total params: 695635 (2.65 MB)\n",
      "Trainable params: 695504 (2.65 MB)\n",
      "Non-trainable params: 131 (528.00 Byte)\n",
      "_________________________________________________________________\n"
     ]
    }
   ],
   "source": [
    "model.summary()"
   ]
  },
  {
   "cell_type": "markdown",
   "metadata": {},
   "source": []
  },
  {
   "cell_type": "code",
   "execution_count": null,
   "metadata": {},
   "outputs": [],
   "source": [
    "frequency = 2500  # Set Frequency To 2500 Hertz\n",
    "duration = 1000  # Set Duration To 1000 ms == 1 second\n",
    "winsound.Beep(frequency, duration)"
   ]
  },
  {
   "cell_type": "markdown",
   "metadata": {},
   "source": []
  }
 ],
 "metadata": {
  "kernelspec": {
   "display_name": "base",
   "language": "python",
   "name": "python3"
  },
  "language_info": {
   "codemirror_mode": {
    "name": "ipython",
    "version": 3
   },
   "file_extension": ".py",
   "mimetype": "text/x-python",
   "name": "python",
   "nbconvert_exporter": "python",
   "pygments_lexer": "ipython3",
   "version": "3.11.5"
  },
  "vscode": {
   "interpreter": {
    "hash": "ad2bdc8ecc057115af97d19610ffacc2b4e99fae6737bb82f5d7fb13d2f2c186"
   }
  }
 },
 "nbformat": 4,
 "nbformat_minor": 2
}
