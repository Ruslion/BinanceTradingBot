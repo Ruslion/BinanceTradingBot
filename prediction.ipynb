{
 "cells": [
  {
   "cell_type": "code",
   "execution_count": 37,
   "metadata": {},
   "outputs": [],
   "source": [
    "from tensorflow import keras\n",
    "import database_connect as db_connect\n",
    "import pandas as pd\n",
    "\n",
    "import numpy as np\n",
    "import plotting"
   ]
  },
  {
   "cell_type": "code",
   "execution_count": 38,
   "metadata": {},
   "outputs": [],
   "source": [
    "CONFIG = db_connect.load_config()"
   ]
  },
  {
   "cell_type": "code",
   "execution_count": 39,
   "metadata": {},
   "outputs": [],
   "source": [
    "def dataframe_to_tensor(df, timestep_length: int):\n",
    "    \n",
    "    '''\n",
    "    Converts a pandas dataframe to a tensor\n",
    "    \n",
    "    Input: Pandas dataframe\n",
    "            timestep_length (int) - the length of the timestep\n",
    "    Output: Tensor\n",
    "    \n",
    "    '''\n",
    "    \n",
    "    # Convert the dataframe to a numpy array\n",
    "    df = np.array(df)\n",
    "\n",
    "    n_seq = len(df) - timestep_length + 1\n",
    "    return np.array([df[i:(i+timestep_length)] for i in range(n_seq)])"
   ]
  },
  {
   "cell_type": "code",
   "execution_count": 40,
   "metadata": {},
   "outputs": [],
   "source": [
    "columns = ['id',\n",
    "    'hour_sin',\n",
    " 'hour_cos',\n",
    " 'day_sin',\n",
    " 'day_cos',\n",
    " 'mon_sin',\n",
    " 'mon_cos',\n",
    " 'weekday_sin',\n",
    " 'weekday_cos',\n",
    " 'year',\n",
    " 'RATIO_close_and_MA3',\n",
    " 'RATIO_close_and_MA6',\n",
    " 'RATIO_close_and_MA12',\n",
    " 'RATIO_close_and_MA24',\n",
    " 'RATIO_close_and_MA48',\n",
    " 'RATIO_close_and_MA96',\n",
    " 'RATIO_close_and_MA192',\n",
    " 'RATIO_close_and_MA384',\n",
    " 'RATIO_quote_asset_volume_and_MA3',\n",
    " 'RATIO_quote_asset_volume_and_MA6',\n",
    " 'RATIO_quote_asset_volume_and_MA12',\n",
    " 'RATIO_quote_asset_volume_and_MA24',\n",
    " 'RATIO_quote_asset_volume_and_MA48',\n",
    " 'RATIO_quote_asset_volume_and_MA96',\n",
    " 'RATIO_quote_asset_volume_and_MA192',\n",
    " 'RATIO_quote_asset_volume_and_MA384',\n",
    " 'RATIO_num_trades_and_MA3',\n",
    " 'RATIO_num_trades_and_MA6',\n",
    " 'RATIO_num_trades_and_MA12',\n",
    " 'RATIO_num_trades_and_MA24',\n",
    " 'RATIO_num_trades_and_MA48',\n",
    " 'RATIO_num_trades_and_MA96',\n",
    " 'RATIO_num_trades_and_MA192',\n",
    " 'RATIO_num_trades_and_MA384',\n",
    " 'RATIO_close_and_STD3',\n",
    " 'RATIO_close_and_STD6',\n",
    " 'RATIO_close_and_STD12',\n",
    " 'RATIO_close_and_STD24',\n",
    " 'RATIO_close_and_STD48',\n",
    " 'RATIO_close_and_STD96',\n",
    " 'RATIO_close_and_STD192',\n",
    " 'RATIO_close_and_STD384',\n",
    " 'RSI_3_close',\n",
    " 'RSI_6_close',\n",
    " 'RSI_12_close',\n",
    " 'RSI_24_close',\n",
    " 'RSI_48_close',\n",
    " 'RSI_96_close',\n",
    " 'RSI_192_close',\n",
    " 'RSI_384_close',\n",
    " 'RSI_3_quote_asset_volume',\n",
    " 'RSI_6_quote_asset_volume',\n",
    "    'RSI_12_quote_asset_volume', 'RSI_24_quote_asset_volume',\n",
    "    'RSI_48_quote_asset_volume', 'RSI_96_quote_asset_volume',\n",
    "    'RSI_192_quote_asset_volume', 'RSI_384_quote_asset_volume',\n",
    "    'RSI_3_num_trades', 'RSI_6_num_trades', 'RSI_12_num_trades',\n",
    "    'RSI_24_num_trades', 'RSI_48_num_trades', 'RSI_96_num_trades',\n",
    "    'RSI_192_num_trades', 'RSI_384_num_trades' ,\n",
    " 'predicted']"
   ]
  },
  {
   "cell_type": "code",
   "execution_count": 73,
   "metadata": {},
   "outputs": [],
   "source": [
    "model = keras.models.load_model('models/2024-02-12 00-52-43 val_PR 0.682 Dense.hd5', compile=False)"
   ]
  },
  {
   "cell_type": "code",
   "execution_count": 74,
   "metadata": {},
   "outputs": [],
   "source": [
    "TIME_STEP = 12"
   ]
  },
  {
   "cell_type": "code",
   "execution_count": 75,
   "metadata": {},
   "outputs": [
    {
     "name": "stdout",
     "output_type": "stream",
     "text": [
      "Model: \"model_34\"\n",
      "_________________________________________________________________\n",
      " Layer (type)                Output Shape              Param #   \n",
      "=================================================================\n",
      " Input (InputLayer)          [(None, 65)]              0         \n",
      "                                                                 \n",
      " normalization_34 (Normaliz  (None, 65)                131       \n",
      " ation)                                                          \n",
      "                                                                 \n",
      " dense_93 (Dense)            (None, 325)               21450     \n",
      "                                                                 \n",
      " dense_94 (Dense)            (None, 260)               84760     \n",
      "                                                                 \n",
      " dense_95 (Dense)            (None, 195)               50895     \n",
      "                                                                 \n",
      " output (Dense)              (None, 4)                 784       \n",
      "                                                                 \n",
      "=================================================================\n",
      "Total params: 158020 (617.27 KB)\n",
      "Trainable params: 157889 (616.75 KB)\n",
      "Non-trainable params: 131 (528.00 Byte)\n",
      "_________________________________________________________________\n"
     ]
    }
   ],
   "source": [
    "model.summary()"
   ]
  },
  {
   "cell_type": "code",
   "execution_count": 76,
   "metadata": {},
   "outputs": [
    {
     "name": "stdout",
     "output_type": "stream",
     "text": [
      "Connected to the PostgreSQL server.\n"
     ]
    }
   ],
   "source": [
    "conn = db_connect.connect(CONFIG)"
   ]
  },
  {
   "cell_type": "code",
   "execution_count": 77,
   "metadata": {},
   "outputs": [],
   "source": [
    "# sql = 'select min(timestamp) from trading_bot_historydataeth \\\n",
    "#         where predicted is null and hour_sin is not null \\\n",
    "#         limit 1'\n",
    "\n",
    "sql = 'select min(timestamp) from trading_bot_historydataeth \\\n",
    "        where hour_sin is not null \\\n",
    "        limit 1'\n"
   ]
  },
  {
   "cell_type": "code",
   "execution_count": 78,
   "metadata": {},
   "outputs": [],
   "source": [
    "with conn.cursor() as cursor:\n",
    "    cursor.execute(sql)\n",
    "    result = cursor.fetchone()"
   ]
  },
  {
   "cell_type": "code",
   "execution_count": 79,
   "metadata": {},
   "outputs": [],
   "source": [
    "result = result[0]"
   ]
  },
  {
   "cell_type": "code",
   "execution_count": 80,
   "metadata": {},
   "outputs": [
    {
     "data": {
      "text/plain": [
       "'2024-01-09 06:00:00'"
      ]
     },
     "execution_count": 80,
     "metadata": {},
     "output_type": "execute_result"
    }
   ],
   "source": [
    "result_str = result.strftime('%Y-%m-%d %H:%M:%S')\n",
    "result_str"
   ]
  },
  {
   "cell_type": "code",
   "execution_count": 81,
   "metadata": {},
   "outputs": [],
   "source": [
    "sql = 'SELECT \"'\n",
    "sql += '\", \"'.join(columns)\n",
    "sql += '\"'"
   ]
  },
  {
   "cell_type": "code",
   "execution_count": 82,
   "metadata": {},
   "outputs": [
    {
     "data": {
      "text/plain": [
       "'SELECT \"id\", \"hour_sin\", \"hour_cos\", \"day_sin\", \"day_cos\", \"mon_sin\", \"mon_cos\", \"weekday_sin\", \"weekday_cos\", \"year\", \"RATIO_close_and_MA3\", \"RATIO_close_and_MA6\", \"RATIO_close_and_MA12\", \"RATIO_close_and_MA24\", \"RATIO_close_and_MA48\", \"RATIO_close_and_MA96\", \"RATIO_close_and_MA192\", \"RATIO_close_and_MA384\", \"RATIO_quote_asset_volume_and_MA3\", \"RATIO_quote_asset_volume_and_MA6\", \"RATIO_quote_asset_volume_and_MA12\", \"RATIO_quote_asset_volume_and_MA24\", \"RATIO_quote_asset_volume_and_MA48\", \"RATIO_quote_asset_volume_and_MA96\", \"RATIO_quote_asset_volume_and_MA192\", \"RATIO_quote_asset_volume_and_MA384\", \"RATIO_num_trades_and_MA3\", \"RATIO_num_trades_and_MA6\", \"RATIO_num_trades_and_MA12\", \"RATIO_num_trades_and_MA24\", \"RATIO_num_trades_and_MA48\", \"RATIO_num_trades_and_MA96\", \"RATIO_num_trades_and_MA192\", \"RATIO_num_trades_and_MA384\", \"RATIO_close_and_STD3\", \"RATIO_close_and_STD6\", \"RATIO_close_and_STD12\", \"RATIO_close_and_STD24\", \"RATIO_close_and_STD48\", \"RATIO_close_and_STD96\", \"RATIO_close_and_STD192\", \"RATIO_close_and_STD384\", \"RSI_3_close\", \"RSI_6_close\", \"RSI_12_close\", \"RSI_24_close\", \"RSI_48_close\", \"RSI_96_close\", \"RSI_192_close\", \"RSI_384_close\", \"RSI_3_quote_asset_volume\", \"RSI_6_quote_asset_volume\", \"RSI_12_quote_asset_volume\", \"RSI_24_quote_asset_volume\", \"RSI_48_quote_asset_volume\", \"RSI_96_quote_asset_volume\", \"RSI_192_quote_asset_volume\", \"RSI_384_quote_asset_volume\", \"RSI_3_num_trades\", \"RSI_6_num_trades\", \"RSI_12_num_trades\", \"RSI_24_num_trades\", \"RSI_48_num_trades\", \"RSI_96_num_trades\", \"RSI_192_num_trades\", \"RSI_384_num_trades\", \"predicted\"'"
      ]
     },
     "execution_count": 82,
     "metadata": {},
     "output_type": "execute_result"
    }
   ],
   "source": [
    "sql"
   ]
  },
  {
   "cell_type": "code",
   "execution_count": 83,
   "metadata": {},
   "outputs": [],
   "source": [
    "sql = sql + f\" FROM trading_bot_historydataeth \\\n",
    "        WHERE timestamp >= '{result_str}' \\\n",
    "        ORDER BY timestamp;\""
   ]
  },
  {
   "cell_type": "code",
   "execution_count": 84,
   "metadata": {},
   "outputs": [],
   "source": [
    "with conn.cursor() as cursor:\n",
    "    cursor.execute(sql)\n",
    "    result = cursor.fetchall()\n",
    "conn.close()"
   ]
  },
  {
   "cell_type": "code",
   "execution_count": 85,
   "metadata": {},
   "outputs": [],
   "source": [
    "df_ready_for_pred = pd.DataFrame(result, columns=columns)"
   ]
  },
  {
   "cell_type": "code",
   "execution_count": 86,
   "metadata": {},
   "outputs": [
    {
     "data": {
      "text/html": [
       "<div>\n",
       "<style scoped>\n",
       "    .dataframe tbody tr th:only-of-type {\n",
       "        vertical-align: middle;\n",
       "    }\n",
       "\n",
       "    .dataframe tbody tr th {\n",
       "        vertical-align: top;\n",
       "    }\n",
       "\n",
       "    .dataframe thead th {\n",
       "        text-align: right;\n",
       "    }\n",
       "</style>\n",
       "<table border=\"1\" class=\"dataframe\">\n",
       "  <thead>\n",
       "    <tr style=\"text-align: right;\">\n",
       "      <th></th>\n",
       "      <th>id</th>\n",
       "      <th>hour_sin</th>\n",
       "      <th>hour_cos</th>\n",
       "      <th>day_sin</th>\n",
       "      <th>day_cos</th>\n",
       "      <th>mon_sin</th>\n",
       "      <th>mon_cos</th>\n",
       "      <th>weekday_sin</th>\n",
       "      <th>weekday_cos</th>\n",
       "      <th>year</th>\n",
       "      <th>...</th>\n",
       "      <th>RSI_384_quote_asset_volume</th>\n",
       "      <th>RSI_3_num_trades</th>\n",
       "      <th>RSI_6_num_trades</th>\n",
       "      <th>RSI_12_num_trades</th>\n",
       "      <th>RSI_24_num_trades</th>\n",
       "      <th>RSI_48_num_trades</th>\n",
       "      <th>RSI_96_num_trades</th>\n",
       "      <th>RSI_192_num_trades</th>\n",
       "      <th>RSI_384_num_trades</th>\n",
       "      <th>predicted</th>\n",
       "    </tr>\n",
       "  </thead>\n",
       "  <tbody>\n",
       "    <tr>\n",
       "      <th>0</th>\n",
       "      <td>38190</td>\n",
       "      <td>1.000000</td>\n",
       "      <td>6.123234e-17</td>\n",
       "      <td>0.951057</td>\n",
       "      <td>-0.309017</td>\n",
       "      <td>0.5</td>\n",
       "      <td>0.866025</td>\n",
       "      <td>0.781831</td>\n",
       "      <td>0.62349</td>\n",
       "      <td>2024</td>\n",
       "      <td>...</td>\n",
       "      <td>49.859221</td>\n",
       "      <td>71.389892</td>\n",
       "      <td>3.699243</td>\n",
       "      <td>27.179893</td>\n",
       "      <td>46.358171</td>\n",
       "      <td>50.568465</td>\n",
       "      <td>49.547127</td>\n",
       "      <td>50.109445</td>\n",
       "      <td>49.851729</td>\n",
       "      <td>W</td>\n",
       "    </tr>\n",
       "    <tr>\n",
       "      <th>1</th>\n",
       "      <td>38191</td>\n",
       "      <td>0.965926</td>\n",
       "      <td>-2.588190e-01</td>\n",
       "      <td>0.951057</td>\n",
       "      <td>-0.309017</td>\n",
       "      <td>0.5</td>\n",
       "      <td>0.866025</td>\n",
       "      <td>0.781831</td>\n",
       "      <td>0.62349</td>\n",
       "      <td>2024</td>\n",
       "      <td>...</td>\n",
       "      <td>49.954691</td>\n",
       "      <td>3.279849</td>\n",
       "      <td>7.395918</td>\n",
       "      <td>30.689324</td>\n",
       "      <td>45.776484</td>\n",
       "      <td>49.810307</td>\n",
       "      <td>49.289525</td>\n",
       "      <td>49.963152</td>\n",
       "      <td>49.915666</td>\n",
       "      <td>W</td>\n",
       "    </tr>\n",
       "    <tr>\n",
       "      <th>2</th>\n",
       "      <td>38879</td>\n",
       "      <td>0.866025</td>\n",
       "      <td>-5.000000e-01</td>\n",
       "      <td>0.951057</td>\n",
       "      <td>-0.309017</td>\n",
       "      <td>0.5</td>\n",
       "      <td>0.866025</td>\n",
       "      <td>0.781831</td>\n",
       "      <td>0.62349</td>\n",
       "      <td>2024</td>\n",
       "      <td>...</td>\n",
       "      <td>50.052924</td>\n",
       "      <td>67.893374</td>\n",
       "      <td>68.134645</td>\n",
       "      <td>46.048634</td>\n",
       "      <td>49.646220</td>\n",
       "      <td>50.552824</td>\n",
       "      <td>50.354181</td>\n",
       "      <td>50.269552</td>\n",
       "      <td>50.092061</td>\n",
       "      <td>W</td>\n",
       "    </tr>\n",
       "    <tr>\n",
       "      <th>3</th>\n",
       "      <td>38880</td>\n",
       "      <td>0.707107</td>\n",
       "      <td>-7.071068e-01</td>\n",
       "      <td>0.951057</td>\n",
       "      <td>-0.309017</td>\n",
       "      <td>0.5</td>\n",
       "      <td>0.866025</td>\n",
       "      <td>0.781831</td>\n",
       "      <td>0.62349</td>\n",
       "      <td>2024</td>\n",
       "      <td>...</td>\n",
       "      <td>50.101788</td>\n",
       "      <td>73.389622</td>\n",
       "      <td>73.244999</td>\n",
       "      <td>52.088494</td>\n",
       "      <td>50.497962</td>\n",
       "      <td>51.041344</td>\n",
       "      <td>49.882164</td>\n",
       "      <td>50.246861</td>\n",
       "      <td>50.124498</td>\n",
       "      <td>W</td>\n",
       "    </tr>\n",
       "    <tr>\n",
       "      <th>4</th>\n",
       "      <td>38881</td>\n",
       "      <td>0.500000</td>\n",
       "      <td>-8.660254e-01</td>\n",
       "      <td>0.951057</td>\n",
       "      <td>-0.309017</td>\n",
       "      <td>0.5</td>\n",
       "      <td>0.866025</td>\n",
       "      <td>0.781831</td>\n",
       "      <td>0.62349</td>\n",
       "      <td>2024</td>\n",
       "      <td>...</td>\n",
       "      <td>49.864236</td>\n",
       "      <td>65.633652</td>\n",
       "      <td>52.506210</td>\n",
       "      <td>51.607839</td>\n",
       "      <td>49.419907</td>\n",
       "      <td>50.660680</td>\n",
       "      <td>49.553705</td>\n",
       "      <td>50.089724</td>\n",
       "      <td>49.785607</td>\n",
       "      <td>W</td>\n",
       "    </tr>\n",
       "  </tbody>\n",
       "</table>\n",
       "<p>5 rows × 67 columns</p>\n",
       "</div>"
      ],
      "text/plain": [
       "      id  hour_sin      hour_cos   day_sin   day_cos  mon_sin   mon_cos  \\\n",
       "0  38190  1.000000  6.123234e-17  0.951057 -0.309017      0.5  0.866025   \n",
       "1  38191  0.965926 -2.588190e-01  0.951057 -0.309017      0.5  0.866025   \n",
       "2  38879  0.866025 -5.000000e-01  0.951057 -0.309017      0.5  0.866025   \n",
       "3  38880  0.707107 -7.071068e-01  0.951057 -0.309017      0.5  0.866025   \n",
       "4  38881  0.500000 -8.660254e-01  0.951057 -0.309017      0.5  0.866025   \n",
       "\n",
       "   weekday_sin  weekday_cos  year  ...  RSI_384_quote_asset_volume  \\\n",
       "0     0.781831      0.62349  2024  ...                   49.859221   \n",
       "1     0.781831      0.62349  2024  ...                   49.954691   \n",
       "2     0.781831      0.62349  2024  ...                   50.052924   \n",
       "3     0.781831      0.62349  2024  ...                   50.101788   \n",
       "4     0.781831      0.62349  2024  ...                   49.864236   \n",
       "\n",
       "   RSI_3_num_trades  RSI_6_num_trades  RSI_12_num_trades  RSI_24_num_trades  \\\n",
       "0         71.389892          3.699243          27.179893          46.358171   \n",
       "1          3.279849          7.395918          30.689324          45.776484   \n",
       "2         67.893374         68.134645          46.048634          49.646220   \n",
       "3         73.389622         73.244999          52.088494          50.497962   \n",
       "4         65.633652         52.506210          51.607839          49.419907   \n",
       "\n",
       "   RSI_48_num_trades  RSI_96_num_trades  RSI_192_num_trades  \\\n",
       "0          50.568465          49.547127           50.109445   \n",
       "1          49.810307          49.289525           49.963152   \n",
       "2          50.552824          50.354181           50.269552   \n",
       "3          51.041344          49.882164           50.246861   \n",
       "4          50.660680          49.553705           50.089724   \n",
       "\n",
       "   RSI_384_num_trades  predicted  \n",
       "0           49.851729          W  \n",
       "1           49.915666          W  \n",
       "2           50.092061          W  \n",
       "3           50.124498          W  \n",
       "4           49.785607          W  \n",
       "\n",
       "[5 rows x 67 columns]"
      ]
     },
     "execution_count": 86,
     "metadata": {},
     "output_type": "execute_result"
    }
   ],
   "source": [
    "df_ready_for_pred.head()"
   ]
  },
  {
   "cell_type": "code",
   "execution_count": 87,
   "metadata": {},
   "outputs": [
    {
     "data": {
      "text/plain": [
       "(757, 67)"
      ]
     },
     "execution_count": 87,
     "metadata": {},
     "output_type": "execute_result"
    }
   ],
   "source": [
    "df_ready_for_pred.shape"
   ]
  },
  {
   "cell_type": "code",
   "execution_count": 88,
   "metadata": {},
   "outputs": [
    {
     "data": {
      "text/html": [
       "<div>\n",
       "<style scoped>\n",
       "    .dataframe tbody tr th:only-of-type {\n",
       "        vertical-align: middle;\n",
       "    }\n",
       "\n",
       "    .dataframe tbody tr th {\n",
       "        vertical-align: top;\n",
       "    }\n",
       "\n",
       "    .dataframe thead th {\n",
       "        text-align: right;\n",
       "    }\n",
       "</style>\n",
       "<table border=\"1\" class=\"dataframe\">\n",
       "  <thead>\n",
       "    <tr style=\"text-align: right;\">\n",
       "      <th></th>\n",
       "      <th>id</th>\n",
       "    </tr>\n",
       "    <tr>\n",
       "      <th>predicted</th>\n",
       "      <th></th>\n",
       "    </tr>\n",
       "  </thead>\n",
       "  <tbody>\n",
       "    <tr>\n",
       "      <th>B</th>\n",
       "      <td>6</td>\n",
       "    </tr>\n",
       "    <tr>\n",
       "      <th>H</th>\n",
       "      <td>163</td>\n",
       "    </tr>\n",
       "    <tr>\n",
       "      <th>S</th>\n",
       "      <td>32</td>\n",
       "    </tr>\n",
       "    <tr>\n",
       "      <th>W</th>\n",
       "      <td>556</td>\n",
       "    </tr>\n",
       "  </tbody>\n",
       "</table>\n",
       "</div>"
      ],
      "text/plain": [
       "            id\n",
       "predicted     \n",
       "B            6\n",
       "H          163\n",
       "S           32\n",
       "W          556"
      ]
     },
     "execution_count": 88,
     "metadata": {},
     "output_type": "execute_result"
    }
   ],
   "source": [
    "df_ready_for_pred[['predicted', 'id']].groupby('predicted').count()"
   ]
  },
  {
   "cell_type": "code",
   "execution_count": 89,
   "metadata": {},
   "outputs": [],
   "source": [
    "tensor = dataframe_to_tensor(df_ready_for_pred.drop (columns= ['id', 'predicted']), TIME_STEP)"
   ]
  },
  {
   "cell_type": "code",
   "execution_count": 90,
   "metadata": {},
   "outputs": [
    {
     "data": {
      "text/plain": [
       "(746, 12, 65)"
      ]
     },
     "execution_count": 90,
     "metadata": {},
     "output_type": "execute_result"
    }
   ],
   "source": [
    "tensor.shape"
   ]
  },
  {
   "cell_type": "code",
   "execution_count": 91,
   "metadata": {},
   "outputs": [
    {
     "name": "stdout",
     "output_type": "stream",
     "text": [
      "24/24 [==============================] - 0s 3ms/step\n"
     ]
    }
   ],
   "source": [
    "predictions = model.predict(df_ready_for_pred.drop (columns= ['id', 'predicted']))"
   ]
  },
  {
   "cell_type": "code",
   "execution_count": 92,
   "metadata": {},
   "outputs": [
    {
     "data": {
      "text/plain": [
       "(757, 4)"
      ]
     },
     "execution_count": 92,
     "metadata": {},
     "output_type": "execute_result"
    }
   ],
   "source": [
    "predictions.shape"
   ]
  },
  {
   "cell_type": "code",
   "execution_count": 93,
   "metadata": {},
   "outputs": [],
   "source": [
    "predictions_df = pd.DataFrame(predictions, columns=['B', 'H', 'S', 'W'])"
   ]
  },
  {
   "cell_type": "code",
   "execution_count": 94,
   "metadata": {},
   "outputs": [],
   "source": [
    "predictions_df['Final'] = predictions_df.idxmax(axis=1)"
   ]
  },
  {
   "cell_type": "code",
   "execution_count": 95,
   "metadata": {},
   "outputs": [
    {
     "data": {
      "text/html": [
       "<div>\n",
       "<style scoped>\n",
       "    .dataframe tbody tr th:only-of-type {\n",
       "        vertical-align: middle;\n",
       "    }\n",
       "\n",
       "    .dataframe tbody tr th {\n",
       "        vertical-align: top;\n",
       "    }\n",
       "\n",
       "    .dataframe thead th {\n",
       "        text-align: right;\n",
       "    }\n",
       "</style>\n",
       "<table border=\"1\" class=\"dataframe\">\n",
       "  <thead>\n",
       "    <tr style=\"text-align: right;\">\n",
       "      <th></th>\n",
       "      <th>B</th>\n",
       "      <th>H</th>\n",
       "      <th>S</th>\n",
       "      <th>W</th>\n",
       "      <th>Final</th>\n",
       "    </tr>\n",
       "  </thead>\n",
       "  <tbody>\n",
       "    <tr>\n",
       "      <th>0</th>\n",
       "      <td>0.104594</td>\n",
       "      <td>0.084840</td>\n",
       "      <td>0.001344</td>\n",
       "      <td>0.809222</td>\n",
       "      <td>W</td>\n",
       "    </tr>\n",
       "    <tr>\n",
       "      <th>1</th>\n",
       "      <td>0.107970</td>\n",
       "      <td>0.085518</td>\n",
       "      <td>0.001027</td>\n",
       "      <td>0.805484</td>\n",
       "      <td>W</td>\n",
       "    </tr>\n",
       "    <tr>\n",
       "      <th>2</th>\n",
       "      <td>0.200521</td>\n",
       "      <td>0.054760</td>\n",
       "      <td>0.001701</td>\n",
       "      <td>0.743017</td>\n",
       "      <td>W</td>\n",
       "    </tr>\n",
       "    <tr>\n",
       "      <th>3</th>\n",
       "      <td>0.162601</td>\n",
       "      <td>0.076860</td>\n",
       "      <td>0.003634</td>\n",
       "      <td>0.756905</td>\n",
       "      <td>W</td>\n",
       "    </tr>\n",
       "    <tr>\n",
       "      <th>4</th>\n",
       "      <td>0.104117</td>\n",
       "      <td>0.065817</td>\n",
       "      <td>0.002506</td>\n",
       "      <td>0.827560</td>\n",
       "      <td>W</td>\n",
       "    </tr>\n",
       "  </tbody>\n",
       "</table>\n",
       "</div>"
      ],
      "text/plain": [
       "          B         H         S         W Final\n",
       "0  0.104594  0.084840  0.001344  0.809222     W\n",
       "1  0.107970  0.085518  0.001027  0.805484     W\n",
       "2  0.200521  0.054760  0.001701  0.743017     W\n",
       "3  0.162601  0.076860  0.003634  0.756905     W\n",
       "4  0.104117  0.065817  0.002506  0.827560     W"
      ]
     },
     "execution_count": 95,
     "metadata": {},
     "output_type": "execute_result"
    }
   ],
   "source": [
    "predictions_df.head()"
   ]
  },
  {
   "cell_type": "code",
   "execution_count": 96,
   "metadata": {},
   "outputs": [],
   "source": [
    "df_ready_for_pred['predicted'] = predictions_df['Final']"
   ]
  },
  {
   "cell_type": "code",
   "execution_count": 97,
   "metadata": {},
   "outputs": [
    {
     "name": "stdout",
     "output_type": "stream",
     "text": [
      "Connected to the PostgreSQL server.\n"
     ]
    }
   ],
   "source": [
    "conn = db_connect.connect(CONFIG)"
   ]
  },
  {
   "cell_type": "code",
   "execution_count": 98,
   "metadata": {},
   "outputs": [],
   "source": [
    "for index, row in df_ready_for_pred.iterrows():\n",
    "    sql = f\"UPDATE trading_bot_historydataeth \\\n",
    "            SET predicted = '{row['predicted']}' \\\n",
    "            WHERE id = {row['id']};\"\n",
    "    with conn.cursor() as cursor:\n",
    "        cursor.execute(sql)\n",
    "    conn.commit()\n",
    "conn.close()"
   ]
  },
  {
   "cell_type": "code",
   "execution_count": 99,
   "metadata": {},
   "outputs": [
    {
     "name": "stdout",
     "output_type": "stream",
     "text": [
      "Connected to the PostgreSQL server.\n"
     ]
    }
   ],
   "source": [
    "conn = db_connect.connect(CONFIG)\n",
    "sql = 'SELECT * FROM trading_bot_historydataeth \\\n",
    "        WHERE predicted is not null \\\n",
    "        ORDER BY timestamp ASC;'\n",
    "with conn.cursor() as cursor:\n",
    "    cursor.execute(sql)\n",
    "    result = cursor.fetchall()\n",
    "conn.close()"
   ]
  },
  {
   "cell_type": "code",
   "execution_count": 100,
   "metadata": {},
   "outputs": [
    {
     "name": "stdout",
     "output_type": "stream",
     "text": [
      "Connected to the PostgreSQL server.\n"
     ]
    }
   ],
   "source": [
    "conn = db_connect.connect(CONFIG)\n",
    "sql = \"SELECT COLUMN_NAME \\\n",
    "    FROM INFORMATION_SCHEMA.COLUMNS \\\n",
    "    WHERE TABLE_NAME = 'trading_bot_historydataeth' \\\n",
    "    ORDER BY ORDINAL_POSITION;\"\n",
    "with conn.cursor() as cursor:\n",
    "    cursor.execute(sql)\n",
    "    col_names = cursor.fetchall()\n",
    "conn.close()"
   ]
  },
  {
   "cell_type": "code",
   "execution_count": 101,
   "metadata": {},
   "outputs": [],
   "source": [
    "cols_list = []\n",
    "for col in col_names:\n",
    "    cols_list.append(col[0])"
   ]
  },
  {
   "cell_type": "code",
   "execution_count": 102,
   "metadata": {},
   "outputs": [],
   "source": [
    "result_df = pd.DataFrame(result, columns=cols_list)"
   ]
  },
  {
   "cell_type": "code",
   "execution_count": 103,
   "metadata": {},
   "outputs": [
    {
     "data": {
      "text/html": [
       "<div>\n",
       "<style scoped>\n",
       "    .dataframe tbody tr th:only-of-type {\n",
       "        vertical-align: middle;\n",
       "    }\n",
       "\n",
       "    .dataframe tbody tr th {\n",
       "        vertical-align: top;\n",
       "    }\n",
       "\n",
       "    .dataframe thead th {\n",
       "        text-align: right;\n",
       "    }\n",
       "</style>\n",
       "<table border=\"1\" class=\"dataframe\">\n",
       "  <thead>\n",
       "    <tr style=\"text-align: right;\">\n",
       "      <th></th>\n",
       "      <th>id</th>\n",
       "      <th>timestamp</th>\n",
       "      <th>open</th>\n",
       "      <th>high</th>\n",
       "      <th>low</th>\n",
       "      <th>close</th>\n",
       "      <th>volume</th>\n",
       "      <th>close_time</th>\n",
       "      <th>quote_asset_volume</th>\n",
       "      <th>num_trades</th>\n",
       "      <th>...</th>\n",
       "      <th>RSI_384_num_trades</th>\n",
       "      <th>RSI_384_quote_asset_volume</th>\n",
       "      <th>RSI_3_num_trades</th>\n",
       "      <th>RSI_3_quote_asset_volume</th>\n",
       "      <th>RSI_48_num_trades</th>\n",
       "      <th>RSI_48_quote_asset_volume</th>\n",
       "      <th>RSI_6_num_trades</th>\n",
       "      <th>RSI_6_quote_asset_volume</th>\n",
       "      <th>RSI_96_num_trades</th>\n",
       "      <th>RSI_96_quote_asset_volume</th>\n",
       "    </tr>\n",
       "  </thead>\n",
       "  <tbody>\n",
       "    <tr>\n",
       "      <th>0</th>\n",
       "      <td>38190</td>\n",
       "      <td>2024-01-09 06:00:00+05:00</td>\n",
       "      <td>2308.77</td>\n",
       "      <td>2309.08</td>\n",
       "      <td>2297.26</td>\n",
       "      <td>2302.00</td>\n",
       "      <td>8630.9460</td>\n",
       "      <td>1704780000000</td>\n",
       "      <td>1.988220e+07</td>\n",
       "      <td>21123</td>\n",
       "      <td>...</td>\n",
       "      <td>49.851729</td>\n",
       "      <td>49.859221</td>\n",
       "      <td>71.389892</td>\n",
       "      <td>24.804571</td>\n",
       "      <td>50.568465</td>\n",
       "      <td>50.447134</td>\n",
       "      <td>3.699243</td>\n",
       "      <td>1.500659</td>\n",
       "      <td>49.547127</td>\n",
       "      <td>49.153654</td>\n",
       "    </tr>\n",
       "    <tr>\n",
       "      <th>1</th>\n",
       "      <td>38191</td>\n",
       "      <td>2024-01-09 07:00:00+05:00</td>\n",
       "      <td>2302.00</td>\n",
       "      <td>2310.64</td>\n",
       "      <td>2298.58</td>\n",
       "      <td>2306.60</td>\n",
       "      <td>6331.7233</td>\n",
       "      <td>1704790000000</td>\n",
       "      <td>1.459177e+07</td>\n",
       "      <td>13559</td>\n",
       "      <td>...</td>\n",
       "      <td>49.915666</td>\n",
       "      <td>49.954691</td>\n",
       "      <td>3.279849</td>\n",
       "      <td>12.074540</td>\n",
       "      <td>49.810307</td>\n",
       "      <td>50.141823</td>\n",
       "      <td>7.395918</td>\n",
       "      <td>2.836300</td>\n",
       "      <td>49.289525</td>\n",
       "      <td>49.009751</td>\n",
       "    </tr>\n",
       "    <tr>\n",
       "      <th>2</th>\n",
       "      <td>38879</td>\n",
       "      <td>2024-01-09 08:00:00+05:00</td>\n",
       "      <td>2306.05</td>\n",
       "      <td>2311.30</td>\n",
       "      <td>2290.26</td>\n",
       "      <td>2291.28</td>\n",
       "      <td>11885.1589</td>\n",
       "      <td>1704790799999</td>\n",
       "      <td>2.734850e+07</td>\n",
       "      <td>29276</td>\n",
       "      <td>...</td>\n",
       "      <td>50.092061</td>\n",
       "      <td>50.052924</td>\n",
       "      <td>67.893374</td>\n",
       "      <td>66.430807</td>\n",
       "      <td>50.552824</td>\n",
       "      <td>50.582136</td>\n",
       "      <td>68.134645</td>\n",
       "      <td>61.900251</td>\n",
       "      <td>50.354181</td>\n",
       "      <td>49.723793</td>\n",
       "    </tr>\n",
       "    <tr>\n",
       "      <th>3</th>\n",
       "      <td>38880</td>\n",
       "      <td>2024-01-09 09:00:00+05:00</td>\n",
       "      <td>2291.28</td>\n",
       "      <td>2297.22</td>\n",
       "      <td>2285.40</td>\n",
       "      <td>2291.37</td>\n",
       "      <td>14051.9445</td>\n",
       "      <td>1704794399999</td>\n",
       "      <td>3.220718e+07</td>\n",
       "      <td>34420</td>\n",
       "      <td>...</td>\n",
       "      <td>50.124498</td>\n",
       "      <td>50.101788</td>\n",
       "      <td>73.389622</td>\n",
       "      <td>76.903579</td>\n",
       "      <td>51.041344</td>\n",
       "      <td>50.745154</td>\n",
       "      <td>73.244999</td>\n",
       "      <td>69.880417</td>\n",
       "      <td>49.882164</td>\n",
       "      <td>48.929447</td>\n",
       "    </tr>\n",
       "    <tr>\n",
       "      <th>4</th>\n",
       "      <td>38881</td>\n",
       "      <td>2024-01-09 10:00:00+05:00</td>\n",
       "      <td>2291.37</td>\n",
       "      <td>2301.73</td>\n",
       "      <td>2289.00</td>\n",
       "      <td>2292.40</td>\n",
       "      <td>9995.6604</td>\n",
       "      <td>1704797999999</td>\n",
       "      <td>2.294682e+07</td>\n",
       "      <td>23497</td>\n",
       "      <td>...</td>\n",
       "      <td>49.785607</td>\n",
       "      <td>49.864236</td>\n",
       "      <td>65.633652</td>\n",
       "      <td>65.543832</td>\n",
       "      <td>50.660680</td>\n",
       "      <td>50.580271</td>\n",
       "      <td>52.506210</td>\n",
       "      <td>54.083916</td>\n",
       "      <td>49.553705</td>\n",
       "      <td>49.579627</td>\n",
       "    </tr>\n",
       "    <tr>\n",
       "      <th>...</th>\n",
       "      <td>...</td>\n",
       "      <td>...</td>\n",
       "      <td>...</td>\n",
       "      <td>...</td>\n",
       "      <td>...</td>\n",
       "      <td>...</td>\n",
       "      <td>...</td>\n",
       "      <td>...</td>\n",
       "      <td>...</td>\n",
       "      <td>...</td>\n",
       "      <td>...</td>\n",
       "      <td>...</td>\n",
       "      <td>...</td>\n",
       "      <td>...</td>\n",
       "      <td>...</td>\n",
       "      <td>...</td>\n",
       "      <td>...</td>\n",
       "      <td>...</td>\n",
       "      <td>...</td>\n",
       "      <td>...</td>\n",
       "      <td>...</td>\n",
       "    </tr>\n",
       "    <tr>\n",
       "      <th>752</th>\n",
       "      <td>39631</td>\n",
       "      <td>2024-02-09 14:00:00+05:00</td>\n",
       "      <td>2513.27</td>\n",
       "      <td>2519.66</td>\n",
       "      <td>2481.47</td>\n",
       "      <td>2494.51</td>\n",
       "      <td>50546.2326</td>\n",
       "      <td>1707490799999</td>\n",
       "      <td>1.262731e+08</td>\n",
       "      <td>96795</td>\n",
       "      <td>...</td>\n",
       "      <td>50.657069</td>\n",
       "      <td>50.764413</td>\n",
       "      <td>60.610369</td>\n",
       "      <td>58.757069</td>\n",
       "      <td>53.100212</td>\n",
       "      <td>53.957455</td>\n",
       "      <td>65.450251</td>\n",
       "      <td>70.449525</td>\n",
       "      <td>52.741998</td>\n",
       "      <td>53.299243</td>\n",
       "    </tr>\n",
       "    <tr>\n",
       "      <th>753</th>\n",
       "      <td>39632</td>\n",
       "      <td>2024-02-09 15:00:00+05:00</td>\n",
       "      <td>2494.51</td>\n",
       "      <td>2501.46</td>\n",
       "      <td>2476.57</td>\n",
       "      <td>2495.33</td>\n",
       "      <td>31964.6794</td>\n",
       "      <td>1707494399999</td>\n",
       "      <td>7.956063e+07</td>\n",
       "      <td>65172</td>\n",
       "      <td>...</td>\n",
       "      <td>50.369280</td>\n",
       "      <td>50.504011</td>\n",
       "      <td>40.293519</td>\n",
       "      <td>42.167346</td>\n",
       "      <td>51.371620</td>\n",
       "      <td>52.489642</td>\n",
       "      <td>55.196642</td>\n",
       "      <td>58.655994</td>\n",
       "      <td>50.317666</td>\n",
       "      <td>51.117829</td>\n",
       "    </tr>\n",
       "    <tr>\n",
       "      <th>754</th>\n",
       "      <td>39633</td>\n",
       "      <td>2024-02-09 16:00:00+05:00</td>\n",
       "      <td>2495.33</td>\n",
       "      <td>2502.72</td>\n",
       "      <td>2478.07</td>\n",
       "      <td>2486.77</td>\n",
       "      <td>20726.9450</td>\n",
       "      <td>1707497999999</td>\n",
       "      <td>5.161690e+07</td>\n",
       "      <td>47178</td>\n",
       "      <td>...</td>\n",
       "      <td>50.231440</td>\n",
       "      <td>50.230337</td>\n",
       "      <td>48.720519</td>\n",
       "      <td>48.936317</td>\n",
       "      <td>49.285496</td>\n",
       "      <td>49.767510</td>\n",
       "      <td>53.449911</td>\n",
       "      <td>51.816573</td>\n",
       "      <td>49.934885</td>\n",
       "      <td>50.345761</td>\n",
       "    </tr>\n",
       "    <tr>\n",
       "      <th>755</th>\n",
       "      <td>39634</td>\n",
       "      <td>2024-02-09 17:00:00+05:00</td>\n",
       "      <td>2486.77</td>\n",
       "      <td>2500.87</td>\n",
       "      <td>2484.66</td>\n",
       "      <td>2497.19</td>\n",
       "      <td>18580.8317</td>\n",
       "      <td>1707501599999</td>\n",
       "      <td>4.637484e+07</td>\n",
       "      <td>42302</td>\n",
       "      <td>...</td>\n",
       "      <td>50.226517</td>\n",
       "      <td>50.235723</td>\n",
       "      <td>0.000000</td>\n",
       "      <td>0.000000</td>\n",
       "      <td>46.783647</td>\n",
       "      <td>46.406168</td>\n",
       "      <td>38.816488</td>\n",
       "      <td>35.807077</td>\n",
       "      <td>50.680708</td>\n",
       "      <td>51.051760</td>\n",
       "    </tr>\n",
       "    <tr>\n",
       "      <th>756</th>\n",
       "      <td>39635</td>\n",
       "      <td>2024-02-09 18:00:00+05:00</td>\n",
       "      <td>2497.19</td>\n",
       "      <td>2523.66</td>\n",
       "      <td>2493.87</td>\n",
       "      <td>2508.68</td>\n",
       "      <td>33494.4459</td>\n",
       "      <td>1707505199999</td>\n",
       "      <td>8.408666e+07</td>\n",
       "      <td>58612</td>\n",
       "      <td>...</td>\n",
       "      <td>50.130908</td>\n",
       "      <td>50.306576</td>\n",
       "      <td>41.628382</td>\n",
       "      <td>53.191947</td>\n",
       "      <td>51.474921</td>\n",
       "      <td>52.656937</td>\n",
       "      <td>40.628402</td>\n",
       "      <td>45.416383</td>\n",
       "      <td>51.513386</td>\n",
       "      <td>52.160454</td>\n",
       "    </tr>\n",
       "  </tbody>\n",
       "</table>\n",
       "<p>757 rows × 76 columns</p>\n",
       "</div>"
      ],
      "text/plain": [
       "        id                 timestamp     open     high      low    close  \\\n",
       "0    38190 2024-01-09 06:00:00+05:00  2308.77  2309.08  2297.26  2302.00   \n",
       "1    38191 2024-01-09 07:00:00+05:00  2302.00  2310.64  2298.58  2306.60   \n",
       "2    38879 2024-01-09 08:00:00+05:00  2306.05  2311.30  2290.26  2291.28   \n",
       "3    38880 2024-01-09 09:00:00+05:00  2291.28  2297.22  2285.40  2291.37   \n",
       "4    38881 2024-01-09 10:00:00+05:00  2291.37  2301.73  2289.00  2292.40   \n",
       "..     ...                       ...      ...      ...      ...      ...   \n",
       "752  39631 2024-02-09 14:00:00+05:00  2513.27  2519.66  2481.47  2494.51   \n",
       "753  39632 2024-02-09 15:00:00+05:00  2494.51  2501.46  2476.57  2495.33   \n",
       "754  39633 2024-02-09 16:00:00+05:00  2495.33  2502.72  2478.07  2486.77   \n",
       "755  39634 2024-02-09 17:00:00+05:00  2486.77  2500.87  2484.66  2497.19   \n",
       "756  39635 2024-02-09 18:00:00+05:00  2497.19  2523.66  2493.87  2508.68   \n",
       "\n",
       "         volume     close_time  quote_asset_volume  num_trades  ...  \\\n",
       "0     8630.9460  1704780000000        1.988220e+07       21123  ...   \n",
       "1     6331.7233  1704790000000        1.459177e+07       13559  ...   \n",
       "2    11885.1589  1704790799999        2.734850e+07       29276  ...   \n",
       "3    14051.9445  1704794399999        3.220718e+07       34420  ...   \n",
       "4     9995.6604  1704797999999        2.294682e+07       23497  ...   \n",
       "..          ...            ...                 ...         ...  ...   \n",
       "752  50546.2326  1707490799999        1.262731e+08       96795  ...   \n",
       "753  31964.6794  1707494399999        7.956063e+07       65172  ...   \n",
       "754  20726.9450  1707497999999        5.161690e+07       47178  ...   \n",
       "755  18580.8317  1707501599999        4.637484e+07       42302  ...   \n",
       "756  33494.4459  1707505199999        8.408666e+07       58612  ...   \n",
       "\n",
       "     RSI_384_num_trades  RSI_384_quote_asset_volume  RSI_3_num_trades  \\\n",
       "0             49.851729                   49.859221         71.389892   \n",
       "1             49.915666                   49.954691          3.279849   \n",
       "2             50.092061                   50.052924         67.893374   \n",
       "3             50.124498                   50.101788         73.389622   \n",
       "4             49.785607                   49.864236         65.633652   \n",
       "..                  ...                         ...               ...   \n",
       "752           50.657069                   50.764413         60.610369   \n",
       "753           50.369280                   50.504011         40.293519   \n",
       "754           50.231440                   50.230337         48.720519   \n",
       "755           50.226517                   50.235723          0.000000   \n",
       "756           50.130908                   50.306576         41.628382   \n",
       "\n",
       "     RSI_3_quote_asset_volume  RSI_48_num_trades  RSI_48_quote_asset_volume  \\\n",
       "0                   24.804571          50.568465                  50.447134   \n",
       "1                   12.074540          49.810307                  50.141823   \n",
       "2                   66.430807          50.552824                  50.582136   \n",
       "3                   76.903579          51.041344                  50.745154   \n",
       "4                   65.543832          50.660680                  50.580271   \n",
       "..                        ...                ...                        ...   \n",
       "752                 58.757069          53.100212                  53.957455   \n",
       "753                 42.167346          51.371620                  52.489642   \n",
       "754                 48.936317          49.285496                  49.767510   \n",
       "755                  0.000000          46.783647                  46.406168   \n",
       "756                 53.191947          51.474921                  52.656937   \n",
       "\n",
       "     RSI_6_num_trades  RSI_6_quote_asset_volume  RSI_96_num_trades  \\\n",
       "0            3.699243                  1.500659          49.547127   \n",
       "1            7.395918                  2.836300          49.289525   \n",
       "2           68.134645                 61.900251          50.354181   \n",
       "3           73.244999                 69.880417          49.882164   \n",
       "4           52.506210                 54.083916          49.553705   \n",
       "..                ...                       ...                ...   \n",
       "752         65.450251                 70.449525          52.741998   \n",
       "753         55.196642                 58.655994          50.317666   \n",
       "754         53.449911                 51.816573          49.934885   \n",
       "755         38.816488                 35.807077          50.680708   \n",
       "756         40.628402                 45.416383          51.513386   \n",
       "\n",
       "     RSI_96_quote_asset_volume  \n",
       "0                    49.153654  \n",
       "1                    49.009751  \n",
       "2                    49.723793  \n",
       "3                    48.929447  \n",
       "4                    49.579627  \n",
       "..                         ...  \n",
       "752                  53.299243  \n",
       "753                  51.117829  \n",
       "754                  50.345761  \n",
       "755                  51.051760  \n",
       "756                  52.160454  \n",
       "\n",
       "[757 rows x 76 columns]"
      ]
     },
     "execution_count": 103,
     "metadata": {},
     "output_type": "execute_result"
    }
   ],
   "source": [
    "result_df"
   ]
  },
  {
   "cell_type": "code",
   "execution_count": 104,
   "metadata": {},
   "outputs": [
    {
     "name": "stderr",
     "output_type": "stream",
     "text": [
      "c:\\Users\\user\\Documents\\GitHub\\BinanceTradingBot\\plotting.py:6: SettingWithCopyWarning:\n",
      "\n",
      "\n",
      "A value is trying to be set on a copy of a slice from a DataFrame.\n",
      "Try using .loc[row_indexer,col_indexer] = value instead\n",
      "\n",
      "See the caveats in the documentation: https://pandas.pydata.org/pandas-docs/stable/user_guide/indexing.html#returning-a-view-versus-a-copy\n",
      "\n",
      "c:\\Users\\user\\Documents\\GitHub\\BinanceTradingBot\\plotting.py:9: SettingWithCopyWarning:\n",
      "\n",
      "\n",
      "A value is trying to be set on a copy of a slice from a DataFrame.\n",
      "Try using .loc[row_indexer,col_indexer] = value instead\n",
      "\n",
      "See the caveats in the documentation: https://pandas.pydata.org/pandas-docs/stable/user_guide/indexing.html#returning-a-view-versus-a-copy\n",
      "\n"
     ]
    },
    {
     "data": {
      "application/vnd.plotly.v1+json": {
       "config": {
        "plotlyServerURL": "https://plot.ly"
       },
       "data": [
        {
         "type": "scatter",
         "x": [
          "2024-01-09T06:00:00+05:00",
          "2024-01-09T07:00:00+05:00",
          "2024-01-09T08:00:00+05:00",
          "2024-01-09T09:00:00+05:00",
          "2024-01-09T10:00:00+05:00",
          "2024-01-09T11:00:00+05:00",
          "2024-01-09T12:00:00+05:00",
          "2024-01-09T13:00:00+05:00",
          "2024-01-09T14:00:00+05:00",
          "2024-01-09T15:00:00+05:00",
          "2024-01-09T16:00:00+05:00",
          "2024-01-09T17:00:00+05:00",
          "2024-01-09T18:00:00+05:00",
          "2024-01-09T19:00:00+05:00",
          "2024-01-09T20:00:00+05:00",
          "2024-01-09T21:00:00+05:00",
          "2024-01-09T22:00:00+05:00",
          "2024-01-09T23:00:00+05:00",
          "2024-01-10T00:00:00+05:00",
          "2024-01-10T01:00:00+05:00",
          "2024-01-10T02:00:00+05:00",
          "2024-01-10T03:00:00+05:00",
          "2024-01-10T04:00:00+05:00",
          "2024-01-10T05:00:00+05:00",
          "2024-01-10T06:00:00+05:00",
          "2024-01-10T07:00:00+05:00",
          "2024-01-10T08:00:00+05:00",
          "2024-01-10T09:00:00+05:00",
          "2024-01-10T10:00:00+05:00",
          "2024-01-10T11:00:00+05:00",
          "2024-01-10T12:00:00+05:00",
          "2024-01-10T13:00:00+05:00",
          "2024-01-10T14:00:00+05:00",
          "2024-01-10T15:00:00+05:00",
          "2024-01-10T16:00:00+05:00",
          "2024-01-10T17:00:00+05:00",
          "2024-01-10T18:00:00+05:00",
          "2024-01-10T19:00:00+05:00",
          "2024-01-10T20:00:00+05:00",
          "2024-01-10T21:00:00+05:00",
          "2024-01-10T22:00:00+05:00",
          "2024-01-10T23:00:00+05:00",
          "2024-01-11T00:00:00+05:00",
          "2024-01-11T01:00:00+05:00",
          "2024-01-11T02:00:00+05:00",
          "2024-01-11T03:00:00+05:00",
          "2024-01-11T04:00:00+05:00",
          "2024-01-11T05:00:00+05:00",
          "2024-01-11T06:00:00+05:00",
          "2024-01-11T07:00:00+05:00",
          "2024-01-11T08:00:00+05:00",
          "2024-01-11T09:00:00+05:00",
          "2024-01-11T10:00:00+05:00",
          "2024-01-11T11:00:00+05:00",
          "2024-01-11T12:00:00+05:00",
          "2024-01-11T13:00:00+05:00",
          "2024-01-11T14:00:00+05:00",
          "2024-01-11T15:00:00+05:00",
          "2024-01-11T16:00:00+05:00",
          "2024-01-11T17:00:00+05:00",
          "2024-01-11T18:00:00+05:00",
          "2024-01-11T19:00:00+05:00",
          "2024-01-11T20:00:00+05:00",
          "2024-01-11T21:00:00+05:00",
          "2024-01-11T22:00:00+05:00",
          "2024-01-11T23:00:00+05:00",
          "2024-01-12T00:00:00+05:00",
          "2024-01-12T01:00:00+05:00",
          "2024-01-12T02:00:00+05:00",
          "2024-01-12T03:00:00+05:00",
          "2024-01-12T04:00:00+05:00",
          "2024-01-12T05:00:00+05:00",
          "2024-01-12T06:00:00+05:00",
          "2024-01-12T07:00:00+05:00",
          "2024-01-12T08:00:00+05:00",
          "2024-01-12T09:00:00+05:00",
          "2024-01-12T10:00:00+05:00",
          "2024-01-12T11:00:00+05:00",
          "2024-01-12T12:00:00+05:00",
          "2024-01-12T13:00:00+05:00",
          "2024-01-12T14:00:00+05:00",
          "2024-01-12T15:00:00+05:00",
          "2024-01-12T16:00:00+05:00",
          "2024-01-12T17:00:00+05:00",
          "2024-01-12T18:00:00+05:00",
          "2024-01-12T19:00:00+05:00",
          "2024-01-12T20:00:00+05:00",
          "2024-01-12T21:00:00+05:00",
          "2024-01-12T22:00:00+05:00",
          "2024-01-12T23:00:00+05:00",
          "2024-01-13T00:00:00+05:00",
          "2024-01-13T01:00:00+05:00",
          "2024-01-13T02:00:00+05:00",
          "2024-01-13T03:00:00+05:00",
          "2024-01-13T04:00:00+05:00",
          "2024-01-13T05:00:00+05:00",
          "2024-01-13T06:00:00+05:00",
          "2024-01-13T07:00:00+05:00",
          "2024-01-13T08:00:00+05:00",
          "2024-01-13T09:00:00+05:00",
          "2024-01-13T10:00:00+05:00",
          "2024-01-13T11:00:00+05:00",
          "2024-01-13T12:00:00+05:00",
          "2024-01-13T13:00:00+05:00",
          "2024-01-13T14:00:00+05:00",
          "2024-01-13T15:00:00+05:00",
          "2024-01-13T16:00:00+05:00",
          "2024-01-13T17:00:00+05:00",
          "2024-01-13T18:00:00+05:00",
          "2024-01-13T19:00:00+05:00",
          "2024-01-13T20:00:00+05:00",
          "2024-01-13T21:00:00+05:00",
          "2024-01-13T22:00:00+05:00",
          "2024-01-13T23:00:00+05:00",
          "2024-01-14T00:00:00+05:00",
          "2024-01-14T01:00:00+05:00",
          "2024-01-14T02:00:00+05:00",
          "2024-01-14T03:00:00+05:00",
          "2024-01-14T04:00:00+05:00",
          "2024-01-14T05:00:00+05:00",
          "2024-01-14T06:00:00+05:00",
          "2024-01-14T07:00:00+05:00",
          "2024-01-14T08:00:00+05:00",
          "2024-01-14T09:00:00+05:00",
          "2024-01-14T10:00:00+05:00",
          "2024-01-14T11:00:00+05:00",
          "2024-01-14T12:00:00+05:00",
          "2024-01-14T13:00:00+05:00",
          "2024-01-14T14:00:00+05:00",
          "2024-01-14T15:00:00+05:00",
          "2024-01-14T16:00:00+05:00",
          "2024-01-14T17:00:00+05:00",
          "2024-01-14T18:00:00+05:00",
          "2024-01-14T19:00:00+05:00",
          "2024-01-14T20:00:00+05:00",
          "2024-01-14T21:00:00+05:00",
          "2024-01-14T22:00:00+05:00",
          "2024-01-14T23:00:00+05:00",
          "2024-01-15T00:00:00+05:00",
          "2024-01-15T01:00:00+05:00",
          "2024-01-15T02:00:00+05:00",
          "2024-01-15T03:00:00+05:00",
          "2024-01-15T04:00:00+05:00",
          "2024-01-15T05:00:00+05:00",
          "2024-01-15T06:00:00+05:00",
          "2024-01-15T07:00:00+05:00",
          "2024-01-15T08:00:00+05:00",
          "2024-01-15T09:00:00+05:00",
          "2024-01-15T10:00:00+05:00",
          "2024-01-15T11:00:00+05:00",
          "2024-01-15T12:00:00+05:00",
          "2024-01-15T13:00:00+05:00",
          "2024-01-15T14:00:00+05:00",
          "2024-01-15T15:00:00+05:00",
          "2024-01-15T16:00:00+05:00",
          "2024-01-15T17:00:00+05:00",
          "2024-01-15T18:00:00+05:00",
          "2024-01-15T19:00:00+05:00",
          "2024-01-15T20:00:00+05:00",
          "2024-01-15T21:00:00+05:00",
          "2024-01-15T22:00:00+05:00",
          "2024-01-15T23:00:00+05:00",
          "2024-01-16T00:00:00+05:00",
          "2024-01-16T01:00:00+05:00",
          "2024-01-16T02:00:00+05:00",
          "2024-01-16T03:00:00+05:00",
          "2024-01-16T04:00:00+05:00",
          "2024-01-16T05:00:00+05:00",
          "2024-01-16T06:00:00+05:00",
          "2024-01-16T07:00:00+05:00",
          "2024-01-16T08:00:00+05:00",
          "2024-01-16T09:00:00+05:00",
          "2024-01-16T10:00:00+05:00",
          "2024-01-16T11:00:00+05:00",
          "2024-01-16T12:00:00+05:00",
          "2024-01-16T13:00:00+05:00",
          "2024-01-16T14:00:00+05:00",
          "2024-01-16T15:00:00+05:00",
          "2024-01-16T16:00:00+05:00",
          "2024-01-16T17:00:00+05:00",
          "2024-01-16T18:00:00+05:00",
          "2024-01-16T19:00:00+05:00",
          "2024-01-16T20:00:00+05:00",
          "2024-01-16T21:00:00+05:00",
          "2024-01-16T22:00:00+05:00",
          "2024-01-16T23:00:00+05:00",
          "2024-01-17T00:00:00+05:00",
          "2024-01-17T01:00:00+05:00",
          "2024-01-17T02:00:00+05:00",
          "2024-01-17T03:00:00+05:00",
          "2024-01-17T04:00:00+05:00",
          "2024-01-17T05:00:00+05:00",
          "2024-01-17T06:00:00+05:00",
          "2024-01-17T07:00:00+05:00",
          "2024-01-17T08:00:00+05:00",
          "2024-01-17T09:00:00+05:00",
          "2024-01-17T10:00:00+05:00",
          "2024-01-17T11:00:00+05:00",
          "2024-01-17T12:00:00+05:00",
          "2024-01-17T13:00:00+05:00",
          "2024-01-17T14:00:00+05:00",
          "2024-01-17T15:00:00+05:00",
          "2024-01-17T16:00:00+05:00",
          "2024-01-17T17:00:00+05:00",
          "2024-01-17T18:00:00+05:00",
          "2024-01-17T19:00:00+05:00",
          "2024-01-17T20:00:00+05:00",
          "2024-01-17T21:00:00+05:00",
          "2024-01-17T22:00:00+05:00",
          "2024-01-17T23:00:00+05:00",
          "2024-01-18T00:00:00+05:00",
          "2024-01-18T01:00:00+05:00",
          "2024-01-18T02:00:00+05:00",
          "2024-01-18T03:00:00+05:00",
          "2024-01-18T04:00:00+05:00",
          "2024-01-18T05:00:00+05:00",
          "2024-01-18T06:00:00+05:00",
          "2024-01-18T07:00:00+05:00",
          "2024-01-18T08:00:00+05:00",
          "2024-01-18T09:00:00+05:00",
          "2024-01-18T10:00:00+05:00",
          "2024-01-18T11:00:00+05:00",
          "2024-01-18T12:00:00+05:00",
          "2024-01-18T13:00:00+05:00",
          "2024-01-18T14:00:00+05:00",
          "2024-01-18T15:00:00+05:00",
          "2024-01-18T16:00:00+05:00",
          "2024-01-18T17:00:00+05:00",
          "2024-01-18T18:00:00+05:00",
          "2024-01-18T19:00:00+05:00",
          "2024-01-18T20:00:00+05:00",
          "2024-01-18T21:00:00+05:00",
          "2024-01-18T22:00:00+05:00",
          "2024-01-18T23:00:00+05:00",
          "2024-01-19T00:00:00+05:00",
          "2024-01-19T01:00:00+05:00",
          "2024-01-19T02:00:00+05:00",
          "2024-01-19T03:00:00+05:00",
          "2024-01-19T04:00:00+05:00",
          "2024-01-19T05:00:00+05:00",
          "2024-01-19T06:00:00+05:00",
          "2024-01-19T07:00:00+05:00",
          "2024-01-19T08:00:00+05:00",
          "2024-01-19T09:00:00+05:00",
          "2024-01-19T10:00:00+05:00",
          "2024-01-19T11:00:00+05:00",
          "2024-01-19T12:00:00+05:00",
          "2024-01-19T13:00:00+05:00",
          "2024-01-19T14:00:00+05:00",
          "2024-01-19T15:00:00+05:00",
          "2024-01-19T16:00:00+05:00",
          "2024-01-19T17:00:00+05:00",
          "2024-01-19T18:00:00+05:00",
          "2024-01-19T19:00:00+05:00",
          "2024-01-19T20:00:00+05:00",
          "2024-01-19T21:00:00+05:00",
          "2024-01-19T22:00:00+05:00",
          "2024-01-19T23:00:00+05:00",
          "2024-01-20T00:00:00+05:00",
          "2024-01-20T01:00:00+05:00",
          "2024-01-20T02:00:00+05:00",
          "2024-01-20T03:00:00+05:00",
          "2024-01-20T04:00:00+05:00",
          "2024-01-20T05:00:00+05:00",
          "2024-01-20T06:00:00+05:00",
          "2024-01-20T07:00:00+05:00",
          "2024-01-20T08:00:00+05:00",
          "2024-01-20T09:00:00+05:00",
          "2024-01-20T10:00:00+05:00",
          "2024-01-20T11:00:00+05:00",
          "2024-01-20T12:00:00+05:00",
          "2024-01-20T13:00:00+05:00",
          "2024-01-20T14:00:00+05:00",
          "2024-01-20T15:00:00+05:00",
          "2024-01-20T16:00:00+05:00",
          "2024-01-20T17:00:00+05:00",
          "2024-01-20T18:00:00+05:00",
          "2024-01-20T19:00:00+05:00",
          "2024-01-20T20:00:00+05:00",
          "2024-01-20T21:00:00+05:00",
          "2024-01-20T22:00:00+05:00",
          "2024-01-20T23:00:00+05:00",
          "2024-01-21T00:00:00+05:00",
          "2024-01-21T01:00:00+05:00",
          "2024-01-21T02:00:00+05:00",
          "2024-01-21T03:00:00+05:00",
          "2024-01-21T04:00:00+05:00",
          "2024-01-21T05:00:00+05:00",
          "2024-01-21T06:00:00+05:00",
          "2024-01-21T07:00:00+05:00",
          "2024-01-21T08:00:00+05:00",
          "2024-01-21T09:00:00+05:00",
          "2024-01-21T10:00:00+05:00",
          "2024-01-21T11:00:00+05:00",
          "2024-01-21T12:00:00+05:00",
          "2024-01-21T13:00:00+05:00",
          "2024-01-21T14:00:00+05:00",
          "2024-01-21T15:00:00+05:00",
          "2024-01-21T16:00:00+05:00",
          "2024-01-21T17:00:00+05:00",
          "2024-01-21T18:00:00+05:00",
          "2024-01-21T19:00:00+05:00",
          "2024-01-21T20:00:00+05:00",
          "2024-01-21T21:00:00+05:00",
          "2024-01-21T22:00:00+05:00",
          "2024-01-21T23:00:00+05:00",
          "2024-01-22T00:00:00+05:00",
          "2024-01-22T01:00:00+05:00",
          "2024-01-22T02:00:00+05:00",
          "2024-01-22T03:00:00+05:00",
          "2024-01-22T04:00:00+05:00",
          "2024-01-22T05:00:00+05:00",
          "2024-01-22T06:00:00+05:00",
          "2024-01-22T07:00:00+05:00",
          "2024-01-22T08:00:00+05:00",
          "2024-01-22T09:00:00+05:00",
          "2024-01-22T10:00:00+05:00",
          "2024-01-22T11:00:00+05:00",
          "2024-01-22T12:00:00+05:00",
          "2024-01-22T13:00:00+05:00",
          "2024-01-22T14:00:00+05:00",
          "2024-01-22T15:00:00+05:00",
          "2024-01-22T16:00:00+05:00",
          "2024-01-22T17:00:00+05:00",
          "2024-01-22T18:00:00+05:00",
          "2024-01-22T19:00:00+05:00",
          "2024-01-22T20:00:00+05:00",
          "2024-01-22T21:00:00+05:00",
          "2024-01-22T22:00:00+05:00",
          "2024-01-22T23:00:00+05:00",
          "2024-01-23T00:00:00+05:00",
          "2024-01-23T01:00:00+05:00",
          "2024-01-23T02:00:00+05:00",
          "2024-01-23T03:00:00+05:00",
          "2024-01-23T04:00:00+05:00",
          "2024-01-23T05:00:00+05:00",
          "2024-01-23T06:00:00+05:00",
          "2024-01-23T07:00:00+05:00",
          "2024-01-23T08:00:00+05:00",
          "2024-01-23T09:00:00+05:00",
          "2024-01-23T10:00:00+05:00",
          "2024-01-23T11:00:00+05:00",
          "2024-01-23T12:00:00+05:00",
          "2024-01-23T13:00:00+05:00",
          "2024-01-23T14:00:00+05:00",
          "2024-01-23T15:00:00+05:00",
          "2024-01-23T16:00:00+05:00",
          "2024-01-23T17:00:00+05:00",
          "2024-01-23T18:00:00+05:00",
          "2024-01-23T19:00:00+05:00",
          "2024-01-23T20:00:00+05:00",
          "2024-01-23T21:00:00+05:00",
          "2024-01-23T22:00:00+05:00",
          "2024-01-23T23:00:00+05:00",
          "2024-01-24T00:00:00+05:00",
          "2024-01-24T01:00:00+05:00",
          "2024-01-24T02:00:00+05:00",
          "2024-01-24T03:00:00+05:00",
          "2024-01-24T04:00:00+05:00",
          "2024-01-24T05:00:00+05:00",
          "2024-01-24T06:00:00+05:00",
          "2024-01-24T07:00:00+05:00",
          "2024-01-24T08:00:00+05:00",
          "2024-01-24T09:00:00+05:00",
          "2024-01-24T10:00:00+05:00",
          "2024-01-24T11:00:00+05:00",
          "2024-01-24T12:00:00+05:00",
          "2024-01-24T13:00:00+05:00",
          "2024-01-24T14:00:00+05:00",
          "2024-01-24T15:00:00+05:00",
          "2024-01-24T16:00:00+05:00",
          "2024-01-24T17:00:00+05:00",
          "2024-01-24T18:00:00+05:00",
          "2024-01-24T19:00:00+05:00",
          "2024-01-24T20:00:00+05:00",
          "2024-01-24T21:00:00+05:00",
          "2024-01-24T22:00:00+05:00",
          "2024-01-24T23:00:00+05:00",
          "2024-01-25T00:00:00+05:00",
          "2024-01-25T01:00:00+05:00",
          "2024-01-25T02:00:00+05:00",
          "2024-01-25T03:00:00+05:00",
          "2024-01-25T04:00:00+05:00",
          "2024-01-25T05:00:00+05:00",
          "2024-01-25T06:00:00+05:00",
          "2024-01-25T07:00:00+05:00",
          "2024-01-25T08:00:00+05:00",
          "2024-01-25T09:00:00+05:00",
          "2024-01-25T10:00:00+05:00",
          "2024-01-25T11:00:00+05:00",
          "2024-01-25T12:00:00+05:00",
          "2024-01-25T13:00:00+05:00",
          "2024-01-25T14:00:00+05:00",
          "2024-01-25T15:00:00+05:00",
          "2024-01-25T16:00:00+05:00",
          "2024-01-25T17:00:00+05:00",
          "2024-01-25T18:00:00+05:00",
          "2024-01-25T19:00:00+05:00",
          "2024-01-25T20:00:00+05:00",
          "2024-01-25T21:00:00+05:00",
          "2024-01-25T22:00:00+05:00",
          "2024-01-25T23:00:00+05:00",
          "2024-01-26T00:00:00+05:00",
          "2024-01-26T01:00:00+05:00",
          "2024-01-26T02:00:00+05:00",
          "2024-01-26T03:00:00+05:00",
          "2024-01-26T04:00:00+05:00",
          "2024-01-26T05:00:00+05:00",
          "2024-01-26T06:00:00+05:00",
          "2024-01-26T07:00:00+05:00",
          "2024-01-26T08:00:00+05:00",
          "2024-01-26T09:00:00+05:00",
          "2024-01-26T10:00:00+05:00",
          "2024-01-26T11:00:00+05:00",
          "2024-01-26T12:00:00+05:00",
          "2024-01-26T13:00:00+05:00",
          "2024-01-26T14:00:00+05:00",
          "2024-01-26T15:00:00+05:00",
          "2024-01-26T16:00:00+05:00",
          "2024-01-26T17:00:00+05:00",
          "2024-01-26T18:00:00+05:00",
          "2024-01-26T19:00:00+05:00",
          "2024-01-26T20:00:00+05:00",
          "2024-01-26T21:00:00+05:00",
          "2024-01-26T22:00:00+05:00",
          "2024-01-26T23:00:00+05:00",
          "2024-01-27T00:00:00+05:00",
          "2024-01-27T01:00:00+05:00",
          "2024-01-27T02:00:00+05:00",
          "2024-01-27T03:00:00+05:00",
          "2024-01-27T04:00:00+05:00",
          "2024-01-27T05:00:00+05:00",
          "2024-01-27T06:00:00+05:00",
          "2024-01-27T07:00:00+05:00",
          "2024-01-27T08:00:00+05:00",
          "2024-01-27T09:00:00+05:00",
          "2024-01-27T10:00:00+05:00",
          "2024-01-27T11:00:00+05:00",
          "2024-01-27T12:00:00+05:00",
          "2024-01-27T13:00:00+05:00",
          "2024-01-27T14:00:00+05:00",
          "2024-01-27T15:00:00+05:00",
          "2024-01-27T16:00:00+05:00",
          "2024-01-27T17:00:00+05:00",
          "2024-01-27T18:00:00+05:00",
          "2024-01-27T19:00:00+05:00",
          "2024-01-27T20:00:00+05:00",
          "2024-01-27T21:00:00+05:00",
          "2024-01-27T22:00:00+05:00",
          "2024-01-27T23:00:00+05:00",
          "2024-01-28T00:00:00+05:00",
          "2024-01-28T01:00:00+05:00",
          "2024-01-28T02:00:00+05:00",
          "2024-01-28T03:00:00+05:00",
          "2024-01-28T04:00:00+05:00",
          "2024-01-28T05:00:00+05:00",
          "2024-01-28T06:00:00+05:00",
          "2024-01-28T07:00:00+05:00",
          "2024-01-28T08:00:00+05:00",
          "2024-01-28T09:00:00+05:00",
          "2024-01-28T10:00:00+05:00",
          "2024-01-28T11:00:00+05:00",
          "2024-01-28T12:00:00+05:00",
          "2024-01-28T13:00:00+05:00",
          "2024-01-28T14:00:00+05:00",
          "2024-01-28T15:00:00+05:00",
          "2024-01-28T16:00:00+05:00",
          "2024-01-28T17:00:00+05:00",
          "2024-01-28T18:00:00+05:00",
          "2024-01-28T19:00:00+05:00",
          "2024-01-28T20:00:00+05:00",
          "2024-01-28T21:00:00+05:00",
          "2024-01-28T22:00:00+05:00",
          "2024-01-28T23:00:00+05:00",
          "2024-01-29T00:00:00+05:00",
          "2024-01-29T01:00:00+05:00",
          "2024-01-29T02:00:00+05:00",
          "2024-01-29T03:00:00+05:00",
          "2024-01-29T04:00:00+05:00",
          "2024-01-29T05:00:00+05:00",
          "2024-01-29T06:00:00+05:00",
          "2024-01-29T07:00:00+05:00",
          "2024-01-29T08:00:00+05:00",
          "2024-01-29T09:00:00+05:00",
          "2024-01-29T10:00:00+05:00",
          "2024-01-29T11:00:00+05:00",
          "2024-01-29T12:00:00+05:00",
          "2024-01-29T13:00:00+05:00",
          "2024-01-29T14:00:00+05:00",
          "2024-01-29T15:00:00+05:00",
          "2024-01-29T16:00:00+05:00",
          "2024-01-29T17:00:00+05:00",
          "2024-01-29T18:00:00+05:00",
          "2024-01-29T19:00:00+05:00",
          "2024-01-29T20:00:00+05:00",
          "2024-01-29T21:00:00+05:00",
          "2024-01-29T22:00:00+05:00",
          "2024-01-29T23:00:00+05:00",
          "2024-01-30T00:00:00+05:00",
          "2024-01-30T01:00:00+05:00",
          "2024-01-30T02:00:00+05:00",
          "2024-01-30T03:00:00+05:00",
          "2024-01-30T04:00:00+05:00",
          "2024-01-30T05:00:00+05:00",
          "2024-01-30T06:00:00+05:00",
          "2024-01-30T07:00:00+05:00",
          "2024-01-30T08:00:00+05:00",
          "2024-01-30T09:00:00+05:00",
          "2024-01-30T10:00:00+05:00",
          "2024-01-30T11:00:00+05:00",
          "2024-01-30T12:00:00+05:00",
          "2024-01-30T13:00:00+05:00",
          "2024-01-30T14:00:00+05:00",
          "2024-01-30T15:00:00+05:00",
          "2024-01-30T16:00:00+05:00",
          "2024-01-30T17:00:00+05:00",
          "2024-01-30T18:00:00+05:00",
          "2024-01-30T19:00:00+05:00",
          "2024-01-30T20:00:00+05:00",
          "2024-01-30T21:00:00+05:00",
          "2024-01-30T22:00:00+05:00",
          "2024-01-30T23:00:00+05:00",
          "2024-01-31T00:00:00+05:00",
          "2024-01-31T01:00:00+05:00",
          "2024-01-31T02:00:00+05:00",
          "2024-01-31T03:00:00+05:00",
          "2024-01-31T04:00:00+05:00",
          "2024-01-31T05:00:00+05:00",
          "2024-01-31T06:00:00+05:00",
          "2024-01-31T07:00:00+05:00",
          "2024-01-31T08:00:00+05:00",
          "2024-01-31T09:00:00+05:00",
          "2024-01-31T10:00:00+05:00",
          "2024-01-31T11:00:00+05:00",
          "2024-01-31T12:00:00+05:00",
          "2024-01-31T13:00:00+05:00",
          "2024-01-31T14:00:00+05:00",
          "2024-01-31T15:00:00+05:00",
          "2024-01-31T16:00:00+05:00",
          "2024-01-31T17:00:00+05:00",
          "2024-01-31T18:00:00+05:00",
          "2024-01-31T19:00:00+05:00",
          "2024-01-31T20:00:00+05:00",
          "2024-01-31T21:00:00+05:00",
          "2024-01-31T22:00:00+05:00",
          "2024-01-31T23:00:00+05:00",
          "2024-02-01T00:00:00+05:00",
          "2024-02-01T01:00:00+05:00",
          "2024-02-01T02:00:00+05:00",
          "2024-02-01T03:00:00+05:00",
          "2024-02-01T04:00:00+05:00",
          "2024-02-01T05:00:00+05:00",
          "2024-02-01T06:00:00+05:00",
          "2024-02-01T07:00:00+05:00",
          "2024-02-01T08:00:00+05:00",
          "2024-02-01T09:00:00+05:00",
          "2024-02-01T10:00:00+05:00",
          "2024-02-01T11:00:00+05:00",
          "2024-02-01T12:00:00+05:00",
          "2024-02-01T13:00:00+05:00",
          "2024-02-01T14:00:00+05:00",
          "2024-02-01T15:00:00+05:00",
          "2024-02-01T16:00:00+05:00",
          "2024-02-01T17:00:00+05:00",
          "2024-02-01T18:00:00+05:00",
          "2024-02-01T19:00:00+05:00",
          "2024-02-01T20:00:00+05:00",
          "2024-02-01T21:00:00+05:00",
          "2024-02-01T22:00:00+05:00",
          "2024-02-01T23:00:00+05:00",
          "2024-02-02T00:00:00+05:00",
          "2024-02-02T01:00:00+05:00",
          "2024-02-02T02:00:00+05:00",
          "2024-02-02T03:00:00+05:00",
          "2024-02-02T04:00:00+05:00",
          "2024-02-02T05:00:00+05:00",
          "2024-02-02T06:00:00+05:00",
          "2024-02-02T07:00:00+05:00",
          "2024-02-02T08:00:00+05:00",
          "2024-02-02T09:00:00+05:00",
          "2024-02-02T10:00:00+05:00",
          "2024-02-02T11:00:00+05:00",
          "2024-02-02T12:00:00+05:00",
          "2024-02-02T13:00:00+05:00",
          "2024-02-02T14:00:00+05:00",
          "2024-02-02T15:00:00+05:00",
          "2024-02-02T16:00:00+05:00",
          "2024-02-02T17:00:00+05:00",
          "2024-02-02T18:00:00+05:00",
          "2024-02-02T19:00:00+05:00",
          "2024-02-02T20:00:00+05:00",
          "2024-02-02T21:00:00+05:00",
          "2024-02-02T22:00:00+05:00",
          "2024-02-02T23:00:00+05:00",
          "2024-02-03T00:00:00+05:00",
          "2024-02-03T01:00:00+05:00",
          "2024-02-03T02:00:00+05:00",
          "2024-02-03T03:00:00+05:00",
          "2024-02-03T04:00:00+05:00",
          "2024-02-03T05:00:00+05:00",
          "2024-02-03T06:00:00+05:00",
          "2024-02-03T07:00:00+05:00",
          "2024-02-03T08:00:00+05:00",
          "2024-02-03T09:00:00+05:00",
          "2024-02-03T10:00:00+05:00",
          "2024-02-03T11:00:00+05:00",
          "2024-02-03T12:00:00+05:00",
          "2024-02-03T13:00:00+05:00",
          "2024-02-03T14:00:00+05:00",
          "2024-02-03T15:00:00+05:00",
          "2024-02-03T16:00:00+05:00",
          "2024-02-03T17:00:00+05:00",
          "2024-02-03T18:00:00+05:00",
          "2024-02-03T19:00:00+05:00",
          "2024-02-03T20:00:00+05:00",
          "2024-02-03T21:00:00+05:00",
          "2024-02-03T22:00:00+05:00",
          "2024-02-03T23:00:00+05:00",
          "2024-02-04T00:00:00+05:00",
          "2024-02-04T01:00:00+05:00",
          "2024-02-04T02:00:00+05:00",
          "2024-02-04T03:00:00+05:00",
          "2024-02-04T04:00:00+05:00",
          "2024-02-04T05:00:00+05:00",
          "2024-02-04T06:00:00+05:00",
          "2024-02-04T07:00:00+05:00",
          "2024-02-04T08:00:00+05:00",
          "2024-02-04T09:00:00+05:00",
          "2024-02-04T10:00:00+05:00",
          "2024-02-04T11:00:00+05:00",
          "2024-02-04T12:00:00+05:00",
          "2024-02-04T13:00:00+05:00",
          "2024-02-04T14:00:00+05:00",
          "2024-02-04T15:00:00+05:00",
          "2024-02-04T16:00:00+05:00",
          "2024-02-04T17:00:00+05:00",
          "2024-02-04T18:00:00+05:00",
          "2024-02-04T19:00:00+05:00",
          "2024-02-04T20:00:00+05:00",
          "2024-02-04T21:00:00+05:00",
          "2024-02-04T22:00:00+05:00",
          "2024-02-04T23:00:00+05:00",
          "2024-02-05T00:00:00+05:00",
          "2024-02-05T01:00:00+05:00",
          "2024-02-05T02:00:00+05:00",
          "2024-02-05T03:00:00+05:00",
          "2024-02-05T04:00:00+05:00",
          "2024-02-05T05:00:00+05:00",
          "2024-02-05T06:00:00+05:00",
          "2024-02-05T07:00:00+05:00",
          "2024-02-05T08:00:00+05:00",
          "2024-02-05T09:00:00+05:00",
          "2024-02-05T10:00:00+05:00",
          "2024-02-05T11:00:00+05:00",
          "2024-02-05T12:00:00+05:00",
          "2024-02-05T13:00:00+05:00",
          "2024-02-05T14:00:00+05:00",
          "2024-02-05T15:00:00+05:00",
          "2024-02-05T16:00:00+05:00",
          "2024-02-05T17:00:00+05:00",
          "2024-02-05T18:00:00+05:00",
          "2024-02-05T19:00:00+05:00",
          "2024-02-05T20:00:00+05:00",
          "2024-02-05T21:00:00+05:00",
          "2024-02-05T22:00:00+05:00",
          "2024-02-05T23:00:00+05:00",
          "2024-02-06T00:00:00+05:00",
          "2024-02-06T01:00:00+05:00",
          "2024-02-06T02:00:00+05:00",
          "2024-02-06T03:00:00+05:00",
          "2024-02-06T04:00:00+05:00",
          "2024-02-06T05:00:00+05:00",
          "2024-02-06T06:00:00+05:00",
          "2024-02-06T07:00:00+05:00",
          "2024-02-06T08:00:00+05:00",
          "2024-02-06T09:00:00+05:00",
          "2024-02-06T10:00:00+05:00",
          "2024-02-06T11:00:00+05:00",
          "2024-02-06T12:00:00+05:00",
          "2024-02-06T13:00:00+05:00",
          "2024-02-06T14:00:00+05:00",
          "2024-02-06T15:00:00+05:00",
          "2024-02-06T16:00:00+05:00",
          "2024-02-06T17:00:00+05:00",
          "2024-02-06T18:00:00+05:00",
          "2024-02-06T19:00:00+05:00",
          "2024-02-06T20:00:00+05:00",
          "2024-02-06T21:00:00+05:00",
          "2024-02-06T22:00:00+05:00",
          "2024-02-06T23:00:00+05:00",
          "2024-02-07T00:00:00+05:00",
          "2024-02-07T01:00:00+05:00",
          "2024-02-07T02:00:00+05:00",
          "2024-02-07T03:00:00+05:00",
          "2024-02-07T04:00:00+05:00",
          "2024-02-07T05:00:00+05:00",
          "2024-02-07T06:00:00+05:00",
          "2024-02-07T07:00:00+05:00",
          "2024-02-07T08:00:00+05:00",
          "2024-02-07T09:00:00+05:00",
          "2024-02-07T10:00:00+05:00",
          "2024-02-07T11:00:00+05:00",
          "2024-02-07T12:00:00+05:00",
          "2024-02-07T13:00:00+05:00",
          "2024-02-07T14:00:00+05:00",
          "2024-02-07T15:00:00+05:00",
          "2024-02-07T16:00:00+05:00",
          "2024-02-07T17:00:00+05:00",
          "2024-02-07T18:00:00+05:00",
          "2024-02-07T19:00:00+05:00",
          "2024-02-07T20:00:00+05:00",
          "2024-02-07T21:00:00+05:00",
          "2024-02-07T22:00:00+05:00",
          "2024-02-07T23:00:00+05:00",
          "2024-02-08T00:00:00+05:00",
          "2024-02-08T01:00:00+05:00",
          "2024-02-08T02:00:00+05:00",
          "2024-02-08T03:00:00+05:00",
          "2024-02-08T04:00:00+05:00",
          "2024-02-08T05:00:00+05:00",
          "2024-02-08T06:00:00+05:00",
          "2024-02-08T07:00:00+05:00",
          "2024-02-08T08:00:00+05:00",
          "2024-02-08T09:00:00+05:00",
          "2024-02-08T10:00:00+05:00",
          "2024-02-08T11:00:00+05:00",
          "2024-02-08T12:00:00+05:00",
          "2024-02-08T13:00:00+05:00",
          "2024-02-08T14:00:00+05:00",
          "2024-02-08T15:00:00+05:00",
          "2024-02-08T16:00:00+05:00",
          "2024-02-08T17:00:00+05:00",
          "2024-02-08T18:00:00+05:00",
          "2024-02-08T19:00:00+05:00",
          "2024-02-08T20:00:00+05:00",
          "2024-02-08T21:00:00+05:00",
          "2024-02-08T22:00:00+05:00",
          "2024-02-08T23:00:00+05:00",
          "2024-02-09T00:00:00+05:00",
          "2024-02-09T01:00:00+05:00",
          "2024-02-09T02:00:00+05:00",
          "2024-02-09T03:00:00+05:00",
          "2024-02-09T04:00:00+05:00",
          "2024-02-09T05:00:00+05:00",
          "2024-02-09T06:00:00+05:00",
          "2024-02-09T07:00:00+05:00",
          "2024-02-09T08:00:00+05:00",
          "2024-02-09T09:00:00+05:00",
          "2024-02-09T10:00:00+05:00",
          "2024-02-09T11:00:00+05:00",
          "2024-02-09T12:00:00+05:00",
          "2024-02-09T13:00:00+05:00",
          "2024-02-09T14:00:00+05:00",
          "2024-02-09T15:00:00+05:00",
          "2024-02-09T16:00:00+05:00",
          "2024-02-09T17:00:00+05:00",
          "2024-02-09T18:00:00+05:00"
         ],
         "y": [
          2302,
          2306.6,
          2291.28,
          2291.37,
          2292.4,
          2298.76,
          2264.2,
          2275.25,
          2247.4,
          2257.18,
          2264.43,
          2264,
          2275.94,
          2270.91,
          2250.61,
          2317.66,
          2340.9,
          2344.29,
          2398.63,
          2376.77,
          2347.33,
          2361.51,
          2380.37,
          2386.8,
          2380.51,
          2368.75,
          2364.81,
          2425.62,
          2400.58,
          2402.21,
          2359.61,
          2377.83,
          2386.3,
          2449.3,
          2407.15,
          2436.69,
          2435.04,
          2477.9,
          2484.63,
          2528.14,
          2547.6,
          2584.38,
          2606.43,
          2568.2,
          2580.41,
          2613.01,
          2615.01,
          2596.72,
          2577.23,
          2589.15,
          2615.59,
          2608.68,
          2636.79,
          2657.9,
          2647.02,
          2635.98,
          2681.86,
          2613.19,
          2588,
          2602.45,
          2613.45,
          2622.07,
          2593.93,
          2603.79,
          2615.42,
          2618.01,
          2599.74,
          2593.02,
          2607.72,
          2589.81,
          2594.02,
          2608.79,
          2617.64,
          2595.73,
          2601.93,
          2614.77,
          2620.93,
          2647.59,
          2650.52,
          2673.78,
          2705.75,
          2647.02,
          2620.44,
          2603.05,
          2595.71,
          2584.43,
          2569.36,
          2526.05,
          2498.6,
          2522.54,
          2517.45,
          2525.39,
          2545.97,
          2548.53,
          2547.21,
          2554.33,
          2552.01,
          2550.99,
          2555.59,
          2540.78,
          2531.15,
          2542.5,
          2542.7,
          2542.08,
          2539.54,
          2563.83,
          2557.25,
          2555.63,
          2560.89,
          2571.91,
          2568.76,
          2573.28,
          2578.17,
          2578.19,
          2564.04,
          2569.4,
          2560.5,
          2550.99,
          2543.94,
          2552.64,
          2552.85,
          2550.83,
          2553.12,
          2553.71,
          2542.28,
          2538,
          2537.17,
          2533.81,
          2540.93,
          2537.68,
          2527.46,
          2530.95,
          2531.6,
          2501,
          2508.94,
          2527.2,
          2508.84,
          2472.87,
          2495.6,
          2506.11,
          2506.03,
          2503.32,
          2509.89,
          2518.49,
          2513,
          2513.29,
          2513.19,
          2528.16,
          2535.22,
          2539.35,
          2540.74,
          2538.78,
          2508.01,
          2514.49,
          2523.74,
          2532.38,
          2539.99,
          2534.7,
          2530.61,
          2522.13,
          2513.98,
          2511.78,
          2509.2,
          2514.16,
          2517.5,
          2537.6,
          2530.5,
          2531.04,
          2534.89,
          2528.26,
          2544.02,
          2542.86,
          2533.92,
          2530.77,
          2547.01,
          2525.81,
          2534.31,
          2559.44,
          2575.92,
          2564.05,
          2559.2,
          2574.06,
          2586.87,
          2607.29,
          2593.55,
          2587.4,
          2589.09,
          2578.57,
          2576.64,
          2571.43,
          2568.81,
          2562.73,
          2563.01,
          2552.52,
          2546.84,
          2544.36,
          2553,
          2542.85,
          2552.38,
          2543.77,
          2550.16,
          2539.46,
          2534.76,
          2529.69,
          2532.9,
          2533.29,
          2539.87,
          2526.58,
          2528.61,
          2530.19,
          2530.12,
          2522.69,
          2528.57,
          2529.94,
          2529.86,
          2529.69,
          2533.33,
          2538.99,
          2537.48,
          2539.49,
          2516.24,
          2522.41,
          2512.7,
          2515.55,
          2533.74,
          2525.64,
          2488.29,
          2481.3,
          2463.59,
          2439.5,
          2446.45,
          2457.35,
          2470.53,
          2470.81,
          2467.97,
          2463.15,
          2452.79,
          2460.4,
          2461.9,
          2464.58,
          2471.36,
          2465.51,
          2473.5,
          2482.4,
          2490.7,
          2488.97,
          2485.82,
          2497.16,
          2474.62,
          2462.98,
          2428.41,
          2471.37,
          2496.17,
          2493.37,
          2484.6,
          2489.12,
          2490.9,
          2492,
          2476.12,
          2489.8,
          2486.5,
          2481.22,
          2483,
          2477.54,
          2482.46,
          2478.47,
          2474.63,
          2465.95,
          2470.53,
          2470.59,
          2467.9,
          2471.87,
          2466.65,
          2463.83,
          2458.72,
          2462.08,
          2457.83,
          2461.52,
          2466.94,
          2465.61,
          2471.85,
          2472.01,
          2465.78,
          2469.53,
          2477.11,
          2475.42,
          2474,
          2473.18,
          2469.82,
          2476.06,
          2474.2,
          2477.42,
          2479.98,
          2473.65,
          2471.9,
          2479.36,
          2478.13,
          2468.01,
          2471.8,
          2474.52,
          2474.31,
          2474.26,
          2467.3,
          2473.42,
          2462.18,
          2457.05,
          2462.12,
          2439.38,
          2436.25,
          2437.56,
          2416.61,
          2427.14,
          2430.17,
          2420.8,
          2411.07,
          2389.32,
          2381.35,
          2381.34,
          2377.35,
          2387.85,
          2370.57,
          2379.61,
          2366.04,
          2376.6,
          2366.81,
          2321.87,
          2340.49,
          2327.41,
          2320.62,
          2314.2,
          2326.36,
          2334.3,
          2339.38,
          2339.16,
          2344.47,
          2348.21,
          2345.75,
          2323.49,
          2294.06,
          2216.1,
          2223.35,
          2218.14,
          2224.84,
          2200.28,
          2195.26,
          2219.39,
          2216.59,
          2208.3,
          2189.74,
          2185.7,
          2198.93,
          2203.19,
          2226.41,
          2242.6,
          2244.43,
          2222.93,
          2222.56,
          2213.45,
          2214.18,
          2227.41,
          2232.7,
          2234.51,
          2236.19,
          2238.83,
          2256.2,
          2244.16,
          2234.48,
          2228.19,
          2230.46,
          2234.88,
          2241.8,
          2237.04,
          2216.96,
          2213.13,
          2200.33,
          2217.29,
          2221.38,
          2235.02,
          2234.7,
          2213.32,
          2209.64,
          2216.88,
          2213.38,
          2210.77,
          2223.6,
          2227.64,
          2225.85,
          2222.35,
          2237.98,
          2231.59,
          2209.05,
          2205.69,
          2211.72,
          2188,
          2186,
          2203.28,
          2211,
          2218.21,
          2222.67,
          2219.49,
          2221.41,
          2218.64,
          2216.03,
          2223.77,
          2228.04,
          2223.42,
          2224.35,
          2221.02,
          2213.24,
          2197.47,
          2209.54,
          2206.21,
          2237.6,
          2254.02,
          2247.54,
          2240.89,
          2257.96,
          2257.9,
          2279.55,
          2268.97,
          2266.8,
          2258.51,
          2258.6,
          2259.87,
          2268.01,
          2267.68,
          2280.18,
          2270.57,
          2274.7,
          2274.13,
          2274.75,
          2263.79,
          2264.07,
          2258.45,
          2253.95,
          2265.99,
          2263.23,
          2265.48,
          2263.47,
          2267.79,
          2269.29,
          2270.18,
          2264.08,
          2265.65,
          2266.82,
          2272.69,
          2271.44,
          2272.73,
          2266.46,
          2267.94,
          2267.27,
          2278.83,
          2279.21,
          2287.17,
          2303.58,
          2290.81,
          2287.69,
          2282.92,
          2286.05,
          2294.86,
          2293.52,
          2281.08,
          2276.78,
          2279.07,
          2267.86,
          2270.17,
          2274.45,
          2269.27,
          2261.15,
          2253.89,
          2261.84,
          2263.5,
          2249.39,
          2256.9,
          2257.16,
          2264.45,
          2268.77,
          2272.11,
          2268.5,
          2264.61,
          2267.23,
          2259.4,
          2263.49,
          2273.76,
          2275.58,
          2264.17,
          2256,
          2244.42,
          2244.09,
          2275.8,
          2299.49,
          2302.59,
          2300.13,
          2293.46,
          2302.86,
          2306.32,
          2311.43,
          2317.6,
          2305.07,
          2314.71,
          2317.83,
          2311.4,
          2311.65,
          2304.89,
          2304.1,
          2309.29,
          2308.32,
          2304.39,
          2314.96,
          2314.01,
          2306.71,
          2305.73,
          2313.29,
          2340.91,
          2369.25,
          2370.3,
          2376.73,
          2374.93,
          2373.72,
          2380.03,
          2364.96,
          2343.01,
          2340.43,
          2332.46,
          2338.69,
          2342.91,
          2341.95,
          2338.74,
          2331.91,
          2340.84,
          2339.08,
          2311.2,
          2284,
          2300.18,
          2304.56,
          2312.87,
          2307.4,
          2329.42,
          2345.91,
          2347.27,
          2335.63,
          2323.38,
          2287.98,
          2279,
          2285.75,
          2283.14,
          2283.59,
          2245.19,
          2260.5,
          2257.21,
          2262.77,
          2268.8,
          2274.5,
          2271.96,
          2272.41,
          2267.84,
          2267.91,
          2266.66,
          2270.83,
          2272.09,
          2297.12,
          2288.88,
          2292.07,
          2304.71,
          2295.94,
          2304.79,
          2299.46,
          2304.36,
          2297.05,
          2304.28,
          2310.92,
          2306.61,
          2302.32,
          2301.66,
          2298.34,
          2305.17,
          2310.46,
          2313.73,
          2310.54,
          2309.89,
          2311.85,
          2318.36,
          2314.79,
          2292.02,
          2292.4,
          2313.99,
          2306.06,
          2292.92,
          2294.83,
          2301.41,
          2297.77,
          2296.67,
          2308.89,
          2309.06,
          2313.81,
          2325.91,
          2322.79,
          2321.45,
          2321.39,
          2324.2,
          2321.11,
          2314.39,
          2308.31,
          2315.12,
          2314.12,
          2303.89,
          2305.12,
          2307.36,
          2302.01,
          2303.64,
          2305.78,
          2309,
          2298.76,
          2303.46,
          2302.8,
          2300.56,
          2298.4,
          2296.49,
          2299.39,
          2305.08,
          2303.5,
          2302.96,
          2297.33,
          2300.03,
          2287.5,
          2290.78,
          2290.2,
          2303.39,
          2300.73,
          2305.62,
          2303.36,
          2304.38,
          2299.23,
          2301.68,
          2303.58,
          2306.49,
          2294.45,
          2279.65,
          2303.71,
          2300.48,
          2288.16,
          2289.79,
          2280.5,
          2282.8,
          2281.28,
          2296.27,
          2295,
          2295.46,
          2301.23,
          2310.17,
          2322.41,
          2320.81,
          2322.85,
          2329.62,
          2325.53,
          2330.45,
          2319.03,
          2298.71,
          2301.54,
          2302.36,
          2301.19,
          2304.48,
          2294.62,
          2289.09,
          2294.63,
          2301.83,
          2302.81,
          2307.69,
          2324.29,
          2316.85,
          2314.37,
          2314.02,
          2317.1,
          2327.16,
          2336.7,
          2334.45,
          2326.46,
          2325.49,
          2325.97,
          2337.62,
          2338.47,
          2343.74,
          2346.94,
          2353.84,
          2363.95,
          2379.12,
          2380.29,
          2380.74,
          2381.75,
          2372.64,
          2380.08,
          2376.18,
          2376.06,
          2364.75,
          2360.74,
          2365.61,
          2365.74,
          2362.92,
          2363.25,
          2371.61,
          2370.07,
          2361.66,
          2373.34,
          2372.83,
          2365.89,
          2369.66,
          2398.24,
          2410.26,
          2418.18,
          2419.96,
          2439.38,
          2430.17,
          2425.55,
          2425.1,
          2435.06,
          2441.89,
          2434.74,
          2433.48,
          2427.3,
          2423.11,
          2419.94,
          2421.21,
          2424.4,
          2424.24,
          2422.99,
          2425.3,
          2422.04,
          2425.05,
          2438,
          2453.88,
          2424.6,
          2424.74,
          2430.78,
          2421.53,
          2427.81,
          2425.75,
          2424.28,
          2419.55,
          2423.76,
          2425.17,
          2457.51,
          2448.67,
          2446.21,
          2453.7,
          2448.87,
          2453.61,
          2476.01,
          2466.89,
          2474.59,
          2503.2,
          2514.64,
          2513.27,
          2494.51,
          2495.33,
          2486.77,
          2497.19,
          2508.68
         ]
        }
       ],
       "layout": {
        "annotations": [
         {
          "arrowhead": 1,
          "bgcolor": "#00ff00",
          "bordercolor": "#00ff00",
          "borderpad": 4,
          "borderwidth": 2,
          "showarrow": false,
          "text": "B",
          "x": "2024-01-12T20:00:00+05:00",
          "y": 2440.892
         },
         {
          "arrowhead": 1,
          "bgcolor": "#00ff00",
          "bordercolor": "#00ff00",
          "borderpad": 4,
          "borderwidth": 2,
          "showarrow": false,
          "text": "B",
          "x": "2024-01-12T21:00:00+05:00",
          "y": 2399.7475
         },
         {
          "arrowhead": 1,
          "bgcolor": "#00ff00",
          "bordercolor": "#00ff00",
          "borderpad": 4,
          "borderwidth": 2,
          "showarrow": false,
          "text": "B",
          "x": "2024-02-01T01:00:00+05:00",
          "y": 2132.9305
         },
         {
          "arrowhead": 1,
          "bgcolor": "#ff0000",
          "bordercolor": "#ff0000",
          "borderpad": 4,
          "borderwidth": 2,
          "showarrow": false,
          "text": "S",
          "x": "2024-01-09T22:00:00+05:00",
          "y": 2457.945
         },
         {
          "arrowhead": 1,
          "bgcolor": "#ff0000",
          "bordercolor": "#ff0000",
          "borderpad": 4,
          "borderwidth": 2,
          "showarrow": false,
          "text": "S",
          "x": "2024-01-10T00:00:00+05:00",
          "y": 2518.5615000000003
         },
         {
          "arrowhead": 1,
          "bgcolor": "#ff0000",
          "bordercolor": "#ff0000",
          "borderpad": 4,
          "borderwidth": 2,
          "showarrow": false,
          "text": "S",
          "x": "2024-01-10T01:00:00+05:00",
          "y": 2495.6085000000003
         },
         {
          "arrowhead": 1,
          "bgcolor": "#ff0000",
          "bordercolor": "#ff0000",
          "borderpad": 4,
          "borderwidth": 2,
          "showarrow": false,
          "text": "S",
          "x": "2024-01-10T09:00:00+05:00",
          "y": 2546.901
         },
         {
          "arrowhead": 1,
          "bgcolor": "#ff0000",
          "bordercolor": "#ff0000",
          "borderpad": 4,
          "borderwidth": 2,
          "showarrow": false,
          "text": "S",
          "x": "2024-01-10T15:00:00+05:00",
          "y": 2571.7650000000003
         },
         {
          "arrowhead": 1,
          "bgcolor": "#ff0000",
          "bordercolor": "#ff0000",
          "borderpad": 4,
          "borderwidth": 2,
          "showarrow": false,
          "text": "S",
          "x": "2024-01-10T19:00:00+05:00",
          "y": 2601.795
         },
         {
          "arrowhead": 1,
          "bgcolor": "#ff0000",
          "bordercolor": "#ff0000",
          "borderpad": 4,
          "borderwidth": 2,
          "showarrow": false,
          "text": "S",
          "x": "2024-01-10T20:00:00+05:00",
          "y": 2608.8615000000004
         },
         {
          "arrowhead": 1,
          "bgcolor": "#ff0000",
          "bordercolor": "#ff0000",
          "borderpad": 4,
          "borderwidth": 2,
          "showarrow": false,
          "text": "S",
          "x": "2024-01-10T21:00:00+05:00",
          "y": 2654.547
         },
         {
          "arrowhead": 1,
          "bgcolor": "#ff0000",
          "bordercolor": "#ff0000",
          "borderpad": 4,
          "borderwidth": 2,
          "showarrow": false,
          "text": "S",
          "x": "2024-01-10T22:00:00+05:00",
          "y": 2674.98
         },
         {
          "arrowhead": 1,
          "bgcolor": "#ff0000",
          "bordercolor": "#ff0000",
          "borderpad": 4,
          "borderwidth": 2,
          "showarrow": false,
          "text": "S",
          "x": "2024-01-10T23:00:00+05:00",
          "y": 2713.599
         },
         {
          "arrowhead": 1,
          "bgcolor": "#ff0000",
          "bordercolor": "#ff0000",
          "borderpad": 4,
          "borderwidth": 2,
          "showarrow": false,
          "text": "S",
          "x": "2024-01-11T00:00:00+05:00",
          "y": 2736.7515
         },
         {
          "arrowhead": 1,
          "bgcolor": "#ff0000",
          "bordercolor": "#ff0000",
          "borderpad": 4,
          "borderwidth": 2,
          "showarrow": false,
          "text": "S",
          "x": "2024-01-11T03:00:00+05:00",
          "y": 2743.6605000000004
         },
         {
          "arrowhead": 1,
          "bgcolor": "#ff0000",
          "bordercolor": "#ff0000",
          "borderpad": 4,
          "borderwidth": 2,
          "showarrow": false,
          "text": "S",
          "x": "2024-01-11T04:00:00+05:00",
          "y": 2745.7605000000003
         },
         {
          "arrowhead": 1,
          "bgcolor": "#ff0000",
          "bordercolor": "#ff0000",
          "borderpad": 4,
          "borderwidth": 2,
          "showarrow": false,
          "text": "S",
          "x": "2024-01-11T08:00:00+05:00",
          "y": 2746.3695000000002
         },
         {
          "arrowhead": 1,
          "bgcolor": "#ff0000",
          "bordercolor": "#ff0000",
          "borderpad": 4,
          "borderwidth": 2,
          "showarrow": false,
          "text": "S",
          "x": "2024-01-11T11:00:00+05:00",
          "y": 2790.795
         },
         {
          "arrowhead": 1,
          "bgcolor": "#ff0000",
          "bordercolor": "#ff0000",
          "borderpad": 4,
          "borderwidth": 2,
          "showarrow": false,
          "text": "S",
          "x": "2024-01-11T14:00:00+05:00",
          "y": 2815.9530000000004
         },
         {
          "arrowhead": 1,
          "bgcolor": "#ff0000",
          "bordercolor": "#ff0000",
          "borderpad": 4,
          "borderwidth": 2,
          "showarrow": false,
          "text": "S",
          "x": "2024-01-12T13:00:00+05:00",
          "y": 2807.4690000000005
         },
         {
          "arrowhead": 1,
          "bgcolor": "#ff0000",
          "bordercolor": "#ff0000",
          "borderpad": 4,
          "borderwidth": 2,
          "showarrow": false,
          "text": "S",
          "x": "2024-01-12T14:00:00+05:00",
          "y": 2841.0375
         },
         {
          "arrowhead": 1,
          "bgcolor": "#ff0000",
          "bordercolor": "#ff0000",
          "borderpad": 4,
          "borderwidth": 2,
          "showarrow": false,
          "text": "S",
          "x": "2024-01-26T16:00:00+05:00",
          "y": 2393.5275
         },
         {
          "arrowhead": 1,
          "bgcolor": "#ff0000",
          "bordercolor": "#ff0000",
          "borderpad": 4,
          "borderwidth": 2,
          "showarrow": false,
          "text": "S",
          "x": "2024-01-30T16:00:00+05:00",
          "y": 2487.7125
         },
         {
          "arrowhead": 1,
          "bgcolor": "#ff0000",
          "bordercolor": "#ff0000",
          "borderpad": 4,
          "borderwidth": 2,
          "showarrow": false,
          "text": "S",
          "x": "2024-01-30T17:00:00+05:00",
          "y": 2488.8150000000005
         },
         {
          "arrowhead": 1,
          "bgcolor": "#ff0000",
          "bordercolor": "#ff0000",
          "borderpad": 4,
          "borderwidth": 2,
          "showarrow": false,
          "text": "S",
          "x": "2024-01-30T18:00:00+05:00",
          "y": 2495.5665
         },
         {
          "arrowhead": 1,
          "bgcolor": "#ff0000",
          "bordercolor": "#ff0000",
          "borderpad": 4,
          "borderwidth": 2,
          "showarrow": false,
          "text": "S",
          "x": "2024-01-30T19:00:00+05:00",
          "y": 2493.6765
         },
         {
          "arrowhead": 1,
          "bgcolor": "#ff0000",
          "bordercolor": "#ff0000",
          "borderpad": 4,
          "borderwidth": 2,
          "showarrow": false,
          "text": "S",
          "x": "2024-01-30T20:00:00+05:00",
          "y": 2492.406
         },
         {
          "arrowhead": 1,
          "bgcolor": "#ff0000",
          "bordercolor": "#ff0000",
          "borderpad": 4,
          "borderwidth": 2,
          "showarrow": false,
          "text": "S",
          "x": "2024-01-30T21:00:00+05:00",
          "y": 2499.0315000000005
         },
         {
          "arrowhead": 1,
          "bgcolor": "#ff0000",
          "bordercolor": "#ff0000",
          "borderpad": 4,
          "borderwidth": 2,
          "showarrow": false,
          "text": "S",
          "x": "2024-02-07T20:00:00+05:00",
          "y": 2561.349
         },
         {
          "arrowhead": 1,
          "bgcolor": "#ff0000",
          "bordercolor": "#ff0000",
          "borderpad": 4,
          "borderwidth": 2,
          "showarrow": false,
          "text": "S",
          "x": "2024-02-09T12:00:00+05:00",
          "y": 2640.372
         }
        ],
        "template": {
         "data": {
          "bar": [
           {
            "error_x": {
             "color": "#2a3f5f"
            },
            "error_y": {
             "color": "#2a3f5f"
            },
            "marker": {
             "line": {
              "color": "#E5ECF6",
              "width": 0.5
             },
             "pattern": {
              "fillmode": "overlay",
              "size": 10,
              "solidity": 0.2
             }
            },
            "type": "bar"
           }
          ],
          "barpolar": [
           {
            "marker": {
             "line": {
              "color": "#E5ECF6",
              "width": 0.5
             },
             "pattern": {
              "fillmode": "overlay",
              "size": 10,
              "solidity": 0.2
             }
            },
            "type": "barpolar"
           }
          ],
          "carpet": [
           {
            "aaxis": {
             "endlinecolor": "#2a3f5f",
             "gridcolor": "white",
             "linecolor": "white",
             "minorgridcolor": "white",
             "startlinecolor": "#2a3f5f"
            },
            "baxis": {
             "endlinecolor": "#2a3f5f",
             "gridcolor": "white",
             "linecolor": "white",
             "minorgridcolor": "white",
             "startlinecolor": "#2a3f5f"
            },
            "type": "carpet"
           }
          ],
          "choropleth": [
           {
            "colorbar": {
             "outlinewidth": 0,
             "ticks": ""
            },
            "type": "choropleth"
           }
          ],
          "contour": [
           {
            "colorbar": {
             "outlinewidth": 0,
             "ticks": ""
            },
            "colorscale": [
             [
              0,
              "#0d0887"
             ],
             [
              0.1111111111111111,
              "#46039f"
             ],
             [
              0.2222222222222222,
              "#7201a8"
             ],
             [
              0.3333333333333333,
              "#9c179e"
             ],
             [
              0.4444444444444444,
              "#bd3786"
             ],
             [
              0.5555555555555556,
              "#d8576b"
             ],
             [
              0.6666666666666666,
              "#ed7953"
             ],
             [
              0.7777777777777778,
              "#fb9f3a"
             ],
             [
              0.8888888888888888,
              "#fdca26"
             ],
             [
              1,
              "#f0f921"
             ]
            ],
            "type": "contour"
           }
          ],
          "contourcarpet": [
           {
            "colorbar": {
             "outlinewidth": 0,
             "ticks": ""
            },
            "type": "contourcarpet"
           }
          ],
          "heatmap": [
           {
            "colorbar": {
             "outlinewidth": 0,
             "ticks": ""
            },
            "colorscale": [
             [
              0,
              "#0d0887"
             ],
             [
              0.1111111111111111,
              "#46039f"
             ],
             [
              0.2222222222222222,
              "#7201a8"
             ],
             [
              0.3333333333333333,
              "#9c179e"
             ],
             [
              0.4444444444444444,
              "#bd3786"
             ],
             [
              0.5555555555555556,
              "#d8576b"
             ],
             [
              0.6666666666666666,
              "#ed7953"
             ],
             [
              0.7777777777777778,
              "#fb9f3a"
             ],
             [
              0.8888888888888888,
              "#fdca26"
             ],
             [
              1,
              "#f0f921"
             ]
            ],
            "type": "heatmap"
           }
          ],
          "heatmapgl": [
           {
            "colorbar": {
             "outlinewidth": 0,
             "ticks": ""
            },
            "colorscale": [
             [
              0,
              "#0d0887"
             ],
             [
              0.1111111111111111,
              "#46039f"
             ],
             [
              0.2222222222222222,
              "#7201a8"
             ],
             [
              0.3333333333333333,
              "#9c179e"
             ],
             [
              0.4444444444444444,
              "#bd3786"
             ],
             [
              0.5555555555555556,
              "#d8576b"
             ],
             [
              0.6666666666666666,
              "#ed7953"
             ],
             [
              0.7777777777777778,
              "#fb9f3a"
             ],
             [
              0.8888888888888888,
              "#fdca26"
             ],
             [
              1,
              "#f0f921"
             ]
            ],
            "type": "heatmapgl"
           }
          ],
          "histogram": [
           {
            "marker": {
             "pattern": {
              "fillmode": "overlay",
              "size": 10,
              "solidity": 0.2
             }
            },
            "type": "histogram"
           }
          ],
          "histogram2d": [
           {
            "colorbar": {
             "outlinewidth": 0,
             "ticks": ""
            },
            "colorscale": [
             [
              0,
              "#0d0887"
             ],
             [
              0.1111111111111111,
              "#46039f"
             ],
             [
              0.2222222222222222,
              "#7201a8"
             ],
             [
              0.3333333333333333,
              "#9c179e"
             ],
             [
              0.4444444444444444,
              "#bd3786"
             ],
             [
              0.5555555555555556,
              "#d8576b"
             ],
             [
              0.6666666666666666,
              "#ed7953"
             ],
             [
              0.7777777777777778,
              "#fb9f3a"
             ],
             [
              0.8888888888888888,
              "#fdca26"
             ],
             [
              1,
              "#f0f921"
             ]
            ],
            "type": "histogram2d"
           }
          ],
          "histogram2dcontour": [
           {
            "colorbar": {
             "outlinewidth": 0,
             "ticks": ""
            },
            "colorscale": [
             [
              0,
              "#0d0887"
             ],
             [
              0.1111111111111111,
              "#46039f"
             ],
             [
              0.2222222222222222,
              "#7201a8"
             ],
             [
              0.3333333333333333,
              "#9c179e"
             ],
             [
              0.4444444444444444,
              "#bd3786"
             ],
             [
              0.5555555555555556,
              "#d8576b"
             ],
             [
              0.6666666666666666,
              "#ed7953"
             ],
             [
              0.7777777777777778,
              "#fb9f3a"
             ],
             [
              0.8888888888888888,
              "#fdca26"
             ],
             [
              1,
              "#f0f921"
             ]
            ],
            "type": "histogram2dcontour"
           }
          ],
          "mesh3d": [
           {
            "colorbar": {
             "outlinewidth": 0,
             "ticks": ""
            },
            "type": "mesh3d"
           }
          ],
          "parcoords": [
           {
            "line": {
             "colorbar": {
              "outlinewidth": 0,
              "ticks": ""
             }
            },
            "type": "parcoords"
           }
          ],
          "pie": [
           {
            "automargin": true,
            "type": "pie"
           }
          ],
          "scatter": [
           {
            "fillpattern": {
             "fillmode": "overlay",
             "size": 10,
             "solidity": 0.2
            },
            "type": "scatter"
           }
          ],
          "scatter3d": [
           {
            "line": {
             "colorbar": {
              "outlinewidth": 0,
              "ticks": ""
             }
            },
            "marker": {
             "colorbar": {
              "outlinewidth": 0,
              "ticks": ""
             }
            },
            "type": "scatter3d"
           }
          ],
          "scattercarpet": [
           {
            "marker": {
             "colorbar": {
              "outlinewidth": 0,
              "ticks": ""
             }
            },
            "type": "scattercarpet"
           }
          ],
          "scattergeo": [
           {
            "marker": {
             "colorbar": {
              "outlinewidth": 0,
              "ticks": ""
             }
            },
            "type": "scattergeo"
           }
          ],
          "scattergl": [
           {
            "marker": {
             "colorbar": {
              "outlinewidth": 0,
              "ticks": ""
             }
            },
            "type": "scattergl"
           }
          ],
          "scattermapbox": [
           {
            "marker": {
             "colorbar": {
              "outlinewidth": 0,
              "ticks": ""
             }
            },
            "type": "scattermapbox"
           }
          ],
          "scatterpolar": [
           {
            "marker": {
             "colorbar": {
              "outlinewidth": 0,
              "ticks": ""
             }
            },
            "type": "scatterpolar"
           }
          ],
          "scatterpolargl": [
           {
            "marker": {
             "colorbar": {
              "outlinewidth": 0,
              "ticks": ""
             }
            },
            "type": "scatterpolargl"
           }
          ],
          "scatterternary": [
           {
            "marker": {
             "colorbar": {
              "outlinewidth": 0,
              "ticks": ""
             }
            },
            "type": "scatterternary"
           }
          ],
          "surface": [
           {
            "colorbar": {
             "outlinewidth": 0,
             "ticks": ""
            },
            "colorscale": [
             [
              0,
              "#0d0887"
             ],
             [
              0.1111111111111111,
              "#46039f"
             ],
             [
              0.2222222222222222,
              "#7201a8"
             ],
             [
              0.3333333333333333,
              "#9c179e"
             ],
             [
              0.4444444444444444,
              "#bd3786"
             ],
             [
              0.5555555555555556,
              "#d8576b"
             ],
             [
              0.6666666666666666,
              "#ed7953"
             ],
             [
              0.7777777777777778,
              "#fb9f3a"
             ],
             [
              0.8888888888888888,
              "#fdca26"
             ],
             [
              1,
              "#f0f921"
             ]
            ],
            "type": "surface"
           }
          ],
          "table": [
           {
            "cells": {
             "fill": {
              "color": "#EBF0F8"
             },
             "line": {
              "color": "white"
             }
            },
            "header": {
             "fill": {
              "color": "#C8D4E3"
             },
             "line": {
              "color": "white"
             }
            },
            "type": "table"
           }
          ]
         },
         "layout": {
          "annotationdefaults": {
           "arrowcolor": "#2a3f5f",
           "arrowhead": 0,
           "arrowwidth": 1
          },
          "autotypenumbers": "strict",
          "coloraxis": {
           "colorbar": {
            "outlinewidth": 0,
            "ticks": ""
           }
          },
          "colorscale": {
           "diverging": [
            [
             0,
             "#8e0152"
            ],
            [
             0.1,
             "#c51b7d"
            ],
            [
             0.2,
             "#de77ae"
            ],
            [
             0.3,
             "#f1b6da"
            ],
            [
             0.4,
             "#fde0ef"
            ],
            [
             0.5,
             "#f7f7f7"
            ],
            [
             0.6,
             "#e6f5d0"
            ],
            [
             0.7,
             "#b8e186"
            ],
            [
             0.8,
             "#7fbc41"
            ],
            [
             0.9,
             "#4d9221"
            ],
            [
             1,
             "#276419"
            ]
           ],
           "sequential": [
            [
             0,
             "#0d0887"
            ],
            [
             0.1111111111111111,
             "#46039f"
            ],
            [
             0.2222222222222222,
             "#7201a8"
            ],
            [
             0.3333333333333333,
             "#9c179e"
            ],
            [
             0.4444444444444444,
             "#bd3786"
            ],
            [
             0.5555555555555556,
             "#d8576b"
            ],
            [
             0.6666666666666666,
             "#ed7953"
            ],
            [
             0.7777777777777778,
             "#fb9f3a"
            ],
            [
             0.8888888888888888,
             "#fdca26"
            ],
            [
             1,
             "#f0f921"
            ]
           ],
           "sequentialminus": [
            [
             0,
             "#0d0887"
            ],
            [
             0.1111111111111111,
             "#46039f"
            ],
            [
             0.2222222222222222,
             "#7201a8"
            ],
            [
             0.3333333333333333,
             "#9c179e"
            ],
            [
             0.4444444444444444,
             "#bd3786"
            ],
            [
             0.5555555555555556,
             "#d8576b"
            ],
            [
             0.6666666666666666,
             "#ed7953"
            ],
            [
             0.7777777777777778,
             "#fb9f3a"
            ],
            [
             0.8888888888888888,
             "#fdca26"
            ],
            [
             1,
             "#f0f921"
            ]
           ]
          },
          "colorway": [
           "#636efa",
           "#EF553B",
           "#00cc96",
           "#ab63fa",
           "#FFA15A",
           "#19d3f3",
           "#FF6692",
           "#B6E880",
           "#FF97FF",
           "#FECB52"
          ],
          "font": {
           "color": "#2a3f5f"
          },
          "geo": {
           "bgcolor": "white",
           "lakecolor": "white",
           "landcolor": "#E5ECF6",
           "showlakes": true,
           "showland": true,
           "subunitcolor": "white"
          },
          "hoverlabel": {
           "align": "left"
          },
          "hovermode": "closest",
          "mapbox": {
           "style": "light"
          },
          "paper_bgcolor": "white",
          "plot_bgcolor": "#E5ECF6",
          "polar": {
           "angularaxis": {
            "gridcolor": "white",
            "linecolor": "white",
            "ticks": ""
           },
           "bgcolor": "#E5ECF6",
           "radialaxis": {
            "gridcolor": "white",
            "linecolor": "white",
            "ticks": ""
           }
          },
          "scene": {
           "xaxis": {
            "backgroundcolor": "#E5ECF6",
            "gridcolor": "white",
            "gridwidth": 2,
            "linecolor": "white",
            "showbackground": true,
            "ticks": "",
            "zerolinecolor": "white"
           },
           "yaxis": {
            "backgroundcolor": "#E5ECF6",
            "gridcolor": "white",
            "gridwidth": 2,
            "linecolor": "white",
            "showbackground": true,
            "ticks": "",
            "zerolinecolor": "white"
           },
           "zaxis": {
            "backgroundcolor": "#E5ECF6",
            "gridcolor": "white",
            "gridwidth": 2,
            "linecolor": "white",
            "showbackground": true,
            "ticks": "",
            "zerolinecolor": "white"
           }
          },
          "shapedefaults": {
           "line": {
            "color": "#2a3f5f"
           }
          },
          "ternary": {
           "aaxis": {
            "gridcolor": "white",
            "linecolor": "white",
            "ticks": ""
           },
           "baxis": {
            "gridcolor": "white",
            "linecolor": "white",
            "ticks": ""
           },
           "bgcolor": "#E5ECF6",
           "caxis": {
            "gridcolor": "white",
            "linecolor": "white",
            "ticks": ""
           }
          },
          "title": {
           "x": 0.05
          },
          "xaxis": {
           "automargin": true,
           "gridcolor": "white",
           "linecolor": "white",
           "ticks": "",
           "title": {
            "standoff": 15
           },
           "zerolinecolor": "white",
           "zerolinewidth": 2
          },
          "yaxis": {
           "automargin": true,
           "gridcolor": "white",
           "linecolor": "white",
           "ticks": "",
           "title": {
            "standoff": 15
           },
           "zerolinecolor": "white",
           "zerolinewidth": 2
          }
         }
        }
       }
      }
     },
     "metadata": {},
     "output_type": "display_data"
    }
   ],
   "source": [
    "plotting.chart_with_markers(result_df, 'predicted')"
   ]
  },
  {
   "cell_type": "code",
   "execution_count": null,
   "metadata": {},
   "outputs": [],
   "source": [
    "\n",
    "  "
   ]
  },
  {
   "cell_type": "code",
   "execution_count": null,
   "metadata": {},
   "outputs": [],
   "source": []
  }
 ],
 "metadata": {
  "kernelspec": {
   "display_name": "base",
   "language": "python",
   "name": "python3"
  },
  "language_info": {
   "codemirror_mode": {
    "name": "ipython",
    "version": 3
   },
   "file_extension": ".py",
   "mimetype": "text/x-python",
   "name": "python",
   "nbconvert_exporter": "python",
   "pygments_lexer": "ipython3",
   "version": "3.11.5"
  }
 },
 "nbformat": 4,
 "nbformat_minor": 2
}
