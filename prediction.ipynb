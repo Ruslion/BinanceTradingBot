{
 "cells": [
  {
   "cell_type": "code",
   "execution_count": 41,
   "metadata": {},
   "outputs": [],
   "source": [
    "from tensorflow import keras\n",
    "import database_connect as db_connect\n",
    "import pandas as pd\n",
    "from datetime import timedelta"
   ]
  },
  {
   "cell_type": "code",
   "execution_count": 7,
   "metadata": {},
   "outputs": [],
   "source": [
    "CONFIG = db_connect.load_config()"
   ]
  },
  {
   "cell_type": "code",
   "execution_count": 15,
   "metadata": {},
   "outputs": [],
   "source": [
    "columns = ['id',\n",
    "    'hour_sin',\n",
    " 'hour_cos',\n",
    " 'day_sin',\n",
    " 'day_cos',\n",
    " 'mon_sin',\n",
    " 'mon_cos',\n",
    " 'weekday_sin',\n",
    " 'weekday_cos',\n",
    " 'year',\n",
    " 'RATIO_close_and_MA3',\n",
    " 'RATIO_close_and_MA6',\n",
    " 'RATIO_close_and_MA12',\n",
    " 'RATIO_close_and_MA24',\n",
    " 'RATIO_close_and_MA48',\n",
    " 'RATIO_close_and_MA96',\n",
    " 'RATIO_close_and_MA192',\n",
    " 'RATIO_close_and_MA384',\n",
    " 'RATIO_quote_asset_volume_and_MA3',\n",
    " 'RATIO_quote_asset_volume_and_MA6',\n",
    " 'RATIO_quote_asset_volume_and_MA12',\n",
    " 'RATIO_quote_asset_volume_and_MA24',\n",
    " 'RATIO_quote_asset_volume_and_MA48',\n",
    " 'RATIO_quote_asset_volume_and_MA96',\n",
    " 'RATIO_quote_asset_volume_and_MA192',\n",
    " 'RATIO_quote_asset_volume_and_MA384',\n",
    " 'RATIO_num_trades_and_MA3',\n",
    " 'RATIO_num_trades_and_MA6',\n",
    " 'RATIO_num_trades_and_MA12',\n",
    " 'RATIO_num_trades_and_MA24',\n",
    " 'RATIO_num_trades_and_MA48',\n",
    " 'RATIO_num_trades_and_MA96',\n",
    " 'RATIO_num_trades_and_MA192',\n",
    " 'RATIO_num_trades_and_MA384',\n",
    " 'RATIO_close_and_STD3',\n",
    " 'RATIO_close_and_STD6',\n",
    " 'RATIO_close_and_STD12',\n",
    " 'RATIO_close_and_STD24',\n",
    " 'RATIO_close_and_STD48',\n",
    " 'RATIO_close_and_STD96',\n",
    " 'RATIO_close_and_STD192',\n",
    " 'RATIO_close_and_STD384',\n",
    " 'RSI_3_close',\n",
    " 'RSI_6_close',\n",
    " 'RSI_12_close',\n",
    " 'RSI_24_close',\n",
    " 'RSI_48_close',\n",
    " 'RSI_96_close',\n",
    " 'RSI_192_close',\n",
    " 'RSI_384_close', \n",
    " 'predicted']"
   ]
  },
  {
   "cell_type": "code",
   "execution_count": 4,
   "metadata": {},
   "outputs": [],
   "source": [
    "model = keras.models.load_model('models/02-02-2024 22-12-58 val_PR 0.994 time frame 3.hd5', compile=False)"
   ]
  },
  {
   "cell_type": "code",
   "execution_count": 5,
   "metadata": {},
   "outputs": [
    {
     "name": "stdout",
     "output_type": "stream",
     "text": [
      "Model: \"model_1\"\n",
      "_________________________________________________________________\n",
      " Layer (type)                Output Shape              Param #   \n",
      "=================================================================\n",
      " Input (InputLayer)          [(None, 3, 49)]           0         \n",
      "                                                                 \n",
      " normalization_1 (Normaliza  (None, 3, 49)             99        \n",
      " tion)                                                           \n",
      "                                                                 \n",
      " lstm_2 (LSTM)               (None, 3, 49)             19404     \n",
      "                                                                 \n",
      " lstm_3 (LSTM)               (None, 6)                 1344      \n",
      "                                                                 \n",
      " dense_2 (Dense)             (None, 6)                 42        \n",
      "                                                                 \n",
      " dense_3 (Dense)             (None, 4)                 28        \n",
      "                                                                 \n",
      " output (Dense)              (None, 4)                 20        \n",
      "                                                                 \n",
      "=================================================================\n",
      "Total params: 20937 (81.79 KB)\n",
      "Trainable params: 20838 (81.40 KB)\n",
      "Non-trainable params: 99 (400.00 Byte)\n",
      "_________________________________________________________________\n"
     ]
    }
   ],
   "source": [
    "model.summary()"
   ]
  },
  {
   "cell_type": "code",
   "execution_count": 63,
   "metadata": {},
   "outputs": [
    {
     "name": "stdout",
     "output_type": "stream",
     "text": [
      "Connected to the PostgreSQL server.\n"
     ]
    }
   ],
   "source": [
    "conn = db_connect.connect(CONFIG)"
   ]
  },
  {
   "cell_type": "code",
   "execution_count": 77,
   "metadata": {},
   "outputs": [],
   "source": [
    "sql = 'select min(timestamp) from trading_bot_historydataeth \\\n",
    "        where predicted is null and hour_sin is not null \\\n",
    "        limit 1'"
   ]
  },
  {
   "cell_type": "code",
   "execution_count": 78,
   "metadata": {},
   "outputs": [],
   "source": [
    "with conn.cursor() as cursor:\n",
    "    cursor.execute(sql)\n",
    "    result = cursor.fetchone()"
   ]
  },
  {
   "cell_type": "code",
   "execution_count": 80,
   "metadata": {},
   "outputs": [],
   "source": [
    "result = result[0]"
   ]
  },
  {
   "cell_type": "code",
   "execution_count": 81,
   "metadata": {},
   "outputs": [
    {
     "data": {
      "text/plain": [
       "'2024-01-09 07:00:00'"
      ]
     },
     "execution_count": 81,
     "metadata": {},
     "output_type": "execute_result"
    }
   ],
   "source": [
    "result_str = result.strftime('%Y-%m-%d %H:%M:%S')\n",
    "result_str"
   ]
  },
  {
   "cell_type": "code",
   "execution_count": 82,
   "metadata": {},
   "outputs": [],
   "source": [
    "sql = f\"SELECT * FROM trading_bot_historydataeth \\\n",
    "        WHERE timestamp >= '{result_str}' \\\n",
    "        ORDER BY timestamp;\""
   ]
  },
  {
   "cell_type": "code",
   "execution_count": 83,
   "metadata": {},
   "outputs": [],
   "source": [
    "with conn.cursor() as cursor:\n",
    "    cursor.execute(sql)\n",
    "    result = cursor.fetchall()"
   ]
  },
  {
   "cell_type": "code",
   "execution_count": 84,
   "metadata": {},
   "outputs": [
    {
     "data": {
      "text/plain": [
       "(38191,\n",
       " datetime.datetime(2024, 1, 9, 7, 0, tzinfo=datetime.timezone(datetime.timedelta(seconds=18000))),\n",
       " 2302.0,\n",
       " 2310.64,\n",
       " 2298.58,\n",
       " 2306.6,\n",
       " 6331.7233,\n",
       " 1704790000000,\n",
       " 14591774.01,\n",
       " 13559,\n",
       " 0.9659258262890683,\n",
       " -0.25881904510252085,\n",
       " 0.9510565162951536,\n",
       " -0.30901699437494734,\n",
       " 0.49999999999999994,\n",
       " 0.8660254037844387,\n",
       " 0.7818314824680298,\n",
       " 0.6234898018587336,\n",
       " 2024,\n",
       " 1.00035128957971,\n",
       " 0.9989750104664423,\n",
       " 0.995239038660473,\n",
       " 1.0058934412616478,\n",
       " 1.0210739071555812,\n",
       " 1.0248298873913402,\n",
       " 1.013136380956146,\n",
       " 1.0079882211642606,\n",
       " 0.7885732757532626,\n",
       " 0.732956161611278,\n",
       " 0.4653591645657934,\n",
       " 0.310975557345064,\n",
       " 0.38577078152515176,\n",
       " 0.47220234804195693,\n",
       " 0.37240879962283957,\n",
       " 0.3907881626750921,\n",
       " 0.732562537144092,\n",
       " 0.6945853183750832,\n",
       " 0.4871394910885101,\n",
       " 0.3435158501440922,\n",
       " 0.3870958532581543,\n",
       " 0.46925158124888466,\n",
       " 0.39762038223564933,\n",
       " 0.4070589164262291,\n",
       " 667.2412445236877,\n",
       " 508.5179715216741,\n",
       " 169.73353966464228,\n",
       " 56.71755321926045,\n",
       " 49.12727679528492,\n",
       " 66.16669987138461,\n",
       " 39.41812305870153,\n",
       " 42.355636851716795,\n",
       " 25.842696629213364,\n",
       " 45.33468559837676,\n",
       " 20.813047711781493,\n",
       " 65.91943822825841,\n",
       " 56.02112897478357,\n",
       " 53.489366665370696,\n",
       " 50.631948406729244,\n",
       " 50.17554284882699,\n",
       " None)"
      ]
     },
     "execution_count": 84,
     "metadata": {},
     "output_type": "execute_result"
    }
   ],
   "source": [
    "result[0]"
   ]
  },
  {
   "cell_type": "code",
   "execution_count": 19,
   "metadata": {},
   "outputs": [
    {
     "ename": "ValueError",
     "evalue": "51 columns passed, passed data had 60 columns",
     "output_type": "error",
     "traceback": [
      "\u001b[1;31m---------------------------------------------------------------------------\u001b[0m",
      "\u001b[1;31mAssertionError\u001b[0m                            Traceback (most recent call last)",
      "File \u001b[1;32mc:\\Users\\user\\miniconda3\\Lib\\site-packages\\pandas\\core\\internals\\construction.py:939\u001b[0m, in \u001b[0;36m_finalize_columns_and_data\u001b[1;34m(content, columns, dtype)\u001b[0m\n\u001b[0;32m    938\u001b[0m \u001b[38;5;28;01mtry\u001b[39;00m:\n\u001b[1;32m--> 939\u001b[0m     columns \u001b[38;5;241m=\u001b[39m _validate_or_indexify_columns(contents, columns)\n\u001b[0;32m    940\u001b[0m \u001b[38;5;28;01mexcept\u001b[39;00m \u001b[38;5;167;01mAssertionError\u001b[39;00m \u001b[38;5;28;01mas\u001b[39;00m err:\n\u001b[0;32m    941\u001b[0m     \u001b[38;5;66;03m# GH#26429 do not raise user-facing AssertionError\u001b[39;00m\n",
      "File \u001b[1;32mc:\\Users\\user\\miniconda3\\Lib\\site-packages\\pandas\\core\\internals\\construction.py:986\u001b[0m, in \u001b[0;36m_validate_or_indexify_columns\u001b[1;34m(content, columns)\u001b[0m\n\u001b[0;32m    984\u001b[0m \u001b[38;5;28;01mif\u001b[39;00m \u001b[38;5;129;01mnot\u001b[39;00m is_mi_list \u001b[38;5;129;01mand\u001b[39;00m \u001b[38;5;28mlen\u001b[39m(columns) \u001b[38;5;241m!=\u001b[39m \u001b[38;5;28mlen\u001b[39m(content):  \u001b[38;5;66;03m# pragma: no cover\u001b[39;00m\n\u001b[0;32m    985\u001b[0m     \u001b[38;5;66;03m# caller's responsibility to check for this...\u001b[39;00m\n\u001b[1;32m--> 986\u001b[0m     \u001b[38;5;28;01mraise\u001b[39;00m \u001b[38;5;167;01mAssertionError\u001b[39;00m(\n\u001b[0;32m    987\u001b[0m         \u001b[38;5;124mf\u001b[39m\u001b[38;5;124m\"\u001b[39m\u001b[38;5;132;01m{\u001b[39;00m\u001b[38;5;28mlen\u001b[39m(columns)\u001b[38;5;132;01m}\u001b[39;00m\u001b[38;5;124m columns passed, passed data had \u001b[39m\u001b[38;5;124m\"\u001b[39m\n\u001b[0;32m    988\u001b[0m         \u001b[38;5;124mf\u001b[39m\u001b[38;5;124m\"\u001b[39m\u001b[38;5;132;01m{\u001b[39;00m\u001b[38;5;28mlen\u001b[39m(content)\u001b[38;5;132;01m}\u001b[39;00m\u001b[38;5;124m columns\u001b[39m\u001b[38;5;124m\"\u001b[39m\n\u001b[0;32m    989\u001b[0m     )\n\u001b[0;32m    990\u001b[0m \u001b[38;5;28;01mif\u001b[39;00m is_mi_list:\n\u001b[0;32m    991\u001b[0m     \u001b[38;5;66;03m# check if nested list column, length of each sub-list should be equal\u001b[39;00m\n",
      "\u001b[1;31mAssertionError\u001b[0m: 51 columns passed, passed data had 60 columns",
      "\nThe above exception was the direct cause of the following exception:\n",
      "\u001b[1;31mValueError\u001b[0m                                Traceback (most recent call last)",
      "Cell \u001b[1;32mIn[19], line 1\u001b[0m\n\u001b[1;32m----> 1\u001b[0m df_predict \u001b[38;5;241m=\u001b[39m pd\u001b[38;5;241m.\u001b[39mDataFrame(result, columns\u001b[38;5;241m=\u001b[39mcolumns)\n",
      "File \u001b[1;32mc:\\Users\\user\\miniconda3\\Lib\\site-packages\\pandas\\core\\frame.py:809\u001b[0m, in \u001b[0;36mDataFrame.__init__\u001b[1;34m(self, data, index, columns, dtype, copy)\u001b[0m\n\u001b[0;32m    807\u001b[0m     \u001b[38;5;28;01mif\u001b[39;00m columns \u001b[38;5;129;01mis\u001b[39;00m \u001b[38;5;129;01mnot\u001b[39;00m \u001b[38;5;28;01mNone\u001b[39;00m:\n\u001b[0;32m    808\u001b[0m         columns \u001b[38;5;241m=\u001b[39m ensure_index(columns)\n\u001b[1;32m--> 809\u001b[0m     arrays, columns, index \u001b[38;5;241m=\u001b[39m nested_data_to_arrays(\n\u001b[0;32m    810\u001b[0m         \u001b[38;5;66;03m# error: Argument 3 to \"nested_data_to_arrays\" has incompatible\u001b[39;00m\n\u001b[0;32m    811\u001b[0m         \u001b[38;5;66;03m# type \"Optional[Collection[Any]]\"; expected \"Optional[Index]\"\u001b[39;00m\n\u001b[0;32m    812\u001b[0m         data,\n\u001b[0;32m    813\u001b[0m         columns,\n\u001b[0;32m    814\u001b[0m         index,  \u001b[38;5;66;03m# type: ignore[arg-type]\u001b[39;00m\n\u001b[0;32m    815\u001b[0m         dtype,\n\u001b[0;32m    816\u001b[0m     )\n\u001b[0;32m    817\u001b[0m     mgr \u001b[38;5;241m=\u001b[39m arrays_to_mgr(\n\u001b[0;32m    818\u001b[0m         arrays,\n\u001b[0;32m    819\u001b[0m         columns,\n\u001b[1;32m   (...)\u001b[0m\n\u001b[0;32m    822\u001b[0m         typ\u001b[38;5;241m=\u001b[39mmanager,\n\u001b[0;32m    823\u001b[0m     )\n\u001b[0;32m    824\u001b[0m \u001b[38;5;28;01melse\u001b[39;00m:\n",
      "File \u001b[1;32mc:\\Users\\user\\miniconda3\\Lib\\site-packages\\pandas\\core\\internals\\construction.py:520\u001b[0m, in \u001b[0;36mnested_data_to_arrays\u001b[1;34m(data, columns, index, dtype)\u001b[0m\n\u001b[0;32m    517\u001b[0m \u001b[38;5;28;01mif\u001b[39;00m is_named_tuple(data[\u001b[38;5;241m0\u001b[39m]) \u001b[38;5;129;01mand\u001b[39;00m columns \u001b[38;5;129;01mis\u001b[39;00m \u001b[38;5;28;01mNone\u001b[39;00m:\n\u001b[0;32m    518\u001b[0m     columns \u001b[38;5;241m=\u001b[39m ensure_index(data[\u001b[38;5;241m0\u001b[39m]\u001b[38;5;241m.\u001b[39m_fields)\n\u001b[1;32m--> 520\u001b[0m arrays, columns \u001b[38;5;241m=\u001b[39m to_arrays(data, columns, dtype\u001b[38;5;241m=\u001b[39mdtype)\n\u001b[0;32m    521\u001b[0m columns \u001b[38;5;241m=\u001b[39m ensure_index(columns)\n\u001b[0;32m    523\u001b[0m \u001b[38;5;28;01mif\u001b[39;00m index \u001b[38;5;129;01mis\u001b[39;00m \u001b[38;5;28;01mNone\u001b[39;00m:\n",
      "File \u001b[1;32mc:\\Users\\user\\miniconda3\\Lib\\site-packages\\pandas\\core\\internals\\construction.py:845\u001b[0m, in \u001b[0;36mto_arrays\u001b[1;34m(data, columns, dtype)\u001b[0m\n\u001b[0;32m    842\u001b[0m     data \u001b[38;5;241m=\u001b[39m [\u001b[38;5;28mtuple\u001b[39m(x) \u001b[38;5;28;01mfor\u001b[39;00m x \u001b[38;5;129;01min\u001b[39;00m data]\n\u001b[0;32m    843\u001b[0m     arr \u001b[38;5;241m=\u001b[39m _list_to_arrays(data)\n\u001b[1;32m--> 845\u001b[0m content, columns \u001b[38;5;241m=\u001b[39m _finalize_columns_and_data(arr, columns, dtype)\n\u001b[0;32m    846\u001b[0m \u001b[38;5;28;01mreturn\u001b[39;00m content, columns\n",
      "File \u001b[1;32mc:\\Users\\user\\miniconda3\\Lib\\site-packages\\pandas\\core\\internals\\construction.py:942\u001b[0m, in \u001b[0;36m_finalize_columns_and_data\u001b[1;34m(content, columns, dtype)\u001b[0m\n\u001b[0;32m    939\u001b[0m     columns \u001b[38;5;241m=\u001b[39m _validate_or_indexify_columns(contents, columns)\n\u001b[0;32m    940\u001b[0m \u001b[38;5;28;01mexcept\u001b[39;00m \u001b[38;5;167;01mAssertionError\u001b[39;00m \u001b[38;5;28;01mas\u001b[39;00m err:\n\u001b[0;32m    941\u001b[0m     \u001b[38;5;66;03m# GH#26429 do not raise user-facing AssertionError\u001b[39;00m\n\u001b[1;32m--> 942\u001b[0m     \u001b[38;5;28;01mraise\u001b[39;00m \u001b[38;5;167;01mValueError\u001b[39;00m(err) \u001b[38;5;28;01mfrom\u001b[39;00m \u001b[38;5;21;01merr\u001b[39;00m\n\u001b[0;32m    944\u001b[0m \u001b[38;5;28;01mif\u001b[39;00m \u001b[38;5;28mlen\u001b[39m(contents) \u001b[38;5;129;01mand\u001b[39;00m contents[\u001b[38;5;241m0\u001b[39m]\u001b[38;5;241m.\u001b[39mdtype \u001b[38;5;241m==\u001b[39m np\u001b[38;5;241m.\u001b[39mobject_:\n\u001b[0;32m    945\u001b[0m     contents \u001b[38;5;241m=\u001b[39m convert_object_array(contents, dtype\u001b[38;5;241m=\u001b[39mdtype)\n",
      "\u001b[1;31mValueError\u001b[0m: 51 columns passed, passed data had 60 columns"
     ]
    }
   ],
   "source": [
    "df_predict = pd.DataFrame(result, columns=columns)"
   ]
  },
  {
   "cell_type": "code",
   "execution_count": null,
   "metadata": {},
   "outputs": [],
   "source": []
  },
  {
   "cell_type": "code",
   "execution_count": null,
   "metadata": {},
   "outputs": [],
   "source": [
    "model.predict()"
   ]
  }
 ],
 "metadata": {
  "kernelspec": {
   "display_name": "base",
   "language": "python",
   "name": "python3"
  },
  "language_info": {
   "codemirror_mode": {
    "name": "ipython",
    "version": 3
   },
   "file_extension": ".py",
   "mimetype": "text/x-python",
   "name": "python",
   "nbconvert_exporter": "python",
   "pygments_lexer": "ipython3",
   "version": "3.11.5"
  }
 },
 "nbformat": 4,
 "nbformat_minor": 2
}
